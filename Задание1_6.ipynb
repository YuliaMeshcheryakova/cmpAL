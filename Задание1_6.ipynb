{
  "nbformat": 4,
  "nbformat_minor": 0,
  "metadata": {
    "colab": {
      "provenance": [],
      "collapsed_sections": [
        "b_0wUYskYqIZ"
      ],
      "include_colab_link": true
    },
    "kernelspec": {
      "name": "python3",
      "display_name": "Python 3"
    },
    "language_info": {
      "name": "python"
    }
  },
  "cells": [
    {
      "cell_type": "markdown",
      "metadata": {
        "id": "view-in-github",
        "colab_type": "text"
      },
      "source": [
        "<a href=\"https://colab.research.google.com/github/YuliaMeshcheryakova/cmpAL/blob/main/%D0%97%D0%B0%D0%B4%D0%B0%D0%BD%D0%B8%D0%B51_6.ipynb\" target=\"_parent\"><img src=\"https://colab.research.google.com/assets/colab-badge.svg\" alt=\"Open In Colab\"/></a>"
      ]
    },
    {
      "cell_type": "code",
      "execution_count": 3,
      "metadata": {
        "id": "26JIWwdJYNg5"
      },
      "outputs": [],
      "source": [
        "from IPython.display import display, Math\n",
        "import numpy as np"
      ]
    },
    {
      "cell_type": "markdown",
      "source": [
        "Определяем функцию для создания узла дерева для хранения целых чисел"
      ],
      "metadata": {
        "id": "1Vu_-LZub4gS"
      }
    },
    {
      "cell_type": "code",
      "source": [
        "def integer_(x: int) -> tuple:\n",
        "  return 'integer', {'value': x}\n",
        "\n",
        "a = integer_(-34)\n",
        "a"
      ],
      "metadata": {
        "colab": {
          "base_uri": "https://localhost:8080/"
        },
        "id": "cpRvPwf5ZB-y",
        "outputId": "bfe25598-b5b0-4868-eadc-d1ebef8f0f0d"
      },
      "execution_count": 4,
      "outputs": [
        {
          "output_type": "execute_result",
          "data": {
            "text/plain": [
              "('integer', {'value': -34})"
            ]
          },
          "metadata": {},
          "execution_count": 4
        }
      ]
    },
    {
      "cell_type": "markdown",
      "source": [
        "ID(x) - возвращает идентификатор узла\n",
        "\n",
        "items(x) - возвращает список дочерних узлов\n",
        "\n",
        "options(x) - возвращает словарь с параметрами узла\n",
        "\n",
        "isTerminal(x) - возвращает True, если узел --- лист, т.е. не содержит дочерних узлов"
      ],
      "metadata": {
        "id": "r8tCM7w2b_TT"
      }
    },
    {
      "cell_type": "code",
      "source": [
        "def ID(x: tuple) -> str:\n",
        "  return x[0]\n",
        "\n",
        "def items(x: tuple) -> list:\n",
        "  return x[1 :-1]\n",
        "\n",
        "def options(x: tuple) -> dict:\n",
        "  return x[-1]\n",
        "\n",
        "def isTerminal(x: tuple) -> bool:\n",
        "  return len(items(x))==0\n",
        "\n",
        "ID(a), items(a), options(a), isTerminal(a)"
      ],
      "metadata": {
        "colab": {
          "base_uri": "https://localhost:8080/"
        },
        "id": "IBhXKvk-ZEJp",
        "outputId": "b61d6f31-ca90-4743-9174-36b079df8775"
      },
      "execution_count": 5,
      "outputs": [
        {
          "output_type": "execute_result",
          "data": {
            "text/plain": [
              "('integer', (), {'value': -34}, True)"
            ]
          },
          "metadata": {},
          "execution_count": 5
        }
      ]
    },
    {
      "cell_type": "markdown",
      "source": [
        "Определяем функции для преобразования узла в LaTeX-выражение"
      ],
      "metadata": {
        "id": "sQ0xryRfcIN5"
      }
    },
    {
      "cell_type": "code",
      "source": [
        "def latex_(x: tuple) -> str:\n",
        "  cmd = eval(f\"latex_{ID(x)}\")\n",
        "  return cmd(x)\n",
        "\n",
        "def latex_integer(x: tuple) -> str:\n",
        "  return f\"{options(x)['value']}\"\n",
        "\n",
        "latex_(a)"
      ],
      "metadata": {
        "colab": {
          "base_uri": "https://localhost:8080/"
        },
        "id": "pMZF53t7ZEUZ",
        "outputId": "6437868f-f4a0-4ff4-84de-3914d190424a"
      },
      "execution_count": 6,
      "outputs": [
        {
          "output_type": "execute_result",
          "data": {
            "text/plain": [
              "'-34'"
            ],
            "application/vnd.google.colaboratory.intrinsic+json": {
              "type": "string"
            }
          },
          "metadata": {},
          "execution_count": 6
        }
      ]
    },
    {
      "cell_type": "markdown",
      "source": [
        "Определяем функцию show_ для визуализации формулы, представленной деревом x"
      ],
      "metadata": {
        "id": "rwQaShLGcMUZ"
      }
    },
    {
      "cell_type": "code",
      "source": [
        "def show_(x: tuple) -> None:\n",
        "  display(Math(latex_(x)))\n",
        "\n",
        "show_(integer_(-123))\n",
        "print(-123)"
      ],
      "metadata": {
        "colab": {
          "base_uri": "https://localhost:8080/"
        },
        "id": "h_YzPY9XZEb5",
        "outputId": "9f5d5fd5-f37f-4d93-d481-7803d887e84c"
      },
      "execution_count": 7,
      "outputs": [
        {
          "output_type": "display_data",
          "data": {
            "text/plain": [
              "<IPython.core.display.Math object>"
            ],
            "text/latex": "$\\displaystyle -123$"
          },
          "metadata": {}
        },
        {
          "output_type": "stream",
          "name": "stdout",
          "text": [
            "-123\n"
          ]
        }
      ]
    },
    {
      "cell_type": "code",
      "source": [
        "def symbol_(x: str) -> tuple:\n",
        "  greek = ['alpha', 'beta', 'gamma','delta', 'epsilon', 'zeta', 'eta', 'theta',\n",
        "           'iota', 'kappa', 'lambda', 'mu', 'nu', 'xi', 'o', 'pi', 'rho', 'sigma',\n",
        "           'tau', 'upsilon', 'phi', 'chi', 'psi', 'omega',\n",
        "           'A', 'B', 'Gamma', 'Delta', 'varepsilon', 'Epsilon', 'Z', 'H', 'vartheta', 'Theta',\n",
        "           'I', 'K', 'Lambda', 'M', 'N', 'Xi', 'O', 'Pi', 'varrho', 'P', 'Sigma',\n",
        "           'T', 'Upsilon', 'varphi', 'Phi', 'X', 'Psi', 'Omega']\n",
        "  n, s = x.split('_') if '_' in x else (x, '')\n",
        "  if n in greek:\n",
        "    n = f\"\\\\{n}\"\n",
        "  if s:\n",
        "    n = f\"{n}_{{{s}}}\"\n",
        "  return 'symbol', {'name': x, 'latex': n}\n",
        "\n",
        "def latex_symbol(x: tuple) -> str:\n",
        "  return options(x)['latex']\n",
        "\n",
        "x, alpha = symbol_('x_1'), symbol_('alpha')\n",
        "show_(x)\n",
        "show_(alpha)"
      ],
      "metadata": {
        "colab": {
          "base_uri": "https://localhost:8080/"
        },
        "id": "CMMa9sk6cOkg",
        "outputId": "8e119616-78c3-4bcd-a80f-f62280a60c38"
      },
      "execution_count": 8,
      "outputs": [
        {
          "output_type": "display_data",
          "data": {
            "text/plain": [
              "<IPython.core.display.Math object>"
            ],
            "text/latex": "$\\displaystyle x_{1}$"
          },
          "metadata": {}
        },
        {
          "output_type": "display_data",
          "data": {
            "text/plain": [
              "<IPython.core.display.Math object>"
            ],
            "text/latex": "$\\displaystyle \\alpha$"
          },
          "metadata": {}
        }
      ]
    },
    {
      "cell_type": "code",
      "source": [
        "def add_(x: tuple, y: tuple) -> tuple:\n",
        "  return 'add', x, y, {}\n",
        "\n",
        "def sub_(x: tuple, y: tuple) -> tuple:\n",
        "  return 'sub', x, y, {}\n",
        "\n",
        "def mul_(x: tuple, y: tuple) -> tuple:\n",
        "  return 'mul', x, y, {}\n",
        "\n",
        "def div_(x: tuple, y: tuple) -> tuple:\n",
        "  return 'div', x, y, {}\n",
        "\n",
        "def deg_(x: tuple, y: tuple) -> tuple:\n",
        "  return 'deg', x, y, {}\n",
        "\n",
        "def and_(x: tuple, y: tuple) -> tuple:\n",
        "  return 'and', x, y, {}\n",
        "\n",
        "def or_(x: tuple, y: tuple) -> tuple:\n",
        "  return 'or', x, y, {}\n",
        "\n",
        "def xor_(x: tuple, y: tuple) -> tuple:\n",
        "  return 'xor', x, y, {}\n",
        "\n",
        "def eq_(x: tuple, y: tuple) -> tuple:\n",
        "  return 'eq', x, y, {}\n",
        "\n",
        "def ne_(x: tuple, y: tuple) -> tuple:\n",
        "  return 'ne', x, y, {}\n",
        "\n",
        "def lt_(x: tuple, y: tuple) -> tuple:\n",
        "  return 'lt', x, y, {}\n",
        "\n",
        "def le_(x: tuple, y: tuple) -> tuple:\n",
        "  return 'le', x, y, {}\n",
        "\n",
        "def gt_(x: tuple, y: tuple) -> tuple:\n",
        "  return 'gt', x, y, {}\n",
        "\n",
        "def ge_(x: tuple, y: tuple) -> tuple:\n",
        "  return 'ge', x, y, {}\n",
        "\n",
        "def neg_(x: tuple) -> tuple:\n",
        "  return 'neg', x, {}\n",
        "\n",
        "def inv_(x: tuple) -> tuple:\n",
        "  return 'inv', x, {}"
      ],
      "metadata": {
        "id": "Gc0RVLHTb11b"
      },
      "execution_count": 9,
      "outputs": []
    },
    {
      "cell_type": "code",
      "source": [
        "a = integer_(34)\n",
        "x = symbol_('x')\n",
        "y = symbol_('y')\n",
        "f = mul_(add_(a, x), y)\n",
        "print(f)"
      ],
      "metadata": {
        "colab": {
          "base_uri": "https://localhost:8080/"
        },
        "id": "zuoNj-Bze3sn",
        "outputId": "18891fe1-e5bb-43f9-c7d2-cd368e99bdf7"
      },
      "execution_count": 10,
      "outputs": [
        {
          "output_type": "stream",
          "name": "stdout",
          "text": [
            "('mul', ('add', ('integer', {'value': 34}), ('symbol', {'name': 'x', 'latex': 'x'}), {}), ('symbol', {'name': 'y', 'latex': 'y'}), {})\n"
          ]
        }
      ]
    },
    {
      "cell_type": "code",
      "source": [
        "priority = {'deg': 9, 'neg': 8, 'inv': 8, 'mul': 7, 'div': 7, 'add' : 6,'sub' : 6, 'and': 5, 'xor': 4, 'or': 3, 'eq': 2, 'ne': 2, 'lt': 2, 'le': 2, 'gt': 2, 'ge': 2}\n",
        "\n",
        "def Pr(x: tuple) -> int:\n",
        "  return priority.get(ID(x), 10)\n",
        "\n",
        "print(Pr(f))"
      ],
      "metadata": {
        "colab": {
          "base_uri": "https://localhost:8080/"
        },
        "id": "LueWsARag3lM",
        "outputId": "f1fa28a1-5723-4ae7-887f-8ec796cc32a2"
      },
      "execution_count": 11,
      "outputs": [
        {
          "output_type": "stream",
          "name": "stdout",
          "text": [
            "7\n"
          ]
        }
      ]
    },
    {
      "cell_type": "code",
      "source": [
        "def enclose(x: str) -> str:\n",
        "  return f\"\\\\left( {x} \\\\right)\""
      ],
      "metadata": {
        "id": "z9Lfhedcj_qp"
      },
      "execution_count": 12,
      "outputs": []
    },
    {
      "cell_type": "code",
      "source": [
        "def latex_add(x: tuple) -> str:\n",
        "  a, b = latex_(x[1]), latex_(x[2])\n",
        "  if Pr(x[1]) < Pr(x):\n",
        "    a = enclose(a)\n",
        "  if Pr(x[2]) <= Pr(x):\n",
        "    b = enclose(b)\n",
        "  return f\"{{{a}}} + {{{b}}}\"\n",
        "\n",
        "def latex_mul(x: tuple) -> str:\n",
        "  a, b = latex_(x[1]), latex_(x[2])\n",
        "  if Pr(x[1]) < Pr(x):\n",
        "    a = enclose(a)\n",
        "  if Pr(x[2]) <= Pr(x) or options(x[2]).get('value', 1)<0 or ID(x[2])=='neg':\n",
        "    b = enclose(b)\n",
        "  return f\"{{{a}}} \\\\cdot {{{b}}}\"\n",
        "\n",
        "def latex_div(x: tuple) -> str:\n",
        "  a, b = latex_(x[1]), latex_(x[2])\n",
        "  return f\"\\\\frac{{{a}}}{{{b}}}\"\n",
        "\n",
        "def latex_sub(x: tuple) -> str:\n",
        "  a, b = latex_(x[1]), latex_(x[2])\n",
        "  if Pr(x[1]) < Pr(x):\n",
        "    a = enclose(a)\n",
        "  if Pr(x[2]) <= Pr(x)or ((not isinstance(options(x[2]),tuple)) and options(x[2]).get('value', 1) < 0) or ID(x[2]) == 'neg':\n",
        "    b = enclose(b)\n",
        "  return f\"{{{a}}} - {{{b}}}\"\n",
        "\n",
        "def latex_deg(x: tuple) -> str:\n",
        "  a, b = latex_(x[1]), latex_(x[2])\n",
        "  if Pr(x[1]) < Pr(x) or x[1][0] == 'rational':\n",
        "    a = enclose(a)\n",
        "  if Pr(x[2]) <= Pr(x):\n",
        "    b = enclose(b)\n",
        "  return f\"{{{a}}}^{{{b}}}\"\n",
        "\n",
        "def latex_inv(x: tuple) -> str:\n",
        "  a = latex_(x[1])\n",
        "  if options(x[1]).get('value', 1)<0 or ID(x[1])=='neg':\n",
        "    a = enclose(a)\n",
        "  return f\"\\\\neg {{{a}}}\"\n",
        "\n",
        "def latex_neg(x: tuple) -> str:\n",
        "  a = latex_(x[1])\n",
        "  if (isinstance(options(x[1]).get('value', 1), int) and options(x[1]).get('value', 1) < 0) or ID(x[1]) == 'neg':\n",
        "    a = enclose(a)\n",
        "  return f\" -{{{a}}}\"\n",
        "\n",
        "def latex_and(x: tuple) -> str:\n",
        "  a, b = latex_(x[1]), latex_(x[2])\n",
        "  if Pr(x[1]) < Pr(x):\n",
        "    a = enclose(a)\n",
        "  if Pr(x[2]) <= Pr(x)or options(x[2]).get('value', 1)<0 or ID(x[2])=='neg':\n",
        "    b = enclose(b)\n",
        "  return f\"{{{a}}} \\wedge {{{b}}}\"\n",
        "\n",
        "def latex_or(x: tuple) -> str:\n",
        "  a, b = latex_(x[1]), latex_(x[2])\n",
        "  if Pr(x[1]) < Pr(x):\n",
        "    a = enclose(a)\n",
        "  if Pr(x[2]) <= Pr(x)or options(x[2]).get('value', 1)<0 or ID(x[2])=='neg':\n",
        "    b = enclose(b)\n",
        "  return f\"{{{a}}} \\vee {{{b}}}\"\n",
        "\n",
        "def latex_xor(x: tuple) -> str:\n",
        "  a, b = latex_(x[1]), latex_(x[2])\n",
        "  if Pr(x[1]) < Pr(x):\n",
        "    a = enclose(a)\n",
        "  if Pr(x[2]) <= Pr(x)or options(x[2]).get('value', 1)<0 or ID(x[2])=='neg':\n",
        "    b = enclose(b)\n",
        "  return f\"{a} \\oplus {b}\"\n",
        "\n",
        "def latex_eq(x: tuple) -> str:\n",
        "  a, b = latex_(x[1]), latex_(x[2])\n",
        "  if Pr(x[1]) < Pr(x):\n",
        "    a = enclose(a)\n",
        "  if Pr(x[2]) <= Pr(x):\n",
        "    b = enclose(b)\n",
        "  return f\"{{{a}}} = {{{b}}}\"\n",
        "\n",
        "def latex_ne(x: tuple) -> str:\n",
        "  a, b = latex_(x[1]), latex_(x[2])\n",
        "  if Pr(x[1]) < Pr(x):\n",
        "    a = enclose(a)\n",
        "  if Pr(x[2]) <= Pr(x):\n",
        "    b = enclose(b)\n",
        "  return f\"{{{a}}} \\\\neq {{{b}}}\"\n",
        "\n",
        "def latex_lt(x: tuple) -> str:\n",
        "  a, b = latex_(x[1]), latex_(x[2])\n",
        "  if Pr(x[1]) < Pr(x):\n",
        "    a = enclose(a)\n",
        "  if Pr(x[2]) <= Pr(x):\n",
        "    b = enclose(b)\n",
        "  return f\"{{{a}}} < {{{b}}}\"\n",
        "\n",
        "def latex_le(x: tuple) -> str:\n",
        "  a, b = latex_(x[1]), latex_(x[2])\n",
        "  if Pr(x[1]) < Pr(x):\n",
        "    a = enclose(a)\n",
        "  if Pr(x[2]) <= Pr(x):\n",
        "    b = enclose(b)\n",
        "  return f\"{{{a}}} \\\\leq {{{b}}}\"\n",
        "\n",
        "def latex_gt(x: tuple) -> str:\n",
        "  a, b = latex_(x[1]), latex_(x[2])\n",
        "  if Pr(x[1]) < Pr(x):\n",
        "    a = enclose(a)\n",
        "  if Pr(x[2]) <= Pr(x):\n",
        "    b = enclose(b)\n",
        "  return f\"{{{a}}} > {{{b}}}\"\n",
        "\n",
        "def latex_ge(x: tuple) -> str:\n",
        "  a, b = latex_(x[1]), latex_(x[2])\n",
        "  if Pr(x[1]) < Pr(x):\n",
        "    a = enclose(a)\n",
        "  if Pr(x[2]) <= Pr(x):\n",
        "    b = enclose(b)\n",
        "  return f\"{{{a}}} \\\\geq {{{b}}}\""
      ],
      "metadata": {
        "id": "bAKYYd34kawd"
      },
      "execution_count": 13,
      "outputs": []
    },
    {
      "cell_type": "code",
      "source": [
        "a = integer_(34)\n",
        "y = integer_(10)\n",
        "x = symbol_('x')\n",
        "f = mul_(add_(a, y), y)\n",
        "show_(f)\n",
        "\n",
        "show_(neg_(integer_(-11)))\n",
        "show_(deg_(x, integer_(-1)))\n",
        "show_( div_(mul_(add_(a, y), y), neg_(y)))\n",
        "\n",
        "\n"
      ],
      "metadata": {
        "colab": {
          "base_uri": "https://localhost:8080/"
        },
        "id": "zCp8PqVQsoC0",
        "outputId": "210fc5a3-24af-4527-a2ea-6feaf0604a26"
      },
      "execution_count": 14,
      "outputs": [
        {
          "output_type": "display_data",
          "data": {
            "text/plain": [
              "<IPython.core.display.Math object>"
            ],
            "text/latex": "$\\displaystyle {\\left( {34} + {10} \\right)} \\cdot {10}$"
          },
          "metadata": {}
        },
        {
          "output_type": "display_data",
          "data": {
            "text/plain": [
              "<IPython.core.display.Math object>"
            ],
            "text/latex": "$\\displaystyle  -{\\left( -11 \\right)}$"
          },
          "metadata": {}
        },
        {
          "output_type": "display_data",
          "data": {
            "text/plain": [
              "<IPython.core.display.Math object>"
            ],
            "text/latex": "$\\displaystyle {x}^{-1}$"
          },
          "metadata": {}
        },
        {
          "output_type": "display_data",
          "data": {
            "text/plain": [
              "<IPython.core.display.Math object>"
            ],
            "text/latex": "$\\displaystyle \\frac{{\\left( {34} + {10} \\right)} \\cdot {10}}{ -{10}}$"
          },
          "metadata": {}
        }
      ]
    },
    {
      "cell_type": "code",
      "source": [
        "class Expression:\n",
        "  def __init__(self, x):\n",
        "    self.T = x\n",
        "\n",
        "  def __add__(self, x):\n",
        "    return Expression(add_(self.T, fix(x).T))\n",
        "\n",
        "  def __sub__(self, x):\n",
        "    return Expression(sub_(self.T, fix(x).T))\n",
        "\n",
        "  def __mul__(self, x):\n",
        "    return Expression(mul_(self.T, fix(x).T))\n",
        "\n",
        "  def __truediv__(self, x):\n",
        "    return Expression(div_(self.T, fix(x).T))\n",
        "\n",
        "  def __pow__(self, x):\n",
        "      return Expression(deg_(self.T, fix(x).T))\n",
        "\n",
        "  def __and__(self, x):\n",
        "    return Expression(and_(self.T, fix(x).T))\n",
        "\n",
        "  def __or__(self, x):\n",
        "    return Expression(or_(self.T, fix(x).T))\n",
        "\n",
        "  def __xor__(self, x):\n",
        "    return Expression(xor_(self.T, fix(x).T))\n",
        "\n",
        "  def __eq__(self, x):\n",
        "    return Expression(eq_(self.T, fix(x).T))\n",
        "\n",
        "  def __ne__(self, x):\n",
        "    return Expression(ne_(self.T, fix(x).T))\n",
        "\n",
        "  def __lt__(self, x):\n",
        "    return Expression(lt_(self.T, fix(x).T))\n",
        "\n",
        "  def __le__(self, x):\n",
        "    return Expression(le_(self.T, fix(x).T))\n",
        "\n",
        "  def __gt__(self, x):\n",
        "    return Expression(gt_(self.T, fix(x).T))\n",
        "\n",
        "  def __ge__(self, x):\n",
        "    return Expression(ge_(self.T, fix(x).T))\n",
        "\n",
        "  def __invert__(self):\n",
        "    return Expression(inv_(fix(self).T))\n",
        "\n",
        "  def __neg__(self):\n",
        "    return Expression(neg_(fix(self).T))\n",
        "\n",
        "  def __radd__(self, x):\n",
        "    return Expression(add_(fix(x).T, self.T))\n",
        "\n",
        "  def __rsub__(self, x):\n",
        "    return Expression(sub_(fix(x).T, self.T))\n",
        "\n",
        "  def __rmul__(self, x):\n",
        "    return Expression(mul_(fix(x).T, self.T))\n",
        "\n",
        "  def __rtruediv__(self, x):\n",
        "    return Expression(div_(fix(x).T, self.T))\n",
        "\n",
        "  def __rpow__(self, x):\n",
        "    return Expression(deg_(fix(x).T, self.T))\n",
        "\n",
        "  def __rand__(self, x):\n",
        "    return Expression(and_(fix(x).T, self.T))\n",
        "\n",
        "  def __ror__(self, x):\n",
        "    return Expression(or_(fix(x).T, self.T))\n",
        "\n",
        "  def __rxor__(self, x):\n",
        "    return Expression(xor_(fix(x).T, self.T))\n",
        "\n",
        "  def __hash__(self):\n",
        "    return hash(str(self.T))\n",
        "\n",
        "def fix(x):\n",
        "  if isinstance(x, int):\n",
        "    return Expression(integer_(x))\n",
        "  return x\n",
        "\n"
      ],
      "metadata": {
        "id": "jePSRGbksoau"
      },
      "execution_count": 15,
      "outputs": []
    },
    {
      "cell_type": "markdown",
      "source": [
        "Создаем обертки для функций integer_ и symbol_\n",
        "опциональное (бонусное) задание: напишите функцию symbols, которая позволяет создавать сразу несколько символьных переменных: x, y, z = symbols('x y z')"
      ],
      "metadata": {
        "id": "_Tozg2V8Zzo9"
      }
    },
    {
      "cell_type": "code",
      "source": [
        "def Z(x: int) -> Expression:\n",
        "  return Expression(integer_(x))\n",
        "\n",
        "def symbol(x: str) -> Expression:\n",
        "  return Expression(symbol_(x))\n",
        "\n",
        "def symbols(x: str) -> Expression:\n",
        "  a = x.split()\n",
        "  for i in range(len(a)):\n",
        "     a[i] = Expression(symbol_(a[i]))\n",
        "  return a"
      ],
      "metadata": {
        "id": "yLHEByiFZcdf"
      },
      "execution_count": 16,
      "outputs": []
    },
    {
      "cell_type": "markdown",
      "source": [
        "Определяем функцию show вывода выражений, заданных классом Expression\n",
        "протестируйте работу всех функций на различных выражениях"
      ],
      "metadata": {
        "id": "3gEJiXazZ5Ir"
      }
    },
    {
      "cell_type": "code",
      "source": [
        "def show(x: Expression) -> None:\n",
        "  show_(x.T)"
      ],
      "metadata": {
        "id": "2b1mtRJSZw3B"
      },
      "execution_count": 17,
      "outputs": []
    },
    {
      "cell_type": "code",
      "source": [
        "a, x = Z(13), symbol('x_2')\n",
        "\n",
        "show(a / x ** a)"
      ],
      "metadata": {
        "colab": {
          "base_uri": "https://localhost:8080/"
        },
        "id": "iqBTshCYc0iA",
        "outputId": "c9e447c3-7fe7-48b5-9ff4-8eed6e09e248"
      },
      "execution_count": 18,
      "outputs": [
        {
          "output_type": "display_data",
          "data": {
            "text/plain": [
              "<IPython.core.display.Math object>"
            ],
            "text/latex": "$\\displaystyle \\frac{13}{{x_{2}}^{13}}$"
          },
          "metadata": {}
        }
      ]
    },
    {
      "cell_type": "code",
      "source": [
        "import matplotlib\n",
        "import matplotlib.pyplot as plt\n",
        "import networkx as nx\n",
        "from networkx.drawing.nx_pydot import graphviz_layout\n",
        "from networkx.readwrite import json_graph\n",
        "\n",
        "def makeGraph(x: tuple, nodes: list, labels: list, links: list) -> int:\n",
        "  id_ = len(nodes)\n",
        "  nodes.append({'id': id_})\n",
        "  if isTerminal(x):\n",
        "    labels[id_] = f'${latex_(x)}$'\n",
        "  else:\n",
        "    labels[id_] = x[0]\n",
        "    for a in x[1:]:\n",
        "      if isinstance(a, tuple):\n",
        "        cid = makeGraph(a, nodes, labels, links)\n",
        "        links.append({'source': id_, 'target': cid})\n",
        "  return id_\n",
        "\n",
        "def drawGraph_(x: tuple, size) -> None:\n",
        "  nodes, labels, links = [], {}, []\n",
        "  makeGraph(x, nodes, labels, links)\n",
        "  graph = json_graph.node_link_graph({'nodes': nodes, 'links': links}, directed=True, multigraph=False)\n",
        "  pos = graphviz_layout(graph, prog=\"dot\")\n",
        "  fig, ax = plt.subplots(figsize=(3 * size, 3 * size))\n",
        "  ax.set_axis_off()\n",
        "  nx.draw_networkx_edges(graph.to_directed(), pos, ax = ax, edge_color=\"black\")\n",
        "  nx.draw_networkx_labels(graph.to_directed(), pos, labels = labels, font_color = \"blue\")\n",
        "\n",
        "def drawGraph(x: Expression, size: float = 1) -> None:\n",
        "  drawGraph_(x.T, size)\n",
        "\n",
        "x, y = symbol('x'), symbol('y')\n",
        "drawGraph((x + y) / Z(34))"
      ],
      "metadata": {
        "id": "u7cLwA76aAGh",
        "colab": {
          "base_uri": "https://localhost:8080/"
        },
        "outputId": "efceff60-80e4-43fb-c8ed-574e7221be3c"
      },
      "execution_count": 19,
      "outputs": [
        {
          "output_type": "stream",
          "name": "stderr",
          "text": [
            "<ipython-input-19-1e3c6b446c2a>:24: DeprecationWarning: nx.nx_pydot.graphviz_layout depends on the pydot package, which has known issues and is not actively maintained. Consider using nx.nx_agraph.graphviz_layout instead.\n",
            "\n",
            "See https://github.com/networkx/networkx/issues/5723\n",
            "  pos = graphviz_layout(graph, prog=\"dot\")\n"
          ]
        },
        {
          "output_type": "display_data",
          "data": {
            "text/plain": [
              "<Figure size 300x300 with 1 Axes>"
            ],
            "image/png": "[encoded data removed]"
          },
          "metadata": {}
        }
      ]
    },
    {
      "cell_type": "markdown",
      "source": [
        "# Часть 2\n"
      ],
      "metadata": {
        "id": "nHfAbGl-ameJ"
      }
    },
    {
      "cell_type": "markdown",
      "source": [
        "### Факторизация\n",
        "\n",
        "* Напишите функцию `factors(x)`, которая возвращает разложение заданного натурального числа $x$ на простые множители в виде списка этих множителей: factors`(12)` $\\to$ `[2, 2, 3]`."
      ],
      "metadata": {
        "id": "_PBloigmbC7W"
      }
    },
    {
      "cell_type": "code",
      "source": [
        "def factors(x: int) -> list:\n",
        "  mn = []\n",
        "  k = 2\n",
        "  while x != 1:\n",
        "    if x % k == 0:\n",
        "      mn.append(k)\n",
        "      x//=k\n",
        "    else:\n",
        "      k += 1\n",
        "  return mn\n",
        "factors(7007)"
      ],
      "metadata": {
        "colab": {
          "base_uri": "https://localhost:8080/"
        },
        "id": "4ZaODSJ7aqd7",
        "outputId": "ef89fb44-136f-45af-a960-b9c6a00e465f"
      },
      "execution_count": 20,
      "outputs": [
        {
          "output_type": "execute_result",
          "data": {
            "text/plain": [
              "[7, 7, 11, 13]"
            ]
          },
          "metadata": {},
          "execution_count": 20
        }
      ]
    },
    {
      "cell_type": "markdown",
      "source": [
        "* Напишите функцию `factorizeInt(x)`, которая преобразует заданное число `x` в произведение простых сомножителей в форме **выражения** (класс `Expression`), повторяющиеся сомножители должны входить в выражение в форме степеней: `factorizeInt(120)` $\\to 2^3\\cdot 3\\cdot 5$."
      ],
      "metadata": {
        "id": "MEmi3QTRla5j"
      }
    },
    {
      "cell_type": "code",
      "source": [
        "def factorizeInt(x: int) -> Expression:\n",
        "  mn1 = factors(x)\n",
        "  mn2 =[mn1[0]]\n",
        "  for i in range(len(mn1)):\n",
        "    if not mn1[i] in mn2:\n",
        "      mn2.append(mn1[i])\n",
        "\n",
        "  k = Z(mn2[0])\n",
        "  s1 = mn1.count(mn2[0])\n",
        "  if s1 > 1:\n",
        "    k **= mn1.count(mn2[0])\n",
        "  for i in range(1, len(mn2)):\n",
        "    s2 = mn1.count(mn2[i])\n",
        "    if s2 > 1:\n",
        "      k *= Z(mn2[i])**Z(s2)\n",
        "    else:\n",
        "      k *= Z(mn2[i])\n",
        "\n",
        "  return k\n",
        "\n",
        "show(factorizeInt(360))"
      ],
      "metadata": {
        "colab": {
          "base_uri": "https://localhost:8080/"
        },
        "id": "pkGTfHVwlqU4",
        "outputId": "ccc68437-e5f4-4687-be79-e65c1e6c7f74"
      },
      "execution_count": 21,
      "outputs": [
        {
          "output_type": "display_data",
          "data": {
            "text/plain": [
              "<IPython.core.display.Math object>"
            ],
            "text/latex": "$\\displaystyle {{{2}^{3}} \\cdot {{3}^{2}}} \\cdot {5}$"
          },
          "metadata": {}
        }
      ]
    },
    {
      "cell_type": "code",
      "source": [
        "a1 = Z(2) **Z(3)\n",
        "a1 *= Z(3) **Z(5)\n",
        "show(a1)"
      ],
      "metadata": {
        "colab": {
          "base_uri": "https://localhost:8080/"
        },
        "id": "CcjDZNwhOJC4",
        "outputId": "13847a61-efdd-4482-d247-0d1cceec119f"
      },
      "execution_count": 22,
      "outputs": [
        {
          "output_type": "display_data",
          "data": {
            "text/plain": [
              "<IPython.core.display.Math object>"
            ],
            "text/latex": "$\\displaystyle {{2}^{3}} \\cdot {{3}^{5}}$"
          },
          "metadata": {}
        }
      ]
    },
    {
      "cell_type": "markdown",
      "source": [
        "### Наибольший общий делитель\n",
        "\n",
        "* Реализуйте алгоритм Евклида в виде функции `GCD(n, m)`."
      ],
      "metadata": {
        "id": "Ss60MTBNoN4H"
      }
    },
    {
      "cell_type": "code",
      "source": [
        "def GCD(n: int, m: int) -> int:\n",
        "  while m > 0:\n",
        "    n, m = m, n % m\n",
        "  return n\n",
        "\n",
        "GCD(120, 48)"
      ],
      "metadata": {
        "colab": {
          "base_uri": "https://localhost:8080/"
        },
        "id": "gX4TuXzloSSi",
        "outputId": "85548e4c-4b34-4df8-b530-2e54a6752843"
      },
      "execution_count": 23,
      "outputs": [
        {
          "output_type": "execute_result",
          "data": {
            "text/plain": [
              "24"
            ]
          },
          "metadata": {},
          "execution_count": 23
        }
      ]
    },
    {
      "cell_type": "markdown",
      "source": [
        "### Реализация рациональных чисел\n",
        "\n",
        "* Создаем функцию-конструктор `rational_(n,m)` узлов для рациональных чисел. В каждом таком узле должно храниться нормализованное представление заданного числа."
      ],
      "metadata": {
        "id": "MP_S5yjfpD45"
      }
    },
    {
      "cell_type": "code",
      "source": [
        "def rational_(n: int, m: int) -> tuple:\n",
        "  if n == 0:\n",
        "    m = 1 # нормализованное представление нуля - (0, 1)\n",
        "  else:\n",
        "    if m < 0:\n",
        "      n, m = -n, -m # знаменатель должен быть положительным\n",
        "    c = GCD(abs(n), m)\n",
        "    n, m = n // c, m // c # приводим дробь к несократимому виду\n",
        "  return 'rational', {'num': n, 'denom': m} # num - числитель (numerator), denom - знаменатель (denominator)"
      ],
      "metadata": {
        "id": "s-bQrTJHpHhS"
      },
      "execution_count": 24,
      "outputs": []
    },
    {
      "cell_type": "markdown",
      "source": [
        "* Пишем функцию `Q(n,m)` для создания выражения, представляющего рациональное число $n/m$. Знаменатель `m` по умолчанию равен `1`."
      ],
      "metadata": {
        "id": "ZIBYZDy2pLr7"
      }
    },
    {
      "cell_type": "code",
      "source": [
        "def Q(n: int, m: int = 1) -> Expression:\n",
        "  return Expression(rational_(n, m))\n",
        "\n",
        "Q(2, -6).T"
      ],
      "metadata": {
        "colab": {
          "base_uri": "https://localhost:8080/"
        },
        "id": "d4Z8rctIpQdc",
        "outputId": "4e5d05c0-dd56-4c24-9b9a-cd576ddd350e"
      },
      "execution_count": 25,
      "outputs": [
        {
          "output_type": "execute_result",
          "data": {
            "text/plain": [
              "('rational', {'num': -1, 'denom': 3})"
            ]
          },
          "metadata": {},
          "execution_count": 25
        }
      ]
    },
    {
      "cell_type": "markdown",
      "source": [
        "* Напишите функцию `latex_rational(x)`, преобразующую рациональное число $x$ в формат LaTeX. Это преобразование должно учитывать, является ли число целым (единичный знаменатель не используется), для отрицательных чисел знак минус ставится перед числом, а не в числителе:\n",
        "`Q(0, 5)` $\\to 0$, `Q(6, -2)` $\\to 3$, `Q(6, 8)` $\\to \\dfrac{3}{4}$, `Q(-15, 25)` $\\to -\\dfrac{3}{5}$."
      ],
      "metadata": {
        "id": "pYfe2qtKpTH3"
      }
    },
    {
      "cell_type": "code",
      "source": [
        "def latex_rational(x: tuple) -> str:\n",
        "  n, m = options(x)['num'], options(x)['denom']\n",
        "  if m == 1:\n",
        "    return f\"{{{int(n/m)}}}\"\n",
        "  if n < 0:\n",
        "    return f\"-{{\\\\frac{{{abs(n)}}}{{{m}}}}}\"\n",
        "  else:\n",
        "    return f\"\\\\frac{{{abs(n)}}}{{{m}}}\"\n",
        "\n",
        "\n",
        "show(Q(0, 5))\n",
        "show(Q(6, -2))\n",
        "show(Q(6, 8))\n",
        "show(Q(-15, 25))"
      ],
      "metadata": {
        "colab": {
          "base_uri": "https://localhost:8080/"
        },
        "id": "MjQn3o22pWrD",
        "outputId": "5bda704f-ae33-47ba-d925-bc30f6b49733"
      },
      "execution_count": 26,
      "outputs": [
        {
          "output_type": "display_data",
          "data": {
            "text/plain": [
              "<IPython.core.display.Math object>"
            ],
            "text/latex": "$\\displaystyle {0}$"
          },
          "metadata": {}
        },
        {
          "output_type": "display_data",
          "data": {
            "text/plain": [
              "<IPython.core.display.Math object>"
            ],
            "text/latex": "$\\displaystyle {-3}$"
          },
          "metadata": {}
        },
        {
          "output_type": "display_data",
          "data": {
            "text/plain": [
              "<IPython.core.display.Math object>"
            ],
            "text/latex": "$\\displaystyle \\frac{3}{4}$"
          },
          "metadata": {}
        },
        {
          "output_type": "display_data",
          "data": {
            "text/plain": [
              "<IPython.core.display.Math object>"
            ],
            "text/latex": "$\\displaystyle -{\\frac{3}{5}}$"
          },
          "metadata": {}
        }
      ]
    },
    {
      "cell_type": "markdown",
      "source": [
        "* Проверяем, что рациональные числа могут быть теперь использованы для построения арифметический выражений"
      ],
      "metadata": {
        "id": "0yPi8KC3J3IF"
      }
    },
    {
      "cell_type": "code",
      "source": [
        "show((1 + Q(6, 4)) / (Q(152, 24) ** 2 * Q(5, 7)))"
      ],
      "metadata": {
        "colab": {
          "base_uri": "https://localhost:8080/"
        },
        "id": "I54GwmJ0J5_M",
        "outputId": "06a25957-92ee-4cf5-bfe5-d73614efb915"
      },
      "execution_count": 27,
      "outputs": [
        {
          "output_type": "display_data",
          "data": {
            "text/plain": [
              "<IPython.core.display.Math object>"
            ],
            "text/latex": "$\\displaystyle \\frac{{1} + {\\frac{3}{2}}}{{{\\left( \\frac{19}{3} \\right)}^{2}} \\cdot {\\frac{5}{7}}}$"
          },
          "metadata": {}
        }
      ]
    },
    {
      "cell_type": "markdown",
      "source": [
        "### Цепные дроби\n",
        "\n",
        "* Напишите функцию `continuedTerms(n,m)`, которая преобразует заданное рациональное число $n/m$ в цепную дробь \\[$a_0$; $a_1$, $a_2$, ...\\] и возвращает результат в виде списка: `continuedTerms(15,11)` $\\to$ `[1,2,1,3]`."
      ],
      "metadata": {
        "id": "HbwzfGO1J-Zp"
      }
    },
    {
      "cell_type": "code",
      "source": [
        "def continuedTerms(n: int, m: int) -> list:\n",
        "  an = []\n",
        "  while m > 0:\n",
        "    an.append(n // m)\n",
        "    n, m = m, n % m\n",
        "  return an\n",
        "\n",
        "continuedTerms(15, 11)"
      ],
      "metadata": {
        "colab": {
          "base_uri": "https://localhost:8080/"
        },
        "id": "JnQPPlJoJ88_",
        "outputId": "6e508443-b249-4181-b1ad-6de773e8008b"
      },
      "execution_count": 28,
      "outputs": [
        {
          "output_type": "execute_result",
          "data": {
            "text/plain": [
              "[1, 2, 1, 3]"
            ]
          },
          "metadata": {},
          "execution_count": 28
        }
      ]
    },
    {
      "cell_type": "markdown",
      "source": [
        "* Напишите функцию, которая строит выражение, представляющее цепную дробь, в виде объекта класса `Expression`."
      ],
      "metadata": {
        "id": "_hZwxhd6KGXo"
      }
    },
    {
      "cell_type": "code",
      "source": [
        "def continuedFraction(p: Expression) -> Expression:\n",
        "  n, m = options(p.T)['num'], options(p.T)['denom'] # предполагаем, что p - рациональное число!\n",
        "  A = continuedTerms(n, m) # находим элементы цепной дроби\n",
        "  ex = Z(A[-1])\n",
        "  for i in range(-2, -(len(A) + 1), -1):\n",
        "    ex = A[i] + 1 / ex\n",
        "  return ex\n",
        "\n",
        "show(continuedFraction(Q(15, 11)))"
      ],
      "metadata": {
        "id": "2dJEWwdgKLIj",
        "colab": {
          "base_uri": "https://localhost:8080/"
        },
        "outputId": "1bc9874f-fe60-49a0-ed02-1a4a51ca773e"
      },
      "execution_count": 29,
      "outputs": [
        {
          "output_type": "display_data",
          "data": {
            "text/plain": [
              "<IPython.core.display.Math object>"
            ],
            "text/latex": "$\\displaystyle {1} + {\\frac{1}{{2} + {\\frac{1}{{1} + {\\frac{1}{3}}}}}}$"
          },
          "metadata": {}
        }
      ]
    },
    {
      "cell_type": "markdown",
      "source": [
        "* (бонусное задание) Напишите функцию `float2continued(x,n)`, преобразующую заданное действительное число $x$ в цепную дробь \"глубины\" $n$: `float2continued(np.sqrt(2),4)` $\\to 1 + \\frac1{2+\\frac1{2+\\frac1{2}}}$"
      ],
      "metadata": {
        "id": "tmQo_VnyKPTQ"
      }
    },
    {
      "cell_type": "code",
      "source": [
        "import math\n",
        "\n",
        "def float2continued(x: float, n: int) -> Expression:\n",
        "  k = 0\n",
        "  an = []\n",
        "  while k < n + 1:\n",
        "    an.append(math.floor(x))\n",
        "    x = 1 / (x - an[k])\n",
        "    k = k + 1\n",
        "\n",
        "  ex = Z(an[-1])\n",
        "  for i in range(-2, -len(an), -1):\n",
        "    ex = an[i] + 1 / ex\n",
        "  return ex\n",
        "\n",
        "show(float2continued(np.pi, 5))\n",
        "show(float2continued(np.sqrt(2), 5))\n",
        "show(float2continued(np.exp(1), 5))\n",
        "show(float2continued((np.sqrt(5)+1)/2, 5))"
      ],
      "metadata": {
        "id": "mnXKoDLsKTXL",
        "colab": {
          "base_uri": "https://localhost:8080/"
        },
        "outputId": "1cf43f1c-baef-47ee-895d-c0caf2171b8c"
      },
      "execution_count": 30,
      "outputs": [
        {
          "output_type": "display_data",
          "data": {
            "text/plain": [
              "<IPython.core.display.Math object>"
            ],
            "text/latex": "$\\displaystyle {7} + {\\frac{1}{{15} + {\\frac{1}{{1} + {\\frac{1}{{292} + {\\frac{1}{1}}}}}}}}$"
          },
          "metadata": {}
        },
        {
          "output_type": "display_data",
          "data": {
            "text/plain": [
              "<IPython.core.display.Math object>"
            ],
            "text/latex": "$\\displaystyle {2} + {\\frac{1}{{2} + {\\frac{1}{{2} + {\\frac{1}{{2} + {\\frac{1}{2}}}}}}}}$"
          },
          "metadata": {}
        },
        {
          "output_type": "display_data",
          "data": {
            "text/plain": [
              "<IPython.core.display.Math object>"
            ],
            "text/latex": "$\\displaystyle {1} + {\\frac{1}{{2} + {\\frac{1}{{1} + {\\frac{1}{{1} + {\\frac{1}{4}}}}}}}}$"
          },
          "metadata": {}
        },
        {
          "output_type": "display_data",
          "data": {
            "text/plain": [
              "<IPython.core.display.Math object>"
            ],
            "text/latex": "$\\displaystyle {1} + {\\frac{1}{{1} + {\\frac{1}{{1} + {\\frac{1}{{1} + {\\frac{1}{1}}}}}}}}$"
          },
          "metadata": {}
        }
      ]
    },
    {
      "cell_type": "markdown",
      "source": [
        "### Египетские дроби\n",
        "\n",
        "* Напишите функцию `egyptianTerms(n,m)` разложения заданного рационального числа $n/m$ (в предположении $n < m$) в египетскую дробь, возвращающую список знаменателей найденных простых дробей: `egyptianTerms(7, 8)` $\\to$ `[2, 3, 24]`."
      ],
      "metadata": {
        "id": "4JZ7pRURKYFA"
      }
    },
    {
      "cell_type": "code",
      "source": [
        "import math\n",
        "\n",
        "def egyptianTerms(n: int, m: int) -> list:\n",
        "  an = []\n",
        "  while n > 0:\n",
        "    a = math.ceil(m/n)\n",
        "    n, m = (-m) % n, m * a\n",
        "    an.append(a)\n",
        "  return an\n",
        "\n",
        "egyptianTerms(7, 8)"
      ],
      "metadata": {
        "colab": {
          "base_uri": "https://localhost:8080/"
        },
        "id": "mZMX_xEiKcTS",
        "outputId": "a6a97151-f712-4de8-9366-6a4ab4ecbf10"
      },
      "execution_count": 31,
      "outputs": [
        {
          "output_type": "execute_result",
          "data": {
            "text/plain": [
              "[2, 3, 24]"
            ]
          },
          "metadata": {},
          "execution_count": 31
        }
      ]
    },
    {
      "cell_type": "markdown",
      "source": [
        "* Напишите функцию, которая строит выражение, представляющее египетскую дробь, в виде объекта класса `Expression`: `egyptianSum(7,8)` $\\to \\frac12 + \\frac13 + \\frac1{24}$."
      ],
      "metadata": {
        "id": "faEiis3_KgNe"
      }
    },
    {
      "cell_type": "code",
      "source": [
        "def egyptianSum(p: Expression) -> Expression:\n",
        "  n, m = options(p.T)['num'], options(p.T)['denom']\n",
        "  A = egyptianTerms(n, m)\n",
        "  ex = 1 / Z(A[0])\n",
        "  for i in range(1, len(A)):\n",
        "    ex +=  1 / Z(A[i])\n",
        "  return ex\n",
        "\n",
        "show(egyptianSum(Q(7, 8)))"
      ],
      "metadata": {
        "id": "_VoUr6djKjiB",
        "colab": {
          "base_uri": "https://localhost:8080/"
        },
        "outputId": "13b5fa70-6ff1-421e-a60a-47b15e2dc744"
      },
      "execution_count": 32,
      "outputs": [
        {
          "output_type": "display_data",
          "data": {
            "text/plain": [
              "<IPython.core.display.Math object>"
            ],
            "text/latex": "$\\displaystyle {{\\frac{1}{2}} + {\\frac{1}{3}}} + {\\frac{1}{24}}$"
          },
          "metadata": {}
        }
      ]
    },
    {
      "cell_type": "markdown",
      "source": [
        "### Частичное оценивание арифметических выражений\n",
        "\n",
        "В большинстве систем КА выражения, заданные пользователем, сразу же упрощаются, в частности, в них вычисляется все, что может быть вычислено.\n",
        "В частности, если выражение является арифметическим и содержит только целые и рациональные числа, то это выражение преобразуется в рациональное число, например: $$\\frac{\\frac12+\\frac23}{5}\\to\\frac7{30}.$$\n",
        "Определим несколько функций, предназначенных для такого оценивания (evaluating) арифметических выражений над целыми и рациональными числами.\n",
        "\n",
        "* Головная функция `evaluate(x)` оценивает выражение, заданное пользователем в виде объекта класса `Expression`, и возвращает выражение того же самого типа (класса), вызывая внутреннюю функцию `eval_` оценивания выражения в *списочном* формате."
      ],
      "metadata": {
        "id": "4az6oIhrKnA2"
      }
    },
    {
      "cell_type": "code",
      "source": [
        "def evaluate(x: Expression) -> Expression:\n",
        "  return Expression(eval_(x.T))"
      ],
      "metadata": {
        "id": "KW2oSZhlKq0i"
      },
      "execution_count": 33,
      "outputs": []
    },
    {
      "cell_type": "markdown",
      "source": [
        "* Функция `eval_(x)` “пытается” вызвать обработчик соответствующего узла, и если такой обработчик есть, то возвращается результат его работы.\n",
        "Если обработчика нет (срабатывает исключение), то возвращается исходный узел."
      ],
      "metadata": {
        "id": "lruo9POWKt7V"
      }
    },
    {
      "cell_type": "code",
      "source": [
        "def eval_(x: tuple) -> tuple:\n",
        "  try:\n",
        "    cmd = eval(f\"eval_{ID(x)}\") # конструируем функцию оценивания текущего узла по его ID\n",
        "    return cmd(x)\n",
        "  except (NameError, BaseException):\n",
        "    return x # возвращаем исходный узел, если обработчик не найден"
      ],
      "metadata": {
        "id": "_Ff3DcctKzab"
      },
      "execution_count": 34,
      "outputs": []
    },
    {
      "cell_type": "markdown",
      "source": [
        "* Для упрощения выполнения арифметических операций над объектами разной природы (числа разных классов, многочлены, матрицы) определим набор функций для автоматического преобразования типов (cast).\n",
        "Головная функция `cast` пытается вызвать подходящий обработчик, исходя из идентификатора типа и целевого типа."
      ],
      "metadata": {
        "id": "K3IO5bGCK2sk"
      }
    },
    {
      "cell_type": "code",
      "source": [
        "def cast_(x: tuple, target: str) -> tuple:\n",
        "  if ID(x) == target:\n",
        "    return x # преобразование не нужно, узел x уже имеет правильный тип\n",
        "  try:\n",
        "    cmd = eval(f\"cast_{ID(x)}_{target}\") # конструируем функцию преобразования\n",
        "    return cmd(x)\n",
        "  except NameError:\n",
        "    return x # возвращаем исходный узел, если обработчик не найден"
      ],
      "metadata": {
        "id": "l-2vDM9dK5el"
      },
      "execution_count": 35,
      "outputs": []
    },
    {
      "cell_type": "markdown",
      "source": [
        "* Реализуем один конкретный преобразователь `cast_integer_rational(x)`, который переводит целое число $x$ в формат рационального числа."
      ],
      "metadata": {
        "id": "QyTCP_mvK9mh"
      }
    },
    {
      "cell_type": "code",
      "source": [
        "def cast_integer_rational(x: tuple) -> tuple:\n",
        "  n = options(x)['value']\n",
        "  return rational_(n, 1)\n",
        "\n",
        "cast_integer_rational(integer_(5))"
      ],
      "metadata": {
        "id": "xzHOZxlxLBRp",
        "colab": {
          "base_uri": "https://localhost:8080/"
        },
        "outputId": "687ceebd-c80a-44a0-f4e9-87584d1c2161"
      },
      "execution_count": 36,
      "outputs": [
        {
          "output_type": "execute_result",
          "data": {
            "text/plain": [
              "('rational', {'num': 5, 'denom': 1})"
            ]
          },
          "metadata": {},
          "execution_count": 36
        }
      ]
    },
    {
      "cell_type": "markdown",
      "source": [
        "* Теперь можно создавать функции, выполняющие арифметические операции над целыми и рациональными числами. Определим две функции сложения. Имя каждой такой функции должно состоять из типа операции и списка типов операндов, разделенных знаком подчеркивания: `add_integer_integer` складывает два целых числа."
      ],
      "metadata": {
        "id": "SZQELvXDLEXY"
      }
    },
    {
      "cell_type": "code",
      "source": [
        "def add_integer_integer(a: tuple, b: tuple) -> tuple:\n",
        "  n = options(a)['value']\n",
        "  m = options(b)['value']\n",
        "  return integer_(n + m)\n",
        "\n",
        "def add_rational_rational(a: tuple, b: tuple) -> tuple:\n",
        "  na, ma = options(a)['num'], options(a)['denom']\n",
        "  nb, mb = options(b)['num'], options(b)['denom']\n",
        "  n, m = na * mb + nb * ma, ma * mb\n",
        "  return rational_(n, m)"
      ],
      "metadata": {
        "id": "SzZ6KVJNL1W_"
      },
      "execution_count": 37,
      "outputs": []
    },
    {
      "cell_type": "markdown",
      "source": [
        "* Создадим словарь `OPERATIONS`, в котором будут перечисляться все обработчики каждой бинарной и унарной операций, подлежащих оцениванию. Ключами записей будут типы операций, значениями - списки соответствующих обработчиков."
      ],
      "metadata": {
        "id": "tgdKZ8xSL4s3"
      }
    },
    {
      "cell_type": "code",
      "source": [
        "OPERATIONS = {'add': ['add_integer_integer', 'add_rational_rational']}"
      ],
      "metadata": {
        "id": "15ec94L5L7-J"
      },
      "execution_count": 38,
      "outputs": []
    },
    {
      "cell_type": "markdown",
      "source": [
        "* Создаем универсальный обработчик (оцениватель) бинарных операций `eval_binary(op,x,y)`, который просматривает список всех имеющихся обработчиков заданной операции `op`, для каждого из них пытается преобразовать заданные операнды `x` и `y` к соответствующим типам, если преобразование проходит успешно, то вызывает этот обработки и возвращает его результат. Если ни один из обработчиков не срабатывает, то возвращается исходное выражение.   "
      ],
      "metadata": {
        "id": "cjBRpPbAMAAz"
      }
    },
    {
      "cell_type": "code",
      "source": [
        "def eval_binary(op: str, x: tuple, y: tuple) -> tuple:\n",
        "  for fop in OPERATIONS[op]:\n",
        "    idx, idy = fop.split('_')[1:]\n",
        "    a = cast_(x, idx)\n",
        "    b = cast_(y, idy)\n",
        "    if ID(a) == idx and ID(b) == idy:\n",
        "      cmd = eval(f\"{fop}\")\n",
        "      return cmd(a, b)\n",
        "  return op, x, y, {}"
      ],
      "metadata": {
        "id": "IInWdPs2MCj1"
      },
      "execution_count": 39,
      "outputs": []
    },
    {
      "cell_type": "markdown",
      "source": [
        "* Наконец, пишем оцениватель `eval_add` операции сложения, который оценывает (рекурсивно) свои операнды и вызывает универсальный обработчик `eval_binary`. Проверяем его работу. Объясните, почему не происходит оценивания в последнем примере!"
      ],
      "metadata": {
        "id": "GBl60ttYMFZB"
      }
    },
    {
      "cell_type": "code",
      "source": [
        "def eval_add(x: tuple) -> tuple:\n",
        "  a, b = eval_(x[1]), eval_(x[2])\n",
        "  return eval_binary(ID(x), a, b)\n",
        "\n",
        "show(evaluate(Z(2) + Q(1, 3)))\n",
        "x = symbol('x')\n",
        "show(evaluate(Z(2) + Z(5) + x))\n",
        "show(evaluate(x + Z(2) + Z(5)))"
      ],
      "metadata": {
        "id": "rucTd-1MMNzx",
        "colab": {
          "base_uri": "https://localhost:8080/"
        },
        "outputId": "a456a377-259b-4067-d74e-aaf08f682023"
      },
      "execution_count": 40,
      "outputs": [
        {
          "output_type": "display_data",
          "data": {
            "text/plain": [
              "<IPython.core.display.Math object>"
            ],
            "text/latex": "$\\displaystyle \\frac{7}{3}$"
          },
          "metadata": {}
        },
        {
          "output_type": "display_data",
          "data": {
            "text/plain": [
              "<IPython.core.display.Math object>"
            ],
            "text/latex": "$\\displaystyle {7} + {x}$"
          },
          "metadata": {}
        },
        {
          "output_type": "display_data",
          "data": {
            "text/plain": [
              "<IPython.core.display.Math object>"
            ],
            "text/latex": "$\\displaystyle {{x} + {2}} + {5}$"
          },
          "metadata": {}
        }
      ]
    },
    {
      "cell_type": "markdown",
      "source": [
        "* Чтобы добавить в систему обработку новых операций (например, операции умножения), нужно 1) создать соответствующие исполнители (умножение целых чисел, умножение рациональных чисел); 2) включить эти исполнители в словарь `OPERATIONS`; 3) написать обработчик соответствующего узла (`eval_mul`), если эта операция бинарная, то в данном обработчике должна вызываться функция `eval_binary`. Для примера добавим в систему оценивание операции умножения."
      ],
      "metadata": {
        "id": "VW40gN61MSmC"
      }
    },
    {
      "cell_type": "code",
      "source": [
        "def mul_integer_integer(a: tuple, b: tuple) -> tuple:\n",
        "  n = options(a)['value']\n",
        "  m = options(b)['value']\n",
        "  return integer_(n * m)\n",
        "\n",
        "def mul_rational_rational(a: tuple, b: tuple) -> tuple:\n",
        "  na, ma = options(a)['num'], options(a)['denom']\n",
        "  nb, mb = options(b)['num'], options(b)['denom']\n",
        "  n, m = na * nb, ma * mb\n",
        "  return rational_(n, m)\n",
        "\n",
        "OPERATIONS |= {'mul': ['mul_integer_integer', 'mul_rational_rational']} # расширяем словарь OPERATIONS новым словарем\n",
        "\n",
        "def eval_mul(x: tuple) -> tuple:\n",
        "  a, b = eval_(x[1]), eval_(x[2])\n",
        "  return eval_binary(ID(x), a, b)\n",
        "\n",
        "show(evaluate(Z(2) * Z(5)))\n",
        "show(evaluate(Z(2) * Q(2, 3)))"
      ],
      "metadata": {
        "id": "cUB1ZNj-MVjn",
        "colab": {
          "base_uri": "https://localhost:8080/"
        },
        "outputId": "172ae4b4-62c8-4bba-ce47-9ea055636f7f"
      },
      "execution_count": 41,
      "outputs": [
        {
          "output_type": "display_data",
          "data": {
            "text/plain": [
              "<IPython.core.display.Math object>"
            ],
            "text/latex": "$\\displaystyle 10$"
          },
          "metadata": {}
        },
        {
          "output_type": "display_data",
          "data": {
            "text/plain": [
              "<IPython.core.display.Math object>"
            ],
            "text/latex": "$\\displaystyle \\frac{4}{3}$"
          },
          "metadata": {}
        }
      ]
    },
    {
      "cell_type": "markdown",
      "source": [
        "* Реализуйте по этой же схеме оценивание операций вычитания и деления целых и рациональных чисел. Учтите, что при делении двух целых чисел может получиться целое число: $6/3 \\to 2$, а может - рациональное: $12/8$ $\\to \\frac{3}{2}$."
      ],
      "metadata": {
        "id": "IKKgJqdMMZCk"
      }
    },
    {
      "cell_type": "code",
      "source": [
        "# вычитание\n",
        "\n",
        "def sub_integer_integer(a: tuple, b: tuple) -> tuple:\n",
        "  n = options(a)['value']\n",
        "  m = options(b)['value']\n",
        "  return integer_(n - m)\n",
        "\n",
        "def sub_rational_rational(a: tuple, b: tuple) -> tuple:\n",
        "  na, ma = options(a)['num'], options(a)['denom']\n",
        "  nb, mb = options(b)['num'], options(b)['denom']\n",
        "  n, m = na * mb - nb * ma , ma * mb\n",
        "  return rational_(n, m)\n",
        "\n",
        "OPERATIONS |= {'sub': ['sub_integer_integer', 'sub_rational_rational']} # расширяем словарь OPERATIONS новым словарем\n",
        "\n",
        "def eval_sub(x: tuple) -> tuple:\n",
        "  a, b = eval_(x[1]), eval_(x[2])\n",
        "  return eval_binary(ID(x), a, b)\n",
        "\n",
        "show(evaluate(Z(2) - Q(2, 7)))"
      ],
      "metadata": {
        "id": "AMUb7GedMdWx",
        "colab": {
          "base_uri": "https://localhost:8080/"
        },
        "outputId": "c0414b68-3917-4a3d-a692-67af901d3c93"
      },
      "execution_count": 42,
      "outputs": [
        {
          "output_type": "display_data",
          "data": {
            "text/plain": [
              "<IPython.core.display.Math object>"
            ],
            "text/latex": "$\\displaystyle \\frac{12}{7}$"
          },
          "metadata": {}
        }
      ]
    },
    {
      "cell_type": "code",
      "source": [
        "# деление\n",
        "\n",
        "def div_integer_integer(a: tuple, b: tuple) -> tuple:\n",
        "  n = options(a)['value']\n",
        "  m = options(b)['value']\n",
        "  return rational_(n, m)\n",
        "\n",
        "def div_rational_rational(a: tuple, b: tuple) -> tuple:\n",
        "  na, ma = options(a)['num'], options(a)['denom']\n",
        "  nb, mb = options(b)['num'], options(b)['denom']\n",
        "  n, m = na * mb, ma * nb\n",
        "  return rational_(n, m)\n",
        "\n",
        "OPERATIONS |= {'div': ['div_integer_integer', 'div_rational_rational']} # расширяем словарь OPERATIONS новым словарем\n",
        "\n",
        "def eval_div(x: tuple) -> tuple:\n",
        "  a, b = eval_(x[1]), eval_(x[2])\n",
        "  return eval_binary(ID(x), a, b)\n",
        "\n",
        "show(evaluate(Z(6) / Z(3)))\n",
        "show(evaluate(Z(6) / Z(4)))\n",
        "show(evaluate(Q(5,12) / Q(10,81)))\n",
        "show(evaluate((Z(6) - Q(1, 2)) / Q(2, 3)))"
      ],
      "metadata": {
        "id": "R0auttoSMg99",
        "colab": {
          "base_uri": "https://localhost:8080/"
        },
        "outputId": "10e57967-8b16-4c24-8bab-ba8846e69296"
      },
      "execution_count": 43,
      "outputs": [
        {
          "output_type": "display_data",
          "data": {
            "text/plain": [
              "<IPython.core.display.Math object>"
            ],
            "text/latex": "$\\displaystyle {2}$"
          },
          "metadata": {}
        },
        {
          "output_type": "display_data",
          "data": {
            "text/plain": [
              "<IPython.core.display.Math object>"
            ],
            "text/latex": "$\\displaystyle \\frac{3}{2}$"
          },
          "metadata": {}
        },
        {
          "output_type": "display_data",
          "data": {
            "text/plain": [
              "<IPython.core.display.Math object>"
            ],
            "text/latex": "$\\displaystyle \\frac{27}{8}$"
          },
          "metadata": {}
        },
        {
          "output_type": "display_data",
          "data": {
            "text/plain": [
              "<IPython.core.display.Math object>"
            ],
            "text/latex": "$\\displaystyle \\frac{33}{4}$"
          },
          "metadata": {}
        }
      ]
    },
    {
      "cell_type": "markdown",
      "source": [
        "* Реализуйте оценивание операции возведения в целую степень: `Z(2) ** Z(3)` $\\to 8$, `Z(2) ** Z(-3)` $\\to \\frac{1}{8}$, `Q(2, 3) ** Z(-2)` $\\to \\frac{9}{4}$."
      ],
      "metadata": {
        "id": "u8AkutsWMjq4"
      }
    },
    {
      "cell_type": "code",
      "source": [
        "def deg_integer_integer(a: tuple, b: tuple) -> tuple:\n",
        "  n = options(a)['value']\n",
        "  m = options(b)['value']\n",
        "  if m >= 0:\n",
        "    return integer_(n ** m)\n",
        "  else:\n",
        "    return rational_(1, n ** abs(m))\n",
        "\n",
        "def deg_rational_integer(a: tuple, b: tuple) -> tuple:\n",
        "  na, ma = options(a)['num'], options(a)['denom']\n",
        "  nb = options(b)['value']\n",
        "  n, m = na ** abs(nb), ma ** abs(nb)\n",
        "  if nb >= 0:\n",
        "    return rational_(n, m)\n",
        "  else:\n",
        "    return rational_(m, n)\n",
        "\n",
        "OPERATIONS |= {'deg': ['deg_integer_integer', 'deg_rational_integer']} # расширяем словарь OPERATIONS новым словарем\n",
        "\n",
        "def eval_deg(x: tuple) -> tuple:\n",
        "  a, b = eval_(x[1]), eval_(x[2])\n",
        "  return eval_binary(ID(x), a, b)\n",
        "\n",
        "show(evaluate(Z(6) ** Z(3)))\n",
        "show(evaluate(Z(6) ** Z(-2)))\n",
        "show(evaluate(Q(2, 3) ** Z(-2)))"
      ],
      "metadata": {
        "id": "6_aNPfGSMmsw",
        "colab": {
          "base_uri": "https://localhost:8080/"
        },
        "outputId": "14a79c48-2a82-417d-a27c-8caf96043b49"
      },
      "execution_count": 44,
      "outputs": [
        {
          "output_type": "display_data",
          "data": {
            "text/plain": [
              "<IPython.core.display.Math object>"
            ],
            "text/latex": "$\\displaystyle 216$"
          },
          "metadata": {}
        },
        {
          "output_type": "display_data",
          "data": {
            "text/plain": [
              "<IPython.core.display.Math object>"
            ],
            "text/latex": "$\\displaystyle \\frac{1}{36}$"
          },
          "metadata": {}
        },
        {
          "output_type": "display_data",
          "data": {
            "text/plain": [
              "<IPython.core.display.Math object>"
            ],
            "text/latex": "$\\displaystyle \\frac{9}{4}$"
          },
          "metadata": {}
        }
      ]
    },
    {
      "cell_type": "markdown",
      "source": [
        "* (бонусное задание) Реализуйте оценивание операции возведения в рациональную степень, при условии, что соответствующие корни могут быть извлечены: `Z(8) ** Q(1, 3)` $\\to 2$, `Q(4, 9) ** Q(-3, 2)` $\\to \\frac{27}{8}$. **Но** `Z(4) ** Q(1, 3)` $\\to 4^{\\frac{1}{3}}$  - операция не может быть оценена."
      ],
      "metadata": {
        "id": "5VslmOjEMqZl"
      }
    },
    {
      "cell_type": "code",
      "source": [
        "def deg_integer_rational(a: tuple, b: tuple) -> tuple:\n",
        "  n = options(a)['value']\n",
        "  nb, mb = options(b)['num'], options(b)['denom']\n",
        "  if (n ** (nb / mb)).is_integer():\n",
        "    return integer_(int(n ** (nb / mb)))\n",
        "  else:\n",
        "    return deg_(a, b)\n",
        "\n",
        "def deg_rational_rational(a: tuple, b: tuple) -> tuple:\n",
        "  na, ma = options(a)['num'], options(a)['denom']\n",
        "  nb, mb = options(b)['num'], options(b)['denom']\n",
        "  n, m = na ** abs(nb / mb), ma ** abs(nb / mb)\n",
        "  if n.is_integer() and m.is_integer():\n",
        "    if (nb >= 0):\n",
        "      return rational_(int(n), int(m))\n",
        "    else:\n",
        "      return rational_(int(m), int(n))\n",
        "  else:\n",
        "    return  deg_(a, b)\n",
        "\n",
        "OPERATIONS['deg'] = OPERATIONS['deg'] + ['deg_integer_rational', 'deg_rational_rational']\n",
        "\n",
        "show(evaluate(Z(25) ** Q(3, 2)))"
      ],
      "metadata": {
        "id": "2rFh-xZSMu01",
        "colab": {
          "base_uri": "https://localhost:8080/"
        },
        "outputId": "fdc8e28e-6995-4510-e2d4-38dfa5ef5a0a"
      },
      "execution_count": 45,
      "outputs": [
        {
          "output_type": "display_data",
          "data": {
            "text/plain": [
              "<IPython.core.display.Math object>"
            ],
            "text/latex": "$\\displaystyle 125$"
          },
          "metadata": {}
        }
      ]
    },
    {
      "cell_type": "markdown",
      "source": [
        "* (бонусное задание) Реализуйте по аналогичной схеме универсальный оцениватель унарных операций `eval_unary` и оцениватель операции `neg` (унарный минус) для целых и рациональных чисел.  "
      ],
      "metadata": {
        "id": "GFZNZlyJMxh3"
      }
    },
    {
      "cell_type": "code",
      "source": [
        "def eval_unary(op: str, x: tuple) -> tuple:\n",
        "  for fop in OPERATIONS[op]:\n",
        "    idx = fop.split('_')[1]\n",
        "    a = cast_(x, idx)\n",
        "    if ID(a) == idx:\n",
        "      cmd = eval(f\"{fop}\")\n",
        "      return cmd(a)\n",
        "  return op, x\n",
        "\n",
        "OPERATIONS |= {'neg': ['neg_integer', 'neg_rational']}\n",
        "\n",
        "def neg_integer(a: tuple) -> tuple:\n",
        "  n = options(a)['value']\n",
        "  return integer_((-1) * n)\n",
        "\n",
        "def neg_rational(a: tuple) -> tuple:\n",
        "  na, ma = options(a)['num'], options(a)['denom']\n",
        "  n, m = na * (-1), ma\n",
        "  return rational_(n, m)\n",
        "\n",
        "def eval_neg(x: tuple) -> tuple:\n",
        "  a = eval_(x[1])\n",
        "  return eval_unary(ID(x), a)\n",
        "show(evaluate(-Z(-15)))\n",
        "show(evaluate(-Q(13, 21)))"
      ],
      "metadata": {
        "colab": {
          "base_uri": "https://localhost:8080/"
        },
        "id": "_kK0Byk7j9Hu",
        "outputId": "f41a90a9-e6bc-4c36-eecf-a24f4ec477c6"
      },
      "execution_count": 46,
      "outputs": [
        {
          "output_type": "display_data",
          "data": {
            "text/plain": [
              "<IPython.core.display.Math object>"
            ],
            "text/latex": "$\\displaystyle 15$"
          },
          "metadata": {}
        },
        {
          "output_type": "display_data",
          "data": {
            "text/plain": [
              "<IPython.core.display.Math object>"
            ],
            "text/latex": "$\\displaystyle -{\\frac{13}{21}}$"
          },
          "metadata": {}
        }
      ]
    },
    {
      "cell_type": "markdown",
      "source": [
        "# Часть 3"
      ],
      "metadata": {
        "id": "uShYDkB-kubR"
      }
    },
    {
      "cell_type": "markdown",
      "source": [
        "### Булева логика, константы, операции\n",
        "\n",
        "* Создаем тип данных для логических констант 1 (true) и 0 (false). Слово bool является ключевым в Python, поэтому используем длинный вариант boolean. Но идентификатор типа будет строка \"bool\".    "
      ],
      "metadata": {
        "id": "LeVwgR75lFTN"
      }
    },
    {
      "cell_type": "code",
      "source": [
        "def boolean_(x: bool) -> tuple:\n",
        "  x = 1 if x else 0\n",
        "  return 'bool', {'value': x}\n",
        "\n",
        "def boolean(x: bool) -> Expression:\n",
        "  return Expression(boolean_(x))"
      ],
      "metadata": {
        "id": "nIbsr5owlJUj"
      },
      "execution_count": 47,
      "outputs": []
    },
    {
      "cell_type": "markdown",
      "source": [
        "* Напишите функцию преобразования логических констант в формат LaTeX. Чтобы отличать логические 0 и 1 от соответствующих чисел, будем их изображать полужирным шрифтом (см. код этой вкладки): 0 $\\to \\mathbb{0}$, 1 $\\to \\mathbb{1}$"
      ],
      "metadata": {
        "id": "ZIykq_3IlQ0z"
      }
    },
    {
      "cell_type": "code",
      "source": [
        "def latex_bool(x: tuple) -> str:\n",
        "  a = options(x)['value']\n",
        "  return f\"\\\\mathbb{{{a}}}\"\n",
        "\n"
      ],
      "metadata": {
        "id": "pEDJIDuTlXwG"
      },
      "execution_count": 48,
      "outputs": []
    },
    {
      "cell_type": "markdown",
      "source": [
        "* Определяем логические константы I и O"
      ],
      "metadata": {
        "id": "w0yaSJrsotu_"
      }
    },
    {
      "cell_type": "code",
      "source": [
        "I, O = boolean(True), boolean(False)\n",
        "show(I + O)\n",
        "show(Z(1) + Z(0)) # для сравнения - числовые 0 и 1"
      ],
      "metadata": {
        "colab": {
          "base_uri": "https://localhost:8080/"
        },
        "id": "F9WKyKcioro1",
        "outputId": "4b05e8f3-80b0-4260-fec3-6297fa7562dc"
      },
      "execution_count": 49,
      "outputs": [
        {
          "output_type": "display_data",
          "data": {
            "text/plain": [
              "<IPython.core.display.Math object>"
            ],
            "text/latex": "$\\displaystyle {\\mathbb{1}} + {\\mathbb{0}}$"
          },
          "metadata": {}
        },
        {
          "output_type": "display_data",
          "data": {
            "text/plain": [
              "<IPython.core.display.Math object>"
            ],
            "text/latex": "$\\displaystyle {1} + {0}$"
          },
          "metadata": {}
        }
      ]
    },
    {
      "cell_type": "markdown",
      "source": [
        "Напишите функции преобразования логических операций and, or, xor, inv в формат LaTeX (см. код этой вкладки):\n",
        "x∧y,x∨y,x⊕y,x¯¯¯.\n",
        "Убедитесь, что приоритет этих операций настроен правильно: (x | y) & x  →(x∨y)∧x . Вместо знака конъюнкции  ∧  можно использовать знак умножения  ⋅  (точку)."
      ],
      "metadata": {
        "id": "RywZq1Qio6ua"
      }
    },
    {
      "cell_type": "code",
      "source": [
        "def latex_and(x: tuple) -> str:\n",
        "  a, b = latex_(x[1]), latex_(x[2])\n",
        "  if Pr(x[1]) < Pr(x):\n",
        "    a = enclose(a)\n",
        "  if Pr(x[2]) <= Pr(x) or options(x[2]).get('value', 1) < 0 or ID(x[2]) == 'neg':\n",
        "    b = enclose(b)\n",
        "  return f\"{{{a}}} \\\\wedge {{{b}}}\"\n",
        "\n",
        "def latex_or(x: tuple) -> str:\n",
        "  a, b = latex_(x[1]), latex_(x[2])\n",
        "  if Pr(x[1]) < Pr(x):\n",
        "    a = enclose(a)\n",
        "  if Pr(x[2]) <= Pr(x) or options(x[2]).get('value', 1) < 0 or ID(x[2]) == 'neg':\n",
        "    b = enclose(b)\n",
        "  return f\"{{{a}}} \\\\vee {{{b}}}\"\n",
        "\n",
        "def latex_xor(x: tuple) -> str:\n",
        "  a, b = latex_(x[1]), latex_(x[2])\n",
        "  if Pr(x[1]) < Pr(x):\n",
        "    a = enclose(a)\n",
        "  if Pr(x[2]) <= Pr(x) or options(x[2]).get('value', 1) < 0 or ID(x[2]) == 'neg':\n",
        "    b = enclose(b)\n",
        "  return f\"{{{a}}} \\\\oplus {{{b}}}\"\n",
        "\n",
        "def latex_inv(x: tuple) -> str:\n",
        "  a = latex_(x[1])\n",
        "  if options(x[1]).get('value', 1) < 0 or ID(x[1]) == 'neg':\n",
        "    a = enclose(a)\n",
        "  return f\"\\\\overline{{{a}}}\""
      ],
      "metadata": {
        "id": "kVBal4kyo-pb"
      },
      "execution_count": 50,
      "outputs": []
    },
    {
      "cell_type": "markdown",
      "source": [
        "\n",
        "\n",
        "* Проверяем:"
      ],
      "metadata": {
        "id": "idnfMAk9qdpC"
      }
    },
    {
      "cell_type": "code",
      "source": [
        "x, y = symbol('x'), symbol('y')\n",
        "f = x & y ^ (O | ~x)\n",
        "show(f)\n",
        "drawGraph(f)"
      ],
      "metadata": {
        "colab": {
          "base_uri": "https://localhost:8080/"
        },
        "id": "MfrfvL3YqeKn",
        "outputId": "0a364a6a-36f3-49d0-e9de-2536d8037eb6"
      },
      "execution_count": 51,
      "outputs": [
        {
          "output_type": "display_data",
          "data": {
            "text/plain": [
              "<IPython.core.display.Math object>"
            ],
            "text/latex": "$\\displaystyle {{x} \\wedge {y}} \\oplus {\\left( {\\mathbb{0}} \\vee {\\overline{x}} \\right)}$"
          },
          "metadata": {}
        },
        {
          "output_type": "stream",
          "name": "stderr",
          "text": [
            "<ipython-input-19-1e3c6b446c2a>:24: DeprecationWarning: nx.nx_pydot.graphviz_layout depends on the pydot package, which has known issues and is not actively maintained. Consider using nx.nx_agraph.graphviz_layout instead.\n",
            "\n",
            "See https://github.com/networkx/networkx/issues/5723\n",
            "  pos = graphviz_layout(graph, prog=\"dot\")\n"
          ]
        },
        {
          "output_type": "display_data",
          "data": {
            "text/plain": [
              "<Figure size 300x300 with 1 Axes>"
            ],
            "image/png": "[encoded data removed]"
          },
          "metadata": {}
        }
      ]
    },
    {
      "cell_type": "markdown",
      "source": [
        "### Оценивание логических выражений\n",
        "\n",
        "* По аналогии с оценкой арифметических выражений напишите функции оценки всех четырех логических операций. Для оценки бинарных операций используйте написанную ранее функцию `eval_binary`, которая автоматически выполняет поиск нужного оценщика и проводит преобразование типов операндов."
      ],
      "metadata": {
        "id": "AYrZHnnutZFQ"
      }
    },
    {
      "cell_type": "code",
      "source": [
        "# добавляем \"оценщиков\" к словарю бинарных операций OPERATIONS\n",
        "OPERATIONS |= {'and': ['and_bool_bool'], 'or': ['or_bool_bool'], 'xor': ['xor_bool_bool']}\n",
        "\n",
        "def and_bool_bool(a: tuple, b: tuple) -> tuple:\n",
        "  n = options(a)['value']\n",
        "  m = options(b)['value']\n",
        "  return boolean_(n & m)\n",
        "\n",
        "def eval_and(x: tuple) -> tuple:\n",
        "  a, b = eval_(x[1]), eval_(x[2])\n",
        "  return eval_binary(ID(x), a, b)\n",
        "\n",
        "def or_bool_bool(a: tuple, b: tuple) -> tuple:\n",
        "  n = options(a)['value']\n",
        "  m = options(b)['value']\n",
        "  return boolean_(n | m)\n",
        "\n",
        "def eval_or(x: tuple) -> tuple:\n",
        "  a, b = eval_(x[1]), eval_(x[2])\n",
        "  return eval_binary(ID(x), a, b)\n",
        "\n",
        "def xor_bool_bool(a: tuple, b: tuple) -> tuple:\n",
        "  n = options(a)['value']\n",
        "  m = options(b)['value']\n",
        "  return boolean_(n ^ m)\n",
        "\n",
        "def eval_xor(x: tuple) -> tuple:\n",
        "  a, b = eval_(x[1]), eval_(x[2])\n",
        "  return eval_binary(ID(x), a, b)"
      ],
      "metadata": {
        "id": "QS6UFlm1tbTl"
      },
      "execution_count": 52,
      "outputs": []
    },
    {
      "cell_type": "markdown",
      "source": [
        "* Напишите оцениватель логического отрицания, операция унарная, поэтому все оценивание выполняется внутри одной функции"
      ],
      "metadata": {
        "id": "hycLOVScjBLg"
      }
    },
    {
      "cell_type": "code",
      "source": [
        "def eval_inv(x: tuple) -> tuple:\n",
        "  a = eval_(x[1])\n",
        "  n = options(a)['value']\n",
        "  return boolean_(not n)"
      ],
      "metadata": {
        "id": "7snHsrbhjHCe"
      },
      "execution_count": 53,
      "outputs": []
    },
    {
      "cell_type": "markdown",
      "source": [
        "* Проверяем:"
      ],
      "metadata": {
        "id": "oeLRZnSJk5Qf"
      }
    },
    {
      "cell_type": "code",
      "source": [
        "f = (~I | I) ^ (O & I)\n",
        "show(f)\n",
        "show(evaluate(f))"
      ],
      "metadata": {
        "colab": {
          "base_uri": "https://localhost:8080/"
        },
        "id": "Ftkt90qqk7CT",
        "outputId": "48821917-3efd-4323-cdba-653275708568"
      },
      "execution_count": 54,
      "outputs": [
        {
          "output_type": "display_data",
          "data": {
            "text/plain": [
              "<IPython.core.display.Math object>"
            ],
            "text/latex": "$\\displaystyle {\\left( {\\overline{\\mathbb{1}}} \\vee {\\mathbb{1}} \\right)} \\oplus {{\\mathbb{0}} \\wedge {\\mathbb{1}}}$"
          },
          "metadata": {}
        },
        {
          "output_type": "display_data",
          "data": {
            "text/plain": [
              "<IPython.core.display.Math object>"
            ],
            "text/latex": "$\\displaystyle \\mathbb{1}$"
          },
          "metadata": {}
        }
      ]
    },
    {
      "cell_type": "markdown",
      "source": [
        "* Напишите функцию `cast_integer_bool` для преобразования целых чисел в логические константы (как в языках C/C++): ноль преобразуется в логический ноль, все остальные числа - в логическую единицу"
      ],
      "metadata": {
        "id": "d6EGRQz0mGiG"
      }
    },
    {
      "cell_type": "code",
      "source": [
        "def cast_integer_bool(x: tuple) -> tuple:\n",
        "    m = options(x)['value']\n",
        "    return boolean_(m)\n",
        "\n",
        "f = Z(2) ^ Z(1) | Z(10)\n",
        "show(f)\n",
        "show(evaluate(f))"
      ],
      "metadata": {
        "colab": {
          "base_uri": "https://localhost:8080/"
        },
        "id": "ZWHxrUTbmJsS",
        "outputId": "94899130-3cf9-4299-e779-756e8690ca7a"
      },
      "execution_count": 55,
      "outputs": [
        {
          "output_type": "display_data",
          "data": {
            "text/plain": [
              "<IPython.core.display.Math object>"
            ],
            "text/latex": "$\\displaystyle {{2} \\oplus {1}} \\vee {10}$"
          },
          "metadata": {}
        },
        {
          "output_type": "display_data",
          "data": {
            "text/plain": [
              "<IPython.core.display.Math object>"
            ],
            "text/latex": "$\\displaystyle \\mathbb{1}$"
          },
          "metadata": {}
        }
      ]
    },
    {
      "cell_type": "markdown",
      "source": [
        "### Таблицы истинности\n",
        "\n",
        "* Для построения таблицы истинности заданного логического выражения нам потребуется выполнять многократные подстановки в этом выражении каких-то значений вместо имен переменных. Напишем универсальную функцию подстановки `subs` (от английского substitute). Головная `subs` принимает на вход выражение `F` и словарь `V`, ключами в котором являются имена заменяемых переменных, а значениями - выражения, на которые эти переменные будут меняться (см. пример ниже).\n",
        "\n",
        "* **ВАЖНО!!!** Чтобы объекты типа `Expression` можно было использовать в качестве ключей словаря, они должны быть *хешируемыми*. Т.к. мы переопределили операцию равенство (метод `__eq__` класса `Expression`), то класс стал нехешируемым. Чтобы исправить ситуацию, надо вручную добавить к **вашему определению** класса `Expression` метод `__hash__`, который преобразует наше списочное выражение в строку и вычисляет хеш от полученной строки:\n",
        "\n",
        "```\n",
        "class Expression:\n",
        "  ...\n",
        "\n",
        "  def __hash__(self):\n",
        "    return hash(str(self.T))\n",
        "```"
      ],
      "metadata": {
        "id": "Zjzl6ZaKnKhz"
      }
    },
    {
      "cell_type": "code",
      "source": [
        "def subs(F: Expression, V: dict) -> Expression:\n",
        "  # преобразуем словарь V в списочную форму v\n",
        "  v = {options(k.T)['name']: fix(V[k]).T for k in V}\n",
        "  # вызываем списочную функцию подстановки\n",
        "  return Expression(subs_(F.T, v))\n",
        "\n",
        "def subs_(F: tuple, V: dict) -> tuple:\n",
        "  # рекурсивная функция\n",
        "  # если узел - переменная, ищем ее в словаре\n",
        "  if ID(F) == 'symbol':\n",
        "    n = options(F)['name']\n",
        "    if n in V:\n",
        "      # если переменная есть в словаре, то заменяем ее на соответствующее значение\n",
        "      return V[n]\n",
        "    else:\n",
        "      # иначе оставляем как есть\n",
        "      return F\n",
        "  # если узел - не переменная, то рекурсивно вызываем ту же функцию для всех дочерних узлов\n",
        "  A = [subs_(a, V) for a in items(F)]\n",
        "  # и возвращаем такой же узел, но с обновленными дочерними поддеревьями\n",
        "  return ID(F), *A, options(F)\n",
        "\n",
        "# проверяем\n",
        "\n",
        "x, y = symbol('x'), symbol('y')\n",
        "f = x * y\n",
        "show(f)\n",
        "g = subs(f, {x: 1 + y ** 2})\n",
        "show(g)"
      ],
      "metadata": {
        "colab": {
          "base_uri": "https://localhost:8080/"
        },
        "id": "fatsOCODnOIa",
        "outputId": "304adfcb-0d26-49f8-dbc2-7bc6861edc6e"
      },
      "execution_count": 56,
      "outputs": [
        {
          "output_type": "display_data",
          "data": {
            "text/plain": [
              "<IPython.core.display.Math object>"
            ],
            "text/latex": "$\\displaystyle {x} \\cdot {y}$"
          },
          "metadata": {}
        },
        {
          "output_type": "display_data",
          "data": {
            "text/plain": [
              "<IPython.core.display.Math object>"
            ],
            "text/latex": "$\\displaystyle {\\left( {1} + {{y}^{2}} \\right)} \\cdot {y}$"
          },
          "metadata": {}
        }
      ]
    },
    {
      "cell_type": "markdown",
      "source": [
        "* Пишем функцию `makeTable(F: Expression, V: list)` для преобразования заданного логического выражения в таблицу истинности. По числу переменных вычисляем высоту таблицы, делаем цикл по ее строкам. Номер строки представляем в двоичной форме, каждая цифра этого представления подставляется вместо соответствующей переменной в исходное выражение. Полученное константное выражение оценивается и преобразуется в 0 или 1. Из значений переменных и вычисленного значения выражения формируется строка таблицы, например, `000|1`. Выходом функции является список всех строк искомой таблицы истинности."
      ],
      "metadata": {
        "id": "A_p8wb6joxLJ"
      }
    },
    {
      "cell_type": "code",
      "source": [
        "def makeTable(F: Expression, V: list) -> list:\n",
        "  n = len(V) # число переменных, определяет высоту таблицы (2^n)\n",
        "  table = [] # список строк\n",
        "  for i in range(2 ** n): # цикл по строкам таблицы истинности\n",
        "    A = ('0' * n + bin(i)[2:])[-n:] # преобразование номера строки в двоичное число в n разрядах, как это работает?\n",
        "    S = {x: boolean(int(a)) for x, a in zip(V, A)} # словарь для замены\n",
        "    f = options(evaluate(subs(F, S)).T)['value'] # замена + оценивание + преобразование в цифру 0 или 1\n",
        "    table.append(f\"{A}|{f}\") # добавляем строку к таблице\n",
        "  return table"
      ],
      "metadata": {
        "id": "NjB_zi7WozuX"
      },
      "execution_count": 57,
      "outputs": []
    },
    {
      "cell_type": "markdown",
      "source": [
        "* Напишите функцию `boolTable(F: Expression, V: list) -> None`, которая бы строила таблицу истинности выражения `F` и выводила ее на экран. Например, вызов `boolTable(x ^ y ^ ~z, [x, y, z])` должен печатать следующую таблицу:\n",
        "\n",
        "```\n",
        "000|1\n",
        "001|0\n",
        "010|0\n",
        "011|1\n",
        "100|0\n",
        "101|1\n",
        "110|1\n",
        "111|0\n",
        "```"
      ],
      "metadata": {
        "id": "OJ7PCD8qo8l1"
      }
    },
    {
      "cell_type": "code",
      "source": [
        "def boolTable(F: Expression, V: list) -> None:\n",
        "  m = makeTable(F, V)\n",
        "  print(*m, sep=\"\\n\")\n",
        "\n",
        "x, y, z = symbol('x'), symbol('y'), symbol('z')\n",
        "f = x ^ y ^ ~z\n",
        "show(f)\n",
        "boolTable(f, [x, y, z])"
      ],
      "metadata": {
        "colab": {
          "base_uri": "https://localhost:8080/"
        },
        "id": "ypbryWmopA4X",
        "outputId": "164148ca-b857-4a7c-cb59-5eec99547566"
      },
      "execution_count": 58,
      "outputs": [
        {
          "output_type": "display_data",
          "data": {
            "text/plain": [
              "<IPython.core.display.Math object>"
            ],
            "text/latex": "$\\displaystyle {{x} \\oplus {y}} \\oplus {\\overline{z}}$"
          },
          "metadata": {}
        },
        {
          "output_type": "stream",
          "name": "stdout",
          "text": [
            "000|1\n",
            "001|0\n",
            "010|0\n",
            "011|1\n",
            "100|0\n",
            "101|1\n",
            "110|1\n",
            "111|0\n"
          ]
        }
      ]
    },
    {
      "cell_type": "markdown",
      "source": [
        "* (бонусное задание) напишите рекурсивную функцию `getVariables(F: Expression) -> list`, которая бы составляла список всех переменных, входящих в заданное выражение. Модифицируйте функцию `makeTable`, чтобы она принимала на вход только выражение, а список переменных составлялся бы автоматически."
      ],
      "metadata": {
        "id": "QDWK1mPiq1Rz"
      }
    },
    {
      "cell_type": "code",
      "source": [
        "def getVariables(F: Expression) -> list:\n",
        "  if ID(F.T) == 'symbol':\n",
        "    return [F]\n",
        "  V = []\n",
        "  for i in items(F.T):\n",
        "    V.extend(getVariables(Expression(i)))\n",
        "  return V\n",
        "\n",
        "def makeTable(F: Expression) -> list:\n",
        "  V = getVariables(F)\n",
        "  n = len(V) # число переменных, определяет высоту таблицы (2^n)\n",
        "  table = [] # список строк\n",
        "  for i in range(2 ** n): # цикл по строкам таблицы истинности\n",
        "    A = ('0' * n + bin(i)[2:])[-n:] # преобразование номера строки в двоичное число в n разрядах, как это работает?\n",
        "    S = {x: boolean(int(a)) for x, a in zip(V, A)} # словарь для замены\n",
        "    f = options(evaluate(subs(F, S)).T)['value'] # замена + оценивание + преобразование в цифру 0 или 1\n",
        "    table.append(f\"{A}|{f}\") # добавляем строку к таблице\n",
        "  return table\n",
        "\n",
        "def boolTable(F: Expression) -> list:\n",
        "  table = makeTable(F)\n",
        "  for i in range(len(table)):\n",
        "    print(table[i])\n",
        "\n",
        "x, y, z = symbol('x'), symbol('y'), symbol('z')\n",
        "f = x ^ y ^ ~z\n",
        "show(f)\n",
        "boolTable(f)"
      ],
      "metadata": {
        "id": "3XbjvGazq79a",
        "colab": {
          "base_uri": "https://localhost:8080/"
        },
        "outputId": "ca256756-2c32-44a8-ae0e-5a4f86da66bc"
      },
      "execution_count": 59,
      "outputs": [
        {
          "output_type": "display_data",
          "data": {
            "text/plain": [
              "<IPython.core.display.Math object>"
            ],
            "text/latex": "$\\displaystyle {{x} \\oplus {y}} \\oplus {\\overline{z}}$"
          },
          "metadata": {}
        },
        {
          "output_type": "stream",
          "name": "stdout",
          "text": [
            "000|1\n",
            "001|0\n",
            "010|0\n",
            "011|1\n",
            "100|0\n",
            "101|1\n",
            "110|1\n",
            "111|0\n"
          ]
        }
      ]
    },
    {
      "cell_type": "markdown",
      "source": [
        "### СДНФ\n",
        "\n",
        "* Напишите функцию `DNF(V: list, F: str) -> Expression`, которая строит по заданному списку переменных `V` и заданному столбцу таблицы истинности `F` СДНФ. Если все значения в `F` равны нулю, функция должна возвращать логический ноль. Примеры: `DNF([x, y], '0110')` $\\to \\overline{x} \\cdot y \\vee x \\cdot \\overline{y}$, `DNF([x, y], '0110')` $\\to \\mathbf{0}$. Для получения списка значений переменных в строке таблицы с номером `i` используйте аналогичное преобразование из функции `makeTable` (пятая строка кода)."
      ],
      "metadata": {
        "id": "Lkz9qKfLq6gB"
      }
    },
    {
      "cell_type": "code",
      "source": [
        "from numpy.lib.function_base import kaiser\n",
        "def DNF(V: list, F: str) -> Expression:\n",
        "\n",
        "  if '1' not in F:\n",
        "    return '0'\n",
        "\n",
        "  ind = F.find('1')\n",
        "  table = ('0' * len(V) + bin(ind)[2:])[-len(V):]\n",
        "  if table[0] == '0':\n",
        "    result = ~V[0]\n",
        "  else:\n",
        "    result = V[0]\n",
        "\n",
        "  for i in range(1, len(V)):\n",
        "    if table[i] == '0':\n",
        "      result *= ~V[i]\n",
        "    else:\n",
        "      result *= V[i]\n",
        "\n",
        "  for i in range(ind + 1 , 2 ** len(V)):\n",
        "    if F[i] == '1':\n",
        "      table = ('0' * len(V) + bin(i)[2:])[-len(V):]\n",
        "      if table[0] == '1':\n",
        "        k = V[0]\n",
        "      else:\n",
        "        k = ~V[0]\n",
        "      for j in range(1, len(V)):\n",
        "        if table[j] == '0':\n",
        "          k *= ~V[j]\n",
        "        else:\n",
        "          k *= V[j]\n",
        "      result |= k\n",
        "  return result\n",
        "\n",
        "x, y = symbol('x'), symbol('y')\n",
        "f = DNF([x, y], '0110')\n",
        "show(f)"
      ],
      "metadata": {
        "colab": {
          "base_uri": "https://localhost:8080/"
        },
        "id": "5PVNoCEDrBXY",
        "outputId": "0879c69b-0651-4242-e356-7e7bcef82683"
      },
      "execution_count": 60,
      "outputs": [
        {
          "output_type": "display_data",
          "data": {
            "text/plain": [
              "<IPython.core.display.Math object>"
            ],
            "text/latex": "$\\displaystyle {{\\overline{x}} \\cdot {y}} \\vee {{x} \\cdot {\\overline{y}}}$"
          },
          "metadata": {}
        }
      ]
    },
    {
      "cell_type": "markdown",
      "source": [
        "* (бонусное задание) Напишите аналогичную функцию `CNF(V: list, F: str) -> Expression`для построения СКНФ по заданной таблице истинности. Принцип двойственности: конъюнкции заменяются на дизъюнкции и наоборот, логический 0 заменяется на 1 и наоборот. Пример: `CNF([x, y], '0110')` $\\to \\left( x \\vee y \\right) \\cdot \\left( \\overline{x} \\vee \\overline{y} \\right)$"
      ],
      "metadata": {
        "id": "GZD3FtN3rEjz"
      }
    },
    {
      "cell_type": "code",
      "source": [
        "def CNF(V: list, F: str) -> Expression:\n",
        "\n",
        "  if '0' not in F:\n",
        "    return '0'\n",
        "\n",
        "  ind = F.find('0')\n",
        "  table = ('0' * len(V) + bin(ind)[2:])[-len(V):]\n",
        "  if table[0] == '0':\n",
        "    result = V[0]\n",
        "  else:\n",
        "    result = ~V[0]\n",
        "\n",
        "  for i in range(1, len(V)):\n",
        "    if table[i] == '0':\n",
        "      result |= V[i]\n",
        "    else:\n",
        "      result |= ~V[i]\n",
        "\n",
        "  for i in range(ind + 1 , 2 ** len(V)):\n",
        "    if F[i] == '0':\n",
        "      table = ('0' * len(V) + bin(i)[2:])[-len(V):]\n",
        "      if table[0] == '1':\n",
        "        k = ~V[0]\n",
        "      else:\n",
        "        k = V[0]\n",
        "      for j in range(1, len(V)):\n",
        "        if table[j] == '1':\n",
        "          k |= ~V[j]\n",
        "        else:\n",
        "          k |= V[j]\n",
        "      result *= k\n",
        "  return result\n",
        "\n",
        "x, y = symbol('x'), symbol('y')\n",
        "f = CNF([x, y], '0110')\n",
        "show(f)"
      ],
      "metadata": {
        "id": "tBzDPEM7rH5u",
        "colab": {
          "base_uri": "https://localhost:8080/"
        },
        "outputId": "8b451c6e-d1ba-4536-dc36-4712ed7aefc6"
      },
      "execution_count": 61,
      "outputs": [
        {
          "output_type": "display_data",
          "data": {
            "text/plain": [
              "<IPython.core.display.Math object>"
            ],
            "text/latex": "$\\displaystyle {\\left( {x} \\vee {y} \\right)} \\cdot {\\left( {\\overline{x}} \\vee {\\overline{y}} \\right)}$"
          },
          "metadata": {}
        }
      ]
    },
    {
      "cell_type": "markdown",
      "source": [
        "* (бонусное задание) Напишите функцию `ZP(V: list, F: str) -> Expression`, преобразующую заданную таблицу истинности в полином Жегалкина. Пример: `ZP([x, y], '1110')` $\\to \\mathbf{1} \\oplus x \\cdot y$"
      ],
      "metadata": {
        "id": "48fdGNcirLmA"
      }
    },
    {
      "cell_type": "code",
      "source": [
        "def ZP(V: list, F: str) -> Expression:\n",
        "  ...\n",
        "\n",
        "x, y = symbol('x'), symbol('y')\n",
        "f = ZP([x, y], '1110')\n"
      ],
      "metadata": {
        "id": "Q1w3t2bNrOvX"
      },
      "execution_count": 62,
      "outputs": []
    },
    {
      "cell_type": "markdown",
      "source": [
        "### Неравенства\n",
        "\n",
        "* Напишите набор функций для представления операций сравнения ($x=y$, $x\\ne y$, $x\\lt y$, $x\\le y$, $x \\gt y$, $x \\ge y$). Примеры:\n",
        " * `show(x != y)` $\\to x \\ne y$\n",
        " * `show(Z(1) < Z(2))` $\\to 1 \\lt 2$\n",
        " * `show((Z(1) < Z(2)) & (Z(4) >= Z(5)))` $\\to (1 \\lt 2) \\wedge (4 \\ge 5) $"
      ],
      "metadata": {
        "id": "zOcE9ENzrRwO"
      }
    },
    {
      "cell_type": "code",
      "source": [
        "def latex_and(x: tuple) -> str:\n",
        "  a, b = latex_(x[1]), latex_(x[2])\n",
        "  if Pr(x[1]) < Pr(x):\n",
        "    a = enclose(a)\n",
        "  if Pr(x[2]) <= Pr(x) or options(x[2]).get('value', 1) < 0 or ID(x[2]) == 'neg':\n",
        "    b = enclose(b)\n",
        "  return f\"{{{a}}} \\\\wedge {{{b}}}\"\n",
        "\n",
        "x, y = symbol('x'), symbol('y')\n",
        "show(x != y)\n",
        "show(Z(1) < Z(2))\n",
        "show((Z(1) < Z(2)) & (Z(4) >= Z(5)))"
      ],
      "metadata": {
        "id": "BMyXmPuWrVoK",
        "colab": {
          "base_uri": "https://localhost:8080/"
        },
        "outputId": "4c5efe04-e925-495b-f73b-17e079bd0ef0"
      },
      "execution_count": 63,
      "outputs": [
        {
          "output_type": "display_data",
          "data": {
            "text/plain": [
              "<IPython.core.display.Math object>"
            ],
            "text/latex": "$\\displaystyle {x} \\neq {y}$"
          },
          "metadata": {}
        },
        {
          "output_type": "display_data",
          "data": {
            "text/plain": [
              "<IPython.core.display.Math object>"
            ],
            "text/latex": "$\\displaystyle {1} < {2}$"
          },
          "metadata": {}
        },
        {
          "output_type": "display_data",
          "data": {
            "text/plain": [
              "<IPython.core.display.Math object>"
            ],
            "text/latex": "$\\displaystyle {\\left( {1} < {2} \\right)} \\wedge {\\left( {4} \\geq {5} \\right)}$"
          },
          "metadata": {}
        }
      ]
    },
    {
      "cell_type": "markdown",
      "source": [
        "* Напишите набор функций для оценивания операций сравнения целых и рациональных чисел. Результат оценивания - логическая константа. Примеры:\n",
        " * `show(evaluate(Z(1) < Z(2)))` $\\to \\mathbb{1}$\n",
        " * `show(evaluate((Z(1) < Z(2)) & (Z(4) >= Z(5))))` $\\to \\mathbb{0}$"
      ],
      "metadata": {
        "id": "_SpsjMpOrZcV"
      }
    },
    {
      "cell_type": "code",
      "source": [
        "OPERATIONS |= {'eq': ['eq_integer_integer', 'eq_rational_rational'], 'nq': ['nq_integer_integer', 'nq_rational_rational'],\n",
        "               'lt': ['lt_integer_integer', 'lt_rational_rational'], 'le': ['le_integer_integer', 'le_rational_rational'],\n",
        "               'gt': ['gt_integer_integer', 'gt_rational_rational'], 'ge': ['ge_integer_integer', 'ge_rational_rational']}\n",
        "\n",
        "def eq_integer_integer(a: tuple, b: tuple) -> tuple:\n",
        "  n = options(a)['value']\n",
        "  m = options(b)['value']\n",
        "  return boolean_(n == m)\n",
        "\n",
        "def eq_rational_rational(a: tuple, b: tuple) -> tuple:\n",
        "  na, ma = options(a)['num'], options(a)['denom']\n",
        "  nb, mb = options(b)['num'], options(b)['denom']\n",
        "  n, m = na * nb, ma * mb\n",
        "  return boolean_(na/ma == nb/mb)\n",
        "\n",
        "def eval_eq(x: tuple) -> tuple:\n",
        "  a, b = eval_(x[1]), eval_(x[2])\n",
        "  return eval_binary(ID(x), a, b)\n",
        "\n",
        "def nq_integer_integer(a: tuple, b: tuple) -> tuple:\n",
        "  n = options(a)['value']\n",
        "  m = options(b)['value']\n",
        "  return boolean_(n != m)\n",
        "\n",
        "def nq_rational_rational(a: tuple, b: tuple) -> tuple:\n",
        "  na, ma = options(a)['num'], options(a)['denom']\n",
        "  nb, mb = options(b)['num'], options(b)['denom']\n",
        "  n, m = na * nb, ma * mb\n",
        "  return boolean_(na/ma != nb/mb)\n",
        "\n",
        "def eval_nq(x: tuple) -> tuple:\n",
        "  a, b = eval_(x[1]), eval_(x[2])\n",
        "  return eval_binary(ID(x), a, b)\n",
        "\n",
        "def lt_integer_integer(a: tuple, b: tuple) -> tuple:\n",
        "  n = options(a)['value']\n",
        "  m = options(b)['value']\n",
        "  return boolean_(n < m)\n",
        "\n",
        "def lt_rational_rational(a: tuple, b: tuple) -> tuple:\n",
        "  na, ma = options(a)['num'], options(a)['denom']\n",
        "  nb, mb = options(b)['num'], options(b)['denom']\n",
        "  n, m = na * nb, ma * mb\n",
        "  return boolean_(na/ma < nb/mb)\n",
        "\n",
        "def eval_lt(x: tuple) -> tuple:\n",
        "  a, b = eval_(x[1]), eval_(x[2])\n",
        "  return eval_binary(ID(x), a, b)\n",
        "\n",
        "def le_integer_integer(a: tuple, b: tuple) -> tuple:\n",
        "  n = options(a)['value']\n",
        "  m = options(b)['value']\n",
        "  return boolean_(n <= m)\n",
        "\n",
        "def le_rational_rational(a: tuple, b: tuple) -> tuple:\n",
        "  na, ma = options(a)['num'], options(a)['denom']\n",
        "  nb, mb = options(b)['num'], options(b)['denom']\n",
        "  n, m = na * nb, ma * mb\n",
        "  return boolean_(na/ma <= nb/mb)\n",
        "\n",
        "def eval_le(x: tuple) -> tuple:\n",
        "  a, b = eval_(x[1]), eval_(x[2])\n",
        "  return eval_binary(ID(x), a, b)\n",
        "\n",
        "def gt_integer_integer(a: tuple, b: tuple) -> tuple:\n",
        "  n = options(a)['value']\n",
        "  m = options(b)['value']\n",
        "  return boolean_(n > m)\n",
        "\n",
        "def gt_rational_rational(a: tuple, b: tuple) -> tuple:\n",
        "  na, ma = options(a)['num'], options(a)['denom']\n",
        "  nb, mb = options(b)['num'], options(b)['denom']\n",
        "  n, m = na * nb, ma * mb\n",
        "  return boolean_(na/ma > nb/mb)\n",
        "\n",
        "def eval_gt(x: tuple) -> tuple:\n",
        "  a, b = eval_(x[1]), eval_(x[2])\n",
        "  return eval_binary(ID(x), a, b)\n",
        "\n",
        "def ge_integer_integer(a: tuple, b: tuple) -> tuple:\n",
        "  n = options(a)['value']\n",
        "  m = options(b)['value']\n",
        "  return boolean_(n >= m)\n",
        "\n",
        "def ge_rational_rational(a: tuple, b: tuple) -> tuple:\n",
        "  na, ma = options(a)['num'], options(a)['denom']\n",
        "  nb, mb = options(b)['num'], options(b)['denom']\n",
        "  n, m = na * nb, ma * mb\n",
        "  return boolean_(na/ma >= nb/mb)\n",
        "\n",
        "def eval_ge(x: tuple) -> tuple:\n",
        "  a, b = eval_(x[1]), eval_(x[2])\n",
        "  return eval_binary(ID(x), a, b)\n",
        "\n",
        "show(evaluate(Z(1) < Z(2)))\n",
        "show(evaluate((Z(1) < Z(2)) & (Z(4) >= Z(5))))"
      ],
      "metadata": {
        "id": "miy7vaplrcJY",
        "colab": {
          "base_uri": "https://localhost:8080/"
        },
        "outputId": "af5790b8-c5f6-47dc-ead0-616bdfcf910c"
      },
      "execution_count": 64,
      "outputs": [
        {
          "output_type": "display_data",
          "data": {
            "text/plain": [
              "<IPython.core.display.Math object>"
            ],
            "text/latex": "$\\displaystyle \\mathbb{1}$"
          },
          "metadata": {}
        },
        {
          "output_type": "display_data",
          "data": {
            "text/plain": [
              "<IPython.core.display.Math object>"
            ],
            "text/latex": "$\\displaystyle \\mathbb{0}$"
          },
          "metadata": {}
        }
      ]
    },
    {
      "cell_type": "markdown",
      "source": [
        "### Селекторы (бонусное задание)\n",
        "\n",
        "Выражение-селектор представляет собой последовательность пар (условие, выражение) и служит для выбора первого выражения, для которого выполняется соответствующее условие. Пример использования селекторов:\n",
        "$$|x| = \\cases{x,\\,\\mbox{ if } x \\ge 0,\\\\ -x, \\,\\mbox{ if } x \\lt 0.}$$\n",
        "Или в сокращенном варианте (последнее выражение используется без условия, вариант команды else):\n",
        "$$\\mathrm{sign}(x) = \\cases{1, \\,\\mbox{ if } x \\gt 0,\\\\ 0,\\,\\mbox{ if } x = 0,\\\\ -1\\,\\mbox{ else}.}$$\n",
        "\n",
        "* Функция `select_(*args)` создает списочное выражение-селектор для заданной последовательности нечетного числа аргументов: выражение_0, условие_0, выражение_1, условие_1, ..., выражение_n.\n",
        "* Функция `select(*args)` создает аналогичное выражение-селектор типа `Expression`.\n",
        "* Функция `latex_select` преобразует выражение в формат LaTeX (в линейной форме!)"
      ],
      "metadata": {
        "id": "AYNA1QHjrgtA"
      }
    },
    {
      "cell_type": "code",
      "source": [
        "def select_(*args) -> tuple:\n",
        "  return 'select', *args, {}\n",
        "\n",
        "def select(*args) -> Expression:\n",
        "  A = [fix(a).T for a in args]\n",
        "  return Expression(select_(*A))\n",
        "\n",
        "def latex_select(x: tuple) -> str:\n",
        "  A = [latex_(a) for a in items(x)]\n",
        "  s = \"\"\n",
        "  for i in range(len(A) // 2):\n",
        "    s += f\"{{{A[2 * i]}}} \\\\mathbf{{\\\\,if\\\\,}} {{{A[2 * i + 1]}}};\"\n",
        "  s += f\"{{{A[-1]}}} \\\\mathbf{{\\\\,else}}\"\n",
        "  return f\"\\\\left[{s}\\\\right]\"\n",
        "\n",
        "x = symbol('x')\n",
        "f = select(Z(1), x > 0, Z(0), x == 0, Z(-1))\n",
        "show(f)"
      ],
      "metadata": {
        "id": "FNXagQQHrw11",
        "colab": {
          "base_uri": "https://localhost:8080/"
        },
        "outputId": "5682b164-3341-4029-a53f-8282f9127aeb"
      },
      "execution_count": 65,
      "outputs": [
        {
          "output_type": "display_data",
          "data": {
            "text/plain": [
              "<IPython.core.display.Math object>"
            ],
            "text/latex": "$\\displaystyle \\left[{1} \\mathbf{\\,if\\,} {{x} > {0}};{0} \\mathbf{\\,if\\,} {{x} = {0}};{-1} \\mathbf{\\,else}\\right]$"
          },
          "metadata": {}
        }
      ]
    },
    {
      "cell_type": "markdown",
      "source": [
        "* Напишите функцию `eval_select(x: tuple)` для оценивания выражений-селекторов. Пример для выражения `f` из предудыщей вкладки: `evaluate(subs(f, {x: Z(-100)}))` $\\to -1$.\n"
      ],
      "metadata": {
        "id": "XaIY9ft2r0LO"
      }
    },
    {
      "cell_type": "code",
      "source": [
        "def eval_select(x: tuple) -> tuple:\n",
        "  itms = items(x)\n",
        "  for i in range(1, len(itms), 2):\n",
        "    if eval_(itms[i]) == boolean_(1):\n",
        "      return eval_(itms[i-1])\n",
        "  return eval_(itms[-1])\n",
        "\n",
        "show(evaluate(subs(f, {x: Z(3)})))\n",
        "show(evaluate(subs(f, {x: Z(-100)})))\n",
        "show(evaluate(subs(f, {x: Z(0)})))"
      ],
      "metadata": {
        "id": "iZJZ1Zs2r3z9",
        "colab": {
          "base_uri": "https://localhost:8080/"
        },
        "outputId": "e5cc7146-88d5-463c-e4ef-61ffd41e53a4"
      },
      "execution_count": 66,
      "outputs": [
        {
          "output_type": "display_data",
          "data": {
            "text/plain": [
              "<IPython.core.display.Math object>"
            ],
            "text/latex": "$\\displaystyle 1$"
          },
          "metadata": {}
        },
        {
          "output_type": "display_data",
          "data": {
            "text/plain": [
              "<IPython.core.display.Math object>"
            ],
            "text/latex": "$\\displaystyle -1$"
          },
          "metadata": {}
        },
        {
          "output_type": "display_data",
          "data": {
            "text/plain": [
              "<IPython.core.display.Math object>"
            ],
            "text/latex": "$\\displaystyle 0$"
          },
          "metadata": {}
        }
      ]
    },
    {
      "cell_type": "markdown",
      "source": [
        "### Множества\n",
        "\n",
        "* Реализуем конечные множества (конструктор, конструктор списочный, преобразование в LaTeX, оценка). Оценка множества - оценивание каждого элемента множества."
      ],
      "metadata": {
        "id": "Qt-J7U28r6pH"
      }
    },
    {
      "cell_type": "code",
      "source": [
        "def fset_(*args) -> tuple:\n",
        "  return 'fset', *args, {}\n",
        "\n",
        "def fset(*args) -> Expression:\n",
        "  A = [fix(a).T for a in args]\n",
        "  return Expression(fset_(*A))\n",
        "\n",
        "def latex_fset(x: tuple) -> str:\n",
        "  A = [latex_(a) for a in items(x)]\n",
        "  return f\"\\\\left\\\\{{ {','.join(A)} \\\\right\\\\}}\"\n",
        "\n",
        "def eval_fset(x: tuple) -> tuple:\n",
        "  A = [eval_(a) for a in items(x)]\n",
        "  return fset_(*A)\n",
        "\n",
        "A = fset(1, Q(3,5) + Q(9, 5), 3)\n",
        "show(A)\n",
        "show(evaluate(A))\n",
        "show(fset())"
      ],
      "metadata": {
        "id": "9y8BCHcgr9iy",
        "colab": {
          "base_uri": "https://localhost:8080/"
        },
        "outputId": "b4615cf4-c2d7-439c-8a27-601270cf1bf3"
      },
      "execution_count": 67,
      "outputs": [
        {
          "output_type": "display_data",
          "data": {
            "text/plain": [
              "<IPython.core.display.Math object>"
            ],
            "text/latex": "$\\displaystyle \\left\\{ 1,{\\frac{3}{5}} + {\\frac{9}{5}},3 \\right\\}$"
          },
          "metadata": {}
        },
        {
          "output_type": "display_data",
          "data": {
            "text/plain": [
              "<IPython.core.display.Math object>"
            ],
            "text/latex": "$\\displaystyle \\left\\{ 1,\\frac{12}{5},3 \\right\\}$"
          },
          "metadata": {}
        },
        {
          "output_type": "display_data",
          "data": {
            "text/plain": [
              "<IPython.core.display.Math object>"
            ],
            "text/latex": "$\\displaystyle \\left\\{  \\right\\}$"
          },
          "metadata": {}
        }
      ]
    },
    {
      "cell_type": "markdown",
      "source": [
        "* (бонусное задание) Добавьте к данной реализации функцию нормализации, которая должна удалять из множества повторяющиеся элементы (множество - это набор РАЗНЫХ элементов). Проверку на равенство элементов используйте элементарную - поэлементное равенство двух структур (или равенство строковых представлений этих структур). Вызов функции нормализации вставьте в списочный конструктор."
      ],
      "metadata": {
        "id": "DSTpcneSsAMV"
      }
    },
    {
      "cell_type": "code",
      "source": [
        "def normalization(x: tuple) -> tuple:\n",
        "  it1 = list(items(x))\n",
        "  it2 = []\n",
        "  for i in range(0, len(it1)):\n",
        "    for j in range(i + 1, len(it1)):\n",
        "      if it1[i] == it1[j]:\n",
        "        it2.append(it1[i])\n",
        "  for i in range(0, len(it2)):\n",
        "    if it1.count(it2[i]) > 1:\n",
        "      it1.remove(it2[i])\n",
        "\n",
        "  return ID(x), *it1, options(x)\n",
        "\n",
        "def fset_(*args) -> tuple:\n",
        "  return normalization(('fset', *args, {}))\n",
        "\n",
        "A = fset(1, 1, 1, 2, 3)\n",
        "show(A)"
      ],
      "metadata": {
        "id": "d_mEbxvFsDIp",
        "colab": {
          "base_uri": "https://localhost:8080/"
        },
        "outputId": "7ec52d2b-1007-4f52-f513-84f23a35bd63"
      },
      "execution_count": 68,
      "outputs": [
        {
          "output_type": "display_data",
          "data": {
            "text/plain": [
              "<IPython.core.display.Math object>"
            ],
            "text/latex": "$\\displaystyle \\left\\{ 1,2,3 \\right\\}$"
          },
          "metadata": {}
        }
      ]
    },
    {
      "cell_type": "markdown",
      "source": [
        "### Операции над конечными множествами\n",
        "\n",
        "Операции (дополнение, объединение, пересечение, разность, симметрическая разность) будем реализовывать в виде **функций** (inversion, union, intersection, setdiff, symdiff), а не **бинарных операций**. Рассмотрим процесс на примере реализации операции объединения.\n",
        "\n",
        "* Определяем приоритеты операций (для визуализации формул)\n",
        "* Пишем конструкторы\n",
        "* Пишем преобразование в LaTeX"
      ],
      "metadata": {
        "id": "ausQxaSasD4K"
      }
    },
    {
      "cell_type": "code",
      "source": [
        "priority['union'] = 3\n",
        "\n",
        "def union_(x: tuple, y: tuple) -> tuple:\n",
        "  return 'union', x, y, {}\n",
        "\n",
        "def union(x: Expression, y: Expression) -> Expression:\n",
        "  return Expression(union_(fix(x).T, fix(y).T))\n",
        "\n",
        "def latex_union(x: tuple) -> str:\n",
        "  a, b = latex_(x[1]), latex_(x[2])\n",
        "  if Pr(x[1]) < Pr(x):\n",
        "    a = enclose(a)\n",
        "  if Pr(x[2]) <= Pr(x):\n",
        "    b = enclose(b)\n",
        "  return f\"{{{a}}} \\\\cup {{{b}}}\"\n",
        "\n",
        "g, v = symbol('G'), symbol('V')\n",
        "show(union(g, v))"
      ],
      "metadata": {
        "id": "T33PBkL1sIO5",
        "colab": {
          "base_uri": "https://localhost:8080/"
        },
        "outputId": "c86f83f0-68f5-421f-eb7a-4025db449a3d"
      },
      "execution_count": 69,
      "outputs": [
        {
          "output_type": "display_data",
          "data": {
            "text/plain": [
              "<IPython.core.display.Math object>"
            ],
            "text/latex": "$\\displaystyle {G} \\cup {V}$"
          },
          "metadata": {}
        }
      ]
    },
    {
      "cell_type": "markdown",
      "source": [
        "* Реализуйте по аналогии с объединением все остальные операции над множествами"
      ],
      "metadata": {
        "id": "BORFrFd8sMcv"
      }
    },
    {
      "cell_type": "code",
      "source": [
        "priority['union'] = 3\n",
        "\n",
        "def union_(x: tuple, y: tuple) -> tuple:\n",
        "  return 'union', x, y, {}\n",
        "\n",
        "def union(x: Expression, y: Expression) -> Expression:\n",
        "  return Expression(union_(fix(x).T, fix(y).T))\n",
        "\n",
        "def latex_union(x: tuple) -> str:\n",
        "  a, b = latex_(x[1]), latex_(x[2])\n",
        "  if Pr(x[1]) < Pr(x):\n",
        "    a = enclose(a)\n",
        "  if Pr(x[2]) <= Pr(x):\n",
        "    b = enclose(b)\n",
        "  return f\"{{{a}}} \\\\cup {{{b}}}\"\n",
        "\n",
        "priority['intersection'] = 5\n",
        "\n",
        "def intersection_(x: tuple, y: tuple) -> tuple:\n",
        "  return 'intersection', x, y, {}\n",
        "\n",
        "def intersection(x: Expression, y: Expression) -> Expression:\n",
        "  return Expression(intersection_(fix(x).T, fix(y).T))\n",
        "\n",
        "def latex_intersection(x: tuple) -> str:\n",
        "  a, b = latex_(x[1]), latex_(x[2])\n",
        "  if Pr(x[1]) < Pr(x):\n",
        "    a = enclose(a)\n",
        "  if Pr(x[2]) <= Pr(x):\n",
        "    b = enclose(b)\n",
        "  return f\"{{{a}}} \\\\cap {{{b}}}\"\n",
        "\n",
        "priority['setdiff'] = 3\n",
        "\n",
        "def setdiff_(x: tuple, y: tuple) -> tuple:\n",
        "  return 'setdiff', x, y, {}\n",
        "\n",
        "def setdiff(x: Expression, y: Expression) -> Expression:\n",
        "  return Expression(setdiff_(fix(x).T, fix(y).T))\n",
        "\n",
        "def latex_setdiff(x: tuple) -> str:\n",
        "  a, b = latex_(x[1]), latex_(x[2])\n",
        "  if Pr(x[1]) < Pr(x):\n",
        "    a = enclose(a)\n",
        "  if Pr(x[2]) <= Pr(x):\n",
        "    b = enclose(b)\n",
        "  return f\"{{{a}}} \\\\setminus {{{b}}}\"\n",
        "\n",
        "priority['symdiff'] = 3\n",
        "\n",
        "def symdiff_(x: tuple, y: tuple) -> tuple:\n",
        "  return 'symdiff', x, y, {}\n",
        "\n",
        "def symdiff(x: Expression, y: Expression) -> Expression:\n",
        "  return Expression(symdiff_(fix(x).T, fix(y).T))\n",
        "\n",
        "def latex_symdiff(x: tuple) -> str:\n",
        "  a, b = latex_(x[1]), latex_(x[2])\n",
        "  if Pr(x[1]) < Pr(x):\n",
        "    a = enclose(a)\n",
        "  if Pr(x[2]) <= Pr(x):\n",
        "    b = enclose(b)\n",
        "  return f\"{{{a}}} \\\\triangle {{{b}}}\"\n",
        "\n",
        "priority['inversion'] = 1\n",
        "\n",
        "def inversion_(x: tuple) -> tuple:\n",
        "  return 'inversion', x, {}\n",
        "\n",
        "def inversion(x: Expression) -> Expression:\n",
        "  return Expression(inversion_(fix(x).T))\n",
        "\n",
        "def latex_inversion(x: tuple) -> str:\n",
        "  a = latex_(x[1])\n",
        "  return f\"\\\\neg{{{a}}}\"\n",
        "\n",
        "g, v = symbol('G'), symbol('V')\n",
        "show(intersection(g, v))\n",
        "show(setdiff(g, v))\n",
        "show(symdiff(g, v))\n",
        "show(inversion(g))\n"
      ],
      "metadata": {
        "id": "1V4Ah0vusQ0Y",
        "colab": {
          "base_uri": "https://localhost:8080/"
        },
        "outputId": "db6d46d7-3ea4-440a-d79d-82926d99ec52"
      },
      "execution_count": 70,
      "outputs": [
        {
          "output_type": "display_data",
          "data": {
            "text/plain": [
              "<IPython.core.display.Math object>"
            ],
            "text/latex": "$\\displaystyle {G} \\cap {V}$"
          },
          "metadata": {}
        },
        {
          "output_type": "display_data",
          "data": {
            "text/plain": [
              "<IPython.core.display.Math object>"
            ],
            "text/latex": "$\\displaystyle {G} \\setminus {V}$"
          },
          "metadata": {}
        },
        {
          "output_type": "display_data",
          "data": {
            "text/plain": [
              "<IPython.core.display.Math object>"
            ],
            "text/latex": "$\\displaystyle {G} \\triangle {V}$"
          },
          "metadata": {}
        },
        {
          "output_type": "display_data",
          "data": {
            "text/plain": [
              "<IPython.core.display.Math object>"
            ],
            "text/latex": "$\\displaystyle \\neg{G}$"
          },
          "metadata": {}
        }
      ]
    },
    {
      "cell_type": "markdown",
      "source": [
        "* Напишем функцию оценивания операции объединения (`eval_union`)"
      ],
      "metadata": {
        "id": "sqwHjJwAsRLR"
      }
    },
    {
      "cell_type": "code",
      "source": [
        "def eval_union(x: tuple) -> tuple:\n",
        "  a, b = eval_(x[1]), eval_(x[2]) # оцениваем операнды\n",
        "  if ID(a) != 'fset' or ID(b) != 'fset':\n",
        "    return ID(x), a, b, {} # если операнды не конечные множества, то ничего не делаем\n",
        "  A, B = list(items(a)), list(items(b)) # преобразуем в списки\n",
        "  C = A[:] # копируем все элементы из A в C\n",
        "  for b in B: # цикл по всем элементам b из B\n",
        "    inA = False\n",
        "    for a in A:\n",
        "      if b == a:\n",
        "        inA = True # нашли в A элемент b\n",
        "        break\n",
        "    if not inA:\n",
        "      C.append(b) # если не нашли b в A, то добавляем b в C\n",
        "  return fset_(*C)\n",
        "\n",
        "A = fset(*list(range(0, 6)))\n",
        "B = fset(*list(range(0, 12, 2)))\n",
        "C = union(A, B)\n",
        "show(C == evaluate(C))"
      ],
      "metadata": {
        "id": "VbnPTfamsWmZ",
        "colab": {
          "base_uri": "https://localhost:8080/"
        },
        "outputId": "97d0a64e-aa1c-4ef1-b3fc-d9d66307f741"
      },
      "execution_count": 71,
      "outputs": [
        {
          "output_type": "display_data",
          "data": {
            "text/plain": [
              "<IPython.core.display.Math object>"
            ],
            "text/latex": "$\\displaystyle {{\\left\\{ 0,1,2,3,4,5 \\right\\}} \\cup {\\left\\{ 0,2,4,6,8,10 \\right\\}}} = {\\left\\{ 0,1,2,3,4,5,6,8,10 \\right\\}}$"
          },
          "metadata": {}
        }
      ]
    },
    {
      "cell_type": "markdown",
      "source": [
        "* Реализуйте оценивание остальных операций над множествами"
      ],
      "metadata": {
        "id": "b3UU5v3Rsas5"
      }
    },
    {
      "cell_type": "code",
      "source": [
        "def eval_intersection(x: tuple) -> tuple:\n",
        "  a, b = eval_(x[1]), eval_(x[2])\n",
        "  if ID(a) != 'fset' or ID(b) != 'fset':\n",
        "    return ID(x), a, b, {}\n",
        "  A, B = list(items(a)), list(items(b))\n",
        "  C = []\n",
        "  for b in B:\n",
        "    for a in A:\n",
        "      if b == a:\n",
        "        C.append(b)\n",
        "        break\n",
        "  return fset_(*C)\n",
        "\n",
        "def eval_setdiff(x: tuple) -> tuple:\n",
        "  a, b = eval_(x[1]), eval_(x[2])\n",
        "  if ID(a) != 'fset' or ID(b) != 'fset':\n",
        "    return ID(x), a, b, {}\n",
        "  A, B = list(items(a)), list(items(b))\n",
        "  C = []\n",
        "  for a in A:\n",
        "    inB = False\n",
        "    for b in B:\n",
        "      if a == b:\n",
        "        inB = True\n",
        "        break\n",
        "    if not inB:\n",
        "      C.append(a)\n",
        "  return fset_(*C)\n",
        "\n",
        "def eval_symdiff(x: tuple) -> tuple:\n",
        "  a, b = eval_(x[1]), eval_(x[2])\n",
        "  if ID(a) != 'fset' or ID(b) != 'fset':\n",
        "    return ID(x), a, b, {}\n",
        "  A, B = list(items(a)), list(items(b))\n",
        "  intersec = []\n",
        "  C = []\n",
        "  for b in B:\n",
        "    for a in A:\n",
        "      if b == a:\n",
        "        intersec.append(b)\n",
        "        break\n",
        "  for a in A:\n",
        "    if a not in intersec:\n",
        "      C.append(a)\n",
        "  for b in B:\n",
        "    if b not in intersec:\n",
        "      C.append(b)\n",
        "  return fset_(*C)\n",
        "\n",
        "A = fset(*list(range(0, 10)))\n",
        "B = fset(*list(range(0, 24, 4)))\n",
        "C = intersection(A, B)\n",
        "D = setdiff(A, B)\n",
        "E = setdiff(B, A)\n",
        "F = symdiff(A, B)\n",
        "show(C == evaluate(C))\n",
        "show(D == evaluate(D))\n",
        "show(E == evaluate(E))\n",
        "show(F == evaluate(F))"
      ],
      "metadata": {
        "id": "0nxeznLhsd2d",
        "colab": {
          "base_uri": "https://localhost:8080/"
        },
        "outputId": "2d91e251-7ebc-4fc1-cb57-6d587983ebf4"
      },
      "execution_count": 72,
      "outputs": [
        {
          "output_type": "display_data",
          "data": {
            "text/plain": [
              "<IPython.core.display.Math object>"
            ],
            "text/latex": "$\\displaystyle {{\\left\\{ 0,1,2,3,4,5,6,7,8,9 \\right\\}} \\cap {\\left\\{ 0,4,8,12,16,20 \\right\\}}} = {\\left\\{ 0,4,8 \\right\\}}$"
          },
          "metadata": {}
        },
        {
          "output_type": "display_data",
          "data": {
            "text/plain": [
              "<IPython.core.display.Math object>"
            ],
            "text/latex": "$\\displaystyle {{\\left\\{ 0,1,2,3,4,5,6,7,8,9 \\right\\}} \\setminus {\\left\\{ 0,4,8,12,16,20 \\right\\}}} = {\\left\\{ 1,2,3,5,6,7,9 \\right\\}}$"
          },
          "metadata": {}
        },
        {
          "output_type": "display_data",
          "data": {
            "text/plain": [
              "<IPython.core.display.Math object>"
            ],
            "text/latex": "$\\displaystyle {{\\left\\{ 0,4,8,12,16,20 \\right\\}} \\setminus {\\left\\{ 0,1,2,3,4,5,6,7,8,9 \\right\\}}} = {\\left\\{ 12,16,20 \\right\\}}$"
          },
          "metadata": {}
        },
        {
          "output_type": "display_data",
          "data": {
            "text/plain": [
              "<IPython.core.display.Math object>"
            ],
            "text/latex": "$\\displaystyle {{\\left\\{ 0,1,2,3,4,5,6,7,8,9 \\right\\}} \\triangle {\\left\\{ 0,4,8,12,16,20 \\right\\}}} = {\\left\\{ 1,2,3,5,6,7,9,12,16,20 \\right\\}}$"
          },
          "metadata": {}
        }
      ]
    },
    {
      "cell_type": "markdown",
      "source": [
        "* (бонусное задание) Реализуйте быстрый вариант оценивания операций через предварительную сортировку элементов множества (см. презентацию лекции). Проведите сравнение двух реализаций по времени выполнения операций для больших множеств `A = fset(*list(range(0, n)))`, `B = fset(*list(range(0, 2 * n, 2)))`, для значений `n` из набора [10, 100, 1000, 10000]."
      ],
      "metadata": {
        "id": "yJs3UZRRseTa"
      }
    },
    {
      "cell_type": "code",
      "source": [],
      "metadata": {
        "id": "e7YrkO_fsiOO"
      },
      "execution_count": 72,
      "outputs": []
    },
    {
      "cell_type": "markdown",
      "source": [
        "### Другие \"типы\" множеств\n",
        "\n",
        "Реализуйте представление множеств следующих типов (только конструкторы и преобразователи в LaTeX):\n",
        "\n",
        "* Множества-константы (`cset`): $\\mathbb{N}$, $\\mathbb{Z}$, $\\mathbb{Q}$, $\\mathbb{R}$, $\\varnothing$.\n",
        "* Интервальные множества (`iset`): $(-\\infty, 0) \\cup (1, 2]$. Задаются набором пар границ и их типов (закрытые/открытые). Также нужно будет определить специальный объект - бесконечность, `infinity`.\n",
        "* Параметрические множества (`pset`): $\\{2n+1\\,|\\,n\\in \\mathbb{Z}\\}$. Задаются тремя элементами - выражением ($2n+1$), переменной ($n$), множеством ($\\mathbb{Z}$).\n",
        "* Условные множества (`aset`): $\\{x\\in\\mathbb{R}\\,|\\,x>0\\}$. Задаются тремя элементами - переменной, множеством, условием."
      ],
      "metadata": {
        "id": "CxmruQo7si6G"
      }
    },
    {
      "cell_type": "code",
      "source": [
        "def cset_(x:str) -> tuple:\n",
        "  return 'cset', {'name': x}\n",
        "\n",
        "def cset(x:str) -> Expression:\n",
        "  return Expression(cset_(x))\n",
        "\n",
        "def latex_cset(x: tuple) -> str:\n",
        "  number_const = {'natural numbers': 'N', 'natural': 'N', 'n' : 'N',\n",
        "                  'integers': 'Z', 'z': 'Z', 'integer': 'Z', 'int': 'Z',\n",
        "                  'rational number': 'Q', 'rational numbers': 'Q', 'q': 'Q', 'rational': 'Q',\n",
        "                  'real numbers': 'R', 'real number': 'R', 'real': 'R', 'r': 'R'}\n",
        "  a = options(x)['name'].lower()\n",
        "  if a not in number_const:\n",
        "    return f\"\\\\varnothing\"\n",
        "  c = number_const[a]\n",
        "  return f\"\\mathbb{{{c}}}\"\n",
        "\n",
        "\n",
        "show(cset('q'))\n",
        "show(cset('z'))\n",
        "show(cset('fff'))\n",
        "\n",
        "\n"
      ],
      "metadata": {
        "id": "ykAd_gW7snIG",
        "colab": {
          "base_uri": "https://localhost:8080/"
        },
        "outputId": "62a8d02e-c10c-47f7-af22-6244c41d35ee"
      },
      "execution_count": 73,
      "outputs": [
        {
          "output_type": "display_data",
          "data": {
            "text/plain": [
              "<IPython.core.display.Math object>"
            ],
            "text/latex": "$\\displaystyle \\mathbb{Q}$"
          },
          "metadata": {}
        },
        {
          "output_type": "display_data",
          "data": {
            "text/plain": [
              "<IPython.core.display.Math object>"
            ],
            "text/latex": "$\\displaystyle \\mathbb{Z}$"
          },
          "metadata": {}
        },
        {
          "output_type": "display_data",
          "data": {
            "text/plain": [
              "<IPython.core.display.Math object>"
            ],
            "text/latex": "$\\displaystyle \\varnothing$"
          },
          "metadata": {}
        }
      ]
    },
    {
      "cell_type": "code",
      "source": [
        "def pset(v:Expression, p:Expression, mn:Expression) -> Expression:\n",
        "  return Expression(pset_(v, p, mn))\n",
        "\n",
        "def pset_(v:Expression, p:Expression, mn:Expression ) -> tuple:\n",
        "  return 'pset', {'vr': v, 'per': p, 'mng':mn}\n",
        "\n",
        "def latex_pset(x: tuple) -> str:\n",
        "  v = latex_(options(x)['vr'].T)\n",
        "  p = latex_(options(x)['per'].T)\n",
        "  mn = latex_(options(x)['mng'].T)\n",
        "  return f'\\left\\{{{v}\\,|\\,{p}\\in{mn}\\\\right\\}}'\n",
        "\n",
        "k = symbol('k')\n",
        "f = 2 * k + 1\n",
        "s = cset('Z')\n",
        "show(pset(f, k, s))\n"
      ],
      "metadata": {
        "id": "sOJE7znpmVOO",
        "colab": {
          "base_uri": "https://localhost:8080/"
        },
        "outputId": "48fae487-fd33-4e95-ac98-3d18b4c62ea0"
      },
      "execution_count": 74,
      "outputs": [
        {
          "output_type": "display_data",
          "data": {
            "text/plain": [
              "<IPython.core.display.Math object>"
            ],
            "text/latex": "$\\displaystyle \\left\\{{{2} \\cdot {k}} + {1}\\,|\\,k\\in\\mathbb{Z}\\right\\}$"
          },
          "metadata": {}
        }
      ]
    },
    {
      "cell_type": "code",
      "source": [
        "def aset(p:Expression, mn:Expression, u:Expression) -> Expression:\n",
        "  return Expression(aset_(p, mn, u))\n",
        "\n",
        "def aset_(p:Expression, mn:Expression, u:Expression ) -> tuple:\n",
        "  return 'aset', {'per': p, 'mng': mn, 'us':u}\n",
        "\n",
        "def latex_aset(x: tuple) -> str:\n",
        "    p = latex_(options(x)['per'].T)\n",
        "    mn = latex_(options(x)['mng'].T)\n",
        "    u = latex_(options(x)['us'].T)\n",
        "    return f'\\\\left\\\\{{{p}\\\\in{mn}\\\\,|\\\\,{u}\\\\right\\\\}}'\n",
        "\n",
        "x = symbol('x')\n",
        "f = x > 0\n",
        "s = cset('R')\n",
        "show(aset(x, s, f))"
      ],
      "metadata": {
        "id": "NzUy4vL-wF1x",
        "colab": {
          "base_uri": "https://localhost:8080/"
        },
        "outputId": "9e313afb-e5e1-42c4-9c1b-6396d8882456"
      },
      "execution_count": 75,
      "outputs": [
        {
          "output_type": "display_data",
          "data": {
            "text/plain": [
              "<IPython.core.display.Math object>"
            ],
            "text/latex": "$\\displaystyle \\left\\{x\\in\\mathbb{R}\\,|\\,{x} > {0}\\right\\}$"
          },
          "metadata": {}
        }
      ]
    },
    {
      "cell_type": "code",
      "source": [
        "def infinity() -> Expression:\n",
        " return Expression(infinity_())\n",
        "\n",
        "def infinity_() -> tuple:\n",
        "  return 'infinity', {}\n",
        "\n",
        "def latex_infinity(x: tuple) -> str:\n",
        "  return f'\\infty'\n",
        "\n",
        "\n",
        "def iset(*args) -> Expression:\n",
        "  return Expression(iset_(*args))\n",
        "\n",
        "def iset_(*args) -> tuple:\n",
        "  return 'iset', *args, {}\n",
        "\n",
        "def latex_iset(x: tuple) -> str:\n",
        "  f = items(x)\n",
        "  os = '[' if f[0][0] else '('\n",
        "  ni = latex_(fix(f[0][1]).T)\n",
        "  zs = ']' if f[0][2] else ')'\n",
        "  ki = latex_(fix(f[0][3]).T)\n",
        "  v = f'\\\\left{os}{ni},{ki}\\\\right{zs}'\n",
        "  for i in range(1, len(f)):\n",
        "    os = '[' if f[i][0] else '('\n",
        "    ni = latex_(fix(f[i][1]).T)\n",
        "    zs = ']' if f[i][2] else ')'\n",
        "    ki = latex_(fix(f[i][3]).T)\n",
        "    v += f'\\\\cup\\\\left{os}{ni},{ki}\\\\right{zs}'\n",
        "  return v\n",
        "\n",
        "inf = infinity()\n",
        "f = iset([False, -inf, True, 2], [False, -5, True, 5])\n",
        "show(f)"
      ],
      "metadata": {
        "id": "IdRgJNYD0a3R",
        "colab": {
          "base_uri": "https://localhost:8080/"
        },
        "outputId": "3c7394c8-6f4b-4a26-ea6f-1ca0a8513877"
      },
      "execution_count": 76,
      "outputs": [
        {
          "output_type": "display_data",
          "data": {
            "text/plain": [
              "<IPython.core.display.Math object>"
            ],
            "text/latex": "$\\displaystyle \\left( -{\\infty},2\\right]\\cup\\left(-5,5\\right]$"
          },
          "metadata": {}
        }
      ]
    },
    {
      "cell_type": "markdown",
      "source": [
        "* (бонусное задание) Реализуйте оценивание множественных операций над интервальными множествами."
      ],
      "metadata": {
        "id": "ouzBJpX4soRD"
      }
    },
    {
      "cell_type": "code",
      "source": [],
      "metadata": {
        "id": "NyT-CghVsr8j"
      },
      "execution_count": 76,
      "outputs": []
    },
    {
      "cell_type": "markdown",
      "source": [
        "### Матрицы\n",
        "\n",
        "* Пишем конструктор матриц произвольного размера, входом является список элементов и рамеры матрицы."
      ],
      "metadata": {
        "id": "T5L5tEBIssO_"
      }
    },
    {
      "cell_type": "code",
      "source": [
        "def matrix_(A: list, n: int, m: int) -> tuple:\n",
        "  return 'matrix', *A, {'dim': (n, m)}\n",
        "\n",
        "def matrix(A: list, n: int, m: int) -> Expression:\n",
        "  B = [fix(a).T for a in A]\n",
        "  return Expression(matrix_(B, n, m))"
      ],
      "metadata": {
        "id": "v7iYwcYVsvAt"
      },
      "execution_count": 77,
      "outputs": []
    },
    {
      "cell_type": "markdown",
      "source": [
        "* Реализуйте функцию преобразования матрицы в формат LaTeX. Пример: `matrix([1, 2, 3, 4], 2, 2)` $\\to \\left[\\begin{array}{cc} 1 & 2 \\\\ 3 & 4 \\\\\\end{array}\\right]$ (см. код вкладки)."
      ],
      "metadata": {
        "id": "grD1a4f9syIn"
      }
    },
    {
      "cell_type": "code",
      "source": [
        "def latex_matrix(x: tuple) -> str:\n",
        "  A = [latex_(a) for a in items(x)]\n",
        "  n = options(x)['dim'][0]\n",
        "  m = options(x)['dim'][1]\n",
        "  result = '\\\\left[\\\\begin{array}{cc}'\n",
        "\n",
        "  for i in range(n):\n",
        "    result += f'{A[i * m]}'\n",
        "    for j in range(1, m):\n",
        "      result += f' & {A[i * m + j]}'\n",
        "    result += '\\\\\\\\'\n",
        "\n",
        "  result += '\\\\end{array}\\\\right]'\n",
        "  return result\n",
        "\n",
        "A = matrix([1, 2, 3, 4], 2, 2)\n",
        "show(A)"
      ],
      "metadata": {
        "id": "iJU43rIQs13a",
        "colab": {
          "base_uri": "https://localhost:8080/"
        },
        "outputId": "156becfb-a753-40b8-e74c-7c7317cd7d6d"
      },
      "execution_count": 78,
      "outputs": [
        {
          "output_type": "display_data",
          "data": {
            "text/plain": [
              "<IPython.core.display.Math object>"
            ],
            "text/latex": "$\\displaystyle \\left[\\begin{array}{cc}1 & 2\\\\3 & 4\\\\\\end{array}\\right]$"
          },
          "metadata": {}
        }
      ]
    },
    {
      "cell_type": "markdown",
      "source": [
        "* Напишите функции-конструкторы векторов (`cvector` - столбцы, `rvector` - строки), аргументом является список значений, длина вычисляется автоматически. Внутренним представлением должна быть **матрица**, у которой одна из размерностей будет равна единице (т.е. новый тип объектов создавать не нужно). Пример:\n",
        "`cvector([1, 2]).T` $\\to$ `('matrix', ('integer', {'value': 1}), ('integer', {'value': 2}), {'dim': (2, 1)})`."
      ],
      "metadata": {
        "id": "qHNW7GUUs5OD"
      }
    },
    {
      "cell_type": "code",
      "source": [
        "def cvector(A: list) -> Expression:\n",
        "  B = [fix(a).T for a in A]\n",
        "  return Expression(matrix_(B, len(B), 1))\n",
        "\n",
        "def rvector(A: list) -> Expression:\n",
        "  B = [fix(a).T for a in A]\n",
        "  return Expression(matrix_(B, 1, len(B)))"
      ],
      "metadata": {
        "id": "-AIflLfAs8ZO"
      },
      "execution_count": 79,
      "outputs": []
    },
    {
      "cell_type": "markdown",
      "source": [
        "* Напишите функцию `eval_matrix`, выполняющую оценивание элементов матрицы."
      ],
      "metadata": {
        "id": "qfQx3fwjg2GE"
      }
    },
    {
      "cell_type": "code",
      "source": [
        "def eval_matrix(x: tuple) -> tuple:\n",
        "  A = [eval_(a) for a in items(x)]\n",
        "  return ID(x), *A, options(x)\n",
        "\n",
        "A = matrix([1, Z(2) * Z(7), 3, 4], 2, 2)\n",
        "show(A)\n",
        "show(evaluate(A))"
      ],
      "metadata": {
        "id": "kXhFJErDg5c7",
        "colab": {
          "base_uri": "https://localhost:8080/"
        },
        "outputId": "f4d0e23e-0a09-4008-869a-9f9d31765f19"
      },
      "execution_count": 80,
      "outputs": [
        {
          "output_type": "display_data",
          "data": {
            "text/plain": [
              "<IPython.core.display.Math object>"
            ],
            "text/latex": "$\\displaystyle \\left[\\begin{array}{cc}1 & {2} \\cdot {7}\\\\3 & 4\\\\\\end{array}\\right]$"
          },
          "metadata": {}
        },
        {
          "output_type": "display_data",
          "data": {
            "text/plain": [
              "<IPython.core.display.Math object>"
            ],
            "text/latex": "$\\displaystyle \\left[\\begin{array}{cc}1 & 14\\\\3 & 4\\\\\\end{array}\\right]$"
          },
          "metadata": {}
        }
      ]
    },
    {
      "cell_type": "markdown",
      "source": [
        "* Реализуйте оценивание арифметических операций над матрицами: умножение на число, сложение, вычитание, умножение."
      ],
      "metadata": {
        "id": "yye0oSqvs_Hc"
      }
    },
    {
      "cell_type": "code",
      "source": [
        "def add_matrix_matrix(A: tuple, B: tuple) -> tuple:\n",
        "  n = options(A)['dim'][0]\n",
        "  m = options(A)['dim'][1]\n",
        "  C = [eval_(add_(items(A)[i], items(B)[i])) for i in range(n * m)]\n",
        "  return matrix_(C, n, m)\n",
        "\n",
        "OPERATIONS['add'].append('add_matrix_matrix')\n",
        "\n",
        "def mul_integer_matrix(INT: tuple, A: tuple) -> tuple:\n",
        "  n = options(A)['dim'][0]\n",
        "  m = options(A)['dim'][1]\n",
        "  C = [eval_(mul_(INT, items(A)[i])) for i in range(n * m)]\n",
        "  return matrix_(C, n, m)\n",
        "\n",
        "OPERATIONS['mul'].append('mul_integer_matrix')\n",
        "\n",
        "def mul_matrix_integer(A: tuple, INT: tuple) -> tuple:\n",
        "  n = options(A)['dim'][0]\n",
        "  m = options(A)['dim'][1]\n",
        "  C = [eval_(mul_(INT, items(A)[i])) for i in range(n * m)]\n",
        "  return matrix_(C, n, m)\n",
        "\n",
        "OPERATIONS['mul'].append('mul_matrix_integer')\n",
        "\n",
        "def mul_rational_matrix(RAT: tuple, A: tuple) -> tuple:\n",
        "  n = options(A)['dim'][0]\n",
        "  m = options(A)['dim'][1]\n",
        "  C = [eval_(mul_(RAT, items(A)[i])) for i in range(n * m)]\n",
        "  return matrix_(C, n, m)\n",
        "\n",
        "OPERATIONS['mul'].append('mul_rational_matrix')\n",
        "\n",
        "def mul_matrix_rational(A: tuple, RAT: tuple) -> tuple:\n",
        "  n = options(A)['dim'][0]\n",
        "  m = options(A)['dim'][1]\n",
        "  C = [eval_(mul_(RAT, items(A)[i])) for i in range(n * m)]\n",
        "  return matrix_(C, n, m)\n",
        "\n",
        "OPERATIONS['mul'].append('mul_matrix_rational')\n",
        "\n",
        "def sub_matrix_matrix(A: tuple, B: tuple) -> tuple:\n",
        "  n = options(A)['dim'][0]\n",
        "  m = options(A)['dim'][1]\n",
        "  C = [eval_(sub_(items(A)[i], items(B)[i])) for i in range(n * m)]\n",
        "  return matrix_(C, n, m)\n",
        "\n",
        "OPERATIONS['sub'].append('sub_matrix_matrix')\n",
        "\n",
        "def mul_matrix_matrix(A: tuple, B: tuple) -> tuple:\n",
        "  n = options(A)['dim'][0]\n",
        "  k = options(B)['dim'][0]\n",
        "  m = options(B)['dim'][1]\n",
        "  C = []\n",
        "  for i in range(n):\n",
        "    for j in range(m):\n",
        "      elem = integer_(0)\n",
        "      for s in range(k):\n",
        "        elem = eval_(add_(elem, eval_(mul_(items(A)[i * k + s], items(B)[s * m + j]))))\n",
        "      C.append(elem)\n",
        "  return matrix_(C, n, m)\n",
        "\n",
        "OPERATIONS['mul'].append('mul_matrix_matrix')\n",
        "\n",
        "\n",
        "A = matrix([Q(1, 3), 3, 4, Q(-1, 2)], 2, 2)\n",
        "B = matrix([1, 1, 1, 1], 2, 2)\n",
        "C = A + B\n",
        "D = A * B\n",
        "show(C)\n",
        "show(evaluate(C))\n",
        "show(D)\n",
        "show(evaluate(D))"
      ],
      "metadata": {
        "id": "T8U8XkmNtCzr",
        "colab": {
          "base_uri": "https://localhost:8080/"
        },
        "outputId": "18bc2f39-70ad-4d1f-b029-cbf90de5dae2"
      },
      "execution_count": 81,
      "outputs": [
        {
          "output_type": "display_data",
          "data": {
            "text/plain": [
              "<IPython.core.display.Math object>"
            ],
            "text/latex": "$\\displaystyle {\\left[\\begin{array}{cc}\\frac{1}{3} & 3\\\\4 & -{\\frac{1}{2}}\\\\\\end{array}\\right]} + {\\left[\\begin{array}{cc}1 & 1\\\\1 & 1\\\\\\end{array}\\right]}$"
          },
          "metadata": {}
        },
        {
          "output_type": "display_data",
          "data": {
            "text/plain": [
              "<IPython.core.display.Math object>"
            ],
            "text/latex": "$\\displaystyle \\left[\\begin{array}{cc}\\frac{4}{3} & 4\\\\5 & \\frac{1}{2}\\\\\\end{array}\\right]$"
          },
          "metadata": {}
        },
        {
          "output_type": "display_data",
          "data": {
            "text/plain": [
              "<IPython.core.display.Math object>"
            ],
            "text/latex": "$\\displaystyle {\\left[\\begin{array}{cc}\\frac{1}{3} & 3\\\\4 & -{\\frac{1}{2}}\\\\\\end{array}\\right]} \\cdot {\\left[\\begin{array}{cc}1 & 1\\\\1 & 1\\\\\\end{array}\\right]}$"
          },
          "metadata": {}
        },
        {
          "output_type": "display_data",
          "data": {
            "text/plain": [
              "<IPython.core.display.Math object>"
            ],
            "text/latex": "$\\displaystyle \\left[\\begin{array}{cc}\\frac{10}{3} & \\frac{10}{3}\\\\\\frac{7}{2} & \\frac{7}{2}\\\\\\end{array}\\right]$"
          },
          "metadata": {}
        }
      ]
    },
    {
      "cell_type": "markdown",
      "source": [
        "* (бонусное задание) Реализуйте представление и оценивание операции транспонирования матрицы `transpose`"
      ],
      "metadata": {
        "id": "aS26WrwgtGLO"
      }
    },
    {
      "cell_type": "code",
      "source": [],
      "metadata": {
        "id": "XRvIvGuDtK_p"
      },
      "execution_count": 81,
      "outputs": []
    },
    {
      "cell_type": "markdown",
      "source": [
        "### Решение систем линейных уравнений методом Гаусса\n",
        "\n",
        "* Пишем головную функцию `solveLinearSystem`, вызывающую списочный вариант этой функции и выполняющий оценку результата."
      ],
      "metadata": {
        "id": "1sixJ9WgtJxP"
      }
    },
    {
      "cell_type": "code",
      "source": [
        "def solveLinearSystem(A: Expression, b: Expression) -> Expression:\n",
        "  x = solveLinearSystem_(A.T, b.T)\n",
        "  return Expression(eval_(x))"
      ],
      "metadata": {
        "id": "Eyei4U50tPMQ"
      },
      "execution_count": 82,
      "outputs": []
    },
    {
      "cell_type": "markdown",
      "source": [
        "* Напишите основную функцию `solveLinearSystem_`, реализующую сам метод Гаусса. Т.к. алгоритм должен работать в символьной форме (со списочными выражениями, а не с числами), то вместо знаков арифметических операций нужно использовать списочные функции `add_`, `mul_` и т.д."
      ],
      "metadata": {
        "id": "FeCN3hZ1tR3R"
      }
    },
    {
      "cell_type": "code",
      "source": [
        "def solveLinearSystem_(A: tuple, b: tuple) -> tuple:\n",
        "  x = list(items(b))\n",
        "  n = len(x)\n",
        "  C = [list(items(A)[i * n: (i + 1) * n]) for i in range(n)]\n",
        "\n",
        "  # прямой ход\n",
        "  for k in range(n):\n",
        "    for j in range(k+1, n):\n",
        "      C[k][j] = div_(C[k][j], C[k][k])\n",
        "    x[k] = div_(x[k], C[k][k])\n",
        "    for i in range(k+1, n):\n",
        "      for j in range(k+1, n):\n",
        "        C[i][j] = sub_(C[i][j], mul_(C[i][k], C[k][j]))\n",
        "      x[i] = sub_(x[i], mul_(C[i][k], x[k]))\n",
        "  # обратный ход\n",
        "  for k in range(n-1, -1, -1):\n",
        "    for j in range(k+1, n):\n",
        "      x[k] = sub_(x[k], mul_(x[j], C[k][j]))\n",
        "  return matrix_(x, n, 1)"
      ],
      "metadata": {
        "id": "M9V3EogctWh0"
      },
      "execution_count": 83,
      "outputs": []
    },
    {
      "cell_type": "markdown",
      "source": [
        "* Проверяем (на выходе должен быть вектор-столбец `[1, 1]`):"
      ],
      "metadata": {
        "id": "Y6QwRfKwtZkT"
      }
    },
    {
      "cell_type": "code",
      "source": [
        "A = matrix([1, 2, 3, 4], 2, 2)\n",
        "b = cvector([3, 7])\n",
        "show(A == b)\n",
        "x = solveLinearSystem(A, b)\n",
        "show(x)"
      ],
      "metadata": {
        "id": "ie85xRW4tcnw",
        "colab": {
          "base_uri": "https://localhost:8080/"
        },
        "outputId": "3e3c3ae9-a8ad-4aef-a7ba-55f6f544f428"
      },
      "execution_count": 84,
      "outputs": [
        {
          "output_type": "display_data",
          "data": {
            "text/plain": [
              "<IPython.core.display.Math object>"
            ],
            "text/latex": "$\\displaystyle {\\left[\\begin{array}{cc}1 & 2\\\\3 & 4\\\\\\end{array}\\right]} = {\\left[\\begin{array}{cc}3\\\\7\\\\\\end{array}\\right]}$"
          },
          "metadata": {}
        },
        {
          "output_type": "display_data",
          "data": {
            "text/plain": [
              "<IPython.core.display.Math object>"
            ],
            "text/latex": "$\\displaystyle \\left[\\begin{array}{cc}{1}\\\\{1}\\\\\\end{array}\\right]$"
          },
          "metadata": {}
        }
      ]
    },
    {
      "cell_type": "markdown",
      "source": [
        "* Наша реализация позволяет решать и системы с параметрами (пока без упрощения результата):"
      ],
      "metadata": {
        "id": "HXU5uqLTtfIy"
      }
    },
    {
      "cell_type": "code",
      "source": [
        "p, q, x = symbol('p'), symbol('q'), symbol('x')\n",
        "A = matrix([p, 1, 1, q], 2, 2)\n",
        "b = cvector([1, 1])\n",
        "show(A * x == b)\n",
        "x = solveLinearSystem(A, b)\n",
        "show(x)"
      ],
      "metadata": {
        "id": "-cFjd0zltinI",
        "colab": {
          "base_uri": "https://localhost:8080/"
        },
        "outputId": "03fcf40b-f3cc-4c3e-9b54-bab61debdd2c"
      },
      "execution_count": 85,
      "outputs": [
        {
          "output_type": "display_data",
          "data": {
            "text/plain": [
              "<IPython.core.display.Math object>"
            ],
            "text/latex": "$\\displaystyle {{\\left[\\begin{array}{cc}p & 1\\\\1 & q\\\\\\end{array}\\right]} \\cdot {x}} = {\\left[\\begin{array}{cc}1\\\\1\\\\\\end{array}\\right]}$"
          },
          "metadata": {}
        },
        {
          "output_type": "display_data",
          "data": {
            "text/plain": [
              "<IPython.core.display.Math object>"
            ],
            "text/latex": "$\\displaystyle \\left[\\begin{array}{cc}{\\frac{1}{p}} - {{\\frac{{1} - {{1} \\cdot {\\left( \\frac{1}{p} \\right)}}}{{q} - {{1} \\cdot {\\left( \\frac{1}{p} \\right)}}}} \\cdot {\\left( \\frac{1}{p} \\right)}}\\\\\\frac{{1} - {{1} \\cdot {\\left( \\frac{1}{p} \\right)}}}{{q} - {{1} \\cdot {\\left( \\frac{1}{p} \\right)}}}\\\\\\end{array}\\right]$"
          },
          "metadata": {}
        }
      ]
    },
    {
      "cell_type": "markdown",
      "source": [
        "# Часть 4"
      ],
      "metadata": {
        "id": "bapi061GubmP"
      }
    },
    {
      "cell_type": "markdown",
      "source": [
        "### Представление многочленов"
      ],
      "metadata": {
        "id": "afua5Sbpul9Y"
      }
    },
    {
      "cell_type": "markdown",
      "source": [
        "* Напишем набор функций для проверки, является ли заданное выражение нулем (без его вычислений и упрощений). Головная функция работает с выражениями типа `Expression`, а служебные функции должны проверять на равенство нулю конкретные списочные объекты. Нулевыми могут быть целые числа, рациональные числа, матрицы, многочлены и т.д. Сравнение многочлена с нулем реализуем ниже."
      ],
      "metadata": {
        "id": "LT8Mh4JquoLT"
      }
    },
    {
      "cell_type": "code",
      "source": [
        "def isZero(x: Expression) -> bool:\n",
        "  return is_zero(x.T)\n",
        "\n",
        "def is_zero(x: tuple) -> bool:\n",
        "  try:\n",
        "    cmd = eval(f\"is_zero_{ID(x)}\")\n",
        "    return cmd(x)\n",
        "  except:\n",
        "    return False\n",
        "\n",
        "def is_zero_integer(x: tuple) -> bool:\n",
        "  return options(x)['value'] == 0\n",
        "\n",
        "def is_zero_rational(x: tuple) -> bool:\n",
        "  return options(x)['num'] == 0\n",
        "\n",
        "print(isZero(Z(0)), isZero(Z(1)), isZero(Q(1, 2)), isZero(Q(0, 1)))"
      ],
      "metadata": {
        "colab": {
          "base_uri": "https://localhost:8080/"
        },
        "id": "yQuVGlRxuthy",
        "outputId": "daee8198-179e-404c-d6f2-c25fef91c72f"
      },
      "execution_count": 86,
      "outputs": [
        {
          "output_type": "stream",
          "name": "stdout",
          "text": [
            "True False False True\n"
          ]
        }
      ]
    },
    {
      "cell_type": "markdown",
      "source": [
        "* Пишем конструкторы многочленов, головная функция принимает на вход список коэффициентов (в порядке от младшего к старшему): `[1, 2, 3]` $\\to 3x^2+2x+1$, и опционально переменную и порядок слагаемых для визуализации формулы (`rev=True` $\\to 1+2x+3x^2$). Списочный конструктор преобразует все целые коэффициенты в рациональные (чтобы упростить последующие манипуляции с многочленами),вызывает функцию нормализации, которая должна удалить все **старшие** нули из списка коэффициентов: (`[1, 2, 3, 0, 0]` -> `[1, 2, 3]`), и создает кортеж, в котором первым элементом (не считая ID) идет переменная, а дальше перечисляются все коэффициенты многочлена. Если в многочлене все коэффициенты нулевые, то это нулевой многочлен и он представляется пустым списком коэффициентов."
      ],
      "metadata": {
        "id": "tG3YHWYoxLUd"
      }
    },
    {
      "cell_type": "code",
      "source": [
        "def polynomial(A: list, var: Expression = symbol('x'), rev = False) -> Expression:\n",
        "  C = [fix(a).T for a in A]\n",
        "  return Expression(polynomial_(C, var.T, rev))\n",
        "\n",
        "def polynomial_(A: list, var: tuple = symbol_('x'), rev: bool = False) -> tuple:\n",
        "  B = [cast_integer_rational(a) if ID(a) == 'integer' else a for a in A]\n",
        "  C = normalize_polynomial(B)\n",
        "  return 'polynomial', var, *C, {'rev': rev}\n",
        "\n",
        "def normalize_polynomial(A: list) -> list:\n",
        "  # используйте функцию is_zero для проверки элемента на равенство нулю\n",
        "  for i in range(len(A)):\n",
        "    if is_zero(A[-1]):\n",
        "      A.pop(-1)\n",
        "  return A\n",
        "\n",
        "\n",
        "p = polynomial([1, 2, 3, 0, 0])\n",
        "for t in items(p.T):\n",
        "  show(Expression(t))"
      ],
      "metadata": {
        "colab": {
          "base_uri": "https://localhost:8080/"
        },
        "id": "ZPT8-zpUxOn8",
        "outputId": "6ad2775f-2951-4862-a174-05504908f34d"
      },
      "execution_count": 87,
      "outputs": [
        {
          "output_type": "display_data",
          "data": {
            "text/plain": [
              "<IPython.core.display.Math object>"
            ],
            "text/latex": "$\\displaystyle x$"
          },
          "metadata": {}
        },
        {
          "output_type": "display_data",
          "data": {
            "text/plain": [
              "<IPython.core.display.Math object>"
            ],
            "text/latex": "$\\displaystyle {1}$"
          },
          "metadata": {}
        },
        {
          "output_type": "display_data",
          "data": {
            "text/plain": [
              "<IPython.core.display.Math object>"
            ],
            "text/latex": "$\\displaystyle {2}$"
          },
          "metadata": {}
        },
        {
          "output_type": "display_data",
          "data": {
            "text/plain": [
              "<IPython.core.display.Math object>"
            ],
            "text/latex": "$\\displaystyle {3}$"
          },
          "metadata": {}
        }
      ]
    },
    {
      "cell_type": "markdown",
      "source": [
        "* Напишем функцию `linear_combination` для построения линейных комбинаций (в списочном представлении): заданы два списка выражений, надо построить выражение, являющееся суммой попарных произведений соответствующих элементов этих двух списков: $[1, 2, 3], [x^2, x, 1] \\to x^2 + 2x + 3$. Эта функция будет использоваться нами, в частности, для визуализации многочленов. Результирующее выражение должно быть построено в максимально естественном виде: если один из сомножителей равен нулю, то данное произведение в линейную комбинацию не включается; если один из сомножителей равен единице, то он не включается в произведение; если первый коэффициент - отрицательное число, то он заменяется на свой модуль, а слагаемое включается в сумму через вычитание (а не сложение) и т.д. Если все слагаемые нулевые, то выходом должно быть число 0."
      ],
      "metadata": {
        "id": "lm4bpbc-0xpg"
      }
    },
    {
      "cell_type": "code",
      "source": [
        "def linear_combination(A: list, B: list) -> tuple:\n",
        "  A = [cast_integer_rational(a) if ID(a) == 'integer' else a for a in A]\n",
        "  B = [cast_integer_rational(b) if ID(b) == 'integer' else b for b in B]\n",
        "  sum = None\n",
        "  for a, b in zip(A, B):\n",
        "    # генерируем новое слагаемое и включаем его в итоговую сумму\n",
        "    sum = next_term(sum, a, b)\n",
        "  return sum if sum else integer_(0)\n",
        "\n",
        "def next_term(sum: tuple, a: tuple, b: tuple) -> tuple:\n",
        "  if is_zero(a) or is_zero(b):\n",
        "    return sum # нулевые слагаемые в сумму не включаем\n",
        "  s, t = make_term(a, b) # генерируем знак слагаемого (s) и само слагаемое (t)\n",
        "  if sum == None: # если слагаемое первое, его не надо прибавлять или вычитать\n",
        "    if s == 1: return t # положительное первое слагаемое\n",
        "    # отрицательное первое слагаемое\n",
        "    if ID(t) == 'mul': return mul_(neg_(t[1]), t[2]) # вносим `-` в первый множитель, если он есть\n",
        "    return neg_(t)\n",
        "  # если знак +, то прибавляем слагаемое к сумме, если -, то вычитаем\n",
        "  return add_(sum, t) if s == 1 else sub_(sum, t)\n",
        "\n",
        "def make_term(a: tuple, b: tuple) -> tuple:\n",
        "  s = 1 # знак по умолчанию +\n",
        "  if ID(a) == 'rational':\n",
        "    # если первый множитель - число, анализируем его знак и значение\n",
        "    n, m = options(a)['num'], options(a)['denom']\n",
        "    if (n, m) == (1, 1): return 1, b # a = 1\n",
        "    if (n, m) == (-1, 1): return -1, b # a = -1\n",
        "    if n < 0: s, a = -1, rational_(-n, m) # a < 0\n",
        "  # если b == 1, то возвращаем (s, a), иначе (s, a*b)\n",
        "  return (s, a) if b == rational_(1, 1) else (s, mul_(a, b))\n",
        "\n",
        "n = 5\n",
        "A = [integer_(k-2) for k in range(n)]\n",
        "B = [deg_(symbol_('x'), integer_(n - 1 - k)) if k != n - 1 else integer_(1) for k in range(n)]\n",
        "show(Expression(linear_combination(A, B)))\n",
        "\n",
        "A = [symbol_(a) for a in 'abc']\n",
        "B = [deg_(symbol_('x'), integer_(2)), symbol_('x'), integer_(1)]\n",
        "show(Expression(linear_combination(A, B)))"
      ],
      "metadata": {
        "colab": {
          "base_uri": "https://localhost:8080/"
        },
        "id": "6KUO5SPN00M2",
        "outputId": "5eed920d-7790-4e01-8e46-8ab9d3adb3f9"
      },
      "execution_count": 88,
      "outputs": [
        {
          "output_type": "display_data",
          "data": {
            "text/plain": [
              "<IPython.core.display.Math object>"
            ],
            "text/latex": "$\\displaystyle {{{{ -{{2}}} \\cdot {{x}^{4}}} - {{x}^{3}}} + {{x}^{1}}} + {{2}}$"
          },
          "metadata": {}
        },
        {
          "output_type": "display_data",
          "data": {
            "text/plain": [
              "<IPython.core.display.Math object>"
            ],
            "text/latex": "$\\displaystyle {{{a} \\cdot {{x}^{2}}} + {{b} \\cdot {x}}} + {c}$"
          },
          "metadata": {}
        }
      ]
    },
    {
      "cell_type": "markdown",
      "source": [
        "* Напишите функцию `make_deg(x: tuple, k: int)`, которая по заданной переменной $x$ и степени $k$ делает списочное степенное выражение. Нужно учитывать случаи $k=0$ (степень равна 1) и $k=1$ (степень равна $x$)."
      ],
      "metadata": {
        "id": "tAmSe20y0_W-"
      }
    },
    {
      "cell_type": "code",
      "source": [
        "def make_deg(x: tuple, k: int) -> tuple:\n",
        "  if k == 0:\n",
        "    return integer_(1)\n",
        "  if k == 1:\n",
        "    return x\n",
        "  return deg_(x, integer_(k))\n",
        "\n",
        "x = symbol_('x')\n",
        "a = make_deg(x, 5)\n",
        "show(Expression(a))"
      ],
      "metadata": {
        "colab": {
          "base_uri": "https://localhost:8080/"
        },
        "id": "vhFspQMI1CWL",
        "outputId": "332e2fd5-24e3-4582-e37e-c314329a0324"
      },
      "execution_count": 89,
      "outputs": [
        {
          "output_type": "display_data",
          "data": {
            "text/plain": [
              "<IPython.core.display.Math object>"
            ],
            "text/latex": "$\\displaystyle {x}^{5}$"
          },
          "metadata": {}
        }
      ]
    },
    {
      "cell_type": "markdown",
      "source": [
        "* Напишите функцию `polynomial2expression(x: tuple)` для преобразования многочлена в арифметическое выражение с использованием функции `linear_combination`. Нужно выделить из многочлена список `A` коэффициентов (первый элемент `items(x)` - это переменная, остальные - коэффициенты), создать список `D` такой же длины из степеней переменной (функция `make_deg`), если флаг `options(x)['rev']` равен `True`, то обратить оба списка. Вызвать функцию `linear_combination(A, D)` и вернуть собранное ею выражение."
      ],
      "metadata": {
        "id": "TZhalNCm2n1u"
      }
    },
    {
      "cell_type": "code",
      "source": [
        "def polynomial2expression(x: tuple) -> tuple:\n",
        "  v, A, rev = items(x)[0], items(x)[1:], options(x)['rev']\n",
        "  D = []\n",
        "  for i in range(len(A)):\n",
        "    D.append(make_deg(v, i))\n",
        "  if not rev:\n",
        "    A, D = A[:: -1], D[:: -1] # обратить списки A и D\n",
        "  return linear_combination(A, D)"
      ],
      "metadata": {
        "id": "W6zCeEsg2qan"
      },
      "execution_count": 90,
      "outputs": []
    },
    {
      "cell_type": "markdown",
      "source": [
        "* Для преобразование многочлена в формат LaTeX преобразуем его в арифметическое выражение, которое стандартным образом преобразуем в LaTeX. Проверяем!"
      ],
      "metadata": {
        "id": "01Ik5oKX88ap"
      }
    },
    {
      "cell_type": "code",
      "source": [
        "def latex_polynomial(x: tuple) -> str:\n",
        "  return latex_(polynomial2expression(x))\n",
        "\n",
        "p = polynomial([Q(-2, 3), -2, 0, Q(5, 15), 0, 0], rev = True)\n",
        "show(p)\n",
        "\n",
        "p = polynomial([3, -2, 1])\n",
        "show(p)"
      ],
      "metadata": {
        "colab": {
          "base_uri": "https://localhost:8080/"
        },
        "id": "2kJxTwKQ8-rz",
        "outputId": "9b112650-09d7-4d24-bf9a-003e63800747"
      },
      "execution_count": 91,
      "outputs": [
        {
          "output_type": "display_data",
          "data": {
            "text/plain": [
              "<IPython.core.display.Math object>"
            ],
            "text/latex": "$\\displaystyle {{ -{\\frac{2}{3}}} - {{{2}} \\cdot {x}}} + {{\\frac{1}{3}} \\cdot {{x}^{3}}}$"
          },
          "metadata": {}
        },
        {
          "output_type": "display_data",
          "data": {
            "text/plain": [
              "<IPython.core.display.Math object>"
            ],
            "text/latex": "$\\displaystyle {{{x}^{2}} - {{{2}} \\cdot {x}}} + {{3}}$"
          },
          "metadata": {}
        }
      ]
    },
    {
      "cell_type": "markdown",
      "source": [
        "### Арифметика\n",
        "\n",
        "* Определим приоритет \"операции\" polynomial равным 5 (меньше арифметических операций), чтобы они отделялись от других операндов скобками."
      ],
      "metadata": {
        "id": "1r1H47jb9mJO"
      }
    },
    {
      "cell_type": "code",
      "source": [
        "priority['polynomial'] = 5\n",
        "p = polynomial([3, -2, 1])\n",
        "q = polynomial([-1, 0, 1])\n",
        "show((p * q) / (-p + q))"
      ],
      "metadata": {
        "colab": {
          "base_uri": "https://localhost:8080/"
        },
        "id": "xGzZ3Fr19osf",
        "outputId": "008127db-f443-4891-c532-95e75930ab95"
      },
      "execution_count": 92,
      "outputs": [
        {
          "output_type": "display_data",
          "data": {
            "text/plain": [
              "<IPython.core.display.Math object>"
            ],
            "text/latex": "$\\displaystyle \\frac{{\\left( {{{x}^{2}} - {{{2}} \\cdot {x}}} + {{3}} \\right)} \\cdot {\\left( {{x}^{2}} - {{1}} \\right)}}{{ -{{{{x}^{2}} - {{{2}} \\cdot {x}}} + {{3}}}} + {\\left( {{x}^{2}} - {{1}} \\right)}}$"
          },
          "metadata": {}
        }
      ]
    },
    {
      "cell_type": "markdown",
      "source": [
        "* Напишем функцию оценивания многочлена `eval_polynomial(x: tuple)`, которая должна 1) оценивать рекурсивно все коэффициенты многочлена (включая переменную); 2) если 'переменная' многочлена является числом (а это не запрещено нашим конструктором), то нужно преобразовать многочлен в выражение и оценить его. Последняя операция позволит выполнять подстановку в многочлен числовых значений с вычислением результата (см. последний пример в коде).  "
      ],
      "metadata": {
        "id": "w8WjOlkv9viA"
      }
    },
    {
      "cell_type": "code",
      "source": [
        "def eval_polynomial(x: tuple) -> tuple:\n",
        "  A = [eval_(a) for a in items(x)]\n",
        "  if ID(A[0]) in ['integer', 'rational']:\n",
        "    return eval_(polynomial2expression(x))\n",
        "  return 'polynomial', *A, options(x)\n",
        "\n",
        "p = polynomial([0, 1, Q(3, 2) + 1, 0, 0, 1])\n",
        "show(p)\n",
        "show(evaluate(p))\n",
        "show(evaluate(subs(p, {symbol('x'): Q(1, 2)})))"
      ],
      "metadata": {
        "colab": {
          "base_uri": "https://localhost:8080/"
        },
        "id": "Zeh34ss490rU",
        "outputId": "cd4ccb53-72e2-4612-bf71-06fd972470e6"
      },
      "execution_count": 93,
      "outputs": [
        {
          "output_type": "display_data",
          "data": {
            "text/plain": [
              "<IPython.core.display.Math object>"
            ],
            "text/latex": "$\\displaystyle {{{x}^{5}} + {{\\left( {\\frac{3}{2}} + {1} \\right)} \\cdot {{x}^{2}}}} + {x}$"
          },
          "metadata": {}
        },
        {
          "output_type": "display_data",
          "data": {
            "text/plain": [
              "<IPython.core.display.Math object>"
            ],
            "text/latex": "$\\displaystyle {{{x}^{5}} + {{\\frac{5}{2}} \\cdot {{x}^{2}}}} + {x}$"
          },
          "metadata": {}
        },
        {
          "output_type": "display_data",
          "data": {
            "text/plain": [
              "<IPython.core.display.Math object>"
            ],
            "text/latex": "$\\displaystyle \\frac{37}{32}$"
          },
          "metadata": {}
        }
      ]
    },
    {
      "cell_type": "markdown",
      "source": [
        "* Реализуем оценивание операции сложения многочленов. Добавим соответствующую команду в словарь `OPERATIONS`."
      ],
      "metadata": {
        "id": "j-cIxDfx-HgL"
      }
    },
    {
      "cell_type": "code",
      "source": [
        "OPERATIONS['add'].append('add_polynomial_polynomial')"
      ],
      "metadata": {
        "id": "rQvD7z94-LhD"
      },
      "execution_count": 94,
      "outputs": []
    },
    {
      "cell_type": "markdown",
      "source": [
        "* Напишите функцию выравнивания длин двух списков `A` и `B` дополнением короткого списка \"нулевыми\" элементами `val` до длины длиннного списка. Функция должна вернуть два списка одинаковой длины."
      ],
      "metadata": {
        "id": "e-bC3jS3-Np3"
      }
    },
    {
      "cell_type": "code",
      "source": [
        "def align_lists(A: list, B: list, val: tuple = rational_(0, 1)) -> tuple:\n",
        "  n, m = len(A), len(B) # выравнивание\n",
        "  A = A + [val] * max(0, m - n)\n",
        "  B = B + [val] * max(0, n - m)\n",
        "  return A, B\n"
      ],
      "metadata": {
        "id": "lBf22XBk-Rim"
      },
      "execution_count": 95,
      "outputs": []
    },
    {
      "cell_type": "markdown",
      "source": [
        "* Пишем и проверяем код операции сложения. Если переменные у двух многочленов не совпадают, то операцию выполнить нельзя, выбрасываем исключение, которое будет \"поймано\" функцией `eval_`.  "
      ],
      "metadata": {
        "id": "TditzohgpK9N"
      }
    },
    {
      "cell_type": "code",
      "source": [
        "def add_polynomial_polynomial(x: tuple, y: tuple) -> tuple:\n",
        "  if x[1] != y[1]: # переменные не совпадают, операция не выполнима!\n",
        "    raise\n",
        "  A, B = align_lists(list(items(x)[1:]), list(items(y)[1:]))\n",
        "  C = [eval_(add_(a, b)) for a, b in zip(A, B)]\n",
        "  return polynomial_(C, x[1], rev = options(x)['rev'])\n",
        "\n",
        "p = polynomial([4, -2, 1])\n",
        "q = polynomial([-3, 0, -1])\n",
        "show(p + q == evaluate(p + q))"
      ],
      "metadata": {
        "colab": {
          "base_uri": "https://localhost:8080/"
        },
        "id": "pt-qYvPLpNnX",
        "outputId": "82f9d070-1ca1-4d2b-d545-b156918caf5b"
      },
      "execution_count": 96,
      "outputs": [
        {
          "output_type": "display_data",
          "data": {
            "text/plain": [
              "<IPython.core.display.Math object>"
            ],
            "text/latex": "$\\displaystyle {{\\left( {{{x}^{2}} - {{{2}} \\cdot {x}}} + {{4}} \\right)} + {\\left( { -{{x}^{2}}} - {{3}} \\right)}} = {{{ -{{2}}} \\cdot {x}} + {{1}}}$"
          },
          "metadata": {}
        }
      ]
    },
    {
      "cell_type": "markdown",
      "source": [
        "* Напишите по той же схеме (см. коды операций из лекции) операции вычитания многочленов, умножения рационального числа на многочлен, умножения двух многочленов. Внесите соответствующие изменения в словарь `OPERATIONS`."
      ],
      "metadata": {
        "id": "u9qZRxfUpR6F"
      }
    },
    {
      "cell_type": "code",
      "source": [
        "OPERATIONS['sub'].append('sub_polynomial_polynomial')"
      ],
      "metadata": {
        "id": "VwmXTTuIqJvI"
      },
      "execution_count": 97,
      "outputs": []
    },
    {
      "cell_type": "code",
      "source": [
        "def sub_polynomial_polynomial(x: tuple, y: tuple) -> tuple:\n",
        "\n",
        "  if x[1] != y[1]: # переменные не совпадают, операция не выполнима!\n",
        "    raise\n",
        "  A, B = align_lists(list(items(x)[1:]), list(items(y)[1:]))\n",
        "  C = [eval_(sub_(a, b)) for a, b in zip(A, B)]\n",
        "  return polynomial_(C, x[1], rev = options(x)['rev'])\n",
        "\n",
        "p = polynomial([4, -2, 1])\n",
        "q = polynomial([-3, 0, -1])\n",
        "show(p - q == evaluate(p - q))"
      ],
      "metadata": {
        "colab": {
          "base_uri": "https://localhost:8080/"
        },
        "id": "vQ_J_u_npUfJ",
        "outputId": "82807dc1-2fd9-4e60-8047-b4ce7d160dfb"
      },
      "execution_count": 98,
      "outputs": [
        {
          "output_type": "display_data",
          "data": {
            "text/plain": [
              "<IPython.core.display.Math object>"
            ],
            "text/latex": "$\\displaystyle {{\\left( {{{x}^{2}} - {{{2}} \\cdot {x}}} + {{4}} \\right)} - {\\left( { -{{x}^{2}}} - {{3}} \\right)}} = {{{{{2}} \\cdot {{x}^{2}}} - {{{2}} \\cdot {x}}} + {{7}}}$"
          },
          "metadata": {}
        }
      ]
    },
    {
      "cell_type": "code",
      "source": [
        "OPERATIONS['mul'].append('mul_rational_polynomial')"
      ],
      "metadata": {
        "id": "v-CfeDqBsP4r"
      },
      "execution_count": 99,
      "outputs": []
    },
    {
      "cell_type": "code",
      "source": [
        "def mul_rational_polynomial(x: tuple, y: tuple) -> tuple:\n",
        "  A = items(y)[1:]\n",
        "  C = [eval_(mul_(x, a)) for a in A]\n",
        "  return polynomial_(C, y[1], rev = options(y)['rev'])\n",
        "\n",
        "p = polynomial([1, 2, -2], var = symbol('t'), rev = True)\n",
        "show(-1 * p == evaluate(-1 * p))"
      ],
      "metadata": {
        "colab": {
          "base_uri": "https://localhost:8080/"
        },
        "id": "rpyj9zW7sMrb",
        "outputId": "6dadabd5-b488-4322-997a-38b6d4c55967"
      },
      "execution_count": 100,
      "outputs": [
        {
          "output_type": "display_data",
          "data": {
            "text/plain": [
              "<IPython.core.display.Math object>"
            ],
            "text/latex": "$\\displaystyle {{-1} \\cdot {\\left( {{{1}} + {{{2}} \\cdot {t}}} - {{{2}} \\cdot {{t}^{2}}} \\right)}} = {{{ -{{1}}} - {{{2}} \\cdot {t}}} + {{{2}} \\cdot {{t}^{2}}}}$"
          },
          "metadata": {}
        }
      ]
    },
    {
      "cell_type": "code",
      "source": [
        "OPERATIONS['mul'].append('mul_polynomial_polynomial')"
      ],
      "metadata": {
        "id": "ZuE94EteqgsV"
      },
      "execution_count": 101,
      "outputs": []
    },
    {
      "cell_type": "code",
      "source": [
        "def mul_polynomial_polynomial(x: tuple, y: tuple) -> tuple:\n",
        "  A, B = align_lists(list(items(x)[1:]), list(items(y)[1:]))\n",
        "  n = len(A)\n",
        "  C = [integer_(0)] * (2*n - 1)\n",
        "  for i in range(n):\n",
        "    for j in range(n):\n",
        "      C[i + j] = eval_(add_(C[i + j], mul_(A[i], B[j])))\n",
        "  return polynomial_(C, x[1], rev = options(x)['rev'])\n",
        "\n",
        "p = polynomial([3, -2, 1])\n",
        "q = polynomial([-1, 0, 1])\n",
        "show(p * q == evaluate(p * q))"
      ],
      "metadata": {
        "colab": {
          "base_uri": "https://localhost:8080/"
        },
        "id": "1hW0u3D0qp3q",
        "outputId": "726d7cd9-ed23-4fcf-de74-0f93a290f122"
      },
      "execution_count": 102,
      "outputs": [
        {
          "output_type": "display_data",
          "data": {
            "text/plain": [
              "<IPython.core.display.Math object>"
            ],
            "text/latex": "$\\displaystyle {{\\left( {{{x}^{2}} - {{{2}} \\cdot {x}}} + {{3}} \\right)} \\cdot {\\left( {{x}^{2}} - {{1}} \\right)}} = {{{{{{x}^{4}} - {{{2}} \\cdot {{x}^{3}}}} + {{{2}} \\cdot {{x}^{2}}}} + {{{2}} \\cdot {x}}} - {{3}}}$"
          },
          "metadata": {}
        }
      ]
    },
    {
      "cell_type": "markdown",
      "source": [
        "* Напишем списочную функцию `shift_polynomial(x: tuple, k: int)` для \"сдвига\" многочлена `x` на положительное целое число `k`. Сдвиг эквивалентен умножению многочлена на k-ю степень переменной: $x^2 - 2, k=2 \\to x^4-2x^2$."
      ],
      "metadata": {
        "id": "2rLwKkNlsy-7"
      }
    },
    {
      "cell_type": "code",
      "source": [
        "def shift_polynomial(x: tuple, k: int) -> tuple:\n",
        "  A = [rational_(0, 1)] * k + list(items(x)[1:])\n",
        "  return polynomial_(A, x[1], options(x)['rev'])\n",
        "\n",
        "p = polynomial([1, 0, 2])\n",
        "show(p)\n",
        "show(Expression(shift_polynomial(p.T, 2)))"
      ],
      "metadata": {
        "colab": {
          "base_uri": "https://localhost:8080/"
        },
        "id": "gsy4b7ynsx7T",
        "outputId": "651e108e-a790-4fc8-c393-4111ef04e8d6"
      },
      "execution_count": 103,
      "outputs": [
        {
          "output_type": "display_data",
          "data": {
            "text/plain": [
              "<IPython.core.display.Math object>"
            ],
            "text/latex": "$\\displaystyle {{{2}} \\cdot {{x}^{2}}} + {{1}}$"
          },
          "metadata": {}
        },
        {
          "output_type": "display_data",
          "data": {
            "text/plain": [
              "<IPython.core.display.Math object>"
            ],
            "text/latex": "$\\displaystyle {{{2}} \\cdot {{x}^{4}}} + {{x}^{2}}$"
          },
          "metadata": {}
        }
      ]
    },
    {
      "cell_type": "markdown",
      "source": [
        "* Напишите функцию деления многочленов с остатком, которая возвращает два выражения - целую часть от деления и остаток."
      ],
      "metadata": {
        "id": "xTEfBCnzs6dt"
      }
    },
    {
      "cell_type": "code",
      "source": [
        "def divide_polynomials(x: Expression, y: Expression) -> tuple:\n",
        "  p, q = divide_polynomials_(x.T, y.T)\n",
        "  return Expression(p), Expression(q)\n",
        "\n",
        "def divide_polynomials_(x: tuple, y: tuple) -> tuple:\n",
        "  if x[1] != y[1]: # переменные не совпадают\n",
        "    raise\n",
        "  A = items(x)[1:]\n",
        "  B = items(y)[1:]\n",
        "  R, D, K = A[:], [], len(A) - len(B)\n",
        "  for k in range(K + 1):\n",
        "    d = div_(R[-1],  B[-1])\n",
        "    M = shift_polynomial(polynomial_([d], x[1]), K - k)\n",
        "    D = [d] + D\n",
        "    R = items(sub_polynomial_polynomial(polynomial_(R, x[1]), mul_polynomial_polynomial(y, M)))[1:]\n",
        "  D = [eval_(d) for d in D]\n",
        "  R = [eval_(r) for r in R]\n",
        "  return polynomial_(D, x[1], options(x)['rev']), polynomial_(R, x[1], options(x)['rev'])\n",
        "\n",
        "\n",
        "p = polynomial([2, -1, 2, -3, 1])\n",
        "q = polynomial([2, -2, 1])\n",
        "d, r = divide_polynomials(p, q)\n",
        "show(p / q == d + r / q)"
      ],
      "metadata": {
        "colab": {
          "base_uri": "https://localhost:8080/"
        },
        "id": "g7-Des5Rs_kE",
        "outputId": "c6bf0f36-8de4-454c-cd7f-83d1945cc459"
      },
      "execution_count": 104,
      "outputs": [
        {
          "output_type": "display_data",
          "data": {
            "text/plain": [
              "<IPython.core.display.Math object>"
            ],
            "text/latex": "$\\displaystyle {\\frac{{{{{{x}^{4}} - {{{3}} \\cdot {{x}^{3}}}} + {{{2}} \\cdot {{x}^{2}}}} - {x}} + {{2}}}{{{{x}^{2}} - {{{2}} \\cdot {x}}} + {{2}}}} = {{\\left( {{{x}^{2}} - {x}} - {{2}} \\right)} + {\\frac{{{ -{{3}}} \\cdot {x}} + {{6}}}{{{{x}^{2}} - {{{2}} \\cdot {x}}} + {{2}}}}}$"
          },
          "metadata": {}
        }
      ]
    },
    {
      "cell_type": "markdown",
      "source": [
        "* (бонусное задание) Реализуйте алгоритм Евклида для поиска наибольшего общего делителя двух многочленов. Для получения наиболее простого результата после выполнения каждого деления, нужно преобразовывать найденный остаток от деления к приведенному виду: $2x^2+3x-4 \\to x^2+\\frac32 x -2$. Для проверки останова алгоритма (остаток равен нулю) используйте функцию `isZero`, нужно дописать функцию `is_zero_polynomial`, которая проверяла бы, является ли многочлен нулевым."
      ],
      "metadata": {
        "id": "FQJ7sLO6tFET"
      }
    },
    {
      "cell_type": "code",
      "source": [
        "def polynomialGCD(x: Expression, y: Expression) -> Expression:\n",
        "  A = x\n",
        "  B = y\n",
        "  while not isZero(B):\n",
        "    B_temp = items(B.T)[1:]\n",
        "    B_temp = [eval_(div_(b, B_temp[0])) for b in B_temp]\n",
        "    B = Expression(polynomial_(B_temp, items(B.T)[0], options(B.T)['rev']))\n",
        "    A, B = B, divide_polynomials(A, B)[1]\n",
        "  return A\n",
        "\n",
        "def is_zero_polynomial(x: tuple) -> bool:\n",
        "  return len(items(x)) == 1\n",
        "\n",
        "p = evaluate(polynomial([1, 1]) * polynomial([2, -3, 1]))\n",
        "q = evaluate(polynomial([1, 1]) * polynomial([2, 1]))\n",
        "show(p / q)\n",
        "c = polynomialGCD(p, q)\n",
        "show(c)"
      ],
      "metadata": {
        "colab": {
          "base_uri": "https://localhost:8080/"
        },
        "id": "tugA2o5jtITr",
        "outputId": "f26c162f-0150-4635-bfc0-ebed71ebbf69"
      },
      "execution_count": 105,
      "outputs": [
        {
          "output_type": "display_data",
          "data": {
            "text/plain": [
              "<IPython.core.display.Math object>"
            ],
            "text/latex": "$\\displaystyle \\frac{{{{{x}^{3}} - {{{2}} \\cdot {{x}^{2}}}} - {x}} + {{2}}}{{{{x}^{2}} + {{{3}} \\cdot {x}}} + {{2}}}$"
          },
          "metadata": {}
        },
        {
          "output_type": "display_data",
          "data": {
            "text/plain": [
              "<IPython.core.display.Math object>"
            ],
            "text/latex": "$\\displaystyle {x} + {{1}}$"
          },
          "metadata": {}
        }
      ]
    },
    {
      "cell_type": "markdown",
      "source": [
        "### Факторизация многочленов\n",
        "\n",
        "Будем предполагать, что факторизуемый многочлен является приведенным и имеет целые коэффициенты."
      ],
      "metadata": {
        "id": "ztuc8d7Stbn8"
      }
    },
    {
      "cell_type": "markdown",
      "source": [
        "* Реализуйте схему Горнера для многочлена, представленного списком `A` **целых** коэффициентов, и заданного **целого** числа `d`. Функция должна возвращать полный список вычисленных значений (см. презентацию лекции), из которых самым младшим является остаток от деления, а все остальные коэффициента списка соответствуют многочлену, представляющему целую часть от деления. Учитывайте, что младший коэффициент - первый элемент списка, старший - последний. Вызов `horner_method([2, -3, 1], 1)` должен вернуть список `[0, -2, 1]` (что соответствует делению многочлена $x^2-3x+2$ на бином $x-1$, проверьте)."
      ],
      "metadata": {
        "id": "xR_ai3HDteKt"
      }
    },
    {
      "cell_type": "code",
      "source": [
        "def horner_method(A: list, d: int) -> list:\n",
        "\tr, B = 0, []\n",
        "\tfor c in A[::-1]:\n",
        "\t\tr = c + r * d\n",
        "\t\tB = [r] + B\n",
        "\treturn B\n",
        "\n",
        "A = [2, -3, 1]\n",
        "horner_method(A, 1)"
      ],
      "metadata": {
        "colab": {
          "base_uri": "https://localhost:8080/"
        },
        "id": "hVFhGDe1ti0k",
        "outputId": "6e90c767-5854-4e60-a623-a32fad5491d1"
      },
      "execution_count": 106,
      "outputs": [
        {
          "output_type": "execute_result",
          "data": {
            "text/plain": [
              "[0, -2, 1]"
            ]
          },
          "metadata": {},
          "execution_count": 106
        }
      ]
    },
    {
      "cell_type": "markdown",
      "source": [
        "* Напишите функцию `def divisors(n: int)`, которая возвращала список всех делителей числа `n`, и положительных, и отрицательных: `divisors(27) -> [1, 3, 9, 27, -1, -3, -9, -27]`."
      ],
      "metadata": {
        "id": "8ZSjqKNEu3bJ"
      }
    },
    {
      "cell_type": "code",
      "source": [
        "def divisors(n: int) -> list:\n",
        "  k = []\n",
        "  for i in range(1, n + 1):\n",
        "    if n % i == 0:\n",
        "      k.append(i)\n",
        "  return k + [-1 * i for i in k]\n",
        "\n",
        "divisors(27)"
      ],
      "metadata": {
        "colab": {
          "base_uri": "https://localhost:8080/"
        },
        "id": "u4GEPCWvvAUB",
        "outputId": "c2fda7d8-3f51-4a11-a7f1-f18a72d51282"
      },
      "execution_count": 107,
      "outputs": [
        {
          "output_type": "execute_result",
          "data": {
            "text/plain": [
              "[1, 3, 9, 27, -1, -3, -9, -27]"
            ]
          },
          "metadata": {},
          "execution_count": 107
        }
      ]
    },
    {
      "cell_type": "markdown",
      "source": [
        "Напишем функцию polynomial_factors(A: list) для подбора линейных делителей многочлена, представленного списком коэффициентов A. Функция должна возвращать словарь, ключами которого являются делители-многочлены (в форме кортежей целых коэффициентов), а значениями - степени (кратности) этих делителей."
      ],
      "metadata": {
        "id": "AD1gy4OCvMWB"
      }
    },
    {
      "cell_type": "code",
      "source": [
        "# предполагаем, что младший коэффициент многочлена ненулевой\n",
        "def polynomial_factors(A: list) -> dict:\n",
        "  k, a, F = 0, A[0], {} # счетчик, младший коэффициент, словарь делителей\n",
        "  D = divisors(a) + [0] # список делителей a, 0 в конце - стоп-значение для выхода из цикла while\n",
        "  while D[k]: # перебираем все возможные делители\n",
        "    B = horner_method(A, D[k]) # делим по схеме Горнера\n",
        "    if B[0] == 0: # проверяем, делитель или нет\n",
        "      A = B[1:] # продолжаем искать делители здесь\n",
        "      f = (-D[k], 1) # формируем делитель (бином) x-D[k]\n",
        "      F[f] = F.get(f, 0) + 1 # обновляем словарь\n",
        "      continue # продолжаем проверять тот же делитель\n",
        "    k += 1 # переходим к следующему кандидату\n",
        "  if len(A) > 1:\n",
        "    F[tuple(A)] = 1 # неразложенная часть многочлена\n",
        "  return F\n",
        "\n",
        "A = [-2, 5, -4, 1]\n",
        "polynomial_factors(A)"
      ],
      "metadata": {
        "colab": {
          "base_uri": "https://localhost:8080/"
        },
        "id": "O41lgDynvPDz",
        "outputId": "8d1797df-6779-4338-d9f4-981c49c77f28"
      },
      "execution_count": 108,
      "outputs": [
        {
          "output_type": "execute_result",
          "data": {
            "text/plain": [
              "{(-2, 5, -4, 1): 1}"
            ]
          },
          "metadata": {},
          "execution_count": 108
        }
      ]
    },
    {
      "cell_type": "markdown",
      "source": [
        "* Напишем функцию факторизации, головная функция для факторизации многочлена типа `Expression` вызывает списочную функцию факторизации `factorize_polynomial`. Последняя преобразует список коэффициентов"
      ],
      "metadata": {
        "id": "yBm6kaV9vWq6"
      }
    },
    {
      "cell_type": "code",
      "source": [
        "def factorizePolynomial(x: Expression) -> Expression:\n",
        "  return Expression(factorize_polynomial(x.T))\n",
        "\n",
        "def factorize_polynomial(x: tuple) -> tuple:\n",
        "  # приведенный многочлен с целыми коэффициентами\n",
        "  v = x[1] # переменная многочлена\n",
        "  A = [options(a)['num'] for a in items(x)[1:]] # целочисленный массив коэффициентов\n",
        "  F = polynomial_factors(A) # словарь (мультимножество) множителей\n",
        "  R = () # искомое разложение в формате списочного выражения\n",
        "  for k in F:\n",
        "    f = make_polynomial_factor(k, F[k], v) # делитель F[k] в степени k для переменной v\n",
        "    R = f if R == () else mul_(R, f) # первый делитель или нет (тогда умножаем)\n",
        "  return R\n",
        "\n",
        "def make_polynomial_factor(F: tuple, d: int, v: tuple) -> tuple:\n",
        "  A = [integer_(f) for f in F] # коэффициенты многочлена\n",
        "  p = polynomial_(A, v) # создаем многочлен\n",
        "  # если степень 1, возвращаем p, иначе - p**d\n",
        "  return p if d == 1 else deg_(p, integer_(d))\n",
        "\n",
        "p = evaluate(polynomial([-1, 3, -3, 1]) * polynomial([2, 1]) )\n",
        "show(p)\n",
        "f = factorizePolynomial(p)\n",
        "show(f)"
      ],
      "metadata": {
        "colab": {
          "base_uri": "https://localhost:8080/"
        },
        "id": "pVAKj6aBvZ8G",
        "outputId": "62067df0-9bf4-4c8a-fef9-58db9eed3253"
      },
      "execution_count": 109,
      "outputs": [
        {
          "output_type": "display_data",
          "data": {
            "text/plain": [
              "<IPython.core.display.Math object>"
            ],
            "text/latex": "$\\displaystyle {{{{{x}^{4}} - {{x}^{3}}} - {{{3}} \\cdot {{x}^{2}}}} + {{{5}} \\cdot {x}}} - {{2}}$"
          },
          "metadata": {}
        },
        {
          "output_type": "display_data",
          "data": {
            "text/plain": [
              "<IPython.core.display.Math object>"
            ],
            "text/latex": "$\\displaystyle {{{{{x}^{4}} - {{x}^{3}}} - {{{3}} \\cdot {{x}^{2}}}} + {{{5}} \\cdot {x}}} - {{2}}$"
          },
          "metadata": {}
        }
      ]
    },
    {
      "cell_type": "markdown",
      "source": [
        "* Проверяем на многочлене $x^{12}-1$."
      ],
      "metadata": {
        "id": "cAcZKKNGvddu"
      }
    },
    {
      "cell_type": "code",
      "source": [
        "A = [-1] + [0] * 11 + [1]\n",
        "p = polynomial(A)\n",
        "f = factorizePolynomial(p)\n",
        "show(p == f)"
      ],
      "metadata": {
        "colab": {
          "base_uri": "https://localhost:8080/"
        },
        "id": "gQllUWtuvfud",
        "outputId": "cd6b732b-8272-4e11-a428-9bfd4dee8286"
      },
      "execution_count": 110,
      "outputs": [
        {
          "output_type": "display_data",
          "data": {
            "text/plain": [
              "<IPython.core.display.Math object>"
            ],
            "text/latex": "$\\displaystyle {{{x}^{12}} - {{1}}} = {{{x}^{12}} - {{1}}}$"
          },
          "metadata": {}
        }
      ]
    },
    {
      "cell_type": "markdown",
      "source": [
        "### (бонусное задание) Полиномиальная интерполяция методом неопределенных коэффиициентов\n",
        "\n",
        "* Напишите функцию `polynomial_interpolate(X: list, Y: list, v: Expression)`, которая строит интерполяционный многочлен по двум заданным целочисленным массивам `X` и `Y`. Пример: `polynomial_interpolate([-1, 0, 1], [6, 2, 0])` $\\to x^2-3x+2$."
      ],
      "metadata": {
        "id": "FnAWHCw9viQ-"
      }
    },
    {
      "cell_type": "code",
      "source": [],
      "metadata": {
        "id": "Et7U2QzKvlnH"
      },
      "execution_count": 110,
      "outputs": []
    },
    {
      "cell_type": "markdown",
      "source": [
        "### Рациональные функции\n",
        "\n",
        "* Напишем конструктор для рациональных функций, принимающий на вход два многочлена (с произвольными коэффициентами). Если переменные у многочленов разные, то конструктор возвращает обычное частное двух выражений."
      ],
      "metadata": {
        "id": "6eqyfMuKvqVU"
      }
    },
    {
      "cell_type": "code",
      "source": [
        "def rationalFunction(a: Expression, b: Expression) -> Expression:\n",
        "  return Expression(rationalf_(a.T, b.T))\n",
        "\n",
        "def rationalf_(a: tuple, b: tuple) -> tuple:\n",
        "  if a[1] != b[1]:\n",
        "    return div_(a, b)\n",
        "  return 'rationalf', a, b, {}\n",
        "\n",
        "def latex_rationalf(x: tuple) -> str:\n",
        "  return latex_(div_(x[1], x[2]))\n",
        "\n",
        "p, q = polynomial([Q(2, 3), Q(1, 6)]), polynomial([-1, Q(1, 2), 1])\n",
        "r = rationalFunction(p, q)\n",
        "show(r)"
      ],
      "metadata": {
        "colab": {
          "base_uri": "https://localhost:8080/"
        },
        "id": "Ewr8VdJ6vuRE",
        "outputId": "e159eb3f-d7bd-42b4-ba0c-6fa7dc3d2051"
      },
      "execution_count": 111,
      "outputs": [
        {
          "output_type": "display_data",
          "data": {
            "text/plain": [
              "<IPython.core.display.Math object>"
            ],
            "text/latex": "$\\displaystyle \\frac{{{\\frac{1}{6}} \\cdot {x}} + {\\frac{2}{3}}}{{{{x}^{2}} + {{\\frac{1}{2}} \\cdot {x}}} - {{1}}}$"
          },
          "metadata": {}
        }
      ]
    },
    {
      "cell_type": "markdown",
      "source": [
        "* Проверяем случай разных переменных"
      ],
      "metadata": {
        "id": "RIKjK94kv1Ze"
      }
    },
    {
      "cell_type": "code",
      "source": [
        "r = rationalFunction(polynomial([1, 1], symbol('y')), polynomial([-1, 2, 1]))\n",
        "show(r)\n",
        "print(ID(r.T))"
      ],
      "metadata": {
        "colab": {
          "base_uri": "https://localhost:8080/"
        },
        "id": "KVfVyGD-v4oE",
        "outputId": "4425aaa7-5afc-4dba-dd9e-82cc4ee8bdda"
      },
      "execution_count": 112,
      "outputs": [
        {
          "output_type": "display_data",
          "data": {
            "text/plain": [
              "<IPython.core.display.Math object>"
            ],
            "text/latex": "$\\displaystyle \\frac{{y} + {{1}}}{{{{x}^{2}} + {{{2}} \\cdot {x}}} - {{1}}}$"
          },
          "metadata": {}
        },
        {
          "output_type": "stream",
          "name": "stdout",
          "text": [
            "div\n"
          ]
        }
      ]
    },
    {
      "cell_type": "markdown",
      "source": [
        "* (бонусное задание) Напишите функцию нормализации `normalize_rf(f: Expression)` рациональной дроби `f` с рациональными коэффициентами, которая преобразует эту дробь в отношение многочленов с **целыми** коэффициентами. Пример:\n",
        "$$\\frac{\\frac{1}{6} \\cdot x + \\frac{2}{3}}{3 \\cdot {x} ^ {2} + \\frac{1}{2} \\cdot x - 1} \\to \\frac{x + 4}{18 \\cdot {x} ^ {2} + 3 \\cdot x - 6}.$$"
      ],
      "metadata": {
        "id": "R_Dqactcv7Rt"
      }
    },
    {
      "cell_type": "code",
      "source": [],
      "metadata": {
        "id": "-RwgORZswAsH"
      },
      "execution_count": 112,
      "outputs": []
    },
    {
      "cell_type": "markdown",
      "source": [
        "* (бонусное задание) Напишите функцию, которая приводит заданную рациональную дробь к правильному виду, раскладывая ее на целую часть (многочлен) и остаток (правильная дробь с тем же знаменателем). Пример:\n",
        "$$ \\frac{{x} ^ {2} - x + 1}{2 \\cdot x + 1} \\to \\left( \\frac{1}{2} \\cdot x - \\frac{3}{4} \\right) + \\frac{\\frac{7}{4}}{2 \\cdot x + 1}$$"
      ],
      "metadata": {
        "id": "54JymeVDwFqF"
      }
    },
    {
      "cell_type": "code",
      "source": [
        "def splitRationalFunction(f: Expression) -> Expression:\n",
        "  if ID(f.T) == 'rationalf':\n",
        "    a = Expression(items(f.T)[0])\n",
        "    b = Expression(items(f.T)[1])\n",
        "    k, m = divide_polynomials(a, b)\n",
        "    return k, m / b\n",
        "  return f\n",
        "\n",
        "r = rationalFunction(polynomial([1, -1, 1]), polynomial([1, 2]))\n",
        "p, q = splitRationalFunction(r)\n",
        "show(r == p + q)"
      ],
      "metadata": {
        "colab": {
          "base_uri": "https://localhost:8080/"
        },
        "id": "1mEqqrlTwRJp",
        "outputId": "420c8733-202c-4c7f-da84-05a9e4d30c05"
      },
      "execution_count": 113,
      "outputs": [
        {
          "output_type": "display_data",
          "data": {
            "text/plain": [
              "<IPython.core.display.Math object>"
            ],
            "text/latex": "$\\displaystyle {\\frac{{{{x}^{2}} - {x}} + {{1}}}{{{{2}} \\cdot {x}} + {{1}}}} = {{\\left( {{\\frac{1}{2}} \\cdot {x}} - {\\frac{3}{4}} \\right)} + {\\frac{\\frac{7}{4}}{{{{2}} \\cdot {x}} + {{1}}}}}$"
          },
          "metadata": {}
        }
      ]
    },
    {
      "cell_type": "markdown",
      "source": [
        "* Напишите функцию `decomposeRationalFunction(f: Expression)` декомпозиции заданной рациональной дроби в сумму простых дробей в предположении, что числитель и знаменатель дроби - приведенные многочлены с целыми коэффициентами; знаменатель дроби (степени $n$) есть произведение $n$ различных линейных множителей, т.е. имеет $n$ различных целых корней. Схема работы алгоритма: раскладываем знаменатель на произведение с помощью функции `polynomial_factors`; формируем матрицу и вектор правой части системы уравнений для метода неопределенных коэффициентов (см. презентацию лекции); решаем систему и находим коэффициенты разложения; составляем линейную комбинацию полученных простых дробей с найденными коэффициентами. Пример:\n",
        "$$\\frac{5 \\cdot {x} ^ {2} - 3 \\cdot x + 4}{{x} ^ {3} - 2 \\cdot {x} ^ {2} - 5 \\cdot x + 6} \\to -{\\frac{1}{x - 1}} + 4 \\cdot \\frac{1}{x - 3} + 2 \\cdot \\frac{1}{x + 2}.$$"
      ],
      "metadata": {
        "id": "6SwBCHRIwY53"
      }
    },
    {
      "cell_type": "code",
      "source": [
        "def decomposeRationalFunction(f: Expression) -> Expression:\n",
        "  r = decompose_rationalf(f.T)\n",
        "  return Expression(r)\n",
        "\n",
        "def decompose_rationalf(f: tuple) -> tuple:\n",
        "  m1 = items(f)[0]\n",
        "  m2 = items(f)[1]\n",
        "  m1_list = [options(i)['num'] for i in items(m1)[1:]]\n",
        "  m2_list = [options(i)['num'] for i in items(m2)[1:]]\n",
        "  divisor = polynomial_factors(m2_list)\n",
        "\n",
        "  n = len(m1_list)\n",
        "  b = cvector(m1_list) # столбец\n",
        "  t = []\n",
        "  for i in divisor:\n",
        "    k = m2_list\n",
        "    for j in range(divisor[i]):\n",
        "      t += [horner_method(k, -i[0])[1:] + j * [0]]\n",
        "      k = t[-1]\n",
        "\n",
        "  # транспонирование и формирование матрицы\n",
        "  A = [[0 for i in range(n)] for j in range(n)]\n",
        "  for i in range(n):\n",
        "    for j in range(n):\n",
        "      A[j][i] = t[i][j]\n",
        "  A = [el for row in A for el in row]\n",
        "\n",
        "  A = matrix(A, n, n)\n",
        "\n",
        "  D = [] # список простых дробей (выражения в списочном формате вида 1/(x-a))\n",
        "  for i in divisor:\n",
        "    for j in range(divisor[i]):\n",
        "      D += (div_(integer_(1), make_polynomial_factor(i, j + 1, items(m2)[0]))),\n",
        "  C = list(items(solveLinearSystem(A, b).T)) # список коэффициентов (рациональные числа в списочном формате)\n",
        "  return linear_combination(C, D)\n",
        "\n",
        "r = rationalFunction(polynomial([4, -3, 5]), polynomial([6, -5, -2, 1]))\n",
        "show(r == decomposeRationalFunction(r))"
      ],
      "metadata": {
        "colab": {
          "base_uri": "https://localhost:8080/"
        },
        "id": "pfWjFyVywb7a",
        "outputId": "f401fba7-7ce1-4085-a3f4-109d7f45945b"
      },
      "execution_count": 114,
      "outputs": [
        {
          "output_type": "display_data",
          "data": {
            "text/plain": [
              "<IPython.core.display.Math object>"
            ],
            "text/latex": "$\\displaystyle {\\frac{{{{{5}} \\cdot {{x}^{2}}} - {{{3}} \\cdot {x}}} + {{4}}}{{{{{x}^{3}} - {{{2}} \\cdot {{x}^{2}}}} - {{{5}} \\cdot {x}}} + {{6}}}} = {{{ -{\\frac{1}{{x} - {{1}}}}} + {{{4}} \\cdot {\\left( \\frac{1}{{x} - {{3}}} \\right)}}} + {{{2}} \\cdot {\\left( \\frac{1}{{x} + {{2}}} \\right)}}}$"
          },
          "metadata": {}
        }
      ]
    },
    {
      "cell_type": "markdown",
      "source": [
        "# Часть 5"
      ],
      "metadata": {
        "id": "XDgroNnkANN1"
      }
    },
    {
      "cell_type": "markdown",
      "source": [
        "### Вычисление значений выражений"
      ],
      "metadata": {
        "id": "tTVRwC5qAQdQ"
      }
    },
    {
      "cell_type": "markdown",
      "source": [
        "* Создадим набор функций evalf... для вычисления значений выражений в формате float (не путать с оцениванием, которое вычисляет значения выражений в символьной форме). Головная функция принимает на вход выражение класса `Expression` (или число, что пригодится нам далее) и словарь со значениями символов (переменных). Если выражение - число, то оно и возвращается обратно, если нет, то преобразуем словарь, чтобы ключами были имена символов и вызываем универсальный вычислитель `evalf` списочных выражений."
      ],
      "metadata": {
        "id": "P-Q2y3xhAS6I"
      }
    },
    {
      "cell_type": "code",
      "source": [
        "def evalf(f: Expression | int | float, x: dict = {}) -> float:\n",
        "  if isinstance(f, (int, float)):\n",
        "    return float(f)\n",
        "  X = {options(t.T)['name']: evalf(x[t]) for t in x}\n",
        "  return evalf_(f.T, X)"
      ],
      "metadata": {
        "id": "9UD_OmO8AZnM"
      },
      "execution_count": 115,
      "outputs": []
    },
    {
      "cell_type": "markdown",
      "source": [
        "* Универсальный вычислитель формирует команду для вычисления текущего выражения по его `ID` и вызывает эту команду."
      ],
      "metadata": {
        "id": "eAzGG838ApoV"
      }
    },
    {
      "cell_type": "code",
      "source": [
        "def evalf_(f: tuple, x: dict) -> float:\n",
        "  cmd = eval(f\"evalf_{ID(f)}\")\n",
        "  return cmd(f, x)"
      ],
      "metadata": {
        "id": "fhS5p9gLPYOy"
      },
      "execution_count": 116,
      "outputs": []
    },
    {
      "cell_type": "markdown",
      "source": [
        "* Пишем вычислители базовых элементов - чисел, символов и операции сложения. Если выражение не может быть вычислено (например, деление на ноль), то возвращаем в качестве результата константу `None`."
      ],
      "metadata": {
        "id": "StKbqPC4Ax7M"
      }
    },
    {
      "cell_type": "code",
      "source": [
        "def evalf_integer(f: tuple, x: dict) -> float:\n",
        "  return float(options(f)['value'])\n",
        "\n",
        "def evalf_rational(f: tuple, x: dict) -> float:\n",
        "  return options(f)['num'] / options(f)['denom']\n",
        "\n",
        "def evalf_symbol(f: tuple, x: dict) -> float:\n",
        "  n = options(f)['name']\n",
        "  return x.get(n, None)\n",
        "\n",
        "def evalf_add(f: tuple, x: dict) -> float:\n",
        "  a, b = evalf_(f[1], x), evalf_(f[2], x)\n",
        "  return a + b if a and b else None"
      ],
      "metadata": {
        "id": "3GfNM3-rA0mm"
      },
      "execution_count": 117,
      "outputs": []
    },
    {
      "cell_type": "markdown",
      "source": [
        "* Проверяем:"
      ],
      "metadata": {
        "id": "Jax9vmMHA3k5"
      }
    },
    {
      "cell_type": "code",
      "source": [
        "x, y = symbol('x'), symbol('y')\n",
        "f = Q(1, 3) + x + y\n",
        "show(f)\n",
        "evalf(f, {x: 5.5, y: -1}), evalf(1.2)"
      ],
      "metadata": {
        "colab": {
          "base_uri": "https://localhost:8080/"
        },
        "id": "Ch1keyBfBDJp",
        "outputId": "2a65601c-0b8b-482e-dad3-b642ef4f1eea"
      },
      "execution_count": 118,
      "outputs": [
        {
          "output_type": "display_data",
          "data": {
            "text/plain": [
              "<IPython.core.display.Math object>"
            ],
            "text/latex": "$\\displaystyle {{\\frac{1}{3}} + {x}} + {y}$"
          },
          "metadata": {}
        },
        {
          "output_type": "execute_result",
          "data": {
            "text/plain": [
              "(4.833333333333333, 1.2)"
            ]
          },
          "metadata": {},
          "execution_count": 118
        }
      ]
    },
    {
      "cell_type": "markdown",
      "source": [
        "* Напишите по аналогии вычислители всех остальных арифметических операций"
      ],
      "metadata": {
        "id": "yWlrgzA1BdfD"
      }
    },
    {
      "cell_type": "code",
      "source": [
        "def evalf_sub(f: tuple, x: dict) -> float:\n",
        "  a, b = evalf_(f[1], x), evalf_(f[2], x)\n",
        "  return a - b if a and b else None\n",
        "\n",
        "def evalf_mul(f: tuple, x: dict) -> float:\n",
        "  a, b = evalf_(f[1], x), evalf_(f[2], x)\n",
        "  return a * b if a and b else None\n",
        "\n",
        "def evalf_div(f: tuple, x: dict) -> float:\n",
        "  a, b = evalf_(f[1], x), evalf_(f[2], x)\n",
        "  return a / b if a and b else None\n",
        "\n",
        "def evalf_deg(f: tuple, x: dict) -> float:\n",
        "  a, b = evalf_(f[1], x), evalf_(f[2], x)\n",
        "  return a ** b if a and b else None\n",
        "\n",
        "f = Q(1, 3) - x - y\n",
        "show(f)\n",
        "evalf(f, {x: 5.5, y: -1}), evalf(1.2)\n",
        "\n",
        "f = Q(1, 3) * x * y\n",
        "show(f)\n",
        "evalf(f, {x: 5.5, y: -1}), evalf(1.2)\n",
        "\n",
        "f = Q(1, 3) / x / y\n",
        "show(f)\n",
        "evalf(f, {x: 5.5, y: -1}), evalf(1.2)\n",
        "\n",
        "f = Q(1, 3) ** x ** y\n",
        "show(f)\n",
        "evalf(f, {x: 5.5, y: -1}), evalf(1.2)"
      ],
      "metadata": {
        "colab": {
          "base_uri": "https://localhost:8080/"
        },
        "id": "mQYVrSFyBf4m",
        "outputId": "cea47cd4-cb50-4c7b-8923-be1882f212b8"
      },
      "execution_count": 119,
      "outputs": [
        {
          "output_type": "display_data",
          "data": {
            "text/plain": [
              "<IPython.core.display.Math object>"
            ],
            "text/latex": "$\\displaystyle {{\\frac{1}{3}} - {x}} - {y}$"
          },
          "metadata": {}
        },
        {
          "output_type": "display_data",
          "data": {
            "text/plain": [
              "<IPython.core.display.Math object>"
            ],
            "text/latex": "$\\displaystyle {{\\frac{1}{3}} \\cdot {x}} \\cdot {y}$"
          },
          "metadata": {}
        },
        {
          "output_type": "display_data",
          "data": {
            "text/plain": [
              "<IPython.core.display.Math object>"
            ],
            "text/latex": "$\\displaystyle \\frac{\\frac{\\frac{1}{3}}{x}}{y}$"
          },
          "metadata": {}
        },
        {
          "output_type": "display_data",
          "data": {
            "text/plain": [
              "<IPython.core.display.Math object>"
            ],
            "text/latex": "$\\displaystyle {\\left( \\frac{1}{3} \\right)}^{\\left( {x}^{y} \\right)}$"
          },
          "metadata": {}
        },
        {
          "output_type": "execute_result",
          "data": {
            "text/plain": [
              "(0.8189373540396242, 1.2)"
            ]
          },
          "metadata": {},
          "execution_count": 119
        }
      ]
    },
    {
      "cell_type": "markdown",
      "source": [
        "* (дополнительное задание) Напишите вычислители многочленов и рациональных дробей"
      ],
      "metadata": {
        "id": "t1xLK7wpEjia"
      }
    },
    {
      "cell_type": "code",
      "source": [],
      "metadata": {
        "id": "-wU7mPr3EljE"
      },
      "execution_count": 119,
      "outputs": []
    },
    {
      "cell_type": "markdown",
      "source": [
        "### Константы\n",
        "\n",
        "Т.к. в нашей системе на символьном уровне нет поддержки вещественных чисел, а при вычислениях они бывают нужны (математические константы - $\\pi$, физические константы $g$ и т.д.), то включим их поддержку в виде констант - по сути, символов, которым приписаны фиксированные вещественные значения.\n",
        "\n",
        "* Создаем по стандартной схеме набор конструкторов для констант, преобразователь в LaTeX и вычислитель:"
      ],
      "metadata": {
        "id": "KNSX_3TEEp_o"
      }
    },
    {
      "cell_type": "code",
      "source": [
        "def const(name: str, value: float) -> Expression:\n",
        "  return Expression(const_(name, value))\n",
        "\n",
        "def const_(name: str, value: float) -> tuple:\n",
        "  # этот фрагмент кода повторяет создание символа, можно вынести его в отдельную функцию!\n",
        "  greek = ['alpha', 'beta', 'gamma', 'delta', 'epsilon', 'zeta', 'eta', 'theta',\n",
        "           'iota', 'kappa', 'lambda', 'mu', 'nu', 'xi', 'o', 'pi', 'rho', 'sigma',\n",
        "           'tau', 'upsilon', 'phi', 'chi', 'psi', 'omega',\n",
        "           'A', 'B', 'Gamma', 'Delta', 'varepsilon', 'Epsilon', 'Z', 'H', 'vartheta', 'Theta',\n",
        "           'I', 'K', 'Lambda', 'M', 'N', 'Xi', 'O', 'Pi', 'varrho', 'P', 'Sigma',\n",
        "           'T', 'Upsilon', 'varphi', 'Phi', 'X', 'Psi', 'Omega'] # дополните остальные греческие символы\n",
        "  n, s = name.split('_') if '_' in name else (name, '')\n",
        "  if n in greek:\n",
        "    n = f\"\\\\{n}\"\n",
        "  if s:\n",
        "    n = f\"{n}_{{{s}}}\"\n",
        "  return 'const', {'name': name, 'latex': n, 'value': value}\n",
        "\n",
        "def latex_const(x: tuple) -> str:\n",
        "  return options(x)['latex']\n",
        "\n",
        "def evalf_const(f: tuple, x: dict) -> float:\n",
        "  return options(f)['value']"
      ],
      "metadata": {
        "id": "Y166P8OLEtdt"
      },
      "execution_count": 120,
      "outputs": []
    },
    {
      "cell_type": "markdown",
      "source": [
        "* Проверяем на константе $\\pi$:"
      ],
      "metadata": {
        "id": "e-ky3_K0E2hv"
      }
    },
    {
      "cell_type": "code",
      "source": [
        "PI = const('pi', np.arccos(-1))\n",
        "\n",
        "show(2 * PI)\n",
        "evalf(2 * PI)"
      ],
      "metadata": {
        "colab": {
          "base_uri": "https://localhost:8080/"
        },
        "id": "84fxGUavE49m",
        "outputId": "d4a7869f-f977-45f4-9875-a69605c5eb9a"
      },
      "execution_count": 121,
      "outputs": [
        {
          "output_type": "display_data",
          "data": {
            "text/plain": [
              "<IPython.core.display.Math object>"
            ],
            "text/latex": "$\\displaystyle {2} \\cdot {\\pi}$"
          },
          "metadata": {}
        },
        {
          "output_type": "execute_result",
          "data": {
            "text/plain": [
              "6.283185307179586"
            ]
          },
          "metadata": {},
          "execution_count": 121
        }
      ]
    },
    {
      "cell_type": "markdown",
      "source": [
        "### Математические функции\n",
        "\n",
        "Каждая функция будет представлена отдельным типом вершин, имя функции будет служить ее идентификатором типа.\n",
        "\n",
        "* Для примера создадим набор функций для работы с функцией $\\sin$: два конструктора, преобразование в LaTeX, вычислитель (`evalf`) и оцениватель (`eval`), который может выполнять частичное оценивание функций для \"хороших\" ее аргументов, например, $\\sin0\\to 0$, $\\cos0\\to 1$ и т.д."
      ],
      "metadata": {
        "id": "luCK7oR4E7Hk"
      }
    },
    {
      "cell_type": "code",
      "source": [
        "def sin(x: Expression) -> Expression:\n",
        "  return Expression(sin_(fix(x).T))\n",
        "\n",
        "def sin_(x: tuple) -> tuple:\n",
        "  return 'sin', x, {}\n",
        "\n",
        "def latex_sin(x: tuple) -> str:\n",
        "  a = latex_(x[1])\n",
        "  if ID(x[1]) != 'symbol':\n",
        "    a = enclose(a)\n",
        "  return f\"\\\\sin{{{a}}}\"\n",
        "\n",
        "def evalf_sin(f: tuple, x: dict) -> float:\n",
        "  a = evalf_(f[1], x)\n",
        "  return np.sin(a) if a else None\n",
        "\n",
        "def eval_sin(f: tuple) -> tuple:\n",
        "  a = eval_(f[1])\n",
        "  if is_zero(a):\n",
        "    return integer_(0)\n",
        "  return 'sin', a, {}"
      ],
      "metadata": {
        "id": "2B_vUhynE9j5"
      },
      "execution_count": 122,
      "outputs": []
    },
    {
      "cell_type": "markdown",
      "source": [
        "* Проверяем:"
      ],
      "metadata": {
        "id": "GU6BSiLGFCpJ"
      }
    },
    {
      "cell_type": "code",
      "source": [
        "x = symbol('x')\n",
        "f = sin(2 * x)\n",
        "show(f) # LaTeX\n",
        "show(evaluate(subs(f, {x: 0}))) # оценивание\n",
        "evalf(f, {x: PI}) # вычисление"
      ],
      "metadata": {
        "colab": {
          "base_uri": "https://localhost:8080/"
        },
        "id": "4YxPnMxdFFGT",
        "outputId": "39defa8a-717d-4c1a-8e2f-3b882ee35102"
      },
      "execution_count": 123,
      "outputs": [
        {
          "output_type": "display_data",
          "data": {
            "text/plain": [
              "<IPython.core.display.Math object>"
            ],
            "text/latex": "$\\displaystyle \\sin{\\left( {2} \\cdot {x} \\right)}$"
          },
          "metadata": {}
        },
        {
          "output_type": "display_data",
          "data": {
            "text/plain": [
              "<IPython.core.display.Math object>"
            ],
            "text/latex": "$\\displaystyle 0$"
          },
          "metadata": {}
        },
        {
          "output_type": "execute_result",
          "data": {
            "text/plain": [
              "-2.4492935982947064e-16"
            ]
          },
          "metadata": {},
          "execution_count": 123
        }
      ]
    },
    {
      "cell_type": "markdown",
      "source": [
        "* По аналогии создайте функции для работы с другими элементарными математическими функциями: $e^x$ - `exp(x)`, $\\ln{x}$, тригонометрические функции, обратные тригонометрические, квадратный корень, модуль. Для вычисления значений функций используйте подходящие функции пакета `numpy` (`np.cos`, `np.abs` и т.д.). Визуализируйте функции: `exp(x)` - как $e^x$, `sqrt(x)` - как $\\sqrt{x}$, `Abs(x)` - как $|x|$ (команда `abs` является встроенной в Python, ее не стоит переопределять). Для функций $\\cos{x}$, $e^x$, $\\ln{x}$ реализуйте оценивание в точке $x=0$ для косинуса и экспоненты, $x=1$ - для логарифма (нам это впоследствие понадобится для построения формулы Тэйлора данных функций)."
      ],
      "metadata": {
        "id": "l6ONcuIlFLFW"
      }
    },
    {
      "cell_type": "code",
      "source": [
        "def exp(x: Expression) -> Expression:\n",
        "  return Expression(exp_(fix(x).T))\n",
        "\n",
        "def exp_(x: tuple) -> tuple:\n",
        "  return 'exp', x, {}\n",
        "\n",
        "def latex_exp(x: tuple) -> str:\n",
        "  a = latex_(x[1])\n",
        "  if ID(x[1]) != 'symbol':\n",
        "    a = enclose(a)\n",
        "  return f\"e^{{{a}}}\"\n",
        "\n",
        "def evalf_exp(f: tuple, x: dict) -> float:\n",
        "  a = evalf_(f[1], x)\n",
        "  return np.exp(a)\n",
        "\n",
        "def eval_exp(f: tuple) -> tuple:\n",
        "  a = eval_(f[1])\n",
        "  if is_zero(a):\n",
        "    return integer_(1)\n",
        "  return 'exp', a, {}\n",
        "\n",
        "f = exp(2 * x)\n",
        "show(f) # LaTeX\n",
        "show(evaluate(subs(f, {x: 0}))) # оценивание\n",
        "evalf(f, {x: PI}) # вычисление"
      ],
      "metadata": {
        "colab": {
          "base_uri": "https://localhost:8080/"
        },
        "id": "3zMOlzWLFQkq",
        "outputId": "da1d2b10-af38-4e1a-a4c7-cfd20fef43ee"
      },
      "execution_count": 124,
      "outputs": [
        {
          "output_type": "display_data",
          "data": {
            "text/plain": [
              "<IPython.core.display.Math object>"
            ],
            "text/latex": "$\\displaystyle e^{\\left( {2} \\cdot {x} \\right)}$"
          },
          "metadata": {}
        },
        {
          "output_type": "display_data",
          "data": {
            "text/plain": [
              "<IPython.core.display.Math object>"
            ],
            "text/latex": "$\\displaystyle 1$"
          },
          "metadata": {}
        },
        {
          "output_type": "execute_result",
          "data": {
            "text/plain": [
              "535.4916555247646"
            ]
          },
          "metadata": {},
          "execution_count": 124
        }
      ]
    },
    {
      "cell_type": "code",
      "source": [
        "def cos(x: Expression) -> Expression:\n",
        "  return Expression(cos_(fix(x).T))\n",
        "\n",
        "def cos_(x: tuple) -> tuple:\n",
        "  return 'cos', x, {}\n",
        "\n",
        "def latex_cos(x: tuple) -> str:\n",
        "  a = latex_(x[1])\n",
        "  if ID(x[1]) != 'symbol':\n",
        "    a = enclose(a)\n",
        "  return f\"\\\\cos{{{a}}}\"\n",
        "\n",
        "def evalf_cos(f: tuple, x: dict) -> float:\n",
        "  a = evalf_(f[1], x)\n",
        "  return np.cos(a) if a else None\n",
        "\n",
        "def eval_cos(f: tuple) -> tuple:\n",
        "  a = eval_(f[1])\n",
        "  if options(a)['value'] == 1:\n",
        "    return integer_(1)\n",
        "  return 'cos', a, {}\n",
        "\n",
        "f = cos(2 * x)\n",
        "show(f) # LaTeX\n",
        "show(evaluate(subs(f, {x: 0}))) # оценивание\n",
        "evalf(f, {x: 1}) # вычисление"
      ],
      "metadata": {
        "colab": {
          "base_uri": "https://localhost:8080/"
        },
        "id": "3K-HRMA2INfP",
        "outputId": "ec241814-612a-431e-b200-a8350b45eed7"
      },
      "execution_count": 125,
      "outputs": [
        {
          "output_type": "display_data",
          "data": {
            "text/plain": [
              "<IPython.core.display.Math object>"
            ],
            "text/latex": "$\\displaystyle \\cos{\\left( {2} \\cdot {x} \\right)}$"
          },
          "metadata": {}
        },
        {
          "output_type": "display_data",
          "data": {
            "text/plain": [
              "<IPython.core.display.Math object>"
            ],
            "text/latex": "$\\displaystyle \\cos{\\left( 0 \\right)}$"
          },
          "metadata": {}
        },
        {
          "output_type": "execute_result",
          "data": {
            "text/plain": [
              "-0.4161468365471424"
            ]
          },
          "metadata": {},
          "execution_count": 125
        }
      ]
    },
    {
      "cell_type": "code",
      "source": [
        "def tan(x: Expression) -> Expression:\n",
        "  return Expression(tan_(fix(x).T))\n",
        "\n",
        "def tan_(x: tuple) -> tuple:\n",
        "  return 'tan', x, {}\n",
        "\n",
        "def latex_tan(x: tuple) -> str:\n",
        "  a = latex_(x[1])\n",
        "  if ID(x[1]) != 'symbol':\n",
        "    a = enclose(a)\n",
        "  return f\"\\\\tan{{{a}}}\"\n",
        "\n",
        "def evalf_tan(f: tuple, x: dict) -> float:\n",
        "  a = evalf_(f[1], x)\n",
        "  return np.tan(a) if a else None\n",
        "\n",
        "def eval_tan(f: tuple) -> tuple:\n",
        "  a = eval_(f[1])\n",
        "  if is_zero(a):\n",
        "    return integer_(0)\n",
        "  return 'tan', a, {}\n",
        "\n",
        "f = tan(2 * x)\n",
        "show(f) # LaTeX\n",
        "show(evaluate(subs(f, {x: 0}))) # оценивание\n",
        "evalf(f, {x: PI}) # вычисление"
      ],
      "metadata": {
        "id": "sA3QLIZ7IQH8",
        "colab": {
          "base_uri": "https://localhost:8080/"
        },
        "outputId": "d8f654b7-040c-4f86-b209-470018808be9"
      },
      "execution_count": 126,
      "outputs": [
        {
          "output_type": "display_data",
          "data": {
            "text/plain": [
              "<IPython.core.display.Math object>"
            ],
            "text/latex": "$\\displaystyle \\tan{\\left( {2} \\cdot {x} \\right)}$"
          },
          "metadata": {}
        },
        {
          "output_type": "display_data",
          "data": {
            "text/plain": [
              "<IPython.core.display.Math object>"
            ],
            "text/latex": "$\\displaystyle 0$"
          },
          "metadata": {}
        },
        {
          "output_type": "execute_result",
          "data": {
            "text/plain": [
              "-2.4492935982947064e-16"
            ]
          },
          "metadata": {},
          "execution_count": 126
        }
      ]
    },
    {
      "cell_type": "code",
      "source": [
        "def arcsin(x: Expression) -> Expression:\n",
        "  return Expression(arcsin_(fix(x).T))\n",
        "\n",
        "def arcsin_(x: tuple) -> tuple:\n",
        "  return 'arcsin', x, {}\n",
        "\n",
        "def latex_arcsin(x: tuple) -> str:\n",
        "  a = latex_(x[1])\n",
        "  if ID(x[1]) != 'symbol':\n",
        "    a = enclose(a)\n",
        "  return f\"\\\\arcsin{{{a}}}\"\n",
        "\n",
        "def evalf_arcsin(f: tuple, x: dict) -> float:\n",
        "  a = evalf_(f[1], x)\n",
        "  return np.arcsin(a) if a else None\n",
        "\n",
        "def eval_arcsin(f: tuple) -> tuple:\n",
        "  a = eval_(f[1])\n",
        "  if is_zero(a):\n",
        "    return integer_(0)\n",
        "  return 'arcsin', a, {}\n",
        "\n",
        "f = arcsin(2 * x)\n",
        "show(f) # LaTeX\n",
        "show(evaluate(subs(f, {x: 0}))) # оценивание\n",
        "evalf(f, {x: 0.25}) # вычисление"
      ],
      "metadata": {
        "id": "qWyXUlB5IUwS",
        "colab": {
          "base_uri": "https://localhost:8080/"
        },
        "outputId": "47553eda-d74b-42bf-e142-9639dad68543"
      },
      "execution_count": 127,
      "outputs": [
        {
          "output_type": "display_data",
          "data": {
            "text/plain": [
              "<IPython.core.display.Math object>"
            ],
            "text/latex": "$\\displaystyle \\arcsin{\\left( {2} \\cdot {x} \\right)}$"
          },
          "metadata": {}
        },
        {
          "output_type": "display_data",
          "data": {
            "text/plain": [
              "<IPython.core.display.Math object>"
            ],
            "text/latex": "$\\displaystyle 0$"
          },
          "metadata": {}
        },
        {
          "output_type": "execute_result",
          "data": {
            "text/plain": [
              "0.5235987755982989"
            ]
          },
          "metadata": {},
          "execution_count": 127
        }
      ]
    },
    {
      "cell_type": "code",
      "source": [
        "def arccos(x: Expression) -> Expression:\n",
        "  return Expression(arccos_(fix(x).T))\n",
        "\n",
        "def arccos_(x: tuple) -> tuple:\n",
        "  return 'arccos', x, {}\n",
        "\n",
        "def latex_arccos(x: tuple) -> str:\n",
        "  a = latex_(x[1])\n",
        "  if ID(x[1]) != 'symbol':\n",
        "    a = enclose(a)\n",
        "  return f\"\\\\arccos{{{a}}}\"\n",
        "\n",
        "def evalf_arccos(f: tuple, x: dict) -> float:\n",
        "  a = evalf_(f[1], x)\n",
        "  return np.arccos(a) if a else None\n",
        "\n",
        "def eval_arccos(f: tuple) -> tuple:\n",
        "  a = eval_(f[1])\n",
        "  if options(a)['value'] == 1:\n",
        "    return integer_(0)\n",
        "  return 'arccos', a, {}\n",
        "\n",
        "f = arccos(x)\n",
        "show(f) # LaTeX\n",
        "show(evaluate(subs(f, {x: 0}))) # оценивание\n",
        "evalf(f, {x: 1}) # вычисление"
      ],
      "metadata": {
        "id": "OPpG7N80IZ2x",
        "colab": {
          "base_uri": "https://localhost:8080/"
        },
        "outputId": "f5662540-52f6-49fb-d56c-abef0a9ecab5"
      },
      "execution_count": 128,
      "outputs": [
        {
          "output_type": "display_data",
          "data": {
            "text/plain": [
              "<IPython.core.display.Math object>"
            ],
            "text/latex": "$\\displaystyle \\arccos{x}$"
          },
          "metadata": {}
        },
        {
          "output_type": "display_data",
          "data": {
            "text/plain": [
              "<IPython.core.display.Math object>"
            ],
            "text/latex": "$\\displaystyle \\arccos{\\left( 0 \\right)}$"
          },
          "metadata": {}
        },
        {
          "output_type": "execute_result",
          "data": {
            "text/plain": [
              "0.0"
            ]
          },
          "metadata": {},
          "execution_count": 128
        }
      ]
    },
    {
      "cell_type": "code",
      "source": [
        "def arctan(x: Expression) -> Expression:\n",
        "  return Expression(arctan_(fix(x).T))\n",
        "\n",
        "def arctan_(x: tuple) -> tuple:\n",
        "  return 'arctan', x, {}\n",
        "\n",
        "def latex_arctan(x: tuple) -> str:\n",
        "  a = latex_(x[1])\n",
        "  if ID(x[1]) != 'symbol':\n",
        "    a = enclose(a)\n",
        "  return f\"\\\\arctan{{{a}}}\"\n",
        "\n",
        "def evalf_arctan(f: tuple, x: dict) -> float:\n",
        "  a = evalf_(f[1], x)\n",
        "  return np.arctan(a) if a else None\n",
        "\n",
        "def eval_arctan(f: tuple) -> tuple:\n",
        "  a = eval_(f[1])\n",
        "  if is_zero(a):\n",
        "    return integer_(0)\n",
        "  return 'arctan', a, {}\n",
        "\n",
        "f = arctan(2 * x)\n",
        "show(f) # LaTeX\n",
        "show(evaluate(subs(f, {x: 0}))) # оценивание\n",
        "evalf(f, {x: 0.25}) # вычисление"
      ],
      "metadata": {
        "id": "YrqyTzavIc_9",
        "colab": {
          "base_uri": "https://localhost:8080/"
        },
        "outputId": "1e371f34-7bf6-4ca8-e0b4-afe001474e36"
      },
      "execution_count": 129,
      "outputs": [
        {
          "output_type": "display_data",
          "data": {
            "text/plain": [
              "<IPython.core.display.Math object>"
            ],
            "text/latex": "$\\displaystyle \\arctan{\\left( {2} \\cdot {x} \\right)}$"
          },
          "metadata": {}
        },
        {
          "output_type": "display_data",
          "data": {
            "text/plain": [
              "<IPython.core.display.Math object>"
            ],
            "text/latex": "$\\displaystyle 0$"
          },
          "metadata": {}
        },
        {
          "output_type": "execute_result",
          "data": {
            "text/plain": [
              "0.4636476090008061"
            ]
          },
          "metadata": {},
          "execution_count": 129
        }
      ]
    },
    {
      "cell_type": "code",
      "source": [
        "def ln(x: Expression) -> Expression:\n",
        "  return Expression(ln_(fix(x).T))\n",
        "\n",
        "def ln_(x: tuple) -> tuple:\n",
        "  return 'ln', x, {}\n",
        "\n",
        "def latex_ln(x: tuple) -> str:\n",
        "  a = latex_(x[1])\n",
        "  if ID(x[1]) != 'symbol':\n",
        "    a = enclose(a)\n",
        "  return f\"\\\\ln{{{a}}}\"\n",
        "\n",
        "def evalf_ln(f: tuple, x: dict) -> float:\n",
        "  a = evalf_(f[1], x)\n",
        "  return np.log(a) if a else None\n",
        "\n",
        "def eval_ln(f: tuple) -> tuple:\n",
        "  a = eval_(f[1])\n",
        "  if options(a)['value'] == 1:\n",
        "    return integer_(0)\n",
        "  return 'ln', a, {}\n",
        "\n",
        "f = ln(x)\n",
        "show(f) # LaTeX\n",
        "show(evaluate(subs(f, {x: 1}))) # оценивание\n",
        "evalf(f, {x: 1}) # вычисление"
      ],
      "metadata": {
        "id": "jCxhCIeXIgnM",
        "colab": {
          "base_uri": "https://localhost:8080/"
        },
        "outputId": "4149c7e7-dc28-413a-d9d2-485d4b070c6f"
      },
      "execution_count": 130,
      "outputs": [
        {
          "output_type": "display_data",
          "data": {
            "text/plain": [
              "<IPython.core.display.Math object>"
            ],
            "text/latex": "$\\displaystyle \\ln{x}$"
          },
          "metadata": {}
        },
        {
          "output_type": "display_data",
          "data": {
            "text/plain": [
              "<IPython.core.display.Math object>"
            ],
            "text/latex": "$\\displaystyle 0$"
          },
          "metadata": {}
        },
        {
          "output_type": "execute_result",
          "data": {
            "text/plain": [
              "0.0"
            ]
          },
          "metadata": {},
          "execution_count": 130
        }
      ]
    },
    {
      "cell_type": "code",
      "source": [
        "def Abs(x: Expression) -> Expression:\n",
        "  return Expression(abs_(fix(x).T))\n",
        "\n",
        "def abs_(x: tuple) -> tuple:\n",
        "  return 'abs', x, {}\n",
        "\n",
        "def latex_abs(x: tuple) -> str:\n",
        "  a = latex_(x[1])\n",
        "  return f\"|{{{a}}}|\"\n",
        "\n",
        "def evalf_abs(f: tuple, x: dict) -> float:\n",
        "  a = evalf_(f[1], x)\n",
        "  return np.abs(a) if a else None\n",
        "\n",
        "def eval_abs(f: tuple) -> tuple:\n",
        "  a = eval_(f[1])\n",
        "  if is_zero(a):\n",
        "    return integer_(0)\n",
        "  return 'abs', a, {}\n",
        "\n",
        "f = Abs(2 * x)\n",
        "show(f) # LaTeX\n",
        "show(evaluate(subs(f, {x: 0}))) # оценивание\n",
        "evalf(f, {x: PI}) # вычисление"
      ],
      "metadata": {
        "id": "HQw3BqpxIpbN",
        "colab": {
          "base_uri": "https://localhost:8080/"
        },
        "outputId": "83a48e65-dbef-46b4-b946-5f7860d680ff"
      },
      "execution_count": 131,
      "outputs": [
        {
          "output_type": "display_data",
          "data": {
            "text/plain": [
              "<IPython.core.display.Math object>"
            ],
            "text/latex": "$\\displaystyle |{{2} \\cdot {x}}|$"
          },
          "metadata": {}
        },
        {
          "output_type": "display_data",
          "data": {
            "text/plain": [
              "<IPython.core.display.Math object>"
            ],
            "text/latex": "$\\displaystyle 0$"
          },
          "metadata": {}
        },
        {
          "output_type": "execute_result",
          "data": {
            "text/plain": [
              "6.283185307179586"
            ]
          },
          "metadata": {},
          "execution_count": 131
        }
      ]
    },
    {
      "cell_type": "code",
      "source": [
        "def sqrt(x: Expression) -> Expression:\n",
        "  return Expression(sqrt_(fix(x).T))\n",
        "\n",
        "def sqrt_(x: tuple) -> tuple:\n",
        "  return 'sqrt', x, {}\n",
        "\n",
        "def latex_sqrt(x: tuple) -> str:\n",
        "  a = latex_(x[1])\n",
        "  return f\"\\\\sqrt{{{a}}}\"\n",
        "\n",
        "def evalf_sqrt(f: tuple, x: dict) -> float:\n",
        "  a = evalf_(f[1], x)\n",
        "  return np.sqrt(a) if a else None\n",
        "\n",
        "def eval_sqrt(f: tuple) -> tuple:\n",
        "  a = eval_(f[1])\n",
        "  if is_zero(a):\n",
        "    return integer_(0)\n",
        "  return 'sqrt', a, {}\n",
        "\n",
        "f = sqrt(2 * x)\n",
        "show(f) # LaTeX\n",
        "show(evaluate(subs(f, {x: 0}))) # оценивание\n",
        "evalf(f, {x: 2}) # вычисление"
      ],
      "metadata": {
        "id": "Zp0UQcLZIris",
        "colab": {
          "base_uri": "https://localhost:8080/"
        },
        "outputId": "e1b2415e-8a4a-4bdb-b92d-55064b825b82"
      },
      "execution_count": 132,
      "outputs": [
        {
          "output_type": "display_data",
          "data": {
            "text/plain": [
              "<IPython.core.display.Math object>"
            ],
            "text/latex": "$\\displaystyle \\sqrt{{2} \\cdot {x}}$"
          },
          "metadata": {}
        },
        {
          "output_type": "display_data",
          "data": {
            "text/plain": [
              "<IPython.core.display.Math object>"
            ],
            "text/latex": "$\\displaystyle 0$"
          },
          "metadata": {}
        },
        {
          "output_type": "execute_result",
          "data": {
            "text/plain": [
              "2.0"
            ]
          },
          "metadata": {},
          "execution_count": 132
        }
      ]
    },
    {
      "cell_type": "markdown",
      "source": [
        "### Преобразование выражения в функцию Python\n",
        "\n",
        "Если требуется многократное вычисление значений символьного выражения (например, при построении его графика), то вызов функции `evalf` будет довольно дорогостоящим (в смысле времени работы). Удобнее один раз преобразовать данное выражение в обычную функцию Pyhon (желательно, с поддержкой библиотеки `numpy`) и дальше вызывать эту функцию для вычисления нужных нам значений.\n",
        "\n",
        "* Создадим для этой цели набор функций `pycode...`. На вход головной функции `pycode` подается выражение `f` и список переменных `X`, от которых будет зависеть сгенерированная лямбда-функция Python."
      ],
      "metadata": {
        "id": "70V0fgL4aoKT"
      }
    },
    {
      "cell_type": "code",
      "source": [
        "def pycode(F: Expression, X: list) -> callable:\n",
        "  n = len(X) # число переменных в генерируемой функции\n",
        "  V = [f\"x_{k}\" for k in range(n)] # имена аргументов для генерируемой анонимной функции, могут быть произвольными, т.к. это локальные переменные\n",
        "  D = {options(x.T)['name']: v for x, v in zip(X, V)} # словарь соответствия имен символов из X и имен из списка аргументов\n",
        "  f = f\"lambda {', '.join(V)}: {pycode_(F.T, D)}\" # генерация строки (команды) с описанием искомой анонимной функции\n",
        "  #print(f\"{f=}\") # можно раскомментировать эту строку, чтобы посмотреть на код сгенерированной функции\n",
        "  return eval(f) # выполняем команду f, результат выполнения - искомая анонимная функция"
      ],
      "metadata": {
        "id": "fO3N60QEarqO"
      },
      "execution_count": 133,
      "outputs": []
    },
    {
      "cell_type": "markdown",
      "source": [
        "* Пишем код для преобразования списочных выражений в строковое представление кода Python. Головная функция работает по стандартной схеме. Для каждого идентификатора типа создается отдельная функция. Для бинарных операций можно создать универсальный преобразователь, который принимает на вход знак операции, выражение (списочное) и словарь переменных. Аналогичный прием можно применить и для обработки математических функций."
      ],
      "metadata": {
        "id": "k4we3omFav21"
      }
    },
    {
      "cell_type": "code",
      "source": [
        "def pycode_(f: tuple, x: dict) -> str:\n",
        "  cmd = eval(f\"pycode_{ID(f)}\")\n",
        "  return cmd(f, x)\n",
        "\n",
        "def pycode_integer(f: tuple, x: dict) -> str:\n",
        "  return f\"{options(f)['value']}\"\n",
        "\n",
        "def pycode_rational(f: tuple, x: dict) -> str:\n",
        "  return f\"({options(f)['num']} / {options(f)['denom']})\"\n",
        "\n",
        "def pycode_symbol(f: tuple, x: dict) -> str:\n",
        "  return x.get(options(f)['name'], \"?\")\n",
        "\n",
        "def pycode_const(f: tuple, x: dict) -> str:\n",
        "  return f\"{options(f)['value']}\"\n",
        "\n",
        "# обработка бинарных операций +, -, *, /, **\n",
        "def pycode_binary(op: str, f: tuple, x: dict) -> str:\n",
        "  a, b = pycode_(f[1], x), pycode_(f[2], x)\n",
        "  return f\"({a} {op} {b})\"\n",
        "\n",
        "def pycode_add(f: tuple, x: dict) -> str:\n",
        "  return pycode_binary('+', f, x)\n",
        "\n",
        "# обработка математичкеских функций sin, cos и т.д.\n",
        "def pycode_func(fn: str, f: tuple, x: dict) -> str:\n",
        "  a = pycode_(f[1], x)\n",
        "  return f\"{fn}({a})\"\n",
        "\n",
        "def pycode_sin(f: tuple, x: dict) -> str:\n",
        "  return pycode_func('np.sin', f, x)\n"
      ],
      "metadata": {
        "id": "7tzPCOfra1JO"
      },
      "execution_count": 134,
      "outputs": []
    },
    {
      "cell_type": "markdown",
      "source": [
        "* Напишите преобразователи остальных арифметических операций и математических функций."
      ],
      "metadata": {
        "id": "5LiT4lTKa9Jl"
      }
    },
    {
      "cell_type": "code",
      "source": [
        "def pycode_cos(f: tuple, x: dict) -> str:\n",
        "  return pycode_func('np.cos', f, x)\n",
        "\n",
        "def pycode_tg(f: tuple, x: dict) -> str:\n",
        "  return pycode_func('np.tan', f, x)\n",
        "\n",
        "def pycode_arcsin(f: tuple, x: dict) -> str:\n",
        "  return pycode_func('np.arcsin', f, x)\n",
        "\n",
        "def pycode_arccos(f: tuple, x: dict) -> str:\n",
        "  return pycode_func('np.arccos', f, x)\n",
        "\n",
        "def pycode_arctg(f: tuple, x: dict) -> str:\n",
        "  return pycode_func('np.arctan', f, x)\n",
        "\n",
        "def pycode_exp(f: tuple, x: dict) -> str:\n",
        "  return pycode_func('np.exp', f, x)\n",
        "\n",
        "def pycode_ln(f: tuple, x: dict) -> str:\n",
        "  return pycode_func('np.log', f, x)\n",
        "\n",
        "def pycode_sqrt(f: tuple, x: dict) -> str:\n",
        "  return pycode_func('np.sqrt', f, x)\n",
        "\n",
        "def pycode_Abs(f: tuple, x: dict) -> str:\n",
        "  return pycode_func('np.abs', f, x)\n",
        "\n",
        "def pycode_sub(f: tuple, x: dict) -> str:\n",
        "  return pycode_binary('-', f, x)\n",
        "\n",
        "def pycode_mul(f: tuple, x: dict) -> str:\n",
        "  return pycode_binary('*', f, x)\n",
        "\n",
        "def pycode_div(f: tuple, x: dict) -> str:\n",
        "  return pycode_binary('/', f, x)\n",
        "\n",
        "def pycode_deg(f: tuple, x: dict) -> str:\n",
        "  return pycode_binary('**', f, x)"
      ],
      "metadata": {
        "id": "nOIpdYkea_xu"
      },
      "execution_count": 135,
      "outputs": []
    },
    {
      "cell_type": "markdown",
      "source": [
        "* Проверяем:"
      ],
      "metadata": {
        "id": "e6o-CU2o9-ZO"
      }
    },
    {
      "cell_type": "code",
      "source": [
        "x, y = symbol('x'), symbol('y')\n",
        "f = sin(PI / (x + y))\n",
        "show(f)\n",
        "F = pycode(f, [x, y])\n",
        "print(F(1, 1))\n",
        "X = np.linspace(0, 1, 4)\n",
        "print(F(X, 1)) # можно подставлять сразу массив целиком"
      ],
      "metadata": {
        "colab": {
          "base_uri": "https://localhost:8080/"
        },
        "id": "LwyA5H8b98V6",
        "outputId": "62490c13-8748-48a7-9036-402725331528"
      },
      "execution_count": 136,
      "outputs": [
        {
          "output_type": "display_data",
          "data": {
            "text/plain": [
              "<IPython.core.display.Math object>"
            ],
            "text/latex": "$\\displaystyle \\sin{\\left( \\frac{\\pi}{{x} + {y}} \\right)}$"
          },
          "metadata": {}
        },
        {
          "output_type": "stream",
          "name": "stdout",
          "text": [
            "1.0\n",
            "[1.22464680e-16 7.07106781e-01 9.51056516e-01 1.00000000e+00]\n"
          ]
        }
      ]
    },
    {
      "cell_type": "markdown",
      "source": [
        "### Графики\n",
        "\n",
        "* Базовая функция `plot` предназначена для построения графика заданного символьного выражения в заданном интервале заданной переменной. Первый аргумент - выражение, второй - кортеж из трех элементов (переменная, нижний предел, верхний предел), опциональный аргумент `ylim` ограничивает область графика заданными пределами. Если он не установлен, то пределы вычисляются автоматически."
      ],
      "metadata": {
        "id": "HUnRHsyP-Nkw"
      }
    },
    {
      "cell_type": "code",
      "source": [
        "def plot(y: Expression, x: tuple, ylim: tuple = ()):\n",
        "  f = pycode(y, [x[0]]) # преобразуем выражение в функцию Python\n",
        "  a, b = evalf(x[1]), evalf(x[2]) # вычисляем пределы\n",
        "  X = np.linspace(a, b, 10000) # сетка по x\n",
        "  Y = f(X) # значения функции на сетке\n",
        "  if ylim: # пределы по y, если указана опция\n",
        "    plt.ylim(*ylim)\n",
        "  plt.xlim(a, b) # пределы по x\n",
        "  plt.plot(X, Y) # строим график"
      ],
      "metadata": {
        "id": "sKmy5idi-OaV"
      },
      "execution_count": 137,
      "outputs": []
    },
    {
      "cell_type": "markdown",
      "source": [
        "* Проверьте на разных выражениях:"
      ],
      "metadata": {
        "id": "pH3-o9nQ-SaU"
      }
    },
    {
      "cell_type": "code",
      "source": [
        "x = symbol('x')\n",
        "plot(sin(x ** 2), (x, -2 * PI, 2 * PI))"
      ],
      "metadata": {
        "colab": {
          "base_uri": "https://localhost:8080/"
        },
        "id": "p-t09i83-VKj",
        "outputId": "3c2e4cce-febf-484b-e450-88ce36648353"
      },
      "execution_count": 138,
      "outputs": [
        {
          "output_type": "display_data",
          "data": {
            "text/plain": [
              "<Figure size 640x480 with 1 Axes>"
            ],
            "image/png": "[encoded data removed]"
          },
          "metadata": {}
        }
      ]
    },
    {
      "cell_type": "code",
      "source": [
        "plot(ln(x), (x, Z(1), Z(5)))"
      ],
      "metadata": {
        "colab": {
          "base_uri": "https://localhost:8080/",
          "height": 430
        },
        "id": "3CZ5cDJG-_D5",
        "outputId": "d04e341c-d045-4242-c4d8-cd503ef02d6f"
      },
      "execution_count": 139,
      "outputs": [
        {
          "output_type": "display_data",
          "data": {
            "text/plain": [
              "<Figure size 640x480 with 1 Axes>"
            ],
            "image/png": "[encoded data removed]"
          },
          "metadata": {}
        }
      ]
    },
    {
      "cell_type": "markdown",
      "source": [
        "* (дополнительное задание) Проверьте работу функции `plot` на выражении, не содержащем переменной (т.е. на константном выражении), например, на выражении `f = Z(1)`. Исправьте функцию `plot`, чтобы она корректно работала с константными выражениями."
      ],
      "metadata": {
        "id": "TOxNbzZ9_6Qz"
      }
    },
    {
      "cell_type": "code",
      "source": [
        "def plot(y: Expression, x: tuple, ylim: tuple = ()):\n",
        "  f = pycode(y, [x[0]]) # преобразуем выражение в функцию Python\n",
        "  a, b = evalf(x[1]), evalf(x[2]) # вычисляем пределы\n",
        "  X = np.linspace(a, b, 10000) # сетка по x\n",
        "  Y = f(X) # значения функции на сетке\n",
        "  if ylim: # пределы по y, если указана опция\n",
        "    plt.ylim(*ylim)\n",
        "  if not isinstance(Y, type(X)):\n",
        "    Y = [Y for i in range(len(X))]\n",
        "  plt.xlim(a, b) # пределы по x\n",
        "  plt.plot(X, Y) # строим график"
      ],
      "metadata": {
        "id": "Q-GGgT34_8vX"
      },
      "execution_count": 140,
      "outputs": []
    },
    {
      "cell_type": "code",
      "source": [
        "plot(Z(1), (x, Z(0), Z(5)))"
      ],
      "metadata": {
        "colab": {
          "base_uri": "https://localhost:8080/",
          "height": 430
        },
        "id": "69EwYTvdAg3L",
        "outputId": "f767ef92-e7d5-4668-d9d9-ac74bd3d0410"
      },
      "execution_count": 141,
      "outputs": [
        {
          "output_type": "display_data",
          "data": {
            "text/plain": [
              "<Figure size 640x480 with 1 Axes>"
            ],
            "image/png": "[encoded data removed]"
          },
          "metadata": {}
        }
      ]
    },
    {
      "cell_type": "markdown",
      "source": [
        "* (дополнительное задание) добавьте в функцию `plot` различные визуальные параметры - цвет кривой, тип кривой, толщина, метка (легенда) и т.д."
      ],
      "metadata": {
        "id": "TVNOoIm5AuG0"
      }
    },
    {
      "cell_type": "code",
      "source": [
        "def plot(y: Expression, x: tuple, ylim: tuple = (), colors = None, labels = None, linestyles = None, linewidths = None):\n",
        "  f = pycode(y, [x[0]]) # преобразуем выражение в функцию Python\n",
        "  a, b = evalf(x[1]), evalf(x[2]) # вычисляем пределы\n",
        "  X = np.linspace(a, b, 10000) # сетка по x\n",
        "  Y = f(X) # значения функции на сетке\n",
        "  if ylim: # пределы по y, если указана опция\n",
        "    plt.ylim(*ylim)\n",
        "  if not isinstance(Y, type(X)):\n",
        "    Y = [Y for i in range(len(X))]\n",
        "  plt.xlim(a, b) # пределы по x\n",
        "  plt.plot(X, Y, color = colors, label = labels, linestyle =  linestyles, linewidth = linewidths ) # строим график"
      ],
      "metadata": {
        "id": "Hv1nVmsjAxEP"
      },
      "execution_count": 142,
      "outputs": []
    },
    {
      "cell_type": "markdown",
      "source": [
        "* Напишите функцию `plot_fam` для построения семейства графиков выражения, зависящего не только от переменной, но и от некоторого параметра. На вход данной функции дополнительно нужно подать кортеж `fam`, состоящий из четырех элементов: символ параметра, нижний предел, верхний предел, шаг."
      ],
      "metadata": {
        "id": "xYrIa0plBoSm"
      }
    },
    {
      "cell_type": "code",
      "source": [
        "def plot_fam(y: Expression, x: tuple, fam: tuple, ylim: tuple = ()):\n",
        "  t, k, m, c = fam[0], fam[1], fam[2], fam[3]\n",
        "  while k <= m:\n",
        "    s = subs(y, {t:k})\n",
        "    plot(s, x, ylim)\n",
        "    k = k + c\n",
        "\n",
        "x = symbol('x')\n",
        "t = symbol('t')\n",
        "plot_fam(sin(x * t), (x, -2 * PI, 2 * PI), (t, 1, 3, 1))"
      ],
      "metadata": {
        "id": "85A4y-ndB1dw",
        "colab": {
          "base_uri": "https://localhost:8080/",
          "height": 430
        },
        "outputId": "1274968e-4491-43f0-8b6b-9e97c2e23c70"
      },
      "execution_count": 143,
      "outputs": [
        {
          "output_type": "display_data",
          "data": {
            "text/plain": [
              "<Figure size 640x480 with 1 Axes>"
            ],
            "image/png": "[encoded data removed]"
          },
          "metadata": {}
        }
      ]
    },
    {
      "cell_type": "markdown",
      "source": [
        "* По аналогии с функций `plot` напишете фунцию `parametric_plot` для построения графика функции в параметрической форме и функцию `parametric_plot_fam` для построения семейства графиков функции в параметрической форме (с дополнительным параметром для семейства)."
      ],
      "metadata": {
        "id": "Scc_VlnMB2fq"
      }
    },
    {
      "cell_type": "code",
      "source": [
        "def parametric_plot(f: list, t: tuple):\n",
        "  f_1 = pycode(f[0], [t[0]])\n",
        "  f_2 = pycode(f[1], [t[0]])\n",
        "  a, b = evalf(t[1]), evalf(t[2]) # вычисляем пределы\n",
        "  t = np.linspace(a, b, 10000) # сетка по t\n",
        "  X = f_1(t)\n",
        "  Y = f_2(t)\n",
        "  plt.plot(X, Y) # строим график\n",
        "\n",
        "\n",
        "t = symbol('t')\n",
        "parametric_plot([sin(2 * t), sin(PI / 2 + 3 * t/ 2 )], (t, 0, 4 * PI))"
      ],
      "metadata": {
        "id": "X34VgaCgB5aJ",
        "colab": {
          "base_uri": "https://localhost:8080/",
          "height": 430
        },
        "outputId": "9b81e634-8dba-4f45-ed97-c500231e2f6e"
      },
      "execution_count": 144,
      "outputs": [
        {
          "output_type": "display_data",
          "data": {
            "text/plain": [
              "<Figure size 640x480 with 1 Axes>"
            ],
            "image/png": "[encoded data removed]"
          },
          "metadata": {}
        }
      ]
    },
    {
      "cell_type": "markdown",
      "source": [
        "* (дополнительное задание) Напишите функцию построения графика семейства параметрически заданных кривых."
      ],
      "metadata": {
        "id": "j_scbDgqCJEz"
      }
    },
    {
      "cell_type": "code",
      "source": [
        "def parametric_plot_fam(f: list, t: tuple, fam: tuple):\n",
        "  ..."
      ],
      "metadata": {
        "id": "cBO1m1x3CLpE"
      },
      "execution_count": 145,
      "outputs": []
    },
    {
      "cell_type": "markdown",
      "source": [
        "* (дополнительное задание) Напишите функцию построения графиков в полярной системе координат."
      ],
      "metadata": {
        "id": "T0iNfahbCMDl"
      }
    },
    {
      "cell_type": "code",
      "source": [
        "def polar_plot(R: Expression, phi: tuple):\n",
        "  parametric_plot([R * cos(phi[0]), R * sin(phi[0])], phi)\n",
        "\n",
        "r, alpha = symbol('r'), symbol('alpha')\n",
        "polar_plot(alpha / 10, (alpha, 0, 10 * PI))"
      ],
      "metadata": {
        "id": "3EzON4P_CSDh",
        "colab": {
          "base_uri": "https://localhost:8080/",
          "height": 430
        },
        "outputId": "93c0f05a-cc49-4248-eb72-a1601c7a0be6"
      },
      "execution_count": 146,
      "outputs": [
        {
          "output_type": "display_data",
          "data": {
            "text/plain": [
              "<Figure size 640x480 with 1 Axes>"
            ],
            "image/png": "[encoded data removed]"
          },
          "metadata": {}
        }
      ]
    },
    {
      "cell_type": "markdown",
      "source": [
        "* (дополнительное задание) Напишите функцию построения графика семейства кривых в полярной системе координат."
      ],
      "metadata": {
        "id": "WloO5LjzCUTW"
      }
    },
    {
      "cell_type": "code",
      "source": [
        "def polar_plot_fam(R: Expression, phi: tuple, fam: tuple):\n",
        "  ..."
      ],
      "metadata": {
        "id": "izfd-nIzCXAh"
      },
      "execution_count": 147,
      "outputs": []
    },
    {
      "cell_type": "markdown",
      "source": [
        "* Для построения графиков неявно заданных функций можно использовать функцию построения контурных графиков пакета `matplotlib`. Функция в этом случае задается равенством (см. пример ниже), преобразуем это равенство в разность левой и правой части и строим линии уровня (контур) для нулевого значения этой разности:\n",
        "$$L(x) = R(x) \\,\\to\\, F(x) = L(x) - R(x) \\,\\to\\, F(x) = 0.$$  \n",
        "На вход функции `implicit_plot` должны подаваться два кортежа для обеих переменных (и имени функции, и имени переменной)."
      ],
      "metadata": {
        "id": "a9bcqFgvCaHc"
      }
    },
    {
      "cell_type": "code",
      "source": [
        "def implicit_plot(f: Expression, x: tuple, y: tuple):\n",
        "  lhs, rhs = Expression((f.T)[1]), Expression((f.T)[2]),\n",
        "  F = pycode(lhs - rhs, [x[0], y[0]])\n",
        "  # формируем две сетки по осям\n",
        "  xgrid = np.linspace(evalf(x[1]), evalf(x[2]), 100)\n",
        "  ygrid = np.linspace(evalf(y[1]), evalf(y[2]), 100)\n",
        "  # преобазуем эти сетки в двумерную сетку\n",
        "  X, Y = np.meshgrid(xgrid, ygrid)\n",
        "  # вычисляем функцию\n",
        "  Z = F(X, Y)\n",
        "  # задаем одинаковый масштаб по осям\n",
        "  plt.gca().set_aspect('equal')\n",
        "  # строим один контур для значения F = 0.0\n",
        "  plt.contour(X, Y, Z, [0.0])"
      ],
      "metadata": {
        "id": "TsUncC7ZCc8I"
      },
      "execution_count": 148,
      "outputs": []
    },
    {
      "cell_type": "markdown",
      "source": [
        "* Проверяем:"
      ],
      "metadata": {
        "id": "ya56_-PUChe6"
      }
    },
    {
      "cell_type": "code",
      "source": [
        "x, y = symbol('x'), symbol('y')\n",
        "f = x ** 2 + y ** 2 == 1\n",
        "show(f)\n",
        "a = 1.2\n",
        "implicit_plot(f, (x, -a, a), (y, -a, a))"
      ],
      "metadata": {
        "colab": {
          "base_uri": "https://localhost:8080/",
          "height": 452
        },
        "id": "TdzFRuM2Cg7R",
        "outputId": "67d4e1b7-b018-4713-96dc-f177c67ade76"
      },
      "execution_count": 149,
      "outputs": [
        {
          "output_type": "display_data",
          "data": {
            "text/plain": [
              "<IPython.core.display.Math object>"
            ],
            "text/latex": "$\\displaystyle {{{x}^{2}} + {{y}^{2}}} = {1}$"
          },
          "metadata": {}
        },
        {
          "output_type": "display_data",
          "data": {
            "text/plain": [
              "<Figure size 640x480 with 1 Axes>"
            ],
            "image/png": "[encoded data removed]"
          },
          "metadata": {}
        }
      ]
    },
    {
      "cell_type": "markdown",
      "source": [
        "* (дополнительное задание) Напишите функцию построения семейства неявно заданных функций"
      ],
      "metadata": {
        "id": "A4lbG23JCnrD"
      }
    },
    {
      "cell_type": "code",
      "source": [
        "def implicit_plot_fam(f: Expression, x: tuple, y: tuple, fam: tuple):\n",
        "  ..."
      ],
      "metadata": {
        "id": "WTgQtRuTCqUk"
      },
      "execution_count": 150,
      "outputs": []
    },
    {
      "cell_type": "markdown",
      "source": [
        "* Графики функций двух переменных (т.е. поверхности) можно строить с помощью функции `plot_surface` пакета `matplotlib`. В остальном схема работы функции\n",
        "`surface_plot` аналогична предыдущей функции `implicit_plot`."
      ],
      "metadata": {
        "id": "R_8cyR18CsYz"
      }
    },
    {
      "cell_type": "code",
      "source": [
        "from mpl_toolkits import mplot3d\n",
        "\n",
        "def surface_plot(z: Expression, x: tuple, y: tuple):\n",
        "  xgrid = np.linspace(evalf(x[1]), evalf(x[2]), 100)\n",
        "  ygrid = np.linspace(evalf(y[1]), evalf(y[2]), 100)\n",
        "\n",
        "  X, Y = np.meshgrid(xgrid, ygrid)\n",
        "  f = pycode(z, [x[0], y[0]])\n",
        "  Z = f(X, Y)\n",
        "\n",
        "  fig = plt.figure(figsize = (6, 5))\n",
        "  ax = plt.axes(projection='3d')\n",
        "  ax.plot_surface(X, Y, Z, rstride=2, cstride=2, cmap = plt.cm.autumn, linewidth=0)"
      ],
      "metadata": {
        "id": "1UU0G5BgCx-c"
      },
      "execution_count": 151,
      "outputs": []
    },
    {
      "cell_type": "markdown",
      "source": [
        "* Проверяем:"
      ],
      "metadata": {
        "id": "mm3bbg7HC7VP"
      }
    },
    {
      "cell_type": "code",
      "source": [
        "x, y = symbol('x'), symbol('y')\n",
        "f = (x ** 2 + y ** 2) ** Q(1, 2)\n",
        "show(f)\n",
        "surface_plot(f, (x, -1, 1), (y, -1, 1))"
      ],
      "metadata": {
        "colab": {
          "base_uri": "https://localhost:8080/",
          "height": 457
        },
        "id": "BEV9TR9bC_Rc",
        "outputId": "2665f08e-06e6-4fe1-dac6-e950c1916625"
      },
      "execution_count": 152,
      "outputs": [
        {
          "output_type": "display_data",
          "data": {
            "text/plain": [
              "<IPython.core.display.Math object>"
            ],
            "text/latex": "$\\displaystyle {\\left( {{x}^{2}} + {{y}^{2}} \\right)}^{\\frac{1}{2}}$"
          },
          "metadata": {}
        },
        {
          "output_type": "display_data",
          "data": {
            "text/plain": [
              "<Figure size 600x500 with 1 Axes>"
            ],
            "image/png": "[encoded data removed]"
          },
          "metadata": {}
        }
      ]
    },
    {
      "cell_type": "markdown",
      "source": [
        "* (дополнительное задание) По аналогии с последними двумя функциями напишите функцию `contour_plot` построения линий уровня (контуров) заданной функции двух переменных."
      ],
      "metadata": {
        "id": "hmHuf28RDDw1"
      }
    },
    {
      "cell_type": "code",
      "source": [
        "def contour_plot(z: Expression, x: tuple, y: tuple):\n",
        "  ..."
      ],
      "metadata": {
        "id": "ziLG67C5DIEM"
      },
      "execution_count": 153,
      "outputs": []
    },
    {
      "cell_type": "markdown",
      "source": [
        "# Часть 6"
      ],
      "metadata": {
        "id": "mwgaQew_XYJN"
      }
    },
    {
      "cell_type": "markdown",
      "source": [
        "### Дифференцирование"
      ],
      "metadata": {
        "id": "6uVXOOQjXdAk"
      }
    },
    {
      "cell_type": "markdown",
      "source": [
        "* Создадим специальную операцию `derivative` для визуализации производных (не для вычисления), чтобы можно было включать производные в выражения: $\\dfrac{dy}{dx} = 2y - x$."
      ],
      "metadata": {
        "id": "bp6aB5oSXe_Y"
      }
    },
    {
      "cell_type": "code",
      "source": [
        "def derivative(f: Expression, x: Expression) -> Expression:\n",
        "  return Expression(derivative_(f.T, x.T))\n",
        "\n",
        "def derivative_(f: tuple, x: tuple) -> tuple:\n",
        "  return 'derivative', f, x, {}\n",
        "\n",
        "def latex_derivative(f: tuple) -> str:\n",
        "  y, x = latex_(f[1]), latex_(f[2])\n",
        "  if ID(f[1]) != 'symbol':\n",
        "    y = enclose(y)\n",
        "  return f\"\\\\frac{{d{y}}}{{d{x}}}\"\n",
        "\n",
        "x, y = symbol('x'), symbol('y')\n",
        "show(derivative(y, x))"
      ],
      "metadata": {
        "colab": {
          "base_uri": "https://localhost:8080/",
          "height": 52
        },
        "id": "EFxGCVJQXhnq",
        "outputId": "5816e343-e0db-4dbb-fe67-d6c191f92df3"
      },
      "execution_count": 154,
      "outputs": [
        {
          "output_type": "display_data",
          "data": {
            "text/plain": [
              "<IPython.core.display.Math object>"
            ],
            "text/latex": "$\\displaystyle \\frac{dy}{dx}$"
          },
          "metadata": {}
        }
      ]
    },
    {
      "cell_type": "markdown",
      "source": [
        "* Создадим набор функций для дифференцирования выражений, головная функция принимает на вход выражение и переменную (оба аргумента типа `Expression`) и вызывает соответствующую функцию для списочных выражений. Последняя формирует команду дифференцирования заданного типа узла и применяет ее к текущему узлу и заданной переменной дифференцирования."
      ],
      "metadata": {
        "id": "F-IuVeMnXneA"
      }
    },
    {
      "cell_type": "code",
      "source": [
        "def diff(f: Expression, x: Expression) -> Expression:\n",
        "  return Expression(diff_(fix(f).T, x.T))\n",
        "\n",
        "def diff_(f: tuple, x: tuple) -> tuple:\n",
        "  try:\n",
        "    cmd = eval(f\"diff_{ID(f)}\")\n",
        "    return cmd(f, x)\n",
        "  except:\n",
        "    return derivative_(f, x)\n",
        "\n",
        "x = symbol('x')\n",
        "show(diff(x + 1, x))"
      ],
      "metadata": {
        "colab": {
          "base_uri": "https://localhost:8080/",
          "height": 53
        },
        "id": "px7Lw8jRXmuh",
        "outputId": "6e232f7e-df82-4e5a-b372-26cf71823f9b"
      },
      "execution_count": 155,
      "outputs": [
        {
          "output_type": "display_data",
          "data": {
            "text/plain": [
              "<IPython.core.display.Math object>"
            ],
            "text/latex": "$\\displaystyle \\frac{d\\left( {x} + {1} \\right)}{dx}$"
          },
          "metadata": {}
        }
      ]
    },
    {
      "cell_type": "markdown",
      "source": [
        "* Напишите функции дифференцирования целых и рациональных чисел, констант (все производные равны нулю), символов переменных - если этот символ совпадает с символом переменной дифференцирования, то результат - 1 (целое число), иначе - 0.  "
      ],
      "metadata": {
        "id": "ZqetCCKWXztG"
      }
    },
    {
      "cell_type": "code",
      "source": [
        "def diff_integer(f: tuple, x: tuple) -> tuple:\n",
        "  return integer_(0)\n",
        "\n",
        "def diff_rational(f: tuple, x: tuple) -> tuple:\n",
        "  return integer_(0)\n",
        "\n",
        "def diff_const(f: tuple, x: tuple) -> tuple:\n",
        "  return integer_(0)\n",
        "\n",
        "def diff_symbol(f: tuple, x: tuple) -> tuple:\n",
        "  return integer_(1) if f == x else integer_(0)"
      ],
      "metadata": {
        "id": "P93DTm5HX3HB"
      },
      "execution_count": 156,
      "outputs": []
    },
    {
      "cell_type": "markdown",
      "source": [
        "* Проверяем:"
      ],
      "metadata": {
        "id": "61wWKkwJX6MF"
      }
    },
    {
      "cell_type": "code",
      "source": [
        "x, y = symbol('x'), symbol('y')\n",
        "show(diff(1, x))\n",
        "show(diff(x, x))\n",
        "show(diff(y, x))"
      ],
      "metadata": {
        "colab": {
          "base_uri": "https://localhost:8080/",
          "height": 78
        },
        "id": "-BL5XIZPX9Eo",
        "outputId": "7b8b9514-6506-4ee3-a5ce-5527032feba1"
      },
      "execution_count": 157,
      "outputs": [
        {
          "output_type": "display_data",
          "data": {
            "text/plain": [
              "<IPython.core.display.Math object>"
            ],
            "text/latex": "$\\displaystyle 0$"
          },
          "metadata": {}
        },
        {
          "output_type": "display_data",
          "data": {
            "text/plain": [
              "<IPython.core.display.Math object>"
            ],
            "text/latex": "$\\displaystyle 1$"
          },
          "metadata": {}
        },
        {
          "output_type": "display_data",
          "data": {
            "text/plain": [
              "<IPython.core.display.Math object>"
            ],
            "text/latex": "$\\displaystyle 0$"
          },
          "metadata": {}
        }
      ]
    },
    {
      "cell_type": "markdown",
      "source": [
        "* Пишем функцию дифференцирования операции сложения."
      ],
      "metadata": {
        "id": "GPxBrXxaYBij"
      }
    },
    {
      "cell_type": "code",
      "source": [
        "def diff_add(f: tuple, x: tuple) -> tuple:\n",
        "  da, db = diff_(f[1], x), diff_(f[2], x) # Дифференцируем операнды\n",
        "  return add_(da, db) # формируем производную\n",
        "\n",
        "x = symbol('x')\n",
        "show(diff(x + 1, x))\n",
        "show(evaluate(diff(x + 1, x)))"
      ],
      "metadata": {
        "id": "GFGmB1OYYEKs",
        "colab": {
          "base_uri": "https://localhost:8080/",
          "height": 58
        },
        "outputId": "30a760bc-0b2a-4f68-e5b9-fd9731b12323"
      },
      "execution_count": 158,
      "outputs": [
        {
          "output_type": "display_data",
          "data": {
            "text/plain": [
              "<IPython.core.display.Math object>"
            ],
            "text/latex": "$\\displaystyle {1} + {0}$"
          },
          "metadata": {}
        },
        {
          "output_type": "display_data",
          "data": {
            "text/plain": [
              "<IPython.core.display.Math object>"
            ],
            "text/latex": "$\\displaystyle 1$"
          },
          "metadata": {}
        }
      ]
    },
    {
      "cell_type": "markdown",
      "source": [
        "* По аналогии с предыдущей функцией напишите функции дифференцирования остальных операций - вычитание, умножение, деление, отрицание, возведение в степень. Для возведения в степень используйте общую формулу (когда и основание, и показатель степени являются функциями заданной переменной):\n",
        "$$\\left(y^z\\right)' = \\ln y\\cdot y^z\\cdot z' + z\\cdot y^{z-1}\\cdot y'.$$"
      ],
      "metadata": {
        "id": "O8xpKT--YHBZ"
      }
    },
    {
      "cell_type": "code",
      "source": [
        "def diff_sub(f: tuple, x: tuple) -> tuple:\n",
        "  da, db = diff_(f[1], x), diff_(f[2], x)\n",
        "  return sub_(da, db)\n",
        "\n",
        "def diff_mul(f: tuple, x: tuple) -> tuple:\n",
        "  da, db = diff_(f[1], x), diff_(f[2], x)\n",
        "  return add_(mul_(da, f[2]), mul_(f[1], db))\n",
        "\n",
        "def diff_div(f: tuple, x: tuple) -> tuple:\n",
        "  da, db = diff_(f[1], x), diff_(f[2], x)\n",
        "  return div_(sub_(mul_(da, f[2]), mul_(f[1], db)), deg_(f[2], integer_(2)))\n",
        "\n",
        "def diff_deg(f: tuple, x: tuple) -> tuple:\n",
        "  da, db = diff_(f[1], x), diff_(f[2], x)\n",
        "  return add_(mul_(mul_(ln_(f[1]), deg_(f[1], f[2])), db), mul_(mul_(f[2], deg_(f[1], sub_(f[2], integer_(1)))), da))\n",
        "\n",
        "def diff_neg(f: tuple, x: tuple) -> tuple:\n",
        "  da = diff_(f[1], x)\n",
        "  return mul_(-1, da)"
      ],
      "metadata": {
        "id": "0IgmP9eBYKcZ"
      },
      "execution_count": 159,
      "outputs": []
    },
    {
      "cell_type": "markdown",
      "source": [
        "* Проверяем:"
      ],
      "metadata": {
        "id": "kuY9rTmlYOl3"
      }
    },
    {
      "cell_type": "code",
      "source": [
        "x = symbol('x')\n",
        "f = x / (2 * x + 1)\n",
        "show(derivative(f, x) == diff(f, x))"
      ],
      "metadata": {
        "id": "UVmgDqoGYRpK",
        "colab": {
          "base_uri": "https://localhost:8080/",
          "height": 63
        },
        "outputId": "cb6717fe-6f6b-473e-af8e-526034ccc8a7"
      },
      "execution_count": 160,
      "outputs": [
        {
          "output_type": "display_data",
          "data": {
            "text/plain": [
              "<IPython.core.display.Math object>"
            ],
            "text/latex": "$\\displaystyle {\\frac{d\\left( \\frac{x}{{{2} \\cdot {x}} + {1}} \\right)}{dx}} = {\\frac{{{1} \\cdot {\\left( {{2} \\cdot {x}} + {1} \\right)}} - {{x} \\cdot {\\left( {{{0} \\cdot {x}} + {{2} \\cdot {1}}} + {0} \\right)}}}{{\\left( {{2} \\cdot {x}} + {1} \\right)}^{2}}}$"
          },
          "metadata": {}
        }
      ]
    },
    {
      "cell_type": "markdown",
      "source": [
        "* Вычисляем производную функции $\\sin x$:"
      ],
      "metadata": {
        "id": "N7gv-J3oYUK3"
      }
    },
    {
      "cell_type": "code",
      "source": [
        "def diff_sin(f: tuple, x: tuple) -> tuple:\n",
        "  a = f[1]\n",
        "  da = diff_(a, x)\n",
        "  return mul_(cos_(a), da)\n",
        "\n",
        "f = 2 * x\n",
        "show(diff(sin(f), x))"
      ],
      "metadata": {
        "id": "nnoNZHcfYWyz",
        "colab": {
          "base_uri": "https://localhost:8080/",
          "height": 39
        },
        "outputId": "f92dc2b7-a9fd-403c-da3d-ed5520e0babc"
      },
      "execution_count": 161,
      "outputs": [
        {
          "output_type": "display_data",
          "data": {
            "text/plain": [
              "<IPython.core.display.Math object>"
            ],
            "text/latex": "$\\displaystyle {\\cos{\\left( {2} \\cdot {x} \\right)}} \\cdot {\\left( {{0} \\cdot {x}} + {{2} \\cdot {1}} \\right)}$"
          },
          "metadata": {}
        }
      ]
    },
    {
      "cell_type": "markdown",
      "source": [
        "* По аналогии с функцией $\\sin{x}$ напишите функции вычисления производных остальных элементарных функций."
      ],
      "metadata": {
        "id": "RnhbO0dBYdff"
      }
    },
    {
      "cell_type": "code",
      "source": [
        "def diff_cos(f: tuple, x: tuple) -> tuple:\n",
        "  a = f[1]\n",
        "  da = diff_(a, x)\n",
        "  return mul_(neg_(sin_(a)), da)"
      ],
      "metadata": {
        "id": "T31jTXF1YiC5"
      },
      "execution_count": 162,
      "outputs": []
    },
    {
      "cell_type": "code",
      "source": [
        "def diff_tan(f: tuple, x: tuple) -> tuple:\n",
        "  a = f[1]\n",
        "  da = diff_(a, x)\n",
        "  return mul_(div_(integer_(1), deg_(cos_(a), integer_(2))), da)"
      ],
      "metadata": {
        "id": "NL4vPMHFte-f"
      },
      "execution_count": 163,
      "outputs": []
    },
    {
      "cell_type": "code",
      "source": [
        "def diff_arcsin(f: tuple, x: tuple) -> tuple:\n",
        "  a = f[1]\n",
        "  da = diff_(a, x)\n",
        "  return mul_(div_(integer_(1), sqrt_(sub_(integer_(1), deg_(a, integer_(2))))), da)"
      ],
      "metadata": {
        "id": "bkMxBCKwtxHC"
      },
      "execution_count": 164,
      "outputs": []
    },
    {
      "cell_type": "code",
      "source": [
        "def diff_arccos(f: tuple, x: tuple) -> tuple:\n",
        "  a = f[1]\n",
        "  da = diff_(a, x)\n",
        "  return mul_(neg_(div_(integer_(1), sqrt_(sub_(integer_(1), deg_(a, integer_(2)))))), da)"
      ],
      "metadata": {
        "id": "4OvgVXfNt2lH"
      },
      "execution_count": 165,
      "outputs": []
    },
    {
      "cell_type": "code",
      "source": [
        "def diff_arctan(f: tuple, x: tuple) -> tuple:\n",
        "  a = f[1]\n",
        "  da = diff_(a, x)\n",
        "  return mul_(div_(integer_(1), add_(integer_(1), deg_(a, integer_(2)))), da)"
      ],
      "metadata": {
        "id": "R8p5FXDJt6fV"
      },
      "execution_count": 166,
      "outputs": []
    },
    {
      "cell_type": "code",
      "source": [
        "def diff_ln(f: tuple, x: tuple) -> tuple:\n",
        "  a = f[1]\n",
        "  da = diff_(a, x)\n",
        "  return mul_(div_(integer_(1), a), da)"
      ],
      "metadata": {
        "id": "F8MmEQviuFAZ"
      },
      "execution_count": 167,
      "outputs": []
    },
    {
      "cell_type": "code",
      "source": [
        "def diff_exp(f: tuple, x: tuple) -> tuple:\n",
        "  a = f[1]\n",
        "  da = diff_(a, x)\n",
        "  return mul_(exp_(a), da)"
      ],
      "metadata": {
        "id": "U5w8ALtguMSJ"
      },
      "execution_count": 168,
      "outputs": []
    },
    {
      "cell_type": "markdown",
      "source": [
        "* Проверяем:"
      ],
      "metadata": {
        "id": "j2yYNBUdYipm"
      }
    },
    {
      "cell_type": "code",
      "source": [
        "x = symbol('x')\n",
        "f = diff(exp(x) + x * ln(1 + x), x)\n",
        "show(f)\n",
        "show(evaluate(subs(f, {x: 0})))"
      ],
      "metadata": {
        "id": "iHJLroPdYlzN",
        "colab": {
          "base_uri": "https://localhost:8080/",
          "height": 78
        },
        "outputId": "fd0a39bb-f874-4fae-a47e-18031419fff3"
      },
      "execution_count": 169,
      "outputs": [
        {
          "output_type": "display_data",
          "data": {
            "text/plain": [
              "<IPython.core.display.Math object>"
            ],
            "text/latex": "$\\displaystyle {{e^{x}} \\cdot {1}} + {\\left( {{1} \\cdot {\\ln{\\left( {1} + {x} \\right)}}} + {{x} \\cdot {\\left( {\\frac{1}{{1} + {x}}} \\cdot {\\left( {0} + {1} \\right)} \\right)}} \\right)}$"
          },
          "metadata": {}
        },
        {
          "output_type": "display_data",
          "data": {
            "text/plain": [
              "<IPython.core.display.Math object>"
            ],
            "text/latex": "$\\displaystyle {1}$"
          },
          "metadata": {}
        }
      ]
    },
    {
      "cell_type": "markdown",
      "source": [
        "### (дополнительное задание) Формула Тейлора\n",
        "\n",
        "* Напишите набор функций для представления, визуализации и оценивания факториалов целых неотрицательных чисел:\n",
        "  * `show(factorial(6))` $\\to 6!$\n",
        "  * `show(factorial(n + 1))` $\\to (n+1)!$\n",
        "  * `show(evaluate(factorial(6)))` $\\to 720$\n",
        "  * `evalf(factorial(6))` $\\to$  `720.0`\n",
        "\n",
        "* Факториал числа можно вычислить с помощью функции `factorial` пакета `math`"
      ],
      "metadata": {
        "id": "b_0wUYskYqIZ"
      }
    },
    {
      "cell_type": "code",
      "source": [],
      "metadata": {
        "id": "nuVRoQYxYtxq"
      },
      "execution_count": 169,
      "outputs": []
    },
    {
      "cell_type": "markdown",
      "source": [
        "* Напишите функцию `taylor_series` построения формулы Тейлора для заданных: функции $f(x)$, переменной $x$, точки $x=a$, порядка $n$:\n",
        "$$f(x) \\to \\sum_{k=0}^{n}\\dfrac{f^{(k)}(a)}{k!}(x-a)^k.$$\n",
        "Необходим в цикле вычислить $n$ производных, в каждую из них подставить вместо $x$ значение $a$ и оценить (`evaluate`). Из полученных значений и соответствующих факториалов собрать коэффициенты многочлена, создать и вернуть многочлен для \"переменной\" $x-a$:\n",
        "  * `taylor_series(f, sin(x), Z(0), 6)` $\\to \\frac{1}{{1!}} \\cdot x + \\frac{-1}{{3!}} \\cdot {x} ^ {3} + \\frac{1}{{5!}} \\cdot {x} ^ {5}$\n",
        "  * `taylor_series(f, ln(1 + x), Z(1), 3)` $\\to \\frac{1}{{1!}} \\cdot \\left( x - 1 \\right) + \\frac{-1}{{2!}} \\cdot {\\left( x - 1 \\right)} ^ {2} + \\frac{2}{{3!}} \\cdot {\\left( x - 1 \\right)} ^ {3}$"
      ],
      "metadata": {
        "id": "Ov5a4NJfYuJ9"
      }
    },
    {
      "cell_type": "code",
      "source": [
        "def taylor_series(f: Expression, x: Expression, a: Expression, n: int) -> Expression:\n",
        "  ...\n",
        "\n",
        "x = symbol('x')\n",
        "t1 = taylor_series(sin(x), x, Z(0), 6)\n",
        "show(t1)\n",
        "show(evaluate(t1))\n",
        "\n",
        "t2 = taylor_series(ln(1 + x), x, Z(1), 3)\n",
        "show(t2)\n",
        "show(evaluate(t2))"
      ],
      "metadata": {
        "id": "eKfUgG_ZYyHC",
        "colab": {
          "base_uri": "https://localhost:8080/",
          "height": 0
        },
        "outputId": "0b52e856-5afe-4abb-f1b2-516b645fc805"
      },
      "execution_count": 170,
      "outputs": [
        {
          "output_type": "error",
          "ename": "AttributeError",
          "evalue": "ignored",
          "traceback": [
            "\u001b[0;31m---------------------------------------------------------------------------\u001b[0m",
            "\u001b[0;31mAttributeError\u001b[0m                            Traceback (most recent call last)",
            "\u001b[0;32m<ipython-input-170-4dc5919f8551>\u001b[0m in \u001b[0;36m<cell line: 6>\u001b[0;34m()\u001b[0m\n\u001b[1;32m      4\u001b[0m \u001b[0mx\u001b[0m \u001b[0;34m=\u001b[0m \u001b[0msymbol\u001b[0m\u001b[0;34m(\u001b[0m\u001b[0;34m'x'\u001b[0m\u001b[0;34m)\u001b[0m\u001b[0;34m\u001b[0m\u001b[0;34m\u001b[0m\u001b[0m\n\u001b[1;32m      5\u001b[0m \u001b[0mt1\u001b[0m \u001b[0;34m=\u001b[0m \u001b[0mtaylor_series\u001b[0m\u001b[0;34m(\u001b[0m\u001b[0msin\u001b[0m\u001b[0;34m(\u001b[0m\u001b[0mx\u001b[0m\u001b[0;34m)\u001b[0m\u001b[0;34m,\u001b[0m \u001b[0mx\u001b[0m\u001b[0;34m,\u001b[0m \u001b[0mZ\u001b[0m\u001b[0;34m(\u001b[0m\u001b[0;36m0\u001b[0m\u001b[0;34m)\u001b[0m\u001b[0;34m,\u001b[0m \u001b[0;36m6\u001b[0m\u001b[0;34m)\u001b[0m\u001b[0;34m\u001b[0m\u001b[0;34m\u001b[0m\u001b[0m\n\u001b[0;32m----> 6\u001b[0;31m \u001b[0mshow\u001b[0m\u001b[0;34m(\u001b[0m\u001b[0mt1\u001b[0m\u001b[0;34m)\u001b[0m\u001b[0;34m\u001b[0m\u001b[0;34m\u001b[0m\u001b[0m\n\u001b[0m\u001b[1;32m      7\u001b[0m \u001b[0mshow\u001b[0m\u001b[0;34m(\u001b[0m\u001b[0mevaluate\u001b[0m\u001b[0;34m(\u001b[0m\u001b[0mt1\u001b[0m\u001b[0;34m)\u001b[0m\u001b[0;34m)\u001b[0m\u001b[0;34m\u001b[0m\u001b[0;34m\u001b[0m\u001b[0m\n\u001b[1;32m      8\u001b[0m \u001b[0;34m\u001b[0m\u001b[0m\n",
            "\u001b[0;32m<ipython-input-17-fa592650557f>\u001b[0m in \u001b[0;36mshow\u001b[0;34m(x)\u001b[0m\n\u001b[1;32m      1\u001b[0m \u001b[0;32mdef\u001b[0m \u001b[0mshow\u001b[0m\u001b[0;34m(\u001b[0m\u001b[0mx\u001b[0m\u001b[0;34m:\u001b[0m \u001b[0mExpression\u001b[0m\u001b[0;34m)\u001b[0m \u001b[0;34m->\u001b[0m \u001b[0;32mNone\u001b[0m\u001b[0;34m:\u001b[0m\u001b[0;34m\u001b[0m\u001b[0;34m\u001b[0m\u001b[0m\n\u001b[0;32m----> 2\u001b[0;31m   \u001b[0mshow_\u001b[0m\u001b[0;34m(\u001b[0m\u001b[0mx\u001b[0m\u001b[0;34m.\u001b[0m\u001b[0mT\u001b[0m\u001b[0;34m)\u001b[0m\u001b[0;34m\u001b[0m\u001b[0;34m\u001b[0m\u001b[0m\n\u001b[0m",
            "\u001b[0;31mAttributeError\u001b[0m: 'NoneType' object has no attribute 'T'"
          ]
        }
      ]
    },
    {
      "cell_type": "markdown",
      "source": [
        "### Упрощение выражений\n",
        "\n",
        "* Создаем набор функций для представления сумм и произведений. Сумма - это линейная комбинация нескольких (больше одного) значений, первым из которых всегда является рациональное число, произведение - произведение несколькиз степеней (больше одной), первым множителем является рациональное число:\n",
        "  * `sum([u0, u1, u2, u3, u4, ...])` $\\to u_0 + u_1 \\cdot u_2 + u_3 \\cdot u_4 + \\dots$\n",
        "  * `product([u0, u1, u2, u3, u4, ...])` $\\to u_0 \\cdot u_2 ^ {u_1} \\cdot u_4 ^ {u_4} \\cdot \\dots$\n",
        "* Коэффициенты в суммах и степени в произведениях являются рациональными числами.\n",
        "* Данные функции необходимы только для внутреннего использования (не для пользователей), поэтому представление их в виде формул можно сделать чисто техническим (со всеми скобками и т.д.)."
      ],
      "metadata": {
        "id": "uIkS82l2Y1Dr"
      }
    },
    {
      "cell_type": "code",
      "source": [
        "def sum_(A: list) -> tuple:\n",
        "  if len(A) == 1:\n",
        "    return A[0] # если длина списка 1, то это просто рациональное число A[0]\n",
        "  if len(A) == 3 and A[0] == rational_(0, 1):\n",
        "    return simp_mul(mul_(A[1], A[2])) # если два слагаемых, из которых первое - ноль, то результат - второе слагаемое (суммы нет)\n",
        "  return 'sum', *A, {} # общий случай, более одного нетривиальных слагаемых\n",
        "\n",
        "def latex_sum(x: tuple) -> str:\n",
        "  A = [f\"{{{enclose(latex_(a))}}}\" for a in items(x)]\n",
        "  T = [A[0]] + ['\\\\cdot'.join([A[i], A[i+1]]) for i in range(1, len(A), 2)]\n",
        "  return '+'.join(T)\n",
        "\n",
        "f = sum_([integer_(1), rational_(1, 2), symbol_('x')])\n",
        "show(Expression(f))"
      ],
      "metadata": {
        "id": "LXSWTiaoY7Ms",
        "colab": {
          "base_uri": "https://localhost:8080/",
          "height": 58
        },
        "outputId": "94082636-ca26-454b-db1a-d4017d53eaf8"
      },
      "execution_count": 171,
      "outputs": [
        {
          "output_type": "display_data",
          "data": {
            "text/plain": [
              "<IPython.core.display.Math object>"
            ],
            "text/latex": "$\\displaystyle {\\left( 1 \\right)}+{\\left( \\frac{1}{2} \\right)}\\cdot{\\left( x \\right)}$"
          },
          "metadata": {}
        }
      ]
    },
    {
      "cell_type": "code",
      "source": [
        "def prod_(A: list) -> tuple:\n",
        "  if A[0] == rational_(0, 1):\n",
        "    return rational_(0, 1) # если числовой коэффициент ноль, то все произведение ноль\n",
        "  if len(A) == 1:\n",
        "    return A[0]  # если длина списка 1, то это просто рациональное число A[0]\n",
        "  if len(A) == 3 and A[0] == rational_(1, 1):\n",
        "    return simp_deg(deg_(A[2], A[1])) # если два множителя, из которых первый - 1, то результат - второй множитель (произведения нет)\n",
        "  return 'prod', *A, {} # общий случай\n",
        "\n",
        "def latex_prod(x: tuple) -> str:\n",
        "  A = [f\"{{{enclose(latex_(a))}}}\" for a in items(x)]\n",
        "  T = [A[0]] + ['^'.join([A[i+1], A[i]]) for i in range(1, len(A), 2)]\n",
        "  return '\\\\cdot'.join(T)\n",
        "\n",
        "f = prod_([integer_(1), rational_(1, 2), symbol_('x')])\n",
        "show(Expression(f))"
      ],
      "metadata": {
        "id": "Q5Dfr2BJY97w",
        "colab": {
          "base_uri": "https://localhost:8080/",
          "height": 44
        },
        "outputId": "d6962298-61b0-409d-941f-79e357221acf"
      },
      "execution_count": 172,
      "outputs": [
        {
          "output_type": "display_data",
          "data": {
            "text/plain": [
              "<IPython.core.display.Math object>"
            ],
            "text/latex": "$\\displaystyle {\\left( 1 \\right)}\\cdot{\\left( x \\right)}^{\\left( \\frac{1}{2} \\right)}$"
          },
          "metadata": {}
        }
      ]
    },
    {
      "cell_type": "markdown",
      "source": [
        "* Пишем общую функцию слияния двух сумм или произведений при выполнении над ними арифметической операции (сложение и вычитание для сумм, умножение и деление для произведений). Цель слияния - объединение общих членов этих сумм или произведений:\n",
        "  * $(1 + 2 \\cdot x) + (2 + 4 \\cdot x + 1 \\cdot x^2) \\to 3 + 6 \\cdot x + 1 \\cdot x ^2$;\n",
        "  * $(1 + 2 \\cdot x) - (2 + 4 \\cdot x + 1 \\cdot x^2) \\to (-1) + (-2) \\cdot x + (-1) \\cdot x ^2$;\n",
        "  * $(2\\cdot x^3) \\times (3\\cdot (x+1)^{-2}\\cdot x^2) \\to 6 \\cdot (x+1)^{-2}\\cdot x^5$\n",
        "  * $(2\\cdot x^3) \\div (3\\cdot (x+1)^{-2}\\cdot x^2) \\to \\frac23 \\cdot (x+1)^{2}\\cdot x^1$\n",
        "* При сложении мы складываем все числовые коэффициенты, при вычитании - вычитаем, при умножении: умножаем первые коэффициенты и складываем все остальные (т.е. показатели степеней), при деление - делим первые коэффициенты, вычитаем все остальные.\n",
        "* Если какой-то из коэффициентов в результате операции сложения (вычитания) оказался равен нулю, то соответствующая пар (коэффициент-элемент) в итоговый список не включается.\n",
        "* На вход функции подаются два списка (слагаемых или множителей), и две операции (для первых коэффициентов и для всех остальных). На выходе - объединенный список.   "
      ],
      "metadata": {
        "id": "wK464eucZAji"
      }
    },
    {
      "cell_type": "code",
      "source": [
        "OPS = {'+': add_rational_rational,\n",
        "       '-': sub_rational_rational,\n",
        "       '*': mul_rational_rational,\n",
        "       '/': div_rational_rational}\n",
        "\n",
        "def neg_rational(x: tuple) -> tuple:\n",
        "  n, m = options(x)['num'], options(x)['denom']\n",
        "  return rational_(-n, m)\n",
        "\n",
        "def merge_longs(A: list, B: list, op1: str, op2: str) -> list:\n",
        "  i, j, C = 1, 1, [OPS[op1](A[0], B[0])]\n",
        "  while i < len(A) or j < len(B):\n",
        "    ka = str(A[i + 1]) if i < len(A) else ')'\n",
        "    kb = str(B[j + 1]) if j < len(B) else ')'\n",
        "    if ka < kb:\n",
        "      C, i = C + [A[i], A[i + 1]], i + 2\n",
        "    elif ka > kb:\n",
        "      k = B[j] if op2 == '+' else neg_rational(B[j])\n",
        "      C, j = C + [k, B[j + 1]], j + 2\n",
        "    else:\n",
        "      k = OPS[op2](A[i], B[j])\n",
        "      if k != rational_(0, 1):\n",
        "        C += [k, A[i + 1]]\n",
        "      i, j = i + 2, j + 2\n",
        "  return C"
      ],
      "metadata": {
        "id": "pODi1GYrZDuf"
      },
      "execution_count": 173,
      "outputs": []
    },
    {
      "cell_type": "markdown",
      "source": [
        "* Проверяем, как работает функция `merge`:"
      ],
      "metadata": {
        "id": "8gZtbH9aZHOg"
      }
    },
    {
      "cell_type": "code",
      "source": [
        "x, y = symbol_('x'), symbol_('y')\n",
        "A = [rational_(1, 2), rational_(3, 1), sin_(x), rational_(1, 1), x]\n",
        "B = [rational_(2, 3), rational_(-3, 1), sin_(x), rational_(2, 1), x, rational_(1, 4), y]\n",
        "print('Деление выражений')\n",
        "show(Expression(div_(prod_(A), prod_(B))))\n",
        "C = merge_longs(A, B, '/', '-')\n",
        "show(Expression(prod_(C)))\n",
        "print('Умножение тех же выражений')\n",
        "show(Expression(mul_(prod_(A), prod_(B))))\n",
        "C = merge_longs(A, B, '*', '+')\n",
        "show(Expression(prod_(C)))"
      ],
      "metadata": {
        "id": "UpZptJb2ZKKt",
        "colab": {
          "base_uri": "https://localhost:8080/",
          "height": 230
        },
        "outputId": "eeb83514-d0f1-42dd-d2bd-22dad255db72"
      },
      "execution_count": 174,
      "outputs": [
        {
          "output_type": "stream",
          "name": "stdout",
          "text": [
            "Деление выражений\n"
          ]
        },
        {
          "output_type": "display_data",
          "data": {
            "text/plain": [
              "<IPython.core.display.Math object>"
            ],
            "text/latex": "$\\displaystyle \\frac{{\\left( \\frac{1}{2} \\right)}\\cdot{\\left( \\sin{x} \\right)}^{\\left( {3} \\right)}\\cdot{\\left( x \\right)}^{\\left( {1} \\right)}}{{\\left( \\frac{2}{3} \\right)}\\cdot{\\left( \\sin{x} \\right)}^{\\left( {-3} \\right)}\\cdot{\\left( x \\right)}^{\\left( {2} \\right)}\\cdot{\\left( y \\right)}^{\\left( \\frac{1}{4} \\right)}}$"
          },
          "metadata": {}
        },
        {
          "output_type": "display_data",
          "data": {
            "text/plain": [
              "<IPython.core.display.Math object>"
            ],
            "text/latex": "$\\displaystyle {\\left( \\frac{3}{4} \\right)}\\cdot{\\left( \\sin{x} \\right)}^{\\left( {6} \\right)}\\cdot{\\left( x \\right)}^{\\left( {-1} \\right)}\\cdot{\\left( y \\right)}^{\\left( -{\\frac{1}{4}} \\right)}$"
          },
          "metadata": {}
        },
        {
          "output_type": "stream",
          "name": "stdout",
          "text": [
            "Умножение тех же выражений\n"
          ]
        },
        {
          "output_type": "display_data",
          "data": {
            "text/plain": [
              "<IPython.core.display.Math object>"
            ],
            "text/latex": "$\\displaystyle {{\\left( \\frac{1}{2} \\right)}\\cdot{\\left( \\sin{x} \\right)}^{\\left( {3} \\right)}\\cdot{\\left( x \\right)}^{\\left( {1} \\right)}} \\cdot {{\\left( \\frac{2}{3} \\right)}\\cdot{\\left( \\sin{x} \\right)}^{\\left( {-3} \\right)}\\cdot{\\left( x \\right)}^{\\left( {2} \\right)}\\cdot{\\left( y \\right)}^{\\left( \\frac{1}{4} \\right)}}$"
          },
          "metadata": {}
        },
        {
          "output_type": "display_data",
          "data": {
            "text/plain": [
              "<IPython.core.display.Math object>"
            ],
            "text/latex": "$\\displaystyle {\\left( \\frac{1}{3} \\right)}\\cdot{\\left( x \\right)}^{\\left( {3} \\right)}\\cdot{\\left( y \\right)}^{\\left( \\frac{1}{4} \\right)}$"
          },
          "metadata": {}
        }
      ]
    },
    {
      "cell_type": "markdown",
      "source": [
        "* Создаем набор функций для упрощения выражений: головная функция выполняет 1) оценивание текущего выражения (т.е. выполнение всех возможных арифметических операций и оценивание функций, если это возможно); 2) упрощает выражение (функция `simp_`) и выполняет ренормализацию (функция `renorm_`), т.е. преобразование выражения с суммами и произведениями в классические выражения с бинарными арифметическими операциями. Функция `simp_` упрощает рекурсивно все аргументы текущего узла и вызывает обработчик этого узла. Функция `renorm_` выполняет те же действия, но для ренормализации выражения.  "
      ],
      "metadata": {
        "id": "NjV09xjrZNFS"
      }
    },
    {
      "cell_type": "code",
      "source": [
        "def simplify(x: Expression) -> Expression:\n",
        "  return Expression(renorm_(simp_(eval_(fix(x).T)))) # FIX EVAL_BINARY!!!\n",
        "\n",
        "def simp_(x: tuple) -> tuple:\n",
        "  x = ID(x), *[simp_(a) for a in items(x)], options(x)\n",
        "  try:\n",
        "    return eval(f\"simp_{ID(x)}\")(x)\n",
        "  except:\n",
        "    return x\n",
        "\n",
        "def renorm_(x: tuple) -> tuple:\n",
        "  x = ID(x), *[renorm_(a) for a in items(x)], options(x)\n",
        "  try:\n",
        "    return eval(f\"renorm_{ID(x)}\")(x)\n",
        "  except:\n",
        "    return x"
      ],
      "metadata": {
        "id": "-A7DRCHmZS9B"
      },
      "execution_count": 175,
      "outputs": []
    },
    {
      "cell_type": "markdown",
      "source": [
        "* Для упрощения кода преобразуем все целые числа в рациональные:"
      ],
      "metadata": {
        "id": "ZrSxRAwsZVpC"
      }
    },
    {
      "cell_type": "code",
      "source": [
        "def simp_integer(x: tuple) -> tuple:\n",
        "  return cast_integer_rational(x)"
      ],
      "metadata": {
        "id": "TJu0w2SVZYPe"
      },
      "execution_count": 176,
      "outputs": []
    },
    {
      "cell_type": "markdown",
      "source": [
        "* Пишем две служебные функции для преобразования выражений в суммы и произведения (результат их работы - соответствующие списки)."
      ],
      "metadata": {
        "id": "MUb2DfqIZaJh"
      }
    },
    {
      "cell_type": "code",
      "source": [
        "def to_sum(x: tuple) -> list:\n",
        "  if ID(x) == 'sum': return list(items(x))\n",
        "  if ID(x) == 'rational': return [x]\n",
        "  if ID(x) == 'prod':\n",
        "    A = to_prod(x)\n",
        "    return [rational_(0, 1), A[0], prod_([rational_(1, 1)] + A[1:])]\n",
        "  return [rational_(0, 1), rational_(1, 1), x]\n",
        "\n",
        "def to_prod(x: tuple) -> list:\n",
        "  if ID(x) == 'prod': return list(items(x))\n",
        "  if ID(x) == 'rational': return [x]\n",
        "  if ID(x) == 'deg' and ID(x[2]) == 'rational':\n",
        "    return [rational_(1, 1), x[2], x[1]]\n",
        "  return [rational_(1, 1), rational_(1, 1), x]"
      ],
      "metadata": {
        "id": "wsoxsEYDZc18"
      },
      "execution_count": 177,
      "outputs": []
    },
    {
      "cell_type": "markdown",
      "source": [
        "* Функции `simp_add` и `simp_sub` преобразуют свои аргументы к суммам и выполняют слияние двух соответствующих списков."
      ],
      "metadata": {
        "id": "qQ1FuwxDZe7s"
      }
    },
    {
      "cell_type": "code",
      "source": [
        "def simp_add(x: tuple) -> tuple:\n",
        "  A, B = to_sum(x[1]), to_sum(x[2])\n",
        "  return sum_(merge_longs(A, B, '+', '+'))\n",
        "\n",
        "def simp_sub(x: tuple) -> tuple:\n",
        "  A, B = to_sum(x[1]), to_sum(x[2])\n",
        "  return sum_(merge_longs(A, B, '-', '-'))"
      ],
      "metadata": {
        "id": "bDOoucY4ZhTX"
      },
      "execution_count": 178,
      "outputs": []
    },
    {
      "cell_type": "markdown",
      "source": [
        "* Обрабочики умножения и деления. В частном случае, если один операнд умножения - число, второй - сумма, то выполняем раскрытие скобок. То же самое для деления, если первый делимое - сумма, а делитель - число."
      ],
      "metadata": {
        "id": "C7e6ZblsZkPF"
      }
    },
    {
      "cell_type": "code",
      "source": [
        "def simp_mul(x: tuple) -> tuple:\n",
        "  if ID(x[1]) == 'rational' and ID(x[2]) == 'sum':\n",
        "    return mul_rational_sum(x[1], list(items(x[2])))\n",
        "  if ID(x[2]) == 'rational' and ID(x[1]) == 'sum':\n",
        "    return mul_rational_sum(x[2], list(items(x[1])))\n",
        "  A, B = to_prod(x[1]), to_prod(x[2])\n",
        "  return prod_(merge_longs(A, B, '*', '+'))\n",
        "\n",
        "def mul_rational_sum(k: tuple, A: list) -> tuple:\n",
        "  A[0] = mul_rational_rational(k, A[0])\n",
        "  for i in range(1, len(A), 2):\n",
        "    A[i] = mul_rational_rational(k, A[i])\n",
        "  return sum_(A)\n",
        "\n",
        "def simp_div(x: tuple) -> tuple:\n",
        "  if ID(x[2]) == 'rational' and ID(x[1]) == 'sum':\n",
        "    a = div_rational_rational(rational_(1, 1), x[2])\n",
        "    return mul_rational_sum(a, list(items(x[1])))\n",
        "  A, B = to_prod(x[1]), to_prod(x[2])\n",
        "  return prod_(merge_longs(A, B, '/', '-'))"
      ],
      "metadata": {
        "id": "4qMNVZnbZm6e"
      },
      "execution_count": 179,
      "outputs": []
    },
    {
      "cell_type": "markdown",
      "source": [
        "* Упрощение отрицания (унарный минус) - заменяем эту операцию на умножение на $-1$ и упрощаем эту операцию."
      ],
      "metadata": {
        "id": "xbvzdPjkZpxV"
      }
    },
    {
      "cell_type": "code",
      "source": [
        "def simp_neg(x: tuple) -> tuple:\n",
        "  A, B = to_prod(rational_(-1, 1)), to_prod(x[1])\n",
        "  return prod_(merge_longs(A, B, '*', '+'))"
      ],
      "metadata": {
        "id": "7xPM_qbuZswc"
      },
      "execution_count": 180,
      "outputs": []
    },
    {
      "cell_type": "markdown",
      "source": [
        "* Упрощаем операцию возведения в степень: $1^x \\to 1$, $x^0\\to 1$, $x^1\\to x$, $(x^y)^z \\to x^{y\\cdot z}$. Если основание прои"
      ],
      "metadata": {
        "id": "nVWlxikkZumn"
      }
    },
    {
      "cell_type": "code",
      "source": [
        "def simp_deg(x: tuple) -> tuple:\n",
        "  a, b = x[1], x[2]\n",
        "  if a == rational_(1, 1) or b == rational_(0, 1):\n",
        "    return rational_(1, 0)\n",
        "  if b == rational_(1, 1):\n",
        "    return a\n",
        "  if ID(a) == 'deg':\n",
        "    c = simp_mul(mul_(a[2], b))\n",
        "    return deg_(a[1], c)\n",
        "  if ID(a) == 'prod':\n",
        "    A = to_prod(a)\n",
        "    A[0] = eval_(deg_(A[0], b))\n",
        "    for i in range(1, len(A), 2):\n",
        "      A[i] = simp_mul(mul_(A[i], b))\n",
        "    return prod_(A)\n",
        "  return x"
      ],
      "metadata": {
        "id": "8BeOJNZsZwth"
      },
      "execution_count": 181,
      "outputs": []
    },
    {
      "cell_type": "markdown",
      "source": [
        "* Проверяем:"
      ],
      "metadata": {
        "id": "4IFmeaESZy83"
      }
    },
    {
      "cell_type": "code",
      "source": [
        "x, y, z = symbol('x'), symbol('y'), symbol('z')\n",
        "show(simplify(1**x))\n",
        "show(simplify(x**0))\n",
        "show(simplify(x**1))\n",
        "show(simplify((x**y)**z))"
      ],
      "metadata": {
        "id": "2aBxL6DfZ1V6",
        "colab": {
          "base_uri": "https://localhost:8080/",
          "height": 132
        },
        "outputId": "99ded14e-6629-4917-e2ee-3b96c058d865"
      },
      "execution_count": 182,
      "outputs": [
        {
          "output_type": "display_data",
          "data": {
            "text/plain": [
              "<IPython.core.display.Math object>"
            ],
            "text/latex": "$\\displaystyle \\frac{1}{0}$"
          },
          "metadata": {}
        },
        {
          "output_type": "display_data",
          "data": {
            "text/plain": [
              "<IPython.core.display.Math object>"
            ],
            "text/latex": "$\\displaystyle \\frac{1}{0}$"
          },
          "metadata": {}
        },
        {
          "output_type": "display_data",
          "data": {
            "text/plain": [
              "<IPython.core.display.Math object>"
            ],
            "text/latex": "$\\displaystyle x$"
          },
          "metadata": {}
        },
        {
          "output_type": "display_data",
          "data": {
            "text/plain": [
              "<IPython.core.display.Math object>"
            ],
            "text/latex": "$\\displaystyle {x}^{{\\left( {1} \\right)}\\cdot{\\left( y \\right)}^{\\left( {1} \\right)}\\cdot{\\left( z \\right)}^{\\left( {1} \\right)}}$"
          },
          "metadata": {}
        }
      ]
    },
    {
      "cell_type": "markdown",
      "source": [
        "* Пишем функции ренормализации сумм и произведений. Для сумм используем написанную ранее функцию построения линейной комбинации. Для произведения создаем новую функцию, которая делит все множители на те, которые останутся в числителе (с положительными степенями), и на те, которые уйдут в знаменатель (с отрицательными степенями). Далее из этих множителей формируем два произведения, а из них дробь (если есть знаменатель)."
      ],
      "metadata": {
        "id": "YySzkZPfZ10o"
      }
    },
    {
      "cell_type": "code",
      "source": [
        "def renorm_sum(x: tuple) -> tuple:\n",
        "  X = list(items(x))\n",
        "  A, B = X[1::2] + [X[0]], X[2::2] + [rational_(1, 1)]\n",
        "  return linear_combination(A, B)\n",
        "\n",
        "def renorm_prod(x: tuple) -> tuple:\n",
        "  X = list(items(x))\n",
        "  k = X[0]\n",
        "  N, M = split_prod_terms(X[1::2], X[2::2])\n",
        "  if M == []:\n",
        "    if k == rational_(1, 1): return mul_terms(N)\n",
        "    else: return mul_terms([k] + N)\n",
        "  elif N == []:\n",
        "    if k == rational_(1, 1): return div_(rational_(1, 1), mul_terms(M))\n",
        "    else: return mul_(k, div_(rational_(1, 1), mul_terms(M)))\n",
        "  if k == rational_(1, 1): return div_(mul_terms(N), mul_terms(M))\n",
        "  return mul_(k, div_(mul_terms(N), mul_terms(M)))\n",
        "\n",
        "def split_prod_terms(D: list, B: list) -> tuple:\n",
        "  N, M = [], []\n",
        "  for b, d in zip(B, D):\n",
        "    if d == rational_(1, 1) : N.append(b)\n",
        "    elif d == rational_(-1, 1): M.append(b)\n",
        "    elif options(d)['num'] > 0: N.append(deg_(b, d))\n",
        "    else: M.append(deg_(b, neg_rational(d)))\n",
        "  return N, M\n",
        "\n",
        "def mul_terms(A: list) -> tuple:\n",
        "  r = A[0]\n",
        "  for a in A[1:]:\n",
        "    r = mul_(r, a)\n",
        "  return r"
      ],
      "metadata": {
        "id": "RkK-peyWZ5UK"
      },
      "execution_count": 183,
      "outputs": []
    },
    {
      "cell_type": "markdown",
      "source": [
        "* Итоговая проверка:"
      ],
      "metadata": {
        "id": "iQWMn-_fZ7p9"
      }
    },
    {
      "cell_type": "code",
      "source": [
        "x = symbol('x')\n",
        "f = 1 + x - 1 + 2 * x + x ** 2 + 3 - 4 * x + sin(x)\n",
        "show(f)\n",
        "g = simplify(f)\n",
        "show(g)"
      ],
      "metadata": {
        "id": "B_Nxm5oDZ-nT",
        "colab": {
          "base_uri": "https://localhost:8080/",
          "height": 61
        },
        "outputId": "47ef8356-9099-4461-b790-e291d4840a4c"
      },
      "execution_count": 184,
      "outputs": [
        {
          "output_type": "display_data",
          "data": {
            "text/plain": [
              "<IPython.core.display.Math object>"
            ],
            "text/latex": "$\\displaystyle {{{{{{{1} + {x}} - {1}} + {{2} \\cdot {x}}} + {{x}^{2}}} + {3}} - {{4} \\cdot {x}}} + {\\sin{x}}$"
          },
          "metadata": {}
        },
        {
          "output_type": "display_data",
          "data": {
            "text/plain": [
              "<IPython.core.display.Math object>"
            ],
            "text/latex": "$\\displaystyle {{{{x}^{{2}}} + {\\sin{x}}} - {x}} + {{3}}$"
          },
          "metadata": {}
        }
      ]
    },
    {
      "cell_type": "code",
      "source": [
        "x = symbol('x')\n",
        "f = 3 * x + 2 - 4 * (x - 2 * x + 1 - (x + 3 * x)) # Пример из лекции!\n",
        "show(f)\n",
        "show(simplify(f))"
      ],
      "metadata": {
        "id": "r3iSTmIgaAjv",
        "colab": {
          "base_uri": "https://localhost:8080/",
          "height": 61
        },
        "outputId": "eb7ba973-2ec3-4a89-e722-b5c26356603e"
      },
      "execution_count": 185,
      "outputs": [
        {
          "output_type": "display_data",
          "data": {
            "text/plain": [
              "<IPython.core.display.Math object>"
            ],
            "text/latex": "$\\displaystyle {{{3} \\cdot {x}} + {2}} - {{4} \\cdot {\\left( {{{x} - {{2} \\cdot {x}}} + {1}} - {\\left( {x} + {{3} \\cdot {x}} \\right)} \\right)}}$"
          },
          "metadata": {}
        },
        {
          "output_type": "display_data",
          "data": {
            "text/plain": [
              "<IPython.core.display.Math object>"
            ],
            "text/latex": "$\\displaystyle {{{23}} \\cdot {x}} - {{2}}$"
          },
          "metadata": {}
        }
      ]
    },
    {
      "cell_type": "markdown",
      "source": [
        "* Проверка на вычислении производных (попробуйте выполнить **первые три** итерации этого цикла **без упрощения**):"
      ],
      "metadata": {
        "id": "PdqOLHi0aHU1"
      }
    },
    {
      "cell_type": "code",
      "source": [
        "f = sin(x ** 2)\n",
        "for i in range(5):\n",
        "  f = simplify(diff(f, x))\n",
        "  show(f)"
      ],
      "metadata": {
        "id": "VD1bvIlxaJwx",
        "colab": {
          "base_uri": "https://localhost:8080/",
          "height": 454
        },
        "outputId": "9a7ed929-11d9-4ecd-b1dc-ae86b09b576a"
      },
      "execution_count": 186,
      "outputs": [
        {
          "output_type": "display_data",
          "data": {
            "text/plain": [
              "<IPython.core.display.Math object>"
            ],
            "text/latex": "$\\displaystyle {{{2}} \\cdot {\\cos{\\left( {x}^{{2}} \\right)}}} \\cdot {x}$"
          },
          "metadata": {}
        },
        {
          "output_type": "display_data",
          "data": {
            "text/plain": [
              "<IPython.core.display.Math object>"
            ],
            "text/latex": "$\\displaystyle {{{2}} \\cdot {\\cos{\\left( {x}^{{2}} \\right)}}} - {{{4}} \\cdot {\\left( {\\sin{\\left( {x}^{{2}} \\right)}} \\cdot {{x}^{{2}}} \\right)}}$"
          },
          "metadata": {}
        },
        {
          "output_type": "display_data",
          "data": {
            "text/plain": [
              "<IPython.core.display.Math object>"
            ],
            "text/latex": "$\\displaystyle {{ -{{8}}} \\cdot {\\left( {\\cos{\\left( {x}^{{2}} \\right)}} \\cdot {{x}^{{3}}} \\right)}} - {{{12}} \\cdot {\\left( {\\sin{\\left( {x}^{{2}} \\right)}} \\cdot {x} \\right)}}$"
          },
          "metadata": {}
        },
        {
          "output_type": "error",
          "ename": "TypeError",
          "evalue": "ignored",
          "traceback": [
            "\u001b[0;31m---------------------------------------------------------------------------\u001b[0m",
            "\u001b[0;31mTypeError\u001b[0m                                 Traceback (most recent call last)",
            "\u001b[0;32m<ipython-input-186-36bc42fb9c30>\u001b[0m in \u001b[0;36m<cell line: 2>\u001b[0;34m()\u001b[0m\n\u001b[1;32m      1\u001b[0m \u001b[0mf\u001b[0m \u001b[0;34m=\u001b[0m \u001b[0msin\u001b[0m\u001b[0;34m(\u001b[0m\u001b[0mx\u001b[0m \u001b[0;34m**\u001b[0m \u001b[0;36m2\u001b[0m\u001b[0;34m)\u001b[0m\u001b[0;34m\u001b[0m\u001b[0;34m\u001b[0m\u001b[0m\n\u001b[1;32m      2\u001b[0m \u001b[0;32mfor\u001b[0m \u001b[0mi\u001b[0m \u001b[0;32min\u001b[0m \u001b[0mrange\u001b[0m\u001b[0;34m(\u001b[0m\u001b[0;36m5\u001b[0m\u001b[0;34m)\u001b[0m\u001b[0;34m:\u001b[0m\u001b[0;34m\u001b[0m\u001b[0;34m\u001b[0m\u001b[0m\n\u001b[0;32m----> 3\u001b[0;31m   \u001b[0mf\u001b[0m \u001b[0;34m=\u001b[0m \u001b[0msimplify\u001b[0m\u001b[0;34m(\u001b[0m\u001b[0mdiff\u001b[0m\u001b[0;34m(\u001b[0m\u001b[0mf\u001b[0m\u001b[0;34m,\u001b[0m \u001b[0mx\u001b[0m\u001b[0;34m)\u001b[0m\u001b[0;34m)\u001b[0m\u001b[0;34m\u001b[0m\u001b[0;34m\u001b[0m\u001b[0m\n\u001b[0m\u001b[1;32m      4\u001b[0m   \u001b[0mshow\u001b[0m\u001b[0;34m(\u001b[0m\u001b[0mf\u001b[0m\u001b[0;34m)\u001b[0m\u001b[0;34m\u001b[0m\u001b[0;34m\u001b[0m\u001b[0m\n",
            "\u001b[0;32m<ipython-input-175-37ddc7573dd0>\u001b[0m in \u001b[0;36msimplify\u001b[0;34m(x)\u001b[0m\n\u001b[1;32m      1\u001b[0m \u001b[0;32mdef\u001b[0m \u001b[0msimplify\u001b[0m\u001b[0;34m(\u001b[0m\u001b[0mx\u001b[0m\u001b[0;34m:\u001b[0m \u001b[0mExpression\u001b[0m\u001b[0;34m)\u001b[0m \u001b[0;34m->\u001b[0m \u001b[0mExpression\u001b[0m\u001b[0;34m:\u001b[0m\u001b[0;34m\u001b[0m\u001b[0;34m\u001b[0m\u001b[0m\n\u001b[0;32m----> 2\u001b[0;31m   \u001b[0;32mreturn\u001b[0m \u001b[0mExpression\u001b[0m\u001b[0;34m(\u001b[0m\u001b[0mrenorm_\u001b[0m\u001b[0;34m(\u001b[0m\u001b[0msimp_\u001b[0m\u001b[0;34m(\u001b[0m\u001b[0meval_\u001b[0m\u001b[0;34m(\u001b[0m\u001b[0mfix\u001b[0m\u001b[0;34m(\u001b[0m\u001b[0mx\u001b[0m\u001b[0;34m)\u001b[0m\u001b[0;34m.\u001b[0m\u001b[0mT\u001b[0m\u001b[0;34m)\u001b[0m\u001b[0;34m)\u001b[0m\u001b[0;34m)\u001b[0m\u001b[0;34m)\u001b[0m \u001b[0;31m# FIX EVAL_BINARY!!!\u001b[0m\u001b[0;34m\u001b[0m\u001b[0;34m\u001b[0m\u001b[0m\n\u001b[0m\u001b[1;32m      3\u001b[0m \u001b[0;34m\u001b[0m\u001b[0m\n\u001b[1;32m      4\u001b[0m \u001b[0;32mdef\u001b[0m \u001b[0msimp_\u001b[0m\u001b[0;34m(\u001b[0m\u001b[0mx\u001b[0m\u001b[0;34m:\u001b[0m \u001b[0mtuple\u001b[0m\u001b[0;34m)\u001b[0m \u001b[0;34m->\u001b[0m \u001b[0mtuple\u001b[0m\u001b[0;34m:\u001b[0m\u001b[0;34m\u001b[0m\u001b[0;34m\u001b[0m\u001b[0m\n\u001b[1;32m      5\u001b[0m   \u001b[0mx\u001b[0m \u001b[0;34m=\u001b[0m \u001b[0mID\u001b[0m\u001b[0;34m(\u001b[0m\u001b[0mx\u001b[0m\u001b[0;34m)\u001b[0m\u001b[0;34m,\u001b[0m \u001b[0;34m*\u001b[0m\u001b[0;34m[\u001b[0m\u001b[0msimp_\u001b[0m\u001b[0;34m(\u001b[0m\u001b[0ma\u001b[0m\u001b[0;34m)\u001b[0m \u001b[0;32mfor\u001b[0m \u001b[0ma\u001b[0m \u001b[0;32min\u001b[0m \u001b[0mitems\u001b[0m\u001b[0;34m(\u001b[0m\u001b[0mx\u001b[0m\u001b[0;34m)\u001b[0m\u001b[0;34m]\u001b[0m\u001b[0;34m,\u001b[0m \u001b[0moptions\u001b[0m\u001b[0;34m(\u001b[0m\u001b[0mx\u001b[0m\u001b[0;34m)\u001b[0m\u001b[0;34m\u001b[0m\u001b[0;34m\u001b[0m\u001b[0m\n",
            "\u001b[0;32m<ipython-input-175-37ddc7573dd0>\u001b[0m in \u001b[0;36msimp_\u001b[0;34m(x)\u001b[0m\n\u001b[1;32m      3\u001b[0m \u001b[0;34m\u001b[0m\u001b[0m\n\u001b[1;32m      4\u001b[0m \u001b[0;32mdef\u001b[0m \u001b[0msimp_\u001b[0m\u001b[0;34m(\u001b[0m\u001b[0mx\u001b[0m\u001b[0;34m:\u001b[0m \u001b[0mtuple\u001b[0m\u001b[0;34m)\u001b[0m \u001b[0;34m->\u001b[0m \u001b[0mtuple\u001b[0m\u001b[0;34m:\u001b[0m\u001b[0;34m\u001b[0m\u001b[0;34m\u001b[0m\u001b[0m\n\u001b[0;32m----> 5\u001b[0;31m   \u001b[0mx\u001b[0m \u001b[0;34m=\u001b[0m \u001b[0mID\u001b[0m\u001b[0;34m(\u001b[0m\u001b[0mx\u001b[0m\u001b[0;34m)\u001b[0m\u001b[0;34m,\u001b[0m \u001b[0;34m*\u001b[0m\u001b[0;34m[\u001b[0m\u001b[0msimp_\u001b[0m\u001b[0;34m(\u001b[0m\u001b[0ma\u001b[0m\u001b[0;34m)\u001b[0m \u001b[0;32mfor\u001b[0m \u001b[0ma\u001b[0m \u001b[0;32min\u001b[0m \u001b[0mitems\u001b[0m\u001b[0;34m(\u001b[0m\u001b[0mx\u001b[0m\u001b[0;34m)\u001b[0m\u001b[0;34m]\u001b[0m\u001b[0;34m,\u001b[0m \u001b[0moptions\u001b[0m\u001b[0;34m(\u001b[0m\u001b[0mx\u001b[0m\u001b[0;34m)\u001b[0m\u001b[0;34m\u001b[0m\u001b[0;34m\u001b[0m\u001b[0m\n\u001b[0m\u001b[1;32m      6\u001b[0m   \u001b[0;32mtry\u001b[0m\u001b[0;34m:\u001b[0m\u001b[0;34m\u001b[0m\u001b[0;34m\u001b[0m\u001b[0m\n\u001b[1;32m      7\u001b[0m     \u001b[0;32mreturn\u001b[0m \u001b[0meval\u001b[0m\u001b[0;34m(\u001b[0m\u001b[0;34mf\"simp_{ID(x)}\"\u001b[0m\u001b[0;34m)\u001b[0m\u001b[0;34m(\u001b[0m\u001b[0mx\u001b[0m\u001b[0;34m)\u001b[0m\u001b[0;34m\u001b[0m\u001b[0;34m\u001b[0m\u001b[0m\n",
            "\u001b[0;32m<ipython-input-175-37ddc7573dd0>\u001b[0m in \u001b[0;36m<listcomp>\u001b[0;34m(.0)\u001b[0m\n\u001b[1;32m      3\u001b[0m \u001b[0;34m\u001b[0m\u001b[0m\n\u001b[1;32m      4\u001b[0m \u001b[0;32mdef\u001b[0m \u001b[0msimp_\u001b[0m\u001b[0;34m(\u001b[0m\u001b[0mx\u001b[0m\u001b[0;34m:\u001b[0m \u001b[0mtuple\u001b[0m\u001b[0;34m)\u001b[0m \u001b[0;34m->\u001b[0m \u001b[0mtuple\u001b[0m\u001b[0;34m:\u001b[0m\u001b[0;34m\u001b[0m\u001b[0;34m\u001b[0m\u001b[0m\n\u001b[0;32m----> 5\u001b[0;31m   \u001b[0mx\u001b[0m \u001b[0;34m=\u001b[0m \u001b[0mID\u001b[0m\u001b[0;34m(\u001b[0m\u001b[0mx\u001b[0m\u001b[0;34m)\u001b[0m\u001b[0;34m,\u001b[0m \u001b[0;34m*\u001b[0m\u001b[0;34m[\u001b[0m\u001b[0msimp_\u001b[0m\u001b[0;34m(\u001b[0m\u001b[0ma\u001b[0m\u001b[0;34m)\u001b[0m \u001b[0;32mfor\u001b[0m \u001b[0ma\u001b[0m \u001b[0;32min\u001b[0m \u001b[0mitems\u001b[0m\u001b[0;34m(\u001b[0m\u001b[0mx\u001b[0m\u001b[0;34m)\u001b[0m\u001b[0;34m]\u001b[0m\u001b[0;34m,\u001b[0m \u001b[0moptions\u001b[0m\u001b[0;34m(\u001b[0m\u001b[0mx\u001b[0m\u001b[0;34m)\u001b[0m\u001b[0;34m\u001b[0m\u001b[0;34m\u001b[0m\u001b[0m\n\u001b[0m\u001b[1;32m      6\u001b[0m   \u001b[0;32mtry\u001b[0m\u001b[0;34m:\u001b[0m\u001b[0;34m\u001b[0m\u001b[0;34m\u001b[0m\u001b[0m\n\u001b[1;32m      7\u001b[0m     \u001b[0;32mreturn\u001b[0m \u001b[0meval\u001b[0m\u001b[0;34m(\u001b[0m\u001b[0;34mf\"simp_{ID(x)}\"\u001b[0m\u001b[0;34m)\u001b[0m\u001b[0;34m(\u001b[0m\u001b[0mx\u001b[0m\u001b[0;34m)\u001b[0m\u001b[0;34m\u001b[0m\u001b[0;34m\u001b[0m\u001b[0m\n",
            "\u001b[0;32m<ipython-input-175-37ddc7573dd0>\u001b[0m in \u001b[0;36msimp_\u001b[0;34m(x)\u001b[0m\n\u001b[1;32m      3\u001b[0m \u001b[0;34m\u001b[0m\u001b[0m\n\u001b[1;32m      4\u001b[0m \u001b[0;32mdef\u001b[0m \u001b[0msimp_\u001b[0m\u001b[0;34m(\u001b[0m\u001b[0mx\u001b[0m\u001b[0;34m:\u001b[0m \u001b[0mtuple\u001b[0m\u001b[0;34m)\u001b[0m \u001b[0;34m->\u001b[0m \u001b[0mtuple\u001b[0m\u001b[0;34m:\u001b[0m\u001b[0;34m\u001b[0m\u001b[0;34m\u001b[0m\u001b[0m\n\u001b[0;32m----> 5\u001b[0;31m   \u001b[0mx\u001b[0m \u001b[0;34m=\u001b[0m \u001b[0mID\u001b[0m\u001b[0;34m(\u001b[0m\u001b[0mx\u001b[0m\u001b[0;34m)\u001b[0m\u001b[0;34m,\u001b[0m \u001b[0;34m*\u001b[0m\u001b[0;34m[\u001b[0m\u001b[0msimp_\u001b[0m\u001b[0;34m(\u001b[0m\u001b[0ma\u001b[0m\u001b[0;34m)\u001b[0m \u001b[0;32mfor\u001b[0m \u001b[0ma\u001b[0m \u001b[0;32min\u001b[0m \u001b[0mitems\u001b[0m\u001b[0;34m(\u001b[0m\u001b[0mx\u001b[0m\u001b[0;34m)\u001b[0m\u001b[0;34m]\u001b[0m\u001b[0;34m,\u001b[0m \u001b[0moptions\u001b[0m\u001b[0;34m(\u001b[0m\u001b[0mx\u001b[0m\u001b[0;34m)\u001b[0m\u001b[0;34m\u001b[0m\u001b[0;34m\u001b[0m\u001b[0m\n\u001b[0m\u001b[1;32m      6\u001b[0m   \u001b[0;32mtry\u001b[0m\u001b[0;34m:\u001b[0m\u001b[0;34m\u001b[0m\u001b[0;34m\u001b[0m\u001b[0m\n\u001b[1;32m      7\u001b[0m     \u001b[0;32mreturn\u001b[0m \u001b[0meval\u001b[0m\u001b[0;34m(\u001b[0m\u001b[0;34mf\"simp_{ID(x)}\"\u001b[0m\u001b[0;34m)\u001b[0m\u001b[0;34m(\u001b[0m\u001b[0mx\u001b[0m\u001b[0;34m)\u001b[0m\u001b[0;34m\u001b[0m\u001b[0;34m\u001b[0m\u001b[0m\n",
            "\u001b[0;32m<ipython-input-175-37ddc7573dd0>\u001b[0m in \u001b[0;36m<listcomp>\u001b[0;34m(.0)\u001b[0m\n\u001b[1;32m      3\u001b[0m \u001b[0;34m\u001b[0m\u001b[0m\n\u001b[1;32m      4\u001b[0m \u001b[0;32mdef\u001b[0m \u001b[0msimp_\u001b[0m\u001b[0;34m(\u001b[0m\u001b[0mx\u001b[0m\u001b[0;34m:\u001b[0m \u001b[0mtuple\u001b[0m\u001b[0;34m)\u001b[0m \u001b[0;34m->\u001b[0m \u001b[0mtuple\u001b[0m\u001b[0;34m:\u001b[0m\u001b[0;34m\u001b[0m\u001b[0;34m\u001b[0m\u001b[0m\n\u001b[0;32m----> 5\u001b[0;31m   \u001b[0mx\u001b[0m \u001b[0;34m=\u001b[0m \u001b[0mID\u001b[0m\u001b[0;34m(\u001b[0m\u001b[0mx\u001b[0m\u001b[0;34m)\u001b[0m\u001b[0;34m,\u001b[0m \u001b[0;34m*\u001b[0m\u001b[0;34m[\u001b[0m\u001b[0msimp_\u001b[0m\u001b[0;34m(\u001b[0m\u001b[0ma\u001b[0m\u001b[0;34m)\u001b[0m \u001b[0;32mfor\u001b[0m \u001b[0ma\u001b[0m \u001b[0;32min\u001b[0m \u001b[0mitems\u001b[0m\u001b[0;34m(\u001b[0m\u001b[0mx\u001b[0m\u001b[0;34m)\u001b[0m\u001b[0;34m]\u001b[0m\u001b[0;34m,\u001b[0m \u001b[0moptions\u001b[0m\u001b[0;34m(\u001b[0m\u001b[0mx\u001b[0m\u001b[0;34m)\u001b[0m\u001b[0;34m\u001b[0m\u001b[0;34m\u001b[0m\u001b[0m\n\u001b[0m\u001b[1;32m      6\u001b[0m   \u001b[0;32mtry\u001b[0m\u001b[0;34m:\u001b[0m\u001b[0;34m\u001b[0m\u001b[0;34m\u001b[0m\u001b[0m\n\u001b[1;32m      7\u001b[0m     \u001b[0;32mreturn\u001b[0m \u001b[0meval\u001b[0m\u001b[0;34m(\u001b[0m\u001b[0;34mf\"simp_{ID(x)}\"\u001b[0m\u001b[0;34m)\u001b[0m\u001b[0;34m(\u001b[0m\u001b[0mx\u001b[0m\u001b[0;34m)\u001b[0m\u001b[0;34m\u001b[0m\u001b[0;34m\u001b[0m\u001b[0m\n",
            "\u001b[0;32m<ipython-input-175-37ddc7573dd0>\u001b[0m in \u001b[0;36msimp_\u001b[0;34m(x)\u001b[0m\n\u001b[1;32m      3\u001b[0m \u001b[0;34m\u001b[0m\u001b[0m\n\u001b[1;32m      4\u001b[0m \u001b[0;32mdef\u001b[0m \u001b[0msimp_\u001b[0m\u001b[0;34m(\u001b[0m\u001b[0mx\u001b[0m\u001b[0;34m:\u001b[0m \u001b[0mtuple\u001b[0m\u001b[0;34m)\u001b[0m \u001b[0;34m->\u001b[0m \u001b[0mtuple\u001b[0m\u001b[0;34m:\u001b[0m\u001b[0;34m\u001b[0m\u001b[0;34m\u001b[0m\u001b[0m\n\u001b[0;32m----> 5\u001b[0;31m   \u001b[0mx\u001b[0m \u001b[0;34m=\u001b[0m \u001b[0mID\u001b[0m\u001b[0;34m(\u001b[0m\u001b[0mx\u001b[0m\u001b[0;34m)\u001b[0m\u001b[0;34m,\u001b[0m \u001b[0;34m*\u001b[0m\u001b[0;34m[\u001b[0m\u001b[0msimp_\u001b[0m\u001b[0;34m(\u001b[0m\u001b[0ma\u001b[0m\u001b[0;34m)\u001b[0m \u001b[0;32mfor\u001b[0m \u001b[0ma\u001b[0m \u001b[0;32min\u001b[0m \u001b[0mitems\u001b[0m\u001b[0;34m(\u001b[0m\u001b[0mx\u001b[0m\u001b[0;34m)\u001b[0m\u001b[0;34m]\u001b[0m\u001b[0;34m,\u001b[0m \u001b[0moptions\u001b[0m\u001b[0;34m(\u001b[0m\u001b[0mx\u001b[0m\u001b[0;34m)\u001b[0m\u001b[0;34m\u001b[0m\u001b[0;34m\u001b[0m\u001b[0m\n\u001b[0m\u001b[1;32m      6\u001b[0m   \u001b[0;32mtry\u001b[0m\u001b[0;34m:\u001b[0m\u001b[0;34m\u001b[0m\u001b[0;34m\u001b[0m\u001b[0m\n\u001b[1;32m      7\u001b[0m     \u001b[0;32mreturn\u001b[0m \u001b[0meval\u001b[0m\u001b[0;34m(\u001b[0m\u001b[0;34mf\"simp_{ID(x)}\"\u001b[0m\u001b[0;34m)\u001b[0m\u001b[0;34m(\u001b[0m\u001b[0mx\u001b[0m\u001b[0;34m)\u001b[0m\u001b[0;34m\u001b[0m\u001b[0;34m\u001b[0m\u001b[0m\n",
            "\u001b[0;32m<ipython-input-175-37ddc7573dd0>\u001b[0m in \u001b[0;36m<listcomp>\u001b[0;34m(.0)\u001b[0m\n\u001b[1;32m      3\u001b[0m \u001b[0;34m\u001b[0m\u001b[0m\n\u001b[1;32m      4\u001b[0m \u001b[0;32mdef\u001b[0m \u001b[0msimp_\u001b[0m\u001b[0;34m(\u001b[0m\u001b[0mx\u001b[0m\u001b[0;34m:\u001b[0m \u001b[0mtuple\u001b[0m\u001b[0;34m)\u001b[0m \u001b[0;34m->\u001b[0m \u001b[0mtuple\u001b[0m\u001b[0;34m:\u001b[0m\u001b[0;34m\u001b[0m\u001b[0;34m\u001b[0m\u001b[0m\n\u001b[0;32m----> 5\u001b[0;31m   \u001b[0mx\u001b[0m \u001b[0;34m=\u001b[0m \u001b[0mID\u001b[0m\u001b[0;34m(\u001b[0m\u001b[0mx\u001b[0m\u001b[0;34m)\u001b[0m\u001b[0;34m,\u001b[0m \u001b[0;34m*\u001b[0m\u001b[0;34m[\u001b[0m\u001b[0msimp_\u001b[0m\u001b[0;34m(\u001b[0m\u001b[0ma\u001b[0m\u001b[0;34m)\u001b[0m \u001b[0;32mfor\u001b[0m \u001b[0ma\u001b[0m \u001b[0;32min\u001b[0m \u001b[0mitems\u001b[0m\u001b[0;34m(\u001b[0m\u001b[0mx\u001b[0m\u001b[0;34m)\u001b[0m\u001b[0;34m]\u001b[0m\u001b[0;34m,\u001b[0m \u001b[0moptions\u001b[0m\u001b[0;34m(\u001b[0m\u001b[0mx\u001b[0m\u001b[0;34m)\u001b[0m\u001b[0;34m\u001b[0m\u001b[0;34m\u001b[0m\u001b[0m\n\u001b[0m\u001b[1;32m      6\u001b[0m   \u001b[0;32mtry\u001b[0m\u001b[0;34m:\u001b[0m\u001b[0;34m\u001b[0m\u001b[0;34m\u001b[0m\u001b[0m\n\u001b[1;32m      7\u001b[0m     \u001b[0;32mreturn\u001b[0m \u001b[0meval\u001b[0m\u001b[0;34m(\u001b[0m\u001b[0;34mf\"simp_{ID(x)}\"\u001b[0m\u001b[0;34m)\u001b[0m\u001b[0;34m(\u001b[0m\u001b[0mx\u001b[0m\u001b[0;34m)\u001b[0m\u001b[0;34m\u001b[0m\u001b[0;34m\u001b[0m\u001b[0m\n",
            "\u001b[0;32m<ipython-input-175-37ddc7573dd0>\u001b[0m in \u001b[0;36msimp_\u001b[0;34m(x)\u001b[0m\n\u001b[1;32m      3\u001b[0m \u001b[0;34m\u001b[0m\u001b[0m\n\u001b[1;32m      4\u001b[0m \u001b[0;32mdef\u001b[0m \u001b[0msimp_\u001b[0m\u001b[0;34m(\u001b[0m\u001b[0mx\u001b[0m\u001b[0;34m:\u001b[0m \u001b[0mtuple\u001b[0m\u001b[0;34m)\u001b[0m \u001b[0;34m->\u001b[0m \u001b[0mtuple\u001b[0m\u001b[0;34m:\u001b[0m\u001b[0;34m\u001b[0m\u001b[0;34m\u001b[0m\u001b[0m\n\u001b[0;32m----> 5\u001b[0;31m   \u001b[0mx\u001b[0m \u001b[0;34m=\u001b[0m \u001b[0mID\u001b[0m\u001b[0;34m(\u001b[0m\u001b[0mx\u001b[0m\u001b[0;34m)\u001b[0m\u001b[0;34m,\u001b[0m \u001b[0;34m*\u001b[0m\u001b[0;34m[\u001b[0m\u001b[0msimp_\u001b[0m\u001b[0;34m(\u001b[0m\u001b[0ma\u001b[0m\u001b[0;34m)\u001b[0m \u001b[0;32mfor\u001b[0m \u001b[0ma\u001b[0m \u001b[0;32min\u001b[0m \u001b[0mitems\u001b[0m\u001b[0;34m(\u001b[0m\u001b[0mx\u001b[0m\u001b[0;34m)\u001b[0m\u001b[0;34m]\u001b[0m\u001b[0;34m,\u001b[0m \u001b[0moptions\u001b[0m\u001b[0;34m(\u001b[0m\u001b[0mx\u001b[0m\u001b[0;34m)\u001b[0m\u001b[0;34m\u001b[0m\u001b[0;34m\u001b[0m\u001b[0m\n\u001b[0m\u001b[1;32m      6\u001b[0m   \u001b[0;32mtry\u001b[0m\u001b[0;34m:\u001b[0m\u001b[0;34m\u001b[0m\u001b[0;34m\u001b[0m\u001b[0m\n\u001b[1;32m      7\u001b[0m     \u001b[0;32mreturn\u001b[0m \u001b[0meval\u001b[0m\u001b[0;34m(\u001b[0m\u001b[0;34mf\"simp_{ID(x)}\"\u001b[0m\u001b[0;34m)\u001b[0m\u001b[0;34m(\u001b[0m\u001b[0mx\u001b[0m\u001b[0;34m)\u001b[0m\u001b[0;34m\u001b[0m\u001b[0;34m\u001b[0m\u001b[0m\n",
            "\u001b[0;32m<ipython-input-175-37ddc7573dd0>\u001b[0m in \u001b[0;36m<listcomp>\u001b[0;34m(.0)\u001b[0m\n\u001b[1;32m      3\u001b[0m \u001b[0;34m\u001b[0m\u001b[0m\n\u001b[1;32m      4\u001b[0m \u001b[0;32mdef\u001b[0m \u001b[0msimp_\u001b[0m\u001b[0;34m(\u001b[0m\u001b[0mx\u001b[0m\u001b[0;34m:\u001b[0m \u001b[0mtuple\u001b[0m\u001b[0;34m)\u001b[0m \u001b[0;34m->\u001b[0m \u001b[0mtuple\u001b[0m\u001b[0;34m:\u001b[0m\u001b[0;34m\u001b[0m\u001b[0;34m\u001b[0m\u001b[0m\n\u001b[0;32m----> 5\u001b[0;31m   \u001b[0mx\u001b[0m \u001b[0;34m=\u001b[0m \u001b[0mID\u001b[0m\u001b[0;34m(\u001b[0m\u001b[0mx\u001b[0m\u001b[0;34m)\u001b[0m\u001b[0;34m,\u001b[0m \u001b[0;34m*\u001b[0m\u001b[0;34m[\u001b[0m\u001b[0msimp_\u001b[0m\u001b[0;34m(\u001b[0m\u001b[0ma\u001b[0m\u001b[0;34m)\u001b[0m \u001b[0;32mfor\u001b[0m \u001b[0ma\u001b[0m \u001b[0;32min\u001b[0m \u001b[0mitems\u001b[0m\u001b[0;34m(\u001b[0m\u001b[0mx\u001b[0m\u001b[0;34m)\u001b[0m\u001b[0;34m]\u001b[0m\u001b[0;34m,\u001b[0m \u001b[0moptions\u001b[0m\u001b[0;34m(\u001b[0m\u001b[0mx\u001b[0m\u001b[0;34m)\u001b[0m\u001b[0;34m\u001b[0m\u001b[0;34m\u001b[0m\u001b[0m\n\u001b[0m\u001b[1;32m      6\u001b[0m   \u001b[0;32mtry\u001b[0m\u001b[0;34m:\u001b[0m\u001b[0;34m\u001b[0m\u001b[0;34m\u001b[0m\u001b[0m\n\u001b[1;32m      7\u001b[0m     \u001b[0;32mreturn\u001b[0m \u001b[0meval\u001b[0m\u001b[0;34m(\u001b[0m\u001b[0;34mf\"simp_{ID(x)}\"\u001b[0m\u001b[0;34m)\u001b[0m\u001b[0;34m(\u001b[0m\u001b[0mx\u001b[0m\u001b[0;34m)\u001b[0m\u001b[0;34m\u001b[0m\u001b[0;34m\u001b[0m\u001b[0m\n",
            "\u001b[0;32m<ipython-input-175-37ddc7573dd0>\u001b[0m in \u001b[0;36msimp_\u001b[0;34m(x)\u001b[0m\n\u001b[1;32m      3\u001b[0m \u001b[0;34m\u001b[0m\u001b[0m\n\u001b[1;32m      4\u001b[0m \u001b[0;32mdef\u001b[0m \u001b[0msimp_\u001b[0m\u001b[0;34m(\u001b[0m\u001b[0mx\u001b[0m\u001b[0;34m:\u001b[0m \u001b[0mtuple\u001b[0m\u001b[0;34m)\u001b[0m \u001b[0;34m->\u001b[0m \u001b[0mtuple\u001b[0m\u001b[0;34m:\u001b[0m\u001b[0;34m\u001b[0m\u001b[0;34m\u001b[0m\u001b[0m\n\u001b[0;32m----> 5\u001b[0;31m   \u001b[0mx\u001b[0m \u001b[0;34m=\u001b[0m \u001b[0mID\u001b[0m\u001b[0;34m(\u001b[0m\u001b[0mx\u001b[0m\u001b[0;34m)\u001b[0m\u001b[0;34m,\u001b[0m \u001b[0;34m*\u001b[0m\u001b[0;34m[\u001b[0m\u001b[0msimp_\u001b[0m\u001b[0;34m(\u001b[0m\u001b[0ma\u001b[0m\u001b[0;34m)\u001b[0m \u001b[0;32mfor\u001b[0m \u001b[0ma\u001b[0m \u001b[0;32min\u001b[0m \u001b[0mitems\u001b[0m\u001b[0;34m(\u001b[0m\u001b[0mx\u001b[0m\u001b[0;34m)\u001b[0m\u001b[0;34m]\u001b[0m\u001b[0;34m,\u001b[0m \u001b[0moptions\u001b[0m\u001b[0;34m(\u001b[0m\u001b[0mx\u001b[0m\u001b[0;34m)\u001b[0m\u001b[0;34m\u001b[0m\u001b[0;34m\u001b[0m\u001b[0m\n\u001b[0m\u001b[1;32m      6\u001b[0m   \u001b[0;32mtry\u001b[0m\u001b[0;34m:\u001b[0m\u001b[0;34m\u001b[0m\u001b[0;34m\u001b[0m\u001b[0m\n\u001b[1;32m      7\u001b[0m     \u001b[0;32mreturn\u001b[0m \u001b[0meval\u001b[0m\u001b[0;34m(\u001b[0m\u001b[0;34mf\"simp_{ID(x)}\"\u001b[0m\u001b[0;34m)\u001b[0m\u001b[0;34m(\u001b[0m\u001b[0mx\u001b[0m\u001b[0;34m)\u001b[0m\u001b[0;34m\u001b[0m\u001b[0;34m\u001b[0m\u001b[0m\n",
            "\u001b[0;32m<ipython-input-5-a7d0cfc73a9f>\u001b[0m in \u001b[0;36mID\u001b[0;34m(x)\u001b[0m\n\u001b[1;32m      1\u001b[0m \u001b[0;32mdef\u001b[0m \u001b[0mID\u001b[0m\u001b[0;34m(\u001b[0m\u001b[0mx\u001b[0m\u001b[0;34m:\u001b[0m \u001b[0mtuple\u001b[0m\u001b[0;34m)\u001b[0m \u001b[0;34m->\u001b[0m \u001b[0mstr\u001b[0m\u001b[0;34m:\u001b[0m\u001b[0;34m\u001b[0m\u001b[0;34m\u001b[0m\u001b[0m\n\u001b[0;32m----> 2\u001b[0;31m   \u001b[0;32mreturn\u001b[0m \u001b[0mx\u001b[0m\u001b[0;34m[\u001b[0m\u001b[0;36m0\u001b[0m\u001b[0;34m]\u001b[0m\u001b[0;34m\u001b[0m\u001b[0;34m\u001b[0m\u001b[0m\n\u001b[0m\u001b[1;32m      3\u001b[0m \u001b[0;34m\u001b[0m\u001b[0m\n\u001b[1;32m      4\u001b[0m \u001b[0;32mdef\u001b[0m \u001b[0mitems\u001b[0m\u001b[0;34m(\u001b[0m\u001b[0mx\u001b[0m\u001b[0;34m:\u001b[0m \u001b[0mtuple\u001b[0m\u001b[0;34m)\u001b[0m \u001b[0;34m->\u001b[0m \u001b[0mlist\u001b[0m\u001b[0;34m:\u001b[0m\u001b[0;34m\u001b[0m\u001b[0;34m\u001b[0m\u001b[0m\n\u001b[1;32m      5\u001b[0m   \u001b[0;32mreturn\u001b[0m \u001b[0mx\u001b[0m\u001b[0;34m[\u001b[0m\u001b[0;36m1\u001b[0m \u001b[0;34m:\u001b[0m\u001b[0;34m-\u001b[0m\u001b[0;36m1\u001b[0m\u001b[0;34m]\u001b[0m\u001b[0;34m\u001b[0m\u001b[0;34m\u001b[0m\u001b[0m\n",
            "\u001b[0;31mTypeError\u001b[0m: 'int' object is not subscriptable"
          ]
        }
      ]
    }
  ]
}