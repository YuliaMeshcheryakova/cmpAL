{
  "nbformat": 4,
  "nbformat_minor": 0,
  "metadata": {
    "colab": {
      "provenance": [],
      "include_colab_link": true
    },
    "kernelspec": {
      "name": "python3",
      "display_name": "Python 3"
    },
    "language_info": {
      "name": "python"
    }
  },
  "cells": [
    {
      "cell_type": "markdown",
      "metadata": {
        "id": "view-in-github",
        "colab_type": "text"
      },
      "source": [
        "<a href=\"https://colab.research.google.com/github/YuliaMeshcheryakova/cmpAL/blob/main/%D0%97%D0%B0%D0%B4%D0%B0%D0%BD%D0%B8%D0%B51_5.ipynb\" target=\"_parent\"><img src=\"https://colab.research.google.com/assets/colab-badge.svg\" alt=\"Open In Colab\"/></a>"
      ]
    },
    {
      "cell_type": "code",
      "execution_count": 398,
      "metadata": {
        "id": "26JIWwdJYNg5"
      },
      "outputs": [],
      "source": [
        "from IPython.display import display, Math\n",
        "import numpy as np"
      ]
    },
    {
      "cell_type": "markdown",
      "source": [
        "Определяем функцию для создания узла дерева для хранения целых чисел"
      ],
      "metadata": {
        "id": "1Vu_-LZub4gS"
      }
    },
    {
      "cell_type": "code",
      "source": [
        "def integer_(x: int) -> tuple:\n",
        "  return 'integer', {'value': x}\n",
        "\n",
        "a = integer_(-34)\n",
        "a"
      ],
      "metadata": {
        "colab": {
          "base_uri": "https://localhost:8080/"
        },
        "id": "cpRvPwf5ZB-y",
        "outputId": "4ddd4cc9-76a9-49c6-c575-ead9bad00c07"
      },
      "execution_count": 399,
      "outputs": [
        {
          "output_type": "execute_result",
          "data": {
            "text/plain": [
              "('integer', {'value': -34})"
            ]
          },
          "metadata": {},
          "execution_count": 399
        }
      ]
    },
    {
      "cell_type": "markdown",
      "source": [
        "ID(x) - возвращает идентификатор узла\n",
        "\n",
        "items(x) - возвращает список дочерних узлов\n",
        "\n",
        "options(x) - возвращает словарь с параметрами узла\n",
        "\n",
        "isTerminal(x) - возвращает True, если узел --- лист, т.е. не содержит дочерних узлов"
      ],
      "metadata": {
        "id": "r8tCM7w2b_TT"
      }
    },
    {
      "cell_type": "code",
      "source": [
        "def ID(x: tuple) -> str:\n",
        "  return x[0]\n",
        "\n",
        "def items(x: tuple) -> list:\n",
        "  return x[1 :-1]\n",
        "\n",
        "def options(x: tuple) -> dict:\n",
        "  return x[-1]\n",
        "\n",
        "def isTerminal(x: tuple) -> bool:\n",
        "  return len(items(x))==0\n",
        "\n",
        "ID(a), items(a), options(a), isTerminal(a)"
      ],
      "metadata": {
        "colab": {
          "base_uri": "https://localhost:8080/"
        },
        "id": "IBhXKvk-ZEJp",
        "outputId": "e3ba2aaf-6db2-49d2-c7fa-443f673b4b02"
      },
      "execution_count": 400,
      "outputs": [
        {
          "output_type": "execute_result",
          "data": {
            "text/plain": [
              "('integer', (), {'value': -34}, True)"
            ]
          },
          "metadata": {},
          "execution_count": 400
        }
      ]
    },
    {
      "cell_type": "markdown",
      "source": [
        "Определяем функции для преобразования узла в LaTeX-выражение"
      ],
      "metadata": {
        "id": "sQ0xryRfcIN5"
      }
    },
    {
      "cell_type": "code",
      "source": [
        "def latex_(x: tuple) -> str:\n",
        "  cmd = eval(f\"latex_{ID(x)}\")\n",
        "  return cmd(x)\n",
        "\n",
        "def latex_integer(x: tuple) -> str:\n",
        "  return f\"{options(x)['value']}\"\n",
        "\n",
        "latex_(a)"
      ],
      "metadata": {
        "colab": {
          "base_uri": "https://localhost:8080/",
          "height": 36
        },
        "id": "pMZF53t7ZEUZ",
        "outputId": "d5b6455f-f231-44aa-8c75-ad6dbdf5a86e"
      },
      "execution_count": 401,
      "outputs": [
        {
          "output_type": "execute_result",
          "data": {
            "text/plain": [
              "'-34'"
            ],
            "application/vnd.google.colaboratory.intrinsic+json": {
              "type": "string"
            }
          },
          "metadata": {},
          "execution_count": 401
        }
      ]
    },
    {
      "cell_type": "markdown",
      "source": [
        "Определяем функцию show_ для визуализации формулы, представленной деревом x"
      ],
      "metadata": {
        "id": "rwQaShLGcMUZ"
      }
    },
    {
      "cell_type": "code",
      "source": [
        "def show_(x: tuple) -> None:\n",
        "  display(Math(latex_(x)))\n",
        "\n",
        "show_(integer_(-123))\n",
        "print(-123)"
      ],
      "metadata": {
        "colab": {
          "base_uri": "https://localhost:8080/",
          "height": 56
        },
        "id": "h_YzPY9XZEb5",
        "outputId": "979a8461-2cd4-4a90-f6ef-9c475d80575d"
      },
      "execution_count": 402,
      "outputs": [
        {
          "output_type": "display_data",
          "data": {
            "text/plain": [
              "<IPython.core.display.Math object>"
            ],
            "text/latex": "$\\displaystyle -123$"
          },
          "metadata": {}
        },
        {
          "output_type": "stream",
          "name": "stdout",
          "text": [
            "-123\n"
          ]
        }
      ]
    },
    {
      "cell_type": "code",
      "source": [
        "def symbol_(x: str) -> tuple:\n",
        "  greek = ['alpha', 'beta', 'gamma','delta', 'epsilon', 'zeta', 'eta', 'theta',\n",
        "           'iota', 'kappa', 'lambda', 'mu', 'nu', 'xi', 'o', 'pi', 'rho', 'sigma',\n",
        "           'tau', 'upsilon', 'phi', 'chi', 'psi', 'omega',\n",
        "           'A', 'B', 'Gamma', 'Delta', 'varepsilon', 'Epsilon', 'Z', 'H', 'vartheta', 'Theta',\n",
        "           'I', 'K', 'Lambda', 'M', 'N', 'Xi', 'O', 'Pi', 'varrho', 'P', 'Sigma',\n",
        "           'T', 'Upsilon', 'varphi', 'Phi', 'X', 'Psi', 'Omega']\n",
        "  n, s = x.split('_') if '_' in x else (x, '')\n",
        "  if n in greek:\n",
        "    n = f\"\\\\{n}\"\n",
        "  if s:\n",
        "    n = f\"{n}_{{{s}}}\"\n",
        "  return 'symbol', {'name': x, 'latex': n}\n",
        "\n",
        "def latex_symbol(x: tuple) -> str:\n",
        "  return options(x)['latex']\n",
        "\n",
        "x, alpha = symbol_('x_1'), symbol_('alpha')\n",
        "show_(x)\n",
        "show_(alpha)"
      ],
      "metadata": {
        "colab": {
          "base_uri": "https://localhost:8080/",
          "height": 61
        },
        "id": "CMMa9sk6cOkg",
        "outputId": "b16d36ec-69bd-4d3b-c664-78198e296d4a"
      },
      "execution_count": 403,
      "outputs": [
        {
          "output_type": "display_data",
          "data": {
            "text/plain": [
              "<IPython.core.display.Math object>"
            ],
            "text/latex": "$\\displaystyle x_{1}$"
          },
          "metadata": {}
        },
        {
          "output_type": "display_data",
          "data": {
            "text/plain": [
              "<IPython.core.display.Math object>"
            ],
            "text/latex": "$\\displaystyle \\alpha$"
          },
          "metadata": {}
        }
      ]
    },
    {
      "cell_type": "code",
      "source": [
        "def add_(x: tuple, y: tuple) -> tuple:\n",
        "  return 'add', x, y, {}\n",
        "\n",
        "def sub_(x: tuple, y: tuple) -> tuple:\n",
        "  return 'sub', x, y, {}\n",
        "\n",
        "def mul_(x: tuple, y: tuple) -> tuple:\n",
        "  return 'mul', x, y, {}\n",
        "\n",
        "def div_(x: tuple, y: tuple) -> tuple:\n",
        "  return 'div', x, y, {}\n",
        "\n",
        "def deg_(x: tuple, y: tuple) -> tuple:\n",
        "  return 'deg', x, y, {}\n",
        "\n",
        "def and_(x: tuple, y: tuple) -> tuple:\n",
        "  return 'and', x, y, {}\n",
        "\n",
        "def or_(x: tuple, y: tuple) -> tuple:\n",
        "  return 'or', x, y, {}\n",
        "\n",
        "def xor_(x: tuple, y: tuple) -> tuple:\n",
        "  return 'xor', x, y, {}\n",
        "\n",
        "def eq_(x: tuple, y: tuple) -> tuple:\n",
        "  return 'eq', x, y, {}\n",
        "\n",
        "def ne_(x: tuple, y: tuple) -> tuple:\n",
        "  return 'ne', x, y, {}\n",
        "\n",
        "def lt_(x: tuple, y: tuple) -> tuple:\n",
        "  return 'lt', x, y, {}\n",
        "\n",
        "def le_(x: tuple, y: tuple) -> tuple:\n",
        "  return 'le', x, y, {}\n",
        "\n",
        "def gt_(x: tuple, y: tuple) -> tuple:\n",
        "  return 'gt', x, y, {}\n",
        "\n",
        "def ge_(x: tuple, y: tuple) -> tuple:\n",
        "  return 'ge', x, y, {}\n",
        "\n",
        "def neg_(x: tuple) -> tuple:\n",
        "  return 'neg', x, {}\n",
        "\n",
        "def inv_(x: tuple) -> tuple:\n",
        "  return 'inv', x, {}"
      ],
      "metadata": {
        "id": "Gc0RVLHTb11b"
      },
      "execution_count": 404,
      "outputs": []
    },
    {
      "cell_type": "code",
      "source": [
        "a = integer_(34)\n",
        "x = symbol_('x')\n",
        "y = symbol_('y')\n",
        "f = mul_(add_(a, x), y)\n",
        "print(f)"
      ],
      "metadata": {
        "colab": {
          "base_uri": "https://localhost:8080/"
        },
        "id": "zuoNj-Bze3sn",
        "outputId": "775bcc16-feda-4e08-affe-c95820c1dfa9"
      },
      "execution_count": 405,
      "outputs": [
        {
          "output_type": "stream",
          "name": "stdout",
          "text": [
            "('mul', ('add', ('integer', {'value': 34}), ('symbol', {'name': 'x', 'latex': 'x'}), {}), ('symbol', {'name': 'y', 'latex': 'y'}), {})\n"
          ]
        }
      ]
    },
    {
      "cell_type": "code",
      "source": [
        "priority = {'deg': 9, 'neg': 8, 'inv': 8, 'mul': 7, 'div': 7, 'add' : 6,'sub' : 6, 'and': 5, 'xor': 4, 'or': 3, 'eq': 2, 'ne': 2, 'lt': 2, 'le': 2, 'gt': 2, 'ge': 2}\n",
        "\n",
        "def Pr(x: tuple) -> int:\n",
        "  return priority.get(ID(x), 10)\n",
        "\n",
        "print(Pr(f))"
      ],
      "metadata": {
        "colab": {
          "base_uri": "https://localhost:8080/"
        },
        "id": "LueWsARag3lM",
        "outputId": "97f00d3c-0a29-4b39-9fc8-8e6fe3a36c74"
      },
      "execution_count": 406,
      "outputs": [
        {
          "output_type": "stream",
          "name": "stdout",
          "text": [
            "7\n"
          ]
        }
      ]
    },
    {
      "cell_type": "code",
      "source": [
        "def enclose(x: str) -> str:\n",
        "  return f\"\\\\left( {x} \\\\right)\""
      ],
      "metadata": {
        "id": "z9Lfhedcj_qp"
      },
      "execution_count": 407,
      "outputs": []
    },
    {
      "cell_type": "code",
      "source": [
        "def latex_add(x: tuple) -> str:\n",
        "  a, b = latex_(x[1]), latex_(x[2])\n",
        "  if Pr(x[1]) < Pr(x):\n",
        "    a = enclose(a)\n",
        "  if Pr(x[2]) <= Pr(x):\n",
        "    b = enclose(b)\n",
        "  return f\"{{{a}}} + {{{b}}}\"\n",
        "\n",
        "def latex_mul(x: tuple) -> str:\n",
        "  a, b = latex_(x[1]), latex_(x[2])\n",
        "  if Pr(x[1]) < Pr(x):\n",
        "    a = enclose(a)\n",
        "  if Pr(x[2]) <= Pr(x) or options(x[2]).get('value', 1)<0 or ID(x[2])=='neg':\n",
        "    b = enclose(b)\n",
        "  return f\"{{{a}}} \\\\cdot {{{b}}}\"\n",
        "\n",
        "def latex_div(x: tuple) -> str:\n",
        "  a, b = latex_(x[1]), latex_(x[2])\n",
        "  return f\"\\\\frac{{{a}}}{{{b}}}\"\n",
        "\n",
        "def latex_sub(x: tuple) -> str:\n",
        "  a, b = latex_(x[1]), latex_(x[2])\n",
        "  if Pr(x[1]) < Pr(x):\n",
        "    a = enclose(a)\n",
        "  if Pr(x[2]) <= Pr(x)or ((not isinstance(options(x[2]),tuple)) and options(x[2]).get('value', 1) < 0) or ID(x[2]) == 'neg':\n",
        "    b = enclose(b)\n",
        "  return f\"{{{a}}} - {{{b}}}\"\n",
        "\n",
        "def latex_deg(x: tuple) -> str:\n",
        "  a, b = latex_(x[1]), latex_(x[2])\n",
        "  if Pr(x[1]) < Pr(x) or x[1][0] == 'rational':\n",
        "    a = enclose(a)\n",
        "  if Pr(x[2]) <= Pr(x):\n",
        "    b = enclose(b)\n",
        "  return f\"{{{a}}}^{{{b}}}\"\n",
        "\n",
        "def latex_inv(x: tuple) -> str:\n",
        "  a = latex_(x[1])\n",
        "  if options(x[1]).get('value', 1)<0 or ID(x[1])=='neg':\n",
        "    a = enclose(a)\n",
        "  return f\"\\\\neg {{{a}}}\"\n",
        "\n",
        "def latex_neg(x: tuple) -> str:\n",
        "  a = latex_(x[1])\n",
        "  if (isinstance(options(x[1]).get('value', 1), int) and options(x[1]).get('value', 1) < 0) or ID(x[1]) == 'neg':\n",
        "    a = enclose(a)\n",
        "  return f\" -{{{a}}}\"\n",
        "\n",
        "def latex_and(x: tuple) -> str:\n",
        "  a, b = latex_(x[1]), latex_(x[2])\n",
        "  if Pr(x[1]) < Pr(x):\n",
        "    a = enclose(a)\n",
        "  if Pr(x[2]) <= Pr(x)or options(x[2]).get('value', 1)<0 or ID(x[2])=='neg':\n",
        "    b = enclose(b)\n",
        "  return f\"{{{a}}} \\wedge {{{b}}}\"\n",
        "\n",
        "def latex_or(x: tuple) -> str:\n",
        "  a, b = latex_(x[1]), latex_(x[2])\n",
        "  if Pr(x[1]) < Pr(x):\n",
        "    a = enclose(a)\n",
        "  if Pr(x[2]) <= Pr(x)or options(x[2]).get('value', 1)<0 or ID(x[2])=='neg':\n",
        "    b = enclose(b)\n",
        "  return f\"{{{a}}} \\vee {{{b}}}\"\n",
        "\n",
        "def latex_xor(x: tuple) -> str:\n",
        "  a, b = latex_(x[1]), latex_(x[2])\n",
        "  if Pr(x[1]) < Pr(x):\n",
        "    a = enclose(a)\n",
        "  if Pr(x[2]) <= Pr(x)or options(x[2]).get('value', 1)<0 or ID(x[2])=='neg':\n",
        "    b = enclose(b)\n",
        "  return f\"{a} \\oplus {b}\"\n",
        "\n",
        "def latex_eq(x: tuple) -> str:\n",
        "  a, b = latex_(x[1]), latex_(x[2])\n",
        "  if Pr(x[1]) < Pr(x):\n",
        "    a = enclose(a)\n",
        "  if Pr(x[2]) <= Pr(x):\n",
        "    b = enclose(b)\n",
        "  return f\"{{{a}}} = {{{b}}}\"\n",
        "\n",
        "def latex_ne(x: tuple) -> str:\n",
        "  a, b = latex_(x[1]), latex_(x[2])\n",
        "  if Pr(x[1]) < Pr(x):\n",
        "    a = enclose(a)\n",
        "  if Pr(x[2]) <= Pr(x):\n",
        "    b = enclose(b)\n",
        "  return f\"{{{a}}} \\\\neq {{{b}}}\"\n",
        "\n",
        "def latex_lt(x: tuple) -> str:\n",
        "  a, b = latex_(x[1]), latex_(x[2])\n",
        "  if Pr(x[1]) < Pr(x):\n",
        "    a = enclose(a)\n",
        "  if Pr(x[2]) <= Pr(x):\n",
        "    b = enclose(b)\n",
        "  return f\"{{{a}}} < {{{b}}}\"\n",
        "\n",
        "def latex_le(x: tuple) -> str:\n",
        "  a, b = latex_(x[1]), latex_(x[2])\n",
        "  if Pr(x[1]) < Pr(x):\n",
        "    a = enclose(a)\n",
        "  if Pr(x[2]) <= Pr(x):\n",
        "    b = enclose(b)\n",
        "  return f\"{{{a}}} \\\\leq {{{b}}}\"\n",
        "\n",
        "def latex_gt(x: tuple) -> str:\n",
        "  a, b = latex_(x[1]), latex_(x[2])\n",
        "  if Pr(x[1]) < Pr(x):\n",
        "    a = enclose(a)\n",
        "  if Pr(x[2]) <= Pr(x):\n",
        "    b = enclose(b)\n",
        "  return f\"{{{a}}} > {{{b}}}\"\n",
        "\n",
        "def latex_ge(x: tuple) -> str:\n",
        "  a, b = latex_(x[1]), latex_(x[2])\n",
        "  if Pr(x[1]) < Pr(x):\n",
        "    a = enclose(a)\n",
        "  if Pr(x[2]) <= Pr(x):\n",
        "    b = enclose(b)\n",
        "  return f\"{{{a}}} \\\\geq {{{b}}}\""
      ],
      "metadata": {
        "id": "bAKYYd34kawd"
      },
      "execution_count": 408,
      "outputs": []
    },
    {
      "cell_type": "code",
      "source": [
        "a = integer_(34)\n",
        "y = integer_(10)\n",
        "x = symbol_('x')\n",
        "f = mul_(add_(a, y), y)\n",
        "show_(f)\n",
        "\n",
        "show_(neg_(integer_(-11)))\n",
        "show_(deg_(x, integer_(-1)))\n",
        "show_( div_(mul_(add_(a, y), y), neg_(y)))\n",
        "\n",
        "\n"
      ],
      "metadata": {
        "colab": {
          "base_uri": "https://localhost:8080/",
          "height": 117
        },
        "id": "zCp8PqVQsoC0",
        "outputId": "d954b641-9c1a-4f15-a45d-d7c9451965f8"
      },
      "execution_count": 409,
      "outputs": [
        {
          "output_type": "display_data",
          "data": {
            "text/plain": [
              "<IPython.core.display.Math object>"
            ],
            "text/latex": "$\\displaystyle {\\left( {34} + {10} \\right)} \\cdot {10}$"
          },
          "metadata": {}
        },
        {
          "output_type": "display_data",
          "data": {
            "text/plain": [
              "<IPython.core.display.Math object>"
            ],
            "text/latex": "$\\displaystyle  -{\\left( -11 \\right)}$"
          },
          "metadata": {}
        },
        {
          "output_type": "display_data",
          "data": {
            "text/plain": [
              "<IPython.core.display.Math object>"
            ],
            "text/latex": "$\\displaystyle {x}^{-1}$"
          },
          "metadata": {}
        },
        {
          "output_type": "display_data",
          "data": {
            "text/plain": [
              "<IPython.core.display.Math object>"
            ],
            "text/latex": "$\\displaystyle \\frac{{\\left( {34} + {10} \\right)} \\cdot {10}}{ -{10}}$"
          },
          "metadata": {}
        }
      ]
    },
    {
      "cell_type": "code",
      "source": [
        "class Expression:\n",
        "  def __init__(self, x):\n",
        "    self.T = x\n",
        "\n",
        "  def __add__(self, x):\n",
        "    return Expression(add_(self.T, fix(x).T))\n",
        "\n",
        "  def __sub__(self, x):\n",
        "    return Expression(sub_(self.T, fix(x).T))\n",
        "\n",
        "  def __mul__(self, x):\n",
        "    return Expression(mul_(self.T, fix(x).T))\n",
        "\n",
        "  def __truediv__(self, x):\n",
        "    return Expression(div_(self.T, fix(x).T))\n",
        "\n",
        "  def __pow__(self, x):\n",
        "      return Expression(deg_(self.T, fix(x).T))\n",
        "\n",
        "  def __and__(self, x):\n",
        "    return Expression(and_(self.T, fix(x).T))\n",
        "\n",
        "  def __or__(self, x):\n",
        "    return Expression(or_(self.T, fix(x).T))\n",
        "\n",
        "  def __xor__(self, x):\n",
        "    return Expression(xor_(self.T, fix(x).T))\n",
        "\n",
        "  def __eq__(self, x):\n",
        "    return Expression(eq_(self.T, fix(x).T))\n",
        "\n",
        "  def __ne__(self, x):\n",
        "    return Expression(ne_(self.T, fix(x).T))\n",
        "\n",
        "  def __lt__(self, x):\n",
        "    return Expression(lt_(self.T, fix(x).T))\n",
        "\n",
        "  def __le__(self, x):\n",
        "    return Expression(le_(self.T, fix(x).T))\n",
        "\n",
        "  def __gt__(self, x):\n",
        "    return Expression(gt_(self.T, fix(x).T))\n",
        "\n",
        "  def __ge__(self, x):\n",
        "    return Expression(ge_(self.T, fix(x).T))\n",
        "\n",
        "  def __invert__(self):\n",
        "    return Expression(inv_(fix(self).T))\n",
        "\n",
        "  def __neg__(self):\n",
        "    return Expression(neg_(fix(self).T))\n",
        "\n",
        "  def __radd__(self, x):\n",
        "    return Expression(add_(fix(x).T, self.T))\n",
        "\n",
        "  def __rsub__(self, x):\n",
        "    return Expression(sub_(fix(x).T, self.T))\n",
        "\n",
        "  def __rmul__(self, x):\n",
        "    return Expression(mul_(fix(x).T, self.T))\n",
        "\n",
        "  def __rtruediv__(self, x):\n",
        "    return Expression(div_(fix(x).T, self.T))\n",
        "\n",
        "  def __rpow__(self, x):\n",
        "    return Expression(deg_(fix(x).T, self.T))\n",
        "\n",
        "  def __rand__(self, x):\n",
        "    return Expression(and_(fix(x).T, self.T))\n",
        "\n",
        "  def __ror__(self, x):\n",
        "    return Expression(or_(fix(x).T, self.T))\n",
        "\n",
        "  def __rxor__(self, x):\n",
        "    return Expression(xor_(fix(x).T, self.T))\n",
        "\n",
        "  def __hash__(self):\n",
        "    return hash(str(self.T))\n",
        "\n",
        "def fix(x):\n",
        "  if isinstance(x, int):\n",
        "    return Expression(integer_(x))\n",
        "  return x\n",
        "\n"
      ],
      "metadata": {
        "id": "jePSRGbksoau"
      },
      "execution_count": 410,
      "outputs": []
    },
    {
      "cell_type": "markdown",
      "source": [
        "Создаем обертки для функций integer_ и symbol_\n",
        "опциональное (бонусное) задание: напишите функцию symbols, которая позволяет создавать сразу несколько символьных переменных: x, y, z = symbols('x y z')"
      ],
      "metadata": {
        "id": "_Tozg2V8Zzo9"
      }
    },
    {
      "cell_type": "code",
      "source": [
        "def Z(x: int) -> Expression:\n",
        "  return Expression(integer_(x))\n",
        "\n",
        "def symbol(x: str) -> Expression:\n",
        "  return Expression(symbol_(x))\n",
        "\n",
        "def symbols(x: str) -> Expression:\n",
        "  a = x.split()\n",
        "  for i in range(len(a)):\n",
        "     a[i] = Expression(symbol_(a[i]))\n",
        "  return a"
      ],
      "metadata": {
        "id": "yLHEByiFZcdf"
      },
      "execution_count": 411,
      "outputs": []
    },
    {
      "cell_type": "markdown",
      "source": [
        "Определяем функцию show вывода выражений, заданных классом Expression\n",
        "протестируйте работу всех функций на различных выражениях"
      ],
      "metadata": {
        "id": "3gEJiXazZ5Ir"
      }
    },
    {
      "cell_type": "code",
      "source": [
        "def show(x: Expression) -> None:\n",
        "  show_(x.T)"
      ],
      "metadata": {
        "id": "2b1mtRJSZw3B"
      },
      "execution_count": 412,
      "outputs": []
    },
    {
      "cell_type": "code",
      "source": [
        "a, x = Z(13), symbol('x_2')\n",
        "\n",
        "show(a / x ** a)"
      ],
      "metadata": {
        "colab": {
          "base_uri": "https://localhost:8080/",
          "height": 54
        },
        "id": "iqBTshCYc0iA",
        "outputId": "d4d18f7d-6834-4a3d-d5e3-668e5ee0a67d"
      },
      "execution_count": 413,
      "outputs": [
        {
          "output_type": "display_data",
          "data": {
            "text/plain": [
              "<IPython.core.display.Math object>"
            ],
            "text/latex": "$\\displaystyle \\frac{13}{{x_{2}}^{13}}$"
          },
          "metadata": {}
        }
      ]
    },
    {
      "cell_type": "code",
      "source": [
        "import matplotlib\n",
        "import matplotlib.pyplot as plt\n",
        "import networkx as nx\n",
        "from networkx.drawing.nx_pydot import graphviz_layout\n",
        "from networkx.readwrite import json_graph\n",
        "\n",
        "def makeGraph(x: tuple, nodes: list, labels: list, links: list) -> int:\n",
        "  id_ = len(nodes)\n",
        "  nodes.append({'id': id_})\n",
        "  if isTerminal(x):\n",
        "    labels[id_] = f'${latex_(x)}$'\n",
        "  else:\n",
        "    labels[id_] = x[0]\n",
        "    for a in x[1:]:\n",
        "      if isinstance(a, tuple):\n",
        "        cid = makeGraph(a, nodes, labels, links)\n",
        "        links.append({'source': id_, 'target': cid})\n",
        "  return id_\n",
        "\n",
        "def drawGraph_(x: tuple, size) -> None:\n",
        "  nodes, labels, links = [], {}, []\n",
        "  makeGraph(x, nodes, labels, links)\n",
        "  graph = json_graph.node_link_graph({'nodes': nodes, 'links': links}, directed=True, multigraph=False)\n",
        "  pos = graphviz_layout(graph, prog=\"dot\")\n",
        "  fig, ax = plt.subplots(figsize=(3 * size, 3 * size))\n",
        "  ax.set_axis_off()\n",
        "  nx.draw_networkx_edges(graph.to_directed(), pos, ax = ax, edge_color=\"black\")\n",
        "  nx.draw_networkx_labels(graph.to_directed(), pos, labels = labels, font_color = \"blue\")\n",
        "\n",
        "def drawGraph(x: Expression, size: float = 1) -> None:\n",
        "  drawGraph_(x.T, size)\n",
        "\n",
        "x, y = symbol('x'), symbol('y')\n",
        "drawGraph((x + y) / Z(34))"
      ],
      "metadata": {
        "id": "u7cLwA76aAGh",
        "colab": {
          "base_uri": "https://localhost:8080/",
          "height": 361
        },
        "outputId": "f6c3c4ba-b9fb-4060-9260-73a8ee3e9617"
      },
      "execution_count": 414,
      "outputs": [
        {
          "output_type": "stream",
          "name": "stderr",
          "text": [
            "<ipython-input-414-1e3c6b446c2a>:24: DeprecationWarning: nx.nx_pydot.graphviz_layout depends on the pydot package, which has known issues and is not actively maintained. Consider using nx.nx_agraph.graphviz_layout instead.\n",
            "\n",
            "See https://github.com/networkx/networkx/issues/5723\n",
            "  pos = graphviz_layout(graph, prog=\"dot\")\n"
          ]
        },
        {
          "output_type": "display_data",
          "data": {
            "text/plain": [
              "<Figure size 300x300 with 1 Axes>"
            ],
            "image/png": "[encoded data removed]"
          },
          "metadata": {}
        }
      ]
    },
    {
      "cell_type": "markdown",
      "source": [
        "# Часть 2\n"
      ],
      "metadata": {
        "id": "nHfAbGl-ameJ"
      }
    },
    {
      "cell_type": "markdown",
      "source": [
        "### Факторизация\n",
        "\n",
        "* Напишите функцию `factors(x)`, которая возвращает разложение заданного натурального числа $x$ на простые множители в виде списка этих множителей: factors`(12)` $\\to$ `[2, 2, 3]`."
      ],
      "metadata": {
        "id": "_PBloigmbC7W"
      }
    },
    {
      "cell_type": "code",
      "source": [
        "def factors(x: int) -> list:\n",
        "  mn = []\n",
        "  k = 2\n",
        "  while x != 1:\n",
        "    if x % k == 0:\n",
        "      mn.append(k)\n",
        "      x//=k\n",
        "    else:\n",
        "      k += 1\n",
        "  return mn\n",
        "factors(7007)"
      ],
      "metadata": {
        "colab": {
          "base_uri": "https://localhost:8080/"
        },
        "id": "4ZaODSJ7aqd7",
        "outputId": "23af3c41-2153-40ff-a8d2-46e62737bf3b"
      },
      "execution_count": 415,
      "outputs": [
        {
          "output_type": "execute_result",
          "data": {
            "text/plain": [
              "[7, 7, 11, 13]"
            ]
          },
          "metadata": {},
          "execution_count": 415
        }
      ]
    },
    {
      "cell_type": "markdown",
      "source": [
        "* Напишите функцию `factorizeInt(x)`, которая преобразует заданное число `x` в произведение простых сомножителей в форме **выражения** (класс `Expression`), повторяющиеся сомножители должны входить в выражение в форме степеней: `factorizeInt(120)` $\\to 2^3\\cdot 3\\cdot 5$."
      ],
      "metadata": {
        "id": "MEmi3QTRla5j"
      }
    },
    {
      "cell_type": "code",
      "source": [
        "def factorizeInt(x: int) -> Expression:\n",
        "  mn1 = factors(x)\n",
        "  mn2 =[mn1[0]]\n",
        "  for i in range(len(mn1)):\n",
        "    if not mn1[i] in mn2:\n",
        "      mn2.append(mn1[i])\n",
        "\n",
        "  k = Z(mn2[0])\n",
        "  s1 = mn1.count(mn2[0])\n",
        "  if s1 > 1:\n",
        "    k **= mn1.count(mn2[0])\n",
        "  for i in range(1, len(mn2)):\n",
        "    s2 = mn1.count(mn2[i])\n",
        "    if s2 > 1:\n",
        "      k *= Z(mn2[i])**Z(s2)\n",
        "    else:\n",
        "      k *= Z(mn2[i])\n",
        "\n",
        "  return k\n",
        "\n",
        "show(factorizeInt(360))"
      ],
      "metadata": {
        "colab": {
          "base_uri": "https://localhost:8080/",
          "height": 37
        },
        "id": "pkGTfHVwlqU4",
        "outputId": "38ea91d1-393a-4122-dbbf-e3d1fe2d7296"
      },
      "execution_count": 416,
      "outputs": [
        {
          "output_type": "display_data",
          "data": {
            "text/plain": [
              "<IPython.core.display.Math object>"
            ],
            "text/latex": "$\\displaystyle {{{2}^{3}} \\cdot {{3}^{2}}} \\cdot {5}$"
          },
          "metadata": {}
        }
      ]
    },
    {
      "cell_type": "code",
      "source": [
        "a1 = Z(2) **Z(3)\n",
        "a1 *= Z(3) **Z(5)\n",
        "show(a1)"
      ],
      "metadata": {
        "colab": {
          "base_uri": "https://localhost:8080/",
          "height": 37
        },
        "id": "CcjDZNwhOJC4",
        "outputId": "e539f941-f17f-4a8e-86df-4220e30f5013"
      },
      "execution_count": 417,
      "outputs": [
        {
          "output_type": "display_data",
          "data": {
            "text/plain": [
              "<IPython.core.display.Math object>"
            ],
            "text/latex": "$\\displaystyle {{2}^{3}} \\cdot {{3}^{5}}$"
          },
          "metadata": {}
        }
      ]
    },
    {
      "cell_type": "markdown",
      "source": [
        "### Наибольший общий делитель\n",
        "\n",
        "* Реализуйте алгоритм Евклида в виде функции `GCD(n, m)`."
      ],
      "metadata": {
        "id": "Ss60MTBNoN4H"
      }
    },
    {
      "cell_type": "code",
      "source": [
        "def GCD(n: int, m: int) -> int:\n",
        "  while m > 0:\n",
        "    n, m = m, n % m\n",
        "  return n\n",
        "\n",
        "GCD(120, 48)"
      ],
      "metadata": {
        "colab": {
          "base_uri": "https://localhost:8080/"
        },
        "id": "gX4TuXzloSSi",
        "outputId": "cdd30de2-6f9f-47ed-a290-dfafb2d0c308"
      },
      "execution_count": 418,
      "outputs": [
        {
          "output_type": "execute_result",
          "data": {
            "text/plain": [
              "24"
            ]
          },
          "metadata": {},
          "execution_count": 418
        }
      ]
    },
    {
      "cell_type": "markdown",
      "source": [
        "### Реализация рациональных чисел\n",
        "\n",
        "* Создаем функцию-конструктор `rational_(n,m)` узлов для рациональных чисел. В каждом таком узле должно храниться нормализованное представление заданного числа."
      ],
      "metadata": {
        "id": "MP_S5yjfpD45"
      }
    },
    {
      "cell_type": "code",
      "source": [
        "def rational_(n: int, m: int) -> tuple:\n",
        "  if n == 0:\n",
        "    m = 1 # нормализованное представление нуля - (0, 1)\n",
        "  else:\n",
        "    if m < 0:\n",
        "      n, m = -n, -m # знаменатель должен быть положительным\n",
        "    c = GCD(abs(n), m)\n",
        "    n, m = n // c, m // c # приводим дробь к несократимому виду\n",
        "  return 'rational', {'num': n, 'denom': m} # num - числитель (numerator), denom - знаменатель (denominator)"
      ],
      "metadata": {
        "id": "s-bQrTJHpHhS"
      },
      "execution_count": 419,
      "outputs": []
    },
    {
      "cell_type": "markdown",
      "source": [
        "* Пишем функцию `Q(n,m)` для создания выражения, представляющего рациональное число $n/m$. Знаменатель `m` по умолчанию равен `1`."
      ],
      "metadata": {
        "id": "ZIBYZDy2pLr7"
      }
    },
    {
      "cell_type": "code",
      "source": [
        "def Q(n: int, m: int = 1) -> Expression:\n",
        "  return Expression(rational_(n, m))\n",
        "\n",
        "Q(2, -6).T"
      ],
      "metadata": {
        "colab": {
          "base_uri": "https://localhost:8080/"
        },
        "id": "d4Z8rctIpQdc",
        "outputId": "7836c0a7-af5e-435a-9173-01af679925f3"
      },
      "execution_count": 420,
      "outputs": [
        {
          "output_type": "execute_result",
          "data": {
            "text/plain": [
              "('rational', {'num': -1, 'denom': 3})"
            ]
          },
          "metadata": {},
          "execution_count": 420
        }
      ]
    },
    {
      "cell_type": "markdown",
      "source": [
        "* Напишите функцию `latex_rational(x)`, преобразующую рациональное число $x$ в формат LaTeX. Это преобразование должно учитывать, является ли число целым (единичный знаменатель не используется), для отрицательных чисел знак минус ставится перед числом, а не в числителе:\n",
        "`Q(0, 5)` $\\to 0$, `Q(6, -2)` $\\to 3$, `Q(6, 8)` $\\to \\dfrac{3}{4}$, `Q(-15, 25)` $\\to -\\dfrac{3}{5}$."
      ],
      "metadata": {
        "id": "pYfe2qtKpTH3"
      }
    },
    {
      "cell_type": "code",
      "source": [
        "def latex_rational(x: tuple) -> str:\n",
        "  n, m = options(x)['num'], options(x)['denom']\n",
        "  if m == 1:\n",
        "    return f\"{{{int(n/m)}}}\"\n",
        "  if n < 0:\n",
        "    return f\"-{{\\\\frac{{{abs(n)}}}{{{m}}}}}\"\n",
        "  else:\n",
        "    return f\"\\\\frac{{{abs(n)}}}{{{m}}}\"\n",
        "\n",
        "\n",
        "show(Q(0, 5))\n",
        "show(Q(6, -2))\n",
        "show(Q(6, 8))\n",
        "show(Q(-15, 25))"
      ],
      "metadata": {
        "colab": {
          "base_uri": "https://localhost:8080/",
          "height": 126
        },
        "id": "MjQn3o22pWrD",
        "outputId": "15991dbf-6d67-478c-a11e-9dedc8565511"
      },
      "execution_count": 421,
      "outputs": [
        {
          "output_type": "display_data",
          "data": {
            "text/plain": [
              "<IPython.core.display.Math object>"
            ],
            "text/latex": "$\\displaystyle {0}$"
          },
          "metadata": {}
        },
        {
          "output_type": "display_data",
          "data": {
            "text/plain": [
              "<IPython.core.display.Math object>"
            ],
            "text/latex": "$\\displaystyle {-3}$"
          },
          "metadata": {}
        },
        {
          "output_type": "display_data",
          "data": {
            "text/plain": [
              "<IPython.core.display.Math object>"
            ],
            "text/latex": "$\\displaystyle \\frac{3}{4}$"
          },
          "metadata": {}
        },
        {
          "output_type": "display_data",
          "data": {
            "text/plain": [
              "<IPython.core.display.Math object>"
            ],
            "text/latex": "$\\displaystyle -{\\frac{3}{5}}$"
          },
          "metadata": {}
        }
      ]
    },
    {
      "cell_type": "markdown",
      "source": [
        "* Проверяем, что рациональные числа могут быть теперь использованы для построения арифметический выражений"
      ],
      "metadata": {
        "id": "0yPi8KC3J3IF"
      }
    },
    {
      "cell_type": "code",
      "source": [
        "show((1 + Q(6, 4)) / (Q(152, 24) ** 2 * Q(5, 7)))"
      ],
      "metadata": {
        "colab": {
          "base_uri": "https://localhost:8080/",
          "height": 66
        },
        "id": "I54GwmJ0J5_M",
        "outputId": "64a399a5-e0b1-4f0b-8db4-70650f845a67"
      },
      "execution_count": 422,
      "outputs": [
        {
          "output_type": "display_data",
          "data": {
            "text/plain": [
              "<IPython.core.display.Math object>"
            ],
            "text/latex": "$\\displaystyle \\frac{{1} + {\\frac{3}{2}}}{{{\\left( \\frac{19}{3} \\right)}^{2}} \\cdot {\\frac{5}{7}}}$"
          },
          "metadata": {}
        }
      ]
    },
    {
      "cell_type": "markdown",
      "source": [
        "### Цепные дроби\n",
        "\n",
        "* Напишите функцию `continuedTerms(n,m)`, которая преобразует заданное рациональное число $n/m$ в цепную дробь \\[$a_0$; $a_1$, $a_2$, ...\\] и возвращает результат в виде списка: `continuedTerms(15,11)` $\\to$ `[1,2,1,3]`."
      ],
      "metadata": {
        "id": "HbwzfGO1J-Zp"
      }
    },
    {
      "cell_type": "code",
      "source": [
        "def continuedTerms(n: int, m: int) -> list:\n",
        "  an = []\n",
        "  while m > 0:\n",
        "    an.append(n // m)\n",
        "    n, m = m, n % m\n",
        "  return an\n",
        "\n",
        "continuedTerms(15, 11)"
      ],
      "metadata": {
        "colab": {
          "base_uri": "https://localhost:8080/"
        },
        "id": "JnQPPlJoJ88_",
        "outputId": "90aa405c-5922-4e59-b6f7-56a59f360738"
      },
      "execution_count": 423,
      "outputs": [
        {
          "output_type": "execute_result",
          "data": {
            "text/plain": [
              "[1, 2, 1, 3]"
            ]
          },
          "metadata": {},
          "execution_count": 423
        }
      ]
    },
    {
      "cell_type": "markdown",
      "source": [
        "* Напишите функцию, которая строит выражение, представляющее цепную дробь, в виде объекта класса `Expression`."
      ],
      "metadata": {
        "id": "_hZwxhd6KGXo"
      }
    },
    {
      "cell_type": "code",
      "source": [
        "def continuedFraction(p: Expression) -> Expression:\n",
        "  n, m = options(p.T)['num'], options(p.T)['denom'] # предполагаем, что p - рациональное число!\n",
        "  A = continuedTerms(n, m) # находим элементы цепной дроби\n",
        "  ex = Z(A[-1])\n",
        "  for i in range(-2, -(len(A) + 1), -1):\n",
        "    ex = A[i] + 1 / ex\n",
        "  return ex\n",
        "\n",
        "show(continuedFraction(Q(15, 11)))"
      ],
      "metadata": {
        "id": "2dJEWwdgKLIj",
        "colab": {
          "base_uri": "https://localhost:8080/",
          "height": 63
        },
        "outputId": "c7ca0151-1a93-4a1e-898d-c367b42a2477"
      },
      "execution_count": 424,
      "outputs": [
        {
          "output_type": "display_data",
          "data": {
            "text/plain": [
              "<IPython.core.display.Math object>"
            ],
            "text/latex": "$\\displaystyle {1} + {\\frac{1}{{2} + {\\frac{1}{{1} + {\\frac{1}{3}}}}}}$"
          },
          "metadata": {}
        }
      ]
    },
    {
      "cell_type": "markdown",
      "source": [
        "* (бонусное задание) Напишите функцию `float2continued(x,n)`, преобразующую заданное действительное число $x$ в цепную дробь \"глубины\" $n$: `float2continued(np.sqrt(2),4)` $\\to 1 + \\frac1{2+\\frac1{2+\\frac1{2}}}$"
      ],
      "metadata": {
        "id": "tmQo_VnyKPTQ"
      }
    },
    {
      "cell_type": "code",
      "source": [
        "import math\n",
        "\n",
        "def float2continued(x: float, n: int) -> Expression:\n",
        "  k = 0\n",
        "  an = []\n",
        "  while k < n + 1:\n",
        "    an.append(math.floor(x))\n",
        "    x = 1 / (x - an[k])\n",
        "    k = k + 1\n",
        "\n",
        "  ex = Z(an[-1])\n",
        "  for i in range(-2, -len(an), -1):\n",
        "    ex = an[i] + 1 / ex\n",
        "  return ex\n",
        "\n",
        "show(float2continued(np.pi, 5))\n",
        "show(float2continued(np.sqrt(2), 5))\n",
        "show(float2continued(np.exp(1), 5))\n",
        "show(float2continued((np.sqrt(5)+1)/2, 5))"
      ],
      "metadata": {
        "id": "mnXKoDLsKTXL",
        "colab": {
          "base_uri": "https://localhost:8080/",
          "height": 228
        },
        "outputId": "1c501a12-a4b8-469a-ba4f-5d877b2956b7"
      },
      "execution_count": 425,
      "outputs": [
        {
          "output_type": "display_data",
          "data": {
            "text/plain": [
              "<IPython.core.display.Math object>"
            ],
            "text/latex": "$\\displaystyle {7} + {\\frac{1}{{15} + {\\frac{1}{{1} + {\\frac{1}{{292} + {\\frac{1}{1}}}}}}}}$"
          },
          "metadata": {}
        },
        {
          "output_type": "display_data",
          "data": {
            "text/plain": [
              "<IPython.core.display.Math object>"
            ],
            "text/latex": "$\\displaystyle {2} + {\\frac{1}{{2} + {\\frac{1}{{2} + {\\frac{1}{{2} + {\\frac{1}{2}}}}}}}}$"
          },
          "metadata": {}
        },
        {
          "output_type": "display_data",
          "data": {
            "text/plain": [
              "<IPython.core.display.Math object>"
            ],
            "text/latex": "$\\displaystyle {1} + {\\frac{1}{{2} + {\\frac{1}{{1} + {\\frac{1}{{1} + {\\frac{1}{4}}}}}}}}$"
          },
          "metadata": {}
        },
        {
          "output_type": "display_data",
          "data": {
            "text/plain": [
              "<IPython.core.display.Math object>"
            ],
            "text/latex": "$\\displaystyle {1} + {\\frac{1}{{1} + {\\frac{1}{{1} + {\\frac{1}{{1} + {\\frac{1}{1}}}}}}}}$"
          },
          "metadata": {}
        }
      ]
    },
    {
      "cell_type": "markdown",
      "source": [
        "### Египетские дроби\n",
        "\n",
        "* Напишите функцию `egyptianTerms(n,m)` разложения заданного рационального числа $n/m$ (в предположении $n < m$) в египетскую дробь, возвращающую список знаменателей найденных простых дробей: `egyptianTerms(7, 8)` $\\to$ `[2, 3, 24]`."
      ],
      "metadata": {
        "id": "4JZ7pRURKYFA"
      }
    },
    {
      "cell_type": "code",
      "source": [
        "import math\n",
        "\n",
        "def egyptianTerms(n: int, m: int) -> list:\n",
        "  an = []\n",
        "  while n > 0:\n",
        "    a = math.ceil(m/n)\n",
        "    n, m = (-m) % n, m * a\n",
        "    an.append(a)\n",
        "  return an\n",
        "\n",
        "egyptianTerms(7, 8)"
      ],
      "metadata": {
        "colab": {
          "base_uri": "https://localhost:8080/"
        },
        "id": "mZMX_xEiKcTS",
        "outputId": "51644a81-366e-4421-9a27-56c443b6f357"
      },
      "execution_count": 426,
      "outputs": [
        {
          "output_type": "execute_result",
          "data": {
            "text/plain": [
              "[2, 3, 24]"
            ]
          },
          "metadata": {},
          "execution_count": 426
        }
      ]
    },
    {
      "cell_type": "markdown",
      "source": [
        "* Напишите функцию, которая строит выражение, представляющее египетскую дробь, в виде объекта класса `Expression`: `egyptianSum(7,8)` $\\to \\frac12 + \\frac13 + \\frac1{24}$."
      ],
      "metadata": {
        "id": "faEiis3_KgNe"
      }
    },
    {
      "cell_type": "code",
      "source": [
        "def egyptianSum(p: Expression) -> Expression:\n",
        "  n, m = options(p.T)['num'], options(p.T)['denom']\n",
        "  A = egyptianTerms(n, m)\n",
        "  ex = 1 / Z(A[0])\n",
        "  for i in range(1, len(A)):\n",
        "    ex +=  1 / Z(A[i])\n",
        "  return ex\n",
        "\n",
        "show(egyptianSum(Q(7, 8)))"
      ],
      "metadata": {
        "id": "_VoUr6djKjiB",
        "colab": {
          "base_uri": "https://localhost:8080/",
          "height": 51
        },
        "outputId": "ee18e7c1-67fd-472a-db98-5931ee68c605"
      },
      "execution_count": 427,
      "outputs": [
        {
          "output_type": "display_data",
          "data": {
            "text/plain": [
              "<IPython.core.display.Math object>"
            ],
            "text/latex": "$\\displaystyle {{\\frac{1}{2}} + {\\frac{1}{3}}} + {\\frac{1}{24}}$"
          },
          "metadata": {}
        }
      ]
    },
    {
      "cell_type": "markdown",
      "source": [
        "### Частичное оценивание арифметических выражений\n",
        "\n",
        "В большинстве систем КА выражения, заданные пользователем, сразу же упрощаются, в частности, в них вычисляется все, что может быть вычислено.\n",
        "В частности, если выражение является арифметическим и содержит только целые и рациональные числа, то это выражение преобразуется в рациональное число, например: $$\\frac{\\frac12+\\frac23}{5}\\to\\frac7{30}.$$\n",
        "Определим несколько функций, предназначенных для такого оценивания (evaluating) арифметических выражений над целыми и рациональными числами.\n",
        "\n",
        "* Головная функция `evaluate(x)` оценивает выражение, заданное пользователем в виде объекта класса `Expression`, и возвращает выражение того же самого типа (класса), вызывая внутреннюю функцию `eval_` оценивания выражения в *списочном* формате."
      ],
      "metadata": {
        "id": "4az6oIhrKnA2"
      }
    },
    {
      "cell_type": "code",
      "source": [
        "def evaluate(x: Expression) -> Expression:\n",
        "  return Expression(eval_(x.T))"
      ],
      "metadata": {
        "id": "KW2oSZhlKq0i"
      },
      "execution_count": 428,
      "outputs": []
    },
    {
      "cell_type": "markdown",
      "source": [
        "* Функция `eval_(x)` “пытается” вызвать обработчик соответствующего узла, и если такой обработчик есть, то возвращается результат его работы.\n",
        "Если обработчика нет (срабатывает исключение), то возвращается исходный узел."
      ],
      "metadata": {
        "id": "lruo9POWKt7V"
      }
    },
    {
      "cell_type": "code",
      "source": [
        "def eval_(x: tuple) -> tuple:\n",
        "  try:\n",
        "    cmd = eval(f\"eval_{ID(x)}\") # конструируем функцию оценивания текущего узла по его ID\n",
        "    return cmd(x)\n",
        "  except (NameError, BaseException):\n",
        "    return x # возвращаем исходный узел, если обработчик не найден"
      ],
      "metadata": {
        "id": "_Ff3DcctKzab"
      },
      "execution_count": 429,
      "outputs": []
    },
    {
      "cell_type": "markdown",
      "source": [
        "* Для упрощения выполнения арифметических операций над объектами разной природы (числа разных классов, многочлены, матрицы) определим набор функций для автоматического преобразования типов (cast).\n",
        "Головная функция `cast` пытается вызвать подходящий обработчик, исходя из идентификатора типа и целевого типа."
      ],
      "metadata": {
        "id": "K3IO5bGCK2sk"
      }
    },
    {
      "cell_type": "code",
      "source": [
        "def cast_(x: tuple, target: str) -> tuple:\n",
        "  if ID(x) == target:\n",
        "    return x # преобразование не нужно, узел x уже имеет правильный тип\n",
        "  try:\n",
        "    cmd = eval(f\"cast_{ID(x)}_{target}\") # конструируем функцию преобразования\n",
        "    return cmd(x)\n",
        "  except NameError:\n",
        "    return x # возвращаем исходный узел, если обработчик не найден"
      ],
      "metadata": {
        "id": "l-2vDM9dK5el"
      },
      "execution_count": 430,
      "outputs": []
    },
    {
      "cell_type": "markdown",
      "source": [
        "* Реализуем один конкретный преобразователь `cast_integer_rational(x)`, который переводит целое число $x$ в формат рационального числа."
      ],
      "metadata": {
        "id": "QyTCP_mvK9mh"
      }
    },
    {
      "cell_type": "code",
      "source": [
        "def cast_integer_rational(x: tuple) -> tuple:\n",
        "  n = options(x)['value']\n",
        "  return rational_(n, 1)\n",
        "\n",
        "cast_integer_rational(integer_(5))"
      ],
      "metadata": {
        "id": "xzHOZxlxLBRp",
        "colab": {
          "base_uri": "https://localhost:8080/"
        },
        "outputId": "583ddbda-e94a-4b5a-b17b-4d3f55f7d79d"
      },
      "execution_count": 431,
      "outputs": [
        {
          "output_type": "execute_result",
          "data": {
            "text/plain": [
              "('rational', {'num': 5, 'denom': 1})"
            ]
          },
          "metadata": {},
          "execution_count": 431
        }
      ]
    },
    {
      "cell_type": "markdown",
      "source": [
        "* Теперь можно создавать функции, выполняющие арифметические операции над целыми и рациональными числами. Определим две функции сложения. Имя каждой такой функции должно состоять из типа операции и списка типов операндов, разделенных знаком подчеркивания: `add_integer_integer` складывает два целых числа."
      ],
      "metadata": {
        "id": "SZQELvXDLEXY"
      }
    },
    {
      "cell_type": "code",
      "source": [
        "def add_integer_integer(a: tuple, b: tuple) -> tuple:\n",
        "  n = options(a)['value']\n",
        "  m = options(b)['value']\n",
        "  return integer_(n + m)\n",
        "\n",
        "def add_rational_rational(a: tuple, b: tuple) -> tuple:\n",
        "  na, ma = options(a)['num'], options(a)['denom']\n",
        "  nb, mb = options(b)['num'], options(b)['denom']\n",
        "  n, m = na * mb + nb * ma, ma * mb\n",
        "  return rational_(n, m)"
      ],
      "metadata": {
        "id": "SzZ6KVJNL1W_"
      },
      "execution_count": 432,
      "outputs": []
    },
    {
      "cell_type": "markdown",
      "source": [
        "* Создадим словарь `OPERATIONS`, в котором будут перечисляться все обработчики каждой бинарной и унарной операций, подлежащих оцениванию. Ключами записей будут типы операций, значениями - списки соответствующих обработчиков."
      ],
      "metadata": {
        "id": "tgdKZ8xSL4s3"
      }
    },
    {
      "cell_type": "code",
      "source": [
        "OPERATIONS = {'add': ['add_integer_integer', 'add_rational_rational']}"
      ],
      "metadata": {
        "id": "15ec94L5L7-J"
      },
      "execution_count": 433,
      "outputs": []
    },
    {
      "cell_type": "markdown",
      "source": [
        "* Создаем универсальный обработчик (оцениватель) бинарных операций `eval_binary(op,x,y)`, который просматривает список всех имеющихся обработчиков заданной операции `op`, для каждого из них пытается преобразовать заданные операнды `x` и `y` к соответствующим типам, если преобразование проходит успешно, то вызывает этот обработки и возвращает его результат. Если ни один из обработчиков не срабатывает, то возвращается исходное выражение.   "
      ],
      "metadata": {
        "id": "cjBRpPbAMAAz"
      }
    },
    {
      "cell_type": "code",
      "source": [
        "def eval_binary(op: str, x: tuple, y: tuple) -> tuple:\n",
        "  for fop in OPERATIONS[op]:\n",
        "    idx, idy = fop.split('_')[1:]\n",
        "    a = cast_(x, idx)\n",
        "    b = cast_(y, idy)\n",
        "    if ID(a) == idx and ID(b) == idy:\n",
        "      cmd = eval(f\"{fop}\")\n",
        "      return cmd(a, b)\n",
        "  return op, x, y"
      ],
      "metadata": {
        "id": "IInWdPs2MCj1"
      },
      "execution_count": 434,
      "outputs": []
    },
    {
      "cell_type": "markdown",
      "source": [
        "* Наконец, пишем оцениватель `eval_add` операции сложения, который оценывает (рекурсивно) свои операнды и вызывает универсальный обработчик `eval_binary`. Проверяем его работу. Объясните, почему не происходит оценивания в последнем примере!"
      ],
      "metadata": {
        "id": "GBl60ttYMFZB"
      }
    },
    {
      "cell_type": "code",
      "source": [
        "def eval_add(x: tuple) -> tuple:\n",
        "  a, b = eval_(x[1]), eval_(x[2])\n",
        "  return eval_binary(ID(x), a, b)\n",
        "\n",
        "show(evaluate(Z(2) + Q(1, 3)))\n",
        "x = symbol('x')\n",
        "show(evaluate(Z(2) + Z(5) + x))\n",
        "show(evaluate(x + Z(2) + Z(5)))"
      ],
      "metadata": {
        "id": "rucTd-1MMNzx",
        "colab": {
          "base_uri": "https://localhost:8080/",
          "height": 95
        },
        "outputId": "87df051d-ed2d-4688-8330-54adb1901cb5"
      },
      "execution_count": 435,
      "outputs": [
        {
          "output_type": "display_data",
          "data": {
            "text/plain": [
              "<IPython.core.display.Math object>"
            ],
            "text/latex": "$\\displaystyle \\frac{7}{3}$"
          },
          "metadata": {}
        },
        {
          "output_type": "display_data",
          "data": {
            "text/plain": [
              "<IPython.core.display.Math object>"
            ],
            "text/latex": "$\\displaystyle {7} + {x}$"
          },
          "metadata": {}
        },
        {
          "output_type": "display_data",
          "data": {
            "text/plain": [
              "<IPython.core.display.Math object>"
            ],
            "text/latex": "$\\displaystyle {{x} + {2}} + {5}$"
          },
          "metadata": {}
        }
      ]
    },
    {
      "cell_type": "markdown",
      "source": [
        "* Чтобы добавить в систему обработку новых операций (например, операции умножения), нужно 1) создать соответствующие исполнители (умножение целых чисел, умножение рациональных чисел); 2) включить эти исполнители в словарь `OPERATIONS`; 3) написать обработчик соответствующего узла (`eval_mul`), если эта операция бинарная, то в данном обработчике должна вызываться функция `eval_binary`. Для примера добавим в систему оценивание операции умножения."
      ],
      "metadata": {
        "id": "VW40gN61MSmC"
      }
    },
    {
      "cell_type": "code",
      "source": [
        "def mul_integer_integer(a: tuple, b: tuple) -> tuple:\n",
        "  n = options(a)['value']\n",
        "  m = options(b)['value']\n",
        "  return integer_(n * m)\n",
        "\n",
        "def mul_rational_rational(a: tuple, b: tuple) -> tuple:\n",
        "  na, ma = options(a)['num'], options(a)['denom']\n",
        "  nb, mb = options(b)['num'], options(b)['denom']\n",
        "  n, m = na * nb, ma * mb\n",
        "  return rational_(n, m)\n",
        "\n",
        "OPERATIONS |= {'mul': ['mul_integer_integer', 'mul_rational_rational']} # расширяем словарь OPERATIONS новым словарем\n",
        "\n",
        "def eval_mul(x: tuple) -> tuple:\n",
        "  a, b = eval_(x[1]), eval_(x[2])\n",
        "  return eval_binary(ID(x), a, b)\n",
        "\n",
        "show(evaluate(Z(2) * Z(5)))\n",
        "show(evaluate(Z(2) * Q(2, 3)))"
      ],
      "metadata": {
        "id": "cUB1ZNj-MVjn",
        "colab": {
          "base_uri": "https://localhost:8080/",
          "height": 71
        },
        "outputId": "7506f257-dcbe-4e64-ad8e-0564d9fcaa00"
      },
      "execution_count": 436,
      "outputs": [
        {
          "output_type": "display_data",
          "data": {
            "text/plain": [
              "<IPython.core.display.Math object>"
            ],
            "text/latex": "$\\displaystyle 10$"
          },
          "metadata": {}
        },
        {
          "output_type": "display_data",
          "data": {
            "text/plain": [
              "<IPython.core.display.Math object>"
            ],
            "text/latex": "$\\displaystyle \\frac{4}{3}$"
          },
          "metadata": {}
        }
      ]
    },
    {
      "cell_type": "markdown",
      "source": [
        "* Реализуйте по этой же схеме оценивание операций вычитания и деления целых и рациональных чисел. Учтите, что при делении двух целых чисел может получиться целое число: $6/3 \\to 2$, а может - рациональное: $12/8$ $\\to \\frac{3}{2}$."
      ],
      "metadata": {
        "id": "IKKgJqdMMZCk"
      }
    },
    {
      "cell_type": "code",
      "source": [
        "# вычитание\n",
        "\n",
        "def sub_integer_integer(a: tuple, b: tuple) -> tuple:\n",
        "  n = options(a)['value']\n",
        "  m = options(b)['value']\n",
        "  return integer_(n - m)\n",
        "\n",
        "def sub_rational_rational(a: tuple, b: tuple) -> tuple:\n",
        "  na, ma = options(a)['num'], options(a)['denom']\n",
        "  nb, mb = options(b)['num'], options(b)['denom']\n",
        "  n, m = na * mb - nb * ma , ma * mb\n",
        "  return rational_(n, m)\n",
        "\n",
        "OPERATIONS |= {'sub': ['sub_integer_integer', 'sub_rational_rational']} # расширяем словарь OPERATIONS новым словарем\n",
        "\n",
        "def eval_sub(x: tuple) -> tuple:\n",
        "  a, b = eval_(x[1]), eval_(x[2])\n",
        "  return eval_binary(ID(x), a, b)\n",
        "\n",
        "show(evaluate(Z(2) - Q(2, 7)))"
      ],
      "metadata": {
        "id": "AMUb7GedMdWx",
        "colab": {
          "base_uri": "https://localhost:8080/",
          "height": 51
        },
        "outputId": "895d2340-4f26-4b11-d5cd-55e9910e360c"
      },
      "execution_count": 437,
      "outputs": [
        {
          "output_type": "display_data",
          "data": {
            "text/plain": [
              "<IPython.core.display.Math object>"
            ],
            "text/latex": "$\\displaystyle \\frac{12}{7}$"
          },
          "metadata": {}
        }
      ]
    },
    {
      "cell_type": "code",
      "source": [
        "# деление\n",
        "\n",
        "def div_integer_integer(a: tuple, b: tuple) -> tuple:\n",
        "  n = options(a)['value']\n",
        "  m = options(b)['value']\n",
        "  return rational_(n, m)\n",
        "\n",
        "def div_rational_rational(a: tuple, b: tuple) -> tuple:\n",
        "  na, ma = options(a)['num'], options(a)['denom']\n",
        "  nb, mb = options(b)['num'], options(b)['denom']\n",
        "  n, m = na * mb, ma * nb\n",
        "  return rational_(n, m)\n",
        "\n",
        "OPERATIONS |= {'div': ['div_integer_integer', 'div_rational_rational']} # расширяем словарь OPERATIONS новым словарем\n",
        "\n",
        "def eval_div(x: tuple) -> tuple:\n",
        "  a, b = eval_(x[1]), eval_(x[2])\n",
        "  return eval_binary(ID(x), a, b)\n",
        "\n",
        "show(evaluate(Z(6) / Z(3)))\n",
        "show(evaluate(Z(6) / Z(4)))\n",
        "show(evaluate(Q(5,12) / Q(10,81)))\n",
        "show(evaluate((Z(6) - Q(1, 2)) / Q(2, 3)))"
      ],
      "metadata": {
        "id": "R0auttoSMg99",
        "colab": {
          "base_uri": "https://localhost:8080/",
          "height": 139
        },
        "outputId": "ec6642ee-f8da-4da3-d296-af1a5beea240"
      },
      "execution_count": 438,
      "outputs": [
        {
          "output_type": "display_data",
          "data": {
            "text/plain": [
              "<IPython.core.display.Math object>"
            ],
            "text/latex": "$\\displaystyle {2}$"
          },
          "metadata": {}
        },
        {
          "output_type": "display_data",
          "data": {
            "text/plain": [
              "<IPython.core.display.Math object>"
            ],
            "text/latex": "$\\displaystyle \\frac{3}{2}$"
          },
          "metadata": {}
        },
        {
          "output_type": "display_data",
          "data": {
            "text/plain": [
              "<IPython.core.display.Math object>"
            ],
            "text/latex": "$\\displaystyle \\frac{27}{8}$"
          },
          "metadata": {}
        },
        {
          "output_type": "display_data",
          "data": {
            "text/plain": [
              "<IPython.core.display.Math object>"
            ],
            "text/latex": "$\\displaystyle \\frac{33}{4}$"
          },
          "metadata": {}
        }
      ]
    },
    {
      "cell_type": "markdown",
      "source": [
        "* Реализуйте оценивание операции возведения в целую степень: `Z(2) ** Z(3)` $\\to 8$, `Z(2) ** Z(-3)` $\\to \\frac{1}{8}$, `Q(2, 3) ** Z(-2)` $\\to \\frac{9}{4}$."
      ],
      "metadata": {
        "id": "u8AkutsWMjq4"
      }
    },
    {
      "cell_type": "code",
      "source": [
        "def deg_integer_integer(a: tuple, b: tuple) -> tuple:\n",
        "  n = options(a)['value']\n",
        "  m = options(b)['value']\n",
        "  if m >= 0:\n",
        "    return integer_(n ** m)\n",
        "  else:\n",
        "    return rational_(1, n ** abs(m))\n",
        "\n",
        "def deg_rational_integer(a: tuple, b: tuple) -> tuple:\n",
        "  na, ma = options(a)['num'], options(a)['denom']\n",
        "  nb = options(b)['value']\n",
        "  n, m = na ** abs(nb), ma ** abs(nb)\n",
        "  if nb >= 0:\n",
        "    return rational_(n, m)\n",
        "  else:\n",
        "    return rational_(m, n)\n",
        "\n",
        "OPERATIONS |= {'deg': ['deg_integer_integer', 'deg_rational_integer']} # расширяем словарь OPERATIONS новым словарем\n",
        "\n",
        "def eval_deg(x: tuple) -> tuple:\n",
        "  a, b = eval_(x[1]), eval_(x[2])\n",
        "  return eval_binary(ID(x), a, b)\n",
        "\n",
        "show(evaluate(Z(6) ** Z(3)))\n",
        "show(evaluate(Z(6) ** Z(-2)))\n",
        "show(evaluate(Q(2, 3) ** Z(-2)))"
      ],
      "metadata": {
        "id": "6_aNPfGSMmsw",
        "colab": {
          "base_uri": "https://localhost:8080/",
          "height": 105
        },
        "outputId": "deaa01bd-81cc-4487-ab47-1607b025f496"
      },
      "execution_count": 439,
      "outputs": [
        {
          "output_type": "display_data",
          "data": {
            "text/plain": [
              "<IPython.core.display.Math object>"
            ],
            "text/latex": "$\\displaystyle 216$"
          },
          "metadata": {}
        },
        {
          "output_type": "display_data",
          "data": {
            "text/plain": [
              "<IPython.core.display.Math object>"
            ],
            "text/latex": "$\\displaystyle \\frac{1}{36}$"
          },
          "metadata": {}
        },
        {
          "output_type": "display_data",
          "data": {
            "text/plain": [
              "<IPython.core.display.Math object>"
            ],
            "text/latex": "$\\displaystyle \\frac{9}{4}$"
          },
          "metadata": {}
        }
      ]
    },
    {
      "cell_type": "markdown",
      "source": [
        "* (бонусное задание) Реализуйте оценивание операции возведения в рациональную степень, при условии, что соответствующие корни могут быть извлечены: `Z(8) ** Q(1, 3)` $\\to 2$, `Q(4, 9) ** Q(-3, 2)` $\\to \\frac{27}{8}$. **Но** `Z(4) ** Q(1, 3)` $\\to 4^{\\frac{1}{3}}$  - операция не может быть оценена."
      ],
      "metadata": {
        "id": "5VslmOjEMqZl"
      }
    },
    {
      "cell_type": "code",
      "source": [
        "def deg_integer_rational(a: tuple, b: tuple) -> tuple:\n",
        "  n = options(a)['value']\n",
        "  nb, mb = options(b)['num'], options(b)['denom']\n",
        "  if (n ** (nb / mb)).is_integer():\n",
        "    return integer_(int(n ** (nb / mb)))\n",
        "  else:\n",
        "    return deg_(a, b)\n",
        "\n",
        "def deg_rational_rational(a: tuple, b: tuple) -> tuple:\n",
        "  na, ma = options(a)['num'], options(a)['denom']\n",
        "  nb, mb = options(b)['num'], options(b)['denom']\n",
        "  n, m = na ** abs(nb / mb), ma ** abs(nb / mb)\n",
        "  if n.is_integer() and m.is_integer():\n",
        "    if (nb >= 0):\n",
        "      return rational_(int(n), int(m))\n",
        "    else:\n",
        "      return rational_(int(m), int(n))\n",
        "  else:\n",
        "    return  deg_(a, b)\n",
        "\n",
        "OPERATIONS['deg'] = OPERATIONS['deg'] + ['deg_integer_rational', 'deg_rational_rational']\n",
        "\n",
        "show(evaluate(Z(25) ** Q(3, 2)))"
      ],
      "metadata": {
        "id": "2rFh-xZSMu01",
        "colab": {
          "base_uri": "https://localhost:8080/",
          "height": 37
        },
        "outputId": "ff4d75cf-fb8f-4104-926a-39c20846a8dd"
      },
      "execution_count": 440,
      "outputs": [
        {
          "output_type": "display_data",
          "data": {
            "text/plain": [
              "<IPython.core.display.Math object>"
            ],
            "text/latex": "$\\displaystyle 125$"
          },
          "metadata": {}
        }
      ]
    },
    {
      "cell_type": "markdown",
      "source": [
        "* (бонусное задание) Реализуйте по аналогичной схеме универсальный оцениватель унарных операций `eval_unary` и оцениватель операции `neg` (унарный минус) для целых и рациональных чисел.  "
      ],
      "metadata": {
        "id": "GFZNZlyJMxh3"
      }
    },
    {
      "cell_type": "code",
      "source": [
        "def eval_unary(op: str, x: tuple) -> tuple:\n",
        "  for fop in OPERATIONS[op]:\n",
        "    idx = fop.split('_')[1]\n",
        "    a = cast_(x, idx)\n",
        "    if ID(a) == idx:\n",
        "      cmd = eval(f\"{fop}\")\n",
        "      return cmd(a)\n",
        "  return op, x\n",
        "\n",
        "OPERATIONS |= {'neg': ['neg_integer', 'neg_rational']}\n",
        "\n",
        "def neg_integer(a: tuple) -> tuple:\n",
        "  n = options(a)['value']\n",
        "  return integer_((-1) * n)\n",
        "\n",
        "def neg_rational(a: tuple) -> tuple:\n",
        "  na, ma = options(a)['num'], options(a)['denom']\n",
        "  n, m = na * (-1), ma\n",
        "  return rational_(n, m)\n",
        "\n",
        "def eval_neg(x: tuple) -> tuple:\n",
        "  a = eval_(x[1])\n",
        "  return eval_unary(ID(x), a)\n",
        "show(evaluate(-Z(-15)))\n",
        "show(evaluate(-Q(13, 21)))"
      ],
      "metadata": {
        "colab": {
          "base_uri": "https://localhost:8080/",
          "height": 71
        },
        "id": "_kK0Byk7j9Hu",
        "outputId": "2b9f52ee-e98c-45a7-dd78-de792c005f4d"
      },
      "execution_count": 441,
      "outputs": [
        {
          "output_type": "display_data",
          "data": {
            "text/plain": [
              "<IPython.core.display.Math object>"
            ],
            "text/latex": "$\\displaystyle 15$"
          },
          "metadata": {}
        },
        {
          "output_type": "display_data",
          "data": {
            "text/plain": [
              "<IPython.core.display.Math object>"
            ],
            "text/latex": "$\\displaystyle -{\\frac{13}{21}}$"
          },
          "metadata": {}
        }
      ]
    },
    {
      "cell_type": "markdown",
      "source": [
        "# Часть 3"
      ],
      "metadata": {
        "id": "uShYDkB-kubR"
      }
    },
    {
      "cell_type": "markdown",
      "source": [
        "### Булева логика, константы, операции\n",
        "\n",
        "* Создаем тип данных для логических констант 1 (true) и 0 (false). Слово bool является ключевым в Python, поэтому используем длинный вариант boolean. Но идентификатор типа будет строка \"bool\".    "
      ],
      "metadata": {
        "id": "LeVwgR75lFTN"
      }
    },
    {
      "cell_type": "code",
      "source": [
        "def boolean_(x: bool) -> tuple:\n",
        "  x = 1 if x else 0\n",
        "  return 'bool', {'value': x}\n",
        "\n",
        "def boolean(x: bool) -> Expression:\n",
        "  return Expression(boolean_(x))"
      ],
      "metadata": {
        "id": "nIbsr5owlJUj"
      },
      "execution_count": 442,
      "outputs": []
    },
    {
      "cell_type": "markdown",
      "source": [
        "* Напишите функцию преобразования логических констант в формат LaTeX. Чтобы отличать логические 0 и 1 от соответствующих чисел, будем их изображать полужирным шрифтом (см. код этой вкладки): 0 $\\to \\mathbb{0}$, 1 $\\to \\mathbb{1}$"
      ],
      "metadata": {
        "id": "ZIykq_3IlQ0z"
      }
    },
    {
      "cell_type": "code",
      "source": [
        "def latex_bool(x: tuple) -> str:\n",
        "  a = options(x)['value']\n",
        "  return f\"\\\\mathbb{{{a}}}\"\n",
        "\n"
      ],
      "metadata": {
        "id": "pEDJIDuTlXwG"
      },
      "execution_count": 443,
      "outputs": []
    },
    {
      "cell_type": "markdown",
      "source": [
        "* Определяем логические константы I и O"
      ],
      "metadata": {
        "id": "w0yaSJrsotu_"
      }
    },
    {
      "cell_type": "code",
      "source": [
        "I, O = boolean(True), boolean(False)\n",
        "show(I + O)\n",
        "show(Z(1) + Z(0)) # для сравнения - числовые 0 и 1"
      ],
      "metadata": {
        "colab": {
          "base_uri": "https://localhost:8080/",
          "height": 58
        },
        "id": "F9WKyKcioro1",
        "outputId": "637e61a6-fb34-4cd9-c3b9-207489cf08a3"
      },
      "execution_count": 444,
      "outputs": [
        {
          "output_type": "display_data",
          "data": {
            "text/plain": [
              "<IPython.core.display.Math object>"
            ],
            "text/latex": "$\\displaystyle {\\mathbb{1}} + {\\mathbb{0}}$"
          },
          "metadata": {}
        },
        {
          "output_type": "display_data",
          "data": {
            "text/plain": [
              "<IPython.core.display.Math object>"
            ],
            "text/latex": "$\\displaystyle {1} + {0}$"
          },
          "metadata": {}
        }
      ]
    },
    {
      "cell_type": "markdown",
      "source": [
        "Напишите функции преобразования логических операций and, or, xor, inv в формат LaTeX (см. код этой вкладки):\n",
        "x∧y,x∨y,x⊕y,x¯¯¯.\n",
        "Убедитесь, что приоритет этих операций настроен правильно: (x | y) & x  →(x∨y)∧x . Вместо знака конъюнкции  ∧  можно использовать знак умножения  ⋅  (точку)."
      ],
      "metadata": {
        "id": "RywZq1Qio6ua"
      }
    },
    {
      "cell_type": "code",
      "source": [
        "def latex_and(x: tuple) -> str:\n",
        "  a, b = latex_(x[1]), latex_(x[2])\n",
        "  if Pr(x[1]) < Pr(x):\n",
        "    a = enclose(a)\n",
        "  if Pr(x[2]) <= Pr(x) or options(x[2]).get('value', 1) < 0 or ID(x[2]) == 'neg':\n",
        "    b = enclose(b)\n",
        "  return f\"{{{a}}} \\\\wedge {{{b}}}\"\n",
        "\n",
        "def latex_or(x: tuple) -> str:\n",
        "  a, b = latex_(x[1]), latex_(x[2])\n",
        "  if Pr(x[1]) < Pr(x):\n",
        "    a = enclose(a)\n",
        "  if Pr(x[2]) <= Pr(x) or options(x[2]).get('value', 1) < 0 or ID(x[2]) == 'neg':\n",
        "    b = enclose(b)\n",
        "  return f\"{{{a}}} \\\\vee {{{b}}}\"\n",
        "\n",
        "def latex_xor(x: tuple) -> str:\n",
        "  a, b = latex_(x[1]), latex_(x[2])\n",
        "  if Pr(x[1]) < Pr(x):\n",
        "    a = enclose(a)\n",
        "  if Pr(x[2]) <= Pr(x) or options(x[2]).get('value', 1) < 0 or ID(x[2]) == 'neg':\n",
        "    b = enclose(b)\n",
        "  return f\"{{{a}}} \\\\oplus {{{b}}}\"\n",
        "\n",
        "def latex_inv(x: tuple) -> str:\n",
        "  a = latex_(x[1])\n",
        "  if options(x[1]).get('value', 1) < 0 or ID(x[1]) == 'neg':\n",
        "    a = enclose(a)\n",
        "  return f\"\\\\overline{{{a}}}\""
      ],
      "metadata": {
        "id": "kVBal4kyo-pb"
      },
      "execution_count": 445,
      "outputs": []
    },
    {
      "cell_type": "markdown",
      "source": [
        "\n",
        "\n",
        "* Проверяем:"
      ],
      "metadata": {
        "id": "idnfMAk9qdpC"
      }
    },
    {
      "cell_type": "code",
      "source": [
        "x, y = symbol('x'), symbol('y')\n",
        "f = x & y ^ (O | ~x)\n",
        "show(f)\n",
        "drawGraph(f)"
      ],
      "metadata": {
        "colab": {
          "base_uri": "https://localhost:8080/",
          "height": 383
        },
        "id": "MfrfvL3YqeKn",
        "outputId": "89b48c56-c1e3-4c30-bfb4-50c97657549c"
      },
      "execution_count": 446,
      "outputs": [
        {
          "output_type": "display_data",
          "data": {
            "text/plain": [
              "<IPython.core.display.Math object>"
            ],
            "text/latex": "$\\displaystyle {{x} \\wedge {y}} \\oplus {\\left( {\\mathbb{0}} \\vee {\\overline{x}} \\right)}$"
          },
          "metadata": {}
        },
        {
          "output_type": "stream",
          "name": "stderr",
          "text": [
            "<ipython-input-414-1e3c6b446c2a>:24: DeprecationWarning: nx.nx_pydot.graphviz_layout depends on the pydot package, which has known issues and is not actively maintained. Consider using nx.nx_agraph.graphviz_layout instead.\n",
            "\n",
            "See https://github.com/networkx/networkx/issues/5723\n",
            "  pos = graphviz_layout(graph, prog=\"dot\")\n"
          ]
        },
        {
          "output_type": "display_data",
          "data": {
            "text/plain": [
              "<Figure size 300x300 with 1 Axes>"
            ],
            "image/png": "[encoded data removed]"
          },
          "metadata": {}
        }
      ]
    },
    {
      "cell_type": "markdown",
      "source": [
        "### Оценивание логических выражений\n",
        "\n",
        "* По аналогии с оценкой арифметических выражений напишите функции оценки всех четырех логических операций. Для оценки бинарных операций используйте написанную ранее функцию `eval_binary`, которая автоматически выполняет поиск нужного оценщика и проводит преобразование типов операндов."
      ],
      "metadata": {
        "id": "AYrZHnnutZFQ"
      }
    },
    {
      "cell_type": "code",
      "source": [
        "# добавляем \"оценщиков\" к словарю бинарных операций OPERATIONS\n",
        "OPERATIONS |= {'and': ['and_bool_bool'], 'or': ['or_bool_bool'], 'xor': ['xor_bool_bool']}\n",
        "\n",
        "def and_bool_bool(a: tuple, b: tuple) -> tuple:\n",
        "  n = options(a)['value']\n",
        "  m = options(b)['value']\n",
        "  return boolean_(n & m)\n",
        "\n",
        "def eval_and(x: tuple) -> tuple:\n",
        "  a, b = eval_(x[1]), eval_(x[2])\n",
        "  return eval_binary(ID(x), a, b)\n",
        "\n",
        "def or_bool_bool(a: tuple, b: tuple) -> tuple:\n",
        "  n = options(a)['value']\n",
        "  m = options(b)['value']\n",
        "  return boolean_(n | m)\n",
        "\n",
        "def eval_or(x: tuple) -> tuple:\n",
        "  a, b = eval_(x[1]), eval_(x[2])\n",
        "  return eval_binary(ID(x), a, b)\n",
        "\n",
        "def xor_bool_bool(a: tuple, b: tuple) -> tuple:\n",
        "  n = options(a)['value']\n",
        "  m = options(b)['value']\n",
        "  return boolean_(n ^ m)\n",
        "\n",
        "def eval_xor(x: tuple) -> tuple:\n",
        "  a, b = eval_(x[1]), eval_(x[2])\n",
        "  return eval_binary(ID(x), a, b)"
      ],
      "metadata": {
        "id": "QS6UFlm1tbTl"
      },
      "execution_count": 447,
      "outputs": []
    },
    {
      "cell_type": "markdown",
      "source": [
        "* Напишите оцениватель логического отрицания, операция унарная, поэтому все оценивание выполняется внутри одной функции"
      ],
      "metadata": {
        "id": "hycLOVScjBLg"
      }
    },
    {
      "cell_type": "code",
      "source": [
        "def eval_inv(x: tuple) -> tuple:\n",
        "  a = eval_(x[1])\n",
        "  n = options(a)['value']\n",
        "  return boolean_(not n)"
      ],
      "metadata": {
        "id": "7snHsrbhjHCe"
      },
      "execution_count": 448,
      "outputs": []
    },
    {
      "cell_type": "markdown",
      "source": [
        "* Проверяем:"
      ],
      "metadata": {
        "id": "oeLRZnSJk5Qf"
      }
    },
    {
      "cell_type": "code",
      "source": [
        "f = (~I | I) ^ (O & I)\n",
        "show(f)\n",
        "show(evaluate(f))"
      ],
      "metadata": {
        "colab": {
          "base_uri": "https://localhost:8080/",
          "height": 59
        },
        "id": "Ftkt90qqk7CT",
        "outputId": "214fd45f-74f5-46af-b39c-afbb639629a8"
      },
      "execution_count": 449,
      "outputs": [
        {
          "output_type": "display_data",
          "data": {
            "text/plain": [
              "<IPython.core.display.Math object>"
            ],
            "text/latex": "$\\displaystyle {\\left( {\\overline{\\mathbb{1}}} \\vee {\\mathbb{1}} \\right)} \\oplus {{\\mathbb{0}} \\wedge {\\mathbb{1}}}$"
          },
          "metadata": {}
        },
        {
          "output_type": "display_data",
          "data": {
            "text/plain": [
              "<IPython.core.display.Math object>"
            ],
            "text/latex": "$\\displaystyle \\mathbb{1}$"
          },
          "metadata": {}
        }
      ]
    },
    {
      "cell_type": "markdown",
      "source": [
        "* Напишите функцию `cast_integer_bool` для преобразования целых чисел в логические константы (как в языках C/C++): ноль преобразуется в логический ноль, все остальные числа - в логическую единицу"
      ],
      "metadata": {
        "id": "d6EGRQz0mGiG"
      }
    },
    {
      "cell_type": "code",
      "source": [
        "def cast_integer_bool(x: tuple) -> tuple:\n",
        "    m = options(x)['value']\n",
        "    return boolean_(m)\n",
        "\n",
        "f = Z(2) ^ Z(1) | Z(10)\n",
        "show(f)\n",
        "show(evaluate(f))"
      ],
      "metadata": {
        "colab": {
          "base_uri": "https://localhost:8080/",
          "height": 58
        },
        "id": "ZWHxrUTbmJsS",
        "outputId": "3df8a3d3-3c8e-468b-c55f-a555a5a2e341"
      },
      "execution_count": 450,
      "outputs": [
        {
          "output_type": "display_data",
          "data": {
            "text/plain": [
              "<IPython.core.display.Math object>"
            ],
            "text/latex": "$\\displaystyle {{2} \\oplus {1}} \\vee {10}$"
          },
          "metadata": {}
        },
        {
          "output_type": "display_data",
          "data": {
            "text/plain": [
              "<IPython.core.display.Math object>"
            ],
            "text/latex": "$\\displaystyle \\mathbb{1}$"
          },
          "metadata": {}
        }
      ]
    },
    {
      "cell_type": "markdown",
      "source": [
        "### Таблицы истинности\n",
        "\n",
        "* Для построения таблицы истинности заданного логического выражения нам потребуется выполнять многократные подстановки в этом выражении каких-то значений вместо имен переменных. Напишем универсальную функцию подстановки `subs` (от английского substitute). Головная `subs` принимает на вход выражение `F` и словарь `V`, ключами в котором являются имена заменяемых переменных, а значениями - выражения, на которые эти переменные будут меняться (см. пример ниже).\n",
        "\n",
        "* **ВАЖНО!!!** Чтобы объекты типа `Expression` можно было использовать в качестве ключей словаря, они должны быть *хешируемыми*. Т.к. мы переопределили операцию равенство (метод `__eq__` класса `Expression`), то класс стал нехешируемым. Чтобы исправить ситуацию, надо вручную добавить к **вашему определению** класса `Expression` метод `__hash__`, который преобразует наше списочное выражение в строку и вычисляет хеш от полученной строки:\n",
        "\n",
        "```\n",
        "class Expression:\n",
        "  ...\n",
        "\n",
        "  def __hash__(self):\n",
        "    return hash(str(self.T))\n",
        "```"
      ],
      "metadata": {
        "id": "Zjzl6ZaKnKhz"
      }
    },
    {
      "cell_type": "code",
      "source": [
        "def subs(F: Expression, V: dict) -> Expression:\n",
        "  # преобразуем словарь V в списочную форму v\n",
        "  v = {options(k.T)['name']: fix(V[k]).T for k in V}\n",
        "  # вызываем списочную функцию подстановки\n",
        "  return Expression(subs_(F.T, v))\n",
        "\n",
        "def subs_(F: tuple, V: dict) -> tuple:\n",
        "  # рекурсивная функция\n",
        "  # если узел - переменная, ищем ее в словаре\n",
        "  if ID(F) == 'symbol':\n",
        "    n = options(F)['name']\n",
        "    if n in V:\n",
        "      # если переменная есть в словаре, то заменяем ее на соответствующее значение\n",
        "      return V[n]\n",
        "    else:\n",
        "      # иначе оставляем как есть\n",
        "      return F\n",
        "  # если узел - не переменная, то рекурсивно вызываем ту же функцию для всех дочерних узлов\n",
        "  A = [subs_(a, V) for a in items(F)]\n",
        "  # и возвращаем такой же узел, но с обновленными дочерними поддеревьями\n",
        "  return ID(F), *A, options(F)\n",
        "\n",
        "# проверяем\n",
        "\n",
        "x, y = symbol('x'), symbol('y')\n",
        "f = x * y\n",
        "show(f)\n",
        "g = subs(f, {x: 1 + y ** 2})\n",
        "show(g)"
      ],
      "metadata": {
        "colab": {
          "base_uri": "https://localhost:8080/",
          "height": 61
        },
        "id": "fatsOCODnOIa",
        "outputId": "0f3f357c-f280-4c1a-81c4-6e3ae062308d"
      },
      "execution_count": 451,
      "outputs": [
        {
          "output_type": "display_data",
          "data": {
            "text/plain": [
              "<IPython.core.display.Math object>"
            ],
            "text/latex": "$\\displaystyle {x} \\cdot {y}$"
          },
          "metadata": {}
        },
        {
          "output_type": "display_data",
          "data": {
            "text/plain": [
              "<IPython.core.display.Math object>"
            ],
            "text/latex": "$\\displaystyle {\\left( {1} + {{y}^{2}} \\right)} \\cdot {y}$"
          },
          "metadata": {}
        }
      ]
    },
    {
      "cell_type": "markdown",
      "source": [
        "* Пишем функцию `makeTable(F: Expression, V: list)` для преобразования заданного логического выражения в таблицу истинности. По числу переменных вычисляем высоту таблицы, делаем цикл по ее строкам. Номер строки представляем в двоичной форме, каждая цифра этого представления подставляется вместо соответствующей переменной в исходное выражение. Полученное константное выражение оценивается и преобразуется в 0 или 1. Из значений переменных и вычисленного значения выражения формируется строка таблицы, например, `000|1`. Выходом функции является список всех строк искомой таблицы истинности."
      ],
      "metadata": {
        "id": "A_p8wb6joxLJ"
      }
    },
    {
      "cell_type": "code",
      "source": [
        "def makeTable(F: Expression, V: list) -> list:\n",
        "  n = len(V) # число переменных, определяет высоту таблицы (2^n)\n",
        "  table = [] # список строк\n",
        "  for i in range(2 ** n): # цикл по строкам таблицы истинности\n",
        "    A = ('0' * n + bin(i)[2:])[-n:] # преобразование номера строки в двоичное число в n разрядах, как это работает?\n",
        "    S = {x: boolean(int(a)) for x, a in zip(V, A)} # словарь для замены\n",
        "    f = options(evaluate(subs(F, S)).T)['value'] # замена + оценивание + преобразование в цифру 0 или 1\n",
        "    table.append(f\"{A}|{f}\") # добавляем строку к таблице\n",
        "  return table"
      ],
      "metadata": {
        "id": "NjB_zi7WozuX"
      },
      "execution_count": 452,
      "outputs": []
    },
    {
      "cell_type": "markdown",
      "source": [
        "* Напишите функцию `boolTable(F: Expression, V: list) -> None`, которая бы строила таблицу истинности выражения `F` и выводила ее на экран. Например, вызов `boolTable(x ^ y ^ ~z, [x, y, z])` должен печатать следующую таблицу:\n",
        "\n",
        "```\n",
        "000|1\n",
        "001|0\n",
        "010|0\n",
        "011|1\n",
        "100|0\n",
        "101|1\n",
        "110|1\n",
        "111|0\n",
        "```"
      ],
      "metadata": {
        "id": "OJ7PCD8qo8l1"
      }
    },
    {
      "cell_type": "code",
      "source": [
        "def boolTable(F: Expression, V: list) -> None:\n",
        "  m = makeTable(F, V)\n",
        "  print(*m, sep=\"\\n\")\n",
        "\n",
        "x, y, z = symbol('x'), symbol('y'), symbol('z')\n",
        "f = x ^ y ^ ~z\n",
        "show(f)\n",
        "boolTable(f, [x, y, z])"
      ],
      "metadata": {
        "colab": {
          "base_uri": "https://localhost:8080/",
          "height": 185
        },
        "id": "ypbryWmopA4X",
        "outputId": "c4d2f86f-51b5-4bf2-f662-52a3acd81baf"
      },
      "execution_count": 453,
      "outputs": [
        {
          "output_type": "display_data",
          "data": {
            "text/plain": [
              "<IPython.core.display.Math object>"
            ],
            "text/latex": "$\\displaystyle {{x} \\oplus {y}} \\oplus {\\overline{z}}$"
          },
          "metadata": {}
        },
        {
          "output_type": "stream",
          "name": "stdout",
          "text": [
            "000|1\n",
            "001|0\n",
            "010|0\n",
            "011|1\n",
            "100|0\n",
            "101|1\n",
            "110|1\n",
            "111|0\n"
          ]
        }
      ]
    },
    {
      "cell_type": "markdown",
      "source": [
        "* (бонусное задание) напишите рекурсивную функцию `getVariables(F: Expression) -> list`, которая бы составляла список всех переменных, входящих в заданное выражение. Модифицируйте функцию `makeTable`, чтобы она принимала на вход только выражение, а список переменных составлялся бы автоматически."
      ],
      "metadata": {
        "id": "QDWK1mPiq1Rz"
      }
    },
    {
      "cell_type": "code",
      "source": [
        "def getVariables(F: Expression) -> list:\n",
        "  if ID(F.T) == 'symbol':\n",
        "    return [F]\n",
        "  V = []\n",
        "  for i in items(F.T):\n",
        "    V.extend(getVariables(Expression(i)))\n",
        "  return V\n",
        "\n",
        "def makeTable(F: Expression) -> list:\n",
        "  V = getVariables(F)\n",
        "  n = len(V) # число переменных, определяет высоту таблицы (2^n)\n",
        "  table = [] # список строк\n",
        "  for i in range(2 ** n): # цикл по строкам таблицы истинности\n",
        "    A = ('0' * n + bin(i)[2:])[-n:] # преобразование номера строки в двоичное число в n разрядах, как это работает?\n",
        "    S = {x: boolean(int(a)) for x, a in zip(V, A)} # словарь для замены\n",
        "    f = options(evaluate(subs(F, S)).T)['value'] # замена + оценивание + преобразование в цифру 0 или 1\n",
        "    table.append(f\"{A}|{f}\") # добавляем строку к таблице\n",
        "  return table\n",
        "\n",
        "def boolTable(F: Expression) -> list:\n",
        "  table = makeTable(F)\n",
        "  for i in range(len(table)):\n",
        "    print(table[i])\n",
        "\n",
        "x, y, z = symbol('x'), symbol('y'), symbol('z')\n",
        "f = x ^ y ^ ~z\n",
        "show(f)\n",
        "boolTable(f)"
      ],
      "metadata": {
        "id": "3XbjvGazq79a",
        "colab": {
          "base_uri": "https://localhost:8080/",
          "height": 185
        },
        "outputId": "aa7146bd-4710-493c-bace-c0b41b58f163"
      },
      "execution_count": 454,
      "outputs": [
        {
          "output_type": "display_data",
          "data": {
            "text/plain": [
              "<IPython.core.display.Math object>"
            ],
            "text/latex": "$\\displaystyle {{x} \\oplus {y}} \\oplus {\\overline{z}}$"
          },
          "metadata": {}
        },
        {
          "output_type": "stream",
          "name": "stdout",
          "text": [
            "000|1\n",
            "001|0\n",
            "010|0\n",
            "011|1\n",
            "100|0\n",
            "101|1\n",
            "110|1\n",
            "111|0\n"
          ]
        }
      ]
    },
    {
      "cell_type": "markdown",
      "source": [
        "### СДНФ\n",
        "\n",
        "* Напишите функцию `DNF(V: list, F: str) -> Expression`, которая строит по заданному списку переменных `V` и заданному столбцу таблицы истинности `F` СДНФ. Если все значения в `F` равны нулю, функция должна возвращать логический ноль. Примеры: `DNF([x, y], '0110')` $\\to \\overline{x} \\cdot y \\vee x \\cdot \\overline{y}$, `DNF([x, y], '0110')` $\\to \\mathbf{0}$. Для получения списка значений переменных в строке таблицы с номером `i` используйте аналогичное преобразование из функции `makeTable` (пятая строка кода)."
      ],
      "metadata": {
        "id": "Lkz9qKfLq6gB"
      }
    },
    {
      "cell_type": "code",
      "source": [
        "from numpy.lib.function_base import kaiser\n",
        "def DNF(V: list, F: str) -> Expression:\n",
        "\n",
        "  if '1' not in F:\n",
        "    return '0'\n",
        "\n",
        "  ind = F.find('1')\n",
        "  table = ('0' * len(V) + bin(ind)[2:])[-len(V):]\n",
        "  if table[0] == '0':\n",
        "    result = ~V[0]\n",
        "  else:\n",
        "    result = V[0]\n",
        "\n",
        "  for i in range(1, len(V)):\n",
        "    if table[i] == '0':\n",
        "      result *= ~V[i]\n",
        "    else:\n",
        "      result *= V[i]\n",
        "\n",
        "  for i in range(ind + 1 , 2 ** len(V)):\n",
        "    if F[i] == '1':\n",
        "      table = ('0' * len(V) + bin(i)[2:])[-len(V):]\n",
        "      if table[0] == '1':\n",
        "        k = V[0]\n",
        "      else:\n",
        "        k = ~V[0]\n",
        "      for j in range(1, len(V)):\n",
        "        if table[j] == '0':\n",
        "          k *= ~V[j]\n",
        "        else:\n",
        "          k *= V[j]\n",
        "      result |= k\n",
        "  return result\n",
        "\n",
        "x, y = symbol('x'), symbol('y')\n",
        "f = DNF([x, y], '0110')\n",
        "show(f)"
      ],
      "metadata": {
        "colab": {
          "base_uri": "https://localhost:8080/",
          "height": 39
        },
        "id": "5PVNoCEDrBXY",
        "outputId": "80279643-178b-4dd6-c52b-49012257a0a6"
      },
      "execution_count": 455,
      "outputs": [
        {
          "output_type": "display_data",
          "data": {
            "text/plain": [
              "<IPython.core.display.Math object>"
            ],
            "text/latex": "$\\displaystyle {{\\overline{x}} \\cdot {y}} \\vee {{x} \\cdot {\\overline{y}}}$"
          },
          "metadata": {}
        }
      ]
    },
    {
      "cell_type": "markdown",
      "source": [
        "* (бонусное задание) Напишите аналогичную функцию `CNF(V: list, F: str) -> Expression`для построения СКНФ по заданной таблице истинности. Принцип двойственности: конъюнкции заменяются на дизъюнкции и наоборот, логический 0 заменяется на 1 и наоборот. Пример: `CNF([x, y], '0110')` $\\to \\left( x \\vee y \\right) \\cdot \\left( \\overline{x} \\vee \\overline{y} \\right)$"
      ],
      "metadata": {
        "id": "GZD3FtN3rEjz"
      }
    },
    {
      "cell_type": "code",
      "source": [
        "def CNF(V: list, F: str) -> Expression:\n",
        "\n",
        "  if '0' not in F:\n",
        "    return '0'\n",
        "\n",
        "  ind = F.find('0')\n",
        "  table = ('0' * len(V) + bin(ind)[2:])[-len(V):]\n",
        "  if table[0] == '0':\n",
        "    result = V[0]\n",
        "  else:\n",
        "    result = ~V[0]\n",
        "\n",
        "  for i in range(1, len(V)):\n",
        "    if table[i] == '0':\n",
        "      result |= V[i]\n",
        "    else:\n",
        "      result |= ~V[i]\n",
        "\n",
        "  for i in range(ind + 1 , 2 ** len(V)):\n",
        "    if F[i] == '0':\n",
        "      table = ('0' * len(V) + bin(i)[2:])[-len(V):]\n",
        "      if table[0] == '1':\n",
        "        k = ~V[0]\n",
        "      else:\n",
        "        k = V[0]\n",
        "      for j in range(1, len(V)):\n",
        "        if table[j] == '1':\n",
        "          k |= ~V[j]\n",
        "        else:\n",
        "          k |= V[j]\n",
        "      result *= k\n",
        "  return result\n",
        "\n",
        "x, y = symbol('x'), symbol('y')\n",
        "f = CNF([x, y], '0110')\n",
        "show(f)"
      ],
      "metadata": {
        "id": "tBzDPEM7rH5u",
        "colab": {
          "base_uri": "https://localhost:8080/",
          "height": 39
        },
        "outputId": "ff16011c-62c1-4bd5-f43d-fd7fa6d3807f"
      },
      "execution_count": 456,
      "outputs": [
        {
          "output_type": "display_data",
          "data": {
            "text/plain": [
              "<IPython.core.display.Math object>"
            ],
            "text/latex": "$\\displaystyle {\\left( {x} \\vee {y} \\right)} \\cdot {\\left( {\\overline{x}} \\vee {\\overline{y}} \\right)}$"
          },
          "metadata": {}
        }
      ]
    },
    {
      "cell_type": "markdown",
      "source": [
        "* (бонусное задание) Напишите функцию `ZP(V: list, F: str) -> Expression`, преобразующую заданную таблицу истинности в полином Жегалкина. Пример: `ZP([x, y], '1110')` $\\to \\mathbf{1} \\oplus x \\cdot y$"
      ],
      "metadata": {
        "id": "48fdGNcirLmA"
      }
    },
    {
      "cell_type": "code",
      "source": [
        "def ZP(V: list, F: str) -> Expression:\n",
        "  ...\n",
        "\n",
        "x, y = symbol('x'), symbol('y')\n",
        "f = ZP([x, y], '1110')\n"
      ],
      "metadata": {
        "id": "Q1w3t2bNrOvX"
      },
      "execution_count": 457,
      "outputs": []
    },
    {
      "cell_type": "markdown",
      "source": [
        "### Неравенства\n",
        "\n",
        "* Напишите набор функций для представления операций сравнения ($x=y$, $x\\ne y$, $x\\lt y$, $x\\le y$, $x \\gt y$, $x \\ge y$). Примеры:\n",
        " * `show(x != y)` $\\to x \\ne y$\n",
        " * `show(Z(1) < Z(2))` $\\to 1 \\lt 2$\n",
        " * `show((Z(1) < Z(2)) & (Z(4) >= Z(5)))` $\\to (1 \\lt 2) \\wedge (4 \\ge 5) $"
      ],
      "metadata": {
        "id": "zOcE9ENzrRwO"
      }
    },
    {
      "cell_type": "code",
      "source": [
        "def latex_and(x: tuple) -> str:\n",
        "  a, b = latex_(x[1]), latex_(x[2])\n",
        "  if Pr(x[1]) < Pr(x):\n",
        "    a = enclose(a)\n",
        "  if Pr(x[2]) <= Pr(x) or options(x[2]).get('value', 1) < 0 or ID(x[2]) == 'neg':\n",
        "    b = enclose(b)\n",
        "  return f\"{{{a}}} \\\\wedge {{{b}}}\"\n",
        "\n",
        "x, y = symbol('x'), symbol('y')\n",
        "show(x != y)\n",
        "show(Z(1) < Z(2))\n",
        "show((Z(1) < Z(2)) & (Z(4) >= Z(5)))"
      ],
      "metadata": {
        "id": "BMyXmPuWrVoK",
        "colab": {
          "base_uri": "https://localhost:8080/",
          "height": 80
        },
        "outputId": "8d6c5178-e0b0-4258-8a54-b59031d32095"
      },
      "execution_count": 458,
      "outputs": [
        {
          "output_type": "display_data",
          "data": {
            "text/plain": [
              "<IPython.core.display.Math object>"
            ],
            "text/latex": "$\\displaystyle {x} \\neq {y}$"
          },
          "metadata": {}
        },
        {
          "output_type": "display_data",
          "data": {
            "text/plain": [
              "<IPython.core.display.Math object>"
            ],
            "text/latex": "$\\displaystyle {1} < {2}$"
          },
          "metadata": {}
        },
        {
          "output_type": "display_data",
          "data": {
            "text/plain": [
              "<IPython.core.display.Math object>"
            ],
            "text/latex": "$\\displaystyle {\\left( {1} < {2} \\right)} \\wedge {\\left( {4} \\geq {5} \\right)}$"
          },
          "metadata": {}
        }
      ]
    },
    {
      "cell_type": "markdown",
      "source": [
        "* Напишите набор функций для оценивания операций сравнения целых и рациональных чисел. Результат оценивания - логическая константа. Примеры:\n",
        " * `show(evaluate(Z(1) < Z(2)))` $\\to \\mathbb{1}$\n",
        " * `show(evaluate((Z(1) < Z(2)) & (Z(4) >= Z(5))))` $\\to \\mathbb{0}$"
      ],
      "metadata": {
        "id": "_SpsjMpOrZcV"
      }
    },
    {
      "cell_type": "code",
      "source": [
        "OPERATIONS |= {'eq': ['eq_integer_integer', 'eq_rational_rational'], 'nq': ['nq_integer_integer', 'nq_rational_rational'],\n",
        "               'lt': ['lt_integer_integer', 'lt_rational_rational'], 'le': ['le_integer_integer', 'le_rational_rational'],\n",
        "               'gt': ['gt_integer_integer', 'gt_rational_rational'], 'ge': ['ge_integer_integer', 'ge_rational_rational']}\n",
        "\n",
        "def eq_integer_integer(a: tuple, b: tuple) -> tuple:\n",
        "  n = options(a)['value']\n",
        "  m = options(b)['value']\n",
        "  return boolean_(n == m)\n",
        "\n",
        "def eq_rational_rational(a: tuple, b: tuple) -> tuple:\n",
        "  na, ma = options(a)['num'], options(a)['denom']\n",
        "  nb, mb = options(b)['num'], options(b)['denom']\n",
        "  n, m = na * nb, ma * mb\n",
        "  return boolean_(na/ma == nb/mb)\n",
        "\n",
        "def eval_eq(x: tuple) -> tuple:\n",
        "  a, b = eval_(x[1]), eval_(x[2])\n",
        "  return eval_binary(ID(x), a, b)\n",
        "\n",
        "def nq_integer_integer(a: tuple, b: tuple) -> tuple:\n",
        "  n = options(a)['value']\n",
        "  m = options(b)['value']\n",
        "  return boolean_(n != m)\n",
        "\n",
        "def nq_rational_rational(a: tuple, b: tuple) -> tuple:\n",
        "  na, ma = options(a)['num'], options(a)['denom']\n",
        "  nb, mb = options(b)['num'], options(b)['denom']\n",
        "  n, m = na * nb, ma * mb\n",
        "  return boolean_(na/ma != nb/mb)\n",
        "\n",
        "def eval_nq(x: tuple) -> tuple:\n",
        "  a, b = eval_(x[1]), eval_(x[2])\n",
        "  return eval_binary(ID(x), a, b)\n",
        "\n",
        "def lt_integer_integer(a: tuple, b: tuple) -> tuple:\n",
        "  n = options(a)['value']\n",
        "  m = options(b)['value']\n",
        "  return boolean_(n < m)\n",
        "\n",
        "def lt_rational_rational(a: tuple, b: tuple) -> tuple:\n",
        "  na, ma = options(a)['num'], options(a)['denom']\n",
        "  nb, mb = options(b)['num'], options(b)['denom']\n",
        "  n, m = na * nb, ma * mb\n",
        "  return boolean_(na/ma < nb/mb)\n",
        "\n",
        "def eval_lt(x: tuple) -> tuple:\n",
        "  a, b = eval_(x[1]), eval_(x[2])\n",
        "  return eval_binary(ID(x), a, b)\n",
        "\n",
        "def le_integer_integer(a: tuple, b: tuple) -> tuple:\n",
        "  n = options(a)['value']\n",
        "  m = options(b)['value']\n",
        "  return boolean_(n <= m)\n",
        "\n",
        "def le_rational_rational(a: tuple, b: tuple) -> tuple:\n",
        "  na, ma = options(a)['num'], options(a)['denom']\n",
        "  nb, mb = options(b)['num'], options(b)['denom']\n",
        "  n, m = na * nb, ma * mb\n",
        "  return boolean_(na/ma <= nb/mb)\n",
        "\n",
        "def eval_le(x: tuple) -> tuple:\n",
        "  a, b = eval_(x[1]), eval_(x[2])\n",
        "  return eval_binary(ID(x), a, b)\n",
        "\n",
        "def gt_integer_integer(a: tuple, b: tuple) -> tuple:\n",
        "  n = options(a)['value']\n",
        "  m = options(b)['value']\n",
        "  return boolean_(n > m)\n",
        "\n",
        "def gt_rational_rational(a: tuple, b: tuple) -> tuple:\n",
        "  na, ma = options(a)['num'], options(a)['denom']\n",
        "  nb, mb = options(b)['num'], options(b)['denom']\n",
        "  n, m = na * nb, ma * mb\n",
        "  return boolean_(na/ma > nb/mb)\n",
        "\n",
        "def eval_gt(x: tuple) -> tuple:\n",
        "  a, b = eval_(x[1]), eval_(x[2])\n",
        "  return eval_binary(ID(x), a, b)\n",
        "\n",
        "def ge_integer_integer(a: tuple, b: tuple) -> tuple:\n",
        "  n = options(a)['value']\n",
        "  m = options(b)['value']\n",
        "  return boolean_(n >= m)\n",
        "\n",
        "def ge_rational_rational(a: tuple, b: tuple) -> tuple:\n",
        "  na, ma = options(a)['num'], options(a)['denom']\n",
        "  nb, mb = options(b)['num'], options(b)['denom']\n",
        "  n, m = na * nb, ma * mb\n",
        "  return boolean_(na/ma >= nb/mb)\n",
        "\n",
        "def eval_ge(x: tuple) -> tuple:\n",
        "  a, b = eval_(x[1]), eval_(x[2])\n",
        "  return eval_binary(ID(x), a, b)\n",
        "\n",
        "show(evaluate(Z(1) < Z(2)))\n",
        "show(evaluate((Z(1) < Z(2)) & (Z(4) >= Z(5))))"
      ],
      "metadata": {
        "id": "miy7vaplrcJY",
        "colab": {
          "base_uri": "https://localhost:8080/",
          "height": 58
        },
        "outputId": "e5884611-fae0-4b0e-ccaa-ac28ef09c461"
      },
      "execution_count": 459,
      "outputs": [
        {
          "output_type": "display_data",
          "data": {
            "text/plain": [
              "<IPython.core.display.Math object>"
            ],
            "text/latex": "$\\displaystyle \\mathbb{1}$"
          },
          "metadata": {}
        },
        {
          "output_type": "display_data",
          "data": {
            "text/plain": [
              "<IPython.core.display.Math object>"
            ],
            "text/latex": "$\\displaystyle \\mathbb{0}$"
          },
          "metadata": {}
        }
      ]
    },
    {
      "cell_type": "markdown",
      "source": [
        "### Селекторы (бонусное задание)\n",
        "\n",
        "Выражение-селектор представляет собой последовательность пар (условие, выражение) и служит для выбора первого выражения, для которого выполняется соответствующее условие. Пример использования селекторов:\n",
        "$$|x| = \\cases{x,\\,\\mbox{ if } x \\ge 0,\\\\ -x, \\,\\mbox{ if } x \\lt 0.}$$\n",
        "Или в сокращенном варианте (последнее выражение используется без условия, вариант команды else):\n",
        "$$\\mathrm{sign}(x) = \\cases{1, \\,\\mbox{ if } x \\gt 0,\\\\ 0,\\,\\mbox{ if } x = 0,\\\\ -1\\,\\mbox{ else}.}$$\n",
        "\n",
        "* Функция `select_(*args)` создает списочное выражение-селектор для заданной последовательности нечетного числа аргументов: выражение_0, условие_0, выражение_1, условие_1, ..., выражение_n.\n",
        "* Функция `select(*args)` создает аналогичное выражение-селектор типа `Expression`.\n",
        "* Функция `latex_select` преобразует выражение в формат LaTeX (в линейной форме!)"
      ],
      "metadata": {
        "id": "AYNA1QHjrgtA"
      }
    },
    {
      "cell_type": "code",
      "source": [
        "def select_(*args) -> tuple:\n",
        "  return 'select', *args, {}\n",
        "\n",
        "def select(*args) -> Expression:\n",
        "  A = [fix(a).T for a in args]\n",
        "  return Expression(select_(*A))\n",
        "\n",
        "def latex_select(x: tuple) -> str:\n",
        "  A = [latex_(a) for a in items(x)]\n",
        "  s = \"\"\n",
        "  for i in range(len(A) // 2):\n",
        "    s += f\"{{{A[2 * i]}}} \\\\mathbf{{\\\\,if\\\\,}} {{{A[2 * i + 1]}}};\"\n",
        "  s += f\"{{{A[-1]}}} \\\\mathbf{{\\\\,else}}\"\n",
        "  return f\"\\\\left[{s}\\\\right]\"\n",
        "\n",
        "x = symbol('x')\n",
        "f = select(Z(1), x > 0, Z(0), x == 0, Z(-1))\n",
        "show(f)"
      ],
      "metadata": {
        "id": "FNXagQQHrw11",
        "colab": {
          "base_uri": "https://localhost:8080/",
          "height": 39
        },
        "outputId": "f1690006-1406-4bdb-96df-e1c97a00f235"
      },
      "execution_count": 460,
      "outputs": [
        {
          "output_type": "display_data",
          "data": {
            "text/plain": [
              "<IPython.core.display.Math object>"
            ],
            "text/latex": "$\\displaystyle \\left[{1} \\mathbf{\\,if\\,} {{x} > {0}};{0} \\mathbf{\\,if\\,} {{x} = {0}};{-1} \\mathbf{\\,else}\\right]$"
          },
          "metadata": {}
        }
      ]
    },
    {
      "cell_type": "markdown",
      "source": [
        "* Напишите функцию `eval_select(x: tuple)` для оценивания выражений-селекторов. Пример для выражения `f` из предудыщей вкладки: `evaluate(subs(f, {x: Z(-100)}))` $\\to -1$.\n"
      ],
      "metadata": {
        "id": "XaIY9ft2r0LO"
      }
    },
    {
      "cell_type": "code",
      "source": [
        "def eval_select(x: tuple) -> tuple:\n",
        "  itms = items(x)\n",
        "  for i in range(1, len(itms), 2):\n",
        "    if eval_(itms[i]) == boolean_(1):\n",
        "      return eval_(itms[i-1])\n",
        "  return eval_(itms[-1])\n",
        "\n",
        "show(evaluate(subs(f, {x: Z(3)})))\n",
        "show(evaluate(subs(f, {x: Z(-100)})))\n",
        "show(evaluate(subs(f, {x: Z(0)})))"
      ],
      "metadata": {
        "id": "iZJZ1Zs2r3z9",
        "colab": {
          "base_uri": "https://localhost:8080/",
          "height": 78
        },
        "outputId": "7a4e7cf4-4d9c-498c-ac7e-ebb1afc986b8"
      },
      "execution_count": 461,
      "outputs": [
        {
          "output_type": "display_data",
          "data": {
            "text/plain": [
              "<IPython.core.display.Math object>"
            ],
            "text/latex": "$\\displaystyle 1$"
          },
          "metadata": {}
        },
        {
          "output_type": "display_data",
          "data": {
            "text/plain": [
              "<IPython.core.display.Math object>"
            ],
            "text/latex": "$\\displaystyle -1$"
          },
          "metadata": {}
        },
        {
          "output_type": "display_data",
          "data": {
            "text/plain": [
              "<IPython.core.display.Math object>"
            ],
            "text/latex": "$\\displaystyle 0$"
          },
          "metadata": {}
        }
      ]
    },
    {
      "cell_type": "markdown",
      "source": [
        "### Множества\n",
        "\n",
        "* Реализуем конечные множества (конструктор, конструктор списочный, преобразование в LaTeX, оценка). Оценка множества - оценивание каждого элемента множества."
      ],
      "metadata": {
        "id": "Qt-J7U28r6pH"
      }
    },
    {
      "cell_type": "code",
      "source": [
        "def fset_(*args) -> tuple:\n",
        "  return 'fset', *args, {}\n",
        "\n",
        "def fset(*args) -> Expression:\n",
        "  A = [fix(a).T for a in args]\n",
        "  return Expression(fset_(*A))\n",
        "\n",
        "def latex_fset(x: tuple) -> str:\n",
        "  A = [latex_(a) for a in items(x)]\n",
        "  return f\"\\\\left\\\\{{ {','.join(A)} \\\\right\\\\}}\"\n",
        "\n",
        "def eval_fset(x: tuple) -> tuple:\n",
        "  A = [eval_(a) for a in items(x)]\n",
        "  return fset_(*A)\n",
        "\n",
        "A = fset(1, Q(3,5) + Q(9, 5), 3)\n",
        "show(A)\n",
        "show(evaluate(A))\n",
        "show(fset())"
      ],
      "metadata": {
        "id": "9y8BCHcgr9iy",
        "colab": {
          "base_uri": "https://localhost:8080/",
          "height": 119
        },
        "outputId": "b34590ad-9197-47bc-cf7a-55c2c4318851"
      },
      "execution_count": 462,
      "outputs": [
        {
          "output_type": "display_data",
          "data": {
            "text/plain": [
              "<IPython.core.display.Math object>"
            ],
            "text/latex": "$\\displaystyle \\left\\{ 1,{\\frac{3}{5}} + {\\frac{9}{5}},3 \\right\\}$"
          },
          "metadata": {}
        },
        {
          "output_type": "display_data",
          "data": {
            "text/plain": [
              "<IPython.core.display.Math object>"
            ],
            "text/latex": "$\\displaystyle \\left\\{ 1,\\frac{12}{5},3 \\right\\}$"
          },
          "metadata": {}
        },
        {
          "output_type": "display_data",
          "data": {
            "text/plain": [
              "<IPython.core.display.Math object>"
            ],
            "text/latex": "$\\displaystyle \\left\\{  \\right\\}$"
          },
          "metadata": {}
        }
      ]
    },
    {
      "cell_type": "markdown",
      "source": [
        "* (бонусное задание) Добавьте к данной реализации функцию нормализации, которая должна удалять из множества повторяющиеся элементы (множество - это набор РАЗНЫХ элементов). Проверку на равенство элементов используйте элементарную - поэлементное равенство двух структур (или равенство строковых представлений этих структур). Вызов функции нормализации вставьте в списочный конструктор."
      ],
      "metadata": {
        "id": "DSTpcneSsAMV"
      }
    },
    {
      "cell_type": "code",
      "source": [
        "def normalization(x: tuple) -> tuple:\n",
        "  it1 = list(items(x))\n",
        "  it2 = []\n",
        "  for i in range(0, len(it1)):\n",
        "    for j in range(i + 1, len(it1)):\n",
        "      if it1[i] == it1[j]:\n",
        "        it2.append(it1[i])\n",
        "  for i in range(0, len(it2)):\n",
        "    if it1.count(it2[i]) > 1:\n",
        "      it1.remove(it2[i])\n",
        "\n",
        "  return ID(x), *it1, options(x)\n",
        "\n",
        "def fset_(*args) -> tuple:\n",
        "  return normalization(('fset', *args, {}))\n",
        "\n",
        "A = fset(1, 1, 1, 2, 3)\n",
        "show(A)"
      ],
      "metadata": {
        "id": "d_mEbxvFsDIp",
        "colab": {
          "base_uri": "https://localhost:8080/",
          "height": 37
        },
        "outputId": "265cedcb-2ee7-4d61-b210-45675018bea2"
      },
      "execution_count": 463,
      "outputs": [
        {
          "output_type": "display_data",
          "data": {
            "text/plain": [
              "<IPython.core.display.Math object>"
            ],
            "text/latex": "$\\displaystyle \\left\\{ 1,2,3 \\right\\}$"
          },
          "metadata": {}
        }
      ]
    },
    {
      "cell_type": "markdown",
      "source": [
        "### Операции над конечными множествами\n",
        "\n",
        "Операции (дополнение, объединение, пересечение, разность, симметрическая разность) будем реализовывать в виде **функций** (inversion, union, intersection, setdiff, symdiff), а не **бинарных операций**. Рассмотрим процесс на примере реализации операции объединения.\n",
        "\n",
        "* Определяем приоритеты операций (для визуализации формул)\n",
        "* Пишем конструкторы\n",
        "* Пишем преобразование в LaTeX"
      ],
      "metadata": {
        "id": "ausQxaSasD4K"
      }
    },
    {
      "cell_type": "code",
      "source": [
        "priority['union'] = 3\n",
        "\n",
        "def union_(x: tuple, y: tuple) -> tuple:\n",
        "  return 'union', x, y, {}\n",
        "\n",
        "def union(x: Expression, y: Expression) -> Expression:\n",
        "  return Expression(union_(fix(x).T, fix(y).T))\n",
        "\n",
        "def latex_union(x: tuple) -> str:\n",
        "  a, b = latex_(x[1]), latex_(x[2])\n",
        "  if Pr(x[1]) < Pr(x):\n",
        "    a = enclose(a)\n",
        "  if Pr(x[2]) <= Pr(x):\n",
        "    b = enclose(b)\n",
        "  return f\"{{{a}}} \\\\cup {{{b}}}\"\n",
        "\n",
        "g, v = symbol('G'), symbol('V')\n",
        "show(union(g, v))"
      ],
      "metadata": {
        "id": "T33PBkL1sIO5",
        "colab": {
          "base_uri": "https://localhost:8080/",
          "height": 39
        },
        "outputId": "b9f7674f-2194-41b7-b703-d24d1a55d29c"
      },
      "execution_count": 464,
      "outputs": [
        {
          "output_type": "display_data",
          "data": {
            "text/plain": [
              "<IPython.core.display.Math object>"
            ],
            "text/latex": "$\\displaystyle {G} \\cup {V}$"
          },
          "metadata": {}
        }
      ]
    },
    {
      "cell_type": "markdown",
      "source": [
        "* Реализуйте по аналогии с объединением все остальные операции над множествами"
      ],
      "metadata": {
        "id": "BORFrFd8sMcv"
      }
    },
    {
      "cell_type": "code",
      "source": [
        "priority['union'] = 3\n",
        "\n",
        "def union_(x: tuple, y: tuple) -> tuple:\n",
        "  return 'union', x, y, {}\n",
        "\n",
        "def union(x: Expression, y: Expression) -> Expression:\n",
        "  return Expression(union_(fix(x).T, fix(y).T))\n",
        "\n",
        "def latex_union(x: tuple) -> str:\n",
        "  a, b = latex_(x[1]), latex_(x[2])\n",
        "  if Pr(x[1]) < Pr(x):\n",
        "    a = enclose(a)\n",
        "  if Pr(x[2]) <= Pr(x):\n",
        "    b = enclose(b)\n",
        "  return f\"{{{a}}} \\\\cup {{{b}}}\"\n",
        "\n",
        "priority['intersection'] = 5\n",
        "\n",
        "def intersection_(x: tuple, y: tuple) -> tuple:\n",
        "  return 'intersection', x, y, {}\n",
        "\n",
        "def intersection(x: Expression, y: Expression) -> Expression:\n",
        "  return Expression(intersection_(fix(x).T, fix(y).T))\n",
        "\n",
        "def latex_intersection(x: tuple) -> str:\n",
        "  a, b = latex_(x[1]), latex_(x[2])\n",
        "  if Pr(x[1]) < Pr(x):\n",
        "    a = enclose(a)\n",
        "  if Pr(x[2]) <= Pr(x):\n",
        "    b = enclose(b)\n",
        "  return f\"{{{a}}} \\\\cap {{{b}}}\"\n",
        "\n",
        "priority['setdiff'] = 3\n",
        "\n",
        "def setdiff_(x: tuple, y: tuple) -> tuple:\n",
        "  return 'setdiff', x, y, {}\n",
        "\n",
        "def setdiff(x: Expression, y: Expression) -> Expression:\n",
        "  return Expression(setdiff_(fix(x).T, fix(y).T))\n",
        "\n",
        "def latex_setdiff(x: tuple) -> str:\n",
        "  a, b = latex_(x[1]), latex_(x[2])\n",
        "  if Pr(x[1]) < Pr(x):\n",
        "    a = enclose(a)\n",
        "  if Pr(x[2]) <= Pr(x):\n",
        "    b = enclose(b)\n",
        "  return f\"{{{a}}} \\\\setminus {{{b}}}\"\n",
        "\n",
        "priority['symdiff'] = 3\n",
        "\n",
        "def symdiff_(x: tuple, y: tuple) -> tuple:\n",
        "  return 'symdiff', x, y, {}\n",
        "\n",
        "def symdiff(x: Expression, y: Expression) -> Expression:\n",
        "  return Expression(symdiff_(fix(x).T, fix(y).T))\n",
        "\n",
        "def latex_symdiff(x: tuple) -> str:\n",
        "  a, b = latex_(x[1]), latex_(x[2])\n",
        "  if Pr(x[1]) < Pr(x):\n",
        "    a = enclose(a)\n",
        "  if Pr(x[2]) <= Pr(x):\n",
        "    b = enclose(b)\n",
        "  return f\"{{{a}}} \\\\triangle {{{b}}}\"\n",
        "\n",
        "priority['inversion'] = 1\n",
        "\n",
        "def inversion_(x: tuple) -> tuple:\n",
        "  return 'inversion', x, {}\n",
        "\n",
        "def inversion(x: Expression) -> Expression:\n",
        "  return Expression(inversion_(fix(x).T))\n",
        "\n",
        "def latex_inversion(x: tuple) -> str:\n",
        "  a = latex_(x[1])\n",
        "  return f\"\\\\neg{{{a}}}\"\n",
        "\n",
        "g, v = symbol('G'), symbol('V')\n",
        "show(intersection(g, v))\n",
        "show(setdiff(g, v))\n",
        "show(symdiff(g, v))\n",
        "show(inversion(g))\n"
      ],
      "metadata": {
        "id": "1V4Ah0vusQ0Y",
        "colab": {
          "base_uri": "https://localhost:8080/",
          "height": 106
        },
        "outputId": "4665f775-70ba-4a18-b96c-ec9f8a5ad06d"
      },
      "execution_count": 465,
      "outputs": [
        {
          "output_type": "display_data",
          "data": {
            "text/plain": [
              "<IPython.core.display.Math object>"
            ],
            "text/latex": "$\\displaystyle {G} \\cap {V}$"
          },
          "metadata": {}
        },
        {
          "output_type": "display_data",
          "data": {
            "text/plain": [
              "<IPython.core.display.Math object>"
            ],
            "text/latex": "$\\displaystyle {G} \\setminus {V}$"
          },
          "metadata": {}
        },
        {
          "output_type": "display_data",
          "data": {
            "text/plain": [
              "<IPython.core.display.Math object>"
            ],
            "text/latex": "$\\displaystyle {G} \\triangle {V}$"
          },
          "metadata": {}
        },
        {
          "output_type": "display_data",
          "data": {
            "text/plain": [
              "<IPython.core.display.Math object>"
            ],
            "text/latex": "$\\displaystyle \\neg{G}$"
          },
          "metadata": {}
        }
      ]
    },
    {
      "cell_type": "markdown",
      "source": [
        "* Напишем функцию оценивания операции объединения (`eval_union`)"
      ],
      "metadata": {
        "id": "sqwHjJwAsRLR"
      }
    },
    {
      "cell_type": "code",
      "source": [
        "def eval_union(x: tuple) -> tuple:\n",
        "  a, b = eval_(x[1]), eval_(x[2]) # оцениваем операнды\n",
        "  if ID(a) != 'fset' or ID(b) != 'fset':\n",
        "    return ID(x), a, b, {} # если операнды не конечные множества, то ничего не делаем\n",
        "  A, B = list(items(a)), list(items(b)) # преобразуем в списки\n",
        "  C = A[:] # копируем все элементы из A в C\n",
        "  for b in B: # цикл по всем элементам b из B\n",
        "    inA = False\n",
        "    for a in A:\n",
        "      if b == a:\n",
        "        inA = True # нашли в A элемент b\n",
        "        break\n",
        "    if not inA:\n",
        "      C.append(b) # если не нашли b в A, то добавляем b в C\n",
        "  return fset_(*C)\n",
        "\n",
        "A = fset(*list(range(0, 6)))\n",
        "B = fset(*list(range(0, 12, 2)))\n",
        "C = union(A, B)\n",
        "show(C == evaluate(C))"
      ],
      "metadata": {
        "id": "VbnPTfamsWmZ",
        "colab": {
          "base_uri": "https://localhost:8080/",
          "height": 37
        },
        "outputId": "0ec4ac36-d9e8-4b25-9a4f-35de1891248b"
      },
      "execution_count": 466,
      "outputs": [
        {
          "output_type": "display_data",
          "data": {
            "text/plain": [
              "<IPython.core.display.Math object>"
            ],
            "text/latex": "$\\displaystyle {{\\left\\{ 0,1,2,3,4,5 \\right\\}} \\cup {\\left\\{ 0,2,4,6,8,10 \\right\\}}} = {\\left\\{ 0,1,2,3,4,5,6,8,10 \\right\\}}$"
          },
          "metadata": {}
        }
      ]
    },
    {
      "cell_type": "markdown",
      "source": [
        "* Реализуйте оценивание остальных операций над множествами"
      ],
      "metadata": {
        "id": "b3UU5v3Rsas5"
      }
    },
    {
      "cell_type": "code",
      "source": [
        "def eval_intersection(x: tuple) -> tuple:\n",
        "  a, b = eval_(x[1]), eval_(x[2])\n",
        "  if ID(a) != 'fset' or ID(b) != 'fset':\n",
        "    return ID(x), a, b, {}\n",
        "  A, B = list(items(a)), list(items(b))\n",
        "  C = []\n",
        "  for b in B:\n",
        "    for a in A:\n",
        "      if b == a:\n",
        "        C.append(b)\n",
        "        break\n",
        "  return fset_(*C)\n",
        "\n",
        "def eval_setdiff(x: tuple) -> tuple:\n",
        "  a, b = eval_(x[1]), eval_(x[2])\n",
        "  if ID(a) != 'fset' or ID(b) != 'fset':\n",
        "    return ID(x), a, b, {}\n",
        "  A, B = list(items(a)), list(items(b))\n",
        "  C = []\n",
        "  for a in A:\n",
        "    inB = False\n",
        "    for b in B:\n",
        "      if a == b:\n",
        "        inB = True\n",
        "        break\n",
        "    if not inB:\n",
        "      C.append(a)\n",
        "  return fset_(*C)\n",
        "\n",
        "def eval_symdiff(x: tuple) -> tuple:\n",
        "  a, b = eval_(x[1]), eval_(x[2])\n",
        "  if ID(a) != 'fset' or ID(b) != 'fset':\n",
        "    return ID(x), a, b, {}\n",
        "  A, B = list(items(a)), list(items(b))\n",
        "  intersec = []\n",
        "  C = []\n",
        "  for b in B:\n",
        "    for a in A:\n",
        "      if b == a:\n",
        "        intersec.append(b)\n",
        "        break\n",
        "  for a in A:\n",
        "    if a not in intersec:\n",
        "      C.append(a)\n",
        "  for b in B:\n",
        "    if b not in intersec:\n",
        "      C.append(b)\n",
        "  return fset_(*C)\n",
        "\n",
        "A = fset(*list(range(0, 10)))\n",
        "B = fset(*list(range(0, 24, 4)))\n",
        "C = intersection(A, B)\n",
        "D = setdiff(A, B)\n",
        "E = setdiff(B, A)\n",
        "F = symdiff(A, B)\n",
        "show(C == evaluate(C))\n",
        "show(D == evaluate(D))\n",
        "show(E == evaluate(E))\n",
        "show(F == evaluate(F))"
      ],
      "metadata": {
        "id": "0nxeznLhsd2d",
        "colab": {
          "base_uri": "https://localhost:8080/",
          "height": 98
        },
        "outputId": "e99b80ef-fb7b-4620-8c1e-4d32dac70ce8"
      },
      "execution_count": 467,
      "outputs": [
        {
          "output_type": "display_data",
          "data": {
            "text/plain": [
              "<IPython.core.display.Math object>"
            ],
            "text/latex": "$\\displaystyle {{\\left\\{ 0,1,2,3,4,5,6,7,8,9 \\right\\}} \\cap {\\left\\{ 0,4,8,12,16,20 \\right\\}}} = {\\left\\{ 0,4,8 \\right\\}}$"
          },
          "metadata": {}
        },
        {
          "output_type": "display_data",
          "data": {
            "text/plain": [
              "<IPython.core.display.Math object>"
            ],
            "text/latex": "$\\displaystyle {{\\left\\{ 0,1,2,3,4,5,6,7,8,9 \\right\\}} \\setminus {\\left\\{ 0,4,8,12,16,20 \\right\\}}} = {\\left\\{ 1,2,3,5,6,7,9 \\right\\}}$"
          },
          "metadata": {}
        },
        {
          "output_type": "display_data",
          "data": {
            "text/plain": [
              "<IPython.core.display.Math object>"
            ],
            "text/latex": "$\\displaystyle {{\\left\\{ 0,4,8,12,16,20 \\right\\}} \\setminus {\\left\\{ 0,1,2,3,4,5,6,7,8,9 \\right\\}}} = {\\left\\{ 12,16,20 \\right\\}}$"
          },
          "metadata": {}
        },
        {
          "output_type": "display_data",
          "data": {
            "text/plain": [
              "<IPython.core.display.Math object>"
            ],
            "text/latex": "$\\displaystyle {{\\left\\{ 0,1,2,3,4,5,6,7,8,9 \\right\\}} \\triangle {\\left\\{ 0,4,8,12,16,20 \\right\\}}} = {\\left\\{ 1,2,3,5,6,7,9,12,16,20 \\right\\}}$"
          },
          "metadata": {}
        }
      ]
    },
    {
      "cell_type": "markdown",
      "source": [
        "* (бонусное задание) Реализуйте быстрый вариант оценивания операций через предварительную сортировку элементов множества (см. презентацию лекции). Проведите сравнение двух реализаций по времени выполнения операций для больших множеств `A = fset(*list(range(0, n)))`, `B = fset(*list(range(0, 2 * n, 2)))`, для значений `n` из набора [10, 100, 1000, 10000]."
      ],
      "metadata": {
        "id": "yJs3UZRRseTa"
      }
    },
    {
      "cell_type": "code",
      "source": [],
      "metadata": {
        "id": "e7YrkO_fsiOO"
      },
      "execution_count": 467,
      "outputs": []
    },
    {
      "cell_type": "markdown",
      "source": [
        "### Другие \"типы\" множеств\n",
        "\n",
        "Реализуйте представление множеств следующих типов (только конструкторы и преобразователи в LaTeX):\n",
        "\n",
        "* Множества-константы (`cset`): $\\mathbb{N}$, $\\mathbb{Z}$, $\\mathbb{Q}$, $\\mathbb{R}$, $\\varnothing$.\n",
        "* Интервальные множества (`iset`): $(-\\infty, 0) \\cup (1, 2]$. Задаются набором пар границ и их типов (закрытые/открытые). Также нужно будет определить специальный объект - бесконечность, `infinity`.\n",
        "* Параметрические множества (`pset`): $\\{2n+1\\,|\\,n\\in \\mathbb{Z}\\}$. Задаются тремя элементами - выражением ($2n+1$), переменной ($n$), множеством ($\\mathbb{Z}$).\n",
        "* Условные множества (`aset`): $\\{x\\in\\mathbb{R}\\,|\\,x>0\\}$. Задаются тремя элементами - переменной, множеством, условием."
      ],
      "metadata": {
        "id": "CxmruQo7si6G"
      }
    },
    {
      "cell_type": "code",
      "source": [
        "def cset_(x:str) -> tuple:\n",
        "  return 'cset', {'name': x}\n",
        "\n",
        "def cset(x:str) -> Expression:\n",
        "  return Expression(cset_(x))\n",
        "\n",
        "def latex_cset(x: tuple) -> str:\n",
        "  number_const = {'natural numbers': 'N', 'natural': 'N', 'n' : 'N',\n",
        "                  'integers': 'Z', 'z': 'Z', 'integer': 'Z', 'int': 'Z',\n",
        "                  'rational number': 'Q', 'rational numbers': 'Q', 'q': 'Q', 'rational': 'Q',\n",
        "                  'real numbers': 'R', 'real number': 'R', 'real': 'R', 'r': 'R'}\n",
        "  a = options(x)['name'].lower()\n",
        "  if a not in number_const:\n",
        "    return f\"\\\\varnothing\"\n",
        "  c = number_const[a]\n",
        "  return f\"\\mathbb{{{c}}}\"\n",
        "\n",
        "\n",
        "show(cset('q'))\n",
        "show(cset('z'))\n",
        "show(cset('fff'))\n",
        "\n",
        "\n"
      ],
      "metadata": {
        "id": "ykAd_gW7snIG",
        "colab": {
          "base_uri": "https://localhost:8080/",
          "height": 81
        },
        "outputId": "98817456-2fa5-494e-9464-3ed12728acf4"
      },
      "execution_count": 468,
      "outputs": [
        {
          "output_type": "display_data",
          "data": {
            "text/plain": [
              "<IPython.core.display.Math object>"
            ],
            "text/latex": "$\\displaystyle \\mathbb{Q}$"
          },
          "metadata": {}
        },
        {
          "output_type": "display_data",
          "data": {
            "text/plain": [
              "<IPython.core.display.Math object>"
            ],
            "text/latex": "$\\displaystyle \\mathbb{Z}$"
          },
          "metadata": {}
        },
        {
          "output_type": "display_data",
          "data": {
            "text/plain": [
              "<IPython.core.display.Math object>"
            ],
            "text/latex": "$\\displaystyle \\varnothing$"
          },
          "metadata": {}
        }
      ]
    },
    {
      "cell_type": "code",
      "source": [
        "def pset(v:Expression, p:Expression, mn:Expression) -> Expression:\n",
        "  return Expression(pset_(v, p, mn))\n",
        "\n",
        "def pset_(v:Expression, p:Expression, mn:Expression ) -> tuple:\n",
        "  return 'pset', {'vr': v, 'per': p, 'mng':mn}\n",
        "\n",
        "def latex_pset(x: tuple) -> str:\n",
        "  v = latex_(options(x)['vr'].T)\n",
        "  p = latex_(options(x)['per'].T)\n",
        "  mn = latex_(options(x)['mng'].T)\n",
        "  return f'\\left\\{{{v}\\,|\\,{p}\\in{mn}\\\\right\\}}'\n",
        "\n",
        "k = symbol('k')\n",
        "f = 2 * k + 1\n",
        "s = cset('Z')\n",
        "show(pset(f, k, s))\n"
      ],
      "metadata": {
        "id": "sOJE7znpmVOO",
        "colab": {
          "base_uri": "https://localhost:8080/",
          "height": 39
        },
        "outputId": "c851a674-6c95-4e28-e5b9-2ef085043c55"
      },
      "execution_count": 469,
      "outputs": [
        {
          "output_type": "display_data",
          "data": {
            "text/plain": [
              "<IPython.core.display.Math object>"
            ],
            "text/latex": "$\\displaystyle \\left\\{{{2} \\cdot {k}} + {1}\\,|\\,k\\in\\mathbb{Z}\\right\\}$"
          },
          "metadata": {}
        }
      ]
    },
    {
      "cell_type": "code",
      "source": [
        "def aset(p:Expression, mn:Expression, u:Expression) -> Expression:\n",
        "  return Expression(aset_(p, mn, u))\n",
        "\n",
        "def aset_(p:Expression, mn:Expression, u:Expression ) -> tuple:\n",
        "  return 'aset', {'per': p, 'mng': mn, 'us':u}\n",
        "\n",
        "def latex_aset(x: tuple) -> str:\n",
        "    p = latex_(options(x)['per'].T)\n",
        "    mn = latex_(options(x)['mng'].T)\n",
        "    u = latex_(options(x)['us'].T)\n",
        "    return f'\\\\left\\\\{{{p}\\\\in{mn}\\\\,|\\\\,{u}\\\\right\\\\}}'\n",
        "\n",
        "x = symbol('x')\n",
        "f = x > 0\n",
        "s = cset('R')\n",
        "show(aset(x, s, f))"
      ],
      "metadata": {
        "id": "NzUy4vL-wF1x",
        "colab": {
          "base_uri": "https://localhost:8080/",
          "height": 39
        },
        "outputId": "87331ff0-caa8-44b9-da28-c5bbcf6e6aff"
      },
      "execution_count": 470,
      "outputs": [
        {
          "output_type": "display_data",
          "data": {
            "text/plain": [
              "<IPython.core.display.Math object>"
            ],
            "text/latex": "$\\displaystyle \\left\\{x\\in\\mathbb{R}\\,|\\,{x} > {0}\\right\\}$"
          },
          "metadata": {}
        }
      ]
    },
    {
      "cell_type": "code",
      "source": [
        "def infinity() -> Expression:\n",
        " return Expression(infinity_())\n",
        "\n",
        "def infinity_() -> tuple:\n",
        "  return 'infinity', {}\n",
        "\n",
        "def latex_infinity(x: tuple) -> str:\n",
        "  return f'\\infty'\n",
        "\n",
        "\n",
        "def iset(*args) -> Expression:\n",
        "  return Expression(iset_(*args))\n",
        "\n",
        "def iset_(*args) -> tuple:\n",
        "  return 'iset', *args, {}\n",
        "\n",
        "def latex_iset(x: tuple) -> str:\n",
        "  f = items(x)\n",
        "  os = '[' if f[0][0] else '('\n",
        "  ni = latex_(fix(f[0][1]).T)\n",
        "  zs = ']' if f[0][2] else ')'\n",
        "  ki = latex_(fix(f[0][3]).T)\n",
        "  v = f'\\\\left{os}{ni},{ki}\\\\right{zs}'\n",
        "  for i in range(1, len(f)):\n",
        "    os = '[' if f[i][0] else '('\n",
        "    ni = latex_(fix(f[i][1]).T)\n",
        "    zs = ']' if f[i][2] else ')'\n",
        "    ki = latex_(fix(f[i][3]).T)\n",
        "    v += f'\\\\cup\\\\left{os}{ni},{ki}\\\\right{zs}'\n",
        "  return v\n",
        "\n",
        "inf = infinity()\n",
        "f = iset([False, -inf, True, 2], [False, -5, True, 5])\n",
        "show(f)"
      ],
      "metadata": {
        "id": "IdRgJNYD0a3R",
        "colab": {
          "base_uri": "https://localhost:8080/",
          "height": 37
        },
        "outputId": "6a4f10c8-08b2-402e-8ac1-c082adc87d62"
      },
      "execution_count": 471,
      "outputs": [
        {
          "output_type": "display_data",
          "data": {
            "text/plain": [
              "<IPython.core.display.Math object>"
            ],
            "text/latex": "$\\displaystyle \\left( -{\\infty},2\\right]\\cup\\left(-5,5\\right]$"
          },
          "metadata": {}
        }
      ]
    },
    {
      "cell_type": "markdown",
      "source": [
        "* (бонусное задание) Реализуйте оценивание множественных операций над интервальными множествами."
      ],
      "metadata": {
        "id": "ouzBJpX4soRD"
      }
    },
    {
      "cell_type": "code",
      "source": [],
      "metadata": {
        "id": "NyT-CghVsr8j"
      },
      "execution_count": 471,
      "outputs": []
    },
    {
      "cell_type": "markdown",
      "source": [
        "### Матрицы\n",
        "\n",
        "* Пишем конструктор матриц произвольного размера, входом является список элементов и рамеры матрицы."
      ],
      "metadata": {
        "id": "T5L5tEBIssO_"
      }
    },
    {
      "cell_type": "code",
      "source": [
        "def matrix_(A: list, n: int, m: int) -> tuple:\n",
        "  return 'matrix', *A, {'dim': (n, m)}\n",
        "\n",
        "def matrix(A: list, n: int, m: int) -> Expression:\n",
        "  B = [fix(a).T for a in A]\n",
        "  return Expression(matrix_(B, n, m))"
      ],
      "metadata": {
        "id": "v7iYwcYVsvAt"
      },
      "execution_count": 472,
      "outputs": []
    },
    {
      "cell_type": "markdown",
      "source": [
        "* Реализуйте функцию преобразования матрицы в формат LaTeX. Пример: `matrix([1, 2, 3, 4], 2, 2)` $\\to \\left[\\begin{array}{cc} 1 & 2 \\\\ 3 & 4 \\\\\\end{array}\\right]$ (см. код вкладки)."
      ],
      "metadata": {
        "id": "grD1a4f9syIn"
      }
    },
    {
      "cell_type": "code",
      "source": [
        "def latex_matrix(x: tuple) -> str:\n",
        "  A = [latex_(a) for a in items(x)]\n",
        "  n = options(x)['dim'][0]\n",
        "  m = options(x)['dim'][1]\n",
        "  result = '\\\\left[\\\\begin{array}{cc}'\n",
        "\n",
        "  for i in range(n):\n",
        "    result += f'{A[i * m]}'\n",
        "    for j in range(1, m):\n",
        "      result += f' & {A[i * m + j]}'\n",
        "    result += '\\\\\\\\'\n",
        "\n",
        "  result += '\\\\end{array}\\\\right]'\n",
        "  return result\n",
        "\n",
        "A = matrix([1, 2, 3, 4], 2, 2)\n",
        "show(A)"
      ],
      "metadata": {
        "id": "iJU43rIQs13a",
        "colab": {
          "base_uri": "https://localhost:8080/",
          "height": 58
        },
        "outputId": "a6354a28-8788-44b4-e753-ddd20a07e1b5"
      },
      "execution_count": 473,
      "outputs": [
        {
          "output_type": "display_data",
          "data": {
            "text/plain": [
              "<IPython.core.display.Math object>"
            ],
            "text/latex": "$\\displaystyle \\left[\\begin{array}{cc}1 & 2\\\\3 & 4\\\\\\end{array}\\right]$"
          },
          "metadata": {}
        }
      ]
    },
    {
      "cell_type": "markdown",
      "source": [
        "* Напишите функции-конструкторы векторов (`cvector` - столбцы, `rvector` - строки), аргументом является список значений, длина вычисляется автоматически. Внутренним представлением должна быть **матрица**, у которой одна из размерностей будет равна единице (т.е. новый тип объектов создавать не нужно). Пример:\n",
        "`cvector([1, 2]).T` $\\to$ `('matrix', ('integer', {'value': 1}), ('integer', {'value': 2}), {'dim': (2, 1)})`."
      ],
      "metadata": {
        "id": "qHNW7GUUs5OD"
      }
    },
    {
      "cell_type": "code",
      "source": [
        "def cvector(A: list) -> Expression:\n",
        "  B = [fix(a).T for a in A]\n",
        "  return Expression(matrix_(B, len(B), 1))\n",
        "\n",
        "def rvector(A: list) -> Expression:\n",
        "  B = [fix(a).T for a in A]\n",
        "  return Expression(matrix_(B, 1, len(B)))"
      ],
      "metadata": {
        "id": "-AIflLfAs8ZO"
      },
      "execution_count": 474,
      "outputs": []
    },
    {
      "cell_type": "markdown",
      "source": [
        "* Напишите функцию `eval_matrix`, выполняющую оценивание элементов матрицы."
      ],
      "metadata": {
        "id": "qfQx3fwjg2GE"
      }
    },
    {
      "cell_type": "code",
      "source": [
        "def eval_matrix(x: tuple) -> tuple:\n",
        "  A = [eval_(a) for a in items(x)]\n",
        "  return ID(x), *A, options(x)\n",
        "\n",
        "A = matrix([1, Z(2) * Z(7), 3, 4], 2, 2)\n",
        "show(A)\n",
        "show(evaluate(A))"
      ],
      "metadata": {
        "id": "kXhFJErDg5c7",
        "colab": {
          "base_uri": "https://localhost:8080/",
          "height": 98
        },
        "outputId": "d66ba82e-b188-4ac2-e91f-be7b7f21755a"
      },
      "execution_count": 475,
      "outputs": [
        {
          "output_type": "display_data",
          "data": {
            "text/plain": [
              "<IPython.core.display.Math object>"
            ],
            "text/latex": "$\\displaystyle \\left[\\begin{array}{cc}1 & {2} \\cdot {7}\\\\3 & 4\\\\\\end{array}\\right]$"
          },
          "metadata": {}
        },
        {
          "output_type": "display_data",
          "data": {
            "text/plain": [
              "<IPython.core.display.Math object>"
            ],
            "text/latex": "$\\displaystyle \\left[\\begin{array}{cc}1 & 14\\\\3 & 4\\\\\\end{array}\\right]$"
          },
          "metadata": {}
        }
      ]
    },
    {
      "cell_type": "markdown",
      "source": [
        "* Реализуйте оценивание арифметических операций над матрицами: умножение на число, сложение, вычитание, умножение."
      ],
      "metadata": {
        "id": "yye0oSqvs_Hc"
      }
    },
    {
      "cell_type": "code",
      "source": [
        "def add_matrix_matrix(A: tuple, B: tuple) -> tuple:\n",
        "  n = options(A)['dim'][0]\n",
        "  m = options(A)['dim'][1]\n",
        "  C = [eval_(add_(items(A)[i], items(B)[i])) for i in range(n * m)]\n",
        "  return matrix_(C, n, m)\n",
        "\n",
        "OPERATIONS['add'].append('add_matrix_matrix')\n",
        "\n",
        "def mul_integer_matrix(INT: tuple, A: tuple) -> tuple:\n",
        "  n = options(A)['dim'][0]\n",
        "  m = options(A)['dim'][1]\n",
        "  C = [eval_(mul_(INT, items(A)[i])) for i in range(n * m)]\n",
        "  return matrix_(C, n, m)\n",
        "\n",
        "OPERATIONS['mul'].append('mul_integer_matrix')\n",
        "\n",
        "def mul_matrix_integer(A: tuple, INT: tuple) -> tuple:\n",
        "  n = options(A)['dim'][0]\n",
        "  m = options(A)['dim'][1]\n",
        "  C = [eval_(mul_(INT, items(A)[i])) for i in range(n * m)]\n",
        "  return matrix_(C, n, m)\n",
        "\n",
        "OPERATIONS['mul'].append('mul_matrix_integer')\n",
        "\n",
        "def mul_rational_matrix(RAT: tuple, A: tuple) -> tuple:\n",
        "  n = options(A)['dim'][0]\n",
        "  m = options(A)['dim'][1]\n",
        "  C = [eval_(mul_(RAT, items(A)[i])) for i in range(n * m)]\n",
        "  return matrix_(C, n, m)\n",
        "\n",
        "OPERATIONS['mul'].append('mul_rational_matrix')\n",
        "\n",
        "def mul_matrix_rational(A: tuple, RAT: tuple) -> tuple:\n",
        "  n = options(A)['dim'][0]\n",
        "  m = options(A)['dim'][1]\n",
        "  C = [eval_(mul_(RAT, items(A)[i])) for i in range(n * m)]\n",
        "  return matrix_(C, n, m)\n",
        "\n",
        "OPERATIONS['mul'].append('mul_matrix_rational')\n",
        "\n",
        "def sub_matrix_matrix(A: tuple, B: tuple) -> tuple:\n",
        "  n = options(A)['dim'][0]\n",
        "  m = options(A)['dim'][1]\n",
        "  C = [eval_(sub_(items(A)[i], items(B)[i])) for i in range(n * m)]\n",
        "  return matrix_(C, n, m)\n",
        "\n",
        "OPERATIONS['sub'].append('sub_matrix_matrix')\n",
        "\n",
        "def mul_matrix_matrix(A: tuple, B: tuple) -> tuple:\n",
        "  n = options(A)['dim'][0]\n",
        "  k = options(B)['dim'][0]\n",
        "  m = options(B)['dim'][1]\n",
        "  C = []\n",
        "  for i in range(n):\n",
        "    for j in range(m):\n",
        "      elem = integer_(0)\n",
        "      for s in range(k):\n",
        "        elem = eval_(add_(elem, eval_(mul_(items(A)[i * k + s], items(B)[s * m + j]))))\n",
        "      C.append(elem)\n",
        "  return matrix_(C, n, m)\n",
        "\n",
        "OPERATIONS['mul'].append('mul_matrix_matrix')\n",
        "\n",
        "\n",
        "A = matrix([Q(1, 3), 3, 4, Q(-1, 2)], 2, 2)\n",
        "B = matrix([1, 1, 1, 1], 2, 2)\n",
        "C = A + B\n",
        "D = A * B\n",
        "show(C)\n",
        "show(evaluate(C))\n",
        "show(D)\n",
        "show(evaluate(D))"
      ],
      "metadata": {
        "id": "T8U8XkmNtCzr",
        "colab": {
          "base_uri": "https://localhost:8080/",
          "height": 180
        },
        "outputId": "35c0d887-87a2-4299-8732-c6a03869f445"
      },
      "execution_count": 476,
      "outputs": [
        {
          "output_type": "display_data",
          "data": {
            "text/plain": [
              "<IPython.core.display.Math object>"
            ],
            "text/latex": "$\\displaystyle {\\left[\\begin{array}{cc}\\frac{1}{3} & 3\\\\4 & -{\\frac{1}{2}}\\\\\\end{array}\\right]} + {\\left[\\begin{array}{cc}1 & 1\\\\1 & 1\\\\\\end{array}\\right]}$"
          },
          "metadata": {}
        },
        {
          "output_type": "display_data",
          "data": {
            "text/plain": [
              "<IPython.core.display.Math object>"
            ],
            "text/latex": "$\\displaystyle \\left[\\begin{array}{cc}\\frac{4}{3} & 4\\\\5 & \\frac{1}{2}\\\\\\end{array}\\right]$"
          },
          "metadata": {}
        },
        {
          "output_type": "display_data",
          "data": {
            "text/plain": [
              "<IPython.core.display.Math object>"
            ],
            "text/latex": "$\\displaystyle {\\left[\\begin{array}{cc}\\frac{1}{3} & 3\\\\4 & -{\\frac{1}{2}}\\\\\\end{array}\\right]} \\cdot {\\left[\\begin{array}{cc}1 & 1\\\\1 & 1\\\\\\end{array}\\right]}$"
          },
          "metadata": {}
        },
        {
          "output_type": "display_data",
          "data": {
            "text/plain": [
              "<IPython.core.display.Math object>"
            ],
            "text/latex": "$\\displaystyle \\left[\\begin{array}{cc}\\frac{10}{3} & \\frac{10}{3}\\\\\\frac{7}{2} & \\frac{7}{2}\\\\\\end{array}\\right]$"
          },
          "metadata": {}
        }
      ]
    },
    {
      "cell_type": "markdown",
      "source": [
        "* (бонусное задание) Реализуйте представление и оценивание операции транспонирования матрицы `transpose`"
      ],
      "metadata": {
        "id": "aS26WrwgtGLO"
      }
    },
    {
      "cell_type": "code",
      "source": [],
      "metadata": {
        "id": "XRvIvGuDtK_p"
      },
      "execution_count": 476,
      "outputs": []
    },
    {
      "cell_type": "markdown",
      "source": [
        "### Решение систем линейных уравнений методом Гаусса\n",
        "\n",
        "* Пишем головную функцию `solveLinearSystem`, вызывающую списочный вариант этой функции и выполняющий оценку результата."
      ],
      "metadata": {
        "id": "1sixJ9WgtJxP"
      }
    },
    {
      "cell_type": "code",
      "source": [
        "def solveLinearSystem(A: Expression, b: Expression) -> Expression:\n",
        "  x = solveLinearSystem_(A.T, b.T)\n",
        "  return Expression(eval_(x))"
      ],
      "metadata": {
        "id": "Eyei4U50tPMQ"
      },
      "execution_count": 477,
      "outputs": []
    },
    {
      "cell_type": "markdown",
      "source": [
        "* Напишите основную функцию `solveLinearSystem_`, реализующую сам метод Гаусса. Т.к. алгоритм должен работать в символьной форме (со списочными выражениями, а не с числами), то вместо знаков арифметических операций нужно использовать списочные функции `add_`, `mul_` и т.д."
      ],
      "metadata": {
        "id": "FeCN3hZ1tR3R"
      }
    },
    {
      "cell_type": "code",
      "source": [
        "def solveLinearSystem_(A: tuple, b: tuple) -> tuple:\n",
        "  x = list(items(b))\n",
        "  n = len(x)\n",
        "  C = [list(items(A)[i * n: (i + 1) * n]) for i in range(n)]\n",
        "\n",
        "  # прямой ход\n",
        "  for k in range(n):\n",
        "    for j in range(k+1, n):\n",
        "      C[k][j] = div_(C[k][j], C[k][k])\n",
        "    x[k] = div_(x[k], C[k][k])\n",
        "    for i in range(k+1, n):\n",
        "      for j in range(k+1, n):\n",
        "        C[i][j] = sub_(C[i][j], mul_(C[i][k], C[k][j]))\n",
        "      x[i] = sub_(x[i], mul_(C[i][k], x[k]))\n",
        "  # обратный ход\n",
        "  for k in range(n-1, -1, -1):\n",
        "    for j in range(k+1, n):\n",
        "      x[k] = sub_(x[k], mul_(x[j], C[k][j]))\n",
        "  return matrix_(x, n, 1)"
      ],
      "metadata": {
        "id": "M9V3EogctWh0"
      },
      "execution_count": 478,
      "outputs": []
    },
    {
      "cell_type": "markdown",
      "source": [
        "* Проверяем (на выходе должен быть вектор-столбец `[1, 1]`):"
      ],
      "metadata": {
        "id": "Y6QwRfKwtZkT"
      }
    },
    {
      "cell_type": "code",
      "source": [
        "A = matrix([1, 2, 3, 4], 2, 2)\n",
        "b = cvector([3, 7])\n",
        "show(A == b)\n",
        "x = solveLinearSystem(A, b)\n",
        "show(x)"
      ],
      "metadata": {
        "id": "ie85xRW4tcnw",
        "colab": {
          "base_uri": "https://localhost:8080/",
          "height": 98
        },
        "outputId": "b7dbf9e7-171d-4a46-e760-f3f8db250857"
      },
      "execution_count": 479,
      "outputs": [
        {
          "output_type": "display_data",
          "data": {
            "text/plain": [
              "<IPython.core.display.Math object>"
            ],
            "text/latex": "$\\displaystyle {\\left[\\begin{array}{cc}1 & 2\\\\3 & 4\\\\\\end{array}\\right]} = {\\left[\\begin{array}{cc}3\\\\7\\\\\\end{array}\\right]}$"
          },
          "metadata": {}
        },
        {
          "output_type": "display_data",
          "data": {
            "text/plain": [
              "<IPython.core.display.Math object>"
            ],
            "text/latex": "$\\displaystyle \\left[\\begin{array}{cc}{1}\\\\{1}\\\\\\end{array}\\right]$"
          },
          "metadata": {}
        }
      ]
    },
    {
      "cell_type": "markdown",
      "source": [
        "* Наша реализация позволяет решать и системы с параметрами (пока без упрощения результата):"
      ],
      "metadata": {
        "id": "HXU5uqLTtfIy"
      }
    },
    {
      "cell_type": "code",
      "source": [
        "p, q, x = symbol('p'), symbol('q'), symbol('x')\n",
        "A = matrix([p, 1, 1, q], 2, 2)\n",
        "b = cvector([1, 1])\n",
        "show(A * x == b)\n",
        "x = solveLinearSystem(A, b)\n",
        "show(x)"
      ],
      "metadata": {
        "id": "-cFjd0zltinI",
        "colab": {
          "base_uri": "https://localhost:8080/",
          "height": 132
        },
        "outputId": "89bf99bc-df2c-4144-a270-2de9cfbfa9cd"
      },
      "execution_count": 480,
      "outputs": [
        {
          "output_type": "display_data",
          "data": {
            "text/plain": [
              "<IPython.core.display.Math object>"
            ],
            "text/latex": "$\\displaystyle {{\\left[\\begin{array}{cc}p & 1\\\\1 & q\\\\\\end{array}\\right]} \\cdot {x}} = {\\left[\\begin{array}{cc}1\\\\1\\\\\\end{array}\\right]}$"
          },
          "metadata": {}
        },
        {
          "output_type": "display_data",
          "data": {
            "text/plain": [
              "<IPython.core.display.Math object>"
            ],
            "text/latex": "$\\displaystyle \\left[\\begin{array}{cc}{\\frac{1}{p}} - {{\\frac{{1} - {{1} \\cdot {\\left( \\frac{1}{p} \\right)}}}{{q} - {{1} \\cdot {\\left( \\frac{1}{p} \\right)}}}} \\cdot {\\left( \\frac{1}{p} \\right)}}\\\\\\frac{{1} - {{1} \\cdot {\\left( \\frac{1}{p} \\right)}}}{{q} - {{1} \\cdot {\\left( \\frac{1}{p} \\right)}}}\\\\\\end{array}\\right]$"
          },
          "metadata": {}
        }
      ]
    },
    {
      "cell_type": "markdown",
      "source": [
        "# Часть 4"
      ],
      "metadata": {
        "id": "bapi061GubmP"
      }
    },
    {
      "cell_type": "markdown",
      "source": [
        "### Представление многочленов"
      ],
      "metadata": {
        "id": "afua5Sbpul9Y"
      }
    },
    {
      "cell_type": "markdown",
      "source": [
        "* Напишем набор функций для проверки, является ли заданное выражение нулем (без его вычислений и упрощений). Головная функция работает с выражениями типа `Expression`, а служебные функции должны проверять на равенство нулю конкретные списочные объекты. Нулевыми могут быть целые числа, рациональные числа, матрицы, многочлены и т.д. Сравнение многочлена с нулем реализуем ниже."
      ],
      "metadata": {
        "id": "LT8Mh4JquoLT"
      }
    },
    {
      "cell_type": "code",
      "source": [
        "def isZero(x: Expression) -> bool:\n",
        "  return is_zero(x.T)\n",
        "\n",
        "def is_zero(x: tuple) -> bool:\n",
        "  try:\n",
        "    cmd = eval(f\"is_zero_{ID(x)}\")\n",
        "    return cmd(x)\n",
        "  except:\n",
        "    return False\n",
        "\n",
        "def is_zero_integer(x: tuple) -> bool:\n",
        "  return options(x)['value'] == 0\n",
        "\n",
        "def is_zero_rational(x: tuple) -> bool:\n",
        "  return options(x)['num'] == 0\n",
        "\n",
        "print(isZero(Z(0)), isZero(Z(1)), isZero(Q(1, 2)), isZero(Q(0, 1)))"
      ],
      "metadata": {
        "colab": {
          "base_uri": "https://localhost:8080/"
        },
        "id": "yQuVGlRxuthy",
        "outputId": "6aa91ded-4a07-41f9-8c01-9393d33ca25d"
      },
      "execution_count": 481,
      "outputs": [
        {
          "output_type": "stream",
          "name": "stdout",
          "text": [
            "True False False True\n"
          ]
        }
      ]
    },
    {
      "cell_type": "markdown",
      "source": [
        "* Пишем конструкторы многочленов, головная функция принимает на вход список коэффициентов (в порядке от младшего к старшему): `[1, 2, 3]` $\\to 3x^2+2x+1$, и опционально переменную и порядок слагаемых для визуализации формулы (`rev=True` $\\to 1+2x+3x^2$). Списочный конструктор преобразует все целые коэффициенты в рациональные (чтобы упростить последующие манипуляции с многочленами),вызывает функцию нормализации, которая должна удалить все **старшие** нули из списка коэффициентов: (`[1, 2, 3, 0, 0]` -> `[1, 2, 3]`), и создает кортеж, в котором первым элементом (не считая ID) идет переменная, а дальше перечисляются все коэффициенты многочлена. Если в многочлене все коэффициенты нулевые, то это нулевой многочлен и он представляется пустым списком коэффициентов."
      ],
      "metadata": {
        "id": "tG3YHWYoxLUd"
      }
    },
    {
      "cell_type": "code",
      "source": [
        "def polynomial(A: list, var: Expression = symbol('x'), rev = False) -> Expression:\n",
        "  C = [fix(a).T for a in A]\n",
        "  return Expression(polynomial_(C, var.T, rev))\n",
        "\n",
        "def polynomial_(A: list, var: tuple = symbol_('x'), rev: bool = False) -> tuple:\n",
        "  B = [cast_integer_rational(a) if ID(a) == 'integer' else a for a in A]\n",
        "  C = normalize_polynomial(B)\n",
        "  return 'polynomial', var, *C, {'rev': rev}\n",
        "\n",
        "def normalize_polynomial(A: list) -> list:\n",
        "  # используйте функцию is_zero для проверки элемента на равенство нулю\n",
        "  for i in range(len(A)):\n",
        "    if is_zero(A[-1]):\n",
        "      A.pop(-1)\n",
        "  return A\n",
        "\n",
        "\n",
        "p = polynomial([1, 2, 3, 0, 0])\n",
        "for t in items(p.T):\n",
        "  show(Expression(t))"
      ],
      "metadata": {
        "colab": {
          "base_uri": "https://localhost:8080/",
          "height": 100
        },
        "id": "ZPT8-zpUxOn8",
        "outputId": "61990223-99e1-45e9-f898-03dd2e757051"
      },
      "execution_count": 482,
      "outputs": [
        {
          "output_type": "display_data",
          "data": {
            "text/plain": [
              "<IPython.core.display.Math object>"
            ],
            "text/latex": "$\\displaystyle x$"
          },
          "metadata": {}
        },
        {
          "output_type": "display_data",
          "data": {
            "text/plain": [
              "<IPython.core.display.Math object>"
            ],
            "text/latex": "$\\displaystyle {1}$"
          },
          "metadata": {}
        },
        {
          "output_type": "display_data",
          "data": {
            "text/plain": [
              "<IPython.core.display.Math object>"
            ],
            "text/latex": "$\\displaystyle {2}$"
          },
          "metadata": {}
        },
        {
          "output_type": "display_data",
          "data": {
            "text/plain": [
              "<IPython.core.display.Math object>"
            ],
            "text/latex": "$\\displaystyle {3}$"
          },
          "metadata": {}
        }
      ]
    },
    {
      "cell_type": "markdown",
      "source": [
        "* Напишем функцию `linear_combination` для построения линейных комбинаций (в списочном представлении): заданы два списка выражений, надо построить выражение, являющееся суммой попарных произведений соответствующих элементов этих двух списков: $[1, 2, 3], [x^2, x, 1] \\to x^2 + 2x + 3$. Эта функция будет использоваться нами, в частности, для визуализации многочленов. Результирующее выражение должно быть построено в максимально естественном виде: если один из сомножителей равен нулю, то данное произведение в линейную комбинацию не включается; если один из сомножителей равен единице, то он не включается в произведение; если первый коэффициент - отрицательное число, то он заменяется на свой модуль, а слагаемое включается в сумму через вычитание (а не сложение) и т.д. Если все слагаемые нулевые, то выходом должно быть число 0."
      ],
      "metadata": {
        "id": "lm4bpbc-0xpg"
      }
    },
    {
      "cell_type": "code",
      "source": [
        "def linear_combination(A: list, B: list) -> tuple:\n",
        "  A = [cast_integer_rational(a) if ID(a) == 'integer' else a for a in A]\n",
        "  B = [cast_integer_rational(b) if ID(b) == 'integer' else b for b in B]\n",
        "  sum = None\n",
        "  for a, b in zip(A, B):\n",
        "    # генерируем новое слагаемое и включаем его в итоговую сумму\n",
        "    sum = next_term(sum, a, b)\n",
        "  return sum if sum else integer_(0)\n",
        "\n",
        "def next_term(sum: tuple, a: tuple, b: tuple) -> tuple:\n",
        "  if is_zero(a) or is_zero(b):\n",
        "    return sum # нулевые слагаемые в сумму не включаем\n",
        "  s, t = make_term(a, b) # генерируем знак слагаемого (s) и само слагаемое (t)\n",
        "  if sum == None: # если слагаемое первое, его не надо прибавлять или вычитать\n",
        "    if s == 1: return t # положительное первое слагаемое\n",
        "    # отрицательное первое слагаемое\n",
        "    if ID(t) == 'mul': return mul_(neg_(t[1]), t[2]) # вносим `-` в первый множитель, если он есть\n",
        "    return neg_(t)\n",
        "  # если знак +, то прибавляем слагаемое к сумме, если -, то вычитаем\n",
        "  return add_(sum, t) if s == 1 else sub_(sum, t)\n",
        "\n",
        "def make_term(a: tuple, b: tuple) -> tuple:\n",
        "  s = 1 # знак по умолчанию +\n",
        "  if ID(a) == 'rational':\n",
        "    # если первый множитель - число, анализируем его знак и значение\n",
        "    n, m = options(a)['num'], options(a)['denom']\n",
        "    if (n, m) == (1, 1): return 1, b # a = 1\n",
        "    if (n, m) == (-1, 1): return -1, b # a = -1\n",
        "    if n < 0: s, a = -1, rational_(-n, m) # a < 0\n",
        "  # если b == 1, то возвращаем (s, a), иначе (s, a*b)\n",
        "  return (s, a) if b == rational_(1, 1) else (s, mul_(a, b))\n",
        "\n",
        "n = 5\n",
        "A = [integer_(k-2) for k in range(n)]\n",
        "B = [deg_(symbol_('x'), integer_(n - 1 - k)) if k != n - 1 else integer_(1) for k in range(n)]\n",
        "show(Expression(linear_combination(A, B)))\n",
        "\n",
        "A = [symbol_(a) for a in 'abc']\n",
        "B = [deg_(symbol_('x'), integer_(2)), symbol_('x'), integer_(1)]\n",
        "show(Expression(linear_combination(A, B)))"
      ],
      "metadata": {
        "colab": {
          "base_uri": "https://localhost:8080/",
          "height": 61
        },
        "id": "6KUO5SPN00M2",
        "outputId": "6b05805f-d971-4505-8200-e0b485053e38"
      },
      "execution_count": 483,
      "outputs": [
        {
          "output_type": "display_data",
          "data": {
            "text/plain": [
              "<IPython.core.display.Math object>"
            ],
            "text/latex": "$\\displaystyle {{{{ -{{2}}} \\cdot {{x}^{4}}} - {{x}^{3}}} + {{x}^{1}}} + {{2}}$"
          },
          "metadata": {}
        },
        {
          "output_type": "display_data",
          "data": {
            "text/plain": [
              "<IPython.core.display.Math object>"
            ],
            "text/latex": "$\\displaystyle {{{a} \\cdot {{x}^{2}}} + {{b} \\cdot {x}}} + {c}$"
          },
          "metadata": {}
        }
      ]
    },
    {
      "cell_type": "markdown",
      "source": [
        "* Напишите функцию `make_deg(x: tuple, k: int)`, которая по заданной переменной $x$ и степени $k$ делает списочное степенное выражение. Нужно учитывать случаи $k=0$ (степень равна 1) и $k=1$ (степень равна $x$)."
      ],
      "metadata": {
        "id": "tAmSe20y0_W-"
      }
    },
    {
      "cell_type": "code",
      "source": [
        "def make_deg(x: tuple, k: int) -> tuple:\n",
        "  if k == 0:\n",
        "    return integer_(1)\n",
        "  if k == 1:\n",
        "    return x\n",
        "  return deg_(x, integer_(k))\n",
        "\n",
        "x = symbol_('x')\n",
        "a = make_deg(x, 5)\n",
        "show(Expression(a))"
      ],
      "metadata": {
        "colab": {
          "base_uri": "https://localhost:8080/",
          "height": 39
        },
        "id": "vhFspQMI1CWL",
        "outputId": "7ecfdc37-e376-4935-b037-bfa8fcc84988"
      },
      "execution_count": 484,
      "outputs": [
        {
          "output_type": "display_data",
          "data": {
            "text/plain": [
              "<IPython.core.display.Math object>"
            ],
            "text/latex": "$\\displaystyle {x}^{5}$"
          },
          "metadata": {}
        }
      ]
    },
    {
      "cell_type": "markdown",
      "source": [
        "* Напишите функцию `polynomial2expression(x: tuple)` для преобразования многочлена в арифметическое выражение с использованием функции `linear_combination`. Нужно выделить из многочлена список `A` коэффициентов (первый элемент `items(x)` - это переменная, остальные - коэффициенты), создать список `D` такой же длины из степеней переменной (функция `make_deg`), если флаг `options(x)['rev']` равен `True`, то обратить оба списка. Вызвать функцию `linear_combination(A, D)` и вернуть собранное ею выражение."
      ],
      "metadata": {
        "id": "TZhalNCm2n1u"
      }
    },
    {
      "cell_type": "code",
      "source": [
        "def polynomial2expression(x: tuple) -> tuple:\n",
        "  v, A, rev = items(x)[0], items(x)[1:], options(x)['rev']\n",
        "  D = []\n",
        "  for i in range(len(A)):\n",
        "    D.append(make_deg(v, i))\n",
        "  if not rev:\n",
        "    A, D = A[:: -1], D[:: -1] # обратить списки A и D\n",
        "  return linear_combination(A, D)"
      ],
      "metadata": {
        "id": "W6zCeEsg2qan"
      },
      "execution_count": 485,
      "outputs": []
    },
    {
      "cell_type": "markdown",
      "source": [
        "* Для преобразование многочлена в формат LaTeX преобразуем его в арифметическое выражение, которое стандартным образом преобразуем в LaTeX. Проверяем!"
      ],
      "metadata": {
        "id": "01Ik5oKX88ap"
      }
    },
    {
      "cell_type": "code",
      "source": [
        "def latex_polynomial(x: tuple) -> str:\n",
        "  return latex_(polynomial2expression(x))\n",
        "\n",
        "p = polynomial([Q(-2, 3), -2, 0, Q(5, 15), 0, 0], rev = True)\n",
        "show(p)\n",
        "\n",
        "p = polynomial([3, -2, 1])\n",
        "show(p)"
      ],
      "metadata": {
        "colab": {
          "base_uri": "https://localhost:8080/",
          "height": 73
        },
        "id": "2kJxTwKQ8-rz",
        "outputId": "83588c1f-1f30-4ea7-e364-c1c55474e8e9"
      },
      "execution_count": 486,
      "outputs": [
        {
          "output_type": "display_data",
          "data": {
            "text/plain": [
              "<IPython.core.display.Math object>"
            ],
            "text/latex": "$\\displaystyle {{ -{\\frac{2}{3}}} - {{{2}} \\cdot {x}}} + {{\\frac{1}{3}} \\cdot {{x}^{3}}}$"
          },
          "metadata": {}
        },
        {
          "output_type": "display_data",
          "data": {
            "text/plain": [
              "<IPython.core.display.Math object>"
            ],
            "text/latex": "$\\displaystyle {{{x}^{2}} - {{{2}} \\cdot {x}}} + {{3}}$"
          },
          "metadata": {}
        }
      ]
    },
    {
      "cell_type": "markdown",
      "source": [
        "### Арифметика\n",
        "\n",
        "* Определим приоритет \"операции\" polynomial равным 5 (меньше арифметических операций), чтобы они отделялись от других операндов скобками."
      ],
      "metadata": {
        "id": "1r1H47jb9mJO"
      }
    },
    {
      "cell_type": "code",
      "source": [
        "priority['polynomial'] = 5\n",
        "p = polynomial([3, -2, 1])\n",
        "q = polynomial([-1, 0, 1])\n",
        "show((p * q) / (-p + q))"
      ],
      "metadata": {
        "colab": {
          "base_uri": "https://localhost:8080/",
          "height": 60
        },
        "id": "xGzZ3Fr19osf",
        "outputId": "8edd79fe-7dab-4b44-9209-e6d1d76a1523"
      },
      "execution_count": 487,
      "outputs": [
        {
          "output_type": "display_data",
          "data": {
            "text/plain": [
              "<IPython.core.display.Math object>"
            ],
            "text/latex": "$\\displaystyle \\frac{{\\left( {{{x}^{2}} - {{{2}} \\cdot {x}}} + {{3}} \\right)} \\cdot {\\left( {{x}^{2}} - {{1}} \\right)}}{{ -{{{{x}^{2}} - {{{2}} \\cdot {x}}} + {{3}}}} + {\\left( {{x}^{2}} - {{1}} \\right)}}$"
          },
          "metadata": {}
        }
      ]
    },
    {
      "cell_type": "markdown",
      "source": [
        "* Напишем функцию оценивания многочлена `eval_polynomial(x: tuple)`, которая должна 1) оценивать рекурсивно все коэффициенты многочлена (включая переменную); 2) если 'переменная' многочлена является числом (а это не запрещено нашим конструктором), то нужно преобразовать многочлен в выражение и оценить его. Последняя операция позволит выполнять подстановку в многочлен числовых значений с вычислением результата (см. последний пример в коде).  "
      ],
      "metadata": {
        "id": "w8WjOlkv9viA"
      }
    },
    {
      "cell_type": "code",
      "source": [
        "def eval_polynomial(x: tuple) -> tuple:\n",
        "  A = [eval_(a) for a in items(x)]\n",
        "  if ID(A[0]) in ['integer', 'rational']:\n",
        "    return eval_(polynomial2expression(x))\n",
        "  return 'polynomial', *A, options(x)\n",
        "\n",
        "p = polynomial([0, 1, Q(3, 2) + 1, 0, 0, 1])\n",
        "show(p)\n",
        "show(evaluate(p))\n",
        "show(evaluate(subs(p, {symbol('x'): Q(1, 2)})))"
      ],
      "metadata": {
        "colab": {
          "base_uri": "https://localhost:8080/",
          "height": 126
        },
        "id": "Zeh34ss490rU",
        "outputId": "00637334-bebf-4d60-e17a-4ea8c1a47ead"
      },
      "execution_count": 488,
      "outputs": [
        {
          "output_type": "display_data",
          "data": {
            "text/plain": [
              "<IPython.core.display.Math object>"
            ],
            "text/latex": "$\\displaystyle {{{x}^{5}} + {{\\left( {\\frac{3}{2}} + {1} \\right)} \\cdot {{x}^{2}}}} + {x}$"
          },
          "metadata": {}
        },
        {
          "output_type": "display_data",
          "data": {
            "text/plain": [
              "<IPython.core.display.Math object>"
            ],
            "text/latex": "$\\displaystyle {{{x}^{5}} + {{\\frac{5}{2}} \\cdot {{x}^{2}}}} + {x}$"
          },
          "metadata": {}
        },
        {
          "output_type": "display_data",
          "data": {
            "text/plain": [
              "<IPython.core.display.Math object>"
            ],
            "text/latex": "$\\displaystyle \\frac{37}{32}$"
          },
          "metadata": {}
        }
      ]
    },
    {
      "cell_type": "markdown",
      "source": [
        "* Реализуем оценивание операции сложения многочленов. Добавим соответствующую команду в словарь `OPERATIONS`."
      ],
      "metadata": {
        "id": "j-cIxDfx-HgL"
      }
    },
    {
      "cell_type": "code",
      "source": [
        "OPERATIONS['add'].append('add_polynomial_polynomial')"
      ],
      "metadata": {
        "id": "rQvD7z94-LhD"
      },
      "execution_count": 489,
      "outputs": []
    },
    {
      "cell_type": "markdown",
      "source": [
        "* Напишите функцию выравнивания длин двух списков `A` и `B` дополнением короткого списка \"нулевыми\" элементами `val` до длины длиннного списка. Функция должна вернуть два списка одинаковой длины."
      ],
      "metadata": {
        "id": "e-bC3jS3-Np3"
      }
    },
    {
      "cell_type": "code",
      "source": [
        "def align_lists(A: list, B: list, val: tuple = rational_(0, 1)) -> tuple:\n",
        "  n, m = len(A), len(B) # выравнивание\n",
        "  A = A + [val] * max(0, m - n)\n",
        "  B = B + [val] * max(0, n - m)\n",
        "  return A, B\n"
      ],
      "metadata": {
        "id": "lBf22XBk-Rim"
      },
      "execution_count": 490,
      "outputs": []
    },
    {
      "cell_type": "markdown",
      "source": [
        "* Пишем и проверяем код операции сложения. Если переменные у двух многочленов не совпадают, то операцию выполнить нельзя, выбрасываем исключение, которое будет \"поймано\" функцией `eval_`.  "
      ],
      "metadata": {
        "id": "TditzohgpK9N"
      }
    },
    {
      "cell_type": "code",
      "source": [
        "def add_polynomial_polynomial(x: tuple, y: tuple) -> tuple:\n",
        "  if x[1] != y[1]: # переменные не совпадают, операция не выполнима!\n",
        "    raise\n",
        "  A, B = align_lists(list(items(x)[1:]), list(items(y)[1:]))\n",
        "  C = [eval_(add_(a, b)) for a, b in zip(A, B)]\n",
        "  return polynomial_(C, x[1], rev = options(x)['rev'])\n",
        "\n",
        "p = polynomial([4, -2, 1])\n",
        "q = polynomial([-3, 0, -1])\n",
        "show(p + q == evaluate(p + q))"
      ],
      "metadata": {
        "colab": {
          "base_uri": "https://localhost:8080/",
          "height": 39
        },
        "id": "pt-qYvPLpNnX",
        "outputId": "543c2d19-dc16-4800-a012-33e71b191312"
      },
      "execution_count": 491,
      "outputs": [
        {
          "output_type": "display_data",
          "data": {
            "text/plain": [
              "<IPython.core.display.Math object>"
            ],
            "text/latex": "$\\displaystyle {{\\left( {{{x}^{2}} - {{{2}} \\cdot {x}}} + {{4}} \\right)} + {\\left( { -{{x}^{2}}} - {{3}} \\right)}} = {{{ -{{2}}} \\cdot {x}} + {{1}}}$"
          },
          "metadata": {}
        }
      ]
    },
    {
      "cell_type": "markdown",
      "source": [
        "* Напишите по той же схеме (см. коды операций из лекции) операции вычитания многочленов, умножения рационального числа на многочлен, умножения двух многочленов. Внесите соответствующие изменения в словарь `OPERATIONS`."
      ],
      "metadata": {
        "id": "u9qZRxfUpR6F"
      }
    },
    {
      "cell_type": "code",
      "source": [
        "OPERATIONS['sub'].append('sub_polynomial_polynomial')"
      ],
      "metadata": {
        "id": "VwmXTTuIqJvI"
      },
      "execution_count": 492,
      "outputs": []
    },
    {
      "cell_type": "code",
      "source": [
        "def sub_polynomial_polynomial(x: tuple, y: tuple) -> tuple:\n",
        "\n",
        "  if x[1] != y[1]: # переменные не совпадают, операция не выполнима!\n",
        "    raise\n",
        "  A, B = align_lists(list(items(x)[1:]), list(items(y)[1:]))\n",
        "  C = [eval_(sub_(a, b)) for a, b in zip(A, B)]\n",
        "  return polynomial_(C, x[1], rev = options(x)['rev'])\n",
        "\n",
        "p = polynomial([4, -2, 1])\n",
        "q = polynomial([-3, 0, -1])\n",
        "show(p - q == evaluate(p - q))"
      ],
      "metadata": {
        "colab": {
          "base_uri": "https://localhost:8080/",
          "height": 39
        },
        "id": "vQ_J_u_npUfJ",
        "outputId": "0ddbec31-a901-4342-f1fc-81c5bd9b2707"
      },
      "execution_count": 493,
      "outputs": [
        {
          "output_type": "display_data",
          "data": {
            "text/plain": [
              "<IPython.core.display.Math object>"
            ],
            "text/latex": "$\\displaystyle {{\\left( {{{x}^{2}} - {{{2}} \\cdot {x}}} + {{4}} \\right)} - {\\left( { -{{x}^{2}}} - {{3}} \\right)}} = {{{{{2}} \\cdot {{x}^{2}}} - {{{2}} \\cdot {x}}} + {{7}}}$"
          },
          "metadata": {}
        }
      ]
    },
    {
      "cell_type": "code",
      "source": [
        "OPERATIONS['mul'].append('mul_rational_polynomial')"
      ],
      "metadata": {
        "id": "v-CfeDqBsP4r"
      },
      "execution_count": 494,
      "outputs": []
    },
    {
      "cell_type": "code",
      "source": [
        "def mul_rational_polynomial(x: tuple, y: tuple) -> tuple:\n",
        "  A = items(y)[1:]\n",
        "  C = [eval_(mul_(x, a)) for a in A]\n",
        "  return polynomial_(C, y[1], rev = options(y)['rev'])\n",
        "\n",
        "p = polynomial([1, 2, -2], var = symbol('t'), rev = True)\n",
        "show(-1 * p == evaluate(-1 * p))"
      ],
      "metadata": {
        "colab": {
          "base_uri": "https://localhost:8080/",
          "height": 39
        },
        "id": "rpyj9zW7sMrb",
        "outputId": "2a8ceafb-9bd3-4753-c971-0ba348ecb1c0"
      },
      "execution_count": 495,
      "outputs": [
        {
          "output_type": "display_data",
          "data": {
            "text/plain": [
              "<IPython.core.display.Math object>"
            ],
            "text/latex": "$\\displaystyle {{-1} \\cdot {\\left( {{{1}} + {{{2}} \\cdot {t}}} - {{{2}} \\cdot {{t}^{2}}} \\right)}} = {{{ -{{1}}} - {{{2}} \\cdot {t}}} + {{{2}} \\cdot {{t}^{2}}}}$"
          },
          "metadata": {}
        }
      ]
    },
    {
      "cell_type": "code",
      "source": [
        "OPERATIONS['mul'].append('mul_polynomial_polynomial')"
      ],
      "metadata": {
        "id": "ZuE94EteqgsV"
      },
      "execution_count": 496,
      "outputs": []
    },
    {
      "cell_type": "code",
      "source": [
        "def mul_polynomial_polynomial(x: tuple, y: tuple) -> tuple:\n",
        "  A, B = align_lists(list(items(x)[1:]), list(items(y)[1:]))\n",
        "  n = len(A)\n",
        "  C = [integer_(0)] * (2*n - 1)\n",
        "  for i in range(n):\n",
        "    for j in range(n):\n",
        "      C[i + j] = eval_(add_(C[i + j], mul_(A[i], B[j])))\n",
        "  return polynomial_(C, x[1], rev = options(x)['rev'])\n",
        "\n",
        "p = polynomial([3, -2, 1])\n",
        "q = polynomial([-1, 0, 1])\n",
        "show(p * q == evaluate(p * q))"
      ],
      "metadata": {
        "colab": {
          "base_uri": "https://localhost:8080/",
          "height": 39
        },
        "id": "1hW0u3D0qp3q",
        "outputId": "a6f97d51-74db-4635-809c-48cb42afa509"
      },
      "execution_count": 497,
      "outputs": [
        {
          "output_type": "display_data",
          "data": {
            "text/plain": [
              "<IPython.core.display.Math object>"
            ],
            "text/latex": "$\\displaystyle {{\\left( {{{x}^{2}} - {{{2}} \\cdot {x}}} + {{3}} \\right)} \\cdot {\\left( {{x}^{2}} - {{1}} \\right)}} = {{{{{{x}^{4}} - {{{2}} \\cdot {{x}^{3}}}} + {{{2}} \\cdot {{x}^{2}}}} + {{{2}} \\cdot {x}}} - {{3}}}$"
          },
          "metadata": {}
        }
      ]
    },
    {
      "cell_type": "markdown",
      "source": [
        "* Напишем списочную функцию `shift_polynomial(x: tuple, k: int)` для \"сдвига\" многочлена `x` на положительное целое число `k`. Сдвиг эквивалентен умножению многочлена на k-ю степень переменной: $x^2 - 2, k=2 \\to x^4-2x^2$."
      ],
      "metadata": {
        "id": "2rLwKkNlsy-7"
      }
    },
    {
      "cell_type": "code",
      "source": [
        "def shift_polynomial(x: tuple, k: int) -> tuple:\n",
        "  A = [rational_(0, 1)] * k + list(items(x)[1:])\n",
        "  return polynomial_(A, x[1], options(x)['rev'])\n",
        "\n",
        "p = polynomial([1, 0, 2])\n",
        "show(p)\n",
        "show(Expression(shift_polynomial(p.T, 2)))"
      ],
      "metadata": {
        "colab": {
          "base_uri": "https://localhost:8080/",
          "height": 61
        },
        "id": "gsy4b7ynsx7T",
        "outputId": "79f2abff-2469-4386-8919-cac1533fd6b5"
      },
      "execution_count": 498,
      "outputs": [
        {
          "output_type": "display_data",
          "data": {
            "text/plain": [
              "<IPython.core.display.Math object>"
            ],
            "text/latex": "$\\displaystyle {{{2}} \\cdot {{x}^{2}}} + {{1}}$"
          },
          "metadata": {}
        },
        {
          "output_type": "display_data",
          "data": {
            "text/plain": [
              "<IPython.core.display.Math object>"
            ],
            "text/latex": "$\\displaystyle {{{2}} \\cdot {{x}^{4}}} + {{x}^{2}}$"
          },
          "metadata": {}
        }
      ]
    },
    {
      "cell_type": "markdown",
      "source": [
        "* Напишите функцию деления многочленов с остатком, которая возвращает два выражения - целую часть от деления и остаток."
      ],
      "metadata": {
        "id": "xTEfBCnzs6dt"
      }
    },
    {
      "cell_type": "code",
      "source": [
        "def divide_polynomials(x: Expression, y: Expression) -> tuple:\n",
        "  p, q = divide_polynomials_(x.T, y.T)\n",
        "  return Expression(p), Expression(q)\n",
        "\n",
        "def divide_polynomials_(x: tuple, y: tuple) -> tuple:\n",
        "  if x[1] != y[1]: # переменные не совпадают\n",
        "    raise\n",
        "  A = items(x)[1:]\n",
        "  B = items(y)[1:]\n",
        "  R, D, K = A[:], [], len(A) - len(B)\n",
        "  for k in range(K + 1):\n",
        "    d = div_(R[-1],  B[-1])\n",
        "    M = shift_polynomial(polynomial_([d], x[1]), K - k)\n",
        "    D = [d] + D\n",
        "    R = items(sub_polynomial_polynomial(polynomial_(R, x[1]), mul_polynomial_polynomial(y, M)))[1:]\n",
        "  D = [eval_(d) for d in D]\n",
        "  R = [eval_(r) for r in R]\n",
        "  return polynomial_(D, x[1], options(x)['rev']), polynomial_(R, x[1], options(x)['rev'])\n",
        "\n",
        "\n",
        "p = polynomial([2, -1, 2, -3, 1])\n",
        "q = polynomial([2, -2, 1])\n",
        "d, r = divide_polynomials(p, q)\n",
        "show(p / q == d + r / q)"
      ],
      "metadata": {
        "colab": {
          "base_uri": "https://localhost:8080/",
          "height": 55
        },
        "id": "g7-Des5Rs_kE",
        "outputId": "29e953d7-a98a-452a-b130-fd6e02ca9263"
      },
      "execution_count": 499,
      "outputs": [
        {
          "output_type": "display_data",
          "data": {
            "text/plain": [
              "<IPython.core.display.Math object>"
            ],
            "text/latex": "$\\displaystyle {\\frac{{{{{{x}^{4}} - {{{3}} \\cdot {{x}^{3}}}} + {{{2}} \\cdot {{x}^{2}}}} - {x}} + {{2}}}{{{{x}^{2}} - {{{2}} \\cdot {x}}} + {{2}}}} = {{\\left( {{{x}^{2}} - {x}} - {{2}} \\right)} + {\\frac{{{ -{{3}}} \\cdot {x}} + {{6}}}{{{{x}^{2}} - {{{2}} \\cdot {x}}} + {{2}}}}}$"
          },
          "metadata": {}
        }
      ]
    },
    {
      "cell_type": "markdown",
      "source": [
        "* (бонусное задание) Реализуйте алгоритм Евклида для поиска наибольшего общего делителя двух многочленов. Для получения наиболее простого результата после выполнения каждого деления, нужно преобразовывать найденный остаток от деления к приведенному виду: $2x^2+3x-4 \\to x^2+\\frac32 x -2$. Для проверки останова алгоритма (остаток равен нулю) используйте функцию `isZero`, нужно дописать функцию `is_zero_polynomial`, которая проверяла бы, является ли многочлен нулевым."
      ],
      "metadata": {
        "id": "FQJ7sLO6tFET"
      }
    },
    {
      "cell_type": "code",
      "source": [
        "def polynomialGCD(x: Expression, y: Expression) -> Expression:\n",
        "  A = x\n",
        "  B = y\n",
        "  while not isZero(B):\n",
        "    B_temp = items(B.T)[1:]\n",
        "    B_temp = [eval_(div_(b, B_temp[0])) for b in B_temp]\n",
        "    B = Expression(polynomial_(B_temp, items(B.T)[0], options(B.T)['rev']))\n",
        "    A, B = B, divide_polynomials(A, B)[1]\n",
        "  return A\n",
        "\n",
        "def is_zero_polynomial(x: tuple) -> bool:\n",
        "  return len(items(x)) == 1\n",
        "\n",
        "p = evaluate(polynomial([1, 1]) * polynomial([2, -3, 1]))\n",
        "q = evaluate(polynomial([1, 1]) * polynomial([2, 1]))\n",
        "show(p / q)\n",
        "c = polynomialGCD(p, q)\n",
        "show(c)"
      ],
      "metadata": {
        "colab": {
          "base_uri": "https://localhost:8080/",
          "height": 77
        },
        "id": "tugA2o5jtITr",
        "outputId": "4e480d21-0fc7-4a66-bfe6-e8720e62fce8"
      },
      "execution_count": 500,
      "outputs": [
        {
          "output_type": "display_data",
          "data": {
            "text/plain": [
              "<IPython.core.display.Math object>"
            ],
            "text/latex": "$\\displaystyle \\frac{{{{{x}^{3}} - {{{2}} \\cdot {{x}^{2}}}} - {x}} + {{2}}}{{{{x}^{2}} + {{{3}} \\cdot {x}}} + {{2}}}$"
          },
          "metadata": {}
        },
        {
          "output_type": "display_data",
          "data": {
            "text/plain": [
              "<IPython.core.display.Math object>"
            ],
            "text/latex": "$\\displaystyle {x} + {{1}}$"
          },
          "metadata": {}
        }
      ]
    },
    {
      "cell_type": "markdown",
      "source": [
        "### Факторизация многочленов\n",
        "\n",
        "Будем предполагать, что факторизуемый многочлен является приведенным и имеет целые коэффициенты."
      ],
      "metadata": {
        "id": "ztuc8d7Stbn8"
      }
    },
    {
      "cell_type": "markdown",
      "source": [
        "* Реализуйте схему Горнера для многочлена, представленного списком `A` **целых** коэффициентов, и заданного **целого** числа `d`. Функция должна возвращать полный список вычисленных значений (см. презентацию лекции), из которых самым младшим является остаток от деления, а все остальные коэффициента списка соответствуют многочлену, представляющему целую часть от деления. Учитывайте, что младший коэффициент - первый элемент списка, старший - последний. Вызов `horner_method([2, -3, 1], 1)` должен вернуть список `[0, -2, 1]` (что соответствует делению многочлена $x^2-3x+2$ на бином $x-1$, проверьте)."
      ],
      "metadata": {
        "id": "xR_ai3HDteKt"
      }
    },
    {
      "cell_type": "code",
      "source": [
        "def horner_method(A: list, d: int) -> list:\n",
        "\tr, B = 0, []\n",
        "\tfor c in A[::-1]:\n",
        "\t\tr = c + r * d\n",
        "\t\tB = [r] + B\n",
        "\treturn B\n",
        "\n",
        "A = [2, -3, 1]\n",
        "horner_method(A, 1)"
      ],
      "metadata": {
        "colab": {
          "base_uri": "https://localhost:8080/"
        },
        "id": "hVFhGDe1ti0k",
        "outputId": "64cef0bc-c1bd-4424-b862-325e09bdd747"
      },
      "execution_count": 501,
      "outputs": [
        {
          "output_type": "execute_result",
          "data": {
            "text/plain": [
              "[0, -2, 1]"
            ]
          },
          "metadata": {},
          "execution_count": 501
        }
      ]
    },
    {
      "cell_type": "markdown",
      "source": [
        "* Напишите функцию `def divisors(n: int)`, которая возвращала список всех делителей числа `n`, и положительных, и отрицательных: `divisors(27) -> [1, 3, 9, 27, -1, -3, -9, -27]`."
      ],
      "metadata": {
        "id": "8ZSjqKNEu3bJ"
      }
    },
    {
      "cell_type": "code",
      "source": [
        "def divisors(n: int) -> list:\n",
        "  k = []\n",
        "  for i in range(1, n + 1):\n",
        "    if n % i == 0:\n",
        "      k.append(i)\n",
        "  return k + [-1 * i for i in k]\n",
        "\n",
        "divisors(27)"
      ],
      "metadata": {
        "colab": {
          "base_uri": "https://localhost:8080/"
        },
        "id": "u4GEPCWvvAUB",
        "outputId": "6ba6dfac-3b45-4fde-bd67-bf97b61baecf"
      },
      "execution_count": 502,
      "outputs": [
        {
          "output_type": "execute_result",
          "data": {
            "text/plain": [
              "[1, 3, 9, 27, -1, -3, -9, -27]"
            ]
          },
          "metadata": {},
          "execution_count": 502
        }
      ]
    },
    {
      "cell_type": "markdown",
      "source": [
        "Напишем функцию polynomial_factors(A: list) для подбора линейных делителей многочлена, представленного списком коэффициентов A. Функция должна возвращать словарь, ключами которого являются делители-многочлены (в форме кортежей целых коэффициентов), а значениями - степени (кратности) этих делителей."
      ],
      "metadata": {
        "id": "AD1gy4OCvMWB"
      }
    },
    {
      "cell_type": "code",
      "source": [
        "# предполагаем, что младший коэффициент многочлена ненулевой\n",
        "def polynomial_factors(A: list) -> dict:\n",
        "  k, a, F = 0, A[0], {} # счетчик, младший коэффициент, словарь делителей\n",
        "  D = divisors(a) + [0] # список делителей a, 0 в конце - стоп-значение для выхода из цикла while\n",
        "  while D[k]: # перебираем все возможные делители\n",
        "    B = horner_method(A, D[k]) # делим по схеме Горнера\n",
        "    if B[0] == 0: # проверяем, делитель или нет\n",
        "      A = B[1:] # продолжаем искать делители здесь\n",
        "      f = (-D[k], 1) # формируем делитель (бином) x-D[k]\n",
        "      F[f] = F.get(f, 0) + 1 # обновляем словарь\n",
        "      continue # продолжаем проверять тот же делитель\n",
        "    k += 1 # переходим к следующему кандидату\n",
        "  if len(A) > 1:\n",
        "    F[tuple(A)] = 1 # неразложенная часть многочлена\n",
        "  return F\n",
        "\n",
        "A = [-2, 5, -4, 1]\n",
        "polynomial_factors(A)"
      ],
      "metadata": {
        "colab": {
          "base_uri": "https://localhost:8080/"
        },
        "id": "O41lgDynvPDz",
        "outputId": "994b49a0-1410-4701-ea80-728f8614431c"
      },
      "execution_count": 503,
      "outputs": [
        {
          "output_type": "execute_result",
          "data": {
            "text/plain": [
              "{(-2, 5, -4, 1): 1}"
            ]
          },
          "metadata": {},
          "execution_count": 503
        }
      ]
    },
    {
      "cell_type": "markdown",
      "source": [
        "* Напишем функцию факторизации, головная функция для факторизации многочлена типа `Expression` вызывает списочную функцию факторизации `factorize_polynomial`. Последняя преобразует список коэффициентов"
      ],
      "metadata": {
        "id": "yBm6kaV9vWq6"
      }
    },
    {
      "cell_type": "code",
      "source": [
        "def factorizePolynomial(x: Expression) -> Expression:\n",
        "  return Expression(factorize_polynomial(x.T))\n",
        "\n",
        "def factorize_polynomial(x: tuple) -> tuple:\n",
        "  # приведенный многочлен с целыми коэффициентами\n",
        "  v = x[1] # переменная многочлена\n",
        "  A = [options(a)['num'] for a in items(x)[1:]] # целочисленный массив коэффициентов\n",
        "  F = polynomial_factors(A) # словарь (мультимножество) множителей\n",
        "  R = () # искомое разложение в формате списочного выражения\n",
        "  for k in F:\n",
        "    f = make_polynomial_factor(k, F[k], v) # делитель F[k] в степени k для переменной v\n",
        "    R = f if R == () else mul_(R, f) # первый делитель или нет (тогда умножаем)\n",
        "  return R\n",
        "\n",
        "def make_polynomial_factor(F: tuple, d: int, v: tuple) -> tuple:\n",
        "  A = [integer_(f) for f in F] # коэффициенты многочлена\n",
        "  p = polynomial_(A, v) # создаем многочлен\n",
        "  # если степень 1, возвращаем p, иначе - p**d\n",
        "  return p if d == 1 else deg_(p, integer_(d))\n",
        "\n",
        "p = evaluate(polynomial([-1, 3, -3, 1]) * polynomial([2, 1]) )\n",
        "show(p)\n",
        "f = factorizePolynomial(p)\n",
        "show(f)"
      ],
      "metadata": {
        "colab": {
          "base_uri": "https://localhost:8080/",
          "height": 61
        },
        "id": "pVAKj6aBvZ8G",
        "outputId": "9fcffdbc-566a-4e8f-b0b9-7f1706d17c18"
      },
      "execution_count": 504,
      "outputs": [
        {
          "output_type": "display_data",
          "data": {
            "text/plain": [
              "<IPython.core.display.Math object>"
            ],
            "text/latex": "$\\displaystyle {{{{{x}^{4}} - {{x}^{3}}} - {{{3}} \\cdot {{x}^{2}}}} + {{{5}} \\cdot {x}}} - {{2}}$"
          },
          "metadata": {}
        },
        {
          "output_type": "display_data",
          "data": {
            "text/plain": [
              "<IPython.core.display.Math object>"
            ],
            "text/latex": "$\\displaystyle {{{{{x}^{4}} - {{x}^{3}}} - {{{3}} \\cdot {{x}^{2}}}} + {{{5}} \\cdot {x}}} - {{2}}$"
          },
          "metadata": {}
        }
      ]
    },
    {
      "cell_type": "markdown",
      "source": [
        "* Проверяем на многочлене $x^{12}-1$."
      ],
      "metadata": {
        "id": "cAcZKKNGvddu"
      }
    },
    {
      "cell_type": "code",
      "source": [
        "A = [-1] + [0] * 11 + [1]\n",
        "p = polynomial(A)\n",
        "f = factorizePolynomial(p)\n",
        "show(p == f)"
      ],
      "metadata": {
        "colab": {
          "base_uri": "https://localhost:8080/",
          "height": 39
        },
        "id": "gQllUWtuvfud",
        "outputId": "139dedc2-ab53-4380-d482-d6b0dd5919f1"
      },
      "execution_count": 505,
      "outputs": [
        {
          "output_type": "display_data",
          "data": {
            "text/plain": [
              "<IPython.core.display.Math object>"
            ],
            "text/latex": "$\\displaystyle {{{x}^{12}} - {{1}}} = {{{x}^{12}} - {{1}}}$"
          },
          "metadata": {}
        }
      ]
    },
    {
      "cell_type": "markdown",
      "source": [
        "### (бонусное задание) Полиномиальная интерполяция методом неопределенных коэффиициентов\n",
        "\n",
        "* Напишите функцию `polynomial_interpolate(X: list, Y: list, v: Expression)`, которая строит интерполяционный многочлен по двум заданным целочисленным массивам `X` и `Y`. Пример: `polynomial_interpolate([-1, 0, 1], [6, 2, 0])` $\\to x^2-3x+2$."
      ],
      "metadata": {
        "id": "FnAWHCw9viQ-"
      }
    },
    {
      "cell_type": "code",
      "source": [],
      "metadata": {
        "id": "Et7U2QzKvlnH"
      },
      "execution_count": 505,
      "outputs": []
    },
    {
      "cell_type": "markdown",
      "source": [
        "### Рациональные функции\n",
        "\n",
        "* Напишем конструктор для рациональных функций, принимающий на вход два многочлена (с произвольными коэффициентами). Если переменные у многочленов разные, то конструктор возвращает обычное частное двух выражений."
      ],
      "metadata": {
        "id": "6eqyfMuKvqVU"
      }
    },
    {
      "cell_type": "code",
      "source": [
        "def rationalFunction(a: Expression, b: Expression) -> Expression:\n",
        "  return Expression(rationalf_(a.T, b.T))\n",
        "\n",
        "def rationalf_(a: tuple, b: tuple) -> tuple:\n",
        "  if a[1] != b[1]:\n",
        "    return div_(a, b)\n",
        "  return 'rationalf', a, b, {}\n",
        "\n",
        "def latex_rationalf(x: tuple) -> str:\n",
        "  return latex_(div_(x[1], x[2]))\n",
        "\n",
        "p, q = polynomial([Q(2, 3), Q(1, 6)]), polynomial([-1, Q(1, 2), 1])\n",
        "r = rationalFunction(p, q)\n",
        "show(r)"
      ],
      "metadata": {
        "colab": {
          "base_uri": "https://localhost:8080/",
          "height": 62
        },
        "id": "Ewr8VdJ6vuRE",
        "outputId": "1cab8210-1a4e-4a59-dd37-5b9e2db4e101"
      },
      "execution_count": 506,
      "outputs": [
        {
          "output_type": "display_data",
          "data": {
            "text/plain": [
              "<IPython.core.display.Math object>"
            ],
            "text/latex": "$\\displaystyle \\frac{{{\\frac{1}{6}} \\cdot {x}} + {\\frac{2}{3}}}{{{{x}^{2}} + {{\\frac{1}{2}} \\cdot {x}}} - {{1}}}$"
          },
          "metadata": {}
        }
      ]
    },
    {
      "cell_type": "markdown",
      "source": [
        "* Проверяем случай разных переменных"
      ],
      "metadata": {
        "id": "RIKjK94kv1Ze"
      }
    },
    {
      "cell_type": "code",
      "source": [
        "r = rationalFunction(polynomial([1, 1], symbol('y')), polynomial([-1, 2, 1]))\n",
        "show(r)\n",
        "print(ID(r.T))"
      ],
      "metadata": {
        "colab": {
          "base_uri": "https://localhost:8080/",
          "height": 71
        },
        "id": "KVfVyGD-v4oE",
        "outputId": "d00d4ffb-fdbd-4a84-e920-0ab729debd77"
      },
      "execution_count": 507,
      "outputs": [
        {
          "output_type": "display_data",
          "data": {
            "text/plain": [
              "<IPython.core.display.Math object>"
            ],
            "text/latex": "$\\displaystyle \\frac{{y} + {{1}}}{{{{x}^{2}} + {{{2}} \\cdot {x}}} - {{1}}}$"
          },
          "metadata": {}
        },
        {
          "output_type": "stream",
          "name": "stdout",
          "text": [
            "div\n"
          ]
        }
      ]
    },
    {
      "cell_type": "markdown",
      "source": [
        "* (бонусное задание) Напишите функцию нормализации `normalize_rf(f: Expression)` рациональной дроби `f` с рациональными коэффициентами, которая преобразует эту дробь в отношение многочленов с **целыми** коэффициентами. Пример:\n",
        "$$\\frac{\\frac{1}{6} \\cdot x + \\frac{2}{3}}{3 \\cdot {x} ^ {2} + \\frac{1}{2} \\cdot x - 1} \\to \\frac{x + 4}{18 \\cdot {x} ^ {2} + 3 \\cdot x - 6}.$$"
      ],
      "metadata": {
        "id": "R_Dqactcv7Rt"
      }
    },
    {
      "cell_type": "code",
      "source": [],
      "metadata": {
        "id": "-RwgORZswAsH"
      },
      "execution_count": 507,
      "outputs": []
    },
    {
      "cell_type": "markdown",
      "source": [
        "* (бонусное задание) Напишите функцию, которая приводит заданную рациональную дробь к правильному виду, раскладывая ее на целую часть (многочлен) и остаток (правильная дробь с тем же знаменателем). Пример:\n",
        "$$ \\frac{{x} ^ {2} - x + 1}{2 \\cdot x + 1} \\to \\left( \\frac{1}{2} \\cdot x - \\frac{3}{4} \\right) + \\frac{\\frac{7}{4}}{2 \\cdot x + 1}$$"
      ],
      "metadata": {
        "id": "54JymeVDwFqF"
      }
    },
    {
      "cell_type": "code",
      "source": [
        "def splitRationalFunction(f: Expression) -> Expression:\n",
        "  if ID(f.T) == 'rationalf':\n",
        "    a = Expression(items(f.T)[0])\n",
        "    b = Expression(items(f.T)[1])\n",
        "    k, m = divide_polynomials(a, b)\n",
        "    return k, m / b\n",
        "  return f\n",
        "\n",
        "r = rationalFunction(polynomial([1, -1, 1]), polynomial([1, 2]))\n",
        "p, q = splitRationalFunction(r)\n",
        "show(r == p + q)"
      ],
      "metadata": {
        "colab": {
          "base_uri": "https://localhost:8080/",
          "height": 60
        },
        "id": "1mEqqrlTwRJp",
        "outputId": "3cea608c-d5bf-4607-ecfb-f2b6785e84a8"
      },
      "execution_count": 508,
      "outputs": [
        {
          "output_type": "display_data",
          "data": {
            "text/plain": [
              "<IPython.core.display.Math object>"
            ],
            "text/latex": "$\\displaystyle {\\frac{{{{x}^{2}} - {x}} + {{1}}}{{{{2}} \\cdot {x}} + {{1}}}} = {{\\left( {{\\frac{1}{2}} \\cdot {x}} - {\\frac{3}{4}} \\right)} + {\\frac{\\frac{7}{4}}{{{{2}} \\cdot {x}} + {{1}}}}}$"
          },
          "metadata": {}
        }
      ]
    },
    {
      "cell_type": "markdown",
      "source": [
        "* Напишите функцию `decomposeRationalFunction(f: Expression)` декомпозиции заданной рациональной дроби в сумму простых дробей в предположении, что числитель и знаменатель дроби - приведенные многочлены с целыми коэффициентами; знаменатель дроби (степени $n$) есть произведение $n$ различных линейных множителей, т.е. имеет $n$ различных целых корней. Схема работы алгоритма: раскладываем знаменатель на произведение с помощью функции `polynomial_factors`; формируем матрицу и вектор правой части системы уравнений для метода неопределенных коэффициентов (см. презентацию лекции); решаем систему и находим коэффициенты разложения; составляем линейную комбинацию полученных простых дробей с найденными коэффициентами. Пример:\n",
        "$$\\frac{5 \\cdot {x} ^ {2} - 3 \\cdot x + 4}{{x} ^ {3} - 2 \\cdot {x} ^ {2} - 5 \\cdot x + 6} \\to -{\\frac{1}{x - 1}} + 4 \\cdot \\frac{1}{x - 3} + 2 \\cdot \\frac{1}{x + 2}.$$"
      ],
      "metadata": {
        "id": "6SwBCHRIwY53"
      }
    },
    {
      "cell_type": "code",
      "source": [
        "def decomposeRationalFunction(f: Expression) -> Expression:\n",
        "  r = decompose_rationalf(f.T)\n",
        "  return Expression(r)\n",
        "\n",
        "def decompose_rationalf(f: tuple) -> tuple:\n",
        "  m1 = items(f)[0]\n",
        "  m2 = items(f)[1]\n",
        "  m1_list = [options(i)['num'] for i in items(m1)[1:]]\n",
        "  m2_list = [options(i)['num'] for i in items(m2)[1:]]\n",
        "  divisor = polynomial_factors(m2_list)\n",
        "\n",
        "  n = len(m1_list)\n",
        "  b = cvector(m1_list) # столбец\n",
        "  t = []\n",
        "  for i in divisor:\n",
        "    k = m2_list\n",
        "    for j in range(divisor[i]):\n",
        "      t += [horner_method(k, -i[0])[1:] + j * [0]]\n",
        "      k = t[-1]\n",
        "\n",
        "  # транспонирование и формирование матрицы\n",
        "  A = [[0 for i in range(n)] for j in range(n)]\n",
        "  for i in range(n):\n",
        "    for j in range(n):\n",
        "      A[j][i] = t[i][j]\n",
        "  A = [el for row in A for el in row]\n",
        "\n",
        "  A = matrix(A, n, n)\n",
        "\n",
        "  D = [] # список простых дробей (выражения в списочном формате вида 1/(x-a))\n",
        "  for i in divisor:\n",
        "    for j in range(divisor[i]):\n",
        "      D += (div_(integer_(1), make_polynomial_factor(i, j + 1, items(m2)[0]))),\n",
        "  C = list(items(solveLinearSystem(A, b).T)) # список коэффициентов (рациональные числа в списочном формате)\n",
        "  return linear_combination(C, D)\n",
        "\n",
        "r = rationalFunction(polynomial([4, -3, 5]), polynomial([6, -5, -2, 1]))\n",
        "show(r == decomposeRationalFunction(r))"
      ],
      "metadata": {
        "colab": {
          "base_uri": "https://localhost:8080/",
          "height": 58
        },
        "id": "pfWjFyVywb7a",
        "outputId": "5da82d02-7d8b-4a6a-dddf-8906fe301862"
      },
      "execution_count": 509,
      "outputs": [
        {
          "output_type": "display_data",
          "data": {
            "text/plain": [
              "<IPython.core.display.Math object>"
            ],
            "text/latex": "$\\displaystyle {\\frac{{{{{5}} \\cdot {{x}^{2}}} - {{{3}} \\cdot {x}}} + {{4}}}{{{{{x}^{3}} - {{{2}} \\cdot {{x}^{2}}}} - {{{5}} \\cdot {x}}} + {{6}}}} = {{{ -{\\frac{1}{{x} - {{1}}}}} + {{{4}} \\cdot {\\left( \\frac{1}{{x} - {{3}}} \\right)}}} + {{{2}} \\cdot {\\left( \\frac{1}{{x} + {{2}}} \\right)}}}$"
          },
          "metadata": {}
        }
      ]
    },
    {
      "cell_type": "markdown",
      "source": [
        "# Часть 5"
      ],
      "metadata": {
        "id": "XDgroNnkANN1"
      }
    },
    {
      "cell_type": "markdown",
      "source": [
        "### Вычисление значений выражений"
      ],
      "metadata": {
        "id": "tTVRwC5qAQdQ"
      }
    },
    {
      "cell_type": "markdown",
      "source": [
        "* Создадим набор функций evalf... для вычисления значений выражений в формате float (не путать с оцениванием, которое вычисляет значения выражений в символьной форме). Головная функция принимает на вход выражение класса `Expression` (или число, что пригодится нам далее) и словарь со значениями символов (переменных). Если выражение - число, то оно и возвращается обратно, если нет, то преобразуем словарь, чтобы ключами были имена символов и вызываем универсальный вычислитель `evalf` списочных выражений."
      ],
      "metadata": {
        "id": "P-Q2y3xhAS6I"
      }
    },
    {
      "cell_type": "code",
      "source": [
        "def evalf(f: Expression | int | float, x: dict = {}) -> float:\n",
        "  if isinstance(f, (int, float)):\n",
        "    return float(f)\n",
        "  X = {options(t.T)['name']: evalf(x[t]) for t in x}\n",
        "  return evalf_(f.T, X)"
      ],
      "metadata": {
        "id": "9UD_OmO8AZnM"
      },
      "execution_count": 510,
      "outputs": []
    },
    {
      "cell_type": "markdown",
      "source": [
        "* Универсальный вычислитель формирует команду для вычисления текущего выражения по его `ID` и вызывает эту команду."
      ],
      "metadata": {
        "id": "eAzGG838ApoV"
      }
    },
    {
      "cell_type": "code",
      "source": [
        "def evalf_(f: tuple, x: dict) -> float:\n",
        "  cmd = eval(f\"evalf_{ID(f)}\")\n",
        "  return cmd(f, x)"
      ],
      "metadata": {
        "id": "fhS5p9gLPYOy"
      },
      "execution_count": 511,
      "outputs": []
    },
    {
      "cell_type": "markdown",
      "source": [
        "* Пишем вычислители базовых элементов - чисел, символов и операции сложения. Если выражение не может быть вычислено (например, деление на ноль), то возвращаем в качестве результата константу `None`."
      ],
      "metadata": {
        "id": "StKbqPC4Ax7M"
      }
    },
    {
      "cell_type": "code",
      "source": [
        "def evalf_integer(f: tuple, x: dict) -> float:\n",
        "  return float(options(f)['value'])\n",
        "\n",
        "def evalf_rational(f: tuple, x: dict) -> float:\n",
        "  return options(f)['num'] / options(f)['denom']\n",
        "\n",
        "def evalf_symbol(f: tuple, x: dict) -> float:\n",
        "  n = options(f)['name']\n",
        "  return x.get(n, None)\n",
        "\n",
        "def evalf_add(f: tuple, x: dict) -> float:\n",
        "  a, b = evalf_(f[1], x), evalf_(f[2], x)\n",
        "  return a + b if a and b else None"
      ],
      "metadata": {
        "id": "3GfNM3-rA0mm"
      },
      "execution_count": 512,
      "outputs": []
    },
    {
      "cell_type": "markdown",
      "source": [
        "* Проверяем:"
      ],
      "metadata": {
        "id": "Jax9vmMHA3k5"
      }
    },
    {
      "cell_type": "code",
      "source": [
        "x, y = symbol('x'), symbol('y')\n",
        "f = Q(1, 3) + x + y\n",
        "show(f)\n",
        "evalf(f, {x: 5.5, y: -1}), evalf(1.2)"
      ],
      "metadata": {
        "colab": {
          "base_uri": "https://localhost:8080/",
          "height": 69
        },
        "id": "Ch1keyBfBDJp",
        "outputId": "1c902612-706f-4e65-c00c-51ee4eed4c67"
      },
      "execution_count": 513,
      "outputs": [
        {
          "output_type": "display_data",
          "data": {
            "text/plain": [
              "<IPython.core.display.Math object>"
            ],
            "text/latex": "$\\displaystyle {{\\frac{1}{3}} + {x}} + {y}$"
          },
          "metadata": {}
        },
        {
          "output_type": "execute_result",
          "data": {
            "text/plain": [
              "(4.833333333333333, 1.2)"
            ]
          },
          "metadata": {},
          "execution_count": 513
        }
      ]
    },
    {
      "cell_type": "markdown",
      "source": [
        "* Напишите по аналогии вычислители всех остальных арифметических операций"
      ],
      "metadata": {
        "id": "yWlrgzA1BdfD"
      }
    },
    {
      "cell_type": "code",
      "source": [
        "def evalf_sub(f: tuple, x: dict) -> float:\n",
        "  a, b = evalf_(f[1], x), evalf_(f[2], x)\n",
        "  return a - b if a and b else None\n",
        "\n",
        "def evalf_mul(f: tuple, x: dict) -> float:\n",
        "  a, b = evalf_(f[1], x), evalf_(f[2], x)\n",
        "  return a * b if a and b else None\n",
        "\n",
        "def evalf_div(f: tuple, x: dict) -> float:\n",
        "  a, b = evalf_(f[1], x), evalf_(f[2], x)\n",
        "  return a / b if a and b else None\n",
        "\n",
        "def evalf_deg(f: tuple, x: dict) -> float:\n",
        "  a, b = evalf_(f[1], x), evalf_(f[2], x)\n",
        "  return a ** b if a and b else None\n",
        "\n",
        "f = Q(1, 3) - x - y\n",
        "show(f)\n",
        "evalf(f, {x: 5.5, y: -1}), evalf(1.2)\n",
        "\n",
        "f = Q(1, 3) * x * y\n",
        "show(f)\n",
        "evalf(f, {x: 5.5, y: -1}), evalf(1.2)\n",
        "\n",
        "f = Q(1, 3) / x / y\n",
        "show(f)\n",
        "evalf(f, {x: 5.5, y: -1}), evalf(1.2)\n",
        "\n",
        "f = Q(1, 3) ** x ** y\n",
        "show(f)\n",
        "evalf(f, {x: 5.5, y: -1}), evalf(1.2)"
      ],
      "metadata": {
        "colab": {
          "base_uri": "https://localhost:8080/",
          "height": 195
        },
        "id": "mQYVrSFyBf4m",
        "outputId": "3d448f94-625e-4b27-c496-258e51087bd4"
      },
      "execution_count": 514,
      "outputs": [
        {
          "output_type": "display_data",
          "data": {
            "text/plain": [
              "<IPython.core.display.Math object>"
            ],
            "text/latex": "$\\displaystyle {{\\frac{1}{3}} - {x}} - {y}$"
          },
          "metadata": {}
        },
        {
          "output_type": "display_data",
          "data": {
            "text/plain": [
              "<IPython.core.display.Math object>"
            ],
            "text/latex": "$\\displaystyle {{\\frac{1}{3}} \\cdot {x}} \\cdot {y}$"
          },
          "metadata": {}
        },
        {
          "output_type": "display_data",
          "data": {
            "text/plain": [
              "<IPython.core.display.Math object>"
            ],
            "text/latex": "$\\displaystyle \\frac{\\frac{\\frac{1}{3}}{x}}{y}$"
          },
          "metadata": {}
        },
        {
          "output_type": "display_data",
          "data": {
            "text/plain": [
              "<IPython.core.display.Math object>"
            ],
            "text/latex": "$\\displaystyle {\\left( \\frac{1}{3} \\right)}^{\\left( {x}^{y} \\right)}$"
          },
          "metadata": {}
        },
        {
          "output_type": "execute_result",
          "data": {
            "text/plain": [
              "(0.8189373540396242, 1.2)"
            ]
          },
          "metadata": {},
          "execution_count": 514
        }
      ]
    },
    {
      "cell_type": "markdown",
      "source": [
        "* (дополнительное задание) Напишите вычислители многочленов и рациональных дробей"
      ],
      "metadata": {
        "id": "t1xLK7wpEjia"
      }
    },
    {
      "cell_type": "code",
      "source": [],
      "metadata": {
        "id": "-wU7mPr3EljE"
      },
      "execution_count": 514,
      "outputs": []
    },
    {
      "cell_type": "markdown",
      "source": [
        "### Константы\n",
        "\n",
        "Т.к. в нашей системе на символьном уровне нет поддержки вещественных чисел, а при вычислениях они бывают нужны (математические константы - $\\pi$, физические константы $g$ и т.д.), то включим их поддержку в виде констант - по сути, символов, которым приписаны фиксированные вещественные значения.\n",
        "\n",
        "* Создаем по стандартной схеме набор конструкторов для констант, преобразователь в LaTeX и вычислитель:"
      ],
      "metadata": {
        "id": "KNSX_3TEEp_o"
      }
    },
    {
      "cell_type": "code",
      "source": [
        "def const(name: str, value: float) -> Expression:\n",
        "  return Expression(const_(name, value))\n",
        "\n",
        "def const_(name: str, value: float) -> tuple:\n",
        "  # этот фрагмент кода повторяет создание символа, можно вынести его в отдельную функцию!\n",
        "  greek = ['alpha', 'beta', 'gamma', 'delta', 'epsilon', 'zeta', 'eta', 'theta',\n",
        "           'iota', 'kappa', 'lambda', 'mu', 'nu', 'xi', 'o', 'pi', 'rho', 'sigma',\n",
        "           'tau', 'upsilon', 'phi', 'chi', 'psi', 'omega',\n",
        "           'A', 'B', 'Gamma', 'Delta', 'varepsilon', 'Epsilon', 'Z', 'H', 'vartheta', 'Theta',\n",
        "           'I', 'K', 'Lambda', 'M', 'N', 'Xi', 'O', 'Pi', 'varrho', 'P', 'Sigma',\n",
        "           'T', 'Upsilon', 'varphi', 'Phi', 'X', 'Psi', 'Omega'] # дополните остальные греческие символы\n",
        "  n, s = name.split('_') if '_' in name else (name, '')\n",
        "  if n in greek:\n",
        "    n = f\"\\\\{n}\"\n",
        "  if s:\n",
        "    n = f\"{n}_{{{s}}}\"\n",
        "  return 'const', {'name': name, 'latex': n, 'value': value}\n",
        "\n",
        "def latex_const(x: tuple) -> str:\n",
        "  return options(x)['latex']\n",
        "\n",
        "def evalf_const(f: tuple, x: dict) -> float:\n",
        "  return options(f)['value']"
      ],
      "metadata": {
        "id": "Y166P8OLEtdt"
      },
      "execution_count": 515,
      "outputs": []
    },
    {
      "cell_type": "markdown",
      "source": [
        "* Проверяем на константе $\\pi$:"
      ],
      "metadata": {
        "id": "e-ky3_K0E2hv"
      }
    },
    {
      "cell_type": "code",
      "source": [
        "PI = const('pi', np.arccos(-1))\n",
        "\n",
        "show(2 * PI)\n",
        "evalf(2 * PI)"
      ],
      "metadata": {
        "colab": {
          "base_uri": "https://localhost:8080/",
          "height": 57
        },
        "id": "84fxGUavE49m",
        "outputId": "72bdc8ca-f02c-48d5-fce5-c0c995b751fa"
      },
      "execution_count": 516,
      "outputs": [
        {
          "output_type": "display_data",
          "data": {
            "text/plain": [
              "<IPython.core.display.Math object>"
            ],
            "text/latex": "$\\displaystyle {2} \\cdot {\\pi}$"
          },
          "metadata": {}
        },
        {
          "output_type": "execute_result",
          "data": {
            "text/plain": [
              "6.283185307179586"
            ]
          },
          "metadata": {},
          "execution_count": 516
        }
      ]
    },
    {
      "cell_type": "markdown",
      "source": [
        "### Математические функции\n",
        "\n",
        "Каждая функция будет представлена отдельным типом вершин, имя функции будет служить ее идентификатором типа.\n",
        "\n",
        "* Для примера создадим набор функций для работы с функцией $\\sin$: два конструктора, преобразование в LaTeX, вычислитель (`evalf`) и оцениватель (`eval`), который может выполнять частичное оценивание функций для \"хороших\" ее аргументов, например, $\\sin0\\to 0$, $\\cos0\\to 1$ и т.д."
      ],
      "metadata": {
        "id": "luCK7oR4E7Hk"
      }
    },
    {
      "cell_type": "code",
      "source": [
        "def sin(x: Expression) -> Expression:\n",
        "  return Expression(sin_(fix(x).T))\n",
        "\n",
        "def sin_(x: tuple) -> tuple:\n",
        "  return 'sin', x, {}\n",
        "\n",
        "def latex_sin(x: tuple) -> str:\n",
        "  a = latex_(x[1])\n",
        "  if ID(x[1]) != 'symbol':\n",
        "    a = enclose(a)\n",
        "  return f\"\\\\sin{{{a}}}\"\n",
        "\n",
        "def evalf_sin(f: tuple, x: dict) -> float:\n",
        "  a = evalf_(f[1], x)\n",
        "  return np.sin(a) if a else None\n",
        "\n",
        "def eval_sin(f: tuple) -> tuple:\n",
        "  a = eval_(f[1])\n",
        "  if is_zero(a):\n",
        "    return integer_(0)\n",
        "  return 'sin', a, {}"
      ],
      "metadata": {
        "id": "2B_vUhynE9j5"
      },
      "execution_count": 517,
      "outputs": []
    },
    {
      "cell_type": "markdown",
      "source": [
        "* Проверяем:"
      ],
      "metadata": {
        "id": "GU6BSiLGFCpJ"
      }
    },
    {
      "cell_type": "code",
      "source": [
        "x = symbol('x')\n",
        "f = sin(2 * x)\n",
        "show(f) # LaTeX\n",
        "show(evaluate(subs(f, {x: 0}))) # оценивание\n",
        "evalf(f, {x: PI}) # вычисление"
      ],
      "metadata": {
        "colab": {
          "base_uri": "https://localhost:8080/",
          "height": 78
        },
        "id": "4YxPnMxdFFGT",
        "outputId": "f12fc39d-14e3-4db7-feaf-1f01493eb40f"
      },
      "execution_count": 518,
      "outputs": [
        {
          "output_type": "display_data",
          "data": {
            "text/plain": [
              "<IPython.core.display.Math object>"
            ],
            "text/latex": "$\\displaystyle \\sin{\\left( {2} \\cdot {x} \\right)}$"
          },
          "metadata": {}
        },
        {
          "output_type": "display_data",
          "data": {
            "text/plain": [
              "<IPython.core.display.Math object>"
            ],
            "text/latex": "$\\displaystyle 0$"
          },
          "metadata": {}
        },
        {
          "output_type": "execute_result",
          "data": {
            "text/plain": [
              "-2.4492935982947064e-16"
            ]
          },
          "metadata": {},
          "execution_count": 518
        }
      ]
    },
    {
      "cell_type": "markdown",
      "source": [
        "* По аналогии создайте функции для работы с другими элементарными математическими функциями: $e^x$ - `exp(x)`, $\\ln{x}$, тригонометрические функции, обратные тригонометрические, квадратный корень, модуль. Для вычисления значений функций используйте подходящие функции пакета `numpy` (`np.cos`, `np.abs` и т.д.). Визуализируйте функции: `exp(x)` - как $e^x$, `sqrt(x)` - как $\\sqrt{x}$, `Abs(x)` - как $|x|$ (команда `abs` является встроенной в Python, ее не стоит переопределять). Для функций $\\cos{x}$, $e^x$, $\\ln{x}$ реализуйте оценивание в точке $x=0$ для косинуса и экспоненты, $x=1$ - для логарифма (нам это впоследствие понадобится для построения формулы Тэйлора данных функций)."
      ],
      "metadata": {
        "id": "l6ONcuIlFLFW"
      }
    },
    {
      "cell_type": "code",
      "source": [
        "def exp(x: Expression) -> Expression:\n",
        "  return Expression(exp_(fix(x).T))\n",
        "\n",
        "def exp_(x: tuple) -> tuple:\n",
        "  return 'exp', x, {}\n",
        "\n",
        "def latex_exp(x: tuple) -> str:\n",
        "  a = latex_(x[1])\n",
        "  if ID(x[1]) != 'symbol':\n",
        "    a = enclose(a)\n",
        "  return f\"e^{{{a}}}\"\n",
        "\n",
        "def evalf_exp(f: tuple, x: dict) -> float:\n",
        "  a = evalf_(f[1], x)\n",
        "  return np.exp(a)\n",
        "\n",
        "def eval_exp(f: tuple) -> tuple:\n",
        "  a = eval_(f[1])\n",
        "  if is_zero(a):\n",
        "    return integer_(1)\n",
        "  return 'exp', a, {}\n",
        "\n",
        "f = exp(2 * x)\n",
        "show(f) # LaTeX\n",
        "show(evaluate(subs(f, {x: 0}))) # оценивание\n",
        "evalf(f, {x: PI}) # вычисление"
      ],
      "metadata": {
        "colab": {
          "base_uri": "https://localhost:8080/",
          "height": 78
        },
        "id": "3zMOlzWLFQkq",
        "outputId": "4a4ca408-5cf0-420e-c66c-9e7d73a57af5"
      },
      "execution_count": 519,
      "outputs": [
        {
          "output_type": "display_data",
          "data": {
            "text/plain": [
              "<IPython.core.display.Math object>"
            ],
            "text/latex": "$\\displaystyle e^{\\left( {2} \\cdot {x} \\right)}$"
          },
          "metadata": {}
        },
        {
          "output_type": "display_data",
          "data": {
            "text/plain": [
              "<IPython.core.display.Math object>"
            ],
            "text/latex": "$\\displaystyle 1$"
          },
          "metadata": {}
        },
        {
          "output_type": "execute_result",
          "data": {
            "text/plain": [
              "535.4916555247646"
            ]
          },
          "metadata": {},
          "execution_count": 519
        }
      ]
    },
    {
      "cell_type": "code",
      "source": [
        "def cos(x: Expression) -> Expression:\n",
        "  return Expression(cos_(fix(x).T))\n",
        "\n",
        "def cos_(x: tuple) -> tuple:\n",
        "  return 'cos', x, {}\n",
        "\n",
        "def latex_cos(x: tuple) -> str:\n",
        "  a = latex_(x[1])\n",
        "  if ID(x[1]) != 'symbol':\n",
        "    a = enclose(a)\n",
        "  return f\"\\\\cos{{{a}}}\"\n",
        "\n",
        "def evalf_cos(f: tuple, x: dict) -> float:\n",
        "  a = evalf_(f[1], x)\n",
        "  return np.cos(a) if a else None\n",
        "\n",
        "def eval_cos(f: tuple) -> tuple:\n",
        "  a = eval_(f[1])\n",
        "  if options(a)['value'] == 1:\n",
        "    return integer_(1)\n",
        "  return 'cos', a, {}\n",
        "\n",
        "f = cos(2 * x)\n",
        "show(f) # LaTeX\n",
        "show(evaluate(subs(f, {x: 0}))) # оценивание\n",
        "evalf(f, {x: 1}) # вычисление"
      ],
      "metadata": {
        "colab": {
          "base_uri": "https://localhost:8080/",
          "height": 78
        },
        "id": "3K-HRMA2INfP",
        "outputId": "349c3712-69e1-40d3-ed4e-29b4f6c19eec"
      },
      "execution_count": 520,
      "outputs": [
        {
          "output_type": "display_data",
          "data": {
            "text/plain": [
              "<IPython.core.display.Math object>"
            ],
            "text/latex": "$\\displaystyle \\cos{\\left( {2} \\cdot {x} \\right)}$"
          },
          "metadata": {}
        },
        {
          "output_type": "display_data",
          "data": {
            "text/plain": [
              "<IPython.core.display.Math object>"
            ],
            "text/latex": "$\\displaystyle \\cos{\\left( 0 \\right)}$"
          },
          "metadata": {}
        },
        {
          "output_type": "execute_result",
          "data": {
            "text/plain": [
              "-0.4161468365471424"
            ]
          },
          "metadata": {},
          "execution_count": 520
        }
      ]
    },
    {
      "cell_type": "code",
      "source": [
        "def tan(x: Expression) -> Expression:\n",
        "  return Expression(tan_(fix(x).T))\n",
        "\n",
        "def tan_(x: tuple) -> tuple:\n",
        "  return 'tan', x, {}\n",
        "\n",
        "def latex_tan(x: tuple) -> str:\n",
        "  a = latex_(x[1])\n",
        "  if ID(x[1]) != 'symbol':\n",
        "    a = enclose(a)\n",
        "  return f\"\\\\tan{{{a}}}\"\n",
        "\n",
        "def evalf_tan(f: tuple, x: dict) -> float:\n",
        "  a = evalf_(f[1], x)\n",
        "  return np.tan(a) if a else None\n",
        "\n",
        "def eval_tan(f: tuple) -> tuple:\n",
        "  a = eval_(f[1])\n",
        "  if is_zero(a):\n",
        "    return integer_(0)\n",
        "  return 'tan', a, {}\n",
        "\n",
        "f = tan(2 * x)\n",
        "show(f) # LaTeX\n",
        "show(evaluate(subs(f, {x: 0}))) # оценивание\n",
        "evalf(f, {x: PI}) # вычисление"
      ],
      "metadata": {
        "id": "sA3QLIZ7IQH8",
        "colab": {
          "base_uri": "https://localhost:8080/",
          "height": 78
        },
        "outputId": "d3f4eecb-2dbe-493b-fdfb-f5560914afda"
      },
      "execution_count": 521,
      "outputs": [
        {
          "output_type": "display_data",
          "data": {
            "text/plain": [
              "<IPython.core.display.Math object>"
            ],
            "text/latex": "$\\displaystyle \\tan{\\left( {2} \\cdot {x} \\right)}$"
          },
          "metadata": {}
        },
        {
          "output_type": "display_data",
          "data": {
            "text/plain": [
              "<IPython.core.display.Math object>"
            ],
            "text/latex": "$\\displaystyle 0$"
          },
          "metadata": {}
        },
        {
          "output_type": "execute_result",
          "data": {
            "text/plain": [
              "-2.4492935982947064e-16"
            ]
          },
          "metadata": {},
          "execution_count": 521
        }
      ]
    },
    {
      "cell_type": "code",
      "source": [
        "def arcsin(x: Expression) -> Expression:\n",
        "  return Expression(arcsin_(fix(x).T))\n",
        "\n",
        "def arcsin_(x: tuple) -> tuple:\n",
        "  return 'arcsin', x, {}\n",
        "\n",
        "def latex_arcsin(x: tuple) -> str:\n",
        "  a = latex_(x[1])\n",
        "  if ID(x[1]) != 'symbol':\n",
        "    a = enclose(a)\n",
        "  return f\"\\\\arcsin{{{a}}}\"\n",
        "\n",
        "def evalf_arcsin(f: tuple, x: dict) -> float:\n",
        "  a = evalf_(f[1], x)\n",
        "  return np.arcsin(a) if a else None\n",
        "\n",
        "def eval_arcsin(f: tuple) -> tuple:\n",
        "  a = eval_(f[1])\n",
        "  if is_zero(a):\n",
        "    return integer_(0)\n",
        "  return 'arcsin', a, {}\n",
        "\n",
        "f = arcsin(2 * x)\n",
        "show(f) # LaTeX\n",
        "show(evaluate(subs(f, {x: 0}))) # оценивание\n",
        "evalf(f, {x: 0.25}) # вычисление"
      ],
      "metadata": {
        "id": "qWyXUlB5IUwS",
        "colab": {
          "base_uri": "https://localhost:8080/",
          "height": 78
        },
        "outputId": "73830dc4-b8ec-445d-a64d-64dfd606b200"
      },
      "execution_count": 522,
      "outputs": [
        {
          "output_type": "display_data",
          "data": {
            "text/plain": [
              "<IPython.core.display.Math object>"
            ],
            "text/latex": "$\\displaystyle \\arcsin{\\left( {2} \\cdot {x} \\right)}$"
          },
          "metadata": {}
        },
        {
          "output_type": "display_data",
          "data": {
            "text/plain": [
              "<IPython.core.display.Math object>"
            ],
            "text/latex": "$\\displaystyle 0$"
          },
          "metadata": {}
        },
        {
          "output_type": "execute_result",
          "data": {
            "text/plain": [
              "0.5235987755982989"
            ]
          },
          "metadata": {},
          "execution_count": 522
        }
      ]
    },
    {
      "cell_type": "code",
      "source": [
        "def arccos(x: Expression) -> Expression:\n",
        "  return Expression(arccos_(fix(x).T))\n",
        "\n",
        "def arccos_(x: tuple) -> tuple:\n",
        "  return 'arccos', x, {}\n",
        "\n",
        "def latex_arccos(x: tuple) -> str:\n",
        "  a = latex_(x[1])\n",
        "  if ID(x[1]) != 'symbol':\n",
        "    a = enclose(a)\n",
        "  return f\"\\\\arccos{{{a}}}\"\n",
        "\n",
        "def evalf_arccos(f: tuple, x: dict) -> float:\n",
        "  a = evalf_(f[1], x)\n",
        "  return np.arccos(a) if a else None\n",
        "\n",
        "def eval_arccos(f: tuple) -> tuple:\n",
        "  a = eval_(f[1])\n",
        "  if options(a)['value'] == 1:\n",
        "    return integer_(0)\n",
        "  return 'arccos', a, {}\n",
        "\n",
        "f = arccos(x)\n",
        "show(f) # LaTeX\n",
        "show(evaluate(subs(f, {x: 0}))) # оценивание\n",
        "evalf(f, {x: 1}) # вычисление"
      ],
      "metadata": {
        "id": "OPpG7N80IZ2x",
        "colab": {
          "base_uri": "https://localhost:8080/",
          "height": 78
        },
        "outputId": "5c1fc7af-5f07-4d37-906d-057aa3c1757a"
      },
      "execution_count": 523,
      "outputs": [
        {
          "output_type": "display_data",
          "data": {
            "text/plain": [
              "<IPython.core.display.Math object>"
            ],
            "text/latex": "$\\displaystyle \\arccos{x}$"
          },
          "metadata": {}
        },
        {
          "output_type": "display_data",
          "data": {
            "text/plain": [
              "<IPython.core.display.Math object>"
            ],
            "text/latex": "$\\displaystyle \\arccos{\\left( 0 \\right)}$"
          },
          "metadata": {}
        },
        {
          "output_type": "execute_result",
          "data": {
            "text/plain": [
              "0.0"
            ]
          },
          "metadata": {},
          "execution_count": 523
        }
      ]
    },
    {
      "cell_type": "code",
      "source": [
        "def arctan(x: Expression) -> Expression:\n",
        "  return Expression(arctan_(fix(x).T))\n",
        "\n",
        "def arctan_(x: tuple) -> tuple:\n",
        "  return 'arctan', x, {}\n",
        "\n",
        "def latex_arctan(x: tuple) -> str:\n",
        "  a = latex_(x[1])\n",
        "  if ID(x[1]) != 'symbol':\n",
        "    a = enclose(a)\n",
        "  return f\"\\\\arctan{{{a}}}\"\n",
        "\n",
        "def evalf_arctan(f: tuple, x: dict) -> float:\n",
        "  a = evalf_(f[1], x)\n",
        "  return np.arctan(a) if a else None\n",
        "\n",
        "def eval_arctan(f: tuple) -> tuple:\n",
        "  a = eval_(f[1])\n",
        "  if is_zero(a):\n",
        "    return integer_(0)\n",
        "  return 'arctan', a, {}\n",
        "\n",
        "f = arctan(2 * x)\n",
        "show(f) # LaTeX\n",
        "show(evaluate(subs(f, {x: 0}))) # оценивание\n",
        "evalf(f, {x: 0.25}) # вычисление"
      ],
      "metadata": {
        "id": "YrqyTzavIc_9",
        "colab": {
          "base_uri": "https://localhost:8080/",
          "height": 78
        },
        "outputId": "c693f422-3ed8-4dab-953c-ea9fca2b6125"
      },
      "execution_count": 524,
      "outputs": [
        {
          "output_type": "display_data",
          "data": {
            "text/plain": [
              "<IPython.core.display.Math object>"
            ],
            "text/latex": "$\\displaystyle \\arctan{\\left( {2} \\cdot {x} \\right)}$"
          },
          "metadata": {}
        },
        {
          "output_type": "display_data",
          "data": {
            "text/plain": [
              "<IPython.core.display.Math object>"
            ],
            "text/latex": "$\\displaystyle 0$"
          },
          "metadata": {}
        },
        {
          "output_type": "execute_result",
          "data": {
            "text/plain": [
              "0.4636476090008061"
            ]
          },
          "metadata": {},
          "execution_count": 524
        }
      ]
    },
    {
      "cell_type": "code",
      "source": [
        "def ln(x: Expression) -> Expression:\n",
        "  return Expression(ln_(fix(x).T))\n",
        "\n",
        "def ln_(x: tuple) -> tuple:\n",
        "  return 'ln', x, {}\n",
        "\n",
        "def latex_ln(x: tuple) -> str:\n",
        "  a = latex_(x[1])\n",
        "  if ID(x[1]) != 'symbol':\n",
        "    a = enclose(a)\n",
        "  return f\"\\\\ln{{{a}}}\"\n",
        "\n",
        "def evalf_ln(f: tuple, x: dict) -> float:\n",
        "  a = evalf_(f[1], x)\n",
        "  return np.log(a) if a else None\n",
        "\n",
        "def eval_ln(f: tuple) -> tuple:\n",
        "  a = eval_(f[1])\n",
        "  if options(a)['value'] == 1:\n",
        "    return integer_(0)\n",
        "  return 'ln', a, {}\n",
        "\n",
        "f = ln(x)\n",
        "show(f) # LaTeX\n",
        "show(evaluate(subs(f, {x: 1}))) # оценивание\n",
        "evalf(f, {x: 1}) # вычисление"
      ],
      "metadata": {
        "id": "jCxhCIeXIgnM",
        "colab": {
          "base_uri": "https://localhost:8080/",
          "height": 78
        },
        "outputId": "fd04d583-6a55-44ce-8b79-fb682c67729e"
      },
      "execution_count": 525,
      "outputs": [
        {
          "output_type": "display_data",
          "data": {
            "text/plain": [
              "<IPython.core.display.Math object>"
            ],
            "text/latex": "$\\displaystyle \\ln{x}$"
          },
          "metadata": {}
        },
        {
          "output_type": "display_data",
          "data": {
            "text/plain": [
              "<IPython.core.display.Math object>"
            ],
            "text/latex": "$\\displaystyle 0$"
          },
          "metadata": {}
        },
        {
          "output_type": "execute_result",
          "data": {
            "text/plain": [
              "0.0"
            ]
          },
          "metadata": {},
          "execution_count": 525
        }
      ]
    },
    {
      "cell_type": "code",
      "source": [
        "def Abs(x: Expression) -> Expression:\n",
        "  return Expression(abs_(fix(x).T))\n",
        "\n",
        "def abs_(x: tuple) -> tuple:\n",
        "  return 'abs', x, {}\n",
        "\n",
        "def latex_abs(x: tuple) -> str:\n",
        "  a = latex_(x[1])\n",
        "  return f\"|{{{a}}}|\"\n",
        "\n",
        "def evalf_abs(f: tuple, x: dict) -> float:\n",
        "  a = evalf_(f[1], x)\n",
        "  return np.abs(a) if a else None\n",
        "\n",
        "def eval_abs(f: tuple) -> tuple:\n",
        "  a = eval_(f[1])\n",
        "  if is_zero(a):\n",
        "    return integer_(0)\n",
        "  return 'abs', a, {}\n",
        "\n",
        "f = Abs(2 * x)\n",
        "show(f) # LaTeX\n",
        "show(evaluate(subs(f, {x: 0}))) # оценивание\n",
        "evalf(f, {x: PI}) # вычисление"
      ],
      "metadata": {
        "id": "HQw3BqpxIpbN",
        "colab": {
          "base_uri": "https://localhost:8080/",
          "height": 78
        },
        "outputId": "d8335261-4837-4e44-b7f7-dc538a76620a"
      },
      "execution_count": 526,
      "outputs": [
        {
          "output_type": "display_data",
          "data": {
            "text/plain": [
              "<IPython.core.display.Math object>"
            ],
            "text/latex": "$\\displaystyle |{{2} \\cdot {x}}|$"
          },
          "metadata": {}
        },
        {
          "output_type": "display_data",
          "data": {
            "text/plain": [
              "<IPython.core.display.Math object>"
            ],
            "text/latex": "$\\displaystyle 0$"
          },
          "metadata": {}
        },
        {
          "output_type": "execute_result",
          "data": {
            "text/plain": [
              "6.283185307179586"
            ]
          },
          "metadata": {},
          "execution_count": 526
        }
      ]
    },
    {
      "cell_type": "code",
      "source": [
        "def sqrt(x: Expression) -> Expression:\n",
        "  return Expression(sqrt_(fix(x).T))\n",
        "\n",
        "def sqrt_(x: tuple) -> tuple:\n",
        "  return 'sqrt', x, {}\n",
        "\n",
        "def latex_sqrt(x: tuple) -> str:\n",
        "  a = latex_(x[1])\n",
        "  return f\"\\\\sqrt{{{a}}}\"\n",
        "\n",
        "def evalf_sqrt(f: tuple, x: dict) -> float:\n",
        "  a = evalf_(f[1], x)\n",
        "  return np.sqrt(a) if a else None\n",
        "\n",
        "def eval_sqrt(f: tuple) -> tuple:\n",
        "  a = eval_(f[1])\n",
        "  if is_zero(a):\n",
        "    return integer_(0)\n",
        "  return 'sqrt', a, {}\n",
        "\n",
        "f = sqrt(2 * x)\n",
        "show(f) # LaTeX\n",
        "show(evaluate(subs(f, {x: 0}))) # оценивание\n",
        "evalf(f, {x: 2}) # вычисление"
      ],
      "metadata": {
        "id": "Zp0UQcLZIris",
        "colab": {
          "base_uri": "https://localhost:8080/",
          "height": 77
        },
        "outputId": "b9680980-3fbb-4664-f99e-43486f98bb3f"
      },
      "execution_count": 527,
      "outputs": [
        {
          "output_type": "display_data",
          "data": {
            "text/plain": [
              "<IPython.core.display.Math object>"
            ],
            "text/latex": "$\\displaystyle \\sqrt{{2} \\cdot {x}}$"
          },
          "metadata": {}
        },
        {
          "output_type": "display_data",
          "data": {
            "text/plain": [
              "<IPython.core.display.Math object>"
            ],
            "text/latex": "$\\displaystyle 0$"
          },
          "metadata": {}
        },
        {
          "output_type": "execute_result",
          "data": {
            "text/plain": [
              "2.0"
            ]
          },
          "metadata": {},
          "execution_count": 527
        }
      ]
    },
    {
      "cell_type": "markdown",
      "source": [
        "### Преобразование выражения в функцию Python\n",
        "\n",
        "Если требуется многократное вычисление значений символьного выражения (например, при построении его графика), то вызов функции `evalf` будет довольно дорогостоящим (в смысле времени работы). Удобнее один раз преобразовать данное выражение в обычную функцию Pyhon (желательно, с поддержкой библиотеки `numpy`) и дальше вызывать эту функцию для вычисления нужных нам значений.\n",
        "\n",
        "* Создадим для этой цели набор функций `pycode...`. На вход головной функции `pycode` подается выражение `f` и список переменных `X`, от которых будет зависеть сгенерированная лямбда-функция Python."
      ],
      "metadata": {
        "id": "70V0fgL4aoKT"
      }
    },
    {
      "cell_type": "code",
      "source": [
        "def pycode(F: Expression, X: list) -> callable:\n",
        "  n = len(X) # число переменных в генерируемой функции\n",
        "  V = [f\"x_{k}\" for k in range(n)] # имена аргументов для генерируемой анонимной функции, могут быть произвольными, т.к. это локальные переменные\n",
        "  D = {options(x.T)['name']: v for x, v in zip(X, V)} # словарь соответствия имен символов из X и имен из списка аргументов\n",
        "  f = f\"lambda {', '.join(V)}: {pycode_(F.T, D)}\" # генерация строки (команды) с описанием искомой анонимной функции\n",
        "  #print(f\"{f=}\") # можно раскомментировать эту строку, чтобы посмотреть на код сгенерированной функции\n",
        "  return eval(f) # выполняем команду f, результат выполнения - искомая анонимная функция"
      ],
      "metadata": {
        "id": "fO3N60QEarqO"
      },
      "execution_count": 528,
      "outputs": []
    },
    {
      "cell_type": "markdown",
      "source": [
        "* Пишем код для преобразования списочных выражений в строковое представление кода Python. Головная функция работает по стандартной схеме. Для каждого идентификатора типа создается отдельная функция. Для бинарных операций можно создать универсальный преобразователь, который принимает на вход знак операции, выражение (списочное) и словарь переменных. Аналогичный прием можно применить и для обработки математических функций."
      ],
      "metadata": {
        "id": "k4we3omFav21"
      }
    },
    {
      "cell_type": "code",
      "source": [
        "def pycode_(f: tuple, x: dict) -> str:\n",
        "  cmd = eval(f\"pycode_{ID(f)}\")\n",
        "  return cmd(f, x)\n",
        "\n",
        "def pycode_integer(f: tuple, x: dict) -> str:\n",
        "  return f\"{options(f)['value']}\"\n",
        "\n",
        "def pycode_rational(f: tuple, x: dict) -> str:\n",
        "  return f\"({options(f)['num']} / {options(f)['denom']})\"\n",
        "\n",
        "def pycode_symbol(f: tuple, x: dict) -> str:\n",
        "  return x.get(options(f)['name'], \"?\")\n",
        "\n",
        "def pycode_const(f: tuple, x: dict) -> str:\n",
        "  return f\"{options(f)['value']}\"\n",
        "\n",
        "# обработка бинарных операций +, -, *, /, **\n",
        "def pycode_binary(op: str, f: tuple, x: dict) -> str:\n",
        "  a, b = pycode_(f[1], x), pycode_(f[2], x)\n",
        "  return f\"({a} {op} {b})\"\n",
        "\n",
        "def pycode_add(f: tuple, x: dict) -> str:\n",
        "  return pycode_binary('+', f, x)\n",
        "\n",
        "# обработка математичкеских функций sin, cos и т.д.\n",
        "def pycode_func(fn: str, f: tuple, x: dict) -> str:\n",
        "  a = pycode_(f[1], x)\n",
        "  return f\"{fn}({a})\"\n",
        "\n",
        "def pycode_sin(f: tuple, x: dict) -> str:\n",
        "  return pycode_func('np.sin', f, x)\n"
      ],
      "metadata": {
        "id": "7tzPCOfra1JO"
      },
      "execution_count": 529,
      "outputs": []
    },
    {
      "cell_type": "markdown",
      "source": [
        "* Напишите преобразователи остальных арифметических операций и математических функций."
      ],
      "metadata": {
        "id": "5LiT4lTKa9Jl"
      }
    },
    {
      "cell_type": "code",
      "source": [],
      "metadata": {
        "id": "nOIpdYkea_xu"
      },
      "execution_count": 529,
      "outputs": []
    }
  ]
}