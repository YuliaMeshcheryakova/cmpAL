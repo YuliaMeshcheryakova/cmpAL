{
  "nbformat": 4,
  "nbformat_minor": 0,
  "metadata": {
    "colab": {
      "provenance": [],
      "authorship_tag": "ABX9TyM/uENyBgvzNBeoUyvvkpGI",
      "include_colab_link": true
    },
    "kernelspec": {
      "name": "python3",
      "display_name": "Python 3"
    },
    "language_info": {
      "name": "python"
    }
  },
  "cells": [
    {
      "cell_type": "markdown",
      "metadata": {
        "id": "view-in-github",
        "colab_type": "text"
      },
      "source": [
        "<a href=\"https://colab.research.google.com/github/YuliaMeshcheryakova/cmpAL/blob/main/%D0%97%D0%B0%D0%B4%D0%B0%D0%BD%D0%B8%D0%B51.ipynb\" target=\"_parent\"><img src=\"https://colab.research.google.com/assets/colab-badge.svg\" alt=\"Open In Colab\"/></a>"
      ]
    },
    {
      "cell_type": "code",
      "execution_count": 1,
      "metadata": {
        "id": "26JIWwdJYNg5"
      },
      "outputs": [],
      "source": [
        "from IPython.display import display, Math\n",
        "import numpy as np"
      ]
    },
    {
      "cell_type": "markdown",
      "source": [
        "Определяем функцию для создания узла дерева для хранения целых чисел"
      ],
      "metadata": {
        "id": "1Vu_-LZub4gS"
      }
    },
    {
      "cell_type": "code",
      "source": [
        "def integer_(x: int) -> tuple:\n",
        "  return 'integer', {'value': x}\n",
        "\n",
        "a = integer_(-34)\n",
        "a"
      ],
      "metadata": {
        "colab": {
          "base_uri": "https://localhost:8080/"
        },
        "id": "cpRvPwf5ZB-y",
        "outputId": "b09e3ad2-542a-4f19-d3ad-6eb3382e258c"
      },
      "execution_count": 2,
      "outputs": [
        {
          "output_type": "execute_result",
          "data": {
            "text/plain": [
              "('integer', {'value': -34})"
            ]
          },
          "metadata": {},
          "execution_count": 2
        }
      ]
    },
    {
      "cell_type": "markdown",
      "source": [
        "ID(x) - возвращает идентификатор узла\n",
        "\n",
        "items(x) - возвращает список дочерних узлов\n",
        "\n",
        "options(x) - возвращает словарь с параметрами узла\n",
        "\n",
        "isTerminal(x) - возвращает True, если узел --- лист, т.е. не содержит дочерних узлов"
      ],
      "metadata": {
        "id": "r8tCM7w2b_TT"
      }
    },
    {
      "cell_type": "code",
      "source": [
        "def ID(x: tuple) -> str:\n",
        "  return x[0]\n",
        "\n",
        "def items(x: tuple) -> list:\n",
        "  return x[1 :-1]\n",
        "\n",
        "def options(x: tuple) -> dict:\n",
        "  return x[-1]\n",
        "\n",
        "def isTerminal(x: tuple) -> bool:\n",
        "  return len(items(x))==0\n",
        "\n",
        "ID(a), items(a), options(a), isTerminal(a)"
      ],
      "metadata": {
        "colab": {
          "base_uri": "https://localhost:8080/"
        },
        "id": "IBhXKvk-ZEJp",
        "outputId": "334f721b-5ef9-4676-8a37-06cf6322bc34"
      },
      "execution_count": 3,
      "outputs": [
        {
          "output_type": "execute_result",
          "data": {
            "text/plain": [
              "('integer', (), {'value': -34}, True)"
            ]
          },
          "metadata": {},
          "execution_count": 3
        }
      ]
    },
    {
      "cell_type": "markdown",
      "source": [
        "Определяем функции для преобразования узла в LaTeX-выражение"
      ],
      "metadata": {
        "id": "sQ0xryRfcIN5"
      }
    },
    {
      "cell_type": "code",
      "source": [
        "def latex_(x: tuple) -> str:\n",
        "  cmd = eval(f\"latex_{ID(x)}\")\n",
        "  return cmd(x)\n",
        "\n",
        "def latex_integer(x: tuple) -> str:\n",
        "  return f\"{options(x)['value']}\"\n",
        "\n",
        "latex_(a)"
      ],
      "metadata": {
        "colab": {
          "base_uri": "https://localhost:8080/",
          "height": 36
        },
        "id": "pMZF53t7ZEUZ",
        "outputId": "99625da5-9bca-40d8-d469-35416058d9e3"
      },
      "execution_count": 4,
      "outputs": [
        {
          "output_type": "execute_result",
          "data": {
            "text/plain": [
              "'-34'"
            ],
            "application/vnd.google.colaboratory.intrinsic+json": {
              "type": "string"
            }
          },
          "metadata": {},
          "execution_count": 4
        }
      ]
    },
    {
      "cell_type": "markdown",
      "source": [
        "Определяем функцию show_ для визуализации формулы, представленной деревом x"
      ],
      "metadata": {
        "id": "rwQaShLGcMUZ"
      }
    },
    {
      "cell_type": "code",
      "source": [
        "def show_(x: tuple) -> None:\n",
        "  display(Math(latex_(x)))\n",
        "\n",
        "show_(integer_(-123))\n",
        "print(-123)"
      ],
      "metadata": {
        "colab": {
          "base_uri": "https://localhost:8080/",
          "height": 56
        },
        "id": "h_YzPY9XZEb5",
        "outputId": "d6efd8f0-e053-46de-8517-a5101111e5b7"
      },
      "execution_count": 5,
      "outputs": [
        {
          "output_type": "display_data",
          "data": {
            "text/plain": [
              "<IPython.core.display.Math object>"
            ],
            "text/latex": "$\\displaystyle -123$"
          },
          "metadata": {}
        },
        {
          "output_type": "stream",
          "name": "stdout",
          "text": [
            "-123\n"
          ]
        }
      ]
    },
    {
      "cell_type": "code",
      "source": [
        "def symbol_(x: str) -> tuple:\n",
        "  greek = ['alpha', 'beta', 'gamma','delta', 'epsilon', 'zeta', 'eta', 'theta',\n",
        "           'iota', 'kappa', 'lambda', 'mu', 'nu', 'xi', 'o', 'pi', 'rho', 'sigma',\n",
        "           'tau', 'upsilon', 'phi', 'chi', 'psi', 'omega',\n",
        "           'A', 'B', 'Gamma', 'Delta', 'varepsilon', 'Epsilon', 'Z', 'H', 'vartheta', 'Theta',\n",
        "           'I', 'K', 'Lambda', 'M', 'N', 'Xi', 'O', 'Pi', 'varrho', 'P', 'Sigma',\n",
        "           'T', 'Upsilon', 'varphi', 'Phi', 'X', 'Psi', 'Omega',]\n",
        "  n, s = x.split('_') if '_' in x else (x, '')\n",
        "  if n in greek:\n",
        "    n = f\"\\\\{n}\"\n",
        "  if s:\n",
        "    n = f\"{n}_{{{s}}}\"\n",
        "  return 'symbol', {'name': x, 'latex': n}\n",
        "\n",
        "def latex_symbol(x: tuple) -> str:\n",
        "  return options(x)['latex']\n",
        "\n",
        "x, alpha = symbol_('x_1'), symbol_('alpha')\n",
        "show_(x)\n",
        "show_(alpha)"
      ],
      "metadata": {
        "colab": {
          "base_uri": "https://localhost:8080/",
          "height": 61
        },
        "id": "CMMa9sk6cOkg",
        "outputId": "ddcfced6-aa42-4514-b902-969b2303be7f"
      },
      "execution_count": 6,
      "outputs": [
        {
          "output_type": "display_data",
          "data": {
            "text/plain": [
              "<IPython.core.display.Math object>"
            ],
            "text/latex": "$\\displaystyle x_{1}$"
          },
          "metadata": {}
        },
        {
          "output_type": "display_data",
          "data": {
            "text/plain": [
              "<IPython.core.display.Math object>"
            ],
            "text/latex": "$\\displaystyle \\alpha$"
          },
          "metadata": {}
        }
      ]
    },
    {
      "cell_type": "code",
      "source": [
        "def add_(x: tuple, y: tuple) -> tuple:\n",
        "  return 'add', x, y, {}\n",
        "\n",
        "def sub_(x: tuple, y: tuple) -> tuple:\n",
        "  return 'sub', x, y, {}\n",
        "\n",
        "def mul_(x: tuple, y: tuple) -> tuple:\n",
        "  return 'mul', x, y, {}\n",
        "\n",
        "def div_(x: tuple, y: tuple) -> tuple:\n",
        "  return 'div', x, y, {}\n",
        "\n",
        "def deg_(x: tuple, y: tuple) -> tuple:\n",
        "  return 'deg', x, y, {}\n",
        "\n",
        "def and_(x: tuple, y: tuple) -> tuple:\n",
        "  return 'and', x, y, {}\n",
        "\n",
        "def or_(x: tuple, y: tuple) -> tuple:\n",
        "  return 'or', x, y, {}\n",
        "\n",
        "def xor_(x: tuple, y: tuple) -> tuple:\n",
        "  return 'xor', x, y, {}\n",
        "\n",
        "def eq_(x: tuple, y: tuple) -> tuple:\n",
        "  return 'eq', x, y, {}\n",
        "\n",
        "def ne_(x: tuple, y: tuple) -> tuple:\n",
        "  return 'ne', x, y, {}\n",
        "\n",
        "def lt_(x: tuple, y: tuple) -> tuple:\n",
        "  return 'lt', x, y, {}\n",
        "\n",
        "def le_(x: tuple, y: tuple) -> tuple:\n",
        "  return 'le', x, y, {}\n",
        "\n",
        "def gt_(x: tuple, y: tuple) -> tuple:\n",
        "  return 'gt', x, y, {}\n",
        "\n",
        "def ge_(x: tuple, y: tuple) -> tuple:\n",
        "  return 'ge', x, y, {}\n",
        "\n",
        "def neg_(x: tuple) -> tuple:\n",
        "  return 'neg', x, {}\n",
        "\n",
        "def inv_(x: tuple) -> tuple:\n",
        "  return 'inv', x, {}"
      ],
      "metadata": {
        "id": "Gc0RVLHTb11b"
      },
      "execution_count": 7,
      "outputs": []
    },
    {
      "cell_type": "code",
      "source": [
        "a = integer_(34)\n",
        "x = symbol_('x')\n",
        "y = symbol_('y')\n",
        "f = mul_(add_(a, x), y)\n",
        "print(f)"
      ],
      "metadata": {
        "colab": {
          "base_uri": "https://localhost:8080/"
        },
        "id": "zuoNj-Bze3sn",
        "outputId": "b91525f6-b62d-492f-f737-0d03eeab81a1"
      },
      "execution_count": 8,
      "outputs": [
        {
          "output_type": "stream",
          "name": "stdout",
          "text": [
            "('mul', ('add', ('integer', {'value': 34}), ('symbol', {'name': 'x', 'latex': 'x'}), {}), ('symbol', {'name': 'y', 'latex': 'y'}), {})\n"
          ]
        }
      ]
    },
    {
      "cell_type": "code",
      "source": [
        "priority = {'deg': 9, 'neg': 8, 'inv': 8, 'mul': 7, 'div': 7, 'add' : 6, 'and': 5, 'xor': 4, 'or': 3, 'eq': 2, 'ne': 2, 'lt': 2, 'le': 2, 'gt': 2, 'ge': 2}\n",
        "\n",
        "def Pr(x: tuple) -> int:\n",
        "  return priority.get(ID(x), 10)\n",
        "\n",
        "print(Pr(f))"
      ],
      "metadata": {
        "colab": {
          "base_uri": "https://localhost:8080/"
        },
        "id": "LueWsARag3lM",
        "outputId": "6788899b-292c-44aa-83fd-8e2f3b2188ac"
      },
      "execution_count": 9,
      "outputs": [
        {
          "output_type": "stream",
          "name": "stdout",
          "text": [
            "7\n"
          ]
        }
      ]
    },
    {
      "cell_type": "code",
      "source": [
        "def enclose(x: str) -> str:\n",
        "  return f\"\\\\left( {x} \\\\right)\""
      ],
      "metadata": {
        "id": "z9Lfhedcj_qp"
      },
      "execution_count": 10,
      "outputs": []
    },
    {
      "cell_type": "code",
      "source": [
        "def latex_add(x: tuple) -> str:\n",
        "  a, b = latex_(x[1]), latex_(x[2])\n",
        "  if Pr(x[1]) < Pr(x):\n",
        "    a = enclose(a)\n",
        "  if Pr(x[2]) <= Pr(x):\n",
        "    b = enclose(b)\n",
        "  return f\"{{{a}}} + {{{b}}}\"\n",
        "\n",
        "def latex_mul(x: tuple) -> str:\n",
        "  a, b = latex_(x[1]), latex_(x[2])\n",
        "  if Pr(x[1]) < Pr(x):\n",
        "    a = enclose(a)\n",
        "  if Pr(x[2]) <= Pr(x) or options(x[2]).get('value', 1)<0 or ID(x[2])=='neg':\n",
        "    b = enclose(b)\n",
        "  return f\"{{{a}}} \\\\cdot {{{b}}}\"\n",
        "\n",
        "def latex_div(x: tuple) -> str:\n",
        "  a, b = latex_(x[1]), latex_(x[2])\n",
        "  return f\"\\\\frac{{{a}}}{{{b}}}\"\n",
        "\n",
        "def latex_sub(x: tuple) -> str:\n",
        "  a, b = latex_(x[1]), latex_(x[2])\n",
        "  if Pr(x[1]) < Pr(x):\n",
        "    a = enclose(a)\n",
        "  if Pr(x[2]) <= Pr(x)or options(x[2]).get('value', 1)<0 or ID(x[2])=='neg':\n",
        "    b = enclose(b)\n",
        "  return f\"{{{a}}} - {{{b}}}\"\n",
        "\n",
        "def latex_deg(x: tuple) -> str:\n",
        "  a, b = latex_(x[1]), latex_(x[2])\n",
        "  if Pr(x[1]) < Pr(x) or (ID(x[1]) == 'rational' and options(x[1])['denom'] != 1):\n",
        "    a = enclose(a)\n",
        "  if Pr(x[2]) <= Pr(x):\n",
        "    b = enclose(b)\n",
        "  return f\"{{{a}}}^{{{b}}}\"\n",
        "\n",
        "def latex_inv(x: tuple) -> str:\n",
        "  a = latex_(x[1])\n",
        "  if options(x[1]).get('value', 1)<0 or ID(x[1])=='neg':\n",
        "    a = enclose(a)\n",
        "  return f\"\\\\neg {{{a}}}\"\n",
        "\n",
        "def latex_neg(x: tuple) -> str:\n",
        "  a = latex_(x[1])\n",
        "  if options(x[1]).get('value', 1)<0 or ID(x[1])=='neg':\n",
        "    a = enclose(a)\n",
        "  return f\" -{{{a}}}\"\n",
        "\n",
        "def latex_and(x: tuple) -> str:\n",
        "  a, b = latex_(x[1]), latex_(x[2])\n",
        "  if Pr(x[1]) < Pr(x):\n",
        "    a = enclose(a)\n",
        "  if Pr(x[2]) <= Pr(x)or options(x[2]).get('value', 1)<0 or ID(x[2])=='neg':\n",
        "    b = enclose(b)\n",
        "  return f\"{{{a}}} \\wedge {{{b}}}\"\n",
        "\n",
        "def latex_or(x: tuple) -> str:\n",
        "  a, b = latex_(x[1]), latex_(x[2])\n",
        "  if Pr(x[1]) < Pr(x):\n",
        "    a = enclose(a)\n",
        "  if Pr(x[2]) <= Pr(x)or options(x[2]).get('value', 1)<0 or ID(x[2])=='neg':\n",
        "    b = enclose(b)\n",
        "  return f\"{{{a}}} \\vee {{{b}}}\"\n",
        "\n",
        "def latex_xor(x: tuple) -> str:\n",
        "  a, b = latex_(x[1]), latex_(x[2])\n",
        "  if Pr(x[1]) < Pr(x):\n",
        "    a = enclose(a)\n",
        "  if Pr(x[2]) <= Pr(x)or options(x[2]).get('value', 1)<0 or ID(x[2])=='neg':\n",
        "    b = enclose(b)\n",
        "  return f\"{a} \\oplus {b}\"\n",
        "\n",
        "def latex_eq(x: tuple) -> str:\n",
        "  a, b = latex_(x[1]), latex_(x[2])\n",
        "  if Pr(x[1]) < Pr(x):\n",
        "    a = enclose(a)\n",
        "  if Pr(x[2]) <= Pr(x):\n",
        "    b = enclose(b)\n",
        "  return f\"{{{a}}} = {{{b}}}\"\n",
        "\n",
        "def latex_ne(x: tuple) -> str:\n",
        "  a, b = latex_(x[1]), latex_(x[2])\n",
        "  if Pr(x[1]) < Pr(x):\n",
        "    a = enclose(a)\n",
        "  if Pr(x[2]) <= Pr(x):\n",
        "    b = enclose(b)\n",
        "  return f\"{{{a}}} \\\\neq {{{b}}}\"\n",
        "\n",
        "def latex_lt(x: tuple) -> str:\n",
        "  a, b = latex_(x[1]), latex_(x[2])\n",
        "  if Pr(x[1]) < Pr(x):\n",
        "    a = enclose(a)\n",
        "  if Pr(x[2]) <= Pr(x):\n",
        "    b = enclose(b)\n",
        "  return f\"{{{a}}} < {{{b}}}\"\n",
        "\n",
        "def latex_le(x: tuple) -> str:\n",
        "  a, b = latex_(x[1]), latex_(x[2])\n",
        "  if Pr(x[1]) < Pr(x):\n",
        "    a = enclose(a)\n",
        "  if Pr(x[2]) <= Pr(x):\n",
        "    b = enclose(b)\n",
        "  return f\"{{{a}}} \\\\leq {{{b}}}\"\n",
        "\n",
        "def latex_gt(x: tuple) -> str:\n",
        "  a, b = latex_(x[1]), latex_(x[2])\n",
        "  if Pr(x[1]) < Pr(x):\n",
        "    a = enclose(a)\n",
        "  if Pr(x[2]) <= Pr(x):\n",
        "    b = enclose(b)\n",
        "  return f\"{{{a}}} > {{{b}}}\"\n",
        "\n",
        "def latex_ge(x: tuple) -> str:\n",
        "  a, b = latex_(x[1]), latex_(x[2])\n",
        "  if Pr(x[1]) < Pr(x):\n",
        "    a = enclose(a)\n",
        "  if Pr(x[2]) <= Pr(x):\n",
        "    b = enclose(b)\n",
        "  return f\"{{{a}}} \\\\geq {{{b}}}\""
      ],
      "metadata": {
        "id": "bAKYYd34kawd"
      },
      "execution_count": 11,
      "outputs": []
    },
    {
      "cell_type": "code",
      "source": [
        "a = integer_(34)\n",
        "y = integer_(10)\n",
        "x = symbol_('x')\n",
        "f = mul_(add_(a, y), y)\n",
        "show_(f)\n",
        "\n",
        "show_(neg_(integer_(-11)))\n",
        "show_(deg_(x, integer_(-1)))\n",
        "show_( div_(mul_(add_(a, y), y), neg_(y)))\n",
        "\n",
        "\n"
      ],
      "metadata": {
        "colab": {
          "base_uri": "https://localhost:8080/",
          "height": 117
        },
        "id": "zCp8PqVQsoC0",
        "outputId": "ce1ee090-2858-491d-ea98-d00f5ee0ebd6"
      },
      "execution_count": 12,
      "outputs": [
        {
          "output_type": "display_data",
          "data": {
            "text/plain": [
              "<IPython.core.display.Math object>"
            ],
            "text/latex": "$\\displaystyle {\\left( {34} + {10} \\right)} \\cdot {10}$"
          },
          "metadata": {}
        },
        {
          "output_type": "display_data",
          "data": {
            "text/plain": [
              "<IPython.core.display.Math object>"
            ],
            "text/latex": "$\\displaystyle  -{\\left( -11 \\right)}$"
          },
          "metadata": {}
        },
        {
          "output_type": "display_data",
          "data": {
            "text/plain": [
              "<IPython.core.display.Math object>"
            ],
            "text/latex": "$\\displaystyle {x}^{-1}$"
          },
          "metadata": {}
        },
        {
          "output_type": "display_data",
          "data": {
            "text/plain": [
              "<IPython.core.display.Math object>"
            ],
            "text/latex": "$\\displaystyle \\frac{{\\left( {34} + {10} \\right)} \\cdot {10}}{ -{10}}$"
          },
          "metadata": {}
        }
      ]
    },
    {
      "cell_type": "code",
      "source": [
        "class Expression:\n",
        "  def __init__(self, x):\n",
        "    self.T = x\n",
        "\n",
        "  def __add__(self, x):\n",
        "    return Expression(add_(self.T, fix(x).T))\n",
        "\n",
        "  def __sub__(self, x):\n",
        "    return Expression(sub_(self.T, fix(x).T))\n",
        "\n",
        "  def __mul__(self, x):\n",
        "    return Expression(mul_(self.T, fix(x).T))\n",
        "\n",
        "  def __truediv__(self, x):\n",
        "    return Expression(div_(self.T, fix(x).T))\n",
        "\n",
        "  def __pow__(self, x):\n",
        "      return Expression(deg_(self.T, fix(x).T))\n",
        "\n",
        "  def __and__(self, x):\n",
        "    return Expression(and_(self.T, fix(x).T))\n",
        "\n",
        "  def __or__(self, x):\n",
        "    return Expression(or_(self.T, fix(x).T))\n",
        "\n",
        "  def __xor__(self, x):\n",
        "    return Expression(xor_(self.T, fix(x).T))\n",
        "\n",
        "  def __eq__(self, x):\n",
        "    return Expression(eq_(self.T, fix(x).T))\n",
        "\n",
        "  def __ne__(self, x):\n",
        "    return Expression(ne_(self.T, fix(x).T))\n",
        "\n",
        "  def __lt__(self, x):\n",
        "    return Expression(lt_(self.T, fix(x).T))\n",
        "\n",
        "  def __le__(self, x):\n",
        "    return Expression(le_(self.T, fix(x).T))\n",
        "\n",
        "  def __gt__(self, x):\n",
        "    return Expression(gt_(self.T, fix(x).T))\n",
        "\n",
        "  def __ge__(self, x):\n",
        "    return Expression(ge_(self.T, fix(x).T))\n",
        "\n",
        "  def __invert__(self):\n",
        "    return Expression(inv_(fix(self).T))\n",
        "\n",
        "  def __neg__(self):\n",
        "    return Expression(neg_(fix(self).T))\n",
        "\n",
        "  def __radd__(self, x):\n",
        "    return Expression(add_(fix(x).T, self.T))\n",
        "\n",
        "  def __rsub__(self, x):\n",
        "    return Expression(sub_(fix(x).T, self.T))\n",
        "\n",
        "  def __rmul__(self, x):\n",
        "    return Expression(mul_(fix(x).T, self.T))\n",
        "\n",
        "  def __rtruediv__(self, x):\n",
        "    return Expression(div_(fix(x).T, self.T))\n",
        "\n",
        "  def __rpow__(self, x):\n",
        "    return Expression(deg_(fix(x).T, self.T))\n",
        "\n",
        "  def __rand__(self, x):\n",
        "    return Expression(and_(fix(x).T, self.T))\n",
        "\n",
        "  def __ror__(self, x):\n",
        "    return Expression(or_(fix(x).T, self.T))\n",
        "\n",
        "  def __rxor__(self, x):\n",
        "    return Expression(xor_(fix(x).T, self.T))\n",
        "\n",
        "  def __hash__(self):\n",
        "    return hash(str(self.T))\n",
        "\n",
        "def fix(x):\n",
        "  if isinstance(x, int):\n",
        "    return Expression(integer_(x))\n",
        "  return x\n",
        "\n"
      ],
      "metadata": {
        "id": "jePSRGbksoau"
      },
      "execution_count": 13,
      "outputs": []
    },
    {
      "cell_type": "markdown",
      "source": [
        "Создаем обертки для функций integer_ и symbol_\n",
        "опциональное (бонусное) задание: напишите функцию symbols, которая позволяет создавать сразу несколько символьных переменных: x, y, z = symbols('x y z')"
      ],
      "metadata": {
        "id": "_Tozg2V8Zzo9"
      }
    },
    {
      "cell_type": "code",
      "source": [
        "def Z(x: int) -> Expression:\n",
        "  return Expression(integer_(x))\n",
        "\n",
        "def symbol(x: str) -> Expression:\n",
        "  return Expression(symbol_(x))\n",
        "\n",
        "def symbols(x: str) -> Expression:\n",
        "  a = x.split()\n",
        "  for i in range(len(a)):\n",
        "     a[i] = Expression(symbol_(a[i]))\n",
        "  return a"
      ],
      "metadata": {
        "id": "yLHEByiFZcdf"
      },
      "execution_count": 14,
      "outputs": []
    },
    {
      "cell_type": "markdown",
      "source": [
        "Определяем функцию show вывода выражений, заданных классом Expression\n",
        "протестируйте работу всех функций на различных выражениях"
      ],
      "metadata": {
        "id": "3gEJiXazZ5Ir"
      }
    },
    {
      "cell_type": "code",
      "source": [
        "def show(x: Expression) -> None:\n",
        "  show_(x.T)"
      ],
      "metadata": {
        "id": "2b1mtRJSZw3B"
      },
      "execution_count": 15,
      "outputs": []
    },
    {
      "cell_type": "code",
      "source": [
        "a, x = Z(13), symbol('x_2')\n",
        "\n",
        "show(a / x ** a)"
      ],
      "metadata": {
        "colab": {
          "base_uri": "https://localhost:8080/",
          "height": 54
        },
        "id": "iqBTshCYc0iA",
        "outputId": "ff7b725b-5e8d-4bcd-dd28-4720084c7cb4"
      },
      "execution_count": 16,
      "outputs": [
        {
          "output_type": "display_data",
          "data": {
            "text/plain": [
              "<IPython.core.display.Math object>"
            ],
            "text/latex": "$\\displaystyle \\frac{13}{{x_{2}}^{13}}$"
          },
          "metadata": {}
        }
      ]
    },
    {
      "cell_type": "code",
      "source": [
        "import matplotlib\n",
        "import matplotlib.pyplot as plt\n",
        "import networkx as nx\n",
        "from networkx.drawing.nx_pydot import graphviz_layout\n",
        "from networkx.readwrite import json_graph\n",
        "\n",
        "def makeGraph(x: tuple, nodes: list, labels: list, links: list) -> int:\n",
        "  id_ = len(nodes)\n",
        "  nodes.append({'id': id_})\n",
        "  if isTerminal(x):\n",
        "    labels[id_] = f'${latex_(x)}$'\n",
        "  else:\n",
        "    labels[id_] = x[0]\n",
        "    for a in x[1:]:\n",
        "      if isinstance(a, tuple):\n",
        "        cid = makeGraph(a, nodes, labels, links)\n",
        "        links.append({'source': id_, 'target': cid})\n",
        "  return id_\n",
        "\n",
        "def drawGraph_(x: tuple, size) -> None:\n",
        "  nodes, labels, links = [], {}, []\n",
        "  makeGraph(x, nodes, labels, links)\n",
        "  graph = json_graph.node_link_graph({'nodes': nodes, 'links': links}, directed=True, multigraph=False)\n",
        "  pos = graphviz_layout(graph, prog=\"dot\")\n",
        "  fig, ax = plt.subplots(figsize=(3 * size, 3 * size))\n",
        "  ax.set_axis_off()\n",
        "  nx.draw_networkx_edges(graph.to_directed(), pos, ax = ax, edge_color=\"black\")\n",
        "  nx.draw_networkx_labels(graph.to_directed(), pos, labels = labels, font_color = \"blue\")\n",
        "\n",
        "def drawGraph(x: Expression, size: float = 1) -> None:\n",
        "  drawGraph_(x.T, size)\n",
        "\n",
        "x, y = symbol('x'), symbol('y')\n",
        "drawGraph((x + y) / Z(34))"
      ],
      "metadata": {
        "id": "u7cLwA76aAGh",
        "colab": {
          "base_uri": "https://localhost:8080/",
          "height": 361
        },
        "outputId": "fde60f08-f10e-45f3-ae90-3337c4df69b0"
      },
      "execution_count": 17,
      "outputs": [
        {
          "output_type": "stream",
          "name": "stderr",
          "text": [
            "<ipython-input-17-1e3c6b446c2a>:24: DeprecationWarning: nx.nx_pydot.graphviz_layout depends on the pydot package, which has known issues and is not actively maintained. Consider using nx.nx_agraph.graphviz_layout instead.\n",
            "\n",
            "See https://github.com/networkx/networkx/issues/5723\n",
            "  pos = graphviz_layout(graph, prog=\"dot\")\n"
          ]
        },
        {
          "output_type": "display_data",
          "data": {
            "text/plain": [
              "<Figure size 300x300 with 1 Axes>"
            ],
            "image/png": "[encoded data removed]"
          },
          "metadata": {}
        }
      ]
    },
    {
      "cell_type": "markdown",
      "source": [
        "# Часть 2\n"
      ],
      "metadata": {
        "id": "nHfAbGl-ameJ"
      }
    },
    {
      "cell_type": "markdown",
      "source": [
        "### Факторизация\n",
        "\n",
        "* Напишите функцию `factors(x)`, которая возвращает разложение заданного натурального числа $x$ на простые множители в виде списка этих множителей: factors`(12)` $\\to$ `[2, 2, 3]`."
      ],
      "metadata": {
        "id": "_PBloigmbC7W"
      }
    },
    {
      "cell_type": "code",
      "source": [
        "def factors(x: int) -> list:\n",
        "  mn = []\n",
        "  k = 2\n",
        "  while x != 1:\n",
        "    if x % k == 0:\n",
        "      mn.append(k)\n",
        "      x//=k\n",
        "    else:\n",
        "      k += 1\n",
        "  return mn\n",
        "factors(7007)"
      ],
      "metadata": {
        "colab": {
          "base_uri": "https://localhost:8080/"
        },
        "id": "4ZaODSJ7aqd7",
        "outputId": "135c9399-0265-49cd-ede3-a5c5bd5da492"
      },
      "execution_count": 18,
      "outputs": [
        {
          "output_type": "execute_result",
          "data": {
            "text/plain": [
              "[7, 7, 11, 13]"
            ]
          },
          "metadata": {},
          "execution_count": 18
        }
      ]
    },
    {
      "cell_type": "markdown",
      "source": [
        "* Напишите функцию `factorizeInt(x)`, которая преобразует заданное число `x` в произведение простых сомножителей в форме **выражения** (класс `Expression`), повторяющиеся сомножители должны входить в выражение в форме степеней: `factorizeInt(120)` $\\to 2^3\\cdot 3\\cdot 5$."
      ],
      "metadata": {
        "id": "MEmi3QTRla5j"
      }
    },
    {
      "cell_type": "code",
      "source": [
        "def factorizeInt(x: int) -> Expression:\n",
        "  mn1 = factors(x)\n",
        "  mn2 =[mn1[0]]\n",
        "  for i in range(len(mn1)):\n",
        "    if not mn1[i] in mn2:\n",
        "      mn2.append(mn1[i])\n",
        "\n",
        "  k = Z(mn2[0])\n",
        "  s1 = mn1.count(mn2[0])\n",
        "  if s1 > 1:\n",
        "    k **= mn1.count(mn2[0])\n",
        "  for i in range(1, len(mn2)):\n",
        "    s2 = mn1.count(mn2[i])\n",
        "    if s2 > 1:\n",
        "      k *= Z(mn2[i])**Z(s2)\n",
        "    else:\n",
        "      k *= Z(mn2[i])\n",
        "\n",
        "  return k\n",
        "\n",
        "show(factorizeInt(360))"
      ],
      "metadata": {
        "colab": {
          "base_uri": "https://localhost:8080/",
          "height": 37
        },
        "id": "pkGTfHVwlqU4",
        "outputId": "d40d1449-9640-43c5-bfa7-dffb25726eaf"
      },
      "execution_count": 19,
      "outputs": [
        {
          "output_type": "display_data",
          "data": {
            "text/plain": [
              "<IPython.core.display.Math object>"
            ],
            "text/latex": "$\\displaystyle {{{2}^{3}} \\cdot {{3}^{2}}} \\cdot {5}$"
          },
          "metadata": {}
        }
      ]
    },
    {
      "cell_type": "code",
      "source": [
        "a1 = Z(2) **Z(3)\n",
        "a1 *= Z(3) **Z(5)\n",
        "show(a1)"
      ],
      "metadata": {
        "colab": {
          "base_uri": "https://localhost:8080/",
          "height": 37
        },
        "id": "CcjDZNwhOJC4",
        "outputId": "00642fd9-5f6e-4a9b-a941-ec1df9f11758"
      },
      "execution_count": 20,
      "outputs": [
        {
          "output_type": "display_data",
          "data": {
            "text/plain": [
              "<IPython.core.display.Math object>"
            ],
            "text/latex": "$\\displaystyle {{2}^{3}} \\cdot {{3}^{5}}$"
          },
          "metadata": {}
        }
      ]
    },
    {
      "cell_type": "markdown",
      "source": [
        "### Наибольший общий делитель\n",
        "\n",
        "* Реализуйте алгоритм Евклида в виде функции `GCD(n, m)`."
      ],
      "metadata": {
        "id": "Ss60MTBNoN4H"
      }
    },
    {
      "cell_type": "code",
      "source": [
        "def GCD(n: int, m: int) -> int:\n",
        "  while m > 0:\n",
        "    n, m = m, n % m\n",
        "  return n\n",
        "\n",
        "GCD(120, 48)"
      ],
      "metadata": {
        "colab": {
          "base_uri": "https://localhost:8080/"
        },
        "id": "gX4TuXzloSSi",
        "outputId": "48cfc4e6-52ef-4663-abbb-668282d69ac0"
      },
      "execution_count": 21,
      "outputs": [
        {
          "output_type": "execute_result",
          "data": {
            "text/plain": [
              "24"
            ]
          },
          "metadata": {},
          "execution_count": 21
        }
      ]
    },
    {
      "cell_type": "markdown",
      "source": [
        "### Реализация рациональных чисел\n",
        "\n",
        "* Создаем функцию-конструктор `rational_(n,m)` узлов для рациональных чисел. В каждом таком узле должно храниться нормализованное представление заданного числа."
      ],
      "metadata": {
        "id": "MP_S5yjfpD45"
      }
    },
    {
      "cell_type": "code",
      "source": [
        "def rational_(n: int, m: int) -> tuple:\n",
        "  if n == 0:\n",
        "    m = 1 # нормализованное представление нуля - (0, 1)\n",
        "  else:\n",
        "    if m < 0:\n",
        "      n, m = -n, -m # знаменатель должен быть положительным\n",
        "    c = GCD(abs(n), m)\n",
        "    n, m = n // c, m // c # приводим дробь к несократимому виду\n",
        "  return 'rational', {'num': n, 'denom': m} # num - числитель (numerator), denom - знаменатель (denominator)"
      ],
      "metadata": {
        "id": "s-bQrTJHpHhS"
      },
      "execution_count": 22,
      "outputs": []
    },
    {
      "cell_type": "markdown",
      "source": [
        "* Пишем функцию `Q(n,m)` для создания выражения, представляющего рациональное число $n/m$. Знаменатель `m` по умолчанию равен `1`."
      ],
      "metadata": {
        "id": "ZIBYZDy2pLr7"
      }
    },
    {
      "cell_type": "code",
      "source": [
        "def Q(n: int, m: int = 1) -> Expression:\n",
        "  return Expression(rational_(n, m))\n",
        "\n",
        "Q(2, -6).T"
      ],
      "metadata": {
        "colab": {
          "base_uri": "https://localhost:8080/"
        },
        "id": "d4Z8rctIpQdc",
        "outputId": "9cf3b0c7-c274-466b-8e6f-d7088cb3399e"
      },
      "execution_count": 23,
      "outputs": [
        {
          "output_type": "execute_result",
          "data": {
            "text/plain": [
              "('rational', {'num': -1, 'denom': 3})"
            ]
          },
          "metadata": {},
          "execution_count": 23
        }
      ]
    },
    {
      "cell_type": "markdown",
      "source": [
        "* Напишите функцию `latex_rational(x)`, преобразующую рациональное число $x$ в формат LaTeX. Это преобразование должно учитывать, является ли число целым (единичный знаменатель не используется), для отрицательных чисел знак минус ставится перед числом, а не в числителе:\n",
        "`Q(0, 5)` $\\to 0$, `Q(6, -2)` $\\to 3$, `Q(6, 8)` $\\to \\dfrac{3}{4}$, `Q(-15, 25)` $\\to -\\dfrac{3}{5}$."
      ],
      "metadata": {
        "id": "pYfe2qtKpTH3"
      }
    },
    {
      "cell_type": "code",
      "source": [
        "def latex_rational(x: tuple) -> str:\n",
        "  n, m = options(x)['num'], options(x)['denom']\n",
        "  if m == 1:\n",
        "    return f\"{{{n}}}\"\n",
        "  if n < 0:\n",
        "    return f\"-\\\\frac{{{abs(n)}}}{{{m}}}\"\n",
        "  else:\n",
        "    return f\"\\\\frac{{{n}}}{{{m}}}\"\n",
        "\n",
        "\n",
        "show(Q(0, 5))\n",
        "show(Q(6, -2))\n",
        "show(Q(6, 8))\n",
        "show(Q(-15, 25))"
      ],
      "metadata": {
        "colab": {
          "base_uri": "https://localhost:8080/",
          "height": 126
        },
        "id": "MjQn3o22pWrD",
        "outputId": "cc904f44-9bf3-4dd7-ebce-ed8a90cb728a"
      },
      "execution_count": 24,
      "outputs": [
        {
          "output_type": "display_data",
          "data": {
            "text/plain": [
              "<IPython.core.display.Math object>"
            ],
            "text/latex": "$\\displaystyle {0}$"
          },
          "metadata": {}
        },
        {
          "output_type": "display_data",
          "data": {
            "text/plain": [
              "<IPython.core.display.Math object>"
            ],
            "text/latex": "$\\displaystyle {-3}$"
          },
          "metadata": {}
        },
        {
          "output_type": "display_data",
          "data": {
            "text/plain": [
              "<IPython.core.display.Math object>"
            ],
            "text/latex": "$\\displaystyle \\frac{3}{4}$"
          },
          "metadata": {}
        },
        {
          "output_type": "display_data",
          "data": {
            "text/plain": [
              "<IPython.core.display.Math object>"
            ],
            "text/latex": "$\\displaystyle -\\frac{3}{5}$"
          },
          "metadata": {}
        }
      ]
    },
    {
      "cell_type": "markdown",
      "source": [
        "* Проверяем, что рациональные числа могут быть теперь использованы для построения арифметический выражений"
      ],
      "metadata": {
        "id": "0yPi8KC3J3IF"
      }
    },
    {
      "cell_type": "code",
      "source": [
        "show((1 + Q(6, 4)) / (Q(152, 24) ** 2 * Q(5, 7)))"
      ],
      "metadata": {
        "colab": {
          "base_uri": "https://localhost:8080/",
          "height": 66
        },
        "id": "I54GwmJ0J5_M",
        "outputId": "6a9cb605-9c1b-4d4b-ecaf-2c6b0e710e02"
      },
      "execution_count": 25,
      "outputs": [
        {
          "output_type": "display_data",
          "data": {
            "text/plain": [
              "<IPython.core.display.Math object>"
            ],
            "text/latex": "$\\displaystyle \\frac{{1} + {\\frac{3}{2}}}{{{\\left( \\frac{19}{3} \\right)}^{2}} \\cdot {\\frac{5}{7}}}$"
          },
          "metadata": {}
        }
      ]
    },
    {
      "cell_type": "markdown",
      "source": [
        "### Цепные дроби\n",
        "\n",
        "* Напишите функцию `continuedTerms(n,m)`, которая преобразует заданное рациональное число $n/m$ в цепную дробь \\[$a_0$; $a_1$, $a_2$, ...\\] и возвращает результат в виде списка: `continuedTerms(15,11)` $\\to$ `[1,2,1,3]`."
      ],
      "metadata": {
        "id": "HbwzfGO1J-Zp"
      }
    },
    {
      "cell_type": "code",
      "source": [
        "def continuedTerms(n: int, m: int) -> list:\n",
        "  an = []\n",
        "  while m > 0:\n",
        "    an.append(n // m)\n",
        "    n, m = m, n % m\n",
        "  return an\n",
        "\n",
        "continuedTerms(15, 11)"
      ],
      "metadata": {
        "colab": {
          "base_uri": "https://localhost:8080/"
        },
        "id": "JnQPPlJoJ88_",
        "outputId": "a01668ec-4747-4dfd-f6c7-3e0d4e80e711"
      },
      "execution_count": 26,
      "outputs": [
        {
          "output_type": "execute_result",
          "data": {
            "text/plain": [
              "[1, 2, 1, 3]"
            ]
          },
          "metadata": {},
          "execution_count": 26
        }
      ]
    },
    {
      "cell_type": "markdown",
      "source": [
        "* Напишите функцию, которая строит выражение, представляющее цепную дробь, в виде объекта класса `Expression`."
      ],
      "metadata": {
        "id": "_hZwxhd6KGXo"
      }
    },
    {
      "cell_type": "code",
      "source": [
        "def continuedFraction(p: Expression) -> Expression:\n",
        "  n, m = options(p.T)['num'], options(p.T)['denom'] # предполагаем, что p - рациональное число!\n",
        "  A = continuedTerms(n, m) # находим элементы цепной дроби\n",
        "  ex = Z(A[-1])\n",
        "  for i in range(-2, -(len(A) + 1), -1):\n",
        "    ex = A[i] + 1 / ex\n",
        "  return ex\n",
        "\n",
        "show(continuedFraction(Q(15, 11)))"
      ],
      "metadata": {
        "id": "2dJEWwdgKLIj",
        "colab": {
          "base_uri": "https://localhost:8080/",
          "height": 63
        },
        "outputId": "956ee58c-ff55-48b3-bbf9-0c47991a2b37"
      },
      "execution_count": 27,
      "outputs": [
        {
          "output_type": "display_data",
          "data": {
            "text/plain": [
              "<IPython.core.display.Math object>"
            ],
            "text/latex": "$\\displaystyle {1} + {\\frac{1}{{2} + {\\frac{1}{{1} + {\\frac{1}{3}}}}}}$"
          },
          "metadata": {}
        }
      ]
    },
    {
      "cell_type": "markdown",
      "source": [
        "* (бонусное задание) Напишите функцию `float2continued(x,n)`, преобразующую заданное действительное число $x$ в цепную дробь \"глубины\" $n$: `float2continued(np.sqrt(2),4)` $\\to 1 + \\frac1{2+\\frac1{2+\\frac1{2}}}$"
      ],
      "metadata": {
        "id": "tmQo_VnyKPTQ"
      }
    },
    {
      "cell_type": "code",
      "source": [
        "import math\n",
        "\n",
        "def float2continued(x: float, n: int) -> Expression:\n",
        "  k = 0\n",
        "  an = []\n",
        "  while k < n + 1:\n",
        "    an.append(math.floor(x))\n",
        "    x = 1 / (x - an[k])\n",
        "    k = k + 1\n",
        "\n",
        "  ex = Z(an[-1])\n",
        "  for i in range(-2, -len(an), -1):\n",
        "    ex = an[i] + 1 / ex\n",
        "  return ex\n",
        "\n",
        "show(float2continued(np.pi, 5))\n",
        "show(float2continued(np.sqrt(2), 5))\n",
        "show(float2continued(np.exp(1), 5))\n",
        "show(float2continued((np.sqrt(5)+1)/2, 5))"
      ],
      "metadata": {
        "id": "mnXKoDLsKTXL",
        "colab": {
          "base_uri": "https://localhost:8080/",
          "height": 228
        },
        "outputId": "39eba3c5-11f2-440d-f9c3-fed6ea98835a"
      },
      "execution_count": 28,
      "outputs": [
        {
          "output_type": "display_data",
          "data": {
            "text/plain": [
              "<IPython.core.display.Math object>"
            ],
            "text/latex": "$\\displaystyle {7} + {\\frac{1}{{15} + {\\frac{1}{{1} + {\\frac{1}{{292} + {\\frac{1}{1}}}}}}}}$"
          },
          "metadata": {}
        },
        {
          "output_type": "display_data",
          "data": {
            "text/plain": [
              "<IPython.core.display.Math object>"
            ],
            "text/latex": "$\\displaystyle {2} + {\\frac{1}{{2} + {\\frac{1}{{2} + {\\frac{1}{{2} + {\\frac{1}{2}}}}}}}}$"
          },
          "metadata": {}
        },
        {
          "output_type": "display_data",
          "data": {
            "text/plain": [
              "<IPython.core.display.Math object>"
            ],
            "text/latex": "$\\displaystyle {1} + {\\frac{1}{{2} + {\\frac{1}{{1} + {\\frac{1}{{1} + {\\frac{1}{4}}}}}}}}$"
          },
          "metadata": {}
        },
        {
          "output_type": "display_data",
          "data": {
            "text/plain": [
              "<IPython.core.display.Math object>"
            ],
            "text/latex": "$\\displaystyle {1} + {\\frac{1}{{1} + {\\frac{1}{{1} + {\\frac{1}{{1} + {\\frac{1}{1}}}}}}}}$"
          },
          "metadata": {}
        }
      ]
    },
    {
      "cell_type": "markdown",
      "source": [
        "### Египетские дроби\n",
        "\n",
        "* Напишите функцию `egyptianTerms(n,m)` разложения заданного рационального числа $n/m$ (в предположении $n < m$) в египетскую дробь, возвращающую список знаменателей найденных простых дробей: `egyptianTerms(7, 8)` $\\to$ `[2, 3, 24]`."
      ],
      "metadata": {
        "id": "4JZ7pRURKYFA"
      }
    },
    {
      "cell_type": "code",
      "source": [
        "import math\n",
        "\n",
        "def egyptianTerms(n: int, m: int) -> list:\n",
        "  an = []\n",
        "  while n > 0:\n",
        "    a = math.ceil(m/n)\n",
        "    n, m = (-m) % n, m * a\n",
        "    an.append(a)\n",
        "  return an\n",
        "\n",
        "egyptianTerms(7, 8)"
      ],
      "metadata": {
        "colab": {
          "base_uri": "https://localhost:8080/"
        },
        "id": "mZMX_xEiKcTS",
        "outputId": "35d82c23-5ee0-4bad-dfbb-805ab68bc706"
      },
      "execution_count": 29,
      "outputs": [
        {
          "output_type": "execute_result",
          "data": {
            "text/plain": [
              "[2, 3, 24]"
            ]
          },
          "metadata": {},
          "execution_count": 29
        }
      ]
    },
    {
      "cell_type": "markdown",
      "source": [
        "* Напишите функцию, которая строит выражение, представляющее египетскую дробь, в виде объекта класса `Expression`: `egyptianSum(7,8)` $\\to \\frac12 + \\frac13 + \\frac1{24}$."
      ],
      "metadata": {
        "id": "faEiis3_KgNe"
      }
    },
    {
      "cell_type": "code",
      "source": [
        "def egyptianSum(p: Expression) -> Expression:\n",
        "  n, m = options(p.T)['num'], options(p.T)['denom']\n",
        "  A = egyptianTerms(n, m)\n",
        "  ex = 1 / Z(A[0])\n",
        "  for i in range(1, len(A)):\n",
        "    ex +=  1 / Z(A[i])\n",
        "  return ex\n",
        "\n",
        "show(egyptianSum(Q(7, 8)))"
      ],
      "metadata": {
        "id": "_VoUr6djKjiB",
        "colab": {
          "base_uri": "https://localhost:8080/",
          "height": 51
        },
        "outputId": "6abd4af5-909e-44ed-f739-76128fe71b0a"
      },
      "execution_count": 30,
      "outputs": [
        {
          "output_type": "display_data",
          "data": {
            "text/plain": [
              "<IPython.core.display.Math object>"
            ],
            "text/latex": "$\\displaystyle {{\\frac{1}{2}} + {\\frac{1}{3}}} + {\\frac{1}{24}}$"
          },
          "metadata": {}
        }
      ]
    },
    {
      "cell_type": "markdown",
      "source": [
        "### Частичное оценивание арифметических выражений\n",
        "\n",
        "В большинстве систем КА выражения, заданные пользователем, сразу же упрощаются, в частности, в них вычисляется все, что может быть вычислено.\n",
        "В частности, если выражение является арифметическим и содержит только целые и рациональные числа, то это выражение преобразуется в рациональное число, например: $$\\frac{\\frac12+\\frac23}{5}\\to\\frac7{30}.$$\n",
        "Определим несколько функций, предназначенных для такого оценивания (evaluating) арифметических выражений над целыми и рациональными числами.\n",
        "\n",
        "* Головная функция `evaluate(x)` оценивает выражение, заданное пользователем в виде объекта класса `Expression`, и возвращает выражение того же самого типа (класса), вызывая внутреннюю функцию `eval_` оценивания выражения в *списочном* формате."
      ],
      "metadata": {
        "id": "4az6oIhrKnA2"
      }
    },
    {
      "cell_type": "code",
      "source": [
        "def evaluate(x: Expression) -> Expression:\n",
        "  return Expression(eval_(x.T))"
      ],
      "metadata": {
        "id": "KW2oSZhlKq0i"
      },
      "execution_count": 31,
      "outputs": []
    },
    {
      "cell_type": "markdown",
      "source": [
        "* Функция `eval_(x)` “пытается” вызвать обработчик соответствующего узла, и если такой обработчик есть, то возвращается результат его работы.\n",
        "Если обработчика нет (срабатывает исключение), то возвращается исходный узел."
      ],
      "metadata": {
        "id": "lruo9POWKt7V"
      }
    },
    {
      "cell_type": "code",
      "source": [
        "def eval_(x: tuple) -> tuple:\n",
        "  try:\n",
        "    cmd = eval(f\"eval_{ID(x)}\") # конструируем функцию оценивания текущего узла по его ID\n",
        "    return cmd(x)\n",
        "  except (NameError, BaseException):\n",
        "    return x # возвращаем исходный узел, если обработчик не найден"
      ],
      "metadata": {
        "id": "_Ff3DcctKzab"
      },
      "execution_count": 32,
      "outputs": []
    },
    {
      "cell_type": "markdown",
      "source": [
        "* Для упрощения выполнения арифметических операций над объектами разной природы (числа разных классов, многочлены, матрицы) определим набор функций для автоматического преобразования типов (cast).\n",
        "Головная функция `cast` пытается вызвать подходящий обработчик, исходя из идентификатора типа и целевого типа."
      ],
      "metadata": {
        "id": "K3IO5bGCK2sk"
      }
    },
    {
      "cell_type": "code",
      "source": [
        "def cast_(x: tuple, target: str) -> tuple:\n",
        "  if ID(x) == target:\n",
        "    return x # преобразование не нужно, узел x уже имеет правильный тип\n",
        "  try:\n",
        "    cmd = eval(f\"cast_{ID(x)}_{target}\") # конструируем функцию преобразования\n",
        "    return cmd(x)\n",
        "  except NameError:\n",
        "    return x # возвращаем исходный узел, если обработчик не найден"
      ],
      "metadata": {
        "id": "l-2vDM9dK5el"
      },
      "execution_count": 33,
      "outputs": []
    },
    {
      "cell_type": "markdown",
      "source": [
        "* Реализуем один конкретный преобразователь `cast_integer_rational(x)`, который переводит целое число $x$ в формат рационального числа."
      ],
      "metadata": {
        "id": "QyTCP_mvK9mh"
      }
    },
    {
      "cell_type": "code",
      "source": [
        "def cast_integer_rational(x: tuple) -> tuple:\n",
        "  n = options(x)['value']\n",
        "  return rational_(n, 1)\n",
        "\n",
        "cast_integer_rational(integer_(5))"
      ],
      "metadata": {
        "id": "xzHOZxlxLBRp",
        "colab": {
          "base_uri": "https://localhost:8080/"
        },
        "outputId": "eabd613b-ec4e-4356-c0f8-926e0f4a0924"
      },
      "execution_count": 34,
      "outputs": [
        {
          "output_type": "execute_result",
          "data": {
            "text/plain": [
              "('rational', {'num': 5, 'denom': 1})"
            ]
          },
          "metadata": {},
          "execution_count": 34
        }
      ]
    },
    {
      "cell_type": "markdown",
      "source": [
        "* Теперь можно создавать функции, выполняющие арифметические операции над целыми и рациональными числами. Определим две функции сложения. Имя каждой такой функции должно состоять из типа операции и списка типов операндов, разделенных знаком подчеркивания: `add_integer_integer` складывает два целых числа."
      ],
      "metadata": {
        "id": "SZQELvXDLEXY"
      }
    },
    {
      "cell_type": "code",
      "source": [
        "def add_integer_integer(a: tuple, b: tuple) -> tuple:\n",
        "  n = options(a)['value']\n",
        "  m = options(b)['value']\n",
        "  return integer_(n + m)\n",
        "\n",
        "def add_rational_rational(a: tuple, b: tuple) -> tuple:\n",
        "  na, ma = options(a)['num'], options(a)['denom']\n",
        "  nb, mb = options(b)['num'], options(b)['denom']\n",
        "  n, m = na * mb + nb * ma, ma * mb\n",
        "  return rational_(n, m)"
      ],
      "metadata": {
        "id": "SzZ6KVJNL1W_"
      },
      "execution_count": 35,
      "outputs": []
    },
    {
      "cell_type": "markdown",
      "source": [
        "* Создадим словарь `OPERATIONS`, в котором будут перечисляться все обработчики каждой бинарной и унарной операций, подлежащих оцениванию. Ключами записей будут типы операций, значениями - списки соответствующих обработчиков."
      ],
      "metadata": {
        "id": "tgdKZ8xSL4s3"
      }
    },
    {
      "cell_type": "code",
      "source": [
        "OPERATIONS = {'add': ['add_integer_integer', 'add_rational_rational']}"
      ],
      "metadata": {
        "id": "15ec94L5L7-J"
      },
      "execution_count": 36,
      "outputs": []
    },
    {
      "cell_type": "markdown",
      "source": [
        "* Создаем универсальный обработчик (оцениватель) бинарных операций `eval_binary(op,x,y)`, который просматривает список всех имеющихся обработчиков заданной операции `op`, для каждого из них пытается преобразовать заданные операнды `x` и `y` к соответствующим типам, если преобразование проходит успешно, то вызывает этот обработки и возвращает его результат. Если ни один из обработчиков не срабатывает, то возвращается исходное выражение.   "
      ],
      "metadata": {
        "id": "cjBRpPbAMAAz"
      }
    },
    {
      "cell_type": "code",
      "source": [
        "def eval_binary(op: str, x: tuple, y: tuple) -> tuple:\n",
        "  for fop in OPERATIONS[op]:\n",
        "    idx, idy = fop.split('_')[1:]\n",
        "    a = cast_(x, idx)\n",
        "    b = cast_(y, idy)\n",
        "    if ID(a) == idx and ID(b) == idy:\n",
        "      cmd = eval(f\"{fop}\")\n",
        "      return cmd(a, b)\n",
        "  return op, x, y"
      ],
      "metadata": {
        "id": "IInWdPs2MCj1"
      },
      "execution_count": 37,
      "outputs": []
    },
    {
      "cell_type": "markdown",
      "source": [
        "* Наконец, пишем оцениватель `eval_add` операции сложения, который оценывает (рекурсивно) свои операнды и вызывает универсальный обработчик `eval_binary`. Проверяем его работу. Объясните, почему не происходит оценивания в последнем примере!"
      ],
      "metadata": {
        "id": "GBl60ttYMFZB"
      }
    },
    {
      "cell_type": "code",
      "source": [
        "def eval_add(x: tuple) -> tuple:\n",
        "  a, b = eval_(x[1]), eval_(x[2])\n",
        "  return eval_binary(ID(x), a, b)\n",
        "\n",
        "show(evaluate(Z(2) + Q(1, 3)))\n",
        "x = symbol('x')\n",
        "show(evaluate(Z(2) + Z(5) + x))\n",
        "show(evaluate(x + Z(2) + Z(5)))"
      ],
      "metadata": {
        "id": "rucTd-1MMNzx",
        "colab": {
          "base_uri": "https://localhost:8080/",
          "height": 95
        },
        "outputId": "e33e2449-12f3-4b29-d63e-6212461b7ffa"
      },
      "execution_count": 38,
      "outputs": [
        {
          "output_type": "display_data",
          "data": {
            "text/plain": [
              "<IPython.core.display.Math object>"
            ],
            "text/latex": "$\\displaystyle \\frac{7}{3}$"
          },
          "metadata": {}
        },
        {
          "output_type": "display_data",
          "data": {
            "text/plain": [
              "<IPython.core.display.Math object>"
            ],
            "text/latex": "$\\displaystyle {7} + {x}$"
          },
          "metadata": {}
        },
        {
          "output_type": "display_data",
          "data": {
            "text/plain": [
              "<IPython.core.display.Math object>"
            ],
            "text/latex": "$\\displaystyle {{x} + {2}} + {5}$"
          },
          "metadata": {}
        }
      ]
    },
    {
      "cell_type": "markdown",
      "source": [
        "* Чтобы добавить в систему обработку новых операций (например, операции умножения), нужно 1) создать соответствующие исполнители (умножение целых чисел, умножение рациональных чисел); 2) включить эти исполнители в словарь `OPERATIONS`; 3) написать обработчик соответствующего узла (`eval_mul`), если эта операция бинарная, то в данном обработчике должна вызываться функция `eval_binary`. Для примера добавим в систему оценивание операции умножения."
      ],
      "metadata": {
        "id": "VW40gN61MSmC"
      }
    },
    {
      "cell_type": "code",
      "source": [
        "def mul_integer_integer(a: tuple, b: tuple) -> tuple:\n",
        "  n = options(a)['value']\n",
        "  m = options(b)['value']\n",
        "  return integer_(n * m)\n",
        "\n",
        "def mul_rational_rational(a: tuple, b: tuple) -> tuple:\n",
        "  na, ma = options(a)['num'], options(a)['denom']\n",
        "  nb, mb = options(b)['num'], options(b)['denom']\n",
        "  n, m = na * nb, ma * mb\n",
        "  return rational_(n, m)\n",
        "\n",
        "OPERATIONS |= {'mul': ['mul_integer_integer', 'mul_rational_rational']} # расширяем словарь OPERATIONS новым словарем\n",
        "\n",
        "def eval_mul(x: tuple) -> tuple:\n",
        "  a, b = eval_(x[1]), eval_(x[2])\n",
        "  return eval_binary(ID(x), a, b)\n",
        "\n",
        "show(evaluate(Z(2) * Z(5)))\n",
        "show(evaluate(Z(2) * Q(2, 3)))"
      ],
      "metadata": {
        "id": "cUB1ZNj-MVjn",
        "colab": {
          "base_uri": "https://localhost:8080/",
          "height": 71
        },
        "outputId": "6505b170-0d07-4688-cc0c-3b3f14ab9323"
      },
      "execution_count": 39,
      "outputs": [
        {
          "output_type": "display_data",
          "data": {
            "text/plain": [
              "<IPython.core.display.Math object>"
            ],
            "text/latex": "$\\displaystyle 10$"
          },
          "metadata": {}
        },
        {
          "output_type": "display_data",
          "data": {
            "text/plain": [
              "<IPython.core.display.Math object>"
            ],
            "text/latex": "$\\displaystyle \\frac{4}{3}$"
          },
          "metadata": {}
        }
      ]
    },
    {
      "cell_type": "markdown",
      "source": [
        "* Реализуйте по этой же схеме оценивание операций вычитания и деления целых и рациональных чисел. Учтите, что при делении двух целых чисел может получиться целое число: $6/3 \\to 2$, а может - рациональное: $12/8$ $\\to \\frac{3}{2}$."
      ],
      "metadata": {
        "id": "IKKgJqdMMZCk"
      }
    },
    {
      "cell_type": "code",
      "source": [
        "# вычитание\n",
        "\n",
        "def sub_integer_integer(a: tuple, b: tuple) -> tuple:\n",
        "  n = options(a)['value']\n",
        "  m = options(b)['value']\n",
        "  return integer_(n - m)\n",
        "\n",
        "def sub_rational_rational(a: tuple, b: tuple) -> tuple:\n",
        "  na, ma = options(a)['num'], options(a)['denom']\n",
        "  nb, mb = options(b)['num'], options(b)['denom']\n",
        "  n, m = na * mb - nb * ma , ma * mb\n",
        "  return rational_(n, m)\n",
        "\n",
        "OPERATIONS |= {'sub': ['sub_integer_integer', 'sub_rational_rational']} # расширяем словарь OPERATIONS новым словарем\n",
        "\n",
        "def eval_sub(x: tuple) -> tuple:\n",
        "  a, b = eval_(x[1]), eval_(x[2])\n",
        "  return eval_binary(ID(x), a, b)\n",
        "\n",
        "show(evaluate(Z(2) - Q(2, 7)))"
      ],
      "metadata": {
        "id": "AMUb7GedMdWx",
        "colab": {
          "base_uri": "https://localhost:8080/",
          "height": 51
        },
        "outputId": "44086050-0fa9-49dc-bfe7-61634988dd14"
      },
      "execution_count": 40,
      "outputs": [
        {
          "output_type": "display_data",
          "data": {
            "text/plain": [
              "<IPython.core.display.Math object>"
            ],
            "text/latex": "$\\displaystyle \\frac{12}{7}$"
          },
          "metadata": {}
        }
      ]
    },
    {
      "cell_type": "code",
      "source": [
        "# деление\n",
        "\n",
        "def div_integer_integer(a: tuple, b: tuple) -> tuple:\n",
        "  n = options(a)['value']\n",
        "  m = options(b)['value']\n",
        "  return rational_(n, m)\n",
        "\n",
        "def div_rational_rational(a: tuple, b: tuple) -> tuple:\n",
        "  na, ma = options(a)['num'], options(a)['denom']\n",
        "  nb, mb = options(b)['num'], options(b)['denom']\n",
        "  n, m = na * mb, ma * nb\n",
        "  return rational_(n, m)\n",
        "\n",
        "OPERATIONS |= {'div': ['div_integer_integer', 'div_rational_rational']} # расширяем словарь OPERATIONS новым словарем\n",
        "\n",
        "def eval_div(x: tuple) -> tuple:\n",
        "  a, b = eval_(x[1]), eval_(x[2])\n",
        "  return eval_binary(ID(x), a, b)\n",
        "\n",
        "show(evaluate(Z(6) / Z(3)))\n",
        "show(evaluate(Z(6) / Z(4)))\n",
        "show(evaluate(Q(5,12) / Q(10,81)))\n",
        "show(evaluate((Z(6) - Q(1, 2)) / Q(2, 3)))"
      ],
      "metadata": {
        "id": "R0auttoSMg99",
        "colab": {
          "base_uri": "https://localhost:8080/",
          "height": 139
        },
        "outputId": "3c47fcbb-06f8-4451-d68d-d081910e2e7c"
      },
      "execution_count": 41,
      "outputs": [
        {
          "output_type": "display_data",
          "data": {
            "text/plain": [
              "<IPython.core.display.Math object>"
            ],
            "text/latex": "$\\displaystyle {2}$"
          },
          "metadata": {}
        },
        {
          "output_type": "display_data",
          "data": {
            "text/plain": [
              "<IPython.core.display.Math object>"
            ],
            "text/latex": "$\\displaystyle \\frac{3}{2}$"
          },
          "metadata": {}
        },
        {
          "output_type": "display_data",
          "data": {
            "text/plain": [
              "<IPython.core.display.Math object>"
            ],
            "text/latex": "$\\displaystyle \\frac{27}{8}$"
          },
          "metadata": {}
        },
        {
          "output_type": "display_data",
          "data": {
            "text/plain": [
              "<IPython.core.display.Math object>"
            ],
            "text/latex": "$\\displaystyle \\frac{33}{4}$"
          },
          "metadata": {}
        }
      ]
    },
    {
      "cell_type": "markdown",
      "source": [
        "* Реализуйте оценивание операции возведения в целую степень: `Z(2) ** Z(3)` $\\to 8$, `Z(2) ** Z(-3)` $\\to \\frac{1}{8}$, `Q(2, 3) ** Z(-2)` $\\to \\frac{9}{4}$."
      ],
      "metadata": {
        "id": "u8AkutsWMjq4"
      }
    },
    {
      "cell_type": "code",
      "source": [
        "def deg_integer_integer(a: tuple, b: tuple) -> tuple:\n",
        "  n = options(a)['value']\n",
        "  m = options(b)['value']\n",
        "  if m >= 0:\n",
        "    return integer_(n ** m)\n",
        "  else:\n",
        "    return rational_(1, n ** abs(m))\n",
        "\n",
        "def deg_rational_integer(a: tuple, b: tuple) -> tuple:\n",
        "  na, ma = options(a)['num'], options(a)['denom']\n",
        "  nb = options(b)['value']\n",
        "  n, m = na ** abs(nb), ma ** abs(nb)\n",
        "  if nb >= 0:\n",
        "    return rational_(n, m)\n",
        "  else:\n",
        "    return rational_(m, n)\n",
        "\n",
        "OPERATIONS |= {'deg': ['deg_integer_integer', 'deg_rational_integer']} # расширяем словарь OPERATIONS новым словарем\n",
        "\n",
        "def eval_deg(x: tuple) -> tuple:\n",
        "  a, b = eval_(x[1]), eval_(x[2])\n",
        "  return eval_binary(ID(x), a, b)\n",
        "\n",
        "show(evaluate(Z(6) ** Z(3)))\n",
        "show(evaluate(Z(6) ** Z(-2)))\n",
        "show(evaluate(Q(2, 3) ** Z(-2)))"
      ],
      "metadata": {
        "id": "6_aNPfGSMmsw",
        "colab": {
          "base_uri": "https://localhost:8080/",
          "height": 105
        },
        "outputId": "e1168f16-4fe9-4fe0-d881-af9f12da608a"
      },
      "execution_count": 42,
      "outputs": [
        {
          "output_type": "display_data",
          "data": {
            "text/plain": [
              "<IPython.core.display.Math object>"
            ],
            "text/latex": "$\\displaystyle 216$"
          },
          "metadata": {}
        },
        {
          "output_type": "display_data",
          "data": {
            "text/plain": [
              "<IPython.core.display.Math object>"
            ],
            "text/latex": "$\\displaystyle \\frac{1}{36}$"
          },
          "metadata": {}
        },
        {
          "output_type": "display_data",
          "data": {
            "text/plain": [
              "<IPython.core.display.Math object>"
            ],
            "text/latex": "$\\displaystyle \\frac{9}{4}$"
          },
          "metadata": {}
        }
      ]
    },
    {
      "cell_type": "markdown",
      "source": [
        "* (бонусное задание) Реализуйте оценивание операции возведения в рациональную степень, при условии, что соответствующие корни могут быть извлечены: `Z(8) ** Q(1, 3)` $\\to 2$, `Q(4, 9) ** Q(-3, 2)` $\\to \\frac{27}{8}$. **Но** `Z(4) ** Q(1, 3)` $\\to 4^{\\frac{1}{3}}$  - операция не может быть оценена."
      ],
      "metadata": {
        "id": "5VslmOjEMqZl"
      }
    },
    {
      "cell_type": "code",
      "source": [
        "def deg_integer_rational(a: tuple, b: tuple) -> tuple:\n",
        "  n = options(a)['value']\n",
        "  nb, mb = options(b)['num'], options(b)['denom']\n",
        "  if (n ** (nb / mb)).is_integer():\n",
        "    return integer_(int(n ** (nb / mb)))\n",
        "  else:\n",
        "    return deg_(a, b)\n",
        "\n",
        "def deg_rational_rational(a: tuple, b: tuple) -> tuple:\n",
        "  na, ma = options(a)['num'], options(a)['denom']\n",
        "  nb, mb = options(b)['num'], options(b)['denom']\n",
        "  n, m = na ** abs(nb / mb), ma ** abs(nb / mb)\n",
        "  if n.is_integer() and m.is_integer():\n",
        "    if (nb >= 0):\n",
        "      return rational_(int(n), int(m))\n",
        "    else:\n",
        "      return rational_(int(m), int(n))\n",
        "  else:\n",
        "    return  deg_(a, b)\n",
        "\n",
        "OPERATIONS['deg'] = OPERATIONS['deg'] + ['deg_integer_rational', 'deg_rational_rational']\n",
        "\n",
        "show(evaluate(Z(25) ** Q(3, 2)))"
      ],
      "metadata": {
        "id": "2rFh-xZSMu01",
        "colab": {
          "base_uri": "https://localhost:8080/",
          "height": 37
        },
        "outputId": "09cd3d42-04dc-49c0-a3ec-e103963a9871"
      },
      "execution_count": 43,
      "outputs": [
        {
          "output_type": "display_data",
          "data": {
            "text/plain": [
              "<IPython.core.display.Math object>"
            ],
            "text/latex": "$\\displaystyle 125$"
          },
          "metadata": {}
        }
      ]
    },
    {
      "cell_type": "markdown",
      "source": [
        "* (бонусное задание) Реализуйте по аналогичной схеме универсальный оцениватель унарных операций `eval_unary` и оцениватель операции `neg` (унарный минус) для целых и рациональных чисел.  "
      ],
      "metadata": {
        "id": "GFZNZlyJMxh3"
      }
    },
    {
      "cell_type": "code",
      "source": [
        "def eval_unary(op: str, x: tuple) -> tuple:\n",
        "  for fop in OPERATIONS[op]:\n",
        "    idx = fop.split('_')[1]\n",
        "    a = cast_(x, idx)\n",
        "    if ID(a) == idx:\n",
        "      cmd = eval(f\"{fop}\")\n",
        "      return cmd(a)\n",
        "  return op, x\n",
        "\n",
        "OPERATIONS |= {'neg': ['neg_integer', 'neg_rational']}\n",
        "\n",
        "def neg_integer(a: tuple) -> tuple:\n",
        "  n = options(a)['value']\n",
        "  return integer_((-1) * n)\n",
        "\n",
        "def neg_rational(a: tuple) -> tuple:\n",
        "  na, ma = options(a)['num'], options(a)['denom']\n",
        "  n, m = na * (-1), ma\n",
        "  return rational_(n, m)\n",
        "\n",
        "def eval_neg(x: tuple) -> tuple:\n",
        "  a = eval_(x[1])\n",
        "  return eval_unary(ID(x), a)\n",
        "show(evaluate(-Z(-15)))\n",
        "show(evaluate(-Q(13, 21)))"
      ],
      "metadata": {
        "colab": {
          "base_uri": "https://localhost:8080/",
          "height": 71
        },
        "id": "_kK0Byk7j9Hu",
        "outputId": "dd0bbf42-aec2-49d9-8df7-22043846e1d3"
      },
      "execution_count": 44,
      "outputs": [
        {
          "output_type": "display_data",
          "data": {
            "text/plain": [
              "<IPython.core.display.Math object>"
            ],
            "text/latex": "$\\displaystyle 15$"
          },
          "metadata": {}
        },
        {
          "output_type": "display_data",
          "data": {
            "text/plain": [
              "<IPython.core.display.Math object>"
            ],
            "text/latex": "$\\displaystyle -\\frac{13}{21}$"
          },
          "metadata": {}
        }
      ]
    },
    {
      "cell_type": "markdown",
      "source": [
        "# Часть 3"
      ],
      "metadata": {
        "id": "uShYDkB-kubR"
      }
    },
    {
      "cell_type": "markdown",
      "source": [
        "### Булева логика, константы, операции\n",
        "\n",
        "* Создаем тип данных для логических констант 1 (true) и 0 (false). Слово bool является ключевым в Python, поэтому используем длинный вариант boolean. Но идентификатор типа будет строка \"bool\".    "
      ],
      "metadata": {
        "id": "LeVwgR75lFTN"
      }
    },
    {
      "cell_type": "code",
      "source": [
        "def boolean_(x: bool) -> tuple:\n",
        "  x = 1 if x else 0\n",
        "  return 'bool', {'value': x}\n",
        "\n",
        "def boolean(x: bool) -> Expression:\n",
        "  return Expression(boolean_(x))"
      ],
      "metadata": {
        "id": "nIbsr5owlJUj"
      },
      "execution_count": 45,
      "outputs": []
    },
    {
      "cell_type": "markdown",
      "source": [
        "* Напишите функцию преобразования логических констант в формат LaTeX. Чтобы отличать логические 0 и 1 от соответствующих чисел, будем их изображать полужирным шрифтом (см. код этой вкладки): 0 $\\to \\mathbb{0}$, 1 $\\to \\mathbb{1}$"
      ],
      "metadata": {
        "id": "ZIykq_3IlQ0z"
      }
    },
    {
      "cell_type": "code",
      "source": [
        "def latex_bool(x: tuple) -> str:\n",
        "  a = options(x)['value']\n",
        "  return f\"\\\\mathbb{{{a}}}\"\n",
        "\n"
      ],
      "metadata": {
        "id": "pEDJIDuTlXwG"
      },
      "execution_count": 46,
      "outputs": []
    },
    {
      "cell_type": "markdown",
      "source": [
        "* Определяем логические константы I и O"
      ],
      "metadata": {
        "id": "w0yaSJrsotu_"
      }
    },
    {
      "cell_type": "code",
      "source": [
        "I, O = boolean(True), boolean(False)\n",
        "show(I + O)\n",
        "show(Z(1) + Z(0)) # для сравнения - числовые 0 и 1"
      ],
      "metadata": {
        "colab": {
          "base_uri": "https://localhost:8080/",
          "height": 58
        },
        "id": "F9WKyKcioro1",
        "outputId": "2a5176d2-e738-401c-f40b-ae9a03add603"
      },
      "execution_count": 47,
      "outputs": [
        {
          "output_type": "display_data",
          "data": {
            "text/plain": [
              "<IPython.core.display.Math object>"
            ],
            "text/latex": "$\\displaystyle {\\mathbb{1}} + {\\mathbb{0}}$"
          },
          "metadata": {}
        },
        {
          "output_type": "display_data",
          "data": {
            "text/plain": [
              "<IPython.core.display.Math object>"
            ],
            "text/latex": "$\\displaystyle {1} + {0}$"
          },
          "metadata": {}
        }
      ]
    },
    {
      "cell_type": "markdown",
      "source": [
        "Напишите функции преобразования логических операций and, or, xor, inv в формат LaTeX (см. код этой вкладки):\n",
        "x∧y,x∨y,x⊕y,x¯¯¯.\n",
        "Убедитесь, что приоритет этих операций настроен правильно: (x | y) & x  →(x∨y)∧x . Вместо знака конъюнкции  ∧  можно использовать знак умножения  ⋅  (точку)."
      ],
      "metadata": {
        "id": "RywZq1Qio6ua"
      }
    },
    {
      "cell_type": "code",
      "source": [
        "def latex_and(x: tuple) -> str:\n",
        "  a, b = latex_(x[1]), latex_(x[2])\n",
        "  if Pr(x[1]) < Pr(x):\n",
        "    a = enclose(a)\n",
        "  if Pr(x[2]) <= Pr(x) or options(x[2]).get('value', 1) < 0 or ID(x[2]) == 'neg':\n",
        "    b = enclose(b)\n",
        "  return f\"{{{a}}} \\\\wedge {{{b}}}\"\n",
        "\n",
        "def latex_or(x: tuple) -> str:\n",
        "  a, b = latex_(x[1]), latex_(x[2])\n",
        "  if Pr(x[1]) < Pr(x):\n",
        "    a = enclose(a)\n",
        "  if Pr(x[2]) <= Pr(x) or options(x[2]).get('value', 1) < 0 or ID(x[2]) == 'neg':\n",
        "    b = enclose(b)\n",
        "  return f\"{{{a}}} \\\\vee {{{b}}}\"\n",
        "\n",
        "def latex_xor(x: tuple) -> str:\n",
        "  a, b = latex_(x[1]), latex_(x[2])\n",
        "  if Pr(x[1]) < Pr(x):\n",
        "    a = enclose(a)\n",
        "  if Pr(x[2]) <= Pr(x) or options(x[2]).get('value', 1) < 0 or ID(x[2]) == 'neg':\n",
        "    b = enclose(b)\n",
        "  return f\"{{{a}}} \\\\oplus {{{b}}}\"\n",
        "\n",
        "def latex_inv(x: tuple) -> str:\n",
        "  a = latex_(x[1])\n",
        "  return f\"\\\\overline{{{a}}}\""
      ],
      "metadata": {
        "id": "kVBal4kyo-pb"
      },
      "execution_count": 48,
      "outputs": []
    },
    {
      "cell_type": "markdown",
      "source": [
        "\n",
        "\n",
        "* Проверяем:"
      ],
      "metadata": {
        "id": "idnfMAk9qdpC"
      }
    },
    {
      "cell_type": "code",
      "source": [
        "x, y = symbol('x'), symbol('y')\n",
        "f = x & y ^ (O | ~x)\n",
        "show(f)\n",
        "drawGraph(f)"
      ],
      "metadata": {
        "colab": {
          "base_uri": "https://localhost:8080/",
          "height": 383
        },
        "id": "MfrfvL3YqeKn",
        "outputId": "aaee2a5a-461a-4779-aa65-a381c30bad2b"
      },
      "execution_count": 49,
      "outputs": [
        {
          "output_type": "display_data",
          "data": {
            "text/plain": [
              "<IPython.core.display.Math object>"
            ],
            "text/latex": "$\\displaystyle {{x} \\wedge {y}} \\oplus {\\left( {\\mathbb{0}} \\vee {\\overline{x}} \\right)}$"
          },
          "metadata": {}
        },
        {
          "output_type": "stream",
          "name": "stderr",
          "text": [
            "<ipython-input-17-1e3c6b446c2a>:24: DeprecationWarning: nx.nx_pydot.graphviz_layout depends on the pydot package, which has known issues and is not actively maintained. Consider using nx.nx_agraph.graphviz_layout instead.\n",
            "\n",
            "See https://github.com/networkx/networkx/issues/5723\n",
            "  pos = graphviz_layout(graph, prog=\"dot\")\n"
          ]
        },
        {
          "output_type": "display_data",
          "data": {
            "text/plain": [
              "<Figure size 300x300 with 1 Axes>"
            ],
            "image/png": "[encoded data removed]"
          },
          "metadata": {}
        }
      ]
    },
    {
      "cell_type": "markdown",
      "source": [
        "### Оценивание логических выражений\n",
        "\n",
        "* По аналогии с оценкой арифметических выражений напишите функции оценки всех четырех логических операций. Для оценки бинарных операций используйте написанную ранее функцию `eval_binary`, которая автоматически выполняет поиск нужного оценщика и проводит преобразование типов операндов."
      ],
      "metadata": {
        "id": "AYrZHnnutZFQ"
      }
    },
    {
      "cell_type": "code",
      "source": [
        "# добавляем \"оценщиков\" к словарю бинарных операций OPERATIONS\n",
        "OPERATIONS |= {'and': ['and_bool_bool'], 'or': ['or_bool_bool'], 'xor': ['xor_bool_bool']}\n",
        "\n",
        "def and_bool_bool(a: tuple, b: tuple) -> tuple:\n",
        "  n = options(a)['value']\n",
        "  m = options(b)['value']\n",
        "  return boolean_(n & m)\n",
        "\n",
        "def eval_and(x: tuple) -> tuple:\n",
        "  a, b = eval_(x[1]), eval_(x[2])\n",
        "  return eval_binary(ID(x), a, b)\n",
        "\n",
        "def or_bool_bool(a: tuple, b: tuple) -> tuple:\n",
        "  n = options(a)['value']\n",
        "  m = options(b)['value']\n",
        "  return boolean_(n | m)\n",
        "\n",
        "def eval_or(x: tuple) -> tuple:\n",
        "  a, b = eval_(x[1]), eval_(x[2])\n",
        "  return eval_binary(ID(x), a, b)\n",
        "\n",
        "def xor_bool_bool(a: tuple, b: tuple) -> tuple:\n",
        "  n = options(a)['value']\n",
        "  m = options(b)['value']\n",
        "  return boolean_(n ^ m)\n",
        "\n",
        "def eval_xor(x: tuple) -> tuple:\n",
        "  a, b = eval_(x[1]), eval_(x[2])\n",
        "  return eval_binary(ID(x), a, b)"
      ],
      "metadata": {
        "id": "QS6UFlm1tbTl"
      },
      "execution_count": 50,
      "outputs": []
    },
    {
      "cell_type": "markdown",
      "source": [
        "* Напишите оцениватель логического отрицания, операция унарная, поэтому все оценивание выполняется внутри одной функции"
      ],
      "metadata": {
        "id": "hycLOVScjBLg"
      }
    },
    {
      "cell_type": "code",
      "source": [
        "def eval_inv(x: tuple) -> tuple:\n",
        "  a = eval_(x[1])\n",
        "  n = options(a)['value']\n",
        "  return boolean_(not n)"
      ],
      "metadata": {
        "id": "7snHsrbhjHCe"
      },
      "execution_count": 51,
      "outputs": []
    },
    {
      "cell_type": "markdown",
      "source": [
        "* Проверяем:"
      ],
      "metadata": {
        "id": "oeLRZnSJk5Qf"
      }
    },
    {
      "cell_type": "code",
      "source": [
        "f = (~I | I) ^ (O & I)\n",
        "show(f)\n",
        "show(evaluate(f))"
      ],
      "metadata": {
        "colab": {
          "base_uri": "https://localhost:8080/",
          "height": 59
        },
        "id": "Ftkt90qqk7CT",
        "outputId": "449d48cd-667b-4bf8-9939-88a65761ceb3"
      },
      "execution_count": 52,
      "outputs": [
        {
          "output_type": "display_data",
          "data": {
            "text/plain": [
              "<IPython.core.display.Math object>"
            ],
            "text/latex": "$\\displaystyle {\\left( {\\overline{\\mathbb{1}}} \\vee {\\mathbb{1}} \\right)} \\oplus {{\\mathbb{0}} \\wedge {\\mathbb{1}}}$"
          },
          "metadata": {}
        },
        {
          "output_type": "display_data",
          "data": {
            "text/plain": [
              "<IPython.core.display.Math object>"
            ],
            "text/latex": "$\\displaystyle \\mathbb{1}$"
          },
          "metadata": {}
        }
      ]
    },
    {
      "cell_type": "markdown",
      "source": [
        "* Напишите функцию `cast_integer_bool` для преобразования целых чисел в логические константы (как в языках C/C++): ноль преобразуется в логический ноль, все остальные числа - в логическую единицу"
      ],
      "metadata": {
        "id": "d6EGRQz0mGiG"
      }
    },
    {
      "cell_type": "code",
      "source": [
        "def cast_integer_bool(x: tuple) -> tuple:\n",
        "    m = options(x)['value']\n",
        "    return boolean_(m)\n",
        "\n",
        "f = Z(2) ^ Z(1) | Z(10)\n",
        "show(f)\n",
        "show(evaluate(f))"
      ],
      "metadata": {
        "colab": {
          "base_uri": "https://localhost:8080/",
          "height": 58
        },
        "id": "ZWHxrUTbmJsS",
        "outputId": "0b5e1e2e-497e-455e-e3d5-50f7867b6f17"
      },
      "execution_count": 53,
      "outputs": [
        {
          "output_type": "display_data",
          "data": {
            "text/plain": [
              "<IPython.core.display.Math object>"
            ],
            "text/latex": "$\\displaystyle {{2} \\oplus {1}} \\vee {10}$"
          },
          "metadata": {}
        },
        {
          "output_type": "display_data",
          "data": {
            "text/plain": [
              "<IPython.core.display.Math object>"
            ],
            "text/latex": "$\\displaystyle \\mathbb{1}$"
          },
          "metadata": {}
        }
      ]
    },
    {
      "cell_type": "markdown",
      "source": [
        "### Таблицы истинности\n",
        "\n",
        "* Для построения таблицы истинности заданного логического выражения нам потребуется выполнять многократные подстановки в этом выражении каких-то значений вместо имен переменных. Напишем универсальную функцию подстановки `subs` (от английского substitute). Головная `subs` принимает на вход выражение `F` и словарь `V`, ключами в котором являются имена заменяемых переменных, а значениями - выражения, на которые эти переменные будут меняться (см. пример ниже).\n",
        "\n",
        "* **ВАЖНО!!!** Чтобы объекты типа `Expression` можно было использовать в качестве ключей словаря, они должны быть *хешируемыми*. Т.к. мы переопределили операцию равенство (метод `__eq__` класса `Expression`), то класс стал нехешируемым. Чтобы исправить ситуацию, надо вручную добавить к **вашему определению** класса `Expression` метод `__hash__`, который преобразует наше списочное выражение в строку и вычисляет хеш от полученной строки:\n",
        "\n",
        "```\n",
        "class Expression:\n",
        "  ...\n",
        "\n",
        "  def __hash__(self):\n",
        "    return hash(str(self.T))\n",
        "```"
      ],
      "metadata": {
        "id": "Zjzl6ZaKnKhz"
      }
    },
    {
      "cell_type": "code",
      "source": [
        "def subs(F: Expression, V: dict) -> Expression:\n",
        "  # преобразуем словарь V в списочную форму v\n",
        "  v = {options(k.T)['name']: fix(V[k]).T for k in V}\n",
        "  # вызываем списочную функцию подстановки\n",
        "  return Expression(subs_(F.T, v))\n",
        "\n",
        "def subs_(F: tuple, V: dict) -> tuple:\n",
        "  # рекурсивная функция\n",
        "  # если узел - переменная, ищем ее в словаре\n",
        "  if ID(F) == 'symbol':\n",
        "    n = options(F)['name']\n",
        "    if n in V:\n",
        "      # если переменная есть в словаре, то заменяем ее на соответствующее значение\n",
        "      return V[n]\n",
        "    else:\n",
        "      # иначе оставляем как есть\n",
        "      return F\n",
        "  # если узел - не переменная, то рекурсивно вызываем ту же функцию для всех дочерних узлов\n",
        "  A = [subs_(a, V) for a in items(F)]\n",
        "  # и возвращаем такой же узел, но с обновленными дочерними поддеревьями\n",
        "  return ID(F), *A, options(F)\n",
        "\n",
        "# проверяем\n",
        "\n",
        "x, y = symbol('x'), symbol('y')\n",
        "f = x * y\n",
        "show(f)\n",
        "g = subs(f, {x: 1 + y ** 2})\n",
        "show(g)"
      ],
      "metadata": {
        "colab": {
          "base_uri": "https://localhost:8080/",
          "height": 61
        },
        "id": "fatsOCODnOIa",
        "outputId": "1757de05-1428-40dd-cbbe-7843e3f74985"
      },
      "execution_count": 54,
      "outputs": [
        {
          "output_type": "display_data",
          "data": {
            "text/plain": [
              "<IPython.core.display.Math object>"
            ],
            "text/latex": "$\\displaystyle {x} \\cdot {y}$"
          },
          "metadata": {}
        },
        {
          "output_type": "display_data",
          "data": {
            "text/plain": [
              "<IPython.core.display.Math object>"
            ],
            "text/latex": "$\\displaystyle {\\left( {1} + {{y}^{2}} \\right)} \\cdot {y}$"
          },
          "metadata": {}
        }
      ]
    },
    {
      "cell_type": "markdown",
      "source": [
        "* Пишем функцию `makeTable(F: Expression, V: list)` для преобразования заданного логического выражения в таблицу истинности. По числу переменных вычисляем высоту таблицы, делаем цикл по ее строкам. Номер строки представляем в двоичной форме, каждая цифра этого представления подставляется вместо соответствующей переменной в исходное выражение. Полученное константное выражение оценивается и преобразуется в 0 или 1. Из значений переменных и вычисленного значения выражения формируется строка таблицы, например, `000|1`. Выходом функции является список всех строк искомой таблицы истинности."
      ],
      "metadata": {
        "id": "A_p8wb6joxLJ"
      }
    },
    {
      "cell_type": "code",
      "source": [
        "def makeTable(F: Expression, V: list) -> list:\n",
        "  n = len(V) # число переменных, определяет высоту таблицы (2^n)\n",
        "  table = [] # список строк\n",
        "  for i in range(2 ** n): # цикл по строкам таблицы истинности\n",
        "    A = ('0' * n + bin(i)[2:])[-n:] # преобразование номера строки в двоичное число в n разрядах, как это работает?\n",
        "    S = {x: boolean(int(a)) for x, a in zip(V, A)} # словарь для замены\n",
        "    f = options(evaluate(subs(F, S)).T)['value'] # замена + оценивание + преобразование в цифру 0 или 1\n",
        "    table.append(f\"{A}|{f}\") # добавляем строку к таблице\n",
        "  return table"
      ],
      "metadata": {
        "id": "NjB_zi7WozuX"
      },
      "execution_count": 55,
      "outputs": []
    },
    {
      "cell_type": "markdown",
      "source": [
        "* Напишите функцию `boolTable(F: Expression, V: list) -> None`, которая бы строила таблицу истинности выражения `F` и выводила ее на экран. Например, вызов `boolTable(x ^ y ^ ~z, [x, y, z])` должен печатать следующую таблицу:\n",
        "\n",
        "```\n",
        "000|1\n",
        "001|0\n",
        "010|0\n",
        "011|1\n",
        "100|0\n",
        "101|1\n",
        "110|1\n",
        "111|0\n",
        "```"
      ],
      "metadata": {
        "id": "OJ7PCD8qo8l1"
      }
    },
    {
      "cell_type": "code",
      "source": [
        "def boolTable(F: Expression, V: list) -> None:\n",
        "  m = makeTable(F, V)\n",
        "  print(*m, sep=\"\\n\")\n",
        "\n",
        "x, y, z = symbol('x'), symbol('y'), symbol('z')\n",
        "f = x ^ y ^ ~z\n",
        "show(f)\n",
        "boolTable(f, [x, y, z])"
      ],
      "metadata": {
        "colab": {
          "base_uri": "https://localhost:8080/",
          "height": 185
        },
        "id": "ypbryWmopA4X",
        "outputId": "49611f7c-7bac-4087-8ac8-3114a5f4b4eb"
      },
      "execution_count": 56,
      "outputs": [
        {
          "output_type": "display_data",
          "data": {
            "text/plain": [
              "<IPython.core.display.Math object>"
            ],
            "text/latex": "$\\displaystyle {{x} \\oplus {y}} \\oplus {\\overline{z}}$"
          },
          "metadata": {}
        },
        {
          "output_type": "stream",
          "name": "stdout",
          "text": [
            "000|1\n",
            "001|0\n",
            "010|0\n",
            "011|1\n",
            "100|0\n",
            "101|1\n",
            "110|1\n",
            "111|0\n"
          ]
        }
      ]
    },
    {
      "cell_type": "markdown",
      "source": [
        "* (бонусное задание) напишите рекурсивную функцию `getVariables(F: Expression) -> list`, которая бы составляла список всех переменных, входящих в заданное выражение. Модифицируйте функцию `makeTable`, чтобы она принимала на вход только выражение, а список переменных составлялся бы автоматически."
      ],
      "metadata": {
        "id": "QDWK1mPiq1Rz"
      }
    },
    {
      "cell_type": "code",
      "source": [
        "def getVariables(F: Expression) -> list:\n",
        "  if ID(F.T) == 'symbol':\n",
        "    return [F]\n",
        "  V = []\n",
        "  for i in items(F.T):\n",
        "    V.extend(getVariables(Expression(i)))\n",
        "  return V\n",
        "\n",
        "def makeTable(F: Expression) -> list:\n",
        "  V = getVariables(F)\n",
        "  n = len(V) # число переменных, определяет высоту таблицы (2^n)\n",
        "  table = [] # список строк\n",
        "  for i in range(2 ** n): # цикл по строкам таблицы истинности\n",
        "    A = ('0' * n + bin(i)[2:])[-n:] # преобразование номера строки в двоичное число в n разрядах, как это работает?\n",
        "    S = {x: boolean(int(a)) for x, a in zip(V, A)} # словарь для замены\n",
        "    f = options(evaluate(subs(F, S)).T)['value'] # замена + оценивание + преобразование в цифру 0 или 1\n",
        "    table.append(f\"{A}|{f}\") # добавляем строку к таблице\n",
        "  return table\n",
        "\n",
        "def boolTable(F: Expression) -> list:\n",
        "  table = makeTable(F)\n",
        "  for i in range(len(table)):\n",
        "    print(table[i])\n",
        "\n",
        "x, y, z = symbol('x'), symbol('y'), symbol('z')\n",
        "f = x ^ y ^ ~z\n",
        "show(f)\n",
        "boolTable(f)"
      ],
      "metadata": {
        "id": "3XbjvGazq79a",
        "colab": {
          "base_uri": "https://localhost:8080/",
          "height": 185
        },
        "outputId": "0978fe1a-72ac-49ca-dbf8-57074ed01a2a"
      },
      "execution_count": 57,
      "outputs": [
        {
          "output_type": "display_data",
          "data": {
            "text/plain": [
              "<IPython.core.display.Math object>"
            ],
            "text/latex": "$\\displaystyle {{x} \\oplus {y}} \\oplus {\\overline{z}}$"
          },
          "metadata": {}
        },
        {
          "output_type": "stream",
          "name": "stdout",
          "text": [
            "000|1\n",
            "001|0\n",
            "010|0\n",
            "011|1\n",
            "100|0\n",
            "101|1\n",
            "110|1\n",
            "111|0\n"
          ]
        }
      ]
    },
    {
      "cell_type": "markdown",
      "source": [
        "### СДНФ\n",
        "\n",
        "* Напишите функцию `DNF(V: list, F: str) -> Expression`, которая строит по заданному списку переменных `V` и заданному столбцу таблицы истинности `F` СДНФ. Если все значения в `F` равны нулю, функция должна возвращать логический ноль. Примеры: `DNF([x, y], '0110')` $\\to \\overline{x} \\cdot y \\vee x \\cdot \\overline{y}$, `DNF([x, y], '0110')` $\\to \\mathbf{0}$. Для получения списка значений переменных в строке таблицы с номером `i` используйте аналогичное преобразование из функции `makeTable` (пятая строка кода)."
      ],
      "metadata": {
        "id": "Lkz9qKfLq6gB"
      }
    },
    {
      "cell_type": "code",
      "source": [
        "from numpy.lib.function_base import kaiser\n",
        "def DNF(V: list, F: str) -> Expression:\n",
        "\n",
        "  if '1' not in F:\n",
        "    return '0'\n",
        "\n",
        "  ind = F.find('1')\n",
        "  table = ('0' * len(V) + bin(ind)[2:])[-len(V):]\n",
        "  if table[0] == '0':\n",
        "    result = ~V[0]\n",
        "  else:\n",
        "    result = V[0]\n",
        "\n",
        "  for i in range(1, len(V)):\n",
        "    if table[i] == '0':\n",
        "      result *= ~V[i]\n",
        "    else:\n",
        "      result *= V[i]\n",
        "\n",
        "  for i in range(ind + 1 , 2 ** len(V)):\n",
        "    if F[i] == '1':\n",
        "      table = ('0' * len(V) + bin(i)[2:])[-len(V):]\n",
        "      if table[0] == '1':\n",
        "        k = V[0]\n",
        "      else:\n",
        "        k = ~V[0]\n",
        "      for j in range(1, len(V)):\n",
        "        if table[j] == '0':\n",
        "          k *= ~V[j]\n",
        "        else:\n",
        "          k *= V[j]\n",
        "      result |= k\n",
        "  return result\n",
        "\n",
        "x, y = symbol('x'), symbol('y')\n",
        "f = DNF([x, y], '0110')\n",
        "show(f)"
      ],
      "metadata": {
        "colab": {
          "base_uri": "https://localhost:8080/",
          "height": 39
        },
        "id": "5PVNoCEDrBXY",
        "outputId": "d0fa06b4-9b66-4c9d-ac98-14487fe3a4e0"
      },
      "execution_count": 58,
      "outputs": [
        {
          "output_type": "display_data",
          "data": {
            "text/plain": [
              "<IPython.core.display.Math object>"
            ],
            "text/latex": "$\\displaystyle {{\\overline{x}} \\cdot {y}} \\vee {{x} \\cdot {\\overline{y}}}$"
          },
          "metadata": {}
        }
      ]
    },
    {
      "cell_type": "markdown",
      "source": [
        "* (бонусное задание) Напишите аналогичную функцию `CNF(V: list, F: str) -> Expression`для построения СКНФ по заданной таблице истинности. Принцип двойственности: конъюнкции заменяются на дизъюнкции и наоборот, логический 0 заменяется на 1 и наоборот. Пример: `CNF([x, y], '0110')` $\\to \\left( x \\vee y \\right) \\cdot \\left( \\overline{x} \\vee \\overline{y} \\right)$"
      ],
      "metadata": {
        "id": "GZD3FtN3rEjz"
      }
    },
    {
      "cell_type": "code",
      "source": [
        "def CNF(V: list, F: str) -> Expression:\n",
        "\n",
        "  if '0' not in F:\n",
        "    return '0'\n",
        "\n",
        "  ind = F.find('0')\n",
        "  table = ('0' * len(V) + bin(ind)[2:])[-len(V):]\n",
        "  if table[0] == '0':\n",
        "    result = V[0]\n",
        "  else:\n",
        "    result = ~V[0]\n",
        "\n",
        "  for i in range(1, len(V)):\n",
        "    if table[i] == '0':\n",
        "      result |= V[i]\n",
        "    else:\n",
        "      result |= ~V[i]\n",
        "\n",
        "  for i in range(ind + 1 , 2 ** len(V)):\n",
        "    if F[i] == '0':\n",
        "      table = ('0' * len(V) + bin(i)[2:])[-len(V):]\n",
        "      if table[0] == '1':\n",
        "        k = ~V[0]\n",
        "      else:\n",
        "        k = V[0]\n",
        "      for j in range(1, len(V)):\n",
        "        if table[j] == '1':\n",
        "          k |= ~V[j]\n",
        "        else:\n",
        "          k |= V[j]\n",
        "      result *= k\n",
        "  return result\n",
        "\n",
        "x, y = symbol('x'), symbol('y')\n",
        "f = CNF([x, y], '0110')\n",
        "show(f)"
      ],
      "metadata": {
        "id": "tBzDPEM7rH5u",
        "colab": {
          "base_uri": "https://localhost:8080/",
          "height": 39
        },
        "outputId": "b3a0e1a1-57e7-4137-8a3a-bc4b4f3e2f33"
      },
      "execution_count": 59,
      "outputs": [
        {
          "output_type": "display_data",
          "data": {
            "text/plain": [
              "<IPython.core.display.Math object>"
            ],
            "text/latex": "$\\displaystyle {\\left( {x} \\vee {y} \\right)} \\cdot {\\left( {\\overline{x}} \\vee {\\overline{y}} \\right)}$"
          },
          "metadata": {}
        }
      ]
    },
    {
      "cell_type": "markdown",
      "source": [
        "* (бонусное задание) Напишите функцию `ZP(V: list, F: str) -> Expression`, преобразующую заданную таблицу истинности в полином Жегалкина. Пример: `ZP([x, y], '1110')` $\\to \\mathbf{1} \\oplus x \\cdot y$"
      ],
      "metadata": {
        "id": "48fdGNcirLmA"
      }
    },
    {
      "cell_type": "code",
      "source": [
        "def ZP(V: list, F: str) -> Expression:\n",
        "  ...\n",
        "\n",
        "x, y = symbol('x'), symbol('y')\n",
        "f = ZP([x, y], '1110')\n"
      ],
      "metadata": {
        "id": "Q1w3t2bNrOvX"
      },
      "execution_count": 60,
      "outputs": []
    },
    {
      "cell_type": "markdown",
      "source": [
        "### Неравенства\n",
        "\n",
        "* Напишите набор функций для представления операций сравнения ($x=y$, $x\\ne y$, $x\\lt y$, $x\\le y$, $x \\gt y$, $x \\ge y$). Примеры:\n",
        " * `show(x != y)` $\\to x \\ne y$\n",
        " * `show(Z(1) < Z(2))` $\\to 1 \\lt 2$\n",
        " * `show((Z(1) < Z(2)) & (Z(4) >= Z(5)))` $\\to (1 \\lt 2) \\wedge (4 \\ge 5) $"
      ],
      "metadata": {
        "id": "zOcE9ENzrRwO"
      }
    },
    {
      "cell_type": "code",
      "source": [
        "def latex_and(x: tuple) -> str:\n",
        "  a, b = latex_(x[1]), latex_(x[2])\n",
        "  if Pr(x[1]) < Pr(x):\n",
        "    a = enclose(a)\n",
        "  if Pr(x[2]) <= Pr(x) or options(x[2]).get('value', 1) < 0 or ID(x[2]) == 'neg':\n",
        "    b = enclose(b)\n",
        "  return f\"{{{a}}} \\\\wedge {{{b}}}\"\n",
        "\n",
        "x, y = symbol('x'), symbol('y')\n",
        "show(x != y)\n",
        "show(Z(1) < Z(2))\n",
        "show((Z(1) < Z(2)) & (Z(4) >= Z(5)))"
      ],
      "metadata": {
        "id": "BMyXmPuWrVoK",
        "colab": {
          "base_uri": "https://localhost:8080/",
          "height": 80
        },
        "outputId": "1e8d38ee-0d57-400a-a2cf-ed61cf5ea54a"
      },
      "execution_count": 61,
      "outputs": [
        {
          "output_type": "display_data",
          "data": {
            "text/plain": [
              "<IPython.core.display.Math object>"
            ],
            "text/latex": "$\\displaystyle {x} \\neq {y}$"
          },
          "metadata": {}
        },
        {
          "output_type": "display_data",
          "data": {
            "text/plain": [
              "<IPython.core.display.Math object>"
            ],
            "text/latex": "$\\displaystyle {1} < {2}$"
          },
          "metadata": {}
        },
        {
          "output_type": "display_data",
          "data": {
            "text/plain": [
              "<IPython.core.display.Math object>"
            ],
            "text/latex": "$\\displaystyle {\\left( {1} < {2} \\right)} \\wedge {\\left( {4} \\geq {5} \\right)}$"
          },
          "metadata": {}
        }
      ]
    },
    {
      "cell_type": "markdown",
      "source": [
        "* Напишите набор функций для оценивания операций сравнения целых и рациональных чисел. Результат оценивания - логическая константа. Примеры:\n",
        " * `show(evaluate(Z(1) < Z(2)))` $\\to \\mathbb{1}$\n",
        " * `show(evaluate((Z(1) < Z(2)) & (Z(4) >= Z(5))))` $\\to \\mathbb{0}$"
      ],
      "metadata": {
        "id": "_SpsjMpOrZcV"
      }
    },
    {
      "cell_type": "code",
      "source": [
        "OPERATIONS |= {'eq': ['eq_integer_integer', 'eq_rational_rational'], 'nq': ['nq_integer_integer', 'nq_rational_rational'],\n",
        "               'lt': ['lt_integer_integer', 'lt_rational_rational'], 'le': ['le_integer_integer', 'le_rational_rational'],\n",
        "               'gt': ['gt_integer_integer', 'gt_rational_rational'], 'ge': ['ge_integer_integer', 'ge_rational_rational']}\n",
        "\n",
        "def eq_integer_integer(a: tuple, b: tuple) -> tuple:\n",
        "  n = options(a)['value']\n",
        "  m = options(b)['value']\n",
        "  return boolean_(n == m)\n",
        "\n",
        "def eq_rational_rational(a: tuple, b: tuple) -> tuple:\n",
        "  na, ma = options(a)['num'], options(a)['denom']\n",
        "  nb, mb = options(b)['num'], options(b)['denom']\n",
        "  n, m = na * nb, ma * mb\n",
        "  return boolean_(na/ma == nb/mb)\n",
        "\n",
        "def eval_eq(x: tuple) -> tuple:\n",
        "  a, b = eval_(x[1]), eval_(x[2])\n",
        "  return eval_binary(ID(x), a, b)\n",
        "\n",
        "def nq_integer_integer(a: tuple, b: tuple) -> tuple:\n",
        "  n = options(a)['value']\n",
        "  m = options(b)['value']\n",
        "  return boolean_(n != m)\n",
        "\n",
        "def nq_rational_rational(a: tuple, b: tuple) -> tuple:\n",
        "  na, ma = options(a)['num'], options(a)['denom']\n",
        "  nb, mb = options(b)['num'], options(b)['denom']\n",
        "  n, m = na * nb, ma * mb\n",
        "  return boolean_(na/ma != nb/mb)\n",
        "\n",
        "def eval_nq(x: tuple) -> tuple:\n",
        "  a, b = eval_(x[1]), eval_(x[2])\n",
        "  return eval_binary(ID(x), a, b)\n",
        "\n",
        "def lt_integer_integer(a: tuple, b: tuple) -> tuple:\n",
        "  n = options(a)['value']\n",
        "  m = options(b)['value']\n",
        "  return boolean_(n < m)\n",
        "\n",
        "def lt_rational_rational(a: tuple, b: tuple) -> tuple:\n",
        "  na, ma = options(a)['num'], options(a)['denom']\n",
        "  nb, mb = options(b)['num'], options(b)['denom']\n",
        "  n, m = na * nb, ma * mb\n",
        "  return boolean_(na/ma < nb/mb)\n",
        "\n",
        "def eval_lt(x: tuple) -> tuple:\n",
        "  a, b = eval_(x[1]), eval_(x[2])\n",
        "  return eval_binary(ID(x), a, b)\n",
        "\n",
        "def le_integer_integer(a: tuple, b: tuple) -> tuple:\n",
        "  n = options(a)['value']\n",
        "  m = options(b)['value']\n",
        "  return boolean_(n <= m)\n",
        "\n",
        "def le_rational_rational(a: tuple, b: tuple) -> tuple:\n",
        "  na, ma = options(a)['num'], options(a)['denom']\n",
        "  nb, mb = options(b)['num'], options(b)['denom']\n",
        "  n, m = na * nb, ma * mb\n",
        "  return boolean_(na/ma <= nb/mb)\n",
        "\n",
        "def eval_le(x: tuple) -> tuple:\n",
        "  a, b = eval_(x[1]), eval_(x[2])\n",
        "  return eval_binary(ID(x), a, b)\n",
        "\n",
        "def gt_integer_integer(a: tuple, b: tuple) -> tuple:\n",
        "  n = options(a)['value']\n",
        "  m = options(b)['value']\n",
        "  return boolean_(n > m)\n",
        "\n",
        "def gt_rational_rational(a: tuple, b: tuple) -> tuple:\n",
        "  na, ma = options(a)['num'], options(a)['denom']\n",
        "  nb, mb = options(b)['num'], options(b)['denom']\n",
        "  n, m = na * nb, ma * mb\n",
        "  return boolean_(na/ma > nb/mb)\n",
        "\n",
        "def eval_gt(x: tuple) -> tuple:\n",
        "  a, b = eval_(x[1]), eval_(x[2])\n",
        "  return eval_binary(ID(x), a, b)\n",
        "\n",
        "def ge_integer_integer(a: tuple, b: tuple) -> tuple:\n",
        "  n = options(a)['value']\n",
        "  m = options(b)['value']\n",
        "  return boolean_(n >= m)\n",
        "\n",
        "def ge_rational_rational(a: tuple, b: tuple) -> tuple:\n",
        "  na, ma = options(a)['num'], options(a)['denom']\n",
        "  nb, mb = options(b)['num'], options(b)['denom']\n",
        "  n, m = na * nb, ma * mb\n",
        "  return boolean_(na/ma >= nb/mb)\n",
        "\n",
        "def eval_ge(x: tuple) -> tuple:\n",
        "  a, b = eval_(x[1]), eval_(x[2])\n",
        "  return eval_binary(ID(x), a, b)\n",
        "\n",
        "show(evaluate(Z(1) < Z(2)))\n",
        "show(evaluate((Z(1) < Z(2)) & (Z(4) >= Z(5))))"
      ],
      "metadata": {
        "id": "miy7vaplrcJY",
        "colab": {
          "base_uri": "https://localhost:8080/",
          "height": 58
        },
        "outputId": "29a9f5ab-7cc3-4c7c-dace-cf3ed18e7550"
      },
      "execution_count": 62,
      "outputs": [
        {
          "output_type": "display_data",
          "data": {
            "text/plain": [
              "<IPython.core.display.Math object>"
            ],
            "text/latex": "$\\displaystyle \\mathbb{1}$"
          },
          "metadata": {}
        },
        {
          "output_type": "display_data",
          "data": {
            "text/plain": [
              "<IPython.core.display.Math object>"
            ],
            "text/latex": "$\\displaystyle \\mathbb{0}$"
          },
          "metadata": {}
        }
      ]
    },
    {
      "cell_type": "markdown",
      "source": [
        "### Селекторы (бонусное задание)\n",
        "\n",
        "Выражение-селектор представляет собой последовательность пар (условие, выражение) и служит для выбора первого выражения, для которого выполняется соответствующее условие. Пример использования селекторов:\n",
        "$$|x| = \\cases{x,\\,\\mbox{ if } x \\ge 0,\\\\ -x, \\,\\mbox{ if } x \\lt 0.}$$\n",
        "Или в сокращенном варианте (последнее выражение используется без условия, вариант команды else):\n",
        "$$\\mathrm{sign}(x) = \\cases{1, \\,\\mbox{ if } x \\gt 0,\\\\ 0,\\,\\mbox{ if } x = 0,\\\\ -1\\,\\mbox{ else}.}$$\n",
        "\n",
        "* Функция `select_(*args)` создает списочное выражение-селектор для заданной последовательности нечетного числа аргументов: выражение_0, условие_0, выражение_1, условие_1, ..., выражение_n.\n",
        "* Функция `select(*args)` создает аналогичное выражение-селектор типа `Expression`.\n",
        "* Функция `latex_select` преобразует выражение в формат LaTeX (в линейной форме!)"
      ],
      "metadata": {
        "id": "AYNA1QHjrgtA"
      }
    },
    {
      "cell_type": "code",
      "source": [
        "def select_(*args) -> tuple:\n",
        "  return 'select', *args, {}\n",
        "\n",
        "def select(*args) -> Expression:\n",
        "  A = [fix(a).T for a in args]\n",
        "  return Expression(select_(*A))\n",
        "\n",
        "def latex_select(x: tuple) -> str:\n",
        "  A = [latex_(a) for a in items(x)]\n",
        "  s = \"\"\n",
        "  for i in range(len(A) // 2):\n",
        "    s += f\"{{{A[2 * i]}}} \\\\mathbf{{\\\\,if\\\\,}} {{{A[2 * i + 1]}}};\"\n",
        "  s += f\"{{{A[-1]}}} \\\\mathbf{{\\\\,else}}\"\n",
        "  return f\"\\\\left[{s}\\\\right]\"\n",
        "\n",
        "x = symbol('x')\n",
        "f = select(Z(1), x > 0, Z(0), x == 0, Z(-1))\n",
        "show(f)"
      ],
      "metadata": {
        "id": "FNXagQQHrw11",
        "colab": {
          "base_uri": "https://localhost:8080/",
          "height": 39
        },
        "outputId": "b1854f1f-4067-4259-92df-78525f1b848c"
      },
      "execution_count": 63,
      "outputs": [
        {
          "output_type": "display_data",
          "data": {
            "text/plain": [
              "<IPython.core.display.Math object>"
            ],
            "text/latex": "$\\displaystyle \\left[{1} \\mathbf{\\,if\\,} {{x} > {0}};{0} \\mathbf{\\,if\\,} {{x} = {0}};{-1} \\mathbf{\\,else}\\right]$"
          },
          "metadata": {}
        }
      ]
    },
    {
      "cell_type": "markdown",
      "source": [
        "* Напишите функцию `eval_select(x: tuple)` для оценивания выражений-селекторов. Пример для выражения `f` из предудыщей вкладки: `evaluate(subs(f, {x: Z(-100)}))` $\\to -1$.\n"
      ],
      "metadata": {
        "id": "XaIY9ft2r0LO"
      }
    },
    {
      "cell_type": "code",
      "source": [
        "def eval_select(x: tuple) -> tuple:\n",
        "  itms = items(x)\n",
        "  for i in range(1, len(itms), 2):\n",
        "    if eval_(itms[i]) == boolean_(1):\n",
        "      return eval_(itms[i-1])\n",
        "  return eval_(itms[-1])\n",
        "\n",
        "show(evaluate(subs(f, {x: Z(3)})))\n",
        "show(evaluate(subs(f, {x: Z(-100)})))\n",
        "show(evaluate(subs(f, {x: Z(0)})))"
      ],
      "metadata": {
        "id": "iZJZ1Zs2r3z9",
        "colab": {
          "base_uri": "https://localhost:8080/",
          "height": 78
        },
        "outputId": "b0d1f4be-876e-48de-9fec-c3b27e6294ef"
      },
      "execution_count": 64,
      "outputs": [
        {
          "output_type": "display_data",
          "data": {
            "text/plain": [
              "<IPython.core.display.Math object>"
            ],
            "text/latex": "$\\displaystyle 1$"
          },
          "metadata": {}
        },
        {
          "output_type": "display_data",
          "data": {
            "text/plain": [
              "<IPython.core.display.Math object>"
            ],
            "text/latex": "$\\displaystyle -1$"
          },
          "metadata": {}
        },
        {
          "output_type": "display_data",
          "data": {
            "text/plain": [
              "<IPython.core.display.Math object>"
            ],
            "text/latex": "$\\displaystyle 0$"
          },
          "metadata": {}
        }
      ]
    },
    {
      "cell_type": "markdown",
      "source": [
        "### Множества\n",
        "\n",
        "* Реализуем конечные множества (конструктор, конструктор списочный, преобразование в LaTeX, оценка). Оценка множества - оценивание каждого элемента множества."
      ],
      "metadata": {
        "id": "Qt-J7U28r6pH"
      }
    },
    {
      "cell_type": "code",
      "source": [
        "def fset_(*args) -> tuple:\n",
        "  return 'fset', *args, {}\n",
        "\n",
        "def fset(*args) -> Expression:\n",
        "  A = [fix(a).T for a in args]\n",
        "  return Expression(fset_(*A))\n",
        "\n",
        "def latex_fset(x: tuple) -> str:\n",
        "  A = [latex_(a) for a in items(x)]\n",
        "  return f\"\\\\left\\\\{{ {','.join(A)} \\\\right\\\\}}\"\n",
        "\n",
        "def eval_fset(x: tuple) -> tuple:\n",
        "  A = [eval_(a) for a in items(x)]\n",
        "  return fset_(*A)\n",
        "\n",
        "A = fset(1, Q(3,5) + Q(9, 5), 3)\n",
        "show(A)\n",
        "show(evaluate(A))\n",
        "show(fset())"
      ],
      "metadata": {
        "id": "9y8BCHcgr9iy",
        "colab": {
          "base_uri": "https://localhost:8080/",
          "height": 119
        },
        "outputId": "141ce37d-03c0-4a5c-f182-94451287b24b"
      },
      "execution_count": 65,
      "outputs": [
        {
          "output_type": "display_data",
          "data": {
            "text/plain": [
              "<IPython.core.display.Math object>"
            ],
            "text/latex": "$\\displaystyle \\left\\{ 1,{\\frac{3}{5}} + {\\frac{9}{5}},3 \\right\\}$"
          },
          "metadata": {}
        },
        {
          "output_type": "display_data",
          "data": {
            "text/plain": [
              "<IPython.core.display.Math object>"
            ],
            "text/latex": "$\\displaystyle \\left\\{ 1,\\frac{12}{5},3 \\right\\}$"
          },
          "metadata": {}
        },
        {
          "output_type": "display_data",
          "data": {
            "text/plain": [
              "<IPython.core.display.Math object>"
            ],
            "text/latex": "$\\displaystyle \\left\\{  \\right\\}$"
          },
          "metadata": {}
        }
      ]
    },
    {
      "cell_type": "markdown",
      "source": [
        "* (бонусное задание) Добавьте к данной реализации функцию нормализации, которая должна удалять из множества повторяющиеся элементы (множество - это набор РАЗНЫХ элементов). Проверку на равенство элементов используйте элементарную - поэлементное равенство двух структур (или равенство строковых представлений этих структур). Вызов функции нормализации вставьте в списочный конструктор."
      ],
      "metadata": {
        "id": "DSTpcneSsAMV"
      }
    },
    {
      "cell_type": "code",
      "source": [
        "def normalization(x: tuple) -> tuple:\n",
        "  it1 = list(items(x))\n",
        "  it2 = []\n",
        "  for i in range(0, len(it1)):\n",
        "    for j in range(i + 1, len(it1)):\n",
        "      if it1[i] == it1[j]:\n",
        "        it2.append(it1[i])\n",
        "  for i in range(0, len(it2)):\n",
        "    if it1.count(it2[i]) > 1:\n",
        "      it1.remove(it2[i])\n",
        "\n",
        "  return ID(x), *it1, options(x)\n",
        "\n",
        "def fset_(*args) -> tuple:\n",
        "  return normalization(('fset', *args, {}))\n",
        "\n",
        "A = fset(1, 1, 1, 2, 3)\n",
        "show(A)"
      ],
      "metadata": {
        "id": "d_mEbxvFsDIp",
        "colab": {
          "base_uri": "https://localhost:8080/",
          "height": 37
        },
        "outputId": "3516f99d-9615-4b1d-8b2f-72744fb0aaed"
      },
      "execution_count": 66,
      "outputs": [
        {
          "output_type": "display_data",
          "data": {
            "text/plain": [
              "<IPython.core.display.Math object>"
            ],
            "text/latex": "$\\displaystyle \\left\\{ 1,2,3 \\right\\}$"
          },
          "metadata": {}
        }
      ]
    },
    {
      "cell_type": "markdown",
      "source": [
        "### Операции над конечными множествами\n",
        "\n",
        "Операции (дополнение, объединение, пересечение, разность, симметрическая разность) будем реализовывать в виде **функций** (inversion, union, intersection, setdiff, symdiff), а не **бинарных операций**. Рассмотрим процесс на примере реализации операции объединения.\n",
        "\n",
        "* Определяем приоритеты операций (для визуализации формул)\n",
        "* Пишем конструкторы\n",
        "* Пишем преобразование в LaTeX"
      ],
      "metadata": {
        "id": "ausQxaSasD4K"
      }
    },
    {
      "cell_type": "code",
      "source": [
        "priority['union'] = 3\n",
        "\n",
        "def union_(x: tuple, y: tuple) -> tuple:\n",
        "  return 'union', x, y, {}\n",
        "\n",
        "def union(x: Expression, y: Expression) -> Expression:\n",
        "  return Expression(union_(fix(x).T, fix(y).T))\n",
        "\n",
        "def latex_union(x: tuple) -> str:\n",
        "  a, b = latex_(x[1]), latex_(x[2])\n",
        "  if Pr(x[1]) < Pr(x):\n",
        "    a = enclose(a)\n",
        "  if Pr(x[2]) <= Pr(x):\n",
        "    b = enclose(b)\n",
        "  return f\"{{{a}}} \\\\cup {{{b}}}\"\n",
        "\n",
        "g, v = symbol('G'), symbol('V')\n",
        "show(union(g, v))"
      ],
      "metadata": {
        "id": "T33PBkL1sIO5",
        "colab": {
          "base_uri": "https://localhost:8080/",
          "height": 39
        },
        "outputId": "6934fdc7-64e0-4bcb-fd56-83833a6b6d56"
      },
      "execution_count": 67,
      "outputs": [
        {
          "output_type": "display_data",
          "data": {
            "text/plain": [
              "<IPython.core.display.Math object>"
            ],
            "text/latex": "$\\displaystyle {G} \\cup {V}$"
          },
          "metadata": {}
        }
      ]
    },
    {
      "cell_type": "markdown",
      "source": [
        "* Реализуйте по аналогии с объединением все остальные операции над множествами"
      ],
      "metadata": {
        "id": "BORFrFd8sMcv"
      }
    },
    {
      "cell_type": "code",
      "source": [
        "priority['union'] = 3\n",
        "\n",
        "def union_(x: tuple, y: tuple) -> tuple:\n",
        "  return 'union', x, y, {}\n",
        "\n",
        "def union(x: Expression, y: Expression) -> Expression:\n",
        "  return Expression(union_(fix(x).T, fix(y).T))\n",
        "\n",
        "def latex_union(x: tuple) -> str:\n",
        "  a, b = latex_(x[1]), latex_(x[2])\n",
        "  if Pr(x[1]) < Pr(x):\n",
        "    a = enclose(a)\n",
        "  if Pr(x[2]) <= Pr(x):\n",
        "    b = enclose(b)\n",
        "  return f\"{{{a}}} \\\\cup {{{b}}}\"\n",
        "\n",
        "priority['intersection'] = 5\n",
        "\n",
        "def intersection_(x: tuple, y: tuple) -> tuple:\n",
        "  return 'intersection', x, y, {}\n",
        "\n",
        "def intersection(x: Expression, y: Expression) -> Expression:\n",
        "  return Expression(intersection_(fix(x).T, fix(y).T))\n",
        "\n",
        "def latex_intersection(x: tuple) -> str:\n",
        "  a, b = latex_(x[1]), latex_(x[2])\n",
        "  if Pr(x[1]) < Pr(x):\n",
        "    a = enclose(a)\n",
        "  if Pr(x[2]) <= Pr(x):\n",
        "    b = enclose(b)\n",
        "  return f\"{{{a}}} \\\\cap {{{b}}}\"\n",
        "\n",
        "priority['setdiff'] = 3\n",
        "\n",
        "def setdiff_(x: tuple, y: tuple) -> tuple:\n",
        "  return 'setdiff', x, y, {}\n",
        "\n",
        "def setdiff(x: Expression, y: Expression) -> Expression:\n",
        "  return Expression(setdiff_(fix(x).T, fix(y).T))\n",
        "\n",
        "def latex_setdiff(x: tuple) -> str:\n",
        "  a, b = latex_(x[1]), latex_(x[2])\n",
        "  if Pr(x[1]) < Pr(x):\n",
        "    a = enclose(a)\n",
        "  if Pr(x[2]) <= Pr(x):\n",
        "    b = enclose(b)\n",
        "  return f\"{{{a}}} \\\\setminus {{{b}}}\"\n",
        "\n",
        "priority['symdiff'] = 3\n",
        "\n",
        "def symdiff_(x: tuple, y: tuple) -> tuple:\n",
        "  return 'symdiff', x, y, {}\n",
        "\n",
        "def symdiff(x: Expression, y: Expression) -> Expression:\n",
        "  return Expression(symdiff_(fix(x).T, fix(y).T))\n",
        "\n",
        "def latex_symdiff(x: tuple) -> str:\n",
        "  a, b = latex_(x[1]), latex_(x[2])\n",
        "  if Pr(x[1]) < Pr(x):\n",
        "    a = enclose(a)\n",
        "  if Pr(x[2]) <= Pr(x):\n",
        "    b = enclose(b)\n",
        "  return f\"{{{a}}} \\\\triangle {{{b}}}\"\n",
        "\n",
        "priority['inversion'] = 1\n",
        "\n",
        "def inversion_(x: tuple) -> tuple:\n",
        "  return 'inversion', x, {}\n",
        "\n",
        "def inversion(x: Expression) -> Expression:\n",
        "  return Expression(inversion_(fix(x).T))\n",
        "\n",
        "def latex_inversion(x: tuple) -> str:\n",
        "  a = latex_(x[1])\n",
        "  return f\"\\\\neg{{{a}}}\"\n",
        "\n",
        "g, v = symbol('G'), symbol('V')\n",
        "show(intersection(g, v))\n",
        "show(setdiff(g, v))\n",
        "show(symdiff(g, v))\n",
        "show(inversion(g))\n"
      ],
      "metadata": {
        "id": "1V4Ah0vusQ0Y",
        "colab": {
          "base_uri": "https://localhost:8080/",
          "height": 106
        },
        "outputId": "f4a7a25e-4131-4788-9ee1-74da644fc4d3"
      },
      "execution_count": 68,
      "outputs": [
        {
          "output_type": "display_data",
          "data": {
            "text/plain": [
              "<IPython.core.display.Math object>"
            ],
            "text/latex": "$\\displaystyle {G} \\cap {V}$"
          },
          "metadata": {}
        },
        {
          "output_type": "display_data",
          "data": {
            "text/plain": [
              "<IPython.core.display.Math object>"
            ],
            "text/latex": "$\\displaystyle {G} \\setminus {V}$"
          },
          "metadata": {}
        },
        {
          "output_type": "display_data",
          "data": {
            "text/plain": [
              "<IPython.core.display.Math object>"
            ],
            "text/latex": "$\\displaystyle {G} \\triangle {V}$"
          },
          "metadata": {}
        },
        {
          "output_type": "display_data",
          "data": {
            "text/plain": [
              "<IPython.core.display.Math object>"
            ],
            "text/latex": "$\\displaystyle \\neg{G}$"
          },
          "metadata": {}
        }
      ]
    },
    {
      "cell_type": "markdown",
      "source": [
        "* Напишем функцию оценивания операции объединения (`eval_union`)"
      ],
      "metadata": {
        "id": "sqwHjJwAsRLR"
      }
    },
    {
      "cell_type": "code",
      "source": [
        "def eval_union(x: tuple) -> tuple:\n",
        "  a, b = eval_(x[1]), eval_(x[2]) # оцениваем операнды\n",
        "  if ID(a) != 'fset' or ID(b) != 'fset':\n",
        "    return ID(x), a, b, {} # если операнды не конечные множества, то ничего не делаем\n",
        "  A, B = list(items(a)), list(items(b)) # преобразуем в списки\n",
        "  C = A[:] # копируем все элементы из A в C\n",
        "  for b in B: # цикл по всем элементам b из B\n",
        "    inA = False\n",
        "    for a in A:\n",
        "      if b == a:\n",
        "        inA = True # нашли в A элемент b\n",
        "        break\n",
        "    if not inA:\n",
        "      C.append(b) # если не нашли b в A, то добавляем b в C\n",
        "  return fset_(*C)\n",
        "\n",
        "A = fset(*list(range(0, 6)))\n",
        "B = fset(*list(range(0, 12, 2)))\n",
        "C = union(A, B)\n",
        "show(C == evaluate(C))"
      ],
      "metadata": {
        "id": "VbnPTfamsWmZ",
        "colab": {
          "base_uri": "https://localhost:8080/",
          "height": 37
        },
        "outputId": "eb02101c-ba97-4c82-cb45-3daf42df4c9e"
      },
      "execution_count": 69,
      "outputs": [
        {
          "output_type": "display_data",
          "data": {
            "text/plain": [
              "<IPython.core.display.Math object>"
            ],
            "text/latex": "$\\displaystyle {{\\left\\{ 0,1,2,3,4,5 \\right\\}} \\cup {\\left\\{ 0,2,4,6,8,10 \\right\\}}} = {\\left\\{ 0,1,2,3,4,5,6,8,10 \\right\\}}$"
          },
          "metadata": {}
        }
      ]
    },
    {
      "cell_type": "markdown",
      "source": [
        "* Реализуйте оценивание остальных операций над множествами"
      ],
      "metadata": {
        "id": "b3UU5v3Rsas5"
      }
    },
    {
      "cell_type": "code",
      "source": [
        "def eval_intersection(x: tuple) -> tuple:\n",
        "  a, b = eval_(x[1]), eval_(x[2])\n",
        "  if ID(a) != 'fset' or ID(b) != 'fset':\n",
        "    return ID(x), a, b, {}\n",
        "  A, B = list(items(a)), list(items(b))\n",
        "  C = []\n",
        "  for b in B:\n",
        "    for a in A:\n",
        "      if b == a:\n",
        "        C.append(b)\n",
        "        break\n",
        "  return fset_(*C)\n",
        "\n",
        "def eval_setdiff(x: tuple) -> tuple:\n",
        "  a, b = eval_(x[1]), eval_(x[2])\n",
        "  if ID(a) != 'fset' or ID(b) != 'fset':\n",
        "    return ID(x), a, b, {}\n",
        "  A, B = list(items(a)), list(items(b))\n",
        "  C = []\n",
        "  for a in A:\n",
        "    inB = False\n",
        "    for b in B:\n",
        "      if a == b:\n",
        "        inB = True\n",
        "        break\n",
        "    if not inB:\n",
        "      C.append(a)\n",
        "  return fset_(*C)\n",
        "\n",
        "def eval_symdiff(x: tuple) -> tuple:\n",
        "  a, b = eval_(x[1]), eval_(x[2])\n",
        "  if ID(a) != 'fset' or ID(b) != 'fset':\n",
        "    return ID(x), a, b, {}\n",
        "  A, B = list(items(a)), list(items(b))\n",
        "  intersec = []\n",
        "  C = []\n",
        "  for b in B:\n",
        "    for a in A:\n",
        "      if b == a:\n",
        "        intersec.append(b)\n",
        "        break\n",
        "  for a in A:\n",
        "    if a not in intersec:\n",
        "      C.append(a)\n",
        "  for b in B:\n",
        "    if b not in intersec:\n",
        "      C.append(b)\n",
        "  return fset_(*C)\n",
        "\n",
        "A = fset(*list(range(0, 10)))\n",
        "B = fset(*list(range(0, 24, 4)))\n",
        "C = intersection(A, B)\n",
        "D = setdiff(A, B)\n",
        "E = setdiff(B, A)\n",
        "F = symdiff(A, B)\n",
        "show(C == evaluate(C))\n",
        "show(D == evaluate(D))\n",
        "show(E == evaluate(E))\n",
        "show(F == evaluate(F))"
      ],
      "metadata": {
        "id": "0nxeznLhsd2d",
        "colab": {
          "base_uri": "https://localhost:8080/",
          "height": 98
        },
        "outputId": "7e30c308-5ec8-473a-b518-7890dfd320a0"
      },
      "execution_count": 70,
      "outputs": [
        {
          "output_type": "display_data",
          "data": {
            "text/plain": [
              "<IPython.core.display.Math object>"
            ],
            "text/latex": "$\\displaystyle {{\\left\\{ 0,1,2,3,4,5,6,7,8,9 \\right\\}} \\cap {\\left\\{ 0,4,8,12,16,20 \\right\\}}} = {\\left\\{ 0,4,8 \\right\\}}$"
          },
          "metadata": {}
        },
        {
          "output_type": "display_data",
          "data": {
            "text/plain": [
              "<IPython.core.display.Math object>"
            ],
            "text/latex": "$\\displaystyle {{\\left\\{ 0,1,2,3,4,5,6,7,8,9 \\right\\}} \\setminus {\\left\\{ 0,4,8,12,16,20 \\right\\}}} = {\\left\\{ 1,2,3,5,6,7,9 \\right\\}}$"
          },
          "metadata": {}
        },
        {
          "output_type": "display_data",
          "data": {
            "text/plain": [
              "<IPython.core.display.Math object>"
            ],
            "text/latex": "$\\displaystyle {{\\left\\{ 0,4,8,12,16,20 \\right\\}} \\setminus {\\left\\{ 0,1,2,3,4,5,6,7,8,9 \\right\\}}} = {\\left\\{ 12,16,20 \\right\\}}$"
          },
          "metadata": {}
        },
        {
          "output_type": "display_data",
          "data": {
            "text/plain": [
              "<IPython.core.display.Math object>"
            ],
            "text/latex": "$\\displaystyle {{\\left\\{ 0,1,2,3,4,5,6,7,8,9 \\right\\}} \\triangle {\\left\\{ 0,4,8,12,16,20 \\right\\}}} = {\\left\\{ 1,2,3,5,6,7,9,12,16,20 \\right\\}}$"
          },
          "metadata": {}
        }
      ]
    },
    {
      "cell_type": "markdown",
      "source": [
        "* (бонусное задание) Реализуйте быстрый вариант оценивания операций через предварительную сортировку элементов множества (см. презентацию лекции). Проведите сравнение двух реализаций по времени выполнения операций для больших множеств `A = fset(*list(range(0, n)))`, `B = fset(*list(range(0, 2 * n, 2)))`, для значений `n` из набора [10, 100, 1000, 10000]."
      ],
      "metadata": {
        "id": "yJs3UZRRseTa"
      }
    },
    {
      "cell_type": "code",
      "source": [],
      "metadata": {
        "id": "e7YrkO_fsiOO"
      },
      "execution_count": 70,
      "outputs": []
    },
    {
      "cell_type": "markdown",
      "source": [
        "### Другие \"типы\" множеств\n",
        "\n",
        "Реализуйте представление множеств следующих типов (только конструкторы и преобразователи в LaTeX):\n",
        "\n",
        "* Множества-константы (`cset`): $\\mathbb{N}$, $\\mathbb{Z}$, $\\mathbb{Q}$, $\\mathbb{R}$, $\\varnothing$.\n",
        "* Интервальные множества (`iset`): $(-\\infty, 0) \\cup (1, 2]$. Задаются набором пар границ и их типов (закрытые/открытые). Также нужно будет определить специальный объект - бесконечность, `infinity`.\n",
        "* Параметрические множества (`pset`): $\\{2n+1\\,|\\,n\\in \\mathbb{Z}\\}$. Задаются тремя элементами - выражением ($2n+1$), переменной ($n$), множеством ($\\mathbb{Z}$).\n",
        "* Условные множества (`aset`): $\\{x\\in\\mathbb{R}\\,|\\,x>0\\}$. Задаются тремя элементами - переменной, множеством, условием."
      ],
      "metadata": {
        "id": "CxmruQo7si6G"
      }
    },
    {
      "cell_type": "code",
      "source": [
        "def cset_(x:str) -> tuple:\n",
        "  return 'cset', {'name': x}\n",
        "\n",
        "def cset(x:str) -> Expression:\n",
        "  return Expression(cset_(x))\n",
        "\n",
        "def latex_cset(x: tuple) -> str:\n",
        "  number_const = {'natural numbers': 'N', 'natural': 'N', 'n' : 'N',\n",
        "                  'integers': 'Z', 'z': 'Z', 'integer': 'Z', 'int': 'Z',\n",
        "                  'rational number': 'Q', 'rational numbers': 'Q', 'q': 'Q', 'rational': 'Q',\n",
        "                  'real numbers': 'R', 'real number': 'R', 'real': 'R', 'r': 'R'}\n",
        "  a = options(x)['name'].lower()\n",
        "  if a not in number_const:\n",
        "    return f\"\\\\varnothing\"\n",
        "  c = number_const[a]\n",
        "  return f\"\\mathbb{{{c}}}\"\n",
        "\n",
        "\n",
        "show(cset('q'))\n",
        "show(cset('z'))\n",
        "show(cset('fff'))\n",
        "\n",
        "\n"
      ],
      "metadata": {
        "id": "ykAd_gW7snIG",
        "colab": {
          "base_uri": "https://localhost:8080/",
          "height": 81
        },
        "outputId": "e5354101-a19e-453a-ffca-cfebd20cba22"
      },
      "execution_count": 71,
      "outputs": [
        {
          "output_type": "display_data",
          "data": {
            "text/plain": [
              "<IPython.core.display.Math object>"
            ],
            "text/latex": "$\\displaystyle \\mathbb{Q}$"
          },
          "metadata": {}
        },
        {
          "output_type": "display_data",
          "data": {
            "text/plain": [
              "<IPython.core.display.Math object>"
            ],
            "text/latex": "$\\displaystyle \\mathbb{Z}$"
          },
          "metadata": {}
        },
        {
          "output_type": "display_data",
          "data": {
            "text/plain": [
              "<IPython.core.display.Math object>"
            ],
            "text/latex": "$\\displaystyle \\varnothing$"
          },
          "metadata": {}
        }
      ]
    },
    {
      "cell_type": "code",
      "source": [
        "def pset(v:Expression, p:Expression, mn:Expression) -> Expression:\n",
        "  return Expression(pset_(v, p, mn))\n",
        "\n",
        "def pset_(v:Expression, p:Expression, mn:Expression ) -> tuple:\n",
        "  return 'pset', {'vr': v, 'per': p, 'mng':mn}\n",
        "\n",
        "def latex_pset(x: tuple) -> str:\n",
        "  v = latex_(options(x)['vr'].T)\n",
        "  p = latex_(options(x)['per'].T)\n",
        "  mn = latex_(options(x)['mng'].T)\n",
        "  return f'\\left\\{{{v}\\,|\\,{p}\\in{mn}\\\\right\\}}'\n",
        "\n",
        "k = symbol('k')\n",
        "f = 2 * k + 1\n",
        "s = cset('Z')\n",
        "show(pset(f, k, s))\n"
      ],
      "metadata": {
        "id": "sOJE7znpmVOO",
        "colab": {
          "base_uri": "https://localhost:8080/",
          "height": 39
        },
        "outputId": "b9b330f4-6878-46c3-998a-cbaf48aca532"
      },
      "execution_count": 72,
      "outputs": [
        {
          "output_type": "display_data",
          "data": {
            "text/plain": [
              "<IPython.core.display.Math object>"
            ],
            "text/latex": "$\\displaystyle \\left\\{{{2} \\cdot {k}} + {1}\\,|\\,k\\in\\mathbb{Z}\\right\\}$"
          },
          "metadata": {}
        }
      ]
    },
    {
      "cell_type": "code",
      "source": [
        "def aset(p:Expression, mn:Expression, u:Expression) -> Expression:\n",
        "  return Expression(aset_(p, mn, u))\n",
        "\n",
        "def aset_(p:Expression, mn:Expression, u:Expression ) -> tuple:\n",
        "  return 'aset', {'per': p, 'mng': mn, 'us':u}\n",
        "\n",
        "def latex_aset(x: tuple) -> str:\n",
        "    p = latex_(options(x)['per'].T)\n",
        "    mn = latex_(options(x)['mng'].T)\n",
        "    u = latex_(options(x)['us'].T)\n",
        "    return f'\\\\left\\\\{{{p}\\\\in{mn}\\\\,|\\\\,{u}\\\\right\\\\}}'\n",
        "\n",
        "x = symbol('x')\n",
        "f = x > 0\n",
        "s = cset('R')\n",
        "show(aset(x, s, f))"
      ],
      "metadata": {
        "id": "NzUy4vL-wF1x",
        "colab": {
          "base_uri": "https://localhost:8080/",
          "height": 39
        },
        "outputId": "493c0fd3-2e10-4f96-fbdb-76491d23d46e"
      },
      "execution_count": 73,
      "outputs": [
        {
          "output_type": "display_data",
          "data": {
            "text/plain": [
              "<IPython.core.display.Math object>"
            ],
            "text/latex": "$\\displaystyle \\left\\{x\\in\\mathbb{R}\\,|\\,{x} > {0}\\right\\}$"
          },
          "metadata": {}
        }
      ]
    },
    {
      "cell_type": "code",
      "source": [
        "def infinity() -> Expression:\n",
        " return Expression(infinity_())\n",
        "\n",
        "def infinity_() -> tuple:\n",
        "  return 'infinity', {}\n",
        "\n",
        "def latex_infinity(x: tuple) -> str:\n",
        "  return f'\\infty'\n",
        "\n",
        "\n",
        "def iset(*args) -> Expression:\n",
        "  return Expression(iset_(*args))\n",
        "\n",
        "def iset_(*args) -> tuple:\n",
        "  return 'iset', *args, {}\n",
        "\n",
        "def latex_iset(x: tuple) -> str:\n",
        "  f = items(x)\n",
        "  os = '[' if f[0][0] else '('\n",
        "  ni = latex_(fix(f[0][1]).T)\n",
        "  zs = ']' if f[0][2] else ')'\n",
        "  ki = latex_(fix(f[0][3]).T)\n",
        "  v = f'\\\\left{os}{ni},{ki}\\\\right{zs}'\n",
        "  for i in range(1, len(f)):\n",
        "    os = '[' if f[i][0] else '('\n",
        "    ni = latex_(fix(f[i][1]).T)\n",
        "    zs = ']' if f[i][2] else ')'\n",
        "    ki = latex_(fix(f[i][3]).T)\n",
        "    v += f'\\\\cup\\\\left{os}{ni},{ki}\\\\right{zs}'\n",
        "  return v\n",
        "\n",
        "inf = infinity()\n",
        "f = iset([False, -inf, True, 2], [False, -5, True, 5])\n",
        "show(f)"
      ],
      "metadata": {
        "id": "IdRgJNYD0a3R",
        "colab": {
          "base_uri": "https://localhost:8080/",
          "height": 37
        },
        "outputId": "e3eea722-4177-4780-b216-61a57bc9de61"
      },
      "execution_count": 74,
      "outputs": [
        {
          "output_type": "display_data",
          "data": {
            "text/plain": [
              "<IPython.core.display.Math object>"
            ],
            "text/latex": "$\\displaystyle \\left( -{\\infty},2\\right]\\cup\\left(-5,5\\right]$"
          },
          "metadata": {}
        }
      ]
    },
    {
      "cell_type": "markdown",
      "source": [
        "* (бонусное задание) Реализуйте оценивание множественных операций над интервальными множествами."
      ],
      "metadata": {
        "id": "ouzBJpX4soRD"
      }
    },
    {
      "cell_type": "code",
      "source": [],
      "metadata": {
        "id": "NyT-CghVsr8j"
      },
      "execution_count": 74,
      "outputs": []
    },
    {
      "cell_type": "markdown",
      "source": [
        "### Матрицы\n",
        "\n",
        "* Пишем конструктор матриц произвольного размера, входом является список элементов и рамеры матрицы."
      ],
      "metadata": {
        "id": "T5L5tEBIssO_"
      }
    },
    {
      "cell_type": "code",
      "source": [
        "def matrix_(A: list, n: int, m: int) -> tuple:\n",
        "  return 'matrix', *A, {'dim': (n, m)}\n",
        "\n",
        "def matrix(A: list, n: int, m: int) -> Expression:\n",
        "  B = [fix(a).T for a in A]\n",
        "  return Expression(matrix_(B, n, m))"
      ],
      "metadata": {
        "id": "v7iYwcYVsvAt"
      },
      "execution_count": 75,
      "outputs": []
    },
    {
      "cell_type": "markdown",
      "source": [
        "* Реализуйте функцию преобразования матрицы в формат LaTeX. Пример: `matrix([1, 2, 3, 4], 2, 2)` $\\to \\left[\\begin{array}{cc} 1 & 2 \\\\ 3 & 4 \\\\\\end{array}\\right]$ (см. код вкладки)."
      ],
      "metadata": {
        "id": "grD1a4f9syIn"
      }
    },
    {
      "cell_type": "code",
      "source": [
        "def latex_matrix(x: tuple) -> str:\n",
        "  A = [latex_(a) for a in items(x)]\n",
        "  n = options(x)['dim'][0]\n",
        "  m = options(x)['dim'][1]\n",
        "  result = '\\\\left[\\\\begin{array}{cc}'\n",
        "\n",
        "  for i in range(n):\n",
        "    result += f'{A[i * m]}'\n",
        "    for j in range(1, m):\n",
        "      result += f' & {A[i * m + j]}'\n",
        "    result += '\\\\\\\\'\n",
        "\n",
        "  result += '\\\\end{array}\\\\right]'\n",
        "  return result\n",
        "\n",
        "A = matrix([1, 2, 3, 4], 2, 2)\n",
        "show(A)"
      ],
      "metadata": {
        "id": "iJU43rIQs13a",
        "colab": {
          "base_uri": "https://localhost:8080/",
          "height": 58
        },
        "outputId": "73bdf803-11aa-4acd-b657-05bd07fe7d5e"
      },
      "execution_count": 76,
      "outputs": [
        {
          "output_type": "display_data",
          "data": {
            "text/plain": [
              "<IPython.core.display.Math object>"
            ],
            "text/latex": "$\\displaystyle \\left[\\begin{array}{cc}1 & 2\\\\3 & 4\\\\\\end{array}\\right]$"
          },
          "metadata": {}
        }
      ]
    },
    {
      "cell_type": "markdown",
      "source": [
        "* Напишите функции-конструкторы векторов (`cvector` - столбцы, `rvector` - строки), аргументом является список значений, длина вычисляется автоматически. Внутренним представлением должна быть **матрица**, у которой одна из размерностей будет равна единице (т.е. новый тип объектов создавать не нужно). Пример:\n",
        "`cvector([1, 2]).T` $\\to$ `('matrix', ('integer', {'value': 1}), ('integer', {'value': 2}), {'dim': (2, 1)})`."
      ],
      "metadata": {
        "id": "qHNW7GUUs5OD"
      }
    },
    {
      "cell_type": "code",
      "source": [
        "def cvector(A: list) -> Expression:\n",
        "  B = [fix(a).T for a in A]\n",
        "  return Expression(matrix_(B, len(B), 1))\n",
        "\n",
        "def rvector(A: list) -> Expression:\n",
        "  B = [fix(a).T for a in A]\n",
        "  return Expression(matrix_(B, 1, len(B)))"
      ],
      "metadata": {
        "id": "-AIflLfAs8ZO"
      },
      "execution_count": 77,
      "outputs": []
    },
    {
      "cell_type": "markdown",
      "source": [
        "* Напишите функцию `eval_matrix`, выполняющую оценивание элементов матрицы."
      ],
      "metadata": {
        "id": "qfQx3fwjg2GE"
      }
    },
    {
      "cell_type": "code",
      "source": [
        "def eval_matrix(x: tuple) -> tuple:\n",
        "  A = [eval_(a) for a in items(x)]\n",
        "  return ID(x), *A, options(x)\n",
        "\n",
        "A = matrix([1, Z(2) * Z(7), 3, 4], 2, 2)\n",
        "show(A)\n",
        "show(evaluate(A))"
      ],
      "metadata": {
        "id": "kXhFJErDg5c7",
        "colab": {
          "base_uri": "https://localhost:8080/",
          "height": 98
        },
        "outputId": "4dd48d98-c279-47a0-a532-cf6b3b29ca1f"
      },
      "execution_count": 78,
      "outputs": [
        {
          "output_type": "display_data",
          "data": {
            "text/plain": [
              "<IPython.core.display.Math object>"
            ],
            "text/latex": "$\\displaystyle \\left[\\begin{array}{cc}1 & {2} \\cdot {7}\\\\3 & 4\\\\\\end{array}\\right]$"
          },
          "metadata": {}
        },
        {
          "output_type": "display_data",
          "data": {
            "text/plain": [
              "<IPython.core.display.Math object>"
            ],
            "text/latex": "$\\displaystyle \\left[\\begin{array}{cc}1 & 14\\\\3 & 4\\\\\\end{array}\\right]$"
          },
          "metadata": {}
        }
      ]
    },
    {
      "cell_type": "markdown",
      "source": [
        "* Реализуйте оценивание арифметических операций над матрицами: умножение на число, сложение, вычитание, умножение."
      ],
      "metadata": {
        "id": "yye0oSqvs_Hc"
      }
    },
    {
      "cell_type": "code",
      "source": [
        "def add_matrix_matrix(A: tuple, B: tuple) -> tuple:\n",
        "  n = options(A)['dim'][0]\n",
        "  m = options(A)['dim'][1]\n",
        "  C = [eval_(add_(items(A)[i], items(B)[i])) for i in range(n * m)]\n",
        "  return matrix_(C, n, m)\n",
        "\n",
        "OPERATIONS['add'].append('add_matrix_matrix')\n",
        "\n",
        "def mul_integer_matrix(INT: tuple, A: tuple) -> tuple:\n",
        "  n = options(A)['dim'][0]\n",
        "  m = options(A)['dim'][1]\n",
        "  C = [eval_(mul_(INT, items(A)[i])) for i in range(n * m)]\n",
        "  return matrix_(C, n, m)\n",
        "\n",
        "OPERATIONS['mul'].append('mul_integer_matrix')\n",
        "\n",
        "def mul_matrix_integer(A: tuple, INT: tuple) -> tuple:\n",
        "  n = options(A)['dim'][0]\n",
        "  m = options(A)['dim'][1]\n",
        "  C = [eval_(mul_(INT, items(A)[i])) for i in range(n * m)]\n",
        "  return matrix_(C, n, m)\n",
        "\n",
        "OPERATIONS['mul'].append('mul_matrix_integer')\n",
        "\n",
        "def mul_rational_matrix(RAT: tuple, A: tuple) -> tuple:\n",
        "  n = options(A)['dim'][0]\n",
        "  m = options(A)['dim'][1]\n",
        "  C = [eval_(mul_(RAT, items(A)[i])) for i in range(n * m)]\n",
        "  return matrix_(C, n, m)\n",
        "\n",
        "OPERATIONS['mul'].append('mul_rational_matrix')\n",
        "\n",
        "def mul_matrix_rational(A: tuple, RAT: tuple) -> tuple:\n",
        "  n = options(A)['dim'][0]\n",
        "  m = options(A)['dim'][1]\n",
        "  C = [eval_(mul_(RAT, items(A)[i])) for i in range(n * m)]\n",
        "  return matrix_(C, n, m)\n",
        "\n",
        "OPERATIONS['mul'].append('mul_matrix_rational')\n",
        "\n",
        "def sub_matrix_matrix(A: tuple, B: tuple) -> tuple:\n",
        "  n = options(A)['dim'][0]\n",
        "  m = options(A)['dim'][1]\n",
        "  C = [eval_(sub_(items(A)[i], items(B)[i])) for i in range(n * m)]\n",
        "  return matrix_(C, n, m)\n",
        "\n",
        "OPERATIONS['sub'].append('sub_matrix_matrix')\n",
        "\n",
        "def mul_matrix_matrix(A: tuple, B: tuple) -> tuple:\n",
        "  n = options(A)['dim'][0]\n",
        "  k = options(B)['dim'][0]\n",
        "  m = options(B)['dim'][1]\n",
        "  C = []\n",
        "  for i in range(n):\n",
        "    for j in range(m):\n",
        "      elem = integer_(0)\n",
        "      for s in range(k):\n",
        "        elem = eval_(add_(elem, eval_(mul_(items(A)[i * k + s], items(B)[s * m + j]))))\n",
        "      C.append(elem)\n",
        "  return matrix_(C, n, m)\n",
        "\n",
        "OPERATIONS['mul'].append('mul_matrix_matrix')\n",
        "\n",
        "\n",
        "A = matrix([Q(1, 3), 3, 4, Q(-1, 2)], 2, 2)\n",
        "B = matrix([1, 1, 1, 1], 2, 2)\n",
        "C = A + B\n",
        "D = A * B\n",
        "show(C)\n",
        "show(evaluate(C))\n",
        "show(D)\n",
        "show(evaluate(D))"
      ],
      "metadata": {
        "id": "T8U8XkmNtCzr",
        "colab": {
          "base_uri": "https://localhost:8080/",
          "height": 180
        },
        "outputId": "4b637d22-ebb9-422c-bc68-c3542c9bcddf"
      },
      "execution_count": 86,
      "outputs": [
        {
          "output_type": "display_data",
          "data": {
            "text/plain": [
              "<IPython.core.display.Math object>"
            ],
            "text/latex": "$\\displaystyle {\\left[\\begin{array}{cc}\\frac{1}{3} & 3\\\\4 & -\\frac{1}{2}\\\\\\end{array}\\right]} + {\\left[\\begin{array}{cc}1 & 1\\\\1 & 1\\\\\\end{array}\\right]}$"
          },
          "metadata": {}
        },
        {
          "output_type": "display_data",
          "data": {
            "text/plain": [
              "<IPython.core.display.Math object>"
            ],
            "text/latex": "$\\displaystyle \\left[\\begin{array}{cc}\\frac{4}{3} & 4\\\\5 & \\frac{1}{2}\\\\\\end{array}\\right]$"
          },
          "metadata": {}
        },
        {
          "output_type": "display_data",
          "data": {
            "text/plain": [
              "<IPython.core.display.Math object>"
            ],
            "text/latex": "$\\displaystyle {\\left[\\begin{array}{cc}\\frac{1}{3} & 3\\\\4 & -\\frac{1}{2}\\\\\\end{array}\\right]} \\cdot {\\left[\\begin{array}{cc}1 & 1\\\\1 & 1\\\\\\end{array}\\right]}$"
          },
          "metadata": {}
        },
        {
          "output_type": "display_data",
          "data": {
            "text/plain": [
              "<IPython.core.display.Math object>"
            ],
            "text/latex": "$\\displaystyle \\left[\\begin{array}{cc}\\frac{10}{3} & \\frac{10}{3}\\\\\\frac{7}{2} & \\frac{7}{2}\\\\\\end{array}\\right]$"
          },
          "metadata": {}
        }
      ]
    },
    {
      "cell_type": "markdown",
      "source": [
        "* (бонусное задание) Реализуйте представление и оценивание операции транспонирования матрицы `transpose`"
      ],
      "metadata": {
        "id": "aS26WrwgtGLO"
      }
    },
    {
      "cell_type": "code",
      "source": [],
      "metadata": {
        "id": "XRvIvGuDtK_p"
      },
      "execution_count": 84,
      "outputs": []
    },
    {
      "cell_type": "markdown",
      "source": [
        "### Решение систем линейных уравнений методом Гаусса\n",
        "\n",
        "* Пишем головную функцию `solveLinearSystem`, вызывающую списочный вариант этой функции и выполняющий оценку результата."
      ],
      "metadata": {
        "id": "1sixJ9WgtJxP"
      }
    },
    {
      "cell_type": "code",
      "source": [
        "def solveLinearSystem(A: Expression, b: Expression) -> Expression:\n",
        "  x = solveLinearSystem_(A.T, b.T)\n",
        "  return Expression(eval_(x))"
      ],
      "metadata": {
        "id": "Eyei4U50tPMQ"
      },
      "execution_count": 81,
      "outputs": []
    },
    {
      "cell_type": "markdown",
      "source": [
        "* Напишите основную функцию `solveLinearSystem_`, реализующую сам метод Гаусса. Т.к. алгоритм должен работать в символьной форме (со списочными выражениями, а не с числами), то вместо знаков арифметических операций нужно использовать списочные функции `add_`, `mul_` и т.д."
      ],
      "metadata": {
        "id": "FeCN3hZ1tR3R"
      }
    },
    {
      "cell_type": "code",
      "source": [
        "def solveLinearSystem_(A: tuple, b: tuple) -> tuple:\n",
        "  x = list(items(b))\n",
        "  n = len(x)\n",
        "  C = [list(items(A)[i * n: (i + 1) * n]) for i in range(n)]\n",
        "\n",
        "  # прямой ход\n",
        "  for k in range(n):\n",
        "    for j in range(k+1, n):\n",
        "      C[k][j] = div_(C[k][j], C[k][k])\n",
        "    x[k] = div_(x[k], C[k][k])\n",
        "    for i in range(k+1, n):\n",
        "      for j in range(k+1, n):\n",
        "        C[i][j] = sub_(C[i][j], mul_(C[i][k], C[k][j]))\n",
        "      x[i] = sub_(x[i], mul_(C[i][k], x[k]))\n",
        "  # обратный ход\n",
        "  for k in range(n-1, -1, -1):\n",
        "    for j in range(k+1, n):\n",
        "      x[k] = sub_(x[k], mul_(x[j], C[k][j]))\n",
        "  return matrix_(x, n, 1)"
      ],
      "metadata": {
        "id": "M9V3EogctWh0"
      },
      "execution_count": 82,
      "outputs": []
    },
    {
      "cell_type": "markdown",
      "source": [
        "* Проверяем (на выходе должен быть вектор-столбец `[1, 1]`):"
      ],
      "metadata": {
        "id": "Y6QwRfKwtZkT"
      }
    },
    {
      "cell_type": "code",
      "source": [
        "A = matrix([1, 2, 3, 4], 2, 2)\n",
        "b = cvector([3, 7])\n",
        "show(A == b)\n",
        "x = solveLinearSystem(A, b)\n",
        "show(x)"
      ],
      "metadata": {
        "id": "ie85xRW4tcnw",
        "colab": {
          "base_uri": "https://localhost:8080/",
          "height": 98
        },
        "outputId": "dcd357dc-cbcf-42f3-95da-68f234c3dfba"
      },
      "execution_count": 83,
      "outputs": [
        {
          "output_type": "display_data",
          "data": {
            "text/plain": [
              "<IPython.core.display.Math object>"
            ],
            "text/latex": "$\\displaystyle {\\left[\\begin{array}{cc}1 & 2\\\\3 & 4\\\\\\end{array}\\right]} = {\\left[\\begin{array}{cc}3\\\\7\\\\\\end{array}\\right]}$"
          },
          "metadata": {}
        },
        {
          "output_type": "display_data",
          "data": {
            "text/plain": [
              "<IPython.core.display.Math object>"
            ],
            "text/latex": "$\\displaystyle \\left[\\begin{array}{cc}{1}\\\\{1}\\\\\\end{array}\\right]$"
          },
          "metadata": {}
        }
      ]
    },
    {
      "cell_type": "markdown",
      "source": [
        "* Наша реализация позволяет решать и системы с параметрами (пока без упрощения результата):"
      ],
      "metadata": {
        "id": "HXU5uqLTtfIy"
      }
    },
    {
      "cell_type": "code",
      "source": [
        "p, q, x = symbol('p'), symbol('q'), symbol('x')\n",
        "A = matrix([p, 1, 1, q], 2, 2)\n",
        "b = cvector([1, 1])\n",
        "show(A * x == b)\n",
        "x = solveLinearSystem(A, b)\n",
        "show(x)"
      ],
      "metadata": {
        "id": "-cFjd0zltinI",
        "colab": {
          "base_uri": "https://localhost:8080/",
          "height": 135
        },
        "outputId": "d538bfb9-b84b-42c3-99d8-0b960b206e50"
      },
      "execution_count": 84,
      "outputs": [
        {
          "output_type": "display_data",
          "data": {
            "text/plain": [
              "<IPython.core.display.Math object>"
            ],
            "text/latex": "$\\displaystyle {{\\left[\\begin{array}{cc}p & 1\\\\1 & q\\\\\\end{array}\\right]} \\cdot {x}} = {\\left[\\begin{array}{cc}1\\\\1\\\\\\end{array}\\right]}$"
          },
          "metadata": {}
        },
        {
          "output_type": "display_data",
          "data": {
            "text/plain": [
              "<IPython.core.display.Math object>"
            ],
            "text/latex": "$\\displaystyle \\left[\\begin{array}{cc}{\\left( \\frac{1}{p} \\right)} - {\\left( {\\frac{{1} - {\\left( {1} \\cdot {\\left( \\frac{1}{p} \\right)} \\right)}}{{q} - {\\left( {1} \\cdot {\\left( \\frac{1}{p} \\right)} \\right)}}} \\cdot {\\left( \\frac{1}{p} \\right)} \\right)}\\\\\\frac{{1} - {\\left( {1} \\cdot {\\left( \\frac{1}{p} \\right)} \\right)}}{{q} - {\\left( {1} \\cdot {\\left( \\frac{1}{p} \\right)} \\right)}}\\\\\\end{array}\\right]$"
          },
          "metadata": {}
        }
      ]
    }
  ]
}