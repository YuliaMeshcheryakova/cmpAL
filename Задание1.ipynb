{
  "nbformat": 4,
  "nbformat_minor": 0,
  "metadata": {
    "colab": {
      "provenance": [],
      "authorship_tag": "ABX9TyPOmkM3rHD4+40G7ldimfz/",
      "include_colab_link": true
    },
    "kernelspec": {
      "name": "python3",
      "display_name": "Python 3"
    },
    "language_info": {
      "name": "python"
    }
  },
  "cells": [
    {
      "cell_type": "markdown",
      "metadata": {
        "id": "view-in-github",
        "colab_type": "text"
      },
      "source": [
        "<a href=\"https://colab.research.google.com/github/YuliaMeshcheryakova/cmpAL/blob/main/%D0%97%D0%B0%D0%B4%D0%B0%D0%BD%D0%B8%D0%B51.ipynb\" target=\"_parent\"><img src=\"https://colab.research.google.com/assets/colab-badge.svg\" alt=\"Open In Colab\"/></a>"
      ]
    },
    {
      "cell_type": "code",
      "execution_count": 1,
      "metadata": {
        "id": "26JIWwdJYNg5"
      },
      "outputs": [],
      "source": [
        "from IPython.display import display, Math\n",
        "import numpy as np"
      ]
    },
    {
      "cell_type": "markdown",
      "source": [
        "Определяем функцию для создания узла дерева для хранения целых чисел"
      ],
      "metadata": {
        "id": "1Vu_-LZub4gS"
      }
    },
    {
      "cell_type": "code",
      "source": [
        "def integer_(x: int) -> tuple:\n",
        "  return 'integer', {'value': x}\n",
        "\n",
        "a = integer_(-34)\n",
        "a"
      ],
      "metadata": {
        "colab": {
          "base_uri": "https://localhost:8080/"
        },
        "id": "cpRvPwf5ZB-y",
        "outputId": "a907e26a-0830-45af-9e97-fecf0f44f5ea"
      },
      "execution_count": 2,
      "outputs": [
        {
          "output_type": "execute_result",
          "data": {
            "text/plain": [
              "('integer', {'value': -34})"
            ]
          },
          "metadata": {},
          "execution_count": 2
        }
      ]
    },
    {
      "cell_type": "markdown",
      "source": [
        "ID(x) - возвращает идентификатор узла\n",
        "\n",
        "items(x) - возвращает список дочерних узлов\n",
        "\n",
        "options(x) - возвращает словарь с параметрами узла\n",
        "\n",
        "isTerminal(x) - возвращает True, если узел --- лист, т.е. не содержит дочерних узлов"
      ],
      "metadata": {
        "id": "r8tCM7w2b_TT"
      }
    },
    {
      "cell_type": "code",
      "source": [
        "def ID(x: tuple) -> str:\n",
        "  return x[0]\n",
        "\n",
        "def items(x: tuple) -> list:\n",
        "  return x[1 :-1]\n",
        "\n",
        "def options(x: tuple) -> dict:\n",
        "  return x[-1]\n",
        "\n",
        "def isTerminal(x: tuple) -> bool:\n",
        "  return len(items(x))==0\n",
        "\n",
        "ID(a), items(a), options(a), isTerminal(a)"
      ],
      "metadata": {
        "colab": {
          "base_uri": "https://localhost:8080/"
        },
        "id": "IBhXKvk-ZEJp",
        "outputId": "8085a5b3-5410-4471-c585-7c0d49d8dcae"
      },
      "execution_count": 3,
      "outputs": [
        {
          "output_type": "execute_result",
          "data": {
            "text/plain": [
              "('integer', (), {'value': -34}, True)"
            ]
          },
          "metadata": {},
          "execution_count": 3
        }
      ]
    },
    {
      "cell_type": "markdown",
      "source": [
        "Определяем функции для преобразования узла в LaTeX-выражение"
      ],
      "metadata": {
        "id": "sQ0xryRfcIN5"
      }
    },
    {
      "cell_type": "code",
      "source": [
        "def latex_(x: tuple) -> str:\n",
        "  cmd = eval(f\"latex_{ID(x)}\")\n",
        "  return cmd(x)\n",
        "\n",
        "def latex_integer(x: tuple) -> str:\n",
        "  return f\"{options(x)['value']}\"\n",
        "\n",
        "latex_(a)"
      ],
      "metadata": {
        "colab": {
          "base_uri": "https://localhost:8080/",
          "height": 36
        },
        "id": "pMZF53t7ZEUZ",
        "outputId": "1ddd6c5b-672c-4289-8519-203a4fde9e87"
      },
      "execution_count": 4,
      "outputs": [
        {
          "output_type": "execute_result",
          "data": {
            "text/plain": [
              "'-34'"
            ],
            "application/vnd.google.colaboratory.intrinsic+json": {
              "type": "string"
            }
          },
          "metadata": {},
          "execution_count": 4
        }
      ]
    },
    {
      "cell_type": "markdown",
      "source": [
        "Определяем функцию show_ для визуализации формулы, представленной деревом x"
      ],
      "metadata": {
        "id": "rwQaShLGcMUZ"
      }
    },
    {
      "cell_type": "code",
      "source": [
        "def show_(x: tuple) -> None:\n",
        "  display(Math(latex_(x)))\n",
        "\n",
        "show_(integer_(-123))\n",
        "print(-123)"
      ],
      "metadata": {
        "colab": {
          "base_uri": "https://localhost:8080/",
          "height": 56
        },
        "id": "h_YzPY9XZEb5",
        "outputId": "66c5fa2a-de88-417d-e042-5cbe8fe316b6"
      },
      "execution_count": 5,
      "outputs": [
        {
          "output_type": "display_data",
          "data": {
            "text/plain": [
              "<IPython.core.display.Math object>"
            ],
            "text/latex": "$\\displaystyle -123$"
          },
          "metadata": {}
        },
        {
          "output_type": "stream",
          "name": "stdout",
          "text": [
            "-123\n"
          ]
        }
      ]
    },
    {
      "cell_type": "code",
      "source": [
        "def symbol_(x: str) -> tuple:\n",
        "  greek = ['alpha', 'beta', 'gamma','delta', 'epsilon', 'zeta', 'eta', 'theta',\n",
        "           'iota', 'kappa', 'lambda', 'mu', 'nu', 'xi', 'o', 'pi', 'rho', 'sigma',\n",
        "           'tau', 'upsilon', 'phi', 'chi', 'psi', 'omega',\n",
        "           'A', 'B', 'Gamma', 'Delta', 'varepsilon', 'Epsilon', 'Z', 'H', 'vartheta', 'Theta',\n",
        "           'I', 'K', 'Lambda', 'M', 'N', 'Xi', 'O', 'Pi', 'varrho', 'P', 'Sigma',\n",
        "           'T', 'Upsilon', 'varphi', 'Phi', 'X', 'Psi', 'Omega',]\n",
        "  n, s = x.split('_') if '_' in x else (x, '')\n",
        "  if n in greek:\n",
        "    n = f\"\\\\{n}\"\n",
        "  if s:\n",
        "    n = f\"{n}_{{{s}}}\"\n",
        "  return 'symbol', {'name': x, 'latex': n}\n",
        "\n",
        "def latex_symbol(x: tuple) -> str:\n",
        "  return options(x)['latex']\n",
        "\n",
        "x, alpha = symbol_('x_1'), symbol_('alpha')\n",
        "show_(x)\n",
        "show_(alpha)"
      ],
      "metadata": {
        "colab": {
          "base_uri": "https://localhost:8080/",
          "height": 58
        },
        "id": "CMMa9sk6cOkg",
        "outputId": "9777deb9-11ac-4d41-b4e0-110f3f972db7"
      },
      "execution_count": 6,
      "outputs": [
        {
          "output_type": "display_data",
          "data": {
            "text/plain": [
              "<IPython.core.display.Math object>"
            ],
            "text/latex": "$\\displaystyle x_{1}$"
          },
          "metadata": {}
        },
        {
          "output_type": "display_data",
          "data": {
            "text/plain": [
              "<IPython.core.display.Math object>"
            ],
            "text/latex": "$\\displaystyle \\alpha$"
          },
          "metadata": {}
        }
      ]
    },
    {
      "cell_type": "code",
      "source": [
        "def add_(x: tuple, y: tuple) -> tuple:\n",
        "  return 'add', x, y, {}\n",
        "\n",
        "def sub_(x: tuple, y: tuple) -> tuple:\n",
        "  return 'sub', x, y, {}\n",
        "\n",
        "def mul_(x: tuple, y: tuple) -> tuple:\n",
        "  return 'mul', x, y, {}\n",
        "\n",
        "def div_(x: tuple, y: tuple) -> tuple:\n",
        "  return 'div', x, y, {}\n",
        "\n",
        "def deg_(x: tuple, y: tuple) -> tuple:\n",
        "  return 'deg', x, y, {}\n",
        "\n",
        "def and_(x: tuple, y: tuple) -> tuple:\n",
        "  return 'and', x, y, {}\n",
        "\n",
        "def or_(x: tuple, y: tuple) -> tuple:\n",
        "  return 'or', x, y, {}\n",
        "\n",
        "def xor_(x: tuple, y: tuple) -> tuple:\n",
        "  return 'xor', x, y, {}\n",
        "\n",
        "def eq_(x: tuple, y: tuple) -> tuple:\n",
        "  return 'eq', x, y, {}\n",
        "\n",
        "def ne_(x: tuple, y: tuple) -> tuple:\n",
        "  return 'ne', x, y, {}\n",
        "\n",
        "def lt_(x: tuple, y: tuple) -> tuple:\n",
        "  return 'lt', x, y, {}\n",
        "\n",
        "def le_(x: tuple, y: tuple) -> tuple:\n",
        "  return 'le', x, y, {}\n",
        "\n",
        "def gt_(x: tuple, y: tuple) -> tuple:\n",
        "  return 'gt', x, y, {}\n",
        "\n",
        "def ge_(x: tuple, y: tuple) -> tuple:\n",
        "  return 'ge', x, y, {}\n",
        "\n",
        "def neg_(x: tuple) -> tuple:\n",
        "  return 'neg', x, {}\n",
        "\n",
        "def inv_(x: tuple) -> tuple:\n",
        "  return 'inv', x, {}"
      ],
      "metadata": {
        "id": "Gc0RVLHTb11b"
      },
      "execution_count": 7,
      "outputs": []
    },
    {
      "cell_type": "code",
      "source": [
        "a = integer_(34)\n",
        "x = symbol_('x')\n",
        "y = symbol_('y')\n",
        "f = mul_(add_(a, x), y)\n",
        "print(f)"
      ],
      "metadata": {
        "colab": {
          "base_uri": "https://localhost:8080/"
        },
        "id": "zuoNj-Bze3sn",
        "outputId": "4e861f57-164c-416b-be43-e61dcac1c3bf"
      },
      "execution_count": 8,
      "outputs": [
        {
          "output_type": "stream",
          "name": "stdout",
          "text": [
            "('mul', ('add', ('integer', {'value': 34}), ('symbol', {'name': 'x', 'latex': 'x'}), {}), ('symbol', {'name': 'y', 'latex': 'y'}), {})\n"
          ]
        }
      ]
    },
    {
      "cell_type": "code",
      "source": [
        "priority = {'deg': 9, 'neg': 8, 'mul': 7, 'div': 7, 'add' : 6, 'and': 5, 'xor': 4, 'or': 3, 'eq': 2, 'ne': 2, 'lt': 2, 'le': 2, 'gt': 2, 'ge': 2, 'inv': 1}\n",
        "\n",
        "def Pr(x: tuple) -> int:\n",
        "  return priority.get(ID(x), 10)\n",
        "\n",
        "print(Pr(f))"
      ],
      "metadata": {
        "colab": {
          "base_uri": "https://localhost:8080/"
        },
        "id": "LueWsARag3lM",
        "outputId": "6f17f079-2f47-40c3-9b8b-50099212092f"
      },
      "execution_count": 9,
      "outputs": [
        {
          "output_type": "stream",
          "name": "stdout",
          "text": [
            "7\n"
          ]
        }
      ]
    },
    {
      "cell_type": "code",
      "source": [
        "def enclose(x: str) -> str:\n",
        "  return f\"\\\\left( {x} \\\\right)\""
      ],
      "metadata": {
        "id": "z9Lfhedcj_qp"
      },
      "execution_count": 10,
      "outputs": []
    },
    {
      "cell_type": "code",
      "source": [
        "def latex_add(x: tuple) -> str:\n",
        "  a, b = latex_(x[1]), latex_(x[2])\n",
        "  if Pr(x[1]) < Pr(x):\n",
        "    a = enclose(a)\n",
        "  if Pr(x[2]) <= Pr(x):\n",
        "    b = enclose(b)\n",
        "  return f\"{{{a}}} + {{{b}}}\"\n",
        "\n",
        "def latex_mul(x: tuple) -> str:\n",
        "  a, b = latex_(x[1]), latex_(x[2])\n",
        "  if Pr(x[1]) < Pr(x):\n",
        "    a = enclose(a)\n",
        "  if Pr(x[2]) <= Pr(x) or options(x[2]).get('value', 1)<0 or ID(x[2])=='neg':\n",
        "    b = enclose(b)\n",
        "  return f\"{{{a}}} \\\\cdot {{{b}}}\"\n",
        "\n",
        "def latex_div(x: tuple) -> str:\n",
        "  a, b = latex_(x[1]), latex_(x[2])\n",
        "  if Pr(x[1]) < Pr(x):\n",
        "    a = enclose(a)\n",
        "  if Pr(x[2]) <= Pr(x):\n",
        "    b = enclose(b)\n",
        "  return f\"\\\\frac{{{a}}}{{{b}}}\"\n",
        "\n",
        "def latex_sub(x: tuple) -> str:\n",
        "  a, b = latex_(x[1]), latex_(x[2])\n",
        "  if Pr(x[1]) < Pr(x):\n",
        "    a = enclose(a)\n",
        "  if Pr(x[2]) <= Pr(x)or options(x[2]).get('value', 1)<0 or ID(x[2])=='neg':\n",
        "    b = enclose(b)\n",
        "  return f\"{{{a}}} - {{{b}}}\"\n",
        "\n",
        "def latex_deg(x: tuple) -> str:\n",
        "  a, b = latex_(x[1]), latex_(x[2])\n",
        "  if Pr(x[1]) < Pr(x):\n",
        "    a = enclose(a)\n",
        "  if Pr(x[2]) <= Pr(x):\n",
        "    b = enclose(b)\n",
        "  return f\"{{{a}}}^{{{b}}}\"\n",
        "\n",
        "def latex_inv(x: tuple) -> str:\n",
        "  a = latex_(x[1])\n",
        "  if options(x[1]).get('value', 1)<0 or ID(x[1])=='neg':\n",
        "    a = enclose(a)\n",
        "  return f\"\\\\neg {{{a}}}\"\n",
        "\n",
        "def latex_neg(x: tuple) -> str:\n",
        "  a = latex_(x[1])\n",
        "  if options(x[1]).get('value', 1)<0 or ID(x[1])=='neg':\n",
        "    a = enclose(a)\n",
        "  return f\" -{{{a}}}\"\n",
        "\n",
        "def latex_and(x: tuple) -> str:\n",
        "  a, b = latex_(x[1]), latex_(x[2])\n",
        "  if Pr(x[1]) < Pr(x):\n",
        "    a = enclose(a)\n",
        "  if Pr(x[2]) <= Pr(x)or options(x[2]).get('value', 1)<0 or ID(x[2])=='neg':\n",
        "    b = enclose(b)\n",
        "  return f\"{{{a}}} \\wedge {{{b}}}\"\n",
        "\n",
        "def latex_or(x: tuple) -> str:\n",
        "  a, b = latex_(x[1]), latex_(x[2])\n",
        "  if Pr(x[1]) < Pr(x):\n",
        "    a = enclose(a)\n",
        "  if Pr(x[2]) <= Pr(x)or options(x[2]).get('value', 1)<0 or ID(x[2])=='neg':\n",
        "    b = enclose(b)\n",
        "  return f\"{{{a}}} \\vee {{{b}}}\"\n",
        "\n",
        "def latex_xor(x: tuple) -> str:\n",
        "  a, b = latex_(x[1]), latex_(x[2])\n",
        "  if Pr(x[1]) < Pr(x):\n",
        "    a = enclose(a)\n",
        "  if Pr(x[2]) <= Pr(x)or options(x[2]).get('value', 1)<0 or ID(x[2])=='neg':\n",
        "    b = enclose(b)\n",
        "  return f\"{a} \\oplus {b}\"\n",
        "\n",
        "def latex_eq(x: tuple) -> str:\n",
        "  a, b = latex_(x[1]), latex_(x[2])\n",
        "  if Pr(x[1]) < Pr(x):\n",
        "    a = enclose(a)\n",
        "  if Pr(x[2]) <= Pr(x):\n",
        "    b = enclose(b)\n",
        "  return f\"{{{a}}} = {{{b}}}\"\n",
        "\n",
        "def latex_ne(x: tuple) -> str:\n",
        "  a, b = latex_(x[1]), latex_(x[2])\n",
        "  if Pr(x[1]) < Pr(x):\n",
        "    a = enclose(a)\n",
        "  if Pr(x[2]) <= Pr(x):\n",
        "    b = enclose(b)\n",
        "  return f\"{{{a}}} \\\\neq {{{b}}}\"\n",
        "\n",
        "def latex_lt(x: tuple) -> str:\n",
        "  a, b = latex_(x[1]), latex_(x[2])\n",
        "  if Pr(x[1]) < Pr(x):\n",
        "    a = enclose(a)\n",
        "  if Pr(x[2]) <= Pr(x):\n",
        "    b = enclose(b)\n",
        "  return f\"{{{a}}} < {{{b}}}\"\n",
        "\n",
        "def latex_le(x: tuple) -> str:\n",
        "  a, b = latex_(x[1]), latex_(x[2])\n",
        "  if Pr(x[1]) < Pr(x):\n",
        "    a = enclose(a)\n",
        "  if Pr(x[2]) <= Pr(x):\n",
        "    b = enclose(b)\n",
        "  return f\"{{{a}}} \\\\leq {{{b}}}\"\n",
        "\n",
        "def latex_gt(x: tuple) -> str:\n",
        "  a, b = latex_(x[1]), latex_(x[2])\n",
        "  if Pr(x[1]) < Pr(x):\n",
        "    a = enclose(a)\n",
        "  if Pr(x[2]) <= Pr(x):\n",
        "    b = enclose(b)\n",
        "  return f\"{{{a}}} > {{{b}}}\"\n",
        "\n",
        "def latex_ge(x: tuple) -> str:\n",
        "  a, b = latex_(x[1]), latex_(x[2])\n",
        "  if Pr(x[1]) < Pr(x):\n",
        "    a = enclose(a)\n",
        "  if Pr(x[2]) <= Pr(x):\n",
        "    b = enclose(b)\n",
        "  return f\"{{{a}}} \\\\geq {{{b}}}\""
      ],
      "metadata": {
        "id": "bAKYYd34kawd"
      },
      "execution_count": 11,
      "outputs": []
    },
    {
      "cell_type": "code",
      "source": [
        "a = integer_(34)\n",
        "y = integer_(10)\n",
        "x = symbol_('x')\n",
        "f = mul_(add_(a, y), y)\n",
        "show_(f)\n",
        "\n",
        "show_(neg_(integer_(-11)))\n",
        "show_(deg_(x, integer_(-1)))\n",
        "show_( div_(mul_(add_(a, y), y), neg_(y)))\n",
        "\n",
        "\n"
      ],
      "metadata": {
        "colab": {
          "base_uri": "https://localhost:8080/",
          "height": 117
        },
        "id": "zCp8PqVQsoC0",
        "outputId": "301619a1-1df0-46ed-b606-d898ee067185"
      },
      "execution_count": 12,
      "outputs": [
        {
          "output_type": "display_data",
          "data": {
            "text/plain": [
              "<IPython.core.display.Math object>"
            ],
            "text/latex": "$\\displaystyle {\\left( {34} + {10} \\right)} \\cdot {10}$"
          },
          "metadata": {}
        },
        {
          "output_type": "display_data",
          "data": {
            "text/plain": [
              "<IPython.core.display.Math object>"
            ],
            "text/latex": "$\\displaystyle  -{\\left( -11 \\right)}$"
          },
          "metadata": {}
        },
        {
          "output_type": "display_data",
          "data": {
            "text/plain": [
              "<IPython.core.display.Math object>"
            ],
            "text/latex": "$\\displaystyle {x}^{-1}$"
          },
          "metadata": {}
        },
        {
          "output_type": "display_data",
          "data": {
            "text/plain": [
              "<IPython.core.display.Math object>"
            ],
            "text/latex": "$\\displaystyle \\frac{{\\left( {34} + {10} \\right)} \\cdot {10}}{ -{10}}$"
          },
          "metadata": {}
        }
      ]
    },
    {
      "cell_type": "code",
      "source": [
        "class Expression:\n",
        "  def __init__(self, x):\n",
        "    self.T = x\n",
        "\n",
        "  def __add__(self, x):\n",
        "    return Expression(add_(self.T, fix(x).T))\n",
        "\n",
        "  def __mul__(self, x):\n",
        "    return Expression(mul_(self.T, fix(x).T))\n",
        "\n",
        "  def __truediv__(self, x):\n",
        "    return Expression(div_(self.T, fix(x).T))\n",
        "\n",
        "  def __sub__(self, x):\n",
        "    return Expression(sub_(self.T, fix(x).T))\n",
        "\n",
        "  def __pow__(self, x):\n",
        "    return Expression(deg_(self.T, fix(x).T))\n",
        "\n",
        "  def __mul__(self, x):\n",
        "    return Expression(mul_(self.T, fix(x).T))\n",
        "\n",
        "  def __and__(self, x):\n",
        "    return Expression(and_(self.T, fix(x).T))\n",
        "\n",
        "  def __or__(self, x):\n",
        "    return Expression(mul_(self.T, fix(x).T))\n",
        "\n",
        "  def __xor__(self, x):\n",
        "    return Expression(xor_(self.T, fix(x).T))\n",
        "\n",
        "  def __eq__(self, x):\n",
        "    return Expression(eq_(self.T, fix(x).T))\n",
        "\n",
        "  def __lt__(self, x):\n",
        "    return Expression(lt_(self.T, fix(x).T))\n",
        "\n",
        "  def __le__(self, x):\n",
        "    return Expression(le_(self.T, fix(x).T))\n",
        "\n",
        "  def __gt__(self, x):\n",
        "    return Expression(gt_(self.T, fix(x).T))\n",
        "\n",
        "  def __ge__(self, x):\n",
        "    return Expression(ge_(self.T, fix(x).T))\n",
        "\n",
        "  def __neg__(self, x):\n",
        "    return Expression(neg_(self.T))\n",
        "\n",
        "  def __invert__(self, x):\n",
        "    return Expression(inv_(self.T))\n",
        "\n",
        "def fix(x):\n",
        "  if isinstance(x, int):\n",
        "    return Expression(integer_(x))\n",
        "  return x\n",
        "\n"
      ],
      "metadata": {
        "id": "jePSRGbksoau"
      },
      "execution_count": 13,
      "outputs": []
    },
    {
      "cell_type": "markdown",
      "source": [
        "Создаем обертки для функций integer_ и symbol_\n",
        "опциональное (бонусное) задание: напишите функцию symbols, которая позволяет создавать сразу несколько символьных переменных: x, y, z = symbols('x y z')"
      ],
      "metadata": {
        "id": "_Tozg2V8Zzo9"
      }
    },
    {
      "cell_type": "code",
      "source": [
        "def Z(x: int) -> Expression:\n",
        "  return Expression(integer_(x))\n",
        "\n",
        "def symbol(x: str) -> Expression:\n",
        "  return Expression(symbol_(x))\n",
        "\n",
        "def symbols(x: str) -> Expression:\n",
        "  a = x.split()\n",
        "  for i in range(len(a)):\n",
        "     a[i] = Expression(symbol_(a[i]))\n",
        "  return a"
      ],
      "metadata": {
        "id": "yLHEByiFZcdf"
      },
      "execution_count": 18,
      "outputs": []
    },
    {
      "cell_type": "markdown",
      "source": [
        "Определяем функцию show вывода выражений, заданных классом Expression\n",
        "протестируйте работу всех функций на различных выражениях"
      ],
      "metadata": {
        "id": "3gEJiXazZ5Ir"
      }
    },
    {
      "cell_type": "code",
      "source": [
        "def show(x: Expression) -> None:\n",
        "  show_(x.T)"
      ],
      "metadata": {
        "id": "2b1mtRJSZw3B"
      },
      "execution_count": 15,
      "outputs": []
    },
    {
      "cell_type": "code",
      "source": [
        "a, x = Z(13), symbol('x_2')\n",
        "\n",
        "show(a / x ** a)"
      ],
      "metadata": {
        "colab": {
          "base_uri": "https://localhost:8080/",
          "height": 54
        },
        "id": "iqBTshCYc0iA",
        "outputId": "574141c8-d7f5-4625-dded-6e726bd4bd88"
      },
      "execution_count": 16,
      "outputs": [
        {
          "output_type": "display_data",
          "data": {
            "text/plain": [
              "<IPython.core.display.Math object>"
            ],
            "text/latex": "$\\displaystyle \\frac{13}{{x_{2}}^{13}}$"
          },
          "metadata": {}
        }
      ]
    },
    {
      "cell_type": "code",
      "source": [
        "import matplotlib\n",
        "import matplotlib.pyplot as plt\n",
        "import networkx as nx\n",
        "from networkx.drawing.nx_pydot import graphviz_layout\n",
        "from networkx.readwrite import json_graph\n",
        "\n",
        "def makeGraph(x: tuple, nodes: list, labels: list, links: list) -> int:\n",
        "  id_ = len(nodes)\n",
        "  nodes.append({'id': id_})\n",
        "  if isTerminal(x):\n",
        "    labels[id_] = f'${latex_(x)}$'\n",
        "  else:\n",
        "    labels[id_] = x[0]\n",
        "    for a in x[1:]:\n",
        "      if isinstance(a, tuple):\n",
        "        cid = makeGraph(a, nodes, labels, links)\n",
        "        links.append({'source': id_, 'target': cid})\n",
        "  return id_\n",
        "\n",
        "def drawGraph_(x: tuple, size) -> None:\n",
        "  nodes, labels, links = [], {}, []\n",
        "  makeGraph(x, nodes, labels, links)\n",
        "  graph = json_graph.node_link_graph({'nodes': nodes, 'links': links}, directed=True, multigraph=False)\n",
        "  pos = graphviz_layout(graph, prog=\"dot\")\n",
        "  fig, ax = plt.subplots(figsize=(3 * size, 3 * size))\n",
        "  ax.set_axis_off()\n",
        "  nx.draw_networkx_edges(graph.to_directed(), pos, ax = ax, edge_color=\"black\")\n",
        "  nx.draw_networkx_labels(graph.to_directed(), pos, labels = labels, font_color = \"blue\")\n",
        "\n",
        "def drawGraph(x: Expression, size: float = 1) -> None:\n",
        "  drawGraph_(x.T, size)\n",
        "\n",
        "  x, y = symbol('x'), symbol('y')\n",
        "  drawGraph((x + y) / Z(34))"
      ],
      "metadata": {
        "id": "u7cLwA76aAGh"
      },
      "execution_count": 17,
      "outputs": []
    }
  ]
}