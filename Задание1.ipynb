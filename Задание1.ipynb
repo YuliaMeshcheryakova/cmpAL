{
  "nbformat": 4,
  "nbformat_minor": 0,
  "metadata": {
    "colab": {
      "provenance": [],
      "authorship_tag": "ABX9TyMzEbFi8ReGI8gYucFLKyf7",
      "include_colab_link": true
    },
    "kernelspec": {
      "name": "python3",
      "display_name": "Python 3"
    },
    "language_info": {
      "name": "python"
    }
  },
  "cells": [
    {
      "cell_type": "markdown",
      "metadata": {
        "id": "view-in-github",
        "colab_type": "text"
      },
      "source": [
        "<a href=\"https://colab.research.google.com/github/YuliaMeshcheryakova/cmpAL/blob/main/%D0%97%D0%B0%D0%B4%D0%B0%D0%BD%D0%B8%D0%B51.ipynb\" target=\"_parent\"><img src=\"https://colab.research.google.com/assets/colab-badge.svg\" alt=\"Open In Colab\"/></a>"
      ]
    },
    {
      "cell_type": "code",
      "execution_count": 74,
      "metadata": {
        "id": "26JIWwdJYNg5"
      },
      "outputs": [],
      "source": [
        "from IPython.display import display, Math\n",
        "import numpy as np"
      ]
    },
    {
      "cell_type": "markdown",
      "source": [
        "Определяем функцию для создания узла дерева для хранения целых чисел"
      ],
      "metadata": {
        "id": "1Vu_-LZub4gS"
      }
    },
    {
      "cell_type": "code",
      "source": [
        "def integer_(x: int) -> tuple:\n",
        "  return 'integer', {'value': x}\n",
        "\n",
        "a = integer_(-34)\n",
        "a"
      ],
      "metadata": {
        "colab": {
          "base_uri": "https://localhost:8080/"
        },
        "id": "cpRvPwf5ZB-y",
        "outputId": "2b8d597f-9fbc-459f-f2e9-45bd395ac4a7"
      },
      "execution_count": 75,
      "outputs": [
        {
          "output_type": "execute_result",
          "data": {
            "text/plain": [
              "('integer', {'value': -34})"
            ]
          },
          "metadata": {},
          "execution_count": 75
        }
      ]
    },
    {
      "cell_type": "markdown",
      "source": [
        "ID(x) - возвращает идентификатор узла\n",
        "\n",
        "items(x) - возвращает список дочерних узлов\n",
        "\n",
        "options(x) - возвращает словарь с параметрами узла\n",
        "\n",
        "isTerminal(x) - возвращает True, если узел --- лист, т.е. не содержит дочерних узлов"
      ],
      "metadata": {
        "id": "r8tCM7w2b_TT"
      }
    },
    {
      "cell_type": "code",
      "source": [
        "def ID(x: tuple) -> str:\n",
        "  return x[0]\n",
        "\n",
        "def items(x: tuple) -> list:\n",
        "  return x[1 :-1]\n",
        "\n",
        "def options(x: tuple) -> dict:\n",
        "  return x[-1]\n",
        "\n",
        "def isTerminal(x: tuple) -> bool:\n",
        "  return len(items(x))==0\n",
        "\n",
        "ID(a), items(a), options(a), isTerminal(a)"
      ],
      "metadata": {
        "colab": {
          "base_uri": "https://localhost:8080/"
        },
        "id": "IBhXKvk-ZEJp",
        "outputId": "2b079c2d-7fde-44ec-d7e3-2af1a9d1d6a2"
      },
      "execution_count": 76,
      "outputs": [
        {
          "output_type": "execute_result",
          "data": {
            "text/plain": [
              "('integer', (), {'value': -34}, True)"
            ]
          },
          "metadata": {},
          "execution_count": 76
        }
      ]
    },
    {
      "cell_type": "markdown",
      "source": [
        "Определяем функции для преобразования узла в LaTeX-выражение"
      ],
      "metadata": {
        "id": "sQ0xryRfcIN5"
      }
    },
    {
      "cell_type": "code",
      "source": [
        "def latex_(x: tuple) -> str:\n",
        "  cmd = eval(f\"latex_{ID(x)}\")\n",
        "  return cmd(x)\n",
        "\n",
        "def latex_integer(x: tuple) -> str:\n",
        "  return f\"{options(x)['value']}\"\n",
        "\n",
        "latex_(a)"
      ],
      "metadata": {
        "colab": {
          "base_uri": "https://localhost:8080/",
          "height": 36
        },
        "id": "pMZF53t7ZEUZ",
        "outputId": "c058ee08-da03-4715-ccee-d475445c4306"
      },
      "execution_count": 77,
      "outputs": [
        {
          "output_type": "execute_result",
          "data": {
            "text/plain": [
              "'-34'"
            ],
            "application/vnd.google.colaboratory.intrinsic+json": {
              "type": "string"
            }
          },
          "metadata": {},
          "execution_count": 77
        }
      ]
    },
    {
      "cell_type": "markdown",
      "source": [
        "Определяем функцию show_ для визуализации формулы, представленной деревом x"
      ],
      "metadata": {
        "id": "rwQaShLGcMUZ"
      }
    },
    {
      "cell_type": "code",
      "source": [
        "def show_(x: tuple) -> None:\n",
        "  display(Math(latex_(x)))\n",
        "\n",
        "show_(integer_(-123))\n",
        "print(-123)"
      ],
      "metadata": {
        "colab": {
          "base_uri": "https://localhost:8080/",
          "height": 56
        },
        "id": "h_YzPY9XZEb5",
        "outputId": "017696c5-f937-447e-9bb9-e79c978b8b40"
      },
      "execution_count": 78,
      "outputs": [
        {
          "output_type": "display_data",
          "data": {
            "text/plain": [
              "<IPython.core.display.Math object>"
            ],
            "text/latex": "$\\displaystyle -123$"
          },
          "metadata": {}
        },
        {
          "output_type": "stream",
          "name": "stdout",
          "text": [
            "-123\n"
          ]
        }
      ]
    },
    {
      "cell_type": "code",
      "source": [
        "def symbol_(x: str) -> tuple:\n",
        "  greek = ['alpha', 'beta', 'gamma','delta', 'epsilon', 'zeta', 'eta', 'theta',\n",
        "           'iota', 'kappa', 'lambda', 'mu', 'nu', 'xi', 'o', 'pi', 'rho', 'sigma',\n",
        "           'tau', 'upsilon', 'phi', 'chi', 'psi', 'omega',\n",
        "           'A', 'B', 'Gamma', 'Delta', 'varepsilon', 'Epsilon', 'Z', 'H', 'vartheta', 'Theta',\n",
        "           'I', 'K', 'Lambda', 'M', 'N', 'Xi', 'O', 'Pi', 'varrho', 'P', 'Sigma',\n",
        "           'T', 'Upsilon', 'varphi', 'Phi', 'X', 'Psi', 'Omega',]\n",
        "  n, s = x.split('_') if '_' in x else (x, '')\n",
        "  if n in greek:\n",
        "    n = f\"\\\\{n}\"\n",
        "  if s:\n",
        "    n = f\"{n}_{{{s}}}\"\n",
        "  return 'symbol', {'name': x, 'latex': n}\n",
        "\n",
        "def latex_symbol(x: tuple) -> str:\n",
        "  return options(x)['latex']\n",
        "\n",
        "x, alpha = symbol_('x_1'), symbol_('alpha')\n",
        "show_(x)\n",
        "show_(alpha)"
      ],
      "metadata": {
        "colab": {
          "base_uri": "https://localhost:8080/",
          "height": 61
        },
        "id": "CMMa9sk6cOkg",
        "outputId": "ab763080-c6d6-450a-ec51-266eb3418c0b"
      },
      "execution_count": 79,
      "outputs": [
        {
          "output_type": "display_data",
          "data": {
            "text/plain": [
              "<IPython.core.display.Math object>"
            ],
            "text/latex": "$\\displaystyle x_{1}$"
          },
          "metadata": {}
        },
        {
          "output_type": "display_data",
          "data": {
            "text/plain": [
              "<IPython.core.display.Math object>"
            ],
            "text/latex": "$\\displaystyle \\alpha$"
          },
          "metadata": {}
        }
      ]
    },
    {
      "cell_type": "code",
      "source": [
        "def add_(x: tuple, y: tuple) -> tuple:\n",
        "  return 'add', x, y, {}\n",
        "\n",
        "def sub_(x: tuple, y: tuple) -> tuple:\n",
        "  return 'sub', x, y, {}\n",
        "\n",
        "def mul_(x: tuple, y: tuple) -> tuple:\n",
        "  return 'mul', x, y, {}\n",
        "\n",
        "def div_(x: tuple, y: tuple) -> tuple:\n",
        "  return 'div', x, y, {}\n",
        "\n",
        "def deg_(x: tuple, y: tuple) -> tuple:\n",
        "  return 'deg', x, y, {}\n",
        "\n",
        "def and_(x: tuple, y: tuple) -> tuple:\n",
        "  return 'and', x, y, {}\n",
        "\n",
        "def or_(x: tuple, y: tuple) -> tuple:\n",
        "  return 'or', x, y, {}\n",
        "\n",
        "def xor_(x: tuple, y: tuple) -> tuple:\n",
        "  return 'xor', x, y, {}\n",
        "\n",
        "def eq_(x: tuple, y: tuple) -> tuple:\n",
        "  return 'eq', x, y, {}\n",
        "\n",
        "def ne_(x: tuple, y: tuple) -> tuple:\n",
        "  return 'ne', x, y, {}\n",
        "\n",
        "def lt_(x: tuple, y: tuple) -> tuple:\n",
        "  return 'lt', x, y, {}\n",
        "\n",
        "def le_(x: tuple, y: tuple) -> tuple:\n",
        "  return 'le', x, y, {}\n",
        "\n",
        "def gt_(x: tuple, y: tuple) -> tuple:\n",
        "  return 'gt', x, y, {}\n",
        "\n",
        "def ge_(x: tuple, y: tuple) -> tuple:\n",
        "  return 'ge', x, y, {}\n",
        "\n",
        "def neg_(x: tuple) -> tuple:\n",
        "  return 'neg', x, {}\n",
        "\n",
        "def inv_(x: tuple) -> tuple:\n",
        "  return 'inv', x, {}"
      ],
      "metadata": {
        "id": "Gc0RVLHTb11b"
      },
      "execution_count": 80,
      "outputs": []
    },
    {
      "cell_type": "code",
      "source": [
        "a = integer_(34)\n",
        "x = symbol_('x')\n",
        "y = symbol_('y')\n",
        "f = mul_(add_(a, x), y)\n",
        "print(f)"
      ],
      "metadata": {
        "colab": {
          "base_uri": "https://localhost:8080/"
        },
        "id": "zuoNj-Bze3sn",
        "outputId": "1ed0a19a-3659-4932-e999-cc43dbc5b26b"
      },
      "execution_count": 81,
      "outputs": [
        {
          "output_type": "stream",
          "name": "stdout",
          "text": [
            "('mul', ('add', ('integer', {'value': 34}), ('symbol', {'name': 'x', 'latex': 'x'}), {}), ('symbol', {'name': 'y', 'latex': 'y'}), {})\n"
          ]
        }
      ]
    },
    {
      "cell_type": "code",
      "source": [
        "priority = {'deg': 9, 'neg': 8, 'mul': 7, 'div': 7, 'add' : 6, 'and': 5, 'xor': 4, 'or': 3, 'eq': 2, 'ne': 2, 'lt': 2, 'le': 2, 'gt': 2, 'ge': 2, 'inv': 1}\n",
        "\n",
        "def Pr(x: tuple) -> int:\n",
        "  return priority.get(ID(x), 10)\n",
        "\n",
        "print(Pr(f))"
      ],
      "metadata": {
        "colab": {
          "base_uri": "https://localhost:8080/"
        },
        "id": "LueWsARag3lM",
        "outputId": "ad155c22-675b-417c-e84a-d5fca8dbec43"
      },
      "execution_count": 82,
      "outputs": [
        {
          "output_type": "stream",
          "name": "stdout",
          "text": [
            "7\n"
          ]
        }
      ]
    },
    {
      "cell_type": "code",
      "source": [
        "def enclose(x: str) -> str:\n",
        "  return f\"\\\\left( {x} \\\\right)\""
      ],
      "metadata": {
        "id": "z9Lfhedcj_qp"
      },
      "execution_count": 83,
      "outputs": []
    },
    {
      "cell_type": "code",
      "source": [
        "def latex_add(x: tuple) -> str:\n",
        "  a, b = latex_(x[1]), latex_(x[2])\n",
        "  if Pr(x[1]) < Pr(x):\n",
        "    a = enclose(a)\n",
        "  if Pr(x[2]) <= Pr(x):\n",
        "    b = enclose(b)\n",
        "  return f\"{{{a}}} + {{{b}}}\"\n",
        "\n",
        "def latex_mul(x: tuple) -> str:\n",
        "  a, b = latex_(x[1]), latex_(x[2])\n",
        "  if Pr(x[1]) < Pr(x):\n",
        "    a = enclose(a)\n",
        "  if Pr(x[2]) <= Pr(x) or options(x[2]).get('value', 1)<0 or ID(x[2])=='neg':\n",
        "    b = enclose(b)\n",
        "  return f\"{{{a}}} \\\\cdot {{{b}}}\"\n",
        "\n",
        "def latex_div(x: tuple) -> str:\n",
        "  a, b = latex_(x[1]), latex_(x[2])\n",
        "  return f\"\\\\frac{{{a}}}{{{b}}}\"\n",
        "\n",
        "def latex_sub(x: tuple) -> str:\n",
        "  a, b = latex_(x[1]), latex_(x[2])\n",
        "  if Pr(x[1]) < Pr(x):\n",
        "    a = enclose(a)\n",
        "  if Pr(x[2]) <= Pr(x)or options(x[2]).get('value', 1)<0 or ID(x[2])=='neg':\n",
        "    b = enclose(b)\n",
        "  return f\"{{{a}}} - {{{b}}}\"\n",
        "\n",
        "def latex_deg(x: tuple) -> str:\n",
        "  a, b = latex_(x[1]), latex_(x[2])\n",
        "  if Pr(x[1]) < Pr(x) or (ID(x[1]) == 'rational' and options(x[1])['denom'] != 1):\n",
        "    a = enclose(a)\n",
        "  if Pr(x[2]) <= Pr(x):\n",
        "    b = enclose(b)\n",
        "  return f\"{{{a}}}^{{{b}}}\"\n",
        "\n",
        "def latex_inv(x: tuple) -> str:\n",
        "  a = latex_(x[1])\n",
        "  if options(x[1]).get('value', 1)<0 or ID(x[1])=='neg':\n",
        "    a = enclose(a)\n",
        "  return f\"\\\\neg {{{a}}}\"\n",
        "\n",
        "def latex_neg(x: tuple) -> str:\n",
        "  a = latex_(x[1])\n",
        "  if options(x[1]).get('value', 1)<0 or ID(x[1])=='neg':\n",
        "    a = enclose(a)\n",
        "  return f\" -{{{a}}}\"\n",
        "\n",
        "def latex_and(x: tuple) -> str:\n",
        "  a, b = latex_(x[1]), latex_(x[2])\n",
        "  if Pr(x[1]) < Pr(x):\n",
        "    a = enclose(a)\n",
        "  if Pr(x[2]) <= Pr(x)or options(x[2]).get('value', 1)<0 or ID(x[2])=='neg':\n",
        "    b = enclose(b)\n",
        "  return f\"{{{a}}} \\wedge {{{b}}}\"\n",
        "\n",
        "def latex_or(x: tuple) -> str:\n",
        "  a, b = latex_(x[1]), latex_(x[2])\n",
        "  if Pr(x[1]) < Pr(x):\n",
        "    a = enclose(a)\n",
        "  if Pr(x[2]) <= Pr(x)or options(x[2]).get('value', 1)<0 or ID(x[2])=='neg':\n",
        "    b = enclose(b)\n",
        "  return f\"{{{a}}} \\vee {{{b}}}\"\n",
        "\n",
        "def latex_xor(x: tuple) -> str:\n",
        "  a, b = latex_(x[1]), latex_(x[2])\n",
        "  if Pr(x[1]) < Pr(x):\n",
        "    a = enclose(a)\n",
        "  if Pr(x[2]) <= Pr(x)or options(x[2]).get('value', 1)<0 or ID(x[2])=='neg':\n",
        "    b = enclose(b)\n",
        "  return f\"{a} \\oplus {b}\"\n",
        "\n",
        "def latex_eq(x: tuple) -> str:\n",
        "  a, b = latex_(x[1]), latex_(x[2])\n",
        "  if Pr(x[1]) < Pr(x):\n",
        "    a = enclose(a)\n",
        "  if Pr(x[2]) <= Pr(x):\n",
        "    b = enclose(b)\n",
        "  return f\"{{{a}}} = {{{b}}}\"\n",
        "\n",
        "def latex_ne(x: tuple) -> str:\n",
        "  a, b = latex_(x[1]), latex_(x[2])\n",
        "  if Pr(x[1]) < Pr(x):\n",
        "    a = enclose(a)\n",
        "  if Pr(x[2]) <= Pr(x):\n",
        "    b = enclose(b)\n",
        "  return f\"{{{a}}} \\\\neq {{{b}}}\"\n",
        "\n",
        "def latex_lt(x: tuple) -> str:\n",
        "  a, b = latex_(x[1]), latex_(x[2])\n",
        "  if Pr(x[1]) < Pr(x):\n",
        "    a = enclose(a)\n",
        "  if Pr(x[2]) <= Pr(x):\n",
        "    b = enclose(b)\n",
        "  return f\"{{{a}}} < {{{b}}}\"\n",
        "\n",
        "def latex_le(x: tuple) -> str:\n",
        "  a, b = latex_(x[1]), latex_(x[2])\n",
        "  if Pr(x[1]) < Pr(x):\n",
        "    a = enclose(a)\n",
        "  if Pr(x[2]) <= Pr(x):\n",
        "    b = enclose(b)\n",
        "  return f\"{{{a}}} \\\\leq {{{b}}}\"\n",
        "\n",
        "def latex_gt(x: tuple) -> str:\n",
        "  a, b = latex_(x[1]), latex_(x[2])\n",
        "  if Pr(x[1]) < Pr(x):\n",
        "    a = enclose(a)\n",
        "  if Pr(x[2]) <= Pr(x):\n",
        "    b = enclose(b)\n",
        "  return f\"{{{a}}} > {{{b}}}\"\n",
        "\n",
        "def latex_ge(x: tuple) -> str:\n",
        "  a, b = latex_(x[1]), latex_(x[2])\n",
        "  if Pr(x[1]) < Pr(x):\n",
        "    a = enclose(a)\n",
        "  if Pr(x[2]) <= Pr(x):\n",
        "    b = enclose(b)\n",
        "  return f\"{{{a}}} \\\\geq {{{b}}}\""
      ],
      "metadata": {
        "id": "bAKYYd34kawd"
      },
      "execution_count": 84,
      "outputs": []
    },
    {
      "cell_type": "code",
      "source": [
        "a = integer_(34)\n",
        "y = integer_(10)\n",
        "x = symbol_('x')\n",
        "f = mul_(add_(a, y), y)\n",
        "show_(f)\n",
        "\n",
        "show_(neg_(integer_(-11)))\n",
        "show_(deg_(x, integer_(-1)))\n",
        "show_( div_(mul_(add_(a, y), y), neg_(y)))\n",
        "\n",
        "\n"
      ],
      "metadata": {
        "colab": {
          "base_uri": "https://localhost:8080/",
          "height": 117
        },
        "id": "zCp8PqVQsoC0",
        "outputId": "3331351c-b383-4e6a-8a3f-dbe20674087d"
      },
      "execution_count": 85,
      "outputs": [
        {
          "output_type": "display_data",
          "data": {
            "text/plain": [
              "<IPython.core.display.Math object>"
            ],
            "text/latex": "$\\displaystyle {\\left( {34} + {10} \\right)} \\cdot {10}$"
          },
          "metadata": {}
        },
        {
          "output_type": "display_data",
          "data": {
            "text/plain": [
              "<IPython.core.display.Math object>"
            ],
            "text/latex": "$\\displaystyle  -{\\left( -11 \\right)}$"
          },
          "metadata": {}
        },
        {
          "output_type": "display_data",
          "data": {
            "text/plain": [
              "<IPython.core.display.Math object>"
            ],
            "text/latex": "$\\displaystyle {x}^{-1}$"
          },
          "metadata": {}
        },
        {
          "output_type": "display_data",
          "data": {
            "text/plain": [
              "<IPython.core.display.Math object>"
            ],
            "text/latex": "$\\displaystyle \\frac{{\\left( {34} + {10} \\right)} \\cdot {10}}{ -{10}}$"
          },
          "metadata": {}
        }
      ]
    },
    {
      "cell_type": "code",
      "source": [
        "class Expression:\n",
        "  def __init__(self, x):\n",
        "    self.T = x\n",
        "\n",
        "  def __add__(self, x):\n",
        "    return Expression(add_(self.T, fix(x).T))\n",
        "\n",
        "  def __mul__(self, x):\n",
        "    return Expression(mul_(self.T, fix(x).T))\n",
        "\n",
        "  def __truediv__(self, x):\n",
        "    return Expression(div_(self.T, fix(x).T))\n",
        "\n",
        "  def __sub__(self, x):\n",
        "    return Expression(sub_(self.T, fix(x).T))\n",
        "\n",
        "  def __pow__(self, x):\n",
        "    return Expression(deg_(self.T, fix(x).T))\n",
        "\n",
        "  def __mul__(self, x):\n",
        "    return Expression(mul_(self.T, fix(x).T))\n",
        "\n",
        "  def __and__(self, x):\n",
        "    return Expression(and_(self.T, fix(x).T))\n",
        "\n",
        "  def __or__(self, x):\n",
        "    return Expression(mul_(self.T, fix(x).T))\n",
        "\n",
        "  def __xor__(self, x):\n",
        "    return Expression(xor_(self.T, fix(x).T))\n",
        "\n",
        "  def __eq__(self, x):\n",
        "    return Expression(eq_(self.T, fix(x).T))\n",
        "\n",
        "  def __lt__(self, x):\n",
        "    return Expression(lt_(self.T, fix(x).T))\n",
        "\n",
        "  def __le__(self, x):\n",
        "    return Expression(le_(self.T, fix(x).T))\n",
        "\n",
        "  def __gt__(self, x):\n",
        "    return Expression(gt_(self.T, fix(x).T))\n",
        "\n",
        "  def __ge__(self, x):\n",
        "    return Expression(ge_(self.T, fix(x).T))\n",
        "\n",
        "  def __neg__(self, x):\n",
        "    return Expression(neg_(self.T))\n",
        "\n",
        "  def __invert__(self, x):\n",
        "    return Expression(inv_(self.T))\n",
        "\n",
        "  def __radd__(self, x):\n",
        "    return Expression(add_(fix(x).T, self.T))\n",
        "\n",
        "  def __rsub__(self, x):\n",
        "    return Expression(sub_(fix(x).T, self.T))\n",
        "\n",
        "  def __rmul__(self, x):\n",
        "    return Expression(mul_(fix(x).T, self.T))\n",
        "\n",
        "  def __rtruediv__(self, x):\n",
        "    return Expression(div_(fix(x).T, self.T))\n",
        "\n",
        "  def __rpow__(self, x):\n",
        "    return Expression(deg_(fix(x).T, self.T))\n",
        "\n",
        "  def __rand__(self, x):\n",
        "    return Expression(and_(fix(x).T, self.T))\n",
        "\n",
        "  def __ror__(self, x):\n",
        "    return Expression(or_(fix(x).T, self.T))\n",
        "\n",
        "  def __rxor__(self, x):\n",
        "    return Expression(xor_(fix(x).T, self.T))\n",
        "\n",
        "def fix(x):\n",
        "  if isinstance(x, int):\n",
        "    return Expression(integer_(x))\n",
        "  return x\n",
        "\n"
      ],
      "metadata": {
        "id": "jePSRGbksoau"
      },
      "execution_count": 86,
      "outputs": []
    },
    {
      "cell_type": "markdown",
      "source": [
        "Создаем обертки для функций integer_ и symbol_\n",
        "опциональное (бонусное) задание: напишите функцию symbols, которая позволяет создавать сразу несколько символьных переменных: x, y, z = symbols('x y z')"
      ],
      "metadata": {
        "id": "_Tozg2V8Zzo9"
      }
    },
    {
      "cell_type": "code",
      "source": [
        "def Z(x: int) -> Expression:\n",
        "  return Expression(integer_(x))\n",
        "\n",
        "def symbol(x: str) -> Expression:\n",
        "  return Expression(symbol_(x))\n",
        "\n",
        "def symbols(x: str) -> Expression:\n",
        "  a = x.split()\n",
        "  for i in range(len(a)):\n",
        "     a[i] = Expression(symbol_(a[i]))\n",
        "  return a"
      ],
      "metadata": {
        "id": "yLHEByiFZcdf"
      },
      "execution_count": 87,
      "outputs": []
    },
    {
      "cell_type": "markdown",
      "source": [
        "Определяем функцию show вывода выражений, заданных классом Expression\n",
        "протестируйте работу всех функций на различных выражениях"
      ],
      "metadata": {
        "id": "3gEJiXazZ5Ir"
      }
    },
    {
      "cell_type": "code",
      "source": [
        "def show(x: Expression) -> None:\n",
        "  show_(x.T)"
      ],
      "metadata": {
        "id": "2b1mtRJSZw3B"
      },
      "execution_count": 88,
      "outputs": []
    },
    {
      "cell_type": "code",
      "source": [
        "a, x = Z(13), symbol('x_2')\n",
        "\n",
        "show(a / x ** a)"
      ],
      "metadata": {
        "colab": {
          "base_uri": "https://localhost:8080/",
          "height": 54
        },
        "id": "iqBTshCYc0iA",
        "outputId": "a4fb3be8-1cfc-4b58-b12c-a8f3ae710b38"
      },
      "execution_count": 89,
      "outputs": [
        {
          "output_type": "display_data",
          "data": {
            "text/plain": [
              "<IPython.core.display.Math object>"
            ],
            "text/latex": "$\\displaystyle \\frac{13}{{x_{2}}^{13}}$"
          },
          "metadata": {}
        }
      ]
    },
    {
      "cell_type": "code",
      "source": [
        "import matplotlib\n",
        "import matplotlib.pyplot as plt\n",
        "import networkx as nx\n",
        "from networkx.drawing.nx_pydot import graphviz_layout\n",
        "from networkx.readwrite import json_graph\n",
        "\n",
        "def makeGraph(x: tuple, nodes: list, labels: list, links: list) -> int:\n",
        "  id_ = len(nodes)\n",
        "  nodes.append({'id': id_})\n",
        "  if isTerminal(x):\n",
        "    labels[id_] = f'${latex_(x)}$'\n",
        "  else:\n",
        "    labels[id_] = x[0]\n",
        "    for a in x[1:]:\n",
        "      if isinstance(a, tuple):\n",
        "        cid = makeGraph(a, nodes, labels, links)\n",
        "        links.append({'source': id_, 'target': cid})\n",
        "  return id_\n",
        "\n",
        "def drawGraph_(x: tuple, size) -> None:\n",
        "  nodes, labels, links = [], {}, []\n",
        "  makeGraph(x, nodes, labels, links)\n",
        "  graph = json_graph.node_link_graph({'nodes': nodes, 'links': links}, directed=True, multigraph=False)\n",
        "  pos = graphviz_layout(graph, prog=\"dot\")\n",
        "  fig, ax = plt.subplots(figsize=(3 * size, 3 * size))\n",
        "  ax.set_axis_off()\n",
        "  nx.draw_networkx_edges(graph.to_directed(), pos, ax = ax, edge_color=\"black\")\n",
        "  nx.draw_networkx_labels(graph.to_directed(), pos, labels = labels, font_color = \"blue\")\n",
        "\n",
        "def drawGraph(x: Expression, size: float = 1) -> None:\n",
        "  drawGraph_(x.T, size)\n",
        "\n",
        "x, y = symbol('x'), symbol('y')\n",
        "drawGraph((x + y) / Z(34))"
      ],
      "metadata": {
        "id": "u7cLwA76aAGh",
        "colab": {
          "base_uri": "https://localhost:8080/",
          "height": 361
        },
        "outputId": "651828a0-a33b-46cb-a606-3ad8a90335db"
      },
      "execution_count": 90,
      "outputs": [
        {
          "output_type": "stream",
          "name": "stderr",
          "text": [
            "<ipython-input-90-1e3c6b446c2a>:24: DeprecationWarning: nx.nx_pydot.graphviz_layout depends on the pydot package, which hasknown issues and is not actively maintained. Consider usingnx.nx_agraph.graphviz_layout instead.\n",
            "\n",
            "See https://github.com/networkx/networkx/issues/5723\n",
            "  pos = graphviz_layout(graph, prog=\"dot\")\n"
          ]
        },
        {
          "output_type": "display_data",
          "data": {
            "text/plain": [
              "<Figure size 300x300 with 1 Axes>"
            ],
            "image/png": "[encoded data removed]"
          },
          "metadata": {}
        }
      ]
    },
    {
      "cell_type": "markdown",
      "source": [
        "# Часть 2\n"
      ],
      "metadata": {
        "id": "nHfAbGl-ameJ"
      }
    },
    {
      "cell_type": "markdown",
      "source": [
        "### Факторизация\n",
        "\n",
        "* Напишите функцию `factors(x)`, которая возвращает разложение заданного натурального числа $x$ на простые множители в виде списка этих множителей: factors`(12)` $\\to$ `[2, 2, 3]`."
      ],
      "metadata": {
        "id": "_PBloigmbC7W"
      }
    },
    {
      "cell_type": "code",
      "source": [
        "def factors(x: int) -> list:\n",
        "  mn = []\n",
        "  k = 2\n",
        "  while x != 1:\n",
        "    if x % k == 0:\n",
        "      mn.append(k)\n",
        "      x//=k\n",
        "    else:\n",
        "      k += 1\n",
        "  return mn\n",
        "factors(7007)"
      ],
      "metadata": {
        "colab": {
          "base_uri": "https://localhost:8080/"
        },
        "id": "4ZaODSJ7aqd7",
        "outputId": "f0f5c182-456e-4f6b-fb81-23d2041a3708"
      },
      "execution_count": 91,
      "outputs": [
        {
          "output_type": "execute_result",
          "data": {
            "text/plain": [
              "[7, 7, 11, 13]"
            ]
          },
          "metadata": {},
          "execution_count": 91
        }
      ]
    },
    {
      "cell_type": "markdown",
      "source": [
        "* Напишите функцию `factorizeInt(x)`, которая преобразует заданное число `x` в произведение простых сомножителей в форме **выражения** (класс `Expression`), повторяющиеся сомножители должны входить в выражение в форме степеней: `factorizeInt(120)` $\\to 2^3\\cdot 3\\cdot 5$."
      ],
      "metadata": {
        "id": "MEmi3QTRla5j"
      }
    },
    {
      "cell_type": "code",
      "source": [
        "def factorizeInt(x: int) -> Expression:\n",
        "  mn1 = factors(x)\n",
        "  mn2 =[mn1[0]]\n",
        "  for i in range(len(mn1)):\n",
        "    if not mn1[i] in mn2:\n",
        "      mn2.append(mn1[i])\n",
        "\n",
        "  k = Z(mn2[0])\n",
        "  s1 = mn1.count(mn2[0])\n",
        "  if s1 > 1:\n",
        "    k **= mn1.count(mn2[0])\n",
        "  for i in range(1, len(mn2)):\n",
        "    s2 = mn1.count(mn2[i])\n",
        "    if s2 > 1:\n",
        "      k *= Z(mn2[i])**Z(s2)\n",
        "    else:\n",
        "      k *= Z(mn2[i])\n",
        "\n",
        "  return k\n",
        "\n",
        "show(factorizeInt(360))"
      ],
      "metadata": {
        "colab": {
          "base_uri": "https://localhost:8080/",
          "height": 37
        },
        "id": "pkGTfHVwlqU4",
        "outputId": "2b1dbdf9-07e7-49e7-d1ae-f53048c84866"
      },
      "execution_count": 92,
      "outputs": [
        {
          "output_type": "display_data",
          "data": {
            "text/plain": [
              "<IPython.core.display.Math object>"
            ],
            "text/latex": "$\\displaystyle {{{2}^{3}} \\cdot {{3}^{2}}} \\cdot {5}$"
          },
          "metadata": {}
        }
      ]
    },
    {
      "cell_type": "code",
      "source": [
        "a1 = Z(2) **Z(3)\n",
        "a1 *= Z(3) **Z(5)\n",
        "show(a1)"
      ],
      "metadata": {
        "colab": {
          "base_uri": "https://localhost:8080/",
          "height": 37
        },
        "id": "CcjDZNwhOJC4",
        "outputId": "266b5f2a-c990-4750-afb6-10976fd21930"
      },
      "execution_count": 93,
      "outputs": [
        {
          "output_type": "display_data",
          "data": {
            "text/plain": [
              "<IPython.core.display.Math object>"
            ],
            "text/latex": "$\\displaystyle {{2}^{3}} \\cdot {{3}^{5}}$"
          },
          "metadata": {}
        }
      ]
    },
    {
      "cell_type": "markdown",
      "source": [
        "### Наибольший общий делитель\n",
        "\n",
        "* Реализуйте алгоритм Евклида в виде функции `GCD(n, m)`."
      ],
      "metadata": {
        "id": "Ss60MTBNoN4H"
      }
    },
    {
      "cell_type": "code",
      "source": [
        "def GCD(n: int, m: int) -> int:\n",
        "  while m > 0:\n",
        "    n, m = m, n % m\n",
        "  return n\n",
        "\n",
        "GCD(120, 48)"
      ],
      "metadata": {
        "colab": {
          "base_uri": "https://localhost:8080/"
        },
        "id": "gX4TuXzloSSi",
        "outputId": "a814827c-8b56-43e7-fa11-13712ecf1f01"
      },
      "execution_count": 94,
      "outputs": [
        {
          "output_type": "execute_result",
          "data": {
            "text/plain": [
              "24"
            ]
          },
          "metadata": {},
          "execution_count": 94
        }
      ]
    },
    {
      "cell_type": "markdown",
      "source": [
        "### Реализация рациональных чисел\n",
        "\n",
        "* Создаем функцию-конструктор `rational_(n,m)` узлов для рациональных чисел. В каждом таком узле должно храниться нормализованное представление заданного числа."
      ],
      "metadata": {
        "id": "MP_S5yjfpD45"
      }
    },
    {
      "cell_type": "code",
      "source": [
        "def rational_(n: int, m: int) -> tuple:\n",
        "  if n == 0:\n",
        "    m = 1 # нормализованное представление нуля - (0, 1)\n",
        "  else:\n",
        "    if m < 0:\n",
        "      n, m = -n, -m # знаменатель должен быть положительным\n",
        "    c = GCD(abs(n), m)\n",
        "    n, m = n // c, m // c # приводим дробь к несократимому виду\n",
        "  return 'rational', {'num': n, 'denom': m} # num - числитель (numerator), denom - знаменатель (denominator)"
      ],
      "metadata": {
        "id": "s-bQrTJHpHhS"
      },
      "execution_count": 95,
      "outputs": []
    },
    {
      "cell_type": "markdown",
      "source": [
        "* Пишем функцию `Q(n,m)` для создания выражения, представляющего рациональное число $n/m$. Знаменатель `m` по умолчанию равен `1`."
      ],
      "metadata": {
        "id": "ZIBYZDy2pLr7"
      }
    },
    {
      "cell_type": "code",
      "source": [
        "def Q(n: int, m: int = 1) -> Expression:\n",
        "  return Expression(rational_(n, m))\n",
        "\n",
        "Q(2, -6).T"
      ],
      "metadata": {
        "colab": {
          "base_uri": "https://localhost:8080/"
        },
        "id": "d4Z8rctIpQdc",
        "outputId": "e69b0875-9b8e-4733-c1f6-84056376a356"
      },
      "execution_count": 96,
      "outputs": [
        {
          "output_type": "execute_result",
          "data": {
            "text/plain": [
              "('rational', {'num': -1, 'denom': 3})"
            ]
          },
          "metadata": {},
          "execution_count": 96
        }
      ]
    },
    {
      "cell_type": "markdown",
      "source": [
        "* Напишите функцию `latex_rational(x)`, преобразующую рациональное число $x$ в формат LaTeX. Это преобразование должно учитывать, является ли число целым (единичный знаменатель не используется), для отрицательных чисел знак минус ставится перед числом, а не в числителе:\n",
        "`Q(0, 5)` $\\to 0$, `Q(6, -2)` $\\to 3$, `Q(6, 8)` $\\to \\dfrac{3}{4}$, `Q(-15, 25)` $\\to -\\dfrac{3}{5}$."
      ],
      "metadata": {
        "id": "pYfe2qtKpTH3"
      }
    },
    {
      "cell_type": "code",
      "source": [
        "def latex_rational(x: tuple) -> str:\n",
        "  n, m = options(x)['num'], options(x)['denom']\n",
        "  if m == 1:\n",
        "    return f\"{{{n}}}\"\n",
        "  if n < 0:\n",
        "    return f\"-\\\\frac{{{abs(n)}}}{{{m}}}\"\n",
        "  else:\n",
        "    return f\"\\\\frac{{{n}}}{{{m}}}\"\n",
        "\n",
        "\n",
        "show(Q(0, 5))\n",
        "show(Q(6, -2))\n",
        "show(Q(6, 8))\n",
        "show(Q(-15, 25))"
      ],
      "metadata": {
        "colab": {
          "base_uri": "https://localhost:8080/",
          "height": 126
        },
        "id": "MjQn3o22pWrD",
        "outputId": "a76c3951-7167-4ebc-dc6c-baf5d2586425"
      },
      "execution_count": 97,
      "outputs": [
        {
          "output_type": "display_data",
          "data": {
            "text/plain": [
              "<IPython.core.display.Math object>"
            ],
            "text/latex": "$\\displaystyle {0}$"
          },
          "metadata": {}
        },
        {
          "output_type": "display_data",
          "data": {
            "text/plain": [
              "<IPython.core.display.Math object>"
            ],
            "text/latex": "$\\displaystyle {-3}$"
          },
          "metadata": {}
        },
        {
          "output_type": "display_data",
          "data": {
            "text/plain": [
              "<IPython.core.display.Math object>"
            ],
            "text/latex": "$\\displaystyle \\frac{3}{4}$"
          },
          "metadata": {}
        },
        {
          "output_type": "display_data",
          "data": {
            "text/plain": [
              "<IPython.core.display.Math object>"
            ],
            "text/latex": "$\\displaystyle -\\frac{3}{5}$"
          },
          "metadata": {}
        }
      ]
    },
    {
      "cell_type": "markdown",
      "source": [
        "* Проверяем, что рациональные числа могут быть теперь использованы для построения арифметический выражений"
      ],
      "metadata": {
        "id": "0yPi8KC3J3IF"
      }
    },
    {
      "cell_type": "code",
      "source": [
        "show((1 + Q(6, 4)) / (Q(152, 24) ** 2 * Q(5, 7)))"
      ],
      "metadata": {
        "colab": {
          "base_uri": "https://localhost:8080/",
          "height": 66
        },
        "id": "I54GwmJ0J5_M",
        "outputId": "4c6db999-06b0-4837-c22f-a07dc4b3dfbb"
      },
      "execution_count": 98,
      "outputs": [
        {
          "output_type": "display_data",
          "data": {
            "text/plain": [
              "<IPython.core.display.Math object>"
            ],
            "text/latex": "$\\displaystyle \\frac{{1} + {\\frac{3}{2}}}{{{\\left( \\frac{19}{3} \\right)}^{2}} \\cdot {\\frac{5}{7}}}$"
          },
          "metadata": {}
        }
      ]
    },
    {
      "cell_type": "markdown",
      "source": [
        "### Цепные дроби\n",
        "\n",
        "* Напишите функцию `continuedTerms(n,m)`, которая преобразует заданное рациональное число $n/m$ в цепную дробь \\[$a_0$; $a_1$, $a_2$, ...\\] и возвращает результат в виде списка: `continuedTerms(15,11)` $\\to$ `[1,2,1,3]`."
      ],
      "metadata": {
        "id": "HbwzfGO1J-Zp"
      }
    },
    {
      "cell_type": "code",
      "source": [
        "def continuedTerms(n: int, m: int) -> list:\n",
        "  an = []\n",
        "  while m > 0:\n",
        "    an.append(n // m)\n",
        "    n, m = m, n % m\n",
        "  return an\n",
        "\n",
        "continuedTerms(15, 11)"
      ],
      "metadata": {
        "colab": {
          "base_uri": "https://localhost:8080/"
        },
        "id": "JnQPPlJoJ88_",
        "outputId": "f23c2cf7-22c6-4381-fc7c-a78259aac998"
      },
      "execution_count": 99,
      "outputs": [
        {
          "output_type": "execute_result",
          "data": {
            "text/plain": [
              "[1, 2, 1, 3]"
            ]
          },
          "metadata": {},
          "execution_count": 99
        }
      ]
    },
    {
      "cell_type": "markdown",
      "source": [
        "* Напишите функцию, которая строит выражение, представляющее цепную дробь, в виде объекта класса `Expression`."
      ],
      "metadata": {
        "id": "_hZwxhd6KGXo"
      }
    },
    {
      "cell_type": "code",
      "source": [
        "def continuedFraction(p: Expression) -> Expression:\n",
        "  n, m = options(p.T)['num'], options(p.T)['denom'] # предполагаем, что p - рациональное число!\n",
        "  A = continuedTerms(n, m) # находим элементы цепной дроби\n",
        "  ex = Z(A[-1])\n",
        "  for i in range(-2, -(len(A) + 1), -1):\n",
        "    ex = A[i] + 1 / ex\n",
        "  return ex\n",
        "\n",
        "show(continuedFraction(Q(15, 11)))"
      ],
      "metadata": {
        "id": "2dJEWwdgKLIj",
        "colab": {
          "base_uri": "https://localhost:8080/",
          "height": 63
        },
        "outputId": "3ce26d58-987c-40d9-888f-55cd16bacd49"
      },
      "execution_count": 100,
      "outputs": [
        {
          "output_type": "display_data",
          "data": {
            "text/plain": [
              "<IPython.core.display.Math object>"
            ],
            "text/latex": "$\\displaystyle {1} + {\\frac{1}{{2} + {\\frac{1}{{1} + {\\frac{1}{3}}}}}}$"
          },
          "metadata": {}
        }
      ]
    },
    {
      "cell_type": "markdown",
      "source": [
        "* (бонусное задание) Напишите функцию `float2continued(x,n)`, преобразующую заданное действительное число $x$ в цепную дробь \"глубины\" $n$: `float2continued(np.sqrt(2),4)` $\\to 1 + \\frac1{2+\\frac1{2+\\frac1{2}}}$"
      ],
      "metadata": {
        "id": "tmQo_VnyKPTQ"
      }
    },
    {
      "cell_type": "code",
      "source": [
        "import math\n",
        "\n",
        "def float2continued(x: float, n: int) -> Expression:\n",
        "  k = 0\n",
        "  an = []\n",
        "  while k < n + 1:\n",
        "    an.append(math.floor(x))\n",
        "    x = 1 / (x - an[k])\n",
        "    k = k + 1\n",
        "\n",
        "  ex = Z(an[-1])\n",
        "  for i in range(-2, -len(an), -1):\n",
        "    ex = an[i] + 1 / ex\n",
        "  return ex\n",
        "\n",
        "show(float2continued(np.pi, 5))\n",
        "show(float2continued(np.sqrt(2), 5))\n",
        "show(float2continued(np.exp(1), 5))\n",
        "show(float2continued((np.sqrt(5)+1)/2, 5))"
      ],
      "metadata": {
        "id": "mnXKoDLsKTXL",
        "colab": {
          "base_uri": "https://localhost:8080/",
          "height": 228
        },
        "outputId": "91ae2ada-a272-4850-f7ea-286bfdb6e61e"
      },
      "execution_count": 101,
      "outputs": [
        {
          "output_type": "display_data",
          "data": {
            "text/plain": [
              "<IPython.core.display.Math object>"
            ],
            "text/latex": "$\\displaystyle {7} + {\\frac{1}{{15} + {\\frac{1}{{1} + {\\frac{1}{{292} + {\\frac{1}{1}}}}}}}}$"
          },
          "metadata": {}
        },
        {
          "output_type": "display_data",
          "data": {
            "text/plain": [
              "<IPython.core.display.Math object>"
            ],
            "text/latex": "$\\displaystyle {2} + {\\frac{1}{{2} + {\\frac{1}{{2} + {\\frac{1}{{2} + {\\frac{1}{2}}}}}}}}$"
          },
          "metadata": {}
        },
        {
          "output_type": "display_data",
          "data": {
            "text/plain": [
              "<IPython.core.display.Math object>"
            ],
            "text/latex": "$\\displaystyle {1} + {\\frac{1}{{2} + {\\frac{1}{{1} + {\\frac{1}{{1} + {\\frac{1}{4}}}}}}}}$"
          },
          "metadata": {}
        },
        {
          "output_type": "display_data",
          "data": {
            "text/plain": [
              "<IPython.core.display.Math object>"
            ],
            "text/latex": "$\\displaystyle {1} + {\\frac{1}{{1} + {\\frac{1}{{1} + {\\frac{1}{{1} + {\\frac{1}{1}}}}}}}}$"
          },
          "metadata": {}
        }
      ]
    },
    {
      "cell_type": "markdown",
      "source": [
        "### Египетские дроби\n",
        "\n",
        "* Напишите функцию `egyptianTerms(n,m)` разложения заданного рационального числа $n/m$ (в предположении $n < m$) в египетскую дробь, возвращающую список знаменателей найденных простых дробей: `egyptianTerms(7, 8)` $\\to$ `[2, 3, 24]`."
      ],
      "metadata": {
        "id": "4JZ7pRURKYFA"
      }
    },
    {
      "cell_type": "code",
      "source": [
        "import math\n",
        "\n",
        "def egyptianTerms(n: int, m: int) -> list:\n",
        "  an = []\n",
        "  while n > 0:\n",
        "    a = math.ceil(m/n)\n",
        "    n, m = (-m) % n, m * a\n",
        "    an.append(a)\n",
        "  return an\n",
        "\n",
        "egyptianTerms(7, 8)"
      ],
      "metadata": {
        "colab": {
          "base_uri": "https://localhost:8080/"
        },
        "id": "mZMX_xEiKcTS",
        "outputId": "606e3b52-79bf-4a83-ced7-830922b15af5"
      },
      "execution_count": 102,
      "outputs": [
        {
          "output_type": "execute_result",
          "data": {
            "text/plain": [
              "[2, 3, 24]"
            ]
          },
          "metadata": {},
          "execution_count": 102
        }
      ]
    },
    {
      "cell_type": "markdown",
      "source": [
        "* Напишите функцию, которая строит выражение, представляющее египетскую дробь, в виде объекта класса `Expression`: `egyptianSum(7,8)` $\\to \\frac12 + \\frac13 + \\frac1{24}$."
      ],
      "metadata": {
        "id": "faEiis3_KgNe"
      }
    },
    {
      "cell_type": "code",
      "source": [
        "def egyptianSum(p: Expression) -> Expression:\n",
        "  n, m = options(p.T)['num'], options(p.T)['denom']\n",
        "  A = egyptianTerms(n, m)\n",
        "  ex = 1 / Z(A[0])\n",
        "  for i in range(1, len(A)):\n",
        "    ex +=  1 / Z(A[i])\n",
        "  return ex\n",
        "\n",
        "show(egyptianSum(Q(7, 8)))"
      ],
      "metadata": {
        "id": "_VoUr6djKjiB",
        "colab": {
          "base_uri": "https://localhost:8080/",
          "height": 51
        },
        "outputId": "4ded77dd-c759-459a-abf4-15e45dc4278a"
      },
      "execution_count": 103,
      "outputs": [
        {
          "output_type": "display_data",
          "data": {
            "text/plain": [
              "<IPython.core.display.Math object>"
            ],
            "text/latex": "$\\displaystyle {{\\frac{1}{2}} + {\\frac{1}{3}}} + {\\frac{1}{24}}$"
          },
          "metadata": {}
        }
      ]
    },
    {
      "cell_type": "markdown",
      "source": [
        "### Частичное оценивание арифметических выражений\n",
        "\n",
        "В большинстве систем КА выражения, заданные пользователем, сразу же упрощаются, в частности, в них вычисляется все, что может быть вычислено.\n",
        "В частности, если выражение является арифметическим и содержит только целые и рациональные числа, то это выражение преобразуется в рациональное число, например: $$\\frac{\\frac12+\\frac23}{5}\\to\\frac7{30}.$$\n",
        "Определим несколько функций, предназначенных для такого оценивания (evaluating) арифметических выражений над целыми и рациональными числами.\n",
        "\n",
        "* Головная функция `evaluate(x)` оценивает выражение, заданное пользователем в виде объекта класса `Expression`, и возвращает выражение того же самого типа (класса), вызывая внутреннюю функцию `eval_` оценивания выражения в *списочном* формате."
      ],
      "metadata": {
        "id": "4az6oIhrKnA2"
      }
    },
    {
      "cell_type": "code",
      "source": [
        "def evaluate(x: Expression) -> Expression:\n",
        "  return Expression(eval_(x.T))"
      ],
      "metadata": {
        "id": "KW2oSZhlKq0i"
      },
      "execution_count": 104,
      "outputs": []
    },
    {
      "cell_type": "markdown",
      "source": [
        "* Функция `eval_(x)` “пытается” вызвать обработчик соответствующего узла, и если такой обработчик есть, то возвращается результат его работы.\n",
        "Если обработчика нет (срабатывает исключение), то возвращается исходный узел."
      ],
      "metadata": {
        "id": "lruo9POWKt7V"
      }
    },
    {
      "cell_type": "code",
      "source": [
        "def eval_(x: tuple) -> tuple:\n",
        "  try:\n",
        "    cmd = eval(f\"eval_{ID(x)}\") # конструируем функцию оценивания текущего узла по его ID\n",
        "    return cmd(x)\n",
        "  except:\n",
        "    return x # возвращаем исходный узел, если обработчик не найден"
      ],
      "metadata": {
        "id": "_Ff3DcctKzab"
      },
      "execution_count": 105,
      "outputs": []
    },
    {
      "cell_type": "markdown",
      "source": [
        "* Для упрощения выполнения арифметических операций над объектами разной природы (числа разных классов, многочлены, матрицы) определим набор функций для автоматического преобразования типов (cast).\n",
        "Головная функция `cast` пытается вызвать подходящий обработчик, исходя из идентификатора типа и целевого типа."
      ],
      "metadata": {
        "id": "K3IO5bGCK2sk"
      }
    },
    {
      "cell_type": "code",
      "source": [
        "def cast_(x: tuple, target: str) -> tuple:\n",
        "  if ID(x) == target:\n",
        "    return x # преобразование не нужно, узел x уже имеет правильный тип\n",
        "  try:\n",
        "    cmd = eval(f\"cast_{ID(x)}_{target}\") # конструируем функцию преобразования\n",
        "    return cmd(x)\n",
        "  except:\n",
        "    return x # возвращаем исходный узел, если обработчик не найден"
      ],
      "metadata": {
        "id": "l-2vDM9dK5el"
      },
      "execution_count": 106,
      "outputs": []
    },
    {
      "cell_type": "markdown",
      "source": [
        "* Реализуем один конкретный преобразователь `cast_integer_rational(x)`, который переводит целое число $x$ в формат рационального числа."
      ],
      "metadata": {
        "id": "QyTCP_mvK9mh"
      }
    },
    {
      "cell_type": "code",
      "source": [
        "def cast_integer_rational(x: tuple) -> tuple:\n",
        "  n = options(x)['value']\n",
        "  return rational_(n, 1)\n",
        "\n",
        "cast_integer_rational(integer_(5))"
      ],
      "metadata": {
        "id": "xzHOZxlxLBRp",
        "colab": {
          "base_uri": "https://localhost:8080/"
        },
        "outputId": "2756cc2f-9296-452e-a0fc-6a5e4d89dfaf"
      },
      "execution_count": 107,
      "outputs": [
        {
          "output_type": "execute_result",
          "data": {
            "text/plain": [
              "('rational', {'num': 5, 'denom': 1})"
            ]
          },
          "metadata": {},
          "execution_count": 107
        }
      ]
    },
    {
      "cell_type": "markdown",
      "source": [
        "* Теперь можно создавать функции, выполняющие арифметические операции над целыми и рациональными числами. Определим две функции сложения. Имя каждой такой функции должно состоять из типа операции и списка типов операндов, разделенных знаком подчеркивания: `add_integer_integer` складывает два целых числа."
      ],
      "metadata": {
        "id": "SZQELvXDLEXY"
      }
    },
    {
      "cell_type": "code",
      "source": [
        "def add_integer_integer(a: tuple, b: tuple) -> tuple:\n",
        "  n = options(a)['value']\n",
        "  m = options(b)['value']\n",
        "  return integer_(n + m)\n",
        "\n",
        "def add_rational_rational(a: tuple, b: tuple) -> tuple:\n",
        "  na, ma = options(a)['num'], options(a)['denom']\n",
        "  nb, mb = options(b)['num'], options(b)['denom']\n",
        "  n, m = na * mb + nb * ma, ma * mb\n",
        "  return rational_(n, m)"
      ],
      "metadata": {
        "id": "SzZ6KVJNL1W_"
      },
      "execution_count": 108,
      "outputs": []
    },
    {
      "cell_type": "markdown",
      "source": [
        "* Создадим словарь `OPERATIONS`, в котором будут перечисляться все обработчики каждой бинарной и унарной операций, подлежащих оцениванию. Ключами записей будут типы операций, значениями - списки соответствующих обработчиков."
      ],
      "metadata": {
        "id": "tgdKZ8xSL4s3"
      }
    },
    {
      "cell_type": "code",
      "source": [
        "OPERATIONS = {'add': ['add_integer_integer', 'add_rational_rational']}"
      ],
      "metadata": {
        "id": "15ec94L5L7-J"
      },
      "execution_count": 109,
      "outputs": []
    },
    {
      "cell_type": "markdown",
      "source": [
        "* Создаем универсальный обработчик (оцениватель) бинарных операций `eval_binary(op,x,y)`, который просматривает список всех имеющихся обработчиков заданной операции `op`, для каждого из них пытается преобразовать заданные операнды `x` и `y` к соответствующим типам, если преобразование проходит успешно, то вызывает этот обработки и возвращает его результат. Если ни один из обработчиков не срабатывает, то возвращается исходное выражение.   "
      ],
      "metadata": {
        "id": "cjBRpPbAMAAz"
      }
    },
    {
      "cell_type": "code",
      "source": [
        "def eval_binary(op: str, x: tuple, y: tuple) -> tuple:\n",
        "  for fop in OPERATIONS[op]:\n",
        "    idx, idy = fop.split('_')[1:]\n",
        "    a = cast_(x, idx)\n",
        "    b = cast_(y, idy)\n",
        "    if ID(a) == idx and ID(b) == idy:\n",
        "      cmd = eval(f\"{fop}\")\n",
        "      return cmd(a, b)\n",
        "  return op, x, y"
      ],
      "metadata": {
        "id": "IInWdPs2MCj1"
      },
      "execution_count": 110,
      "outputs": []
    },
    {
      "cell_type": "markdown",
      "source": [
        "* Наконец, пишем оцениватель `eval_add` операции сложения, который оценывает (рекурсивно) свои операнды и вызывает универсальный обработчик `eval_binary`. Проверяем его работу. Объясните, почему не происходит оценивания в последнем примере!"
      ],
      "metadata": {
        "id": "GBl60ttYMFZB"
      }
    },
    {
      "cell_type": "code",
      "source": [
        "def eval_add(x: tuple) -> tuple:\n",
        "  a, b = eval_(x[1]), eval_(x[2])\n",
        "  return eval_binary(ID(x), a, b)\n",
        "\n",
        "show(evaluate(Z(2) + Q(1, 3)))\n",
        "x = symbol('x')\n",
        "show(evaluate(Z(2) + Z(5) + x))\n",
        "show(evaluate(x + Z(2) + Z(5)))"
      ],
      "metadata": {
        "id": "rucTd-1MMNzx",
        "colab": {
          "base_uri": "https://localhost:8080/",
          "height": 95
        },
        "outputId": "f2333412-dbd9-418f-8273-64ec73142ff0"
      },
      "execution_count": 111,
      "outputs": [
        {
          "output_type": "display_data",
          "data": {
            "text/plain": [
              "<IPython.core.display.Math object>"
            ],
            "text/latex": "$\\displaystyle \\frac{7}{3}$"
          },
          "metadata": {}
        },
        {
          "output_type": "display_data",
          "data": {
            "text/plain": [
              "<IPython.core.display.Math object>"
            ],
            "text/latex": "$\\displaystyle {7} + {x}$"
          },
          "metadata": {}
        },
        {
          "output_type": "display_data",
          "data": {
            "text/plain": [
              "<IPython.core.display.Math object>"
            ],
            "text/latex": "$\\displaystyle {{x} + {2}} + {5}$"
          },
          "metadata": {}
        }
      ]
    },
    {
      "cell_type": "markdown",
      "source": [
        "* Чтобы добавить в систему обработку новых операций (например, операции умножения), нужно 1) создать соответствующие исполнители (умножение целых чисел, умножение рациональных чисел); 2) включить эти исполнители в словарь `OPERATIONS`; 3) написать обработчик соответствующего узла (`eval_mul`), если эта операция бинарная, то в данном обработчике должна вызываться функция `eval_binary`. Для примера добавим в систему оценивание операции умножения."
      ],
      "metadata": {
        "id": "VW40gN61MSmC"
      }
    },
    {
      "cell_type": "code",
      "source": [
        "def mul_integer_integer(a: tuple, b: tuple) -> tuple:\n",
        "  n = options(a)['value']\n",
        "  m = options(b)['value']\n",
        "  return integer_(n * m)\n",
        "\n",
        "def mul_rational_rational(a: tuple, b: tuple) -> tuple:\n",
        "  na, ma = options(a)['num'], options(a)['denom']\n",
        "  nb, mb = options(b)['num'], options(b)['denom']\n",
        "  n, m = na * nb, ma * mb\n",
        "  return rational_(n, m)\n",
        "\n",
        "OPERATIONS |= {'mul': ['mul_integer_integer', 'mul_rational_rational']} # расширяем словарь OPERATIONS новым словарем\n",
        "\n",
        "def eval_mul(x: tuple) -> tuple:\n",
        "  a, b = eval_(x[1]), eval_(x[2])\n",
        "  return eval_binary(ID(x), a, b)\n",
        "\n",
        "show(evaluate(Z(2) * Z(5)))\n",
        "show(evaluate(Z(2) * Q(2, 3)))"
      ],
      "metadata": {
        "id": "cUB1ZNj-MVjn",
        "colab": {
          "base_uri": "https://localhost:8080/",
          "height": 71
        },
        "outputId": "4dc18d12-9d4a-43ad-9fd3-27b8fa97baa6"
      },
      "execution_count": 112,
      "outputs": [
        {
          "output_type": "display_data",
          "data": {
            "text/plain": [
              "<IPython.core.display.Math object>"
            ],
            "text/latex": "$\\displaystyle 10$"
          },
          "metadata": {}
        },
        {
          "output_type": "display_data",
          "data": {
            "text/plain": [
              "<IPython.core.display.Math object>"
            ],
            "text/latex": "$\\displaystyle \\frac{4}{3}$"
          },
          "metadata": {}
        }
      ]
    },
    {
      "cell_type": "markdown",
      "source": [
        "* Реализуйте по этой же схеме оценивание операций вычитания и деления целых и рациональных чисел. Учтите, что при делении двух целых чисел может получиться целое число: $6/3 \\to 2$, а может - рациональное: $12/8$ $\\to \\frac{3}{2}$."
      ],
      "metadata": {
        "id": "IKKgJqdMMZCk"
      }
    },
    {
      "cell_type": "code",
      "source": [
        "# вычитание\n",
        "\n",
        "def sub_integer_integer(a: tuple, b: tuple) -> tuple:\n",
        "  n = options(a)['value']\n",
        "  m = options(b)['value']\n",
        "  return integer_(n - m)\n",
        "\n",
        "def sub_rational_rational(a: tuple, b: tuple) -> tuple:\n",
        "  na, ma = options(a)['num'], options(a)['denom']\n",
        "  nb, mb = options(b)['num'], options(b)['denom']\n",
        "  n, m = na * mb - nb * ma , ma * mb\n",
        "  return rational_(n, m)\n",
        "\n",
        "OPERATIONS |= {'sub': ['sub_integer_integer', 'sub_rational_rational']} # расширяем словарь OPERATIONS новым словарем\n",
        "\n",
        "def eval_sub(x: tuple) -> tuple:\n",
        "  a, b = eval_(x[1]), eval_(x[2])\n",
        "  return eval_binary(ID(x), a, b)\n",
        "\n",
        "show(evaluate(Z(2) - Q(2, 7)))"
      ],
      "metadata": {
        "id": "AMUb7GedMdWx",
        "colab": {
          "base_uri": "https://localhost:8080/",
          "height": 51
        },
        "outputId": "b77a9a0f-2f63-499c-8a85-50f7a06426e4"
      },
      "execution_count": 113,
      "outputs": [
        {
          "output_type": "display_data",
          "data": {
            "text/plain": [
              "<IPython.core.display.Math object>"
            ],
            "text/latex": "$\\displaystyle \\frac{12}{7}$"
          },
          "metadata": {}
        }
      ]
    },
    {
      "cell_type": "code",
      "source": [
        "# деление\n",
        "\n",
        "def div_integer_integer(a: tuple, b: tuple) -> tuple:\n",
        "  n = options(a)['value']\n",
        "  m = options(b)['value']\n",
        "  return rational_(n, m)\n",
        "\n",
        "def div_rational_rational(a: tuple, b: tuple) -> tuple:\n",
        "  na, ma = options(a)['num'], options(a)['denom']\n",
        "  nb, mb = options(b)['num'], options(b)['denom']\n",
        "  n, m = na * mb, ma * nb\n",
        "  return rational_(n, m)\n",
        "\n",
        "OPERATIONS |= {'div': ['div_integer_integer', 'div_rational_rational']} # расширяем словарь OPERATIONS новым словарем\n",
        "\n",
        "def eval_div(x: tuple) -> tuple:\n",
        "  a, b = eval_(x[1]), eval_(x[2])\n",
        "  return eval_binary(ID(x), a, b)\n",
        "\n",
        "show(evaluate(Z(6) / Z(3)))\n",
        "show(evaluate(Z(6) / Z(4)))\n",
        "show(evaluate(Q(5,12) / Q(10,81)))\n",
        "show(evaluate((Z(6) - Q(1, 2)) / Q(2, 3)))"
      ],
      "metadata": {
        "id": "R0auttoSMg99",
        "colab": {
          "base_uri": "https://localhost:8080/",
          "height": 139
        },
        "outputId": "ddc393b9-e266-4767-ed0b-9f3fff38ee72"
      },
      "execution_count": 114,
      "outputs": [
        {
          "output_type": "display_data",
          "data": {
            "text/plain": [
              "<IPython.core.display.Math object>"
            ],
            "text/latex": "$\\displaystyle {2}$"
          },
          "metadata": {}
        },
        {
          "output_type": "display_data",
          "data": {
            "text/plain": [
              "<IPython.core.display.Math object>"
            ],
            "text/latex": "$\\displaystyle \\frac{3}{2}$"
          },
          "metadata": {}
        },
        {
          "output_type": "display_data",
          "data": {
            "text/plain": [
              "<IPython.core.display.Math object>"
            ],
            "text/latex": "$\\displaystyle \\frac{27}{8}$"
          },
          "metadata": {}
        },
        {
          "output_type": "display_data",
          "data": {
            "text/plain": [
              "<IPython.core.display.Math object>"
            ],
            "text/latex": "$\\displaystyle \\frac{33}{4}$"
          },
          "metadata": {}
        }
      ]
    },
    {
      "cell_type": "markdown",
      "source": [
        "* Реализуйте оценивание операции возведения в целую степень: `Z(2) ** Z(3)` $\\to 8$, `Z(2) ** Z(-3)` $\\to \\frac{1}{8}$, `Q(2, 3) ** Z(-2)` $\\to \\frac{9}{4}$."
      ],
      "metadata": {
        "id": "u8AkutsWMjq4"
      }
    },
    {
      "cell_type": "code",
      "source": [
        "def deg_integer_integer(a: tuple, b: tuple) -> tuple:\n",
        "  n = options(a)['value']\n",
        "  m = options(b)['value']\n",
        "  if m >= 0:\n",
        "    return integer_(n ** m)\n",
        "  else:\n",
        "    return rational_(1, n ** abs(m))\n",
        "\n",
        "def deg_rational_integer(a: tuple, b: tuple) -> tuple:\n",
        "  na, ma = options(a)['num'], options(a)['denom']\n",
        "  nb = options(b)['value']\n",
        "  n, m = na ** abs(nb), ma ** abs(nb)\n",
        "  if nb >= 0:\n",
        "    return rational_(n, m)\n",
        "  else:\n",
        "    return rational_(m, n)\n",
        "\n",
        "OPERATIONS |= {'deg': ['deg_integer_integer', 'deg_rational_integer']} # расширяем словарь OPERATIONS новым словарем\n",
        "\n",
        "def eval_deg(x: tuple) -> tuple:\n",
        "  a, b = eval_(x[1]), eval_(x[2])\n",
        "  return eval_binary(ID(x), a, b)\n",
        "\n",
        "show(evaluate(Z(6) ** Z(3)))\n",
        "show(evaluate(Z(6) ** Z(-2)))\n",
        "show(evaluate(Q(2, 3) ** Z(-2)))"
      ],
      "metadata": {
        "id": "6_aNPfGSMmsw",
        "colab": {
          "base_uri": "https://localhost:8080/",
          "height": 105
        },
        "outputId": "bab0f092-25a9-42aa-c421-ce556b8468dc"
      },
      "execution_count": 115,
      "outputs": [
        {
          "output_type": "display_data",
          "data": {
            "text/plain": [
              "<IPython.core.display.Math object>"
            ],
            "text/latex": "$\\displaystyle 216$"
          },
          "metadata": {}
        },
        {
          "output_type": "display_data",
          "data": {
            "text/plain": [
              "<IPython.core.display.Math object>"
            ],
            "text/latex": "$\\displaystyle \\frac{1}{36}$"
          },
          "metadata": {}
        },
        {
          "output_type": "display_data",
          "data": {
            "text/plain": [
              "<IPython.core.display.Math object>"
            ],
            "text/latex": "$\\displaystyle \\frac{9}{4}$"
          },
          "metadata": {}
        }
      ]
    },
    {
      "cell_type": "markdown",
      "source": [
        "* (бонусное задание) Реализуйте оценивание операции возведения в рациональную степень, при условии, что соответствующие корни могут быть извлечены: `Z(8) ** Q(1, 3)` $\\to 2$, `Q(4, 9) ** Q(-3, 2)` $\\to \\frac{27}{8}$. **Но** `Z(4) ** Q(1, 3)` $\\to 4^{\\frac{1}{3}}$  - операция не может быть оценена."
      ],
      "metadata": {
        "id": "5VslmOjEMqZl"
      }
    },
    {
      "cell_type": "code",
      "source": [
        "def deg_integer_rational(a: tuple, b: tuple) -> tuple:\n",
        "  n = options(a)['value']\n",
        "  nb, mb = options(b)['num'], options(b)['denom']\n",
        "  if (n ** (nb / mb)).is_integer():\n",
        "    return integer_(int(n ** (nb / mb)))\n",
        "  else:\n",
        "    return deg_(a, b)\n",
        "\n",
        "def deg_rational_rational(a: tuple, b: tuple) -> tuple:\n",
        "  na, ma = options(a)['num'], options(a)['denom']\n",
        "  nb, mb = options(b)['num'], options(b)['denom']\n",
        "  n, m = na ** abs(nb / mb), ma ** abs(nb / mb)\n",
        "  if n.is_integer() and m.is_integer():\n",
        "    if (nb >= 0):\n",
        "      return rational_(int(n), int(m))\n",
        "    else:\n",
        "      return rational_(int(m), int(n))\n",
        "  else:\n",
        "    return  deg_(a, b)\n",
        "\n",
        "OPERATIONS['deg'] = OPERATIONS['deg'] + ['deg_integer_rational', 'deg_rational_rational']\n",
        "\n",
        "show(evaluate(Z(25) ** Q(3, 2)))"
      ],
      "metadata": {
        "id": "2rFh-xZSMu01",
        "colab": {
          "base_uri": "https://localhost:8080/",
          "height": 37
        },
        "outputId": "cff682fd-cce8-4f12-8ef3-92db96a8312d"
      },
      "execution_count": 122,
      "outputs": [
        {
          "output_type": "display_data",
          "data": {
            "text/plain": [
              "<IPython.core.display.Math object>"
            ],
            "text/latex": "$\\displaystyle 125$"
          },
          "metadata": {}
        }
      ]
    },
    {
      "cell_type": "markdown",
      "source": [
        "* (бонусное задание) Реализуйте по аналогичной схеме универсальный оцениватель унарных операций `eval_unary` и оцениватель операции `neg` (унарный минус) для целых и рациональных чисел.  "
      ],
      "metadata": {
        "id": "GFZNZlyJMxh3"
      }
    }
  ]
}